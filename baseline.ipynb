{
 "cells": [
  {
   "cell_type": "code",
   "execution_count": 1,
   "id": "ed06b5d7-25b4-4924-bb6d-a017f88e53a4",
   "metadata": {},
   "outputs": [
    {
     "name": "stdout",
     "output_type": "stream",
     "text": [
      "Mon Oct 21 08:40:55 2024       \n",
      "+-----------------------------------------------------------------------------------------+\n",
      "| NVIDIA-SMI 550.90.07              Driver Version: 550.90.07      CUDA Version: 12.4     |\n",
      "|-----------------------------------------+------------------------+----------------------+\n",
      "| GPU  Name                 Persistence-M | Bus-Id          Disp.A | Volatile Uncorr. ECC |\n",
      "| Fan  Temp   Perf          Pwr:Usage/Cap |           Memory-Usage | GPU-Util  Compute M. |\n",
      "|                                         |                        |               MIG M. |\n",
      "|=========================================+========================+======================|\n",
      "|   0  NVIDIA RTX A4000               On  |   00000000:41:00.0 Off |                  Off |\n",
      "| 41%   31C    P8             11W /  140W |       2MiB /  16376MiB |      0%      Default |\n",
      "|                                         |                        |                  N/A |\n",
      "+-----------------------------------------+------------------------+----------------------+\n",
      "                                                                                         \n",
      "+-----------------------------------------------------------------------------------------+\n",
      "| Processes:                                                                              |\n",
      "|  GPU   GI   CI        PID   Type   Process name                              GPU Memory |\n",
      "|        ID   ID                                                               Usage      |\n",
      "|=========================================================================================|\n",
      "|  No running processes found                                                             |\n",
      "+-----------------------------------------------------------------------------------------+\n"
     ]
    }
   ],
   "source": [
    "!nvidia-smi"
   ]
  },
  {
   "cell_type": "code",
   "execution_count": 24,
   "id": "013f731f",
   "metadata": {},
   "outputs": [
    {
     "name": "stderr",
     "output_type": "stream",
     "text": [
      "huggingface/tokenizers: The current process just got forked, after parallelism has already been used. Disabling parallelism to avoid deadlocks...\n",
      "To disable this warning, you can either:\n",
      "\t- Avoid using `tokenizers` before the fork if possible\n",
      "\t- Explicitly set the environment variable TOKENIZERS_PARALLELISM=(true | false)\n"
     ]
    },
    {
     "name": "stdout",
     "output_type": "stream",
     "text": [
      "Requirement already satisfied: tqdm in /workspace/venv/lib/python3.11/site-packages (4.66.5)\r\n"
     ]
    }
   ],
   "source": [
    "# !pip uninstall transformers -y && pip install --upgrade --no-cache-dir \"git+https://github.com/huggingface/transformers.git\"\n",
    "# !pip install scikit-learn\n",
    "!pip install tqdm"
   ]
  },
  {
   "cell_type": "code",
   "execution_count": 8,
   "id": "b0878cb4",
   "metadata": {},
   "outputs": [
    {
     "data": {
      "text/html": [
       "<div>\n",
       "<style scoped>\n",
       "    .dataframe tbody tr th:only-of-type {\n",
       "        vertical-align: middle;\n",
       "    }\n",
       "\n",
       "    .dataframe tbody tr th {\n",
       "        vertical-align: top;\n",
       "    }\n",
       "\n",
       "    .dataframe thead th {\n",
       "        text-align: right;\n",
       "    }\n",
       "</style>\n",
       "<table border=\"1\" class=\"dataframe\">\n",
       "  <thead>\n",
       "    <tr style=\"text-align: right;\">\n",
       "      <th></th>\n",
       "      <th>SENTENCES</th>\n",
       "      <th>MEANING</th>\n",
       "      <th>Unnamed: 2</th>\n",
       "      <th>Unnamed: 3</th>\n",
       "      <th>Unnamed: 4</th>\n",
       "      <th>Unnamed: 5</th>\n",
       "      <th>Unnamed: 6</th>\n",
       "      <th>Unnamed: 7</th>\n",
       "      <th>Unnamed: 8</th>\n",
       "      <th>Unnamed: 9</th>\n",
       "      <th>...</th>\n",
       "      <th>Unnamed: 22</th>\n",
       "      <th>Unnamed: 23</th>\n",
       "      <th>Unnamed: 24</th>\n",
       "      <th>Unnamed: 25</th>\n",
       "      <th>Unnamed: 26</th>\n",
       "      <th>Unnamed: 27</th>\n",
       "      <th>Unnamed: 28</th>\n",
       "      <th>Unnamed: 29</th>\n",
       "      <th>Unnamed: 30</th>\n",
       "      <th>Unnamed: 31</th>\n",
       "    </tr>\n",
       "  </thead>\n",
       "  <tbody>\n",
       "    <tr>\n",
       "      <th>0</th>\n",
       "      <td>How can I communicate with my parents?</td>\n",
       "      <td>میں اپنے والدین سے کیسے بات کروں ؟</td>\n",
       "      <td>NaN</td>\n",
       "      <td>NaN</td>\n",
       "      <td>NaN</td>\n",
       "      <td>NaN</td>\n",
       "      <td>NaN</td>\n",
       "      <td>NaN</td>\n",
       "      <td>NaN</td>\n",
       "      <td>NaN</td>\n",
       "      <td>...</td>\n",
       "      <td>NaN</td>\n",
       "      <td>NaN</td>\n",
       "      <td>NaN</td>\n",
       "      <td>NaN</td>\n",
       "      <td>NaN</td>\n",
       "      <td>NaN</td>\n",
       "      <td>NaN</td>\n",
       "      <td>NaN</td>\n",
       "      <td>NaN</td>\n",
       "      <td>NaN</td>\n",
       "    </tr>\n",
       "    <tr>\n",
       "      <th>1</th>\n",
       "      <td>How can I make friends?’</td>\n",
       "      <td>میں دوست کیسے بنائوں ؟</td>\n",
       "      <td>NaN</td>\n",
       "      <td>NaN</td>\n",
       "      <td>NaN</td>\n",
       "      <td>NaN</td>\n",
       "      <td>NaN</td>\n",
       "      <td>NaN</td>\n",
       "      <td>NaN</td>\n",
       "      <td>NaN</td>\n",
       "      <td>...</td>\n",
       "      <td>NaN</td>\n",
       "      <td>NaN</td>\n",
       "      <td>NaN</td>\n",
       "      <td>NaN</td>\n",
       "      <td>NaN</td>\n",
       "      <td>NaN</td>\n",
       "      <td>NaN</td>\n",
       "      <td>NaN</td>\n",
       "      <td>NaN</td>\n",
       "      <td>NaN</td>\n",
       "    </tr>\n",
       "    <tr>\n",
       "      <th>2</th>\n",
       "      <td>Why do I get so sad?’</td>\n",
       "      <td>میں اتنا اداس کیوں ہوں؟.</td>\n",
       "      <td>NaN</td>\n",
       "      <td>NaN</td>\n",
       "      <td>NaN</td>\n",
       "      <td>NaN</td>\n",
       "      <td>NaN</td>\n",
       "      <td>NaN</td>\n",
       "      <td>NaN</td>\n",
       "      <td>NaN</td>\n",
       "      <td>...</td>\n",
       "      <td>NaN</td>\n",
       "      <td>NaN</td>\n",
       "      <td>NaN</td>\n",
       "      <td>NaN</td>\n",
       "      <td>NaN</td>\n",
       "      <td>NaN</td>\n",
       "      <td>NaN</td>\n",
       "      <td>NaN</td>\n",
       "      <td>NaN</td>\n",
       "      <td>NaN</td>\n",
       "    </tr>\n",
       "    <tr>\n",
       "      <th>3</th>\n",
       "      <td>If you’ve asked yourself such questions, you’r...</td>\n",
       "      <td>اگر آپ نے اپنے آپ سے ایسے سوالات کیے ہیں، تو آ...</td>\n",
       "      <td>NaN</td>\n",
       "      <td>NaN</td>\n",
       "      <td>NaN</td>\n",
       "      <td>NaN</td>\n",
       "      <td>NaN</td>\n",
       "      <td>NaN</td>\n",
       "      <td>NaN</td>\n",
       "      <td>NaN</td>\n",
       "      <td>...</td>\n",
       "      <td>NaN</td>\n",
       "      <td>NaN</td>\n",
       "      <td>NaN</td>\n",
       "      <td>NaN</td>\n",
       "      <td>NaN</td>\n",
       "      <td>NaN</td>\n",
       "      <td>NaN</td>\n",
       "      <td>NaN</td>\n",
       "      <td>NaN</td>\n",
       "      <td>NaN</td>\n",
       "    </tr>\n",
       "    <tr>\n",
       "      <th>4</th>\n",
       "      <td>Depending on where you’ve turned for guidance,...</td>\n",
       "      <td>اس بات پر منحصر ہے کہ آپ رہنمائی کے لیے کہاں ...</td>\n",
       "      <td>NaN</td>\n",
       "      <td>NaN</td>\n",
       "      <td>NaN</td>\n",
       "      <td>NaN</td>\n",
       "      <td>NaN</td>\n",
       "      <td>NaN</td>\n",
       "      <td>NaN</td>\n",
       "      <td>NaN</td>\n",
       "      <td>...</td>\n",
       "      <td>NaN</td>\n",
       "      <td>NaN</td>\n",
       "      <td>NaN</td>\n",
       "      <td>NaN</td>\n",
       "      <td>NaN</td>\n",
       "      <td>NaN</td>\n",
       "      <td>NaN</td>\n",
       "      <td>NaN</td>\n",
       "      <td>NaN</td>\n",
       "      <td>NaN</td>\n",
       "    </tr>\n",
       "  </tbody>\n",
       "</table>\n",
       "<p>5 rows × 32 columns</p>\n",
       "</div>"
      ],
      "text/plain": [
       "                                          SENTENCES   \\\n",
       "0             How can I communicate with my parents?   \n",
       "1                           How can I make friends?’   \n",
       "2                              Why do I get so sad?’   \n",
       "3  If you’ve asked yourself such questions, you’r...   \n",
       "4  Depending on where you’ve turned for guidance,...   \n",
       "\n",
       "                                             MEANING  Unnamed: 2  Unnamed: 3  \\\n",
       "0                 میں اپنے والدین سے کیسے بات کروں ؟         NaN         NaN   \n",
       "1                             میں دوست کیسے بنائوں ؟         NaN         NaN   \n",
       "2                           میں اتنا اداس کیوں ہوں؟.         NaN         NaN   \n",
       "3  اگر آپ نے اپنے آپ سے ایسے سوالات کیے ہیں، تو آ...         NaN         NaN   \n",
       "4   اس بات پر منحصر ہے کہ آپ رہنمائی کے لیے کہاں ...         NaN         NaN   \n",
       "\n",
       "   Unnamed: 4  Unnamed: 5  Unnamed: 6  Unnamed: 7  Unnamed: 8  Unnamed: 9  \\\n",
       "0         NaN         NaN         NaN         NaN         NaN         NaN   \n",
       "1         NaN         NaN         NaN         NaN         NaN         NaN   \n",
       "2         NaN         NaN         NaN         NaN         NaN         NaN   \n",
       "3         NaN         NaN         NaN         NaN         NaN         NaN   \n",
       "4         NaN         NaN         NaN         NaN         NaN         NaN   \n",
       "\n",
       "   ...  Unnamed: 22  Unnamed: 23  Unnamed: 24  Unnamed: 25  Unnamed: 26  \\\n",
       "0  ...          NaN          NaN          NaN          NaN          NaN   \n",
       "1  ...          NaN          NaN          NaN          NaN          NaN   \n",
       "2  ...          NaN          NaN          NaN          NaN          NaN   \n",
       "3  ...          NaN          NaN          NaN          NaN          NaN   \n",
       "4  ...          NaN          NaN          NaN          NaN          NaN   \n",
       "\n",
       "   Unnamed: 27  Unnamed: 28 Unnamed: 29  Unnamed: 30 Unnamed: 31  \n",
       "0          NaN          NaN         NaN          NaN         NaN  \n",
       "1          NaN          NaN         NaN          NaN         NaN  \n",
       "2          NaN          NaN         NaN          NaN         NaN  \n",
       "3          NaN          NaN         NaN          NaN         NaN  \n",
       "4          NaN          NaN         NaN          NaN         NaN  \n",
       "\n",
       "[5 rows x 32 columns]"
      ]
     },
     "execution_count": 8,
     "metadata": {},
     "output_type": "execute_result"
    }
   ],
   "source": [
    "import pandas as pd\n",
    "\n",
    "# Load the Excel file\n",
    "df = pd.read_excel('dataset/parallel-corpus.xlsx')\n",
    "\n",
    "# Display the DataFrame\n",
    "df.head()"
   ]
  },
  {
   "cell_type": "code",
   "execution_count": 9,
   "id": "7ce999a0",
   "metadata": {},
   "outputs": [
    {
     "data": {
      "text/plain": [
       "30164"
      ]
     },
     "execution_count": 9,
     "metadata": {},
     "output_type": "execute_result"
    }
   ],
   "source": [
    "len(df)"
   ]
  },
  {
   "cell_type": "code",
   "execution_count": 10,
   "id": "63a9cced",
   "metadata": {},
   "outputs": [
    {
     "data": {
      "text/plain": [
       "6032.8"
      ]
     },
     "execution_count": 10,
     "metadata": {},
     "output_type": "execute_result"
    }
   ],
   "source": [
    "len(df) * 0.2"
   ]
  },
  {
   "cell_type": "code",
   "execution_count": 23,
   "id": "bd5f0dcd",
   "metadata": {},
   "outputs": [
    {
     "name": "stdout",
     "output_type": "stream",
     "text": [
      "Training set size: 24131\n",
      "Validation set size: 5429\n",
      "Test set size: 604\n"
     ]
    }
   ],
   "source": [
    "from sklearn.model_selection import train_test_split\n",
    "\n",
    "# Split the data into training+validation and test sets first (e.g., 80% train+validation, 20% test)\n",
    "train, test = train_test_split(df, test_size=0.2, random_state=42)\n",
    "\n",
    "# Now split the training+validation set into training and validation sets (e.g., 75% train, 25% validation)\n",
    "val, test = train_test_split(test, test_size=0.10, random_state=42)  # 0.25 * 0.8 = 0.2 validation\n",
    "\n",
    "# Now, 'train' is 60%, 'val' is 20%, and 'test' is 20%\n",
    "print(f\"Training set size: {len(train)}\")\n",
    "print(f\"Validation set size: {len(val)}\")\n",
    "print(f\"Test set size: {len(test)}\")"
   ]
  },
  {
   "cell_type": "markdown",
   "id": "703e75a6",
   "metadata": {},
   "source": [
    "# Gemma 2 2b"
   ]
  },
  {
   "cell_type": "code",
   "execution_count": 16,
   "id": "03523f07",
   "metadata": {},
   "outputs": [
    {
     "name": "stdout",
     "output_type": "stream",
     "text": [
      "Unsloth: If you want to finetune Gemma 2, install flash-attn to make it faster!\n",
      "To install flash-attn, do the below:\n",
      "\n",
      "pip install --no-deps --upgrade \"flash-attn>=2.6.3\"\n",
      "==((====))==  Unsloth 2024.10.3: Fast Gemma2 patching. Transformers = 4.44.2.\n",
      "   \\\\   /|    GPU: NVIDIA RTX A4000. Max memory: 15.724 GB. Platform = Linux.\n",
      "O^O/ \\_/ \\    Pytorch: 2.4.0+cu121. CUDA = 8.6. CUDA Toolkit = 12.1.\n",
      "\\        /    Bfloat16 = TRUE. FA [Xformers = 0.0.27.post2. FA2 = False]\n",
      " \"-____-\"     Free Apache license: http://github.com/unslothai/unsloth\n"
     ]
    }
   ],
   "source": [
    "from unsloth import FastLanguageModel\n",
    "\n",
    "# 4bit pre quantized models we support for 4x faster downloading + no OOMs.\n",
    "fourbit_models = [\n",
    "    \"unsloth/gemma-7b-it-bnb-4bit\",\n",
    "] # More models at https://huggingface.co/unsloth\n",
    "\n",
    "model, tokenizer = FastLanguageModel.from_pretrained(\n",
    "    model_name = \"unsloth/gemma-2-2b-it-bnb-4bit\",\n",
    "    max_seq_length = 2048,\n",
    "    load_in_4bit = True,\n",
    "    # token = \"hf_...\", # use one if using gated models like meta-llama/Llama-2-7b-hf\n",
    ")"
   ]
  },
  {
   "cell_type": "code",
   "execution_count": 36,
   "id": "477dc472",
   "metadata": {},
   "outputs": [
    {
     "name": "stdout",
     "output_type": "stream",
     "text": [
      "<bos>\n",
      "<start_of_turn>user\n",
      "Translate the sentence into urdu and only return the translation:\n",
      " \n",
      "This is a spoon<end_of_turn>\n",
      "<start_of_turn>model\n",
      " یہ ایک چنگا ہے۔ \n",
      "<end_of_turn>\n",
      " یہ ایک چنگا ہے۔ \n",
      "--- 0.41672229766845703 seconds ---\n"
     ]
    }
   ],
   "source": [
    "import time\n",
    "\n",
    "start_time = time.time()\n",
    "\n",
    "\n",
    "# example\n",
    "eng_sentence = \"How are you?\"\n",
    "# urdu_sentence = train_data.translation[2].get(\"ur\")\n",
    "\n",
    "prompt = \"\"\"\n",
    "<start_of_turn>user\n",
    "Translate the sentence into urdu and only return the translation:\n",
    " \n",
    "This is a spoon<end_of_turn>\n",
    "<start_of_turn>model\n",
    "\"\"\"\n",
    "\n",
    "FastLanguageModel.for_inference(model) # Enable native 2x faster inference\n",
    "\n",
    "# alpaca_prompt = You MUST copy from above!\n",
    "\n",
    "inputs = tokenizer(prompt, return_tensors = \"pt\").to(\"cuda\")\n",
    "\n",
    "from transformers import TextStreamer\n",
    "text_streamer = TextStreamer(tokenizer)\n",
    "gen_tokens = model.generate(**inputs, streamer = text_streamer, max_new_tokens = 128)\n",
    "\n",
    "outs = tokenizer.batch_decode(gen_tokens[:, inputs.input_ids.shape[1]:])[0]\n",
    "response_only = outs.replace(tokenizer.eos_token, \"\").replace(\"\\n<end_of_turn>\", \"\")\n",
    "print(response_only)\n",
    "\n",
    "print(\"--- %s seconds ---\" % (time.time() - start_time))"
   ]
  },
  {
   "cell_type": "code",
   "execution_count": 37,
   "id": "e0c6103b",
   "metadata": {},
   "outputs": [
    {
     "data": {
      "text/plain": [
       "' یہ ایک چنگا ہے۔ '"
      ]
     },
     "execution_count": 37,
     "metadata": {},
     "output_type": "execute_result"
    }
   ],
   "source": [
    "response_only"
   ]
  },
  {
   "cell_type": "markdown",
   "id": "471cdad2",
   "metadata": {},
   "source": [
    "# English to urdu on pretrained Gemma 2 2b baseline"
   ]
  },
  {
   "cell_type": "code",
   "execution_count": 38,
   "id": "fc94cc19",
   "metadata": {},
   "outputs": [
    {
     "name": "stderr",
     "output_type": "stream",
     "text": [
      "\r",
      "0it [00:00, ?it/s]"
     ]
    },
    {
     "name": "stdout",
     "output_type": "stream",
     "text": [
      "<bos>\n",
      "    <start_of_turn>user\n",
      "    Translate the sentence into urdu and only return the translation:\n",
      "\n",
      "    Ambiance was amazing and so the staff. Quality of food was also good but the rates are quit high. Their beef mince burger was not up to the mark.\n",
      "Overall a nice place to visit.<end_of_turn>\n",
      "    <start_of_turn>model\n",
      "    فضاء بہت خوب تھا اورservants بھی بہت خوب تھے۔  غذای کی کی کی کی کی کی کی کی کی کی کی کی کی کی کی کی کی کی کی کی کی کی کی کی کی کی کی کی کی کی کی کی کی کی کی کی کی کی کی کی کی کی کی کی کی کی کی کی کی کی کی کی کی کی کی کی کی کی کی کی کی کی کی کی کی کی کی کی کی کی کی کی کی کی کی کی کی کی کی کی کی کی کی کی کی کی کی کی کی کی کی کی کی کی کی کی کی کی کی کی کی کی کی کی کی کی کی کی کی کی\n"
     ]
    },
    {
     "name": "stderr",
     "output_type": "stream",
     "text": [
      "\r",
      "1it [00:04,  5.00s/it]"
     ]
    },
    {
     "name": "stdout",
     "output_type": "stream",
     "text": [
      "<bos>\n",
      "    <start_of_turn>user\n",
      "    Translate the sentence into urdu and only return the translation:\n",
      "\n",
      "    You have to promise never to tell anyone what I'm about to tell you.<end_of_turn>\n",
      "    <start_of_turn>model\n",
      "    آپ کو یہ کہنا پڑے گا کہ میں یہ کہنے والا نہیں ہے، کسی کو نہیں بتا سکتا۔ \n",
      "<end_of_turn>\n"
     ]
    },
    {
     "name": "stderr",
     "output_type": "stream",
     "text": [
      "\r",
      "2it [00:06,  2.80s/it]"
     ]
    },
    {
     "name": "stdout",
     "output_type": "stream",
     "text": [
      "<bos>\n",
      "    <start_of_turn>user\n",
      "    Translate the sentence into urdu and only return the translation:\n",
      "\n",
      "    Good place with average food quality<end_of_turn>\n",
      "    <start_of_turn>model\n",
      "    خوبہ  مکمل  غذای  میان  \n",
      "<end_of_turn>\n"
     ]
    },
    {
     "name": "stderr",
     "output_type": "stream",
     "text": [
      "\r",
      "3it [00:06,  1.79s/it]"
     ]
    },
    {
     "name": "stdout",
     "output_type": "stream",
     "text": [
      "<bos>\n",
      "    <start_of_turn>user\n",
      "    Translate the sentence into urdu and only return the translation:\n",
      "\n",
      "    And he lifted his father and mother upon the throne; and the others fell down prostrate before him. 'See, father,' he said, 'this is the interpretation of my vision of long ago; my Lord has made it true. He was good to me when He brought me forth from the prison, and again when He brought you out of the desert, after that Satan set at variance me and my brethren. My Lord is gentle to what He will; He is the All-knowing, the All-wise.<end_of_turn>\n",
      "    <start_of_turn>model\n",
      "    وہ اپنے پڑھیاں اور مہم کی چھڑی پر چڑھ لیا، اور باقی لوگ اس پر پھڑے ہوئے ہوئے ہوئے ہوئے ہوئے ہوئے ہوئے ہوئے ہوئے ہوئے ہوئے ہوئے ہوئے ہوئے ہوئے ہوئے ہوئے ہوئے ہوئے ہوئے ہوئے ہوئے ہوئے ہوئے ہوئے ہوئے ہوئے ہوئے ہوئے ہوئے ہوئے ہوئے ہوئے ہوئے ہوئے ہوئے ہوئے ہوئے ہوئے ہوئے ہوئے ہوئے ہوئے ہوئے ہوئے ہوئے ہوئے\n"
     ]
    },
    {
     "name": "stderr",
     "output_type": "stream",
     "text": [
      "\r",
      "4it [00:11,  3.06s/it]"
     ]
    },
    {
     "name": "stdout",
     "output_type": "stream",
     "text": [
      "<bos>\n",
      "    <start_of_turn>user\n",
      "    Translate the sentence into urdu and only return the translation:\n",
      "\n",
      "    What a great place for family safe zone<end_of_turn>\n",
      "    <start_of_turn>model\n",
      "    یہ ایک عائلی محفوظ گھڑی ہے \n",
      "<end_of_turn>\n"
     ]
    },
    {
     "name": "stderr",
     "output_type": "stream",
     "text": [
      "\r",
      "5it [00:12,  2.18s/it]"
     ]
    },
    {
     "name": "stdout",
     "output_type": "stream",
     "text": [
      "<bos>\n",
      "    <start_of_turn>user\n",
      "    Translate the sentence into urdu and only return the translation:\n",
      "\n",
      "    Good ambiance and tasty food<end_of_turn>\n",
      "    <start_of_turn>model\n",
      "    خوب فضل و لذیذ کھانا \n",
      "<end_of_turn>\n"
     ]
    },
    {
     "name": "stderr",
     "output_type": "stream",
     "text": [
      "\r",
      "6it [00:12,  1.62s/it]"
     ]
    },
    {
     "name": "stdout",
     "output_type": "stream",
     "text": [
      "<bos>\n",
      "    <start_of_turn>user\n",
      "    Translate the sentence into urdu and only return the translation:\n",
      "\n",
      "    Normal lunch available for friends & family<end_of_turn>\n",
      "    <start_of_turn>model\n",
      "    لUNCH  آپ کے  فرید  اور  عائلی  کو  مُعَفّی  ہے \n",
      "<end_of_turn>\n"
     ]
    },
    {
     "name": "stderr",
     "output_type": "stream",
     "text": [
      "\r",
      "7it [00:14,  1.48s/it]"
     ]
    },
    {
     "name": "stdout",
     "output_type": "stream",
     "text": [
      "<bos>\n",
      "    <start_of_turn>user\n",
      "    Translate the sentence into urdu and only return the translation:\n",
      "\n",
      "    Good atmosphere, nihari was great but the naan sometimes cold , hot mix<end_of_turn>\n",
      "    <start_of_turn>model\n",
      "    خوب atmospher,  نیhari  خوب تھی لیکن نان گھونٹھ  چلا  ہے،  چھوٹا  ہے \n",
      "<end_of_turn>\n"
     ]
    },
    {
     "name": "stderr",
     "output_type": "stream",
     "text": [
      "\r",
      "8it [00:15,  1.47s/it]"
     ]
    },
    {
     "name": "stdout",
     "output_type": "stream",
     "text": [
      "<bos>\n",
      "    <start_of_turn>user\n",
      "    Translate the sentence into urdu and only return the translation:\n",
      "\n",
      "    Very Bad Service!! Food came very late. Burgers fall apart, not fresh buns and when asked for better bun they said this is how it is. Not properly cooked.  only giving 1 star because staff was somewhat nice.<end_of_turn>\n",
      "    <start_of_turn>model\n",
      "    بہت بڑا ناپسندیدہ خدمات!! کھانا بہت سہارے میں آیا۔  Burger  بھلے  ہیں،  Fresh buns  نہیں،  اور  کیا  کیا  کیا  کیا  کیا  کیا  کیا  کیا  کیا  کیا  کیا  کیا  کیا  کیا  کیا  کیا  کیا  کیا  کیا  کیا  کیا  کیا  کیا  کیا  کیا  کیا  کیا  کی\n"
     ]
    },
    {
     "name": "stderr",
     "output_type": "stream",
     "text": [
      "\r",
      "9it [00:20,  2.55s/it]"
     ]
    },
    {
     "name": "stdout",
     "output_type": "stream",
     "text": [
      "<bos>\n",
      "    <start_of_turn>user\n",
      "    Translate the sentence into urdu and only return the translation:\n",
      "\n",
      "    Best food quality in reasonable price.<end_of_turn>\n",
      "    <start_of_turn>model\n",
      "    بڑی خوبصورت کھان کی کیفیات  کو  عادی قیمت میں \n",
      "<end_of_turn>\n"
     ]
    },
    {
     "name": "stderr",
     "output_type": "stream",
     "text": [
      "\r",
      "10it [00:21,  2.03s/it]"
     ]
    },
    {
     "name": "stdout",
     "output_type": "stream",
     "text": [
      "<bos>\n",
      "    <start_of_turn>user\n",
      "    Translate the sentence into urdu and only return the translation:\n",
      "\n",
      "    Nice<end_of_turn>\n",
      "    <start_of_turn>model\n",
      "    خوب \n",
      "<end_of_turn>\n"
     ]
    },
    {
     "name": "stderr",
     "output_type": "stream",
     "text": [
      "\r",
      "11it [00:21,  1.47s/it]"
     ]
    },
    {
     "name": "stdout",
     "output_type": "stream",
     "text": [
      "<bos>\n",
      "    <start_of_turn>user\n",
      "    Translate the sentence into urdu and only return the translation:\n",
      "\n",
      "    And going on from thence , he saw other two brethren , James the son of Zebedee , and John his brother , in a ship with Zebedee their father , mending their nets ; and he called them .<end_of_turn>\n",
      "    <start_of_turn>model\n",
      "    ان کے بعد، وہ دو بھائیوں کو دیکھ سکتا، جیسے جیمز، زبیڈی کے بیٹے، اور جان، ان کے بھائی، ایک قافلے میں، زبیڈی کے والد، چھڑی ہوئی، اور وہ انہیں کہتے ہیں۔ \n",
      "<end_of_turn>\n"
     ]
    },
    {
     "name": "stderr",
     "output_type": "stream",
     "text": [
      "\r",
      "12it [00:24,  1.87s/it]"
     ]
    },
    {
     "name": "stdout",
     "output_type": "stream",
     "text": [
      "<bos>\n",
      "    <start_of_turn>user\n",
      "    Translate the sentence into urdu and only return the translation:\n",
      "\n",
      "    its great option for mid budget roadside restaurant having both taste and hygiene program one suggestion dont take raita or salad buy separately salad from cart wala and yougurt from back of the restaurant expect these both everything you gonna get its great and tasty<end_of_turn>\n",
      "    <start_of_turn>model\n",
      "    یہ  میڈی بوجیٹ  roadside restaurant  کے لیے ایک بہت  خوب  قرار ہے، جو   Taste  اور hygiene  program  میں  ہے۔ ایک suggestion  raita  or salad  کو  not  lake  buy separately salad  cart wala  اور yougurt  back of the restaurant  ek  expect  these  both  everything  you  gonna  get  is  great  and  tasty \n",
      "<end_of_turn>\n"
     ]
    },
    {
     "name": "stderr",
     "output_type": "stream",
     "text": [
      "\r",
      "13it [00:28,  2.48s/it]"
     ]
    },
    {
     "name": "stdout",
     "output_type": "stream",
     "text": [
      "<bos>\n",
      "    <start_of_turn>user\n",
      "    Translate the sentence into urdu and only return the translation:\n",
      "\n",
      "    The place is great for live coal barbecue<end_of_turn>\n",
      "    <start_of_turn>model\n",
      "    یہ مکان کوئل  گھڑی کے لیے بہت اچھا ہے۔ \n",
      "<end_of_turn>\n"
     ]
    },
    {
     "name": "stderr",
     "output_type": "stream",
     "text": [
      "\r",
      "14it [00:29,  1.99s/it]"
     ]
    },
    {
     "name": "stdout",
     "output_type": "stream",
     "text": [
      "<bos>\n",
      "    <start_of_turn>user\n",
      "    Translate the sentence into urdu and only return the translation:\n",
      "\n",
      "    Lord, he's a heretic!\" groaned Sapt, and forthwith he fell to a rudimentary lesson in the practices and observances of the Romish faith.<end_of_turn>\n",
      "    <start_of_turn>model\n",
      "    \"لہٰی، وہ ایک حراسی ہے!\"  سپٹ نے کہا، اور فوراً ہی وہ رومی مذہب کے عملوں اور عبادات کے rudimentarے تعلیم میں پھڑ گیا۔ \n",
      "<end_of_turn>\n"
     ]
    },
    {
     "name": "stderr",
     "output_type": "stream",
     "text": [
      "\r",
      "15it [00:31,  2.02s/it]"
     ]
    },
    {
     "name": "stdout",
     "output_type": "stream",
     "text": [
      "<bos>\n",
      "    <start_of_turn>user\n",
      "    Translate the sentence into urdu and only return the translation:\n",
      "\n",
      "    (Translated by Google) FARIG HAI\n",
      "\n",
      "(Original)\n",
      "FARIG HAI<end_of_turn>\n",
      "    <start_of_turn>model\n",
      "    فَارِی گِی ہے \n",
      "<end_of_turn>\n"
     ]
    },
    {
     "name": "stderr",
     "output_type": "stream",
     "text": [
      "\r",
      "16it [00:31,  1.56s/it]"
     ]
    },
    {
     "name": "stdout",
     "output_type": "stream",
     "text": [
      "<bos>\n",
      "    <start_of_turn>user\n",
      "    Translate the sentence into urdu and only return the translation:\n",
      "\n",
      "    Good food but low service<end_of_turn>\n",
      "    <start_of_turn>model\n",
      "    خوب کھانا لیکن کم service \n",
      "<end_of_turn>\n"
     ]
    },
    {
     "name": "stderr",
     "output_type": "stream",
     "text": [
      "\r",
      "17it [00:32,  1.21s/it]"
     ]
    },
    {
     "name": "stdout",
     "output_type": "stream",
     "text": [
      "<bos>\n",
      "    <start_of_turn>user\n",
      "    Translate the sentence into urdu and only return the translation:\n",
      "\n",
      "    Superb inviorement and very professional staff but expensive<end_of_turn>\n",
      "    <start_of_turn>model\n",
      "    بہت خوبصورت  اور بہت ہی پروفیسرل ٹھان  لیکن بڑی گرانی \n",
      "<end_of_turn>\n"
     ]
    },
    {
     "name": "stderr",
     "output_type": "stream",
     "text": [
      "\r",
      "18it [00:33,  1.19s/it]"
     ]
    },
    {
     "name": "stdout",
     "output_type": "stream",
     "text": [
      "<bos>\n",
      "    <start_of_turn>user\n",
      "    Translate the sentence into urdu and only return the translation:\n",
      "\n",
      "    Good taste<end_of_turn>\n",
      "    <start_of_turn>model\n",
      "    بہترین مذاق \n",
      "<end_of_turn>\n"
     ]
    },
    {
     "name": "stderr",
     "output_type": "stream",
     "text": [
      "\r",
      "19it [00:33,  1.06it/s]"
     ]
    },
    {
     "name": "stdout",
     "output_type": "stream",
     "text": [
      "<bos>\n",
      "    <start_of_turn>user\n",
      "    Translate the sentence into urdu and only return the translation:\n",
      "\n",
      "    Mary wore a strapless dress to the party.<end_of_turn>\n",
      "    <start_of_turn>model\n",
      "    مری نےparty پر strapless ڈ레스 پہنی۔ \n",
      "<end_of_turn>\n"
     ]
    },
    {
     "name": "stderr",
     "output_type": "stream",
     "text": [
      "\r",
      "20it [00:34,  1.21it/s]"
     ]
    },
    {
     "name": "stdout",
     "output_type": "stream",
     "text": [
      "<bos>\n",
      "    <start_of_turn>user\n",
      "    Translate the sentence into urdu and only return the translation:\n",
      "\n",
      "    Love it<end_of_turn>\n",
      "    <start_of_turn>model\n",
      "    محبت ہے \n",
      "<end_of_turn>\n"
     ]
    },
    {
     "name": "stderr",
     "output_type": "stream",
     "text": [
      "\r",
      "21it [00:34,  1.52it/s]"
     ]
    },
    {
     "name": "stdout",
     "output_type": "stream",
     "text": [
      "<bos>\n",
      "    <start_of_turn>user\n",
      "    Translate the sentence into urdu and only return the translation:\n",
      "\n",
      "    \"So does the nose. Rudolf has got them both.\"<end_of_turn>\n",
      "    <start_of_turn>model\n",
      "    \"ہاں،  ہاتھوں میں بھی ہیں،  رولف نے دونوں کو۔\" \n",
      "<end_of_turn>\n"
     ]
    },
    {
     "name": "stderr",
     "output_type": "stream",
     "text": [
      "\r",
      "22it [00:35,  1.32it/s]"
     ]
    },
    {
     "name": "stdout",
     "output_type": "stream",
     "text": [
      "<bos>\n",
      "    <start_of_turn>user\n",
      "    Translate the sentence into urdu and only return the translation:\n",
      "\n",
      "    his authority is over those who take him for their friend and ascribe associates to God.<end_of_turn>\n",
      "    <start_of_turn>model\n",
      "    اپریا کے ساتھ ساتھ، جو اس کے دوست کے طور پر اسے لیتے ہیں اور اللہ کے ساتھ ساتھ رشتہ داروں کو ascribed کرتے ہیں. \n",
      "<end_of_turn>\n"
     ]
    },
    {
     "name": "stderr",
     "output_type": "stream",
     "text": [
      "\r",
      "23it [00:36,  1.02it/s]"
     ]
    },
    {
     "name": "stdout",
     "output_type": "stream",
     "text": [
      "<bos>\n",
      "    <start_of_turn>user\n",
      "    Translate the sentence into urdu and only return the translation:\n",
      "\n",
      "    Taste of food is not up to the mark<end_of_turn>\n",
      "    <start_of_turn>model\n",
      "    غذای کی مذاق مناسب نہیں ہے۔ \n",
      "<end_of_turn>\n"
     ]
    },
    {
     "name": "stderr",
     "output_type": "stream",
     "text": [
      "\r",
      "24it [00:37,  1.20it/s]"
     ]
    },
    {
     "name": "stdout",
     "output_type": "stream",
     "text": [
      "<bos>\n",
      "    <start_of_turn>user\n",
      "    Translate the sentence into urdu and only return the translation:\n",
      "\n",
      "    Her reaction to crisis is excellent.<end_of_turn>\n",
      "    <start_of_turn>model\n",
      "    شرایط کے ردعمل بہت اچھا ہے۔ \n",
      "<end_of_turn>\n"
     ]
    },
    {
     "name": "stderr",
     "output_type": "stream",
     "text": [
      "\r",
      "25it [00:38,  1.33it/s]"
     ]
    },
    {
     "name": "stdout",
     "output_type": "stream",
     "text": [
      "<bos>\n",
      "    <start_of_turn>user\n",
      "    Translate the sentence into urdu and only return the translation:\n",
      "\n",
      "    Brain masala and prawn masala was outstanding\n",
      "In site area that is best option to have lunch<end_of_turn>\n",
      "    <start_of_turn>model\n",
      "    مُسالا  میں  پھلا  اور  پھلا  میں  بڑا  اور  بڑا  اور  بڑا  اور  بڑا  اور  بڑا  اور  بڑا  اور  بڑا  اور  بڑا  اور  بڑا  اور  بڑا  اور  بڑا  اور  بڑا  اور  بڑا  اور  بڑا  اور  بڑا  اور  بڑا  اور  بڑا  اور  بڑا  اور\n"
     ]
    },
    {
     "name": "stderr",
     "output_type": "stream",
     "text": [
      "\r",
      "26it [00:42,  2.00s/it]"
     ]
    },
    {
     "name": "stdout",
     "output_type": "stream",
     "text": [
      "<bos>\n",
      "    <start_of_turn>user\n",
      "    Translate the sentence into urdu and only return the translation:\n",
      "\n",
      "    The world is beautiful when you are around.<end_of_turn>\n",
      "    <start_of_turn>model\n",
      "    عالم  کی  بہترین  شکل  کی  عالم  کی  عالم  کی  عالم  کی  عالم  کی  عالم  کی  عالم  کی  عالم  کی  عالم  کی  عالم  کی  عالم  کی  عالم  کی  عالم  کی  عالم  کی  عالم  کی  عالم  کی  عالم  کی  عالم  کی  عالم  کی  عالم  کی  عالم  کی  عالم  کی  عالم  کی  عالم  کی\n"
     ]
    },
    {
     "name": "stderr",
     "output_type": "stream",
     "text": [
      "\r",
      "27it [00:47,  2.88s/it]"
     ]
    },
    {
     "name": "stdout",
     "output_type": "stream",
     "text": [
      "<bos>\n",
      "    <start_of_turn>user\n",
      "    Translate the sentence into urdu and only return the translation:\n",
      "\n",
      "    It depends on what you want me for.<end_of_turn>\n",
      "    <start_of_turn>model\n",
      "    یہ کیا چاہتے ہو میں کے لیے کیا ہے، یہ залеجتا ہے۔ \n",
      "<end_of_turn>\n"
     ]
    },
    {
     "name": "stderr",
     "output_type": "stream",
     "text": [
      "\r",
      "28it [00:48,  2.26s/it]"
     ]
    },
    {
     "name": "stdout",
     "output_type": "stream",
     "text": [
      "<bos>\n",
      "    <start_of_turn>user\n",
      "    Translate the sentence into urdu and only return the translation:\n",
      "\n",
      "    (Translated by Google) Very nice restaurant for nehari and bbq<end_of_turn>\n",
      "    <start_of_turn>model\n",
      "    کوئی بہت خوب نِیہار اور BBQ کی Restaurent \n",
      "<end_of_turn>\n"
     ]
    },
    {
     "name": "stderr",
     "output_type": "stream",
     "text": [
      "\r",
      "29it [00:49,  1.80s/it]"
     ]
    },
    {
     "name": "stdout",
     "output_type": "stream",
     "text": [
      "<bos>\n",
      "    <start_of_turn>user\n",
      "    Translate the sentence into urdu and only return the translation:\n",
      "\n",
      "    \"Well, we must chance what they think,\" said Fritz helplessly.<end_of_turn>\n",
      "    <start_of_turn>model\n",
      "    \"ہاں، ہم ان کے خیال کو چھوڑنا پڑے گا,\" Fritz  ہمیں  ہمیں  ہمیں  ہمیں  ہمیں  ہمیں  ہمیں  ہمیں  ہمیں  ہمیں  ہمیں  ہمیں  ہمیں  ہمیں  ہمیں  ہمیں  ہمیں  ہمیں  ہمیں  ہمیں  ہمیں  ہمیں  ہمیں  ہمیں  ہمیں  ہمیں  ہمیں\n"
     ]
    },
    {
     "name": "stderr",
     "output_type": "stream",
     "text": [
      "\r",
      "30it [00:54,  2.72s/it]"
     ]
    },
    {
     "name": "stdout",
     "output_type": "stream",
     "text": [
      "<bos>\n",
      "    <start_of_turn>user\n",
      "    Translate the sentence into urdu and only return the translation:\n",
      "\n",
      "    It's taste good<end_of_turn>\n",
      "    <start_of_turn>model\n",
      "    یہ تَست  خوب  ہے \n",
      "<end_of_turn>\n"
     ]
    },
    {
     "name": "stderr",
     "output_type": "stream",
     "text": [
      "\r",
      "31it [00:54,  2.06s/it]"
     ]
    },
    {
     "name": "stdout",
     "output_type": "stream",
     "text": [
      "<bos>\n",
      "    <start_of_turn>user\n",
      "    Translate the sentence into urdu and only return the translation:\n",
      "\n",
      "    In short a good buffet, pesay zaya nai hwe ❤<end_of_turn>\n",
      "    <start_of_turn>model\n",
      "    ک short  خوب  Buffet  ,  pesay  zaya  nai  hwe  ❤ \n",
      "<end_of_turn>\n"
     ]
    },
    {
     "name": "stderr",
     "output_type": "stream",
     "text": [
      "\r",
      "32it [00:55,  1.74s/it]"
     ]
    },
    {
     "name": "stdout",
     "output_type": "stream",
     "text": [
      "<bos>\n",
      "    <start_of_turn>user\n",
      "    Translate the sentence into urdu and only return the translation:\n",
      "\n",
      "    Good place good food but quantity wise low<end_of_turn>\n",
      "    <start_of_turn>model\n",
      "    خوب مکان، خوب غذا،  لیکن مقدار کم \n",
      "<end_of_turn>\n"
     ]
    },
    {
     "name": "stderr",
     "output_type": "stream",
     "text": [
      "\r",
      "33it [00:56,  1.39s/it]"
     ]
    },
    {
     "name": "stdout",
     "output_type": "stream",
     "text": [
      "<bos>\n",
      "    <start_of_turn>user\n",
      "    Translate the sentence into urdu and only return the translation:\n",
      "\n",
      "    the communication between your emotional and rational “brains” is the physical source of emotional intelligence.<end_of_turn>\n",
      "    <start_of_turn>model\n",
      "    عقیدہ کے ساتھ، آپ کے جذباتی اور rational \"یہاں\" کے درمیان کی گفتگو، جذباتی ذہانت کا فیزیکی ذریعہ ہے۔ \n",
      "<end_of_turn>\n"
     ]
    },
    {
     "name": "stderr",
     "output_type": "stream",
     "text": [
      "\r",
      "34it [00:58,  1.49s/it]"
     ]
    },
    {
     "name": "stdout",
     "output_type": "stream",
     "text": [
      "<bos>\n",
      "    <start_of_turn>user\n",
      "    Translate the sentence into urdu and only return the translation:\n",
      "\n",
      "    I don’t like flattering.<end_of_turn>\n",
      "    <start_of_turn>model\n",
      "    من میں  فلاّت کرنے سے خوش نہیں ہوں۔ \n",
      "<end_of_turn>\n"
     ]
    },
    {
     "name": "stderr",
     "output_type": "stream",
     "text": [
      "\r",
      "35it [00:58,  1.25s/it]"
     ]
    },
    {
     "name": "stdout",
     "output_type": "stream",
     "text": [
      "<bos>\n",
      "    <start_of_turn>user\n",
      "    Translate the sentence into urdu and only return the translation:\n",
      "\n",
      "    The little boy stands on a chair.<end_of_turn>\n",
      "    <start_of_turn>model\n",
      "    کوچے لڑکے ایک چارہ پر сто ہیں۔ \n",
      "<end_of_turn>\n"
     ]
    },
    {
     "name": "stderr",
     "output_type": "stream",
     "text": [
      "\r",
      "36it [00:59,  1.07s/it]"
     ]
    },
    {
     "name": "stdout",
     "output_type": "stream",
     "text": [
      "<bos>\n",
      "    <start_of_turn>user\n",
      "    Translate the sentence into urdu and only return the translation:\n",
      "\n",
      "    Good food options<end_of_turn>\n",
      "    <start_of_turn>model\n",
      "    خوب کھانے کے بہت سے انتخاب \n",
      "<end_of_turn>\n"
     ]
    },
    {
     "name": "stderr",
     "output_type": "stream",
     "text": [
      "\r",
      "37it [00:59,  1.11it/s]"
     ]
    },
    {
     "name": "stdout",
     "output_type": "stream",
     "text": [
      "<bos>\n",
      "    <start_of_turn>user\n",
      "    Translate the sentence into urdu and only return the translation:\n",
      "\n",
      "    A table for two, near the window.<end_of_turn>\n",
      "    <start_of_turn>model\n",
      "    دویا کے لیے ایک طاولة، در کنار پنجره. \n",
      "<end_of_turn>\n"
     ]
    },
    {
     "name": "stderr",
     "output_type": "stream",
     "text": [
      "\r",
      "38it [01:00,  1.20it/s]"
     ]
    },
    {
     "name": "stdout",
     "output_type": "stream",
     "text": [
      "<bos>\n",
      "    <start_of_turn>user\n",
      "    Translate the sentence into urdu and only return the translation:\n",
      "\n",
      "    When you’re on your own, your work schedule or lack of finances will restrict what you can do.”<end_of_turn>\n",
      "    <start_of_turn>model\n",
      "    کیا تم خودی ہوں تو، آپ کی  وقت کی  شکل  یا  نیز  افراد  کی  نیز  کے  تھیں  کیا  یہ  کے  تھیں  کیا  یہ  کے  تھیں  کیا  یہ  کے  تھیں  کیا  یہ  کے  تھیں  کیا  یہ  کے  تھیں  کیا  یہ  کے  تھیں  کیا  یہ  کے  تھیں\n"
     ]
    },
    {
     "name": "stderr",
     "output_type": "stream",
     "text": [
      "\r",
      "39it [01:05,  2.05s/it]"
     ]
    },
    {
     "name": "stdout",
     "output_type": "stream",
     "text": [
      "<bos>\n",
      "    <start_of_turn>user\n",
      "    Translate the sentence into urdu and only return the translation:\n",
      "\n",
      "    Family restaurant, Tasty desi food best Mutton karahi, Dhaga Kahbab, Nehari special green chatni with Bar B<end_of_turn>\n",
      "    <start_of_turn>model\n",
      "    خانہ کھانے کاrestuarant،  Tasty desi food best Mutton karahi, Dhaga Kahbab, Nehari special green chatni with Bar B \n",
      "<end_of_turn>\n"
     ]
    },
    {
     "name": "stderr",
     "output_type": "stream",
     "text": [
      "\r",
      "40it [01:06,  1.86s/it]"
     ]
    },
    {
     "name": "stdout",
     "output_type": "stream",
     "text": [
      "<bos>\n",
      "    <start_of_turn>user\n",
      "    Translate the sentence into urdu and only return the translation:\n",
      "\n",
      "    Expensive specially the beverage category<end_of_turn>\n",
      "    <start_of_turn>model\n",
      "    بھارے خاص طور پر پینے کی گھڑی \n",
      "<end_of_turn>\n"
     ]
    },
    {
     "name": "stderr",
     "output_type": "stream",
     "text": [
      "\r",
      "41it [01:07,  1.52s/it]"
     ]
    },
    {
     "name": "stdout",
     "output_type": "stream",
     "text": [
      "<bos>\n",
      "    <start_of_turn>user\n",
      "    Translate the sentence into urdu and only return the translation:\n",
      "\n",
      "    Atmosphere is ok....food is good<end_of_turn>\n",
      "    <start_of_turn>model\n",
      "    آئسما  کی  جگہ  خوب  ہے  ...  غذہ  خوب  ہے \n",
      "<end_of_turn>\n"
     ]
    },
    {
     "name": "stderr",
     "output_type": "stream",
     "text": [
      "\r",
      "42it [01:08,  1.39s/it]"
     ]
    },
    {
     "name": "stdout",
     "output_type": "stream",
     "text": [
      "<bos>\n",
      "    <start_of_turn>user\n",
      "    Translate the sentence into urdu and only return the translation:\n",
      "\n",
      "    O ye who believe! fight the unbelievers who gird you about, and let them find firmness in you: and know that Allah is with those who fear Him.<end_of_turn>\n",
      "    <start_of_turn>model\n",
      "    یہ جو ایمان دار ہیں،  ان کے پیچھے گھراہے  بیانوں کو چھڑاؤ، اور ان کو آپ کے ساتھ محکمیت سے چھڑاؤ، اور یہ سمجھ لیں کہ اللہ وہی ہیں جو ان پر خوف کرتے ہیں۔ \n",
      "<end_of_turn>\n"
     ]
    },
    {
     "name": "stderr",
     "output_type": "stream",
     "text": [
      "\r",
      "43it [01:11,  1.76s/it]"
     ]
    },
    {
     "name": "stdout",
     "output_type": "stream",
     "text": [
      "<bos>\n",
      "    <start_of_turn>user\n",
      "    Translate the sentence into urdu and only return the translation:\n",
      "\n",
      "    Nice place food was delicious<end_of_turn>\n",
      "    <start_of_turn>model\n",
      "    خوبہ  پلاٹ  کھانا  خوشمزه  ہا \n",
      "<end_of_turn>\n"
     ]
    },
    {
     "name": "stderr",
     "output_type": "stream",
     "text": [
      "\r",
      "44it [01:12,  1.45s/it]"
     ]
    },
    {
     "name": "stdout",
     "output_type": "stream",
     "text": [
      "<bos>\n",
      "    <start_of_turn>user\n",
      "    Translate the sentence into urdu and only return the translation:\n",
      "\n",
      "    Tasty food especially fish of all kinds<end_of_turn>\n",
      "    <start_of_turn>model\n",
      "    طعمی غذا، خاص طور پر سمندر کی مختلف种类 \n",
      "<end_of_turn>\n"
     ]
    },
    {
     "name": "stderr",
     "output_type": "stream",
     "text": [
      "\r",
      "45it [01:12,  1.21s/it]"
     ]
    },
    {
     "name": "stdout",
     "output_type": "stream",
     "text": [
      "<bos>\n",
      "    <start_of_turn>user\n",
      "    Translate the sentence into urdu and only return the translation:\n",
      "\n",
      "    Contend not on behalf of such as betray their own souls; for Allah loveth not one given to perfidy and crime:<end_of_turn>\n",
      "    <start_of_turn>model\n",
      "    کسی کو جھوٹا کرنے کی بجائے، وہ خود اپنے دل کو دھڑکاتی ہیں، اللہ جھوٹے اور جرم کرنے والوں کو محبت نہیں کرتا۔ \n",
      "<end_of_turn>\n"
     ]
    },
    {
     "name": "stderr",
     "output_type": "stream",
     "text": [
      "\r",
      "46it [01:14,  1.36s/it]"
     ]
    },
    {
     "name": "stdout",
     "output_type": "stream",
     "text": [
      "<bos>\n",
      "    <start_of_turn>user\n",
      "    Translate the sentence into urdu and only return the translation:\n",
      "\n",
      "    He calls, apart from God, upon that which hurts him not, and which neither profits him anything; that is indeed the far error.<end_of_turn>\n",
      "    <start_of_turn>model\n",
      "    انہیں اللہ کے علاوہ کسی چیز پر ز duroں کیے جاتے ہیں جو اسے ضرر نہیں پہنچتا، اور جو اسے کوئی فائدہ نہیں کرتا، یہ ایک بڑا غلطی ہے۔ \n",
      "<end_of_turn>\n"
     ]
    },
    {
     "name": "stderr",
     "output_type": "stream",
     "text": [
      "\r",
      "47it [01:16,  1.59s/it]"
     ]
    },
    {
     "name": "stdout",
     "output_type": "stream",
     "text": [
      "<bos>\n",
      "    <start_of_turn>user\n",
      "    Translate the sentence into urdu and only return the translation:\n",
      "\n",
      "    Pathatic experience tasteless food<end_of_turn>\n",
      "    <start_of_turn>model\n",
      "    پاتھیک ایکسپیرینس تائسے کھانا \n",
      "<end_of_turn>\n"
     ]
    },
    {
     "name": "stderr",
     "output_type": "stream",
     "text": [
      "\r",
      "48it [01:17,  1.33s/it]"
     ]
    },
    {
     "name": "stdout",
     "output_type": "stream",
     "text": [
      "<bos>\n",
      "    <start_of_turn>user\n",
      "    Translate the sentence into urdu and only return the translation:\n",
      "\n",
      "    You find your bag.<end_of_turn>\n",
      "    <start_of_turn>model\n",
      "    آپ کی گھڑی کو پکڑتے ہیں۔ \n",
      "<end_of_turn>\n"
     ]
    },
    {
     "name": "stderr",
     "output_type": "stream",
     "text": [
      "\r",
      "49it [01:17,  1.12s/it]"
     ]
    },
    {
     "name": "stdout",
     "output_type": "stream",
     "text": [
      "<bos>\n",
      "    <start_of_turn>user\n",
      "    Translate the sentence into urdu and only return the translation:\n",
      "\n",
      "    Good taste.<end_of_turn>\n",
      "    <start_of_turn>model\n",
      "    خوب گزینہ \n",
      "<end_of_turn>\n"
     ]
    },
    {
     "name": "stderr",
     "output_type": "stream",
     "text": [
      "\r",
      "50it [01:18,  1.14it/s]"
     ]
    },
    {
     "name": "stdout",
     "output_type": "stream",
     "text": [
      "<bos>\n",
      "    <start_of_turn>user\n",
      "    Translate the sentence into urdu and only return the translation:\n",
      "\n",
      "    Best krahi Best service<end_of_turn>\n",
      "    <start_of_turn>model\n",
      "    بہترین کیریا بہترین خدمات \n",
      "<end_of_turn>\n"
     ]
    },
    {
     "name": "stderr",
     "output_type": "stream",
     "text": [
      "\r",
      "51it [01:18,  1.32it/s]"
     ]
    },
    {
     "name": "stdout",
     "output_type": "stream",
     "text": [
      "<bos>\n",
      "    <start_of_turn>user\n",
      "    Translate the sentence into urdu and only return the translation:\n",
      "\n",
      "    Sitting is normal. Food was above average but not extraordinary. Go and have good food there, yep tasty too<end_of_turn>\n",
      "    <start_of_turn>model\n",
      "    سITTING  عادی ہے.  غذہ  کو  عادی  ہے  لیکن  کوئی  بڑا  نہیں.  آپ  کے  ایک  خوب  غذہ  کے  لیے  جائیں  ،  ہاں  کوئی  خوب  ہے. \n",
      "<end_of_turn>\n"
     ]
    },
    {
     "name": "stderr",
     "output_type": "stream",
     "text": [
      "\r",
      "52it [01:21,  1.37s/it]"
     ]
    },
    {
     "name": "stdout",
     "output_type": "stream",
     "text": [
      "<bos>\n",
      "    <start_of_turn>user\n",
      "    Translate the sentence into urdu and only return the translation:\n",
      "\n",
      "    Disagree worst service ever<end_of_turn>\n",
      "    <start_of_turn>model\n",
      "    مشاورہ بہت ہی بے manners service ہے۔ \n",
      "<end_of_turn>\n"
     ]
    },
    {
     "name": "stderr",
     "output_type": "stream",
     "text": [
      "\r",
      "53it [01:22,  1.13s/it]"
     ]
    },
    {
     "name": "stdout",
     "output_type": "stream",
     "text": [
      "<bos>\n",
      "    <start_of_turn>user\n",
      "    Translate the sentence into urdu and only return the translation:\n",
      "\n",
      "    But I still hankered after the forest and the hunting-lodge, and when my little maid told me that I could, by walking ten miles or so through the forest<end_of_turn>\n",
      "    <start_of_turn>model\n",
      "    ہاں میں لڑکی نے کہا کہ میں لڑکی نے کہا کہ میں لڑکی نے کہا کہ میں لڑکی نے کہا کہ میں لڑکی نے کہا کہ میں لڑکی نے کہا کہ میں لڑکی نے کہا کہ میں لڑکی نے کہا کہ میں لڑکی نے کہا کہ میں لڑکی نے کہا کہ میں لڑکی نے کہا کہ میں لڑکی نے کہا کہ میں لڑکی نے کہا کہ میں لڑکی نے کہا کہ میں لڑکی نے کہا کہ میں لڑکی نے کہ\n"
     ]
    },
    {
     "name": "stderr",
     "output_type": "stream",
     "text": [
      "\r",
      "54it [01:26,  2.26s/it]"
     ]
    },
    {
     "name": "stdout",
     "output_type": "stream",
     "text": [
      "<bos>\n",
      "    <start_of_turn>user\n",
      "    Translate the sentence into urdu and only return the translation:\n",
      "\n",
      "    A breath of fresh air in an otherwise pretty average area as far as quality eateries are concerned<end_of_turn>\n",
      "    <start_of_turn>model\n",
      "    آپ کے لیے ایک بہترین اور اچھی کیفیت کے کھانوں کی محسوس کی جاتی ہے، ایک معمولی خوبصورت علاقے میں \n",
      "<end_of_turn>\n"
     ]
    },
    {
     "name": "stderr",
     "output_type": "stream",
     "text": [
      "\r",
      "55it [01:28,  2.02s/it]"
     ]
    },
    {
     "name": "stdout",
     "output_type": "stream",
     "text": [
      "<bos>\n",
      "    <start_of_turn>user\n",
      "    Translate the sentence into urdu and only return the translation:\n",
      "\n",
      "    Best place to visit, taste and quantity were both 10/10.<end_of_turn>\n",
      "    <start_of_turn>model\n",
      "    یہاں بہترین مقام ہے، تائیں اور مقدار دونوں 10/10 ہے۔ \n",
      "<end_of_turn>\n"
     ]
    },
    {
     "name": "stderr",
     "output_type": "stream",
     "text": [
      "\r",
      "56it [01:29,  1.71s/it]"
     ]
    },
    {
     "name": "stdout",
     "output_type": "stream",
     "text": [
      "<bos>\n",
      "    <start_of_turn>user\n",
      "    Translate the sentence into urdu and only return the translation:\n",
      "\n",
      "    Hood plz improve ur sitting n dinein<end_of_turn>\n",
      "    <start_of_turn>model\n",
      "    \"ہود، آپ کے کھانے کے لیے ایک بہتر سٹھن اور ڈین میں بہتر بنانے کی کوشش کریں.\" \n",
      "<end_of_turn>\n"
     ]
    },
    {
     "name": "stderr",
     "output_type": "stream",
     "text": [
      "\r",
      "57it [01:30,  1.63s/it]"
     ]
    },
    {
     "name": "stdout",
     "output_type": "stream",
     "text": [
      "<bos>\n",
      "    <start_of_turn>user\n",
      "    Translate the sentence into urdu and only return the translation:\n",
      "\n",
      "    Food for cockroaches<end_of_turn>\n",
      "    <start_of_turn>model\n",
      "     cockroach کی غذا \n",
      "<end_of_turn>\n"
     ]
    },
    {
     "name": "stderr",
     "output_type": "stream",
     "text": [
      "\r",
      "58it [01:31,  1.22s/it]"
     ]
    },
    {
     "name": "stdout",
     "output_type": "stream",
     "text": [
      "<bos>\n",
      "    <start_of_turn>user\n",
      "    Translate the sentence into urdu and only return the translation:\n",
      "\n",
      "    Famous nihari hotel at very famous food area<end_of_turn>\n",
      "    <start_of_turn>model\n",
      "    مشہور نِیْرہ ہال، بہت مشہور کھانوں کی علاقہ میں \n",
      "<end_of_turn>\n"
     ]
    },
    {
     "name": "stderr",
     "output_type": "stream",
     "text": [
      "\r",
      "59it [01:32,  1.18s/it]"
     ]
    },
    {
     "name": "stdout",
     "output_type": "stream",
     "text": [
      "<bos>\n",
      "    <start_of_turn>user\n",
      "    Translate the sentence into urdu and only return the translation:\n",
      "\n",
      "    Visited @tandoorpk yesterday for lunch  ordered Tikka , Tarragon steak, Tandoor Fore chicken, and Chilly kabab❤️ TIKKA was average, tarragon steak was super delicious, fire chicken was little spicy ( as for my taste) , and chilli kabab was delicious too Management and staff was friendly<end_of_turn>\n",
      "    <start_of_turn>model\n",
      "     yesterday, I visited @tandoorpk for lunch. I ordered Tikka, Tarragon steak, Tandoor Fore chicken, and Chilly kabab. Tikka was average, Tarragon steak was super delicious, fire chicken was a little spicy (as per my taste), and chilli kabab was delicious too. The management and staff were friendly. \n",
      "<end_of_turn>\n"
     ]
    },
    {
     "name": "stderr",
     "output_type": "stream",
     "text": [
      "\r",
      "60it [01:35,  1.69s/it]"
     ]
    },
    {
     "name": "stdout",
     "output_type": "stream",
     "text": [
      "<bos>\n",
      "    <start_of_turn>user\n",
      "    Translate the sentence into urdu and only return the translation:\n",
      "\n",
      "    Stay thin.<end_of_turn>\n",
      "    <start_of_turn>model\n",
      "    کوئی چھوٹا رہو. \n",
      "<end_of_turn>\n"
     ]
    },
    {
     "name": "stderr",
     "output_type": "stream",
     "text": [
      "\r",
      "61it [01:35,  1.33s/it]"
     ]
    },
    {
     "name": "stdout",
     "output_type": "stream",
     "text": [
      "<bos>\n",
      "    <start_of_turn>user\n",
      "    Translate the sentence into urdu and only return the translation:\n",
      "\n",
      "    No, keep it as long as you wish.<end_of_turn>\n",
      "    <start_of_turn>model\n",
      "    ہاں، تمہارے دل چاہے، اسے کتنا بھی چاہیے۔ \n",
      "<end_of_turn>\n"
     ]
    },
    {
     "name": "stderr",
     "output_type": "stream",
     "text": [
      "\r",
      "62it [01:36,  1.22s/it]"
     ]
    },
    {
     "name": "stdout",
     "output_type": "stream",
     "text": [
      "<bos>\n",
      "    <start_of_turn>user\n",
      "    Translate the sentence into urdu and only return the translation:\n",
      "\n",
      "    Good<end_of_turn>\n",
      "    <start_of_turn>model\n",
      "    خوب \n",
      "<end_of_turn>\n"
     ]
    },
    {
     "name": "stderr",
     "output_type": "stream",
     "text": [
      "\r",
      "63it [01:36,  1.10it/s]"
     ]
    },
    {
     "name": "stdout",
     "output_type": "stream",
     "text": [
      "<bos>\n",
      "    <start_of_turn>user\n",
      "    Translate the sentence into urdu and only return the translation:\n",
      "\n",
      "    (Translated by Google) Amazing\n",
      "\n",
      "(Original)\n",
      "Amazing karahe<end_of_turn>\n",
      "    <start_of_turn>model\n",
      "    بklasse \n",
      "<end_of_turn>\n"
     ]
    },
    {
     "name": "stderr",
     "output_type": "stream",
     "text": [
      "\r",
      "64it [01:36,  1.42it/s]"
     ]
    },
    {
     "name": "stdout",
     "output_type": "stream",
     "text": [
      "<bos>\n",
      "    <start_of_turn>user\n",
      "    Translate the sentence into urdu and only return the translation:\n",
      "\n",
      "    Good taste<end_of_turn>\n",
      "    <start_of_turn>model\n",
      "    بہترین مذاق \n",
      "<end_of_turn>\n"
     ]
    },
    {
     "name": "stderr",
     "output_type": "stream",
     "text": [
      "\r",
      "65it [01:37,  1.65it/s]"
     ]
    },
    {
     "name": "stdout",
     "output_type": "stream",
     "text": [
      "<bos>\n",
      "    <start_of_turn>user\n",
      "    Translate the sentence into urdu and only return the translation:\n",
      "\n",
      "    Good & yummy food,  Ambiance Perfect,  Fast Service,  Staff very Cooperative<end_of_turn>\n",
      "    <start_of_turn>model\n",
      "    خوب اور لذیذ کھانا،  عطر بہت  خوب،  سرعت بہت سست،  ڈاکٹر بہت  کooperatif \n",
      "<end_of_turn>\n"
     ]
    },
    {
     "name": "stderr",
     "output_type": "stream",
     "text": [
      "\r",
      "66it [01:38,  1.16it/s]"
     ]
    },
    {
     "name": "stdout",
     "output_type": "stream",
     "text": [
      "<bos>\n",
      "    <start_of_turn>user\n",
      "    Translate the sentence into urdu and only return the translation:\n",
      "\n",
      "     My mother remar_x0002_ried<end_of_turn>\n",
      "    <start_of_turn>model\n",
      "     Mere maa ne  \n",
      "<end_of_turn>\n"
     ]
    },
    {
     "name": "stderr",
     "output_type": "stream",
     "text": [
      "\r",
      "67it [01:39,  1.46it/s]"
     ]
    },
    {
     "name": "stdout",
     "output_type": "stream",
     "text": [
      "<bos>\n",
      "    <start_of_turn>user\n",
      "    Translate the sentence into urdu and only return the translation:\n",
      "\n",
      "    \n",
      "\n",
      "“So much the better—so much the better! Nothing will give greater pleasure to all your old friends; and I know one down there behind the Saint Nicolas citadel who will not be sorry to hear it<end_of_turn>\n",
      "    <start_of_turn>model\n",
      "    \"یہ بہتر ہے، بہتر ہے!  ہر ایک کے لیے بہتر ہے، اور میں ایک کو چھوڑا ہے،  سے  Saint Nicolas کی  کٹل  کے پیچھے،  ہاں  ہاں  ہاں  ہاں  ہاں  ہاں  ہاں  ہاں  ہاں  ہاں  ہاں  ہاں  ہاں  ہاں  ہاں  ہاں  ہاں  ہاں  ہاں  ہاں  ہاں  ہاں  ہاں  ہاں  ہاں  ہاں  ہاں\n"
     ]
    },
    {
     "name": "stderr",
     "output_type": "stream",
     "text": [
      "\r",
      "68it [01:43,  1.96s/it]"
     ]
    },
    {
     "name": "stdout",
     "output_type": "stream",
     "text": [
      "<bos>\n",
      "    <start_of_turn>user\n",
      "    Translate the sentence into urdu and only return the translation:\n",
      "\n",
      "    Good food good taste good quality and parking space<end_of_turn>\n",
      "    <start_of_turn>model\n",
      "    خوب کھانا، خوب تازہ، خوب کیلئے اور پارکنگ کا простоر \n",
      "<end_of_turn>\n"
     ]
    },
    {
     "name": "stderr",
     "output_type": "stream",
     "text": [
      "\r",
      "69it [01:44,  1.63s/it]"
     ]
    },
    {
     "name": "stdout",
     "output_type": "stream",
     "text": [
      "<bos>\n",
      "    <start_of_turn>user\n",
      "    Translate the sentence into urdu and only return the translation:\n",
      "\n",
      "    Good food<end_of_turn>\n",
      "    <start_of_turn>model\n",
      "    خوب کھانا \n",
      "<end_of_turn>\n"
     ]
    },
    {
     "name": "stderr",
     "output_type": "stream",
     "text": [
      "\r",
      "70it [01:45,  1.22s/it]"
     ]
    },
    {
     "name": "stdout",
     "output_type": "stream",
     "text": [
      "<bos>\n",
      "    <start_of_turn>user\n",
      "    Translate the sentence into urdu and only return the translation:\n",
      "\n",
      "    Food is good but sitting are to short always waiting<end_of_turn>\n",
      "    <start_of_turn>model\n",
      "    غذا خوب ہے لیکن سجدہ بہت کم ہے ہماری  وقت گزارہ \n",
      "<end_of_turn>\n"
     ]
    },
    {
     "name": "stderr",
     "output_type": "stream",
     "text": [
      "\r",
      "71it [01:46,  1.13s/it]"
     ]
    },
    {
     "name": "stdout",
     "output_type": "stream",
     "text": [
      "<bos>\n",
      "    <start_of_turn>user\n",
      "    Translate the sentence into urdu and only return the translation:\n",
      "\n",
      "    Then Jesus answered and said unto her , O woman , great is thy faith : be it unto thee even as thou wilt . And her daughter was made whole from that very hour .<end_of_turn>\n",
      "    <start_of_turn>model\n",
      "    یہاں جیسا  یہ  یہ  یہ  یہ  یہ  یہ  یہ  یہ  یہ  یہ  یہ  یہ  یہ  یہ  یہ  یہ  یہ  یہ  یہ  یہ  یہ  یہ  یہ  یہ  یہ  یہ  یہ  یہ  یہ  یہ  یہ  یہ  یہ  یہ  یہ  یہ  یہ  یہ  یہ  یہ  ی\n"
     ]
    },
    {
     "name": "stderr",
     "output_type": "stream",
     "text": [
      "\r",
      "72it [01:50,  2.26s/it]"
     ]
    },
    {
     "name": "stdout",
     "output_type": "stream",
     "text": [
      "<bos>\n",
      "    <start_of_turn>user\n",
      "    Translate the sentence into urdu and only return the translation:\n",
      "\n",
      "    Food is good, serving time is OK but serving time of nan and drinks is worst<end_of_turn>\n",
      "    <start_of_turn>model\n",
      "    غذا بہت اچھی ہے،servicing   thơ اچھی ہے لیکن نانی اور پینے کی servicing  کوئی نہیں \n",
      "<end_of_turn>\n"
     ]
    },
    {
     "name": "stderr",
     "output_type": "stream",
     "text": [
      "\r",
      "73it [01:52,  1.98s/it]"
     ]
    },
    {
     "name": "stdout",
     "output_type": "stream",
     "text": [
      "<bos>\n",
      "    <start_of_turn>user\n",
      "    Translate the sentence into urdu and only return the translation:\n",
      "\n",
      "    Peaceful environment and great service.<end_of_turn>\n",
      "    <start_of_turn>model\n",
      "    عuşو  اور بہترین خدمات. \n",
      "<end_of_turn>\n"
     ]
    },
    {
     "name": "stderr",
     "output_type": "stream",
     "text": [
      "\r",
      "74it [01:52,  1.53s/it]"
     ]
    },
    {
     "name": "stdout",
     "output_type": "stream",
     "text": [
      "<bos>\n",
      "    <start_of_turn>user\n",
      "    Translate the sentence into urdu and only return the translation:\n",
      "\n",
      "    She goes to market every day to buy things.<end_of_turn>\n",
      "    <start_of_turn>model\n",
      "    اُس کو ہر روز بازار میں خریدی جاتے ہیں۔ \n",
      "<end_of_turn>\n"
     ]
    },
    {
     "name": "stderr",
     "output_type": "stream",
     "text": [
      "\r",
      "75it [01:53,  1.28s/it]"
     ]
    },
    {
     "name": "stdout",
     "output_type": "stream",
     "text": [
      "<bos>\n",
      "    <start_of_turn>user\n",
      "    Translate the sentence into urdu and only return the translation:\n",
      "\n",
      "    I bought this sweater yesterday.<end_of_turn>\n",
      "    <start_of_turn>model\n",
      "     yesterday میں یہ شال خریدا۔ \n",
      "<end_of_turn>\n"
     ]
    },
    {
     "name": "stderr",
     "output_type": "stream",
     "text": [
      "\r",
      "76it [01:53,  1.03s/it]"
     ]
    },
    {
     "name": "stdout",
     "output_type": "stream",
     "text": [
      "<bos>\n",
      "    <start_of_turn>user\n",
      "    Translate the sentence into urdu and only return the translation:\n",
      "\n",
      "     but Dave took extra care to diagnose the situation, the team, and the customer prior to offering suggestions or mandates for change.<end_of_turn>\n",
      "    <start_of_turn>model\n",
      "    دAVE نے صورتحال، ٹیم اور کارکٹر کو پہلے سے ڈائग्نوز کرنے کے لیے ایک اضافی کوشش کی، بعد میں آپشن یا دستورات کے لیے پیش کیا۔ \n",
      "<end_of_turn>\n"
     ]
    },
    {
     "name": "stderr",
     "output_type": "stream",
     "text": [
      "\r",
      "77it [01:55,  1.28s/it]"
     ]
    },
    {
     "name": "stdout",
     "output_type": "stream",
     "text": [
      "<bos>\n",
      "    <start_of_turn>user\n",
      "    Translate the sentence into urdu and only return the translation:\n",
      "\n",
      "    Great taste.. cheap price<end_of_turn>\n",
      "    <start_of_turn>model\n",
      "    بklasse تائیں،  کوئی  قیمت \n",
      "<end_of_turn>\n"
     ]
    },
    {
     "name": "stderr",
     "output_type": "stream",
     "text": [
      "\r",
      "78it [01:56,  1.06s/it]"
     ]
    },
    {
     "name": "stdout",
     "output_type": "stream",
     "text": [
      "<bos>\n",
      "    <start_of_turn>user\n",
      "    Translate the sentence into urdu and only return the translation:\n",
      "\n",
      "    Good decent place to visit. Nice breezy rooftop. Mostly recommended for BBQ menu. Tea was fantastic :p\n",
      "Out of 10\n",
      "Parking 6\n",
      "Ambiance 9\n",
      "Prices 6\n",
      "Taste 10\n",
      "Sevice 8\n",
      "overall 8<end_of_turn>\n",
      "    <start_of_turn>model\n",
      "    خوب decent مکان گھنٹے کی جگہ ہے،  خوب  بھری  روفی  ،  معمول طور پر  BBQ  menu  کی  recomend  کر  رہا  جاسکتا  ،  چا  fantastic  :p  \n",
      "    10  پر  \n",
      "    Park  6\n",
      "    Ambiance  9\n",
      "    Prices  6\n",
      "    Taste  10\n",
      "    Sevice  8\n",
      "    overall  8 \n",
      " \n",
      " \n",
      "<end_of_turn>\n"
     ]
    },
    {
     "name": "stderr",
     "output_type": "stream",
     "text": [
      "\r",
      "79it [02:00,  1.99s/it]"
     ]
    },
    {
     "name": "stdout",
     "output_type": "stream",
     "text": [
      "<bos>\n",
      "    <start_of_turn>user\n",
      "    Translate the sentence into urdu and only return the translation:\n",
      "\n",
      "    Very disappointing no quality of food<end_of_turn>\n",
      "    <start_of_turn>model\n",
      "    خیلی ناامید کننده،  غذای کیفیتی ندارد \n",
      "<end_of_turn>\n"
     ]
    },
    {
     "name": "stderr",
     "output_type": "stream",
     "text": [
      "\r",
      "80it [02:01,  1.59s/it]"
     ]
    },
    {
     "name": "stdout",
     "output_type": "stream",
     "text": [
      "<bos>\n",
      "    <start_of_turn>user\n",
      "    Translate the sentence into urdu and only return the translation:\n",
      "\n",
      "    Excellent dhaga kabab and other bbq items<end_of_turn>\n",
      "    <start_of_turn>model\n",
      "    بklasse Dhaga Kabab اور دیگر BBQ اشیا \n",
      "<end_of_turn>\n"
     ]
    },
    {
     "name": "stderr",
     "output_type": "stream",
     "text": [
      "\r",
      "81it [02:01,  1.29s/it]"
     ]
    },
    {
     "name": "stdout",
     "output_type": "stream",
     "text": [
      "<bos>\n",
      "    <start_of_turn>user\n",
      "    Translate the sentence into urdu and only return the translation:\n",
      "\n",
      "    Service is always pathetic, food quality has gone down over the years<end_of_turn>\n",
      "    <start_of_turn>model\n",
      "    خدمت ہمیشہ پھٹا ہے، کھانا کی کیفیّت سالوں سے گھونگ چڑی ہے۔ \n",
      "<end_of_turn>\n"
     ]
    },
    {
     "name": "stderr",
     "output_type": "stream",
     "text": [
      "\r",
      "82it [02:02,  1.28s/it]"
     ]
    },
    {
     "name": "stdout",
     "output_type": "stream",
     "text": [
      "<bos>\n",
      "    <start_of_turn>user\n",
      "    Translate the sentence into urdu and only return the translation:\n",
      "\n",
      "    Except those who join a group between whom and you there is a treaty (of peace), or those who approach you with hearts restraining them from fighting you as well as fighting their own people. If Allah had pleased, He could have given them power over you, and they would have fought you: Therefore if they withdraw from you but fight you not, and (instead) send you (Guarantees of) peace, then Allah Hath opened no way for you (to war against them).<end_of_turn>\n",
      "    <start_of_turn>model\n",
      "    انہیں جو ایک قوت کے ساتھ ملنے والے ہیں، جو آپ کے ساتھ امن کے معاہدے کے ساتھ، یا آپ کے ساتھ ہونے والے ہونے والے ہونے والے ہونے والے ہونے والے ہونے والے ہونے والے ہونے والے ہونے والے ہونے والے ہونے والے ہونے والے ہونے والے ہونے والے ہونے والے ہونے والے ہونے والے ہونے والے ہونے والے ہ\n"
     ]
    },
    {
     "name": "stderr",
     "output_type": "stream",
     "text": [
      "\r",
      "83it [02:07,  2.39s/it]"
     ]
    },
    {
     "name": "stdout",
     "output_type": "stream",
     "text": [
      "<bos>\n",
      "    <start_of_turn>user\n",
      "    Translate the sentence into urdu and only return the translation:\n",
      "\n",
      "    Worst service,  highly price charges with extremely low quantity<end_of_turn>\n",
      "    <start_of_turn>model\n",
      "    نقصان خدمات،  بڑی بڑی قیمتوں کی گھڑی،  کوئی کم مقدار \n",
      "<end_of_turn>\n"
     ]
    },
    {
     "name": "stderr",
     "output_type": "stream",
     "text": [
      "\r",
      "84it [02:09,  2.00s/it]"
     ]
    },
    {
     "name": "stdout",
     "output_type": "stream",
     "text": [
      "<bos>\n",
      "    <start_of_turn>user\n",
      "    Translate the sentence into urdu and only return the translation:\n",
      "\n",
      "    Ate too much in my childhood...<end_of_turn>\n",
      "    <start_of_turn>model\n",
      "    کی بچپancy میں بہت زیادہ کھایا۔ \n",
      "<end_of_turn>\n"
     ]
    },
    {
     "name": "stderr",
     "output_type": "stream",
     "text": [
      "\r",
      "85it [02:09,  1.58s/it]"
     ]
    },
    {
     "name": "stdout",
     "output_type": "stream",
     "text": [
      "<bos>\n",
      "    <start_of_turn>user\n",
      "    Translate the sentence into urdu and only return the translation:\n",
      "\n",
      "    Marvelous taste<end_of_turn>\n",
      "    <start_of_turn>model\n",
      "    مُعَجّب تَائِس \n",
      "<end_of_turn>\n"
     ]
    },
    {
     "name": "stderr",
     "output_type": "stream",
     "text": [
      "\r",
      "86it [02:10,  1.29s/it]"
     ]
    },
    {
     "name": "stdout",
     "output_type": "stream",
     "text": [
      "<bos>\n",
      "    <start_of_turn>user\n",
      "    Translate the sentence into urdu and only return the translation:\n",
      "\n",
      "    Simply love their taste<end_of_turn>\n",
      "    <start_of_turn>model\n",
      "    انہیں اس کی تلافی میں محبت ہے \n",
      "<end_of_turn>\n"
     ]
    },
    {
     "name": "stderr",
     "output_type": "stream",
     "text": [
      "\r",
      "87it [02:10,  1.08s/it]"
     ]
    },
    {
     "name": "stdout",
     "output_type": "stream",
     "text": [
      "<bos>\n",
      "    <start_of_turn>user\n",
      "    Translate the sentence into urdu and only return the translation:\n",
      "\n",
      "    Not bad<end_of_turn>\n",
      "    <start_of_turn>model\n",
      "    خوب \n",
      "<end_of_turn>\n"
     ]
    },
    {
     "name": "stderr",
     "output_type": "stream",
     "text": [
      "\r",
      "88it [02:11,  1.23it/s]"
     ]
    },
    {
     "name": "stdout",
     "output_type": "stream",
     "text": [
      "<bos>\n",
      "    <start_of_turn>user\n",
      "    Translate the sentence into urdu and only return the translation:\n",
      "\n",
      "    It's a simple restaurant offering traditional BBQ items & Nihari. Good for family.<end_of_turn>\n",
      "    <start_of_turn>model\n",
      "    یہ ایک آسانrestauraant ہے جو عادیالہ BBQ اشیاء اور نیhari پیش کرتا ہے۔  خانوادہ کے لیے بہت اچھا ہے۔ \n",
      "<end_of_turn>\n"
     ]
    },
    {
     "name": "stderr",
     "output_type": "stream",
     "text": [
      "\r",
      "89it [02:12,  1.02s/it]"
     ]
    },
    {
     "name": "stdout",
     "output_type": "stream",
     "text": [
      "<bos>\n",
      "    <start_of_turn>user\n",
      "    Translate the sentence into urdu and only return the translation:\n",
      "\n",
      "    Amazing soft taste that I can't explain... really great taste in everything parhatas , keema and all.. thanks for great taste May Allah give them Barakah ...<end_of_turn>\n",
      "    <start_of_turn>model\n",
      "    بہت  خوب  تذیب  کی   Taste  جو  میں  Explain  کے  کو  ہے  ...  کے  کو  ہے  ...  \n",
      "<end_of_turn>\n"
     ]
    },
    {
     "name": "stderr",
     "output_type": "stream",
     "text": [
      "\r",
      "90it [02:14,  1.22s/it]"
     ]
    },
    {
     "name": "stdout",
     "output_type": "stream",
     "text": [
      "<bos>\n",
      "    <start_of_turn>user\n",
      "    Translate the sentence into urdu and only return the translation:\n",
      "\n",
      "    Execlent food with great environment<end_of_turn>\n",
      "    <start_of_turn>model\n",
      "    محبت کی غذا با بہت خوبہ ambient \n",
      "<end_of_turn>\n"
     ]
    },
    {
     "name": "stderr",
     "output_type": "stream",
     "text": [
      "\r",
      "91it [02:14,  1.01s/it]"
     ]
    },
    {
     "name": "stdout",
     "output_type": "stream",
     "text": [
      "<bos>\n",
      "    <start_of_turn>user\n",
      "    Translate the sentence into urdu and only return the translation:\n",
      "\n",
      "    How old are you?<end_of_turn>\n",
      "    <start_of_turn>model\n",
      "    کِسے  کی عمر  کی  جو  ہے؟ \n",
      "<end_of_turn>\n"
     ]
    },
    {
     "name": "stderr",
     "output_type": "stream",
     "text": [
      "\r",
      "92it [02:15,  1.09it/s]"
     ]
    },
    {
     "name": "stdout",
     "output_type": "stream",
     "text": [
      "<bos>\n",
      "    <start_of_turn>user\n",
      "    Translate the sentence into urdu and only return the translation:\n",
      "\n",
      "    The food is exceptional except for the seating arrangement which is sub standard<end_of_turn>\n",
      "    <start_of_turn>model\n",
      "    غذاExceptionel ہے لیکن seating arrangement  sub standard ہے۔ \n",
      "<end_of_turn>\n"
     ]
    },
    {
     "name": "stderr",
     "output_type": "stream",
     "text": [
      "\r",
      "93it [02:16,  1.20it/s]"
     ]
    },
    {
     "name": "stdout",
     "output_type": "stream",
     "text": [
      "<bos>\n",
      "    <start_of_turn>user\n",
      "    Translate the sentence into urdu and only return the translation:\n",
      "\n",
      "    Awesome food desi mutton karahi lamb karahi mutton champ damb bukh ❤️<end_of_turn>\n",
      "    <start_of_turn>model\n",
      "    محبت کی غذا desi mutton karahi, lamb karahi, mutton champ damb bukh ❤️ \n",
      "<end_of_turn>\n"
     ]
    },
    {
     "name": "stderr",
     "output_type": "stream",
     "text": [
      "\r",
      "94it [02:16,  1.17it/s]"
     ]
    },
    {
     "name": "stdout",
     "output_type": "stream",
     "text": [
      "<bos>\n",
      "    <start_of_turn>user\n",
      "    Translate the sentence into urdu and only return the translation:\n",
      "\n",
      "    Are you absolutely sure that Tom will do that?<end_of_turn>\n",
      "    <start_of_turn>model\n",
      "    آپ بہر حال یہاں تک کہ ٹم اسے کرے گا؟ \n",
      "<end_of_turn>\n"
     ]
    },
    {
     "name": "stderr",
     "output_type": "stream",
     "text": [
      "\r",
      "95it [02:17,  1.19it/s]"
     ]
    },
    {
     "name": "stdout",
     "output_type": "stream",
     "text": [
      "<bos>\n",
      "    <start_of_turn>user\n",
      "    Translate the sentence into urdu and only return the translation:\n",
      "\n",
      "    Good environment best quality economical<end_of_turn>\n",
      "    <start_of_turn>model\n",
      "    خوبہ ambient  زیادہ  کے  عین  عین  عین  عین  عین  عین  عین  عین  عین  عین  عین  عین  عین  عین  عین  عین  عین  عین  عین  عین  عین  عین  عین  عین  عین  عین  عین  عین  عین  عین  عین  عین  عین  عین  عین  عین  عین  عین  عین  \n"
     ]
    },
    {
     "name": "stderr",
     "output_type": "stream",
     "text": [
      "\r",
      "96it [02:22,  2.07s/it]"
     ]
    },
    {
     "name": "stdout",
     "output_type": "stream",
     "text": [
      "<bos>\n",
      "    <start_of_turn>user\n",
      "    Translate the sentence into urdu and only return the translation:\n",
      "\n",
      "     He mustered the will to keep the tip of his board pointed in the shark’s direction, but he was too terror- stricken to get back in the water and use his board as a barrier.<end_of_turn>\n",
      "    <start_of_turn>model\n",
      "    ہم نے shark کی طرف boards کا ایک طرف کو تیار کیا، لیکن وہ اس سے چھپنے کی کوشش نہیں کر سکتا۔ \n",
      "<end_of_turn>\n"
     ]
    },
    {
     "name": "stderr",
     "output_type": "stream",
     "text": [
      "\r",
      "97it [02:24,  1.88s/it]"
     ]
    },
    {
     "name": "stdout",
     "output_type": "stream",
     "text": [
      "<bos>\n",
      "    <start_of_turn>user\n",
      "    Translate the sentence into urdu and only return the translation:\n",
      "\n",
      "    I did it from force of habit<end_of_turn>\n",
      "    <start_of_turn>model\n",
      "    میں اس کی وجہ سے یہ کر چکا۔ \n",
      "<end_of_turn>\n"
     ]
    },
    {
     "name": "stderr",
     "output_type": "stream",
     "text": [
      "\r",
      "98it [02:24,  1.50s/it]"
     ]
    },
    {
     "name": "stdout",
     "output_type": "stream",
     "text": [
      "<bos>\n",
      "    <start_of_turn>user\n",
      "    Translate the sentence into urdu and only return the translation:\n",
      "\n",
      "    Much better food and family sittings<end_of_turn>\n",
      "    <start_of_turn>model\n",
      "    بڑا بہتر کھانا اور گھریلو نشست \n",
      "<end_of_turn>\n"
     ]
    },
    {
     "name": "stderr",
     "output_type": "stream",
     "text": [
      "\r",
      "99it [02:25,  1.24s/it]"
     ]
    },
    {
     "name": "stdout",
     "output_type": "stream",
     "text": [
      "<bos>\n",
      "    <start_of_turn>user\n",
      "    Translate the sentence into urdu and only return the translation:\n",
      "\n",
      "    Known as nihari place but other things are more tasty then the nihari.<end_of_turn>\n",
      "    <start_of_turn>model\n",
      "    نامی \"نیhari کی جگہ\" ہے لیکن دوسرے چیزوں سے زیادہ لذیذ ہے۔ \n",
      "<end_of_turn>\n"
     ]
    },
    {
     "name": "stderr",
     "output_type": "stream",
     "text": [
      "\r",
      "100it [02:26,  1.20s/it]"
     ]
    },
    {
     "name": "stdout",
     "output_type": "stream",
     "text": [
      "<bos>\n",
      "    <start_of_turn>user\n",
      "    Translate the sentence into urdu and only return the translation:\n",
      "\n",
      "    Delicious fish grill I have ever experienced and it would be a crime if I don't admire the owner there who gave us best opinion on what type of fish we should eat on the basis of hunger, taste, persons and type of cooking (i<end_of_turn>\n",
      "    <start_of_turn>model\n",
      "    خوشمزه تہیہ گلی میں کھایا گیا ہے جو میں نے کبھی نہیں دیکھا، اور یہ ایک جرم ہے کہ میں صاحب کے ساتھ اپنی تعریف نہیں کر سکتا جو ہمیں کھانا کے لیے کیا ہے، کیونکہ وہ ہمیں کھانے کے لیے کیا ہے، کیونکہ وہ ہمیں کھانے کے لیے کیا ہے، کیونکہ وہ ہمیں کھانے کے لیے کیا ہے، کیونکہ وہ ہمیں کھانے کے لیے کیا ہے، کیونکہ وہ ہمیں کھانے کے لیے کیا ہے\n"
     ]
    },
    {
     "name": "stderr",
     "output_type": "stream",
     "text": [
      "\r",
      "101it [02:31,  2.32s/it]"
     ]
    },
    {
     "name": "stdout",
     "output_type": "stream",
     "text": [
      "<bos>\n",
      "    <start_of_turn>user\n",
      "    Translate the sentence into urdu and only return the translation:\n",
      "\n",
      "    Nice food<end_of_turn>\n",
      "    <start_of_turn>model\n",
      "    خوب کھانا \n",
      "<end_of_turn>\n"
     ]
    },
    {
     "name": "stderr",
     "output_type": "stream",
     "text": [
      "\r",
      "102it [02:31,  1.70s/it]"
     ]
    },
    {
     "name": "stdout",
     "output_type": "stream",
     "text": [
      "<bos>\n",
      "    <start_of_turn>user\n",
      "    Translate the sentence into urdu and only return the translation:\n",
      "\n",
      "    It's ok ... Not bad ... Good value for money ...<end_of_turn>\n",
      "    <start_of_turn>model\n",
      "    یہ ठीक ہے...  کوئی نہیں بہتر ہے...  کے قیمتیں بہتر ہیں۔ \n",
      "<end_of_turn>\n"
     ]
    },
    {
     "name": "stderr",
     "output_type": "stream",
     "text": [
      "\r",
      "103it [02:32,  1.50s/it]"
     ]
    },
    {
     "name": "stdout",
     "output_type": "stream",
     "text": [
      "<bos>\n",
      "    <start_of_turn>user\n",
      "    Translate the sentence into urdu and only return the translation:\n",
      "\n",
      "    (The Egyptians) said: \"What then shall be the penalty of this, if ye are (proved) to have lied?\"<end_of_turn>\n",
      "    <start_of_turn>model\n",
      "    (یہ)  میں نے کہا: \"یہ کیا کیا ہوگا اگر آپ کہا ہوگا کہ آپ نے کہا ہے؟\" \n",
      "<end_of_turn>\n"
     ]
    },
    {
     "name": "stderr",
     "output_type": "stream",
     "text": [
      "\r",
      "104it [02:34,  1.46s/it]"
     ]
    },
    {
     "name": "stdout",
     "output_type": "stream",
     "text": [
      "<bos>\n",
      "    <start_of_turn>user\n",
      "    Translate the sentence into urdu and only return the translation:\n",
      "\n",
      "     He hasn't got much money.<end_of_turn>\n",
      "    <start_of_turn>model\n",
      "    اپنے پاس کافی نہیں ہے۔ \n",
      "<end_of_turn>\n"
     ]
    },
    {
     "name": "stderr",
     "output_type": "stream",
     "text": [
      "\r",
      "105it [02:34,  1.13s/it]"
     ]
    },
    {
     "name": "stdout",
     "output_type": "stream",
     "text": [
      "<bos>\n",
      "    <start_of_turn>user\n",
      "    Translate the sentence into urdu and only return the translation:\n",
      "\n",
      "    Good price, good food but average service<end_of_turn>\n",
      "    <start_of_turn>model\n",
      "    خوب قیمتی، خوب کھانا لیکن معمولی خدمات \n",
      "<end_of_turn>\n"
     ]
    },
    {
     "name": "stderr",
     "output_type": "stream",
     "text": [
      "\r",
      "106it [02:35,  1.02it/s]"
     ]
    },
    {
     "name": "stdout",
     "output_type": "stream",
     "text": [
      "<bos>\n",
      "    <start_of_turn>user\n",
      "    Translate the sentence into urdu and only return the translation:\n",
      "\n",
      "    She complained to me of his rudeness.<end_of_turn>\n",
      "    <start_of_turn>model\n",
      "    اپنے  رہس کی  تکرار سے  یہ  کے  کے  کے  کے  کے  کے  کے  کے  کے  کے  کے  کے  کے  کے  کے  کے  کے  کے  کے  کے  کے  کے  کے  کے  کے  کے  کے  کے  کے  کے  کے  کے  کے  کے  کے  کے  کے  ک\n"
     ]
    },
    {
     "name": "stderr",
     "output_type": "stream",
     "text": [
      "\r",
      "107it [02:39,  2.14s/it]"
     ]
    },
    {
     "name": "stdout",
     "output_type": "stream",
     "text": [
      "<bos>\n",
      "    <start_of_turn>user\n",
      "    Translate the sentence into urdu and only return the translation:\n",
      "\n",
      "    Amazing as usually great taste<end_of_turn>\n",
      "    <start_of_turn>model\n",
      "    بklasse  اور  عادی  خوب   Taste \n",
      "<end_of_turn>\n"
     ]
    },
    {
     "name": "stderr",
     "output_type": "stream",
     "text": [
      "\r",
      "108it [02:40,  1.67s/it]"
     ]
    },
    {
     "name": "stdout",
     "output_type": "stream",
     "text": [
      "<bos>\n",
      "    <start_of_turn>user\n",
      "    Translate the sentence into urdu and only return the translation:\n",
      "\n",
      "    The food was okay, not great but not bad either<end_of_turn>\n",
      "    <start_of_turn>model\n",
      "    غذہ satisfactory  لیکن بہت  خوب نہیں  \n",
      "<end_of_turn>\n"
     ]
    },
    {
     "name": "stderr",
     "output_type": "stream",
     "text": [
      "\r",
      "109it [02:41,  1.33s/it]"
     ]
    },
    {
     "name": "stdout",
     "output_type": "stream",
     "text": [
      "<bos>\n",
      "    <start_of_turn>user\n",
      "    Translate the sentence into urdu and only return the translation:\n",
      "\n",
      "    One of the most popular restaurant in the town<end_of_turn>\n",
      "    <start_of_turn>model\n",
      "    یہ قصبہ میں سب سے مشہورrestaurant ہے۔ \n",
      "<end_of_turn>\n"
     ]
    },
    {
     "name": "stderr",
     "output_type": "stream",
     "text": [
      "\r",
      "110it [02:41,  1.15s/it]"
     ]
    },
    {
     "name": "stdout",
     "output_type": "stream",
     "text": [
      "<bos>\n",
      "    <start_of_turn>user\n",
      "    Translate the sentence into urdu and only return the translation:\n",
      "\n",
      "    Good food<end_of_turn>\n",
      "    <start_of_turn>model\n",
      "    خوب کھانا \n",
      "<end_of_turn>\n"
     ]
    },
    {
     "name": "stderr",
     "output_type": "stream",
     "text": [
      "\r",
      "111it [02:42,  1.14it/s]"
     ]
    },
    {
     "name": "stdout",
     "output_type": "stream",
     "text": [
      "<bos>\n",
      "    <start_of_turn>user\n",
      "    Translate the sentence into urdu and only return the translation:\n",
      "\n",
      "    The idolators say, 'If God had willed we would not have served; apart from Him, anything, neither we nor our fathers, nor would we have forbidden, apart from Him, anything.' So did those before them; yet is aught for the Messengers, but to deliver the manifest Message?<end_of_turn>\n",
      "    <start_of_turn>model\n",
      "    'یہ idolators کہتے ہیں، 'اگر اللہ نے چاہا تو ہم نے نہیں کیا; اُس کے علاوہ کوئی چیز نہیں، ہم یا پھر ان کے چچاؤں کی کوئی چیز نہیں، اُس کے علاوہ کوئی چیز نہیں.'  یہ وہی ہیں جو پچھلے ہی لوگ تھے، لیکن ان کے لیے کوئی چیز نہیں، بلکہ واضح  Message  کا  Delivery  ہے؟ \n",
      "<end_of_turn>\n"
     ]
    },
    {
     "name": "stderr",
     "output_type": "stream",
     "text": [
      "\r",
      "112it [02:46,  1.81s/it]"
     ]
    },
    {
     "name": "stdout",
     "output_type": "stream",
     "text": [
      "<bos>\n",
      "    <start_of_turn>user\n",
      "    Translate the sentence into urdu and only return the translation:\n",
      "\n",
      "    (Translated by Google) Best mutton karhai.\n",
      "\n",
      "(Original)\n",
      "Best mutton karhai.<end_of_turn>\n",
      "    <start_of_turn>model\n",
      "    کوچے گھڑی mutton karhai کا بہترین \n",
      "<end_of_turn>\n"
     ]
    },
    {
     "name": "stderr",
     "output_type": "stream",
     "text": [
      "\r",
      "113it [02:46,  1.45s/it]"
     ]
    },
    {
     "name": "stdout",
     "output_type": "stream",
     "text": [
      "<bos>\n",
      "    <start_of_turn>user\n",
      "    Translate the sentence into urdu and only return the translation:\n",
      "\n",
      "    Tom's dead.<end_of_turn>\n",
      "    <start_of_turn>model\n",
      "    ٹم کا انتقال ہوا ہے۔ \n",
      "<end_of_turn>\n"
     ]
    },
    {
     "name": "stderr",
     "output_type": "stream",
     "text": [
      "\r",
      "114it [02:47,  1.13s/it]"
     ]
    },
    {
     "name": "stdout",
     "output_type": "stream",
     "text": [
      "<bos>\n",
      "    <start_of_turn>user\n",
      "    Translate the sentence into urdu and only return the translation:\n",
      "\n",
      "    Good quality, excellent sitting arrangement, traditional taste<end_of_turn>\n",
      "    <start_of_turn>model\n",
      "    بھائی کی جگہ، بہترین نشین arrangements، قدیم طابع \n",
      "<end_of_turn>\n"
     ]
    },
    {
     "name": "stderr",
     "output_type": "stream",
     "text": [
      "\r",
      "115it [02:47,  1.04s/it]"
     ]
    },
    {
     "name": "stdout",
     "output_type": "stream",
     "text": [
      "<bos>\n",
      "    <start_of_turn>user\n",
      "    Translate the sentence into urdu and only return the translation:\n",
      "\n",
      "    So expensive and the food taste is not so good<end_of_turn>\n",
      "    <start_of_turn>model\n",
      "    کوئی  بھلے  اور  کھانا   flavours  کو  بھلے  ہے \n",
      "<end_of_turn>\n"
     ]
    },
    {
     "name": "stderr",
     "output_type": "stream",
     "text": [
      "\r",
      "116it [02:48,  1.02s/it]"
     ]
    },
    {
     "name": "stdout",
     "output_type": "stream",
     "text": [
      "<bos>\n",
      "    <start_of_turn>user\n",
      "    Translate the sentence into urdu and only return the translation:\n",
      "\n",
      "    when thy sister went out, saying, \"Shall I point you to one to have charge of him?\" So We returned thee to thy mother that she might rejoice, and not sorrow. Then thou slewest; a living soul, and We delivered thee out of grief, and We tried thee with many trials. Many years among the people of Midian thou didst sojourn, then camest hither, Moses, according to a decree.<end_of_turn>\n",
      "    <start_of_turn>model\n",
      "    کی sister  बाहर  जा  گئی  اور  کہ  \"میں  کے  ساتھ  ایک  کو  ان  کے  نگر  کے  لیے  کے  لیے  کے  لیے  کے  لیے  کے  لیے  کے  لیے  کے  لیے  کے  لیے  کے  لیے  کے  لیے  کے  لیے  کے  لیے  کے  لیے  کے  لیے  کے  لیے  ک\n"
     ]
    },
    {
     "name": "stderr",
     "output_type": "stream",
     "text": [
      "\r",
      "117it [02:53,  2.20s/it]"
     ]
    },
    {
     "name": "stdout",
     "output_type": "stream",
     "text": [
      "<bos>\n",
      "    <start_of_turn>user\n",
      "    Translate the sentence into urdu and only return the translation:\n",
      "\n",
      "    Good taste<end_of_turn>\n",
      "    <start_of_turn>model\n",
      "    بہترین مذاق \n",
      "<end_of_turn>\n"
     ]
    },
    {
     "name": "stderr",
     "output_type": "stream",
     "text": [
      "\r",
      "118it [02:54,  1.65s/it]"
     ]
    },
    {
     "name": "stdout",
     "output_type": "stream",
     "text": [
      "<bos>\n",
      "    <start_of_turn>user\n",
      "    Translate the sentence into urdu and only return the translation:\n",
      "\n",
      "    Local street food!<end_of_turn>\n",
      "    <start_of_turn>model\n",
      "    سڑک کی کھانے \n",
      "<end_of_turn>\n"
     ]
    },
    {
     "name": "stderr",
     "output_type": "stream",
     "text": [
      "\r",
      "119it [02:54,  1.28s/it]"
     ]
    },
    {
     "name": "stdout",
     "output_type": "stream",
     "text": [
      "<bos>\n",
      "    <start_of_turn>user\n",
      "    Translate the sentence into urdu and only return the translation:\n",
      "\n",
      "    Write the dictation on blackboard.<end_of_turn>\n",
      "    <start_of_turn>model\n",
      "     blackboard پر dictation  نوشتएँ \n",
      "<end_of_turn>\n"
     ]
    },
    {
     "name": "stderr",
     "output_type": "stream",
     "text": [
      "\r",
      "120it [02:54,  1.02s/it]"
     ]
    },
    {
     "name": "stdout",
     "output_type": "stream",
     "text": [
      "<bos>\n",
      "    <start_of_turn>user\n",
      "    Translate the sentence into urdu and only return the translation:\n",
      "\n",
      "    Whenever you visit this place their chicken malai boti with sauce is a must❤️<end_of_turn>\n",
      "    <start_of_turn>model\n",
      "    हर وقت یہاں جاتے وقت میں یہاں کے چیکن مالاوی بٹا کے ساتھ سس کو ضرور ضرور ضرور ضرور ضرور ضرور ضرور ضرور ضرور ضرور ضرور ضرور ضرور ضرور ضرور ضرور ضرور ضرور ضرور ضرور ضرور ضرور ضرور ضرور ضرور ضرور ضرور ضرور ضرور ضرور ضرور ضرور ضرور ضرور ضرور ضرور ضرور ضرور ضرور ضرور ضرور ضرور ضرور ضرور ضرور ضرور ضرور ضرور ضرور ضرور ضرور ضر\n"
     ]
    },
    {
     "name": "stderr",
     "output_type": "stream",
     "text": [
      "\r",
      "121it [02:59,  2.19s/it]"
     ]
    },
    {
     "name": "stdout",
     "output_type": "stream",
     "text": [
      "<bos>\n",
      "    <start_of_turn>user\n",
      "    Translate the sentence into urdu and only return the translation:\n",
      "\n",
      "    Good<end_of_turn>\n",
      "    <start_of_turn>model\n",
      "    خوب \n",
      "<end_of_turn>\n"
     ]
    },
    {
     "name": "stderr",
     "output_type": "stream",
     "text": [
      "\r",
      "122it [03:00,  1.59s/it]"
     ]
    },
    {
     "name": "stdout",
     "output_type": "stream",
     "text": [
      "<bos>\n",
      "    <start_of_turn>user\n",
      "    Translate the sentence into urdu and only return the translation:\n",
      "\n",
      "    Nice place<end_of_turn>\n",
      "    <start_of_turn>model\n",
      "    خوبہ  place \n",
      "<end_of_turn>\n"
     ]
    },
    {
     "name": "stderr",
     "output_type": "stream",
     "text": [
      "\r",
      "123it [03:00,  1.20s/it]"
     ]
    },
    {
     "name": "stdout",
     "output_type": "stream",
     "text": [
      "<bos>\n",
      "    <start_of_turn>user\n",
      "    Translate the sentence into urdu and only return the translation:\n",
      "\n",
      "    But Jesus held his peace . And the high priest answered and said unto him , I adjure thee by the living God , that thou tell us whether thou be the Christ , the Son of God .<end_of_turn>\n",
      "    <start_of_turn>model\n",
      "    یہا  یہا  یہا  یہا  یہا  یہا  یہا  یہا  یہا  یہا  یہا  یہا  یہا  یہا  یہا  یہا  یہا  یہا  یہا  یہا  یہا  یہا  یہا  یہا  یہا  یہا  یہا  یہا  یہا  یہا  یہا  یہا  \n"
     ]
    },
    {
     "name": "stderr",
     "output_type": "stream",
     "text": [
      "\r",
      "124it [03:05,  2.31s/it]"
     ]
    },
    {
     "name": "stdout",
     "output_type": "stream",
     "text": [
      "<bos>\n",
      "    <start_of_turn>user\n",
      "    Translate the sentence into urdu and only return the translation:\n",
      "\n",
      "    Reasonably good in industrial area of SITE, Karachi<end_of_turn>\n",
      "    <start_of_turn>model\n",
      "    سے سچا خوبصورت  سے  SITE، Karachi \n",
      "<end_of_turn>\n"
     ]
    },
    {
     "name": "stderr",
     "output_type": "stream",
     "text": [
      "\r",
      "125it [03:05,  1.83s/it]"
     ]
    },
    {
     "name": "stdout",
     "output_type": "stream",
     "text": [
      "<bos>\n",
      "    <start_of_turn>user\n",
      "    Translate the sentence into urdu and only return the translation:\n",
      "\n",
      "    (Translated by Google) For\n",
      "\n",
      "(Original)\n",
      "Za<end_of_turn>\n",
      "    <start_of_turn>model\n",
      "    Za \n",
      "<end_of_turn>\n"
     ]
    },
    {
     "name": "stderr",
     "output_type": "stream",
     "text": [
      "\r",
      "126it [03:06,  1.34s/it]"
     ]
    },
    {
     "name": "stdout",
     "output_type": "stream",
     "text": [
      "<bos>\n",
      "    <start_of_turn>user\n",
      "    Translate the sentence into urdu and only return the translation:\n",
      "\n",
      "    As in the case of those before you: they were mightier than you in power, and more flourishing in wealth and children. They had their enjoyment of their portion: and ye have of yours, as did those before you; and ye indulge in idle talk as they did. They!- their work are fruitless in this world and in the Hereafter, and they will lose (all spiritual good).<end_of_turn>\n",
      "    <start_of_turn>model\n",
      "    یہاں پہلے لوگوں کی طرح، ان کی طاقت میں ان سے بڑھتی تھیں، اور مال و progeny میں بھی بہتر تھیں۔ ان کی اپنی قسمت میں خوشی تھی، اور آپ کی اپنی قسمت میں خوشی ہے، اور آپ ان کی طرح بے فائدہ باتیں کرتے ہیں۔ ان کی کار  آخرت میں بھی فایده نہیں رہی، اور وہ (سب سے بڑا) معنوی فائدہ سے محروم ہوں گے۔ \n",
      "<end_of_turn>\n"
     ]
    },
    {
     "name": "stderr",
     "output_type": "stream",
     "text": [
      "\r",
      "127it [03:10,  2.28s/it]"
     ]
    },
    {
     "name": "stdout",
     "output_type": "stream",
     "text": [
      "<bos>\n",
      "    <start_of_turn>user\n",
      "    Translate the sentence into urdu and only return the translation:\n",
      "\n",
      "    Their lamb roast is best. Icecream is very good. Rest all food has become awful over time<end_of_turn>\n",
      "    <start_of_turn>model\n",
      "    اپنے گُل کی پکڑی بہترین ہے.  یہا  چُٹا بہت اچھا ہے۔ باقی ہر چیز کے ساتھ ساتھ  تاریخی طور پر  بڑا  بڑا  ہو چلا ہے۔ \n",
      "<end_of_turn>\n"
     ]
    },
    {
     "name": "stderr",
     "output_type": "stream",
     "text": [
      "\r",
      "128it [03:12,  2.28s/it]"
     ]
    },
    {
     "name": "stdout",
     "output_type": "stream",
     "text": [
      "<bos>\n",
      "    <start_of_turn>user\n",
      "    Translate the sentence into urdu and only return the translation:\n",
      "\n",
      "    Do you even like me?<end_of_turn>\n",
      "    <start_of_turn>model\n",
      "    ہاں، میں تم سے محبت کرتا ہوں؟ \n",
      "<end_of_turn>\n"
     ]
    },
    {
     "name": "stderr",
     "output_type": "stream",
     "text": [
      "\r",
      "129it [03:13,  1.79s/it]"
     ]
    },
    {
     "name": "stdout",
     "output_type": "stream",
     "text": [
      "<bos>\n",
      "    <start_of_turn>user\n",
      "    Translate the sentence into urdu and only return the translation:\n",
      "\n",
      "    Amazing Food. Do try beef stake. Everything was perfectly served and on time<end_of_turn>\n",
      "    <start_of_turn>model\n",
      "    محبت کی غذا.  بے فکڑی پکڑی  کو تلاش کریں.  ہر چیز  وقت  پر  سے  سے  سے  سے  سے  سے  سے  سے  سے  سے  سے  سے  سے  سے  سے  سے  سے  سے  سے  سے  سے  سے  سے  سے  سے  سے  سے  سے  سے  سے  سے  سے  سے\n"
     ]
    },
    {
     "name": "stderr",
     "output_type": "stream",
     "text": [
      "\r",
      "130it [03:18,  2.72s/it]"
     ]
    },
    {
     "name": "stdout",
     "output_type": "stream",
     "text": [
      "<bos>\n",
      "    <start_of_turn>user\n",
      "    Translate the sentence into urdu and only return the translation:\n",
      "\n",
      "    Not your desires, nor those of the People of the Book (can prevail): whoever works evil, will be requited accordingly. Nor will he find, besides Allah, any protector or helper.<end_of_turn>\n",
      "    <start_of_turn>model\n",
      "    اپنی خواسته نہیں، نہ کتابی کے لوگوں کی خواہش نہیں، کسی بھی بدکار کی کوئی عقاب ہوگی۔ اور اللہ کے علاوہ کسی بھی مددگار یا حامی نہیں۔ \n",
      "<end_of_turn>\n"
     ]
    },
    {
     "name": "stderr",
     "output_type": "stream",
     "text": [
      "\r",
      "131it [03:20,  2.49s/it]"
     ]
    },
    {
     "name": "stdout",
     "output_type": "stream",
     "text": [
      "<bos>\n",
      "    <start_of_turn>user\n",
      "    Translate the sentence into urdu and only return the translation:\n",
      "\n",
      "    But he answered her not a word . And his disciples came and besought him , saying , Send her away ; for she crieth after us .<end_of_turn>\n",
      "    <start_of_turn>model\n",
      "    ہے، وہ انکار کر کے کہیں بھی بات نہیں کی۔ اور اس کے شاگرد، اس پر بڑھتے ہوئے، کہنے لگے، \"ہے، اسے ہٹا دیا جائے، کیونکہ وہ ہمیں چھڑی رہی ہے۔\" \n",
      "<end_of_turn>\n"
     ]
    },
    {
     "name": "stderr",
     "output_type": "stream",
     "text": [
      "\r",
      "132it [03:23,  2.53s/it]"
     ]
    },
    {
     "name": "stdout",
     "output_type": "stream",
     "text": [
      "<bos>\n",
      "    <start_of_turn>user\n",
      "    Translate the sentence into urdu and only return the translation:\n",
      "\n",
      "    Good taste<end_of_turn>\n",
      "    <start_of_turn>model\n",
      "    بہترین مذاق \n",
      "<end_of_turn>\n"
     ]
    },
    {
     "name": "stderr",
     "output_type": "stream",
     "text": [
      "\r",
      "133it [03:23,  1.88s/it]"
     ]
    },
    {
     "name": "stdout",
     "output_type": "stream",
     "text": [
      "<bos>\n",
      "    <start_of_turn>user\n",
      "    Translate the sentence into urdu and only return the translation:\n",
      "\n",
      "    Went near this hotel<end_of_turn>\n",
      "    <start_of_turn>model\n",
      "    یہ ہotel کے قریب آیا \n",
      "<end_of_turn>\n"
     ]
    },
    {
     "name": "stderr",
     "output_type": "stream",
     "text": [
      "\r",
      "134it [03:23,  1.45s/it]"
     ]
    },
    {
     "name": "stdout",
     "output_type": "stream",
     "text": [
      "<bos>\n",
      "    <start_of_turn>user\n",
      "    Translate the sentence into urdu and only return the translation:\n",
      "\n",
      "    One of the best BBQ in town, Specially Shahi chatak boti & kabab fry<end_of_turn>\n",
      "    <start_of_turn>model\n",
      "    یہاں کے بہترین BBQ میں سے ایک، خاص طور پر شہی چٹکboti اور کباب فرای \n",
      "<end_of_turn>\n"
     ]
    },
    {
     "name": "stderr",
     "output_type": "stream",
     "text": [
      "\r",
      "135it [03:24,  1.37s/it]"
     ]
    },
    {
     "name": "stdout",
     "output_type": "stream",
     "text": [
      "<bos>\n",
      "    <start_of_turn>user\n",
      "    Translate the sentence into urdu and only return the translation:\n",
      "\n",
      "    The name of my city is Jhelum.<end_of_turn>\n",
      "    <start_of_turn>model\n",
      "    měnā kī şāyī jhelum hai. \n",
      "<end_of_turn>\n"
     ]
    },
    {
     "name": "stderr",
     "output_type": "stream",
     "text": [
      "\r",
      "136it [03:25,  1.16s/it]"
     ]
    },
    {
     "name": "stdout",
     "output_type": "stream",
     "text": [
      "<bos>\n",
      "    <start_of_turn>user\n",
      "    Translate the sentence into urdu and only return the translation:\n",
      "\n",
      "    Very slow service. Third class food quality<end_of_turn>\n",
      "    <start_of_turn>model\n",
      "    بہت سستservicing.  سے  Third class  food quality \n",
      "<end_of_turn>\n"
     ]
    },
    {
     "name": "stderr",
     "output_type": "stream",
     "text": [
      "\r",
      "137it [03:26,  1.05s/it]"
     ]
    },
    {
     "name": "stdout",
     "output_type": "stream",
     "text": [
      "<bos>\n",
      "    <start_of_turn>user\n",
      "    Translate the sentence into urdu and only return the translation:\n",
      "\n",
      "    Yummy<end_of_turn>\n",
      "    <start_of_turn>model\n",
      "    خوشمزه \n",
      "<end_of_turn>\n"
     ]
    },
    {
     "name": "stderr",
     "output_type": "stream",
     "text": [
      "\r",
      "138it [03:26,  1.23it/s]"
     ]
    },
    {
     "name": "stdout",
     "output_type": "stream",
     "text": [
      "<bos>\n",
      "    <start_of_turn>user\n",
      "    Translate the sentence into urdu and only return the translation:\n",
      "\n",
      "    Good food in this area especially<end_of_turn>\n",
      "    <start_of_turn>model\n",
      "    یہ علاقے میں بہترین کھانا خاص طور پر \n",
      "<end_of_turn>\n"
     ]
    },
    {
     "name": "stderr",
     "output_type": "stream",
     "text": [
      "\r",
      "139it [03:27,  1.32it/s]"
     ]
    },
    {
     "name": "stdout",
     "output_type": "stream",
     "text": [
      "<bos>\n",
      "    <start_of_turn>user\n",
      "    Translate the sentence into urdu and only return the translation:\n",
      "\n",
      "    Malai boti and karahe was good here<end_of_turn>\n",
      "    <start_of_turn>model\n",
      "    مالےboti اور کراہی یہاں بہت  خوب  ہے \n",
      "<end_of_turn>\n"
     ]
    },
    {
     "name": "stderr",
     "output_type": "stream",
     "text": [
      "\r",
      "140it [03:28,  1.28it/s]"
     ]
    },
    {
     "name": "stdout",
     "output_type": "stream",
     "text": [
      "<bos>\n",
      "    <start_of_turn>user\n",
      "    Translate the sentence into urdu and only return the translation:\n",
      "\n",
      "    Good taste.<end_of_turn>\n",
      "    <start_of_turn>model\n",
      "    خوب گزینہ \n",
      "<end_of_turn>\n"
     ]
    },
    {
     "name": "stderr",
     "output_type": "stream",
     "text": [
      "\r",
      "141it [03:28,  1.58it/s]"
     ]
    },
    {
     "name": "stdout",
     "output_type": "stream",
     "text": [
      "<bos>\n",
      "    <start_of_turn>user\n",
      "    Translate the sentence into urdu and only return the translation:\n",
      "\n",
      "    I am sweating too much.<end_of_turn>\n",
      "    <start_of_turn>model\n",
      "    میں بہت زیادہ چھڑ رہا ہوں. \n",
      "<end_of_turn>\n"
     ]
    },
    {
     "name": "stderr",
     "output_type": "stream",
     "text": [
      "\r",
      "142it [03:29,  1.55it/s]"
     ]
    },
    {
     "name": "stdout",
     "output_type": "stream",
     "text": [
      "<bos>\n",
      "    <start_of_turn>user\n",
      "    Translate the sentence into urdu and only return the translation:\n",
      "\n",
      "    What is time, please?<end_of_turn>\n",
      "    <start_of_turn>model\n",
      "    وقت کیا ہے؟ \n",
      "<end_of_turn>\n"
     ]
    },
    {
     "name": "stderr",
     "output_type": "stream",
     "text": [
      "\r",
      "143it [03:29,  1.84it/s]"
     ]
    },
    {
     "name": "stdout",
     "output_type": "stream",
     "text": [
      "<bos>\n",
      "    <start_of_turn>user\n",
      "    Translate the sentence into urdu and only return the translation:\n",
      "\n",
      "    And the likeness of a corrupt word is as a corrupt tree -- uprooted from the earth, having no stablishment.<end_of_turn>\n",
      "    <start_of_turn>model\n",
      "    اور کُرپ کی لک کی طرح ایک کُرپ درخت - زمین سے لکڑا ہو کر،  نہیں  تکائف  ہے. \n",
      "<end_of_turn>\n"
     ]
    },
    {
     "name": "stderr",
     "output_type": "stream",
     "text": [
      "\r",
      "144it [03:31,  1.16it/s]"
     ]
    },
    {
     "name": "stdout",
     "output_type": "stream",
     "text": [
      "<bos>\n",
      "    <start_of_turn>user\n",
      "    Translate the sentence into urdu and only return the translation:\n",
      "\n",
      "    I havery taken parcel of hot n sore soup yesterday was very good n tasty .<end_of_turn>\n",
      "    <start_of_turn>model\n",
      "     yesterday  ہیں  چھوٹا  ہے  ہے  ہے  ہے  ہے  ہے  ہے  ہے  ہے  ہے  ہے  ہے  ہے  ہے  ہے  ہے  ہے  ہے  ہے  ہے  ہے  ہے  ہے  ہے  ہے  ہے  ہے  ہے  ہے  ہے  ہے  ہے  ہے  ہے  ہے  ہے  ہے  ہے  ہے  ہ\n"
     ]
    },
    {
     "name": "stderr",
     "output_type": "stream",
     "text": [
      "\r",
      "145it [03:35,  2.07s/it]"
     ]
    },
    {
     "name": "stdout",
     "output_type": "stream",
     "text": [
      "<bos>\n",
      "    <start_of_turn>user\n",
      "    Translate the sentence into urdu and only return the translation:\n",
      "\n",
      "    (Translated by Google) It was great and the management was great<end_of_turn>\n",
      "    <start_of_turn>model\n",
      "    یہ بہت خوب تھا اور ان کی  تعلیم بہت  خوب تھی \n",
      "<end_of_turn>\n"
     ]
    },
    {
     "name": "stderr",
     "output_type": "stream",
     "text": [
      "\r",
      "146it [03:36,  1.70s/it]"
     ]
    },
    {
     "name": "stdout",
     "output_type": "stream",
     "text": [
      "<bos>\n",
      "    <start_of_turn>user\n",
      "    Translate the sentence into urdu and only return the translation:\n",
      "\n",
      "    The Newspapers have labelled him as a traitor.<end_of_turn>\n",
      "    <start_of_turn>model\n",
      "    ڈاکٹر نے اس کو جھوٹے کا نام لیا ہے۔ \n",
      "<end_of_turn>\n"
     ]
    },
    {
     "name": "stderr",
     "output_type": "stream",
     "text": [
      "\r",
      "147it [03:37,  1.40s/it]"
     ]
    },
    {
     "name": "stdout",
     "output_type": "stream",
     "text": [
      "<bos>\n",
      "    <start_of_turn>user\n",
      "    Translate the sentence into urdu and only return the translation:\n",
      "\n",
      "    Please tell Me if you dont want a better service why you open that hotel I went yesterday In the Ground floor of maliks but Uncle with glass were very rude with my family <end_of_turn>\n",
      "    <start_of_turn>model\n",
      "    میں تم سے پوچھنے کی ضرورت ہے کہ تمہیں بہترसेवा نہیں چاہیے، تو کیا تمہارے پاس یہ گھر کھولنے کی کیا ضرورت ہے؟ میں پچھلے روز ملائک کے گھر کے گھر میں گیا تھا، جہاں میں نے ایک چھوٹے چھوٹے گھر میں ایک چھوٹے چھوٹے گھر میں ایک چھوٹے چھوٹے گھر میں ایک چھوٹے چھوٹے گھر میں ایک چھوٹے چھوٹے گھر میں ایک\n"
     ]
    },
    {
     "name": "stderr",
     "output_type": "stream",
     "text": [
      "\r",
      "148it [03:42,  2.45s/it]"
     ]
    },
    {
     "name": "stdout",
     "output_type": "stream",
     "text": [
      "<bos>\n",
      "    <start_of_turn>user\n",
      "    Translate the sentence into urdu and only return the translation:\n",
      "\n",
      "     It's a very large school.<end_of_turn>\n",
      "    <start_of_turn>model\n",
      "    یہ ایک بہت بڑا اسکول ہے۔ \n",
      "<end_of_turn>\n"
     ]
    },
    {
     "name": "stderr",
     "output_type": "stream",
     "text": [
      "\r",
      "149it [03:42,  1.89s/it]"
     ]
    },
    {
     "name": "stdout",
     "output_type": "stream",
     "text": [
      "<bos>\n",
      "    <start_of_turn>user\n",
      "    Translate the sentence into urdu and only return the translation:\n",
      "\n",
      "    (Translated by Google) Shahi chatakh yummm\n",
      "\n",
      "(Original)\n",
      "Shahi chatakh yummm<end_of_turn>\n",
      "    <start_of_turn>model\n",
      "    شہاچاتھ yummm \n",
      "<end_of_turn>\n"
     ]
    },
    {
     "name": "stderr",
     "output_type": "stream",
     "text": [
      "\r",
      "150it [03:43,  1.45s/it]"
     ]
    },
    {
     "name": "stdout",
     "output_type": "stream",
     "text": [
      "<bos>\n",
      "    <start_of_turn>user\n",
      "    Translate the sentence into urdu and only return the translation:\n",
      "\n",
      "     as well as damage to the sexual health of both males and females. It can induce anxiety attacks<end_of_turn>\n",
      "    <start_of_turn>model\n",
      "    انہیں  جن میں  ان کی  جنسی صحت  کی  تباہی  کی  تباہی  کی  تباہی  کی  تباہی  کی  تباہی  کی  تباہی  کی  تباہی  کی  تباہی  کی  تباہی  کی  تباہی  کی  تباہی  کی  تباہی  کی  تباہی  کی  تباہی  کی  تباہی  کی  تباہی  کی\n"
     ]
    },
    {
     "name": "stderr",
     "output_type": "stream",
     "text": [
      "\r",
      "151it [03:48,  2.50s/it]"
     ]
    },
    {
     "name": "stdout",
     "output_type": "stream",
     "text": [
      "<bos>\n",
      "    <start_of_turn>user\n",
      "    Translate the sentence into urdu and only return the translation:\n",
      "\n",
      "    So the likeness served, and for an hour I stood there, feeling as weary and blase as though I had been a king all my life; and everybody kissed my hand, and the ambassadors paid me their respects, among them old Lord Topham, at whose house in Grosvenor Square I had danced a score of times.<end_of_turn>\n",
      "    <start_of_turn>model\n",
      "    یہ likeness  کی وجہ سے، ایک گھنٹہ تک میں وہاں کھڑا رہا،  کیا  میں  ایک  رہا  کیا  میں  ایک  رہا  کیا  میں  ایک  رہا  کیا  میں  ایک  رہا  کیا  میں  ایک  رہا  کیا  میں  ایک  رہا  کیا  میں  ایک  رہا  کیا  میں  ایک  رہا  کیا  میں  \n"
     ]
    },
    {
     "name": "stderr",
     "output_type": "stream",
     "text": [
      "\r",
      "152it [03:53,  3.24s/it]"
     ]
    },
    {
     "name": "stdout",
     "output_type": "stream",
     "text": [
      "<bos>\n",
      "    <start_of_turn>user\n",
      "    Translate the sentence into urdu and only return the translation:\n",
      "\n",
      "    Loved this place perfect taste in a budget price<end_of_turn>\n",
      "    <start_of_turn>model\n",
      "    یہ مکان میں محبت ہوئی،  قیمت میں بہترین تازگی \n",
      "<end_of_turn>\n"
     ]
    },
    {
     "name": "stderr",
     "output_type": "stream",
     "text": [
      "\r",
      "153it [03:54,  2.50s/it]"
     ]
    },
    {
     "name": "stdout",
     "output_type": "stream",
     "text": [
      "<bos>\n",
      "    <start_of_turn>user\n",
      "    Translate the sentence into urdu and only return the translation:\n",
      "\n",
      "    What think ye ? They answered and said , He is guilty of death .<end_of_turn>\n",
      "    <start_of_turn>model\n",
      "    یہ کیا سوچتے ہیں؟ انہوں نے کہا، وہ  مահ کی جرمی ہے۔ \n",
      "<end_of_turn>\n"
     ]
    },
    {
     "name": "stderr",
     "output_type": "stream",
     "text": [
      "\r",
      "154it [03:55,  2.07s/it]"
     ]
    },
    {
     "name": "stdout",
     "output_type": "stream",
     "text": [
      "<bos>\n",
      "    <start_of_turn>user\n",
      "    Translate the sentence into urdu and only return the translation:\n",
      "\n",
      "    Amazing<end_of_turn>\n",
      "    <start_of_turn>model\n",
      "    بklasse \n",
      "<end_of_turn>\n"
     ]
    },
    {
     "name": "stderr",
     "output_type": "stream",
     "text": [
      "\r",
      "155it [03:55,  1.51s/it]"
     ]
    },
    {
     "name": "stdout",
     "output_type": "stream",
     "text": [
      "<bos>\n",
      "    <start_of_turn>user\n",
      "    Translate the sentence into urdu and only return the translation:\n",
      "\n",
      "    in January1982. Decades later, the series still draws an enthusiastic response.<end_of_turn>\n",
      "    <start_of_turn>model\n",
      "    جنوری 1982 میں. دہائیوں بعد، ٹیوبل अभी بھی ایک متعصب ردعمل دیتا ہے۔ \n",
      "<end_of_turn>\n"
     ]
    },
    {
     "name": "stderr",
     "output_type": "stream",
     "text": [
      "\r",
      "156it [03:56,  1.45s/it]"
     ]
    },
    {
     "name": "stdout",
     "output_type": "stream",
     "text": [
      "<bos>\n",
      "    <start_of_turn>user\n",
      "    Translate the sentence into urdu and only return the translation:\n",
      "\n",
      "    Just try Italians chiken very tasty, i you planed to eats here must try this<end_of_turn>\n",
      "    <start_of_turn>model\n",
      "    یہیں  یہ  یہ  یہ  یہ  یہ  یہ  یہ  یہ  یہ  یہ  یہ  یہ  یہ  یہ  یہ  یہ  یہ  یہ  یہ  یہ  یہ  یہ  یہ  یہ  یہ  یہ  یہ  یہ  یہ  یہ  یہ  یہ  یہ  یہ  یہ  یہ  یہ  یہ  یہ  یہ  یہ  ی\n"
     ]
    },
    {
     "name": "stderr",
     "output_type": "stream",
     "text": [
      "\r",
      "157it [04:01,  2.47s/it]"
     ]
    },
    {
     "name": "stdout",
     "output_type": "stream",
     "text": [
      "<bos>\n",
      "    <start_of_turn>user\n",
      "    Translate the sentence into urdu and only return the translation:\n",
      "\n",
      "    You must tell them the truth.<end_of_turn>\n",
      "    <start_of_turn>model\n",
      "    ہم انہیں کہاؤں کہ وہ کہاؤں۔ \n",
      "<end_of_turn>\n"
     ]
    },
    {
     "name": "stderr",
     "output_type": "stream",
     "text": [
      "\r",
      "158it [04:02,  1.95s/it]"
     ]
    },
    {
     "name": "stdout",
     "output_type": "stream",
     "text": [
      "<bos>\n",
      "    <start_of_turn>user\n",
      "    Translate the sentence into urdu and only return the translation:\n",
      "\n",
      "    It is always great to have a meal here, very delicious food<end_of_turn>\n",
      "    <start_of_turn>model\n",
      "    ہر وقت یہاں کھانا بہت ہی اچھا ہے، بہت لذیذ کھانا \n",
      "<end_of_turn>\n"
     ]
    },
    {
     "name": "stderr",
     "output_type": "stream",
     "text": [
      "\r",
      "159it [04:03,  1.66s/it]"
     ]
    },
    {
     "name": "stdout",
     "output_type": "stream",
     "text": [
      "<bos>\n",
      "    <start_of_turn>user\n",
      "    Translate the sentence into urdu and only return the translation:\n",
      "\n",
      "    Awesome food and nice place<end_of_turn>\n",
      "    <start_of_turn>model\n",
      "    محبت کی غذا اور خوبہ مکان \n",
      "<end_of_turn>\n"
     ]
    },
    {
     "name": "stderr",
     "output_type": "stream",
     "text": [
      "\r",
      "160it [04:03,  1.29s/it]"
     ]
    },
    {
     "name": "stdout",
     "output_type": "stream",
     "text": [
      "<bos>\n",
      "    <start_of_turn>user\n",
      "    Translate the sentence into urdu and only return the translation:\n",
      "\n",
      "    Delicious Food Excellent Staff and beautiful Venue.<end_of_turn>\n",
      "    <start_of_turn>model\n",
      "    طعم لذیذ،servants  خوب،  و  مکان زیبا. \n",
      "<end_of_turn>\n"
     ]
    },
    {
     "name": "stderr",
     "output_type": "stream",
     "text": [
      "\r",
      "161it [04:04,  1.16s/it]"
     ]
    },
    {
     "name": "stdout",
     "output_type": "stream",
     "text": [
      "<bos>\n",
      "    <start_of_turn>user\n",
      "    Translate the sentence into urdu and only return the translation:\n",
      "\n",
      "    What is over there?<end_of_turn>\n",
      "    <start_of_turn>model\n",
      "    کونہیں وہیں؟ \n",
      "<end_of_turn>\n"
     ]
    },
    {
     "name": "stderr",
     "output_type": "stream",
     "text": [
      "\r",
      "162it [04:04,  1.07it/s]"
     ]
    },
    {
     "name": "stdout",
     "output_type": "stream",
     "text": [
      "<bos>\n",
      "    <start_of_turn>user\n",
      "    Translate the sentence into urdu and only return the translation:\n",
      "\n",
      "    The punishment of those who wage war against Allah and His Messenger, and strive with might and main for mischief through the land is: execution, or crucifixion, or the cutting off of hands and feet from opposite sides, or exile from the land: that is their disgrace in this world, and a heavy punishment is theirs in the Hereafter;<end_of_turn>\n",
      "    <start_of_turn>model\n",
      "    انے لوگوں کی حکمیت، جو اللہ اور اس کے مہاجر کے خلاف جنگ لڑتے ہیں، اور زمین پر بڑی طاقت سے کامیابی کے لیے کامیابی کے لیے کامیابی کے لیے کامیابی کے لیے کامیابی کے لیے کامیابی کے لیے کامیابی کے لیے کامیابی کے لیے کامیابی کے لیے کامیابی کے لیے کامیابی کے لیے کامیابی کے لیے کامیابی کے لیے کامیابی کے لیے کامیابی کے لیے کامیابی کے لیے کامیابی کے لیے کامیابی کے لیے کامی\n"
     ]
    },
    {
     "name": "stderr",
     "output_type": "stream",
     "text": [
      "\r",
      "163it [04:09,  2.12s/it]"
     ]
    },
    {
     "name": "stdout",
     "output_type": "stream",
     "text": [
      "<bos>\n",
      "    <start_of_turn>user\n",
      "    Translate the sentence into urdu and only return the translation:\n",
      "\n",
      "    Very nice restaurants & gyms  there<end_of_turn>\n",
      "    <start_of_turn>model\n",
      "    بسیار خوبrestaurants  اور  gyms  ہیں \n",
      "<end_of_turn>\n"
     ]
    },
    {
     "name": "stderr",
     "output_type": "stream",
     "text": [
      "\r",
      "164it [04:10,  1.70s/it]"
     ]
    },
    {
     "name": "stdout",
     "output_type": "stream",
     "text": [
      "<bos>\n",
      "    <start_of_turn>user\n",
      "    Translate the sentence into urdu and only return the translation:\n",
      "\n",
      "    (Translated by Google) Koila karhai who bhi mutton ki..ala bht ala...\n",
      "\n",
      "(Original)\n",
      "Koila karhai who bhi mutton ki..ala bht ala...<end_of_turn>\n",
      "    <start_of_turn>model\n",
      "    کوئی لہو چاپی گھڑی میں گھڑی کی..  \n",
      "<end_of_turn>\n"
     ]
    },
    {
     "name": "stderr",
     "output_type": "stream",
     "text": [
      "\r",
      "165it [04:11,  1.45s/it]"
     ]
    },
    {
     "name": "stdout",
     "output_type": "stream",
     "text": [
      "<bos>\n",
      "    <start_of_turn>user\n",
      "    Translate the sentence into urdu and only return the translation:\n",
      "\n",
      "    He is the one who takes the initiative to heal the rift.<end_of_turn>\n",
      "    <start_of_turn>model\n",
      "     وہ وہ ہے جو رIFT کو lànhلنے کا اہتمام کرتا ہے۔ \n",
      "<end_of_turn>\n"
     ]
    },
    {
     "name": "stderr",
     "output_type": "stream",
     "text": [
      "\r",
      "166it [04:12,  1.25s/it]"
     ]
    },
    {
     "name": "stdout",
     "output_type": "stream",
     "text": [
      "<bos>\n",
      "    <start_of_turn>user\n",
      "    Translate the sentence into urdu and only return the translation:\n",
      "\n",
      "    I have written \"gaily,\" and a strange word it must seem.<end_of_turn>\n",
      "    <start_of_turn>model\n",
      "    مجھے \"gaily\" لکھا ہے، اور یہ ایک غریب لفظ لگتا ہے۔ \n",
      "<end_of_turn>\n"
     ]
    },
    {
     "name": "stderr",
     "output_type": "stream",
     "text": [
      "\r",
      "167it [04:13,  1.16s/it]"
     ]
    },
    {
     "name": "stdout",
     "output_type": "stream",
     "text": [
      "<bos>\n",
      "    <start_of_turn>user\n",
      "    Translate the sentence into urdu and only return the translation:\n",
      "\n",
      "    Worst experience, late serving.\n",
      "No taste in food only.<end_of_turn>\n",
      "    <start_of_turn>model\n",
      "    کبھی بھی بہتر تجربہ نہیں، پکڑنے میں تاخیر۔  کھان میں کوئی تازگی نہیں ہے۔ \n",
      "<end_of_turn>\n"
     ]
    },
    {
     "name": "stderr",
     "output_type": "stream",
     "text": [
      "\r",
      "168it [04:14,  1.21s/it]"
     ]
    },
    {
     "name": "stdout",
     "output_type": "stream",
     "text": [
      "<bos>\n",
      "    <start_of_turn>user\n",
      "    Translate the sentence into urdu and only return the translation:\n",
      "\n",
      "    Awesome<end_of_turn>\n",
      "    <start_of_turn>model\n",
      "    بklasse \n",
      "<end_of_turn>\n"
     ]
    },
    {
     "name": "stderr",
     "output_type": "stream",
     "text": [
      "\r",
      "169it [04:14,  1.10it/s]"
     ]
    },
    {
     "name": "stdout",
     "output_type": "stream",
     "text": [
      "<bos>\n",
      "    <start_of_turn>user\n",
      "    Translate the sentence into urdu and only return the translation:\n",
      "\n",
      "    Gud place to eat with friends<end_of_turn>\n",
      "    <start_of_turn>model\n",
      "    خوب  یہ  ایک  جگہ  ہے  جہاں  فرnds  کا  اٹھنا  ہے \n",
      "<end_of_turn>\n"
     ]
    },
    {
     "name": "stderr",
     "output_type": "stream",
     "text": [
      "\r",
      "170it [04:15,  1.02s/it]"
     ]
    },
    {
     "name": "stdout",
     "output_type": "stream",
     "text": [
      "<bos>\n",
      "    <start_of_turn>user\n",
      "    Translate the sentence into urdu and only return the translation:\n",
      "\n",
      "    ”\n",
      "\n",
      "“It was offered with good will,” said Dantès<end_of_turn>\n",
      "    <start_of_turn>model\n",
      "    \"انے بہتر مراد سے پیش کیا گیا\"  Dantès نے کہا. \n",
      "<end_of_turn>\n"
     ]
    },
    {
     "name": "stderr",
     "output_type": "stream",
     "text": [
      "\r",
      "171it [04:16,  1.02it/s]"
     ]
    },
    {
     "name": "stdout",
     "output_type": "stream",
     "text": [
      "<bos>\n",
      "    <start_of_turn>user\n",
      "    Translate the sentence into urdu and only return the translation:\n",
      "\n",
      "    (Translated by Google) khana bahot late aya ...\n",
      "jab aya tab afghani boti kacchi thi\n",
      "fajita steak kaccha tha...\n",
      "\n",
      "not recommended\n",
      "\n",
      "(Original)\n",
      "khana bahot late aya ...\n",
      "jab aya tab afghani boti kacchi thi\n",
      "fajita steak kaccha tha...\n",
      "\n",
      "not recommended<end_of_turn>\n",
      "    <start_of_turn>model\n",
      "    کھانا بہت لاتی آئے...\n",
      "    جاب آئے تو افغانی بٹیا کچا تھی\n",
      "    فائیتا سٹیک کچا تھی... \n",
      " \n",
      "<end_of_turn>\n"
     ]
    },
    {
     "name": "stderr",
     "output_type": "stream",
     "text": [
      "\r",
      "172it [04:18,  1.23s/it]"
     ]
    },
    {
     "name": "stdout",
     "output_type": "stream",
     "text": [
      "<bos>\n",
      "    <start_of_turn>user\n",
      "    Translate the sentence into urdu and only return the translation:\n",
      "\n",
      "    Ok<end_of_turn>\n",
      "    <start_of_turn>model\n",
      "    آ okay \n",
      "<end_of_turn>\n"
     ]
    },
    {
     "name": "stderr",
     "output_type": "stream",
     "text": [
      "\r",
      "173it [04:18,  1.08it/s]"
     ]
    },
    {
     "name": "stdout",
     "output_type": "stream",
     "text": [
      "<bos>\n",
      "    <start_of_turn>user\n",
      "    Translate the sentence into urdu and only return the translation:\n",
      "\n",
      "    Then answer the following questions.<end_of_turn>\n",
      "    <start_of_turn>model\n",
      "    بعد از اس کے جواب دیتے ہیں۔ \n",
      "<end_of_turn>\n"
     ]
    },
    {
     "name": "stderr",
     "output_type": "stream",
     "text": [
      "\r",
      "174it [04:19,  1.26it/s]"
     ]
    },
    {
     "name": "stdout",
     "output_type": "stream",
     "text": [
      "<bos>\n",
      "    <start_of_turn>user\n",
      "    Translate the sentence into urdu and only return the translation:\n",
      "\n",
      "    Attended engagement ceremony of Kashif and Zubda<end_of_turn>\n",
      "    <start_of_turn>model\n",
      "     Kashif اور Zubda کی شادی کی شرکت کی. \n",
      "<end_of_turn>\n"
     ]
    },
    {
     "name": "stderr",
     "output_type": "stream",
     "text": [
      "\r",
      "175it [04:19,  1.36it/s]"
     ]
    },
    {
     "name": "stdout",
     "output_type": "stream",
     "text": [
      "<bos>\n",
      "    <start_of_turn>user\n",
      "    Translate the sentence into urdu and only return the translation:\n",
      "\n",
      "    (Translated by Google) Nazimabad<end_of_turn>\n",
      "    <start_of_turn>model\n",
      "    نازیما baden \n",
      "<end_of_turn>\n"
     ]
    },
    {
     "name": "stderr",
     "output_type": "stream",
     "text": [
      "\r",
      "176it [04:20,  1.66it/s]"
     ]
    },
    {
     "name": "stdout",
     "output_type": "stream",
     "text": [
      "<bos>\n",
      "    <start_of_turn>user\n",
      "    Translate the sentence into urdu and only return the translation:\n",
      "\n",
      "    And when he was come into Jerusalem , all the city was moved , saying , Who is this ?<end_of_turn>\n",
      "    <start_of_turn>model\n",
      "    اور جب وہ Jerusalén میں داخل ہوا تو کلّی شہر متحیر ہو گیا، کہ یہ کیسے ہے؟ \n",
      "<end_of_turn>\n"
     ]
    },
    {
     "name": "stderr",
     "output_type": "stream",
     "text": [
      "\r",
      "177it [04:21,  1.36it/s]"
     ]
    },
    {
     "name": "stdout",
     "output_type": "stream",
     "text": [
      "<bos>\n",
      "    <start_of_turn>user\n",
      "    Translate the sentence into urdu and only return the translation:\n",
      "\n",
      "    Ok for dhaba type<end_of_turn>\n",
      "    <start_of_turn>model\n",
      "    ڈھبہ کی طرح  \n",
      "<end_of_turn>\n"
     ]
    },
    {
     "name": "stderr",
     "output_type": "stream",
     "text": [
      "\r",
      "178it [04:21,  1.60it/s]"
     ]
    },
    {
     "name": "stdout",
     "output_type": "stream",
     "text": [
      "<bos>\n",
      "    <start_of_turn>user\n",
      "    Translate the sentence into urdu and only return the translation:\n",
      "\n",
      "    Loved the food there. If you are looking for variety, you will find it here. I had been craving a good Dosa as I had eaten Dosa from an authentic Indian restaurant in Bahrain and D Thaliland's Dosa is somehow near, if not almost, the same taste. Also the Sambhar, the pav Bhaji were quite good. A decent place for families to visit and enjoy fast food, Chinese, Indian and Bar BQ. Do try the red chutney they serve with Pav Bhaji. Good work guys!!!!<end_of_turn>\n",
      "    <start_of_turn>model\n",
      "    کھانا بہت اچھا ہوا. اگر آپ کی ضرورت ہے کہ آپ کی ضرورت ہے، آپ اس پر پکڑیں گے. میں نے ایک بہت اچھا دسے کی ضرورت ہے، کیوں کہ میں نے ایک اچھا دسے کی ضرورت ہے، کیوں کہ میں نے ایک اچھا دسے کی ضرورت ہے، کیوں کہ میں نے ایک اچھا دسے کی ضرورت ہے، کیوں کہ میں نے ایک اچھا دسے کی ضرورت ہے، کیوں کہ میں نے ایک اچھا دسے\n"
     ]
    },
    {
     "name": "stderr",
     "output_type": "stream",
     "text": [
      "\r",
      "179it [04:26,  1.93s/it]"
     ]
    },
    {
     "name": "stdout",
     "output_type": "stream",
     "text": [
      "<bos>\n",
      "    <start_of_turn>user\n",
      "    Translate the sentence into urdu and only return the translation:\n",
      "\n",
      "    Superb<end_of_turn>\n",
      "    <start_of_turn>model\n",
      "    بklasse \n",
      "<end_of_turn>\n"
     ]
    },
    {
     "name": "stderr",
     "output_type": "stream",
     "text": [
      "\r",
      "180it [04:26,  1.41s/it]"
     ]
    },
    {
     "name": "stdout",
     "output_type": "stream",
     "text": [
      "<bos>\n",
      "    <start_of_turn>user\n",
      "    Translate the sentence into urdu and only return the translation:\n",
      "\n",
      "    Very bad experiences the steaks was very small piece of chicken  i mean in steaks they used zinger piece thig piece and chicken kabab they made of not a pure chicken isit like shami kabab .... welll they improve  their food quality  abd quantity....<end_of_turn>\n",
      "    <start_of_turn>model\n",
      "    بہت بڑی نا satisfactory  ٹھکڑی  ہیں۔  \n",
      "<end_of_turn>\n"
     ]
    },
    {
     "name": "stderr",
     "output_type": "stream",
     "text": [
      "\r",
      "181it [04:27,  1.24s/it]"
     ]
    },
    {
     "name": "stdout",
     "output_type": "stream",
     "text": [
      "<bos>\n",
      "    <start_of_turn>user\n",
      "    Translate the sentence into urdu and only return the translation:\n",
      "\n",
      "    Recently had a chance to visit tandoor for the hi-tea , loved their rooftop setup and ambience.\n",
      "They offer 60+ dishes for just 1050 PKR.\n",
      "Would definitely recommend as the food was fresh and worth it.<end_of_turn>\n",
      "    <start_of_turn>model\n",
      "    پچھلے میں تandoor میں ہِی ٹی  پڑا، آپ کی ٹوپ روف  سے  اور  انبیا  میں  لطف  آپ  کی  لطف  آپ  کی  لطف  آپ  کی  لطف  آپ  کی  لطف  آپ  کی  لطف  آپ  کی  لطف  آپ  کی  لطف  آپ  کی  لطف  آپ  کی  لطف  آپ  کی  لطف  آپ  کی  لطف\n"
     ]
    },
    {
     "name": "stderr",
     "output_type": "stream",
     "text": [
      "\r",
      "182it [04:32,  2.35s/it]"
     ]
    },
    {
     "name": "stdout",
     "output_type": "stream",
     "text": [
      "<bos>\n",
      "    <start_of_turn>user\n",
      "    Translate the sentence into urdu and only return the translation:\n",
      "\n",
      "    If you are in karachi and you haven't eaten zameer 'Malai Boti' then you haven't seen karachi much.<end_of_turn>\n",
      "    <start_of_turn>model\n",
      "    اگر کراچی میں ہو اور آپ نے  زمیر  'مالےboti'  کا  اٹھایا  ہے تو کراچی کو  بڑی  بڑی  چاہی  ہے. \n",
      "<end_of_turn>\n"
     ]
    },
    {
     "name": "stderr",
     "output_type": "stream",
     "text": [
      "\r",
      "183it [04:34,  2.27s/it]"
     ]
    },
    {
     "name": "stdout",
     "output_type": "stream",
     "text": [
      "<bos>\n",
      "    <start_of_turn>user\n",
      "    Translate the sentence into urdu and only return the translation:\n",
      "\n",
      "    Awesome\n",
      "Must go<end_of_turn>\n",
      "    <start_of_turn>model\n",
      "    بklasse \n",
      "    \n",
      "<end_of_turn>\n"
     ]
    },
    {
     "name": "stderr",
     "output_type": "stream",
     "text": [
      "\r",
      "184it [04:34,  1.68s/it]"
     ]
    },
    {
     "name": "stdout",
     "output_type": "stream",
     "text": [
      "<bos>\n",
      "    <start_of_turn>user\n",
      "    Translate the sentence into urdu and only return the translation:\n",
      "\n",
      "    Best place for family to come over and eat<end_of_turn>\n",
      "    <start_of_turn>model\n",
      "    خانہ کے لیے بہترین مکان ہے جہاں وہ آتے ہیں اور کھانا پیتے ہیں۔ \n",
      "<end_of_turn>\n"
     ]
    },
    {
     "name": "stderr",
     "output_type": "stream",
     "text": [
      "\r",
      "185it [04:35,  1.47s/it]"
     ]
    },
    {
     "name": "stdout",
     "output_type": "stream",
     "text": [
      "<bos>\n",
      "    <start_of_turn>user\n",
      "    Translate the sentence into urdu and only return the translation:\n",
      "\n",
      "    But those who believe and do deeds of righteousness,- we shall soon admit them to gardens, with rivers flowing beneath,-to dwell therein for ever. Allah's promise is the truth, and whose word can be truer than Allah's?<end_of_turn>\n",
      "    <start_of_turn>model\n",
      "    یہاں وہ لوگ ہیں جو ایمان کرتے ہیں اور کامیابی کے عمل کرتے ہیں، ہم ان کو گھروں میں داخل کریں گے، جہاں بہت سے ندیاں پانی بہتی ہیں، ان میں زندگی گزارا ہوگا، اللہ کی保证 حقیقت ہے، اور کسی کی بات اللہ کی بات سے زیادہ صحیح ہے؟ \n",
      "<end_of_turn>\n"
     ]
    },
    {
     "name": "stderr",
     "output_type": "stream",
     "text": [
      "\r",
      "186it [04:39,  1.99s/it]"
     ]
    },
    {
     "name": "stdout",
     "output_type": "stream",
     "text": [
      "<bos>\n",
      "    <start_of_turn>user\n",
      "    Translate the sentence into urdu and only return the translation:\n",
      "\n",
      "    (Translated by Google) Just a few years later. Significantly improved service and taste.\n",
      "\n",
      "(Original)\n",
      "چند سالوں کے بعد دوبارہ جانا ہوا ابھی۔ سروس اور ذائقہ میں کافی بہتری محسوس کی۔<end_of_turn>\n",
      "    <start_of_turn>model\n",
      "    چند سالوں کے بعد دوبارہ جانا ہوا ابھی۔ سروس اور ذائقہ میں بہتر ہو چکا ہے۔ \n",
      "<end_of_turn>\n"
     ]
    },
    {
     "name": "stderr",
     "output_type": "stream",
     "text": [
      "\r",
      "187it [04:40,  1.75s/it]"
     ]
    },
    {
     "name": "stdout",
     "output_type": "stream",
     "text": [
      "<bos>\n",
      "    <start_of_turn>user\n",
      "    Translate the sentence into urdu and only return the translation:\n",
      "\n",
      "    Daal makhni and moong daal is awesome<end_of_turn>\n",
      "    <start_of_turn>model\n",
      "    دال مکنی اور موong دال بہت  خوب ہے۔ \n",
      "<end_of_turn>\n"
     ]
    },
    {
     "name": "stderr",
     "output_type": "stream",
     "text": [
      "\r",
      "188it [04:41,  1.43s/it]"
     ]
    },
    {
     "name": "stdout",
     "output_type": "stream",
     "text": [
      "<bos>\n",
      "    <start_of_turn>user\n",
      "    Translate the sentence into urdu and only return the translation:\n",
      "\n",
      "    Overall good taste but hygiene needs attention<end_of_turn>\n",
      "    <start_of_turn>model\n",
      "    کلکل خوب تازہ ہے لیکن hygiene پر توجہ دی جائے \n",
      "<end_of_turn>\n"
     ]
    },
    {
     "name": "stderr",
     "output_type": "stream",
     "text": [
      "\r",
      "189it [04:41,  1.22s/it]"
     ]
    },
    {
     "name": "stdout",
     "output_type": "stream",
     "text": [
      "<bos>\n",
      "    <start_of_turn>user\n",
      "    Translate the sentence into urdu and only return the translation:\n",
      "\n",
      "    Very nice experience..... Food is too good.... and dine in experience is fantastic<end_of_turn>\n",
      "    <start_of_turn>model\n",
      "    بklasse تجربہ ہے... کھانا بہت ہی اچھا ہے... اور کھانے کے لیے ایک بہت خوبصورت تجربہ ہے۔ \n",
      "<end_of_turn>\n"
     ]
    },
    {
     "name": "stderr",
     "output_type": "stream",
     "text": [
      "\r",
      "190it [04:43,  1.27s/it]"
     ]
    },
    {
     "name": "stdout",
     "output_type": "stream",
     "text": [
      "<bos>\n",
      "    <start_of_turn>user\n",
      "    Translate the sentence into urdu and only return the translation:\n",
      "\n",
      "    The food is simply amazing , and the family haal is also good <end_of_turn>\n",
      "    <start_of_turn>model\n",
      "    غذا بہت ہی خوب ہے، اور عائلی حال بھی بہت اچھا ہے۔ \n",
      "<end_of_turn>\n"
     ]
    },
    {
     "name": "stderr",
     "output_type": "stream",
     "text": [
      "\r",
      "191it [04:44,  1.16s/it]"
     ]
    },
    {
     "name": "stdout",
     "output_type": "stream",
     "text": [
      "<bos>\n",
      "    <start_of_turn>user\n",
      "    Translate the sentence into urdu and only return the translation:\n",
      "\n",
      "    Woods burn easily.<end_of_turn>\n",
      "    <start_of_turn>model\n",
      "    بڑے درخت جلد چھڑکتے ہیں۔ \n",
      "<end_of_turn>\n"
     ]
    },
    {
     "name": "stderr",
     "output_type": "stream",
     "text": [
      "\r",
      "192it [04:44,  1.02it/s]"
     ]
    },
    {
     "name": "stdout",
     "output_type": "stream",
     "text": [
      "<bos>\n",
      "    <start_of_turn>user\n",
      "    Translate the sentence into urdu and only return the translation:\n",
      "\n",
      "    You have a beautiful name.<end_of_turn>\n",
      "    <start_of_turn>model\n",
      "    نامت زیبہ ہے۔ \n",
      "<end_of_turn>\n"
     ]
    },
    {
     "name": "stderr",
     "output_type": "stream",
     "text": [
      "\r",
      "193it [04:44,  1.27it/s]"
     ]
    },
    {
     "name": "stdout",
     "output_type": "stream",
     "text": [
      "<bos>\n",
      "    <start_of_turn>user\n",
      "    Translate the sentence into urdu and only return the translation:\n",
      "\n",
      "    Nice<end_of_turn>\n",
      "    <start_of_turn>model\n",
      "    خوب \n",
      "<end_of_turn>\n"
     ]
    },
    {
     "name": "stderr",
     "output_type": "stream",
     "text": [
      "\r",
      "194it [04:45,  1.65it/s]"
     ]
    },
    {
     "name": "stdout",
     "output_type": "stream",
     "text": [
      "<bos>\n",
      "    <start_of_turn>user\n",
      "    Translate the sentence into urdu and only return the translation:\n",
      "\n",
      "    He isn't our teacher.<end_of_turn>\n",
      "    <start_of_turn>model\n",
      "    انہیں ہماری ٹیچر نہیں. \n",
      "<end_of_turn>\n"
     ]
    },
    {
     "name": "stderr",
     "output_type": "stream",
     "text": [
      "\r",
      "195it [04:45,  1.69it/s]"
     ]
    },
    {
     "name": "stdout",
     "output_type": "stream",
     "text": [
      "<bos>\n",
      "    <start_of_turn>user\n",
      "    Translate the sentence into urdu and only return the translation:\n",
      "\n",
      "    Roof top restaurant with scrumptious barbeque food.<end_of_turn>\n",
      "    <start_of_turn>model\n",
      "    روفیٹ restaurent  with scrumptious barbeque food. \n",
      "<end_of_turn>\n"
     ]
    },
    {
     "name": "stderr",
     "output_type": "stream",
     "text": [
      "\r",
      "196it [04:46,  1.62it/s]"
     ]
    },
    {
     "name": "stdout",
     "output_type": "stream",
     "text": [
      "<bos>\n",
      "    <start_of_turn>user\n",
      "    Translate the sentence into urdu and only return the translation:\n",
      "\n",
      "    And saith unto him , If thou be the Son of God , cast thyself down : for it is written , He shall give his angels charge concerning thee : and in their hands they shall bear thee up , lest at any time thou dash thy foot against a stone .<end_of_turn>\n",
      "    <start_of_turn>model\n",
      "    اِسْتَغْفِرُوْنَ مِنْهُ،  اِنْ تَحْتَقُوْنَ مِنْهُ،  اِنْ تَحْتَقُوْنَ مِنْهُ،  اِنْ تَحْتَقُوْنَ مِنْهُ،  اِنْ تَحْتَقُوْنَ مِنْهُ،  اِنْ تَحْتَقُوْنَ مِن\n"
     ]
    },
    {
     "name": "stderr",
     "output_type": "stream",
     "text": [
      "\r",
      "197it [04:51,  1.90s/it]"
     ]
    },
    {
     "name": "stdout",
     "output_type": "stream",
     "text": [
      "<bos>\n",
      "    <start_of_turn>user\n",
      "    Translate the sentence into urdu and only return the translation:\n",
      "\n",
      "    For God’s sake stop it.<end_of_turn>\n",
      "    <start_of_turn>model\n",
      "    ل Woh  کے لیے بند کر لو. \n",
      "<end_of_turn>\n"
     ]
    },
    {
     "name": "stderr",
     "output_type": "stream",
     "text": [
      "\r",
      "198it [04:51,  1.48s/it]"
     ]
    },
    {
     "name": "stdout",
     "output_type": "stream",
     "text": [
      "<bos>\n",
      "    <start_of_turn>user\n",
      "    Translate the sentence into urdu and only return the translation:\n",
      "\n",
      "    very good in taste<end_of_turn>\n",
      "    <start_of_turn>model\n",
      "    tasleem se bahut accha \n",
      "<end_of_turn>\n"
     ]
    },
    {
     "name": "stderr",
     "output_type": "stream",
     "text": [
      "\r",
      "199it [04:52,  1.17s/it]"
     ]
    },
    {
     "name": "stdout",
     "output_type": "stream",
     "text": [
      "<bos>\n",
      "    <start_of_turn>user\n",
      "    Translate the sentence into urdu and only return the translation:\n",
      "\n",
      "    Delicious food<end_of_turn>\n",
      "    <start_of_turn>model\n",
      "    طعم لذیذ \n",
      "<end_of_turn>\n"
     ]
    },
    {
     "name": "stderr",
     "output_type": "stream",
     "text": [
      "\r",
      "200it [04:52,  1.07it/s]"
     ]
    },
    {
     "name": "stdout",
     "output_type": "stream",
     "text": [
      "<bos>\n",
      "    <start_of_turn>user\n",
      "    Translate the sentence into urdu and only return the translation:\n",
      "\n",
      "    The train was on time today.<end_of_turn>\n",
      "    <start_of_turn>model\n",
      "    Train  आज موقع  ہے۔ \n",
      "<end_of_turn>\n"
     ]
    },
    {
     "name": "stderr",
     "output_type": "stream",
     "text": [
      "\r",
      "201it [04:53,  1.25it/s]"
     ]
    },
    {
     "name": "stdout",
     "output_type": "stream",
     "text": [
      "<bos>\n",
      "    <start_of_turn>user\n",
      "    Translate the sentence into urdu and only return the translation:\n",
      "\n",
      "    (Translated by Google) Kachra\n",
      "\n",
      "(Original)\n",
      "Kachra<end_of_turn>\n",
      "    <start_of_turn>model\n",
      "    کچرا \n",
      "<end_of_turn>\n"
     ]
    },
    {
     "name": "stderr",
     "output_type": "stream",
     "text": [
      "\r",
      "202it [04:53,  1.57it/s]"
     ]
    },
    {
     "name": "stdout",
     "output_type": "stream",
     "text": [
      "<bos>\n",
      "    <start_of_turn>user\n",
      "    Translate the sentence into urdu and only return the translation:\n",
      "\n",
      "    So when he saw his shirt,- that it was torn at the back,- (her husband) said: \"Behold! It is a snare of you women! truly, mighty is your snare!<end_of_turn>\n",
      "    <start_of_turn>model\n",
      "    اپنے شर्ट دیکھتے ہی، وہ پھٹا ہوا ہوتا، (بیوی) نے کہا: \"ہے، یہ تمہارے لڑکوں کی چھڑی ہے! بڑا ہے تمہارے لڑکوں کی چھڑی!\" \n",
      "<end_of_turn>\n"
     ]
    },
    {
     "name": "stderr",
     "output_type": "stream",
     "text": [
      "\r",
      "203it [04:55,  1.22s/it]"
     ]
    },
    {
     "name": "stdout",
     "output_type": "stream",
     "text": [
      "<bos>\n",
      "    <start_of_turn>user\n",
      "    Translate the sentence into urdu and only return the translation:\n",
      "\n",
      "    We ordered some chicken steak and Arabiata<end_of_turn>\n",
      "    <start_of_turn>model\n",
      "    ہم نے کینچر سٹیک اور اربیتاOrdered \n",
      "<end_of_turn>\n"
     ]
    },
    {
     "name": "stderr",
     "output_type": "stream",
     "text": [
      "\r",
      "204it [04:56,  1.08s/it]"
     ]
    },
    {
     "name": "stdout",
     "output_type": "stream",
     "text": [
      "<bos>\n",
      "    <start_of_turn>user\n",
      "    Translate the sentence into urdu and only return the translation:\n",
      "\n",
      "    I'm in absolute love with their medium well Trio Mustard Beef steak♥️<end_of_turn>\n",
      "    <start_of_turn>model\n",
      "    مجھے ان کے میڈیم ویل ٹریو مائڈرٹ بےف  کے  ٹھکڑے  میں  ایک  لطف  ہے ♥️ \n",
      "<end_of_turn>\n"
     ]
    },
    {
     "name": "stderr",
     "output_type": "stream",
     "text": [
      "\r",
      "205it [04:58,  1.26s/it]"
     ]
    },
    {
     "name": "stdout",
     "output_type": "stream",
     "text": [
      "<bos>\n",
      "    <start_of_turn>user\n",
      "    Translate the sentence into urdu and only return the translation:\n",
      "\n",
      "    The room holds 50 people.<end_of_turn>\n",
      "    <start_of_turn>model\n",
      "    بڑی 50 افراد کی  کے  حکومت  ہے. \n",
      "<end_of_turn>\n"
     ]
    },
    {
     "name": "stderr",
     "output_type": "stream",
     "text": [
      "\r",
      "206it [04:59,  1.14s/it]"
     ]
    },
    {
     "name": "stdout",
     "output_type": "stream",
     "text": [
      "<bos>\n",
      "    <start_of_turn>user\n",
      "    Translate the sentence into urdu and only return the translation:\n",
      "\n",
      "    (Translated by Google) Best Dhaga Kababs\n",
      "\n",
      "(Original)\n",
      "Best Dhaga Kababs<end_of_turn>\n",
      "    <start_of_turn>model\n",
      "    بہترین ڈھگے کباب \n",
      "<end_of_turn>\n"
     ]
    },
    {
     "name": "stderr",
     "output_type": "stream",
     "text": [
      "\r",
      "207it [04:59,  1.06it/s]"
     ]
    },
    {
     "name": "stdout",
     "output_type": "stream",
     "text": [
      "<bos>\n",
      "    <start_of_turn>user\n",
      "    Translate the sentence into urdu and only return the translation:\n",
      "\n",
      "    One of the best Karahi or Karachi.<end_of_turn>\n",
      "    <start_of_turn>model\n",
      "    ایک بہترین کراچی یا کراہی \n",
      "<end_of_turn>\n"
     ]
    },
    {
     "name": "stderr",
     "output_type": "stream",
     "text": [
      "\r",
      "208it [05:00,  1.21it/s]"
     ]
    },
    {
     "name": "stdout",
     "output_type": "stream",
     "text": [
      "<bos>\n",
      "    <start_of_turn>user\n",
      "    Translate the sentence into urdu and only return the translation:\n",
      "\n",
      "    Good<end_of_turn>\n",
      "    <start_of_turn>model\n",
      "    خوب \n",
      "<end_of_turn>\n"
     ]
    },
    {
     "name": "stderr",
     "output_type": "stream",
     "text": [
      "\r",
      "209it [05:00,  1.57it/s]"
     ]
    },
    {
     "name": "stdout",
     "output_type": "stream",
     "text": [
      "<bos>\n",
      "    <start_of_turn>user\n",
      "    Translate the sentence into urdu and only return the translation:\n",
      "\n",
      "    How much is the rent?<end_of_turn>\n",
      "    <start_of_turn>model\n",
      "    کِسے  کُن  کُن  کی  راست  کی  قیمت  کی  سے  کی  سے  کی  سے  کی  سے  کی  سے  کی  سے  کی  سے  کی  سے  کی  سے  کی  سے  کی  سے  کی  سے  کی  سے  کی  سے  کی  سے  کی  سے  کی  سے  کی  سے  کی  سے  کی  سے  کی  سے  کی\n"
     ]
    },
    {
     "name": "stderr",
     "output_type": "stream",
     "text": [
      "\r",
      "210it [05:05,  1.92s/it]"
     ]
    },
    {
     "name": "stdout",
     "output_type": "stream",
     "text": [
      "<bos>\n",
      "    <start_of_turn>user\n",
      "    Translate the sentence into urdu and only return the translation:\n",
      "\n",
      "    Good place and good food<end_of_turn>\n",
      "    <start_of_turn>model\n",
      "    خوب مکان اور خوب کھانا \n",
      "<end_of_turn>\n"
     ]
    },
    {
     "name": "stderr",
     "output_type": "stream",
     "text": [
      "\r",
      "211it [05:05,  1.45s/it]"
     ]
    },
    {
     "name": "stdout",
     "output_type": "stream",
     "text": [
      "<bos>\n",
      "    <start_of_turn>user\n",
      "    Translate the sentence into urdu and only return the translation:\n",
      "\n",
      "    Its a good place to dine inn.<end_of_turn>\n",
      "    <start_of_turn>model\n",
      "    یہ ایک بہترین گھریلو کھانوں کی جگہ ہے۔ \n",
      "<end_of_turn>\n"
     ]
    },
    {
     "name": "stderr",
     "output_type": "stream",
     "text": [
      "\r",
      "212it [05:06,  1.25s/it]"
     ]
    },
    {
     "name": "stdout",
     "output_type": "stream",
     "text": [
      "<bos>\n",
      "    <start_of_turn>user\n",
      "    Translate the sentence into urdu and only return the translation:\n",
      "\n",
      "    He knows whatsoever is before them and behind them, and unto God all matters are returned.'<end_of_turn>\n",
      "    <start_of_turn>model\n",
      "    ہمیشہ وہی چیزوں کو جانتا ہے جو ان کے سامنے اور پچھلے ہیں، اور گُل پر ہر چیز ایکسٹریٹ ہوتی ہے۔ \n",
      "<end_of_turn>\n"
     ]
    },
    {
     "name": "stderr",
     "output_type": "stream",
     "text": [
      "\r",
      "213it [05:08,  1.37s/it]"
     ]
    },
    {
     "name": "stdout",
     "output_type": "stream",
     "text": [
      "<bos>\n",
      "    <start_of_turn>user\n",
      "    Translate the sentence into urdu and only return the translation:\n",
      "\n",
      "    If only they had believed in Allah, in the Prophet, and in what hath been revealed to him, never would they have taken them for friends and protectors, but most of them are rebellious wrong-doers.<end_of_turn>\n",
      "    <start_of_turn>model\n",
      "    اگر ان پر ایمان لگے تو اللہ،prophet اور ان کو بتایا گیا ہو، تو ان کو دوستوں اور حفاظت کرنے والوں کے طور پر نہیں لگے گا، لیکن اکثر ان میں سے لوگ بغاوت کرنے والے ہیں۔ \n",
      "<end_of_turn>\n"
     ]
    },
    {
     "name": "stderr",
     "output_type": "stream",
     "text": [
      "\r",
      "214it [05:10,  1.67s/it]"
     ]
    },
    {
     "name": "stdout",
     "output_type": "stream",
     "text": [
      "<bos>\n",
      "    <start_of_turn>user\n",
      "    Translate the sentence into urdu and only return the translation:\n",
      "\n",
      "     No doubt they’ll want to make sure that you’ll make good on your promises.<end_of_turn>\n",
      "    <start_of_turn>model\n",
      "    ہمیشہ آپ کی ہدایت پر عمل کرنا چاہتے ہیں، آپ کی ہدایت پر عمل کرنا چاہتے ہیں. \n",
      "<end_of_turn>\n"
     ]
    },
    {
     "name": "stderr",
     "output_type": "stream",
     "text": [
      "\r",
      "215it [05:11,  1.58s/it]"
     ]
    },
    {
     "name": "stdout",
     "output_type": "stream",
     "text": [
      "<bos>\n",
      "    <start_of_turn>user\n",
      "    Translate the sentence into urdu and only return the translation:\n",
      "\n",
      "    He loves fishing.<end_of_turn>\n",
      "    <start_of_turn>model\n",
      "    اپنے  Fishing  کا  عشق  ہے. \n",
      "<end_of_turn>\n"
     ]
    },
    {
     "name": "stderr",
     "output_type": "stream",
     "text": [
      "\r",
      "216it [05:12,  1.30s/it]"
     ]
    },
    {
     "name": "stdout",
     "output_type": "stream",
     "text": [
      "<bos>\n",
      "    <start_of_turn>user\n",
      "    Translate the sentence into urdu and only return the translation:\n",
      "\n",
      "    I've got a feeling.<end_of_turn>\n",
      "    <start_of_turn>model\n",
      "    مجھے ایک felling ہے. \n",
      "<end_of_turn>\n"
     ]
    },
    {
     "name": "stderr",
     "output_type": "stream",
     "text": [
      "\r",
      "217it [05:12,  1.02s/it]"
     ]
    },
    {
     "name": "stdout",
     "output_type": "stream",
     "text": [
      "<bos>\n",
      "    <start_of_turn>user\n",
      "    Translate the sentence into urdu and only return the translation:\n",
      "\n",
      "    Can you tell me?<end_of_turn>\n",
      "    <start_of_turn>model\n",
      "    میں بتا سکتے ہیں؟ \n",
      "<end_of_turn>\n"
     ]
    },
    {
     "name": "stderr",
     "output_type": "stream",
     "text": [
      "\r",
      "218it [05:13,  1.16it/s]"
     ]
    },
    {
     "name": "stdout",
     "output_type": "stream",
     "text": [
      "<bos>\n",
      "    <start_of_turn>user\n",
      "    Translate the sentence into urdu and only return the translation:\n",
      "\n",
      "    'Lord, open my breast,' said Moses,<end_of_turn>\n",
      "    <start_of_turn>model\n",
      "    \"لَحُوْنَ مَحْتَقَتْنَ مَحْتَقَتْنَ\" \n",
      "<end_of_turn>\n"
     ]
    },
    {
     "name": "stderr",
     "output_type": "stream",
     "text": [
      "\r",
      "219it [05:14,  1.03s/it]"
     ]
    },
    {
     "name": "stdout",
     "output_type": "stream",
     "text": [
      "<bos>\n",
      "    <start_of_turn>user\n",
      "    Translate the sentence into urdu and only return the translation:\n",
      "\n",
      "    How can I recover it?<end_of_turn>\n",
      "    <start_of_turn>model\n",
      "    یہ کون سے لے سکتا ہے؟ \n",
      "<end_of_turn>\n"
     ]
    },
    {
     "name": "stderr",
     "output_type": "stream",
     "text": [
      "\r",
      "220it [05:15,  1.11it/s]"
     ]
    },
    {
     "name": "stdout",
     "output_type": "stream",
     "text": [
      "<bos>\n",
      "    <start_of_turn>user\n",
      "    Translate the sentence into urdu and only return the translation:\n",
      "\n",
      "    Did not like food<end_of_turn>\n",
      "    <start_of_turn>model\n",
      "    کھانا پسند نہیں ہوا \n",
      "<end_of_turn>\n"
     ]
    },
    {
     "name": "stderr",
     "output_type": "stream",
     "text": [
      "\r",
      "221it [05:15,  1.35it/s]"
     ]
    },
    {
     "name": "stdout",
     "output_type": "stream",
     "text": [
      "<bos>\n",
      "    <start_of_turn>user\n",
      "    Translate the sentence into urdu and only return the translation:\n",
      "\n",
      "    Lovly place good choice of food<end_of_turn>\n",
      "    <start_of_turn>model\n",
      "    محبت کی جگہ، بہترین کھانا کا انتخاب \n",
      "<end_of_turn>\n"
     ]
    },
    {
     "name": "stderr",
     "output_type": "stream",
     "text": [
      "\r",
      "222it [05:16,  1.41it/s]"
     ]
    },
    {
     "name": "stdout",
     "output_type": "stream",
     "text": [
      "<bos>\n",
      "    <start_of_turn>user\n",
      "    Translate the sentence into urdu and only return the translation:\n",
      "\n",
      "    Good Food in town<end_of_turn>\n",
      "    <start_of_turn>model\n",
      "    مدھم کی کھانے کی خوشبو \n",
      "<end_of_turn>\n"
     ]
    },
    {
     "name": "stderr",
     "output_type": "stream",
     "text": [
      "\r",
      "223it [05:16,  1.53it/s]"
     ]
    },
    {
     "name": "stdout",
     "output_type": "stream",
     "text": [
      "<bos>\n",
      "    <start_of_turn>user\n",
      "    Translate the sentence into urdu and only return the translation:\n",
      "\n",
      "    they shall be, kept far from it neither shall they hear any whisper of it, and they shall dwell forever in that their souls desired;<end_of_turn>\n",
      "    <start_of_turn>model\n",
      "    انہیں اس سے کہیں دور رکھیں گے، اور انہیں اس کی کوئی خبر نہیں ہوگی، اور انہیں اس کی ذات کے لیے زندگی گزارا ہوگا۔ \n",
      "<end_of_turn>\n"
     ]
    },
    {
     "name": "stderr",
     "output_type": "stream",
     "text": [
      "\r",
      "224it [05:18,  1.01it/s]"
     ]
    },
    {
     "name": "stdout",
     "output_type": "stream",
     "text": [
      "<bos>\n",
      "    <start_of_turn>user\n",
      "    Translate the sentence into urdu and only return the translation:\n",
      "\n",
      "    I got food poisoning eating their food. I guess they use stale food.\n",
      "It was stale last time as well. I thought they would improve this time but got disappointed.<end_of_turn>\n",
      "    <start_of_turn>model\n",
      "    میں ان کی کھانوں سے  کھانے کی  بھڑی  کی  تھیں. میں  ہاں  ہے  کہ  ان  کے  کھانے  کو  بھڑی  کے  کے  کے  کے  کے  کے  کے  کے  کے  کے  کے  کے  کے  کے  کے  کے  کے  کے  کے  کے  کے  کے  کے  کے  کے  کے\n"
     ]
    },
    {
     "name": "stderr",
     "output_type": "stream",
     "text": [
      "\r",
      "225it [05:23,  2.16s/it]"
     ]
    },
    {
     "name": "stdout",
     "output_type": "stream",
     "text": [
      "<bos>\n",
      "    <start_of_turn>user\n",
      "    Translate the sentence into urdu and only return the translation:\n",
      "\n",
      "    Visited coincidentally... but loved<end_of_turn>\n",
      "    <start_of_turn>model\n",
      "    کوئی coincidentally   visited  ...  لیکن  محبت  \n",
      "<end_of_turn>\n"
     ]
    },
    {
     "name": "stderr",
     "output_type": "stream",
     "text": [
      "\r",
      "226it [05:24,  1.72s/it]"
     ]
    },
    {
     "name": "stdout",
     "output_type": "stream",
     "text": [
      "<bos>\n",
      "    <start_of_turn>user\n",
      "    Translate the sentence into urdu and only return the translation:\n",
      "\n",
      "    The place is great for live coal barbecue.<end_of_turn>\n",
      "    <start_of_turn>model\n",
      "    یہ مکان  گھونگڑی کے لیے بہت اچھا ہے۔ \n",
      "<end_of_turn>\n"
     ]
    },
    {
     "name": "stderr",
     "output_type": "stream",
     "text": [
      "\r",
      "227it [05:25,  1.45s/it]"
     ]
    },
    {
     "name": "stdout",
     "output_type": "stream",
     "text": [
      "<bos>\n",
      "    <start_of_turn>user\n",
      "    Translate the sentence into urdu and only return the translation:\n",
      "\n",
      "    Tom looked around the room.<end_of_turn>\n",
      "    <start_of_turn>model\n",
      "    ٹم نے گھری میں دیکھا۔ \n",
      "<end_of_turn>\n"
     ]
    },
    {
     "name": "stderr",
     "output_type": "stream",
     "text": [
      "\r",
      "228it [05:25,  1.17s/it]"
     ]
    },
    {
     "name": "stdout",
     "output_type": "stream",
     "text": [
      "<bos>\n",
      "    <start_of_turn>user\n",
      "    Translate the sentence into urdu and only return the translation:\n",
      "\n",
      "    Then Jesus sent the multitude away , and went into the house : and his disciples came unto him , saying , Declare unto us the parable of the tares of the field .<end_of_turn>\n",
      "    <start_of_turn>model\n",
      "    ان کے بعد جیسus نے جمع کو چھوڑا اور گھر میں داخل ہوا، اور اپنے شاگردوں نے کہا، \"اے، ہمیں گھڑی کی کہانی بتائیں۔\" \n",
      "<end_of_turn>\n"
     ]
    },
    {
     "name": "stderr",
     "output_type": "stream",
     "text": [
      "\r",
      "229it [05:27,  1.41s/it]"
     ]
    },
    {
     "name": "stdout",
     "output_type": "stream",
     "text": [
      "<bos>\n",
      "    <start_of_turn>user\n",
      "    Translate the sentence into urdu and only return the translation:\n",
      "\n",
      "    A good taste<end_of_turn>\n",
      "    <start_of_turn>model\n",
      "    مُتْحَقّی \n",
      "<end_of_turn>\n"
     ]
    },
    {
     "name": "stderr",
     "output_type": "stream",
     "text": [
      "\r",
      "230it [05:28,  1.13s/it]"
     ]
    },
    {
     "name": "stdout",
     "output_type": "stream",
     "text": [
      "<bos>\n",
      "    <start_of_turn>user\n",
      "    Translate the sentence into urdu and only return the translation:\n",
      "\n",
      "    Delicious dishes\n",
      "Specially karahi<end_of_turn>\n",
      "    <start_of_turn>model\n",
      "    مُغْذِیہ کھانے \n",
      "    خاص طور پر کڑھائی \n",
      "<end_of_turn>\n"
     ]
    },
    {
     "name": "stderr",
     "output_type": "stream",
     "text": [
      "\r",
      "231it [05:29,  1.07s/it]"
     ]
    },
    {
     "name": "stdout",
     "output_type": "stream",
     "text": [
      "<bos>\n",
      "    <start_of_turn>user\n",
      "    Translate the sentence into urdu and only return the translation:\n",
      "\n",
      "    When fear had passed from (the mind of) Abraham and the glad tidings had reached him, he began to plead with us for Lut's people.<end_of_turn>\n",
      "    <start_of_turn>model\n",
      "    ابراہیم کی  قلوب سے ڈر چلا جائے، اور خوش نصیب کی خبر پہنچ گئی،  لیکن وہ لوٹ کے لوگوں کے لیے  میں  میں  میں  میں  میں  میں  میں  میں  میں  میں  میں  میں  میں  میں  میں  میں  میں  میں  میں  میں  میں  میں  میں  میں  میں  میں  میں  میں  میں  \n"
     ]
    },
    {
     "name": "stderr",
     "output_type": "stream",
     "text": [
      "\r",
      "232it [05:33,  2.22s/it]"
     ]
    },
    {
     "name": "stdout",
     "output_type": "stream",
     "text": [
      "<bos>\n",
      "    <start_of_turn>user\n",
      "    Translate the sentence into urdu and only return the translation:\n",
      "\n",
      "    (Translated by Google) Best Kabab and Nihari<end_of_turn>\n",
      "    <start_of_turn>model\n",
      "    کباب اور نِھاری کا بہترین \n",
      "<end_of_turn>\n"
     ]
    },
    {
     "name": "stderr",
     "output_type": "stream",
     "text": [
      "\r",
      "233it [05:34,  1.71s/it]"
     ]
    },
    {
     "name": "stdout",
     "output_type": "stream",
     "text": [
      "<bos>\n",
      "    <start_of_turn>user\n",
      "    Translate the sentence into urdu and only return the translation:\n",
      "\n",
      "    It is always great to have a meal here, very delicious food.<end_of_turn>\n",
      "    <start_of_turn>model\n",
      "    ہر وقت یہاں کھانا بہت ہی اچھا ہے، بہت لذیذ کھانا ہے۔ \n",
      "<end_of_turn>\n"
     ]
    },
    {
     "name": "stderr",
     "output_type": "stream",
     "text": [
      "\r",
      "234it [05:35,  1.50s/it]"
     ]
    },
    {
     "name": "stdout",
     "output_type": "stream",
     "text": [
      "<bos>\n",
      "    <start_of_turn>user\n",
      "    Translate the sentence into urdu and only return the translation:\n",
      "\n",
      "    Then shall the kingdom of heaven be likened unto ten virgins , which took their lamps , and went forth to meet the bridegroom .<end_of_turn>\n",
      "    <start_of_turn>model\n",
      "    ان کے بعد،  خاندانِ جنت کو چاروں  یاروں کی طرح کی جائے گا، جو  لپوں کو لے کر bridegroom کے ساتھ  آپ کے لیے  آپ کے لیے  آپ کے لیے  آپ کے لیے  آپ کے لیے  آپ کے لیے  آپ کے لیے  آپ کے لیے  آپ کے لیے  آپ کے لیے  آپ کے لیے  آپ کے لیے  آپ کے لیے  آپ کے لیے  آپ کے لیے  آپ کے لیے  آپ کے لیے  آپ کے لیے\n"
     ]
    },
    {
     "name": "stderr",
     "output_type": "stream",
     "text": [
      "\r",
      "235it [05:40,  2.53s/it]"
     ]
    },
    {
     "name": "stdout",
     "output_type": "stream",
     "text": [
      "<bos>\n",
      "    <start_of_turn>user\n",
      "    Translate the sentence into urdu and only return the translation:\n",
      "\n",
      "    We are very happy with Malik's restaurant.<end_of_turn>\n",
      "    <start_of_turn>model\n",
      "    انہیں Malik کیrestaurant سے بہت خوشی ہے۔ \n",
      "<end_of_turn>\n"
     ]
    },
    {
     "name": "stderr",
     "output_type": "stream",
     "text": [
      "\r",
      "236it [05:41,  1.97s/it]"
     ]
    },
    {
     "name": "stdout",
     "output_type": "stream",
     "text": [
      "<bos>\n",
      "    <start_of_turn>user\n",
      "    Translate the sentence into urdu and only return the translation:\n",
      "\n",
      "    Nice place, interior and FOOD quality also. MUST TRY<end_of_turn>\n",
      "    <start_of_turn>model\n",
      "    خوبہ  عجب  ،  گھری  اور  کھان کی  کی  کی  کی  کی  کی  کی  کی  کی  کی  کی  کی  کی  کی  کی  کی  کی  کی  کی  کی  کی  کی  کی  کی  کی  کی  کی  کی  کی  کی  کی  کی  کی  کی  کی  کی  کی  کی  کی  کی  کی  کی  کی  کی  کی  کی  کی  کی  کی  کی  کی  کی  کی  کی  کی  کی  \n"
     ]
    },
    {
     "name": "stderr",
     "output_type": "stream",
     "text": [
      "\r",
      "237it [05:45,  2.85s/it]"
     ]
    },
    {
     "name": "stdout",
     "output_type": "stream",
     "text": [
      "<bos>\n",
      "    <start_of_turn>user\n",
      "    Translate the sentence into urdu and only return the translation:\n",
      "\n",
      "    He comes of a rich family.<end_of_turn>\n",
      "    <start_of_turn>model\n",
      "    اپنے ایک بڑے قریبی خاندان سے آیا. \n",
      "<end_of_turn>\n"
     ]
    },
    {
     "name": "stderr",
     "output_type": "stream",
     "text": [
      "\r",
      "238it [05:46,  2.21s/it]"
     ]
    },
    {
     "name": "stdout",
     "output_type": "stream",
     "text": [
      "<bos>\n",
      "    <start_of_turn>user\n",
      "    Translate the sentence into urdu and only return the translation:\n",
      "\n",
      "    Highly recommended for quality food lovers, Ambiance is average but you can sit on upper floor which open and nice with live kitchen. We ordered Chullu Kabab, Rsshmi Handi, fettucinenpasta and terragon beef steak. Honestly speaking everything was amazing,  we enjoyed every single bite. Price is little on higher side but worth it.\n",
      "\n",
      "Bill should inclusive of tax.<end_of_turn>\n",
      "    <start_of_turn>model\n",
      "    محترمانہ  کھانے کے محبانوں کے لیے بہت recommended  ،  عمر  کوئی  Average  ہے  لیکن  upper floor  سے  sit  کیا  جا  ہے  جو  open  اور  nice  ہے  with  live  kitchen  .  ہم  Chullu  Kabab,  Rsshmi  Handi,  fettucinenpasta  اور  terragon  beef  steak  Ordered  ہے.  Honestly  speaking    every  thing  was  amazing,  we  enjoyed  \n"
     ]
    },
    {
     "name": "stderr",
     "output_type": "stream",
     "text": [
      "\r",
      "239it [05:51,  3.03s/it]"
     ]
    },
    {
     "name": "stdout",
     "output_type": "stream",
     "text": [
      "<bos>\n",
      "    <start_of_turn>user\n",
      "    Translate the sentence into urdu and only return the translation:\n",
      "\n",
      "    Taste was average only sauces are very tasty other then that food is just ok.<end_of_turn>\n",
      "    <start_of_turn>model\n",
      "    مذاق متوسط ​​ہے، صرف酱 کے لیے بہت تیز ہے، باقی چیز بہت معمولی ہے۔ \n",
      "<end_of_turn>\n"
     ]
    },
    {
     "name": "stderr",
     "output_type": "stream",
     "text": [
      "\r",
      "240it [05:52,  2.45s/it]"
     ]
    },
    {
     "name": "stdout",
     "output_type": "stream",
     "text": [
      "<bos>\n",
      "    <start_of_turn>user\n",
      "    Translate the sentence into urdu and only return the translation:\n",
      "\n",
      "    Superb and Affordable prices.service is good .keep it Up<end_of_turn>\n",
      "    <start_of_turn>model\n",
      "    بسیار خوب اور مقرون به صرفه قیمتوں پر خدمات بہتر ہیں، آپ کی کوششوں کو مزید ترقی کی نگاہ سے دیکھیں۔ \n",
      "<end_of_turn>\n"
     ]
    },
    {
     "name": "stderr",
     "output_type": "stream",
     "text": [
      "\r",
      "241it [05:54,  2.18s/it]"
     ]
    },
    {
     "name": "stdout",
     "output_type": "stream",
     "text": [
      "<bos>\n",
      "    <start_of_turn>user\n",
      "    Translate the sentence into urdu and only return the translation:\n",
      "\n",
      "    Food has always been goooood.<end_of_turn>\n",
      "    <start_of_turn>model\n",
      "    غذہ ہمیشہ بہت ہی اچھا ہے۔ \n",
      "<end_of_turn>\n"
     ]
    },
    {
     "name": "stderr",
     "output_type": "stream",
     "text": [
      "\r",
      "242it [05:54,  1.71s/it]"
     ]
    },
    {
     "name": "stdout",
     "output_type": "stream",
     "text": [
      "<bos>\n",
      "    <start_of_turn>user\n",
      "    Translate the sentence into urdu and only return the translation:\n",
      "\n",
      "    Are you doing fine?<end_of_turn>\n",
      "    <start_of_turn>model\n",
      "    ہاں، آپ کچھ صحیح ہیں؟ \n",
      "<end_of_turn>\n"
     ]
    },
    {
     "name": "stderr",
     "output_type": "stream",
     "text": [
      "\r",
      "243it [05:55,  1.34s/it]"
     ]
    },
    {
     "name": "stdout",
     "output_type": "stream",
     "text": [
      "<bos>\n",
      "    <start_of_turn>user\n",
      "    Translate the sentence into urdu and only return the translation:\n",
      "\n",
      "    ”\n",
      "\n",
      "“Go, my dear boy,” said old Dantès; “and Heaven bless you in your wife, as it has blessed me in my son!”\n",
      "\n",
      "“His wife!” said Caderousse; “why, how fast you go on, father Dantès; she is not his wife yet, as it seems to me<end_of_turn>\n",
      "    <start_of_turn>model\n",
      "    \"آج، میرے محبوب بیٹے، کہا  اُس  بڑا  دانتس،  اور  ہی  ہی  ہی  ہی  ہی  ہی  ہی  ہی  ہی  ہی  ہی  ہی  ہی  ہی  ہی  ہی  ہی  ہی  ہی  ہی  ہی  ہی  ہی  ہی  ہی  ہی  ہی  ہی  ہی  ہی  ہی  ہی  ہی  \n"
     ]
    },
    {
     "name": "stderr",
     "output_type": "stream",
     "text": [
      "\r",
      "244it [06:00,  2.41s/it]"
     ]
    },
    {
     "name": "stdout",
     "output_type": "stream",
     "text": [
      "<bos>\n",
      "    <start_of_turn>user\n",
      "    Translate the sentence into urdu and only return the translation:\n",
      "\n",
      "    Average sitting arrangement. Food quality is decent<end_of_turn>\n",
      "    <start_of_turn>model\n",
      "     Arrangements  کو  میان  میں  ہیں  اور  غذای  کو  خوب  ہیں \n",
      "<end_of_turn>\n"
     ]
    },
    {
     "name": "stderr",
     "output_type": "stream",
     "text": [
      "\r",
      "245it [06:01,  2.00s/it]"
     ]
    },
    {
     "name": "stdout",
     "output_type": "stream",
     "text": [
      "<bos>\n",
      "    <start_of_turn>user\n",
      "    Translate the sentence into urdu and only return the translation:\n",
      "\n",
      "    When the sorcerers came, Moses said to them: \"Throw ye what ye (wish) to throw!\"<end_of_turn>\n",
      "    <start_of_turn>model\n",
      "    مجھے یہ سمجھنے میں مشکل ہے کہ یہاں کیا کہیں چاہتے ہیں. \n",
      "<end_of_turn>\n"
     ]
    },
    {
     "name": "stderr",
     "output_type": "stream",
     "text": [
      "\r",
      "246it [06:02,  1.69s/it]"
     ]
    },
    {
     "name": "stdout",
     "output_type": "stream",
     "text": [
      "<bos>\n",
      "    <start_of_turn>user\n",
      "    Translate the sentence into urdu and only return the translation:\n",
      "\n",
      "    Good taste<end_of_turn>\n",
      "    <start_of_turn>model\n",
      "    بہترین مذاق \n",
      "<end_of_turn>\n"
     ]
    },
    {
     "name": "stderr",
     "output_type": "stream",
     "text": [
      "\r",
      "247it [06:02,  1.29s/it]"
     ]
    },
    {
     "name": "stdout",
     "output_type": "stream",
     "text": [
      "<bos>\n",
      "    <start_of_turn>user\n",
      "    Translate the sentence into urdu and only return the translation:\n",
      "\n",
      "    O ye that believe! betray not the trust of Allah and the Messenger, nor misappropriate knowingly things entrusted to you.<end_of_turn>\n",
      "    <start_of_turn>model\n",
      "    یہ جو ایمان لیتے ہیں، اللہ اور messanger کی اعتماد کو  بے عمل نہ کریں، اور کسی کو  کوئی چیز  کو  بے  عمد  کے  عین  کے  عین  کے  عین  کے  عین  کے  عین  کے  عین  کے  عین  کے  عین  کے  عین  کے  عین  کے  عین  کے  عین  کے  عین  کے  عین  کے  \n"
     ]
    },
    {
     "name": "stderr",
     "output_type": "stream",
     "text": [
      "\r",
      "248it [06:07,  2.38s/it]"
     ]
    },
    {
     "name": "stdout",
     "output_type": "stream",
     "text": [
      "<bos>\n",
      "    <start_of_turn>user\n",
      "    Translate the sentence into urdu and only return the translation:\n",
      "\n",
      "    V v nice . Love it.<end_of_turn>\n",
      "    <start_of_turn>model\n",
      "    خوب ہے  .  میں اس پر بہت مہربانی کرتا ہوں. \n",
      "<end_of_turn>\n"
     ]
    },
    {
     "name": "stderr",
     "output_type": "stream",
     "text": [
      "\r",
      "249it [06:08,  1.94s/it]"
     ]
    },
    {
     "name": "stdout",
     "output_type": "stream",
     "text": [
      "<bos>\n",
      "    <start_of_turn>user\n",
      "    Translate the sentence into urdu and only return the translation:\n",
      "\n",
      "    Bon Bistro has an amazing taste. Love their Double melt and pizza overload fries.<end_of_turn>\n",
      "    <start_of_turn>model\n",
      "    Bon Bistro کی ایک بہترین تازگی ہے۔  ڈبل  مِلٹ اور پیتا  اُلڈ  فرائے پر  لگ  ہے۔ \n",
      "<end_of_turn>\n"
     ]
    },
    {
     "name": "stderr",
     "output_type": "stream",
     "text": [
      "\r",
      "250it [06:10,  1.84s/it]"
     ]
    },
    {
     "name": "stdout",
     "output_type": "stream",
     "text": [
      "<bos>\n",
      "    <start_of_turn>user\n",
      "    Translate the sentence into urdu and only return the translation:\n",
      "\n",
      "    Mutton shahi kerahi and brain masala are too good<end_of_turn>\n",
      "    <start_of_turn>model\n",
      "    مUTTON شہی کERAھی اور برائن مسالا  کو بہت  خوب  ہے \n",
      "<end_of_turn>\n"
     ]
    },
    {
     "name": "stderr",
     "output_type": "stream",
     "text": [
      "\r",
      "251it [06:11,  1.60s/it]"
     ]
    },
    {
     "name": "stdout",
     "output_type": "stream",
     "text": [
      "<bos>\n",
      "    <start_of_turn>user\n",
      "    Translate the sentence into urdu and only return the translation:\n",
      "\n",
      "    No space for sitting that are the negetive point.<end_of_turn>\n",
      "    <start_of_turn>model\n",
      "    یہاں نشستن کے لیے کوئی فضا نہیں، یہ منفی نقطہ ہے۔ \n",
      "<end_of_turn>\n"
     ]
    },
    {
     "name": "stderr",
     "output_type": "stream",
     "text": [
      "\r",
      "252it [06:11,  1.38s/it]"
     ]
    },
    {
     "name": "stdout",
     "output_type": "stream",
     "text": [
      "<bos>\n",
      "    <start_of_turn>user\n",
      "    Translate the sentence into urdu and only return the translation:\n",
      "\n",
      "    Average , not as good as we expected it to be<end_of_turn>\n",
      "    <start_of_turn>model\n",
      "    متوسط،  کوئی نہایت بہتر کی طرح نہیں \n",
      "<end_of_turn>\n"
     ]
    },
    {
     "name": "stderr",
     "output_type": "stream",
     "text": [
      "\r",
      "253it [06:12,  1.16s/it]"
     ]
    },
    {
     "name": "stdout",
     "output_type": "stream",
     "text": [
      "<bos>\n",
      "    <start_of_turn>user\n",
      "    Translate the sentence into urdu and only return the translation:\n",
      "\n",
      "    Good resturants for families in Gulshan e Iqbal<end_of_turn>\n",
      "    <start_of_turn>model\n",
      "    خوبresturants  لڑکیوں کے لیے گولشین  ا Iqbal \n",
      "<end_of_turn>\n"
     ]
    },
    {
     "name": "stderr",
     "output_type": "stream",
     "text": [
      "\r",
      "254it [06:13,  1.05s/it]"
     ]
    },
    {
     "name": "stdout",
     "output_type": "stream",
     "text": [
      "<bos>\n",
      "    <start_of_turn>user\n",
      "    Translate the sentence into urdu and only return the translation:\n",
      "\n",
      "    good experience.<end_of_turn>\n",
      "    <start_of_turn>model\n",
      "    خوب تجربہ. \n",
      "<end_of_turn>\n"
     ]
    },
    {
     "name": "stderr",
     "output_type": "stream",
     "text": [
      "\r",
      "255it [06:13,  1.20it/s]"
     ]
    },
    {
     "name": "stdout",
     "output_type": "stream",
     "text": [
      "<bos>\n",
      "    <start_of_turn>user\n",
      "    Translate the sentence into urdu and only return the translation:\n",
      "\n",
      "    That it might be fulfilled which was spoken by the prophet , saying , I will open my mouth in parables ; I will utter things which have been kept secret from the foundation of the world .<end_of_turn>\n",
      "    <start_of_turn>model\n",
      "    یہ کہا گیا ہے کہprophet  کی بات کی جائے، کہ میں  \"یہ کہا گیا ہے کہprophet  کی بات کی جائے، کہ میں  \"یہ کہا گیا ہے کہprophet  کی بات کی جائے، کہ میں  \"یہ کہا گیا ہے کہprophet  کی بات کی جائے، کہ میں  \"یہ کہا گیا ہے کہprophet  کی بات کی جائے، کہ میں  \"یہ کہا گیا ہے کہprophet  کی بات کی جائے، کہ میں  \"یہ کہا گیا ہے کہprop\n"
     ]
    },
    {
     "name": "stderr",
     "output_type": "stream",
     "text": [
      "\r",
      "256it [06:18,  2.06s/it]"
     ]
    },
    {
     "name": "stdout",
     "output_type": "stream",
     "text": [
      "<bos>\n",
      "    <start_of_turn>user\n",
      "    Translate the sentence into urdu and only return the translation:\n",
      "\n",
      "    tastes good<end_of_turn>\n",
      "    <start_of_turn>model\n",
      "    خوشمزه tastes good \n",
      "<end_of_turn>\n"
     ]
    },
    {
     "name": "stderr",
     "output_type": "stream",
     "text": [
      "\r",
      "257it [06:18,  1.54s/it]"
     ]
    },
    {
     "name": "stdout",
     "output_type": "stream",
     "text": [
      "<bos>\n",
      "    <start_of_turn>user\n",
      "    Translate the sentence into urdu and only return the translation:\n",
      "\n",
      "    Excellent for desi n english food<end_of_turn>\n",
      "    <start_of_turn>model\n",
      "    بklasse desi اور انگریزی کھانوں کے لیے \n",
      "<end_of_turn>\n"
     ]
    },
    {
     "name": "stderr",
     "output_type": "stream",
     "text": [
      "\r",
      "258it [06:19,  1.25s/it]"
     ]
    },
    {
     "name": "stdout",
     "output_type": "stream",
     "text": [
      "<bos>\n",
      "    <start_of_turn>user\n",
      "    Translate the sentence into urdu and only return the translation:\n",
      "\n",
      "    Recommended to all, good ambiance good taste 9/10<end_of_turn>\n",
      "    <start_of_turn>model\n",
      "    مُوصّل  ہیں  ہر  کے  لئے،  خوب  عالم  خوب  تذیب  9/10 \n",
      "<end_of_turn>\n"
     ]
    },
    {
     "name": "stderr",
     "output_type": "stream",
     "text": [
      "\r",
      "259it [06:20,  1.28s/it]"
     ]
    },
    {
     "name": "stdout",
     "output_type": "stream",
     "text": [
      "<bos>\n",
      "    <start_of_turn>user\n",
      "    Translate the sentence into urdu and only return the translation:\n",
      "\n",
      "    And shall cast them into a furnace of fire : there shall be wailing and gnashing of teeth .<end_of_turn>\n",
      "    <start_of_turn>model\n",
      "    انے  گھڑی  کی  گھڑی  کی  گھڑی  کی  گھڑی  کی  گھڑی  کی  گھڑی  کی  گھڑی  کی  گھڑی  کی  گھڑی  کی  گھڑی  کی  گھڑی  کی  گھڑی  کی  گھڑی  کی  گھڑی  کی  گھڑی  کی  گھڑی  کی  گھڑی  کی  گھڑی  کی\n"
     ]
    },
    {
     "name": "stderr",
     "output_type": "stream",
     "text": [
      "\r",
      "260it [06:25,  2.36s/it]"
     ]
    },
    {
     "name": "stdout",
     "output_type": "stream",
     "text": [
      "<bos>\n",
      "    <start_of_turn>user\n",
      "    Translate the sentence into urdu and only return the translation:\n",
      "\n",
      "    Food was pathetic and thali was completely tasteless.<end_of_turn>\n",
      "    <start_of_turn>model\n",
      "    غذا پھٹا تھِی اور تھالی کو ہر طرح کی تھلک تھی۔ \n",
      "<end_of_turn>\n"
     ]
    },
    {
     "name": "stderr",
     "output_type": "stream",
     "text": [
      "\r",
      "261it [06:26,  1.99s/it]"
     ]
    },
    {
     "name": "stdout",
     "output_type": "stream",
     "text": [
      "<bos>\n",
      "    <start_of_turn>user\n",
      "    Translate the sentence into urdu and only return the translation:\n",
      "\n",
      "    If you're a desi and afghani food lover then this place is for you<end_of_turn>\n",
      "    <start_of_turn>model\n",
      "    اگر آپ desi اور afghani کھانوں کا محبہ کرتے ہیں تو یہاں آپ کے لیے ہے۔ \n",
      "<end_of_turn>\n"
     ]
    },
    {
     "name": "stderr",
     "output_type": "stream",
     "text": [
      "\r",
      "262it [06:27,  1.71s/it]"
     ]
    },
    {
     "name": "stdout",
     "output_type": "stream",
     "text": [
      "<bos>\n",
      "    <start_of_turn>user\n",
      "    Translate the sentence into urdu and only return the translation:\n",
      "\n",
      "    What's a nice weekend dinner & standard<end_of_turn>\n",
      "    <start_of_turn>model\n",
      "    یہ ایک خوبصورت جمعہ کی شام اور عادی ہے۔ \n",
      "<end_of_turn>\n"
     ]
    },
    {
     "name": "stderr",
     "output_type": "stream",
     "text": [
      "\r",
      "263it [06:28,  1.40s/it]"
     ]
    },
    {
     "name": "stdout",
     "output_type": "stream",
     "text": [
      "<bos>\n",
      "    <start_of_turn>user\n",
      "    Translate the sentence into urdu and only return the translation:\n",
      "\n",
      "    Where were you? \"I was at the railway station to drop off my friend.\"<end_of_turn>\n",
      "    <start_of_turn>model\n",
      "    آپ کہاں تھے؟ \"میں ریل گڑھ پر چلنے کے لیے میرے دوست کو لے جانا چاہتا تھا.\" \n",
      "<end_of_turn>\n"
     ]
    },
    {
     "name": "stderr",
     "output_type": "stream",
     "text": [
      "\r",
      "264it [06:30,  1.39s/it]"
     ]
    },
    {
     "name": "stdout",
     "output_type": "stream",
     "text": [
      "<bos>\n",
      "    <start_of_turn>user\n",
      "    Translate the sentence into urdu and only return the translation:\n",
      "\n",
      "    Bad Experience, Zero Taste, Poor Service ️️️<end_of_turn>\n",
      "    <start_of_turn>model\n",
      "    بada تجربہ، صفر تائس، بڑی کم service ️️️ \n",
      "<end_of_turn>\n"
     ]
    },
    {
     "name": "stderr",
     "output_type": "stream",
     "text": [
      "\r",
      "265it [06:30,  1.23s/it]"
     ]
    },
    {
     "name": "stdout",
     "output_type": "stream",
     "text": [
      "<bos>\n",
      "    <start_of_turn>user\n",
      "    Translate the sentence into urdu and only return the translation:\n",
      "\n",
      "    Others they keep away from it, and themselves they keep away; but they only destroy their own souls, and they perceive it not.<end_of_turn>\n",
      "    <start_of_turn>model\n",
      "    انہیں دوسروں سے کوئی دور رہتا ہے، اور خود کو بھی کوئی دور رکھتا ہے، لیکن وہ صرف اپنے نفس کو خراب کرتے ہیں، اور یہ سمجھتے نہیں ہیں۔ \n",
      "<end_of_turn>\n"
     ]
    },
    {
     "name": "stderr",
     "output_type": "stream",
     "text": [
      "\r",
      "266it [06:32,  1.44s/it]"
     ]
    },
    {
     "name": "stdout",
     "output_type": "stream",
     "text": [
      "<bos>\n",
      "    <start_of_turn>user\n",
      "    Translate the sentence into urdu and only return the translation:\n",
      "\n",
      "    Not as per their name & previous experienced<end_of_turn>\n",
      "    <start_of_turn>model\n",
      "    نامی کے مطابق اور پہلے سے تجربات کے مطابق \n",
      "<end_of_turn>\n"
     ]
    },
    {
     "name": "stderr",
     "output_type": "stream",
     "text": [
      "\r",
      "267it [06:33,  1.23s/it]"
     ]
    },
    {
     "name": "stdout",
     "output_type": "stream",
     "text": [
      "<bos>\n",
      "    <start_of_turn>user\n",
      "    Translate the sentence into urdu and only return the translation:\n",
      "\n",
      "     Butch climbed atop his board and yelled, “Shark!” at the pack of surfers down the beach.<end_of_turn>\n",
      "    <start_of_turn>model\n",
      "    بچو نے اپنا boards پر چڑھ کر واپس کے کنارے پر  \" sharks \"  کہا۔ \n",
      "<end_of_turn>\n"
     ]
    },
    {
     "name": "stderr",
     "output_type": "stream",
     "text": [
      "\r",
      "268it [06:34,  1.21s/it]"
     ]
    },
    {
     "name": "stdout",
     "output_type": "stream",
     "text": [
      "<bos>\n",
      "    <start_of_turn>user\n",
      "    Translate the sentence into urdu and only return the translation:\n",
      "\n",
      "    (Translated by Google) Great place<end_of_turn>\n",
      "    <start_of_turn>model\n",
      "    بڑا مقام \n",
      "<end_of_turn>\n"
     ]
    },
    {
     "name": "stderr",
     "output_type": "stream",
     "text": [
      "\r",
      "269it [06:34,  1.07it/s]"
     ]
    },
    {
     "name": "stdout",
     "output_type": "stream",
     "text": [
      "<bos>\n",
      "    <start_of_turn>user\n",
      "    Translate the sentence into urdu and only return the translation:\n",
      "\n",
      "    Food was good and specially soop<end_of_turn>\n",
      "    <start_of_turn>model\n",
      "    غذا بہت  خوب تھی اور خاص طور پر سُوپ \n",
      "<end_of_turn>\n"
     ]
    },
    {
     "name": "stderr",
     "output_type": "stream",
     "text": [
      "\r",
      "270it [06:35,  1.14it/s]"
     ]
    },
    {
     "name": "stdout",
     "output_type": "stream",
     "text": [
      "<bos>\n",
      "    <start_of_turn>user\n",
      "    Translate the sentence into urdu and only return the translation:\n",
      "\n",
      "    Very nice ambiance, goos service, food quality is fine, nice place to go with family and friends, roof top is really nice<end_of_turn>\n",
      "    <start_of_turn>model\n",
      "    بڑا خوبصورت atmospher, بہتر خدمات، کھانا کی کیفیّت بہتر ہے، ایک خوبصورت مکان ہے جو ایک خاندان اور ساتھ ساتھ ساتھ ساتھ ساتھ ساتھ ساتھ ساتھ ساتھ ساتھ ساتھ ساتھ ساتھ ساتھ ساتھ ساتھ ساتھ ساتھ ساتھ ساتھ ساتھ ساتھ ساتھ ساتھ ساتھ ساتھ ساتھ ساتھ ساتھ ساتھ ساتھ ساتھ ساتھ ساتھ ساتھ ساتھ ساتھ ساتھ ساتھ ساتھ ساتھ ساتھ ساتھ ساتھ ساتھ ساتھ ساتھ ساتھ ساتھ ساتھ ساتھ ساتھ ساتھ ساتھ ساتھ ساتھ ساتھ ساتھ ساتھ ساتھ ساتھ ساتھ ساتھ ساتھ ساتھ ساتھ ساتھ ساتھ ساتھ ساتھ ساتھ ساتھ ساتھ ساتھ ساتھ ساتھ ساتھ ساتھ ساتھ ساتھ ساتھ ساتھ ساتھ ساتھ ساتھ ساتھ ساتھ ساتھ ساتھ ساتھ ساتھ ساتھ\n"
     ]
    },
    {
     "name": "stderr",
     "output_type": "stream",
     "text": [
      "\r",
      "271it [06:40,  2.09s/it]"
     ]
    },
    {
     "name": "stdout",
     "output_type": "stream",
     "text": [
      "<bos>\n",
      "    <start_of_turn>user\n",
      "    Translate the sentence into urdu and only return the translation:\n",
      "\n",
      "    A very old big restaurant for continental n local food nice place<end_of_turn>\n",
      "    <start_of_turn>model\n",
      "    ایک قدیم بڑاrestoran، کونٹینental اور لوکل کھانا، بہت خوبصورت مکان \n",
      "<end_of_turn>\n"
     ]
    },
    {
     "name": "stderr",
     "output_type": "stream",
     "text": [
      "\r",
      "272it [06:41,  1.80s/it]"
     ]
    },
    {
     "name": "stdout",
     "output_type": "stream",
     "text": [
      "<bos>\n",
      "    <start_of_turn>user\n",
      "    Translate the sentence into urdu and only return the translation:\n",
      "\n",
      "    Excellent Thali food<end_of_turn>\n",
      "    <start_of_turn>model\n",
      "    بklasse Thali کھانا \n",
      "<end_of_turn>\n"
     ]
    },
    {
     "name": "stderr",
     "output_type": "stream",
     "text": [
      "\r",
      "273it [06:42,  1.37s/it]"
     ]
    },
    {
     "name": "stdout",
     "output_type": "stream",
     "text": [
      "<bos>\n",
      "    <start_of_turn>user\n",
      "    Translate the sentence into urdu and only return the translation:\n",
      "\n",
      "    entertainers farewell, promising to return to them on my way home,<end_of_turn>\n",
      "    <start_of_turn>model\n",
      "    متفرقہ ہونے پر، کہا کہ میں گھر کی جگہ پر اپنے راستے میں ان کے سامنے آؤں گا. \n",
      "<end_of_turn>\n"
     ]
    },
    {
     "name": "stderr",
     "output_type": "stream",
     "text": [
      "\r",
      "274it [06:43,  1.37s/it]"
     ]
    },
    {
     "name": "stdout",
     "output_type": "stream",
     "text": [
      "<bos>\n",
      "    <start_of_turn>user\n",
      "    Translate the sentence into urdu and only return the translation:\n",
      "\n",
      "    Best food<end_of_turn>\n",
      "    <start_of_turn>model\n",
      "    مُتْلِیَہ کھانا \n",
      "<end_of_turn>\n"
     ]
    },
    {
     "name": "stderr",
     "output_type": "stream",
     "text": [
      "\r",
      "275it [06:44,  1.13s/it]"
     ]
    },
    {
     "name": "stdout",
     "output_type": "stream",
     "text": [
      "<bos>\n",
      "    <start_of_turn>user\n",
      "    Translate the sentence into urdu and only return the translation:\n",
      "\n",
      "    Where are you from?<end_of_turn>\n",
      "    <start_of_turn>model\n",
      "    کون سے؟ \n",
      "<end_of_turn>\n"
     ]
    },
    {
     "name": "stderr",
     "output_type": "stream",
     "text": [
      "\r",
      "276it [06:44,  1.14it/s]"
     ]
    },
    {
     "name": "stdout",
     "output_type": "stream",
     "text": [
      "<bos>\n",
      "    <start_of_turn>user\n",
      "    Translate the sentence into urdu and only return the translation:\n",
      "\n",
      "    I have chosen thee for My service;<end_of_turn>\n",
      "    <start_of_turn>model\n",
      "    میں نے تم کو اپنے خدمت کے لیے منتخب کیا ہے۔ \n",
      "<end_of_turn>\n"
     ]
    },
    {
     "name": "stderr",
     "output_type": "stream",
     "text": [
      "\r",
      "277it [06:44,  1.26it/s]"
     ]
    },
    {
     "name": "stdout",
     "output_type": "stream",
     "text": [
      "<bos>\n",
      "    <start_of_turn>user\n",
      "    Translate the sentence into urdu and only return the translation:\n",
      "\n",
      "    muj bbq nahi pasand is lia theek tha<end_of_turn>\n",
      "    <start_of_turn>model\n",
      "    میں BBQ نہیں پسند ہے یہ لیکن صحیح ہے۔ \n",
      "<end_of_turn>\n"
     ]
    },
    {
     "name": "stderr",
     "output_type": "stream",
     "text": [
      "\r",
      "278it [06:45,  1.36it/s]"
     ]
    },
    {
     "name": "stdout",
     "output_type": "stream",
     "text": [
      "<bos>\n",
      "    <start_of_turn>user\n",
      "    Translate the sentence into urdu and only return the translation:\n",
      "\n",
      "    Best chicken cream<end_of_turn>\n",
      "    <start_of_turn>model\n",
      "    چینی پرچم کا بہترین \n",
      "<end_of_turn>\n"
     ]
    },
    {
     "name": "stderr",
     "output_type": "stream",
     "text": [
      "\r",
      "279it [06:46,  1.54it/s]"
     ]
    },
    {
     "name": "stdout",
     "output_type": "stream",
     "text": [
      "<bos>\n",
      "    <start_of_turn>user\n",
      "    Translate the sentence into urdu and only return the translation:\n",
      "\n",
      "    Below average<end_of_turn>\n",
      "    <start_of_turn>model\n",
      "    کوئی کمالِ حد سے \n",
      "<end_of_turn>\n"
     ]
    },
    {
     "name": "stderr",
     "output_type": "stream",
     "text": [
      "\r",
      "280it [06:46,  1.74it/s]"
     ]
    },
    {
     "name": "stdout",
     "output_type": "stream",
     "text": [
      "<bos>\n",
      "    <start_of_turn>user\n",
      "    Translate the sentence into urdu and only return the translation:\n",
      "\n",
      "    ”\n",
      "\n",
      "“I know it, monsieur,” replied Villefort, “and I am now going to examine him<end_of_turn>\n",
      "    <start_of_turn>model\n",
      "    \"میں یہ جانتی ہوں، میسے  \"  \n",
      "<end_of_turn>\n"
     ]
    },
    {
     "name": "stderr",
     "output_type": "stream",
     "text": [
      "\r",
      "281it [06:47,  1.65it/s]"
     ]
    },
    {
     "name": "stdout",
     "output_type": "stream",
     "text": [
      "<bos>\n",
      "    <start_of_turn>user\n",
      "    Translate the sentence into urdu and only return the translation:\n",
      "\n",
      "    They have variety of bbq dishes, which they serve in vehicle as well as in restaurant.<end_of_turn>\n",
      "    <start_of_turn>model\n",
      "    انہیں  bbq  dishes کی بہت سی  سے  پھول  کی  سے  کیا  ہے، جو  انہیں  Vehicle  اور  Restaurant  میں  سے  پھول  کی  سے  کیا  ہے. \n",
      "<end_of_turn>\n"
     ]
    },
    {
     "name": "stderr",
     "output_type": "stream",
     "text": [
      "\r",
      "282it [06:49,  1.18s/it]"
     ]
    },
    {
     "name": "stdout",
     "output_type": "stream",
     "text": [
      "<bos>\n",
      "    <start_of_turn>user\n",
      "    Translate the sentence into urdu and only return the translation:\n",
      "\n",
      "    Getting disappointed<end_of_turn>\n",
      "    <start_of_turn>model\n",
      "    دل میں ناامید ہونا \n",
      "<end_of_turn>\n"
     ]
    },
    {
     "name": "stderr",
     "output_type": "stream",
     "text": [
      "\r",
      "283it [06:50,  1.06it/s]"
     ]
    },
    {
     "name": "stdout",
     "output_type": "stream",
     "text": [
      "<bos>\n",
      "    <start_of_turn>user\n",
      "    Translate the sentence into urdu and only return the translation:\n",
      "\n",
      "    Each article is the product of extensive research. In fact, to determine just how young people think and feel, Awake!<end_of_turn>\n",
      "    <start_of_turn>model\n",
      "    ہر مضمون ایک وسیع تحقیق کا نتیجہ ہے۔实لاً، صرف جوانوں کے سوچنے اور احساس کرنے کی جگہ سے پہلے،  Awake! \n",
      "<end_of_turn>\n"
     ]
    },
    {
     "name": "stderr",
     "output_type": "stream",
     "text": [
      "\r",
      "284it [06:51,  1.14s/it]"
     ]
    },
    {
     "name": "stdout",
     "output_type": "stream",
     "text": [
      "<bos>\n",
      "    <start_of_turn>user\n",
      "    Translate the sentence into urdu and only return the translation:\n",
      "\n",
      "    He had gladly accepted, but now found that his duties would not permit of his absence.<end_of_turn>\n",
      "    <start_of_turn>model\n",
      "    اپنے  اع acuerdo  ہے، لیکن اب یہیں  ہے کہ  کیا  کیا  کیا  کیا  کیا  کیا  کیا  کیا  کیا  کیا  کیا  کیا  کیا  کیا  کیا  کیا  کیا  کیا  کیا  کیا  کیا  کیا  کیا  کیا  کیا  کیا  کیا  کیا  کیا  کیا  کیا  کیا  کیا  کیا  کیا  کیا  کی\n"
     ]
    },
    {
     "name": "stderr",
     "output_type": "stream",
     "text": [
      "\r",
      "285it [06:56,  2.25s/it]"
     ]
    },
    {
     "name": "stdout",
     "output_type": "stream",
     "text": [
      "<bos>\n",
      "    <start_of_turn>user\n",
      "    Translate the sentence into urdu and only return the translation:\n",
      "\n",
      "    For this ointment might have been sold for much , and given to the poor .<end_of_turn>\n",
      "    <start_of_turn>model\n",
      "    اس اُنٹیمینٹ کی قیمت میں بہت زیادہ ہو سکی تھی، اور بے روزہ لوگوں کو دیا گیا۔ \n",
      "<end_of_turn>\n"
     ]
    },
    {
     "name": "stderr",
     "output_type": "stream",
     "text": [
      "\r",
      "286it [06:57,  2.00s/it]"
     ]
    },
    {
     "name": "stdout",
     "output_type": "stream",
     "text": [
      "<bos>\n",
      "    <start_of_turn>user\n",
      "    Translate the sentence into urdu and only return the translation:\n",
      "\n",
      "    The Companions of the Garden will call out to the Companions of the Fire: \"We have indeed found the promises of our Lord to us true: Have you also found Your Lord's promises true?\" They shall say, \"Yes\"; but a crier shall proclaim between them: \"The curse of Allah is on the wrong-doers;-<end_of_turn>\n",
      "    <start_of_turn>model\n",
      "     Companionوں کا گھرانہ  گھرانے کے Companionوں کو کہیں: \"ہے، ہماری لڑائی کے وعدوں کو ہم نے واقعی پوری کی ہے: آپ نے بھی اپنے لڑائی کے وعدوں کو واقعی پوری کیا ہے؟\"  انھوں نے کہا: \"ہاں\"  لیکن ایک  کراہ  میں  ان کے  میں  میں  میں  میں  میں  میں  میں  میں  میں  میں  میں  میں  میں  میں  می\n"
     ]
    },
    {
     "name": "stderr",
     "output_type": "stream",
     "text": [
      "\r",
      "287it [07:02,  2.85s/it]"
     ]
    },
    {
     "name": "stdout",
     "output_type": "stream",
     "text": [
      "<bos>\n",
      "    <start_of_turn>user\n",
      "    Translate the sentence into urdu and only return the translation:\n",
      "\n",
      "    I know nothing in this connection.<end_of_turn>\n",
      "    <start_of_turn>model\n",
      "    مجھے یہیں کسی بھی تعلق میں کوئی علم نہیں ہے۔ \n",
      "<end_of_turn>\n"
     ]
    },
    {
     "name": "stderr",
     "output_type": "stream",
     "text": [
      "\r",
      "288it [07:03,  2.20s/it]"
     ]
    },
    {
     "name": "stdout",
     "output_type": "stream",
     "text": [
      "<bos>\n",
      "    <start_of_turn>user\n",
      "    Translate the sentence into urdu and only return the translation:\n",
      "\n",
      "    Elegant cozy and wonderful atmosphere love it<end_of_turn>\n",
      "    <start_of_turn>model\n",
      "    عطرِ خوب،  کوچه  کوچه  و  خوب  عطر  را  محبت  کرده  \n",
      "<end_of_turn>\n"
     ]
    },
    {
     "name": "stderr",
     "output_type": "stream",
     "text": [
      "\r",
      "289it [07:04,  1.87s/it]"
     ]
    },
    {
     "name": "stdout",
     "output_type": "stream",
     "text": [
      "<bos>\n",
      "    <start_of_turn>user\n",
      "    Translate the sentence into urdu and only return the translation:\n",
      "\n",
      "    Hark! he cried.<end_of_turn>\n",
      "    <start_of_turn>model\n",
      "    ہاں! وہ کہا۔ \n",
      "<end_of_turn>\n"
     ]
    },
    {
     "name": "stderr",
     "output_type": "stream",
     "text": [
      "\r",
      "290it [07:04,  1.43s/it]"
     ]
    },
    {
     "name": "stdout",
     "output_type": "stream",
     "text": [
      "<bos>\n",
      "    <start_of_turn>user\n",
      "    Translate the sentence into urdu and only return the translation:\n",
      "\n",
      "    Nice food<end_of_turn>\n",
      "    <start_of_turn>model\n",
      "    خوب کھانا \n",
      "<end_of_turn>\n"
     ]
    },
    {
     "name": "stderr",
     "output_type": "stream",
     "text": [
      "\r",
      "291it [07:05,  1.08s/it]"
     ]
    },
    {
     "name": "stdout",
     "output_type": "stream",
     "text": [
      "<bos>\n",
      "    <start_of_turn>user\n",
      "    Translate the sentence into urdu and only return the translation:\n",
      "\n",
      "    quality food---awesome management<end_of_turn>\n",
      "    <start_of_turn>model\n",
      "    مُتوازنہ کھانا - بہتر استعمال \n",
      "<end_of_turn>\n"
     ]
    },
    {
     "name": "stderr",
     "output_type": "stream",
     "text": [
      "\r",
      "292it [07:05,  1.06it/s]"
     ]
    },
    {
     "name": "stdout",
     "output_type": "stream",
     "text": [
      "<bos>\n",
      "    <start_of_turn>user\n",
      "    Translate the sentence into urdu and only return the translation:\n",
      "\n",
      "    Barbeque and kabab are their specialty<end_of_turn>\n",
      "    <start_of_turn>model\n",
      "     barbecue اور kabab ان کے speciality ہیں۔ \n",
      "<end_of_turn>\n"
     ]
    },
    {
     "name": "stderr",
     "output_type": "stream",
     "text": [
      "\r",
      "293it [07:06,  1.26it/s]"
     ]
    },
    {
     "name": "stdout",
     "output_type": "stream",
     "text": [
      "<bos>\n",
      "    <start_of_turn>user\n",
      "    Translate the sentence into urdu and only return the translation:\n",
      "\n",
      "    It was ok<end_of_turn>\n",
      "    <start_of_turn>model\n",
      "    یہ satisfactory  \n",
      "<end_of_turn>\n"
     ]
    },
    {
     "name": "stderr",
     "output_type": "stream",
     "text": [
      "\r",
      "294it [07:06,  1.58it/s]"
     ]
    },
    {
     "name": "stdout",
     "output_type": "stream",
     "text": [
      "<bos>\n",
      "    <start_of_turn>user\n",
      "    Translate the sentence into urdu and only return the translation:\n",
      "\n",
      "    Great food. Delivery is excellent<end_of_turn>\n",
      "    <start_of_turn>model\n",
      "    بسیار خوب کھانا. ڈی لvery  بklasse  \n",
      "<end_of_turn>\n"
     ]
    },
    {
     "name": "stderr",
     "output_type": "stream",
     "text": [
      "\r",
      "295it [07:07,  1.55it/s]"
     ]
    },
    {
     "name": "stdout",
     "output_type": "stream",
     "text": [
      "<bos>\n",
      "    <start_of_turn>user\n",
      "    Translate the sentence into urdu and only return the translation:\n",
      "\n",
      "     In time, your advancement will be manifest to others, including your parents<end_of_turn>\n",
      "    <start_of_turn>model\n",
      "    وقتِ آن میں، آپ کی ترقی دیگروں کو واضح ہو جائے گی،  یہ  اپنے والدین بھی شامل ہیں۔ \n",
      "<end_of_turn>\n"
     ]
    },
    {
     "name": "stderr",
     "output_type": "stream",
     "text": [
      "\r",
      "296it [07:08,  1.22it/s]"
     ]
    },
    {
     "name": "stdout",
     "output_type": "stream",
     "text": [
      "<bos>\n",
      "    <start_of_turn>user\n",
      "    Translate the sentence into urdu and only return the translation:\n",
      "\n",
      "    Highly Recommend, service people are not energetic. Traditional<end_of_turn>\n",
      "    <start_of_turn>model\n",
      "    بہت سے تجویز کیا جاتا ہے،servise افراد غیر فعال ہیں۔ قدیم \n",
      "<end_of_turn>\n"
     ]
    },
    {
     "name": "stderr",
     "output_type": "stream",
     "text": [
      "\r",
      "297it [07:09,  1.20it/s]"
     ]
    },
    {
     "name": "stdout",
     "output_type": "stream",
     "text": [
      "<bos>\n",
      "    <start_of_turn>user\n",
      "    Translate the sentence into urdu and only return the translation:\n",
      "\n",
      "    Very nice nihari<end_of_turn>\n",
      "    <start_of_turn>model\n",
      "    بklasse  نیhari \n",
      "<end_of_turn>\n"
     ]
    },
    {
     "name": "stderr",
     "output_type": "stream",
     "text": [
      "\r",
      "298it [07:09,  1.47it/s]"
     ]
    },
    {
     "name": "stdout",
     "output_type": "stream",
     "text": [
      "<bos>\n",
      "    <start_of_turn>user\n",
      "    Translate the sentence into urdu and only return the translation:\n",
      "\n",
      "    Awesome food<end_of_turn>\n",
      "    <start_of_turn>model\n",
      "    محبت کی غذا \n",
      "<end_of_turn>\n"
     ]
    },
    {
     "name": "stderr",
     "output_type": "stream",
     "text": [
      "\r",
      "299it [07:09,  1.77it/s]"
     ]
    },
    {
     "name": "stdout",
     "output_type": "stream",
     "text": [
      "<bos>\n",
      "    <start_of_turn>user\n",
      "    Translate the sentence into urdu and only return the translation:\n",
      "\n",
      "    nan<end_of_turn>\n",
      "    <start_of_turn>model\n",
      "    نہیں \n",
      "<end_of_turn>\n"
     ]
    },
    {
     "name": "stderr",
     "output_type": "stream",
     "text": [
      "\r",
      "300it [07:10,  2.11it/s]"
     ]
    },
    {
     "name": "stdout",
     "output_type": "stream",
     "text": [
      "<bos>\n",
      "    <start_of_turn>user\n",
      "    Translate the sentence into urdu and only return the translation:\n",
      "\n",
      "     Then they asked me to wait as they were doing some arrangementsfor me<end_of_turn>\n",
      "    <start_of_turn>model\n",
      "    ان کے بعد میں نے ان کی بات کی تھی کہ میں ان کے لیے کچھ arrangements کر رہے ہیں \n",
      "<end_of_turn>\n"
     ]
    },
    {
     "name": "stderr",
     "output_type": "stream",
     "text": [
      "\r",
      "301it [07:11,  1.57it/s]"
     ]
    },
    {
     "name": "stdout",
     "output_type": "stream",
     "text": [
      "<bos>\n",
      "    <start_of_turn>user\n",
      "    Translate the sentence into urdu and only return the translation:\n",
      "\n",
      "    \n",
      "\n",
      "“What news?” exclaimed a general burst of voices<end_of_turn>\n",
      "    <start_of_turn>model\n",
      "    \"کی خبر ہے؟\" \n",
      "<end_of_turn>\n"
     ]
    },
    {
     "name": "stderr",
     "output_type": "stream",
     "text": [
      "\r",
      "302it [07:11,  1.80it/s]"
     ]
    },
    {
     "name": "stdout",
     "output_type": "stream",
     "text": [
      "<bos>\n",
      "    <start_of_turn>user\n",
      "    Translate the sentence into urdu and only return the translation:\n",
      "\n",
      "    It won’t be that easy.<end_of_turn>\n",
      "    <start_of_turn>model\n",
      "    یہ ہونے والا نہیں گھونٹا. \n",
      "<end_of_turn>\n"
     ]
    },
    {
     "name": "stderr",
     "output_type": "stream",
     "text": [
      "\r",
      "303it [07:12,  1.69it/s]"
     ]
    },
    {
     "name": "stdout",
     "output_type": "stream",
     "text": [
      "<bos>\n",
      "    <start_of_turn>user\n",
      "    Translate the sentence into urdu and only return the translation:\n",
      "\n",
      "    A good desi place for dining.<end_of_turn>\n",
      "    <start_of_turn>model\n",
      "    ایک خوبہ desi مکان کھان کے لیے. \n",
      "<end_of_turn>\n"
     ]
    },
    {
     "name": "stderr",
     "output_type": "stream",
     "text": [
      "\r",
      "304it [07:12,  1.75it/s]"
     ]
    },
    {
     "name": "stdout",
     "output_type": "stream",
     "text": [
      "<bos>\n",
      "    <start_of_turn>user\n",
      "    Translate the sentence into urdu and only return the translation:\n",
      "\n",
      "    And the graves were opened ; and many bodies of the saints which slept arose .<end_of_turn>\n",
      "    <start_of_turn>model\n",
      "    مزارات کھل گئے، اور  سaints کی  بڑی  بدیاں  آئے \n",
      "<end_of_turn>\n"
     ]
    },
    {
     "name": "stderr",
     "output_type": "stream",
     "text": [
      "\r",
      "305it [07:13,  1.40it/s]"
     ]
    },
    {
     "name": "stdout",
     "output_type": "stream",
     "text": [
      "<bos>\n",
      "    <start_of_turn>user\n",
      "    Translate the sentence into urdu and only return the translation:\n",
      "\n",
      "     John gave the book to Henry.<end_of_turn>\n",
      "    <start_of_turn>model\n",
      "    یون  کتاب ہنری  کے لیے  ہے۔ \n",
      "<end_of_turn>\n"
     ]
    },
    {
     "name": "stderr",
     "output_type": "stream",
     "text": [
      "\r",
      "306it [07:14,  1.40it/s]"
     ]
    },
    {
     "name": "stdout",
     "output_type": "stream",
     "text": [
      "<bos>\n",
      "    <start_of_turn>user\n",
      "    Translate the sentence into urdu and only return the translation:\n",
      "\n",
      "    Tasteless food and mediocre ambience<end_of_turn>\n",
      "    <start_of_turn>model\n",
      "    کھلا ہوا کھانا اور معمولی atmospher \n",
      "<end_of_turn>\n"
     ]
    },
    {
     "name": "stderr",
     "output_type": "stream",
     "text": [
      "\r",
      "307it [07:14,  1.53it/s]"
     ]
    },
    {
     "name": "stdout",
     "output_type": "stream",
     "text": [
      "<bos>\n",
      "    <start_of_turn>user\n",
      "    Translate the sentence into urdu and only return the translation:\n",
      "\n",
      "    They have a very good service, also have a great taste. Their signature dishes are tangri boti, lebanese boti and turkish kabab etc<end_of_turn>\n",
      "    <start_of_turn>model\n",
      "    انہیں بہت ہی خوب service ہے،  اور  کوئی بھی  Taste  کی  بہت  خوب  ہیں۔  ان کی  Signature dishes  tangri boti, lebanese boti  اور  turkish kabab  ہیں. \n",
      "<end_of_turn>\n"
     ]
    },
    {
     "name": "stderr",
     "output_type": "stream",
     "text": [
      "\r",
      "308it [07:17,  1.15s/it]"
     ]
    },
    {
     "name": "stdout",
     "output_type": "stream",
     "text": [
      "<bos>\n",
      "    <start_of_turn>user\n",
      "    Translate the sentence into urdu and only return the translation:\n",
      "\n",
      "    So, when they had returned to their father, they said, 'Father, the measure was denied to us; so send with us our brother, that we may obtain the measure; surely we shall be watching over him.'<end_of_turn>\n",
      "    <start_of_turn>model\n",
      "    انہیں اپنے پڑھوں پر چلے گئے، انہیں اپنے پڑھوں پر چلے گئے، انہیں اپنے پڑھوں پر چلے گئے، انہیں اپنے پڑھوں پر چلے گئے، انہیں اپنے پڑھوں پر چلے گئے، انہیں اپنے پڑھوں پر چلے گئے، انہیں اپنے پڑھوں پر چلے گئے، انہیں اپنے پڑھوں پر چلے گئے، انہیں اپنے پڑھوں پر چلے گئے، انہ\n"
     ]
    },
    {
     "name": "stderr",
     "output_type": "stream",
     "text": [
      "\r",
      "309it [07:22,  2.28s/it]"
     ]
    },
    {
     "name": "stdout",
     "output_type": "stream",
     "text": [
      "<bos>\n",
      "    <start_of_turn>user\n",
      "    Translate the sentence into urdu and only return the translation:\n",
      "\n",
      "    \"Luckily,\" said he, \"you won't be expected to know much, for the King's notoriously lax and careless about such matters. But you must be as civil as butter to the Cardinal. We hope to win him over, because he and Michael have a standing quarrel about their precedence.\"<end_of_turn>\n",
      "    <start_of_turn>model\n",
      "    \"خوشبختانه,\"  کہا، \"انہیں یہ نہیں چاہیے کہ آپ کو یہاں بہت سے معلومات کی ضرورت ہو، کیوں کہ بادشاہ کے نام پر یہاں بہت سے مسائل ہیں، جو کسی بھی طرح سے بہت سی سیاحت کی طرف سے چھپ جاتے ہیں۔  لیکن آپ کو کبھی کبھی کبھی کبھی کبھی کبھی کبھی کبھی کبھی کبھی کبھی کبھی کبھی کبھی کبھی کبھی کبھی کب\n"
     ]
    },
    {
     "name": "stderr",
     "output_type": "stream",
     "text": [
      "\r",
      "310it [07:27,  3.07s/it]"
     ]
    },
    {
     "name": "stdout",
     "output_type": "stream",
     "text": [
      "<bos>\n",
      "    <start_of_turn>user\n",
      "    Translate the sentence into urdu and only return the translation:\n",
      "\n",
      "    modified review on 2nd visit not recomended ...yesterday visit was pathtic experiance ... non welcoming floor supervisor. poor quality food and so called management very agressively behaved as food was not cooked well and tikka was like uncooked...open terrace with cool enviroment ...food is good ..look for spicy bar b que like shahi chattak but was not spicy what i expected..  over all food handling and serving was good well manneraed staff with warm welcome. only one thing which irrates waiting at ground floor in noisy polluted traffic atleast reserve your walk in sits one hour before or more ... but for good wait is ok.  over all good experiance for small platters and families<end_of_turn>\n",
      "    <start_of_turn>model\n",
      "    اپنے 2nd visit پر  تغییر کی گھڑی ہے،  نہیں  راہنمائی  ...  جہاں  visit  was  pathtic  experience  ...  non welcoming floor supervisor.  poor quality food and so called management very agressively behaved as food was not cooked well and tikka was like uncooked...open terrace with cool enviroment  ... food is good ..look for spicy bar b que like shahi chattak but was not spicy what i expected..  over all food handling and serving was good well manneraed staff with warm welcome.  only one\n"
     ]
    },
    {
     "name": "stderr",
     "output_type": "stream",
     "text": [
      "\r",
      "311it [07:32,  3.65s/it]"
     ]
    },
    {
     "name": "stdout",
     "output_type": "stream",
     "text": [
      "<bos>\n",
      "    <start_of_turn>user\n",
      "    Translate the sentence into urdu and only return the translation:\n",
      "\n",
      "    Very nice place for sea food<end_of_turn>\n",
      "    <start_of_turn>model\n",
      "    بسیار خوب دریایی مکان \n",
      "<end_of_turn>\n"
     ]
    },
    {
     "name": "stderr",
     "output_type": "stream",
     "text": [
      "\r",
      "312it [07:32,  2.68s/it]"
     ]
    },
    {
     "name": "stdout",
     "output_type": "stream",
     "text": [
      "<bos>\n",
      "    <start_of_turn>user\n",
      "    Translate the sentence into urdu and only return the translation:\n",
      "\n",
      "    They found the old woman, said I.<end_of_turn>\n",
      "    <start_of_turn>model\n",
      "    انہیں قدیم عورت تلاش کی گئی۔ \n",
      "<end_of_turn>\n"
     ]
    },
    {
     "name": "stderr",
     "output_type": "stream",
     "text": [
      "\r",
      "313it [07:33,  2.05s/it]"
     ]
    },
    {
     "name": "stdout",
     "output_type": "stream",
     "text": [
      "<bos>\n",
      "    <start_of_turn>user\n",
      "    Translate the sentence into urdu and only return the translation:\n",
      "\n",
      "    Very nice<end_of_turn>\n",
      "    <start_of_turn>model\n",
      "    بklasse \n",
      "<end_of_turn>\n"
     ]
    },
    {
     "name": "stderr",
     "output_type": "stream",
     "text": [
      "\r",
      "314it [07:33,  1.50s/it]"
     ]
    },
    {
     "name": "stdout",
     "output_type": "stream",
     "text": [
      "<bos>\n",
      "    <start_of_turn>user\n",
      "    Translate the sentence into urdu and only return the translation:\n",
      "\n",
      "    nice<end_of_turn>\n",
      "    <start_of_turn>model\n",
      "    خوب \n",
      "<end_of_turn>\n"
     ]
    },
    {
     "name": "stderr",
     "output_type": "stream",
     "text": [
      "\r",
      "315it [07:33,  1.11s/it]"
     ]
    },
    {
     "name": "stdout",
     "output_type": "stream",
     "text": [
      "<bos>\n",
      "    <start_of_turn>user\n",
      "    Translate the sentence into urdu and only return the translation:\n",
      "\n",
      "    Awesome, delicious<end_of_turn>\n",
      "    <start_of_turn>model\n",
      "    بklasse، لذیذ \n",
      "<end_of_turn>\n"
     ]
    },
    {
     "name": "stderr",
     "output_type": "stream",
     "text": [
      "\r",
      "316it [07:33,  1.11it/s]"
     ]
    },
    {
     "name": "stdout",
     "output_type": "stream",
     "text": [
      "<bos>\n",
      "    <start_of_turn>user\n",
      "    Translate the sentence into urdu and only return the translation:\n",
      "\n",
      "    Very good taste but seating is on road<end_of_turn>\n",
      "    <start_of_turn>model\n",
      "    بہت خوب لگتا ہے لیکن seating road پر ہے۔ \n",
      "<end_of_turn>\n"
     ]
    },
    {
     "name": "stderr",
     "output_type": "stream",
     "text": [
      "\r",
      "317it [07:34,  1.20it/s]"
     ]
    },
    {
     "name": "stdout",
     "output_type": "stream",
     "text": [
      "<bos>\n",
      "    <start_of_turn>user\n",
      "    Translate the sentence into urdu and only return the translation:\n",
      "\n",
      "    \n",
      "\n",
      "“Yes, as you see, neighbor Caderousse; and ready to be agreeable to you in any and every way,” replied Dantès, but ill-concealing his coldness under this cloak of civility<end_of_turn>\n",
      "    <start_of_turn>model\n",
      "    \"हाँ، یہ دیکھتے ہو،  ساتھ  کaderousse; اور  ہر  کوئی  کوئی  کوئی  کوئی  کوئی  کوئی  کوئی  کوئی  کوئی  کوئی  کوئی  کوئی  کوئی  کوئی  کوئی  کوئی  کوئی  کوئی  کوئی  کوئی  کوئی  کوئی  کوئی  کوئی  کوئی  کوئی  کوئی  کوئی  کوئی  کوئی  کوئی  کوئی  کوئی  کوئی  کوئی  کوئی\n"
     ]
    },
    {
     "name": "stderr",
     "output_type": "stream",
     "text": [
      "\r",
      "318it [07:39,  2.05s/it]"
     ]
    },
    {
     "name": "stdout",
     "output_type": "stream",
     "text": [
      "<bos>\n",
      "    <start_of_turn>user\n",
      "    Translate the sentence into urdu and only return the translation:\n",
      "\n",
      "    What would you like to have?<end_of_turn>\n",
      "    <start_of_turn>model\n",
      "    یہ کیا چاہتے ہیں؟ \n",
      "<end_of_turn>\n"
     ]
    },
    {
     "name": "stderr",
     "output_type": "stream",
     "text": [
      "\r",
      "319it [07:39,  1.57s/it]"
     ]
    },
    {
     "name": "stdout",
     "output_type": "stream",
     "text": [
      "<bos>\n",
      "    <start_of_turn>user\n",
      "    Translate the sentence into urdu and only return the translation:\n",
      "\n",
      "    Taste of food is perfect with reasonable rate, only issue is ambiance if you can compromise that its perfect place for desi food.<end_of_turn>\n",
      "    <start_of_turn>model\n",
      "    غذای کی مذاق  کو مناسب قیمت پر ہے،  یہ ایک بہت خوبصورت مکان ہے لیکن  آپ کی  عuşت کو  کبھی  کبھی  کبھی  کبھی  کبھی  کبھی  کبھی  کبھی  کبھی  کبھی  کبھی  کبھی  کبھی  کبھی  کبھی  کبھی  کبھی  کبھی  کبھی  کبھی  کبھی  کبھی  کبھی  \n"
     ]
    },
    {
     "name": "stderr",
     "output_type": "stream",
     "text": [
      "\r",
      "320it [07:44,  2.56s/it]"
     ]
    },
    {
     "name": "stdout",
     "output_type": "stream",
     "text": [
      "<bos>\n",
      "    <start_of_turn>user\n",
      "    Translate the sentence into urdu and only return the translation:\n",
      "\n",
      "    Food quality is good by location was very bad and also the seating arrangement<end_of_turn>\n",
      "    <start_of_turn>model\n",
      "    غذای کی کیفیّت بہ locality بہت بڑی تھی، seating arrangement بہت بڑی تھی \n",
      "<end_of_turn>\n"
     ]
    },
    {
     "name": "stderr",
     "output_type": "stream",
     "text": [
      "\r",
      "321it [07:45,  2.13s/it]"
     ]
    },
    {
     "name": "stdout",
     "output_type": "stream",
     "text": [
      "<bos>\n",
      "    <start_of_turn>user\n",
      "    Translate the sentence into urdu and only return the translation:\n",
      "\n",
      "    It’s a useless debate.<end_of_turn>\n",
      "    <start_of_turn>model\n",
      "    یہ ایک فائدہ مند بحث نہیں ہے۔ \n",
      "<end_of_turn>\n"
     ]
    },
    {
     "name": "stderr",
     "output_type": "stream",
     "text": [
      "\r",
      "322it [07:46,  1.66s/it]"
     ]
    },
    {
     "name": "stdout",
     "output_type": "stream",
     "text": [
      "<bos>\n",
      "    <start_of_turn>user\n",
      "    Translate the sentence into urdu and only return the translation:\n",
      "\n",
      "    Really! I don’t believe it.<end_of_turn>\n",
      "    <start_of_turn>model\n",
      "    واقعا! میں یہ باور نہیں کر سکتا. \n",
      "<end_of_turn>\n"
     ]
    },
    {
     "name": "stderr",
     "output_type": "stream",
     "text": [
      "\r",
      "323it [07:47,  1.34s/it]"
     ]
    },
    {
     "name": "stdout",
     "output_type": "stream",
     "text": [
      "<bos>\n",
      "    <start_of_turn>user\n",
      "    Translate the sentence into urdu and only return the translation:\n",
      "\n",
      "    Jacob doesn’t compromise his principles, but neither does he insist on an apology before making peace with his brother.<end_of_turn>\n",
      "    <start_of_turn>model\n",
      "    جکوب اپنے principiوں کو نہیں ہٹاتا، لیکن وہ اپنے بھائی کے ساتھ صلح کے لیے پشیمانی کے لیے بھی نہیں insistence کرتا۔ \n",
      "<end_of_turn>\n"
     ]
    },
    {
     "name": "stderr",
     "output_type": "stream",
     "text": [
      "\r",
      "324it [07:48,  1.40s/it]"
     ]
    },
    {
     "name": "stdout",
     "output_type": "stream",
     "text": [
      "<bos>\n",
      "    <start_of_turn>user\n",
      "    Translate the sentence into urdu and only return the translation:\n",
      "\n",
      "    Nice place to have Pakistani BBQ<end_of_turn>\n",
      "    <start_of_turn>model\n",
      "    خوبہ  پاکستانی BBQ کی جگہ \n",
      "<end_of_turn>\n"
     ]
    },
    {
     "name": "stderr",
     "output_type": "stream",
     "text": [
      "\r",
      "325it [07:49,  1.15s/it]"
     ]
    },
    {
     "name": "stdout",
     "output_type": "stream",
     "text": [
      "<bos>\n",
      "    <start_of_turn>user\n",
      "    Translate the sentence into urdu and only return the translation:\n",
      "\n",
      "    Steam lamb leg roast and jalfrezi are the best<end_of_turn>\n",
      "    <start_of_turn>model\n",
      "    پھولے کے پھولے کے پھولے اور جالفرزی بہترین ہیں۔ \n",
      "<end_of_turn>\n"
     ]
    },
    {
     "name": "stderr",
     "output_type": "stream",
     "text": [
      "\r",
      "326it [07:50,  1.10s/it]"
     ]
    },
    {
     "name": "stdout",
     "output_type": "stream",
     "text": [
      "<bos>\n",
      "    <start_of_turn>user\n",
      "    Translate the sentence into urdu and only return the translation:\n",
      "\n",
      "    Too much traffic place<end_of_turn>\n",
      "    <start_of_turn>model\n",
      "    بڑا ٹریفک پرلا \n",
      "<end_of_turn>\n"
     ]
    },
    {
     "name": "stderr",
     "output_type": "stream",
     "text": [
      "\r",
      "327it [07:50,  1.11it/s]"
     ]
    },
    {
     "name": "stdout",
     "output_type": "stream",
     "text": [
      "<bos>\n",
      "    <start_of_turn>user\n",
      "    Translate the sentence into urdu and only return the translation:\n",
      "\n",
      "    What do you want?<end_of_turn>\n",
      "    <start_of_turn>model\n",
      "    یہ کیا چاہتے ہیں؟ \n",
      "<end_of_turn>\n"
     ]
    },
    {
     "name": "stderr",
     "output_type": "stream",
     "text": [
      "\r",
      "328it [07:51,  1.31it/s]"
     ]
    },
    {
     "name": "stdout",
     "output_type": "stream",
     "text": [
      "<bos>\n",
      "    <start_of_turn>user\n",
      "    Translate the sentence into urdu and only return the translation:\n",
      "\n",
      "    Average not so good<end_of_turn>\n",
      "    <start_of_turn>model\n",
      "    متوسط خوب نہیں \n",
      "<end_of_turn>\n"
     ]
    },
    {
     "name": "stderr",
     "output_type": "stream",
     "text": [
      "\r",
      "329it [07:51,  1.60it/s]"
     ]
    },
    {
     "name": "stdout",
     "output_type": "stream",
     "text": [
      "<bos>\n",
      "    <start_of_turn>user\n",
      "    Translate the sentence into urdu and only return the translation:\n",
      "\n",
      "    Malai boti is great<end_of_turn>\n",
      "    <start_of_turn>model\n",
      "    مالی بٹا بہت  خوب ہے۔ \n",
      "<end_of_turn>\n"
     ]
    },
    {
     "name": "stderr",
     "output_type": "stream",
     "text": [
      "\r",
      "330it [07:51,  1.69it/s]"
     ]
    },
    {
     "name": "stdout",
     "output_type": "stream",
     "text": [
      "<bos>\n",
      "    <start_of_turn>user\n",
      "    Translate the sentence into urdu and only return the translation:\n",
      "\n",
      "    Only kebabs r good and handis r not worthy<end_of_turn>\n",
      "    <start_of_turn>model\n",
      "    تنہا کباب ہی بہتر ہیں اور ہاندے ہی کوئی نہیں \n",
      "<end_of_turn>\n"
     ]
    },
    {
     "name": "stderr",
     "output_type": "stream",
     "text": [
      "\r",
      "331it [07:52,  1.54it/s]"
     ]
    },
    {
     "name": "stdout",
     "output_type": "stream",
     "text": [
      "<bos>\n",
      "    <start_of_turn>user\n",
      "    Translate the sentence into urdu and only return the translation:\n",
      "\n",
      "    I must keep it<end_of_turn>\n",
      "    <start_of_turn>model\n",
      "    میں اس کو چھونے کی ضرورت ہے. \n",
      "<end_of_turn>\n"
     ]
    },
    {
     "name": "stderr",
     "output_type": "stream",
     "text": [
      "\r",
      "332it [07:53,  1.55it/s]"
     ]
    },
    {
     "name": "stdout",
     "output_type": "stream",
     "text": [
      "<bos>\n",
      "    <start_of_turn>user\n",
      "    Translate the sentence into urdu and only return the translation:\n",
      "\n",
      "    Delicious food but need to improve there service<end_of_turn>\n",
      "    <start_of_turn>model\n",
      "    طعم لذیذ ہے لیکن خدمات کو بہتر بنانے کی ضرورت ہے۔ \n",
      "<end_of_turn>\n"
     ]
    },
    {
     "name": "stderr",
     "output_type": "stream",
     "text": [
      "\r",
      "333it [07:54,  1.39it/s]"
     ]
    },
    {
     "name": "stdout",
     "output_type": "stream",
     "text": [
      "<bos>\n",
      "    <start_of_turn>user\n",
      "    Translate the sentence into urdu and only return the translation:\n",
      "\n",
      "    Nice place for lunch if you are in SITE area<end_of_turn>\n",
      "    <start_of_turn>model\n",
      "    یہاں لے کے لے کے  lunch  کی  جگہ  آپ  SITE  area  میں  ہیں  \n",
      "<end_of_turn>\n"
     ]
    },
    {
     "name": "stderr",
     "output_type": "stream",
     "text": [
      "\r",
      "334it [07:55,  1.13it/s]"
     ]
    },
    {
     "name": "stdout",
     "output_type": "stream",
     "text": [
      "<bos>\n",
      "    <start_of_turn>user\n",
      "    Translate the sentence into urdu and only return the translation:\n",
      "\n",
      "    And from that time he sought opportunity to betray him .<end_of_turn>\n",
      "    <start_of_turn>model\n",
      "    و از آن زمان او کی کوئی فرصت  را  بہت  بے  تکلیف  کے  حکومت  کے  تکرار  کے  تکرار  کے  تکرار  کے  تکرار  کے  تکرار  کے  تکرار  کے  تکرار  کے  تکرار  کے  تکرار  کے  تکرار  کے  تکرار  کے  تکرار  کے  تکرار  کے  تکرار\n"
     ]
    },
    {
     "name": "stderr",
     "output_type": "stream",
     "text": [
      "\r",
      "335it [08:00,  2.08s/it]"
     ]
    },
    {
     "name": "stdout",
     "output_type": "stream",
     "text": [
      "<bos>\n",
      "    <start_of_turn>user\n",
      "    Translate the sentence into urdu and only return the translation:\n",
      "\n",
      "    Nehari is tasty<end_of_turn>\n",
      "    <start_of_turn>model\n",
      "    نہری لذیذ ہے۔ \n",
      "<end_of_turn>\n"
     ]
    },
    {
     "name": "stderr",
     "output_type": "stream",
     "text": [
      "\r",
      "336it [08:00,  1.59s/it]"
     ]
    },
    {
     "name": "stdout",
     "output_type": "stream",
     "text": [
      "<bos>\n",
      "    <start_of_turn>user\n",
      "    Translate the sentence into urdu and only return the translation:\n",
      "\n",
      "    Do ye not yet understand , neither remember the five loaves of the five thousand , and how many baskets ye took up ?<end_of_turn>\n",
      "    <start_of_turn>model\n",
      "    ہاں تو آپ کو یہ نہیں سمجھتا، کہ پنج لوہے کے پنج ہزار کے بارے میں کیا یاد ہے، اور کیا آپ نے کبھی اس سے کبھی کبھی کیے ہوئے کیوں کیے؟ \n",
      "<end_of_turn>\n"
     ]
    },
    {
     "name": "stderr",
     "output_type": "stream",
     "text": [
      "\r",
      "337it [08:02,  1.76s/it]"
     ]
    },
    {
     "name": "stdout",
     "output_type": "stream",
     "text": [
      "<bos>\n",
      "    <start_of_turn>user\n",
      "    Translate the sentence into urdu and only return the translation:\n",
      "\n",
      "    Till decades, the taste is still the same. All the dishes taste so good.<end_of_turn>\n",
      "    <start_of_turn>model\n",
      "    دہاکوں سے،  تذیب کا  سچ  ہے،  ہر کھانا  ایک  خوب  تذیب  ہے. \n",
      "<end_of_turn>\n"
     ]
    },
    {
     "name": "stderr",
     "output_type": "stream",
     "text": [
      "\r",
      "338it [08:04,  1.66s/it]"
     ]
    },
    {
     "name": "stdout",
     "output_type": "stream",
     "text": [
      "<bos>\n",
      "    <start_of_turn>user\n",
      "    Translate the sentence into urdu and only return the translation:\n",
      "\n",
      "    Are you a policeman?<end_of_turn>\n",
      "    <start_of_turn>model\n",
      "    ہاں، پولیسman ہو؟ \n",
      "<end_of_turn>\n"
     ]
    },
    {
     "name": "stderr",
     "output_type": "stream",
     "text": [
      "\r",
      "339it [08:04,  1.29s/it]"
     ]
    },
    {
     "name": "stdout",
     "output_type": "stream",
     "text": [
      "<bos>\n",
      "    <start_of_turn>user\n",
      "    Translate the sentence into urdu and only return the translation:\n",
      "\n",
      "    Awsmmmm food ..great experience<end_of_turn>\n",
      "    <start_of_turn>model\n",
      "    Awsmmmm  غذہ  ...  بہترین تجربہ \n",
      "<end_of_turn>\n"
     ]
    },
    {
     "name": "stderr",
     "output_type": "stream",
     "text": [
      "\r",
      "340it [08:05,  1.11s/it]"
     ]
    },
    {
     "name": "stdout",
     "output_type": "stream",
     "text": [
      "<bos>\n",
      "    <start_of_turn>user\n",
      "    Translate the sentence into urdu and only return the translation:\n",
      "\n",
      "    Prawns and Lahori biscuits were fantastic<end_of_turn>\n",
      "    <start_of_turn>model\n",
      "    پراُن و لہوری بیسکوٹ بہت ہی خوبsurat تھیں \n",
      "<end_of_turn>\n"
     ]
    },
    {
     "name": "stderr",
     "output_type": "stream",
     "text": [
      "\r",
      "341it [08:06,  1.04s/it]"
     ]
    },
    {
     "name": "stdout",
     "output_type": "stream",
     "text": [
      "<bos>\n",
      "    <start_of_turn>user\n",
      "    Translate the sentence into urdu and only return the translation:\n",
      "\n",
      "    \"Was it drugged—that last bottle?\" I asked in a whisper.<end_of_turn>\n",
      "    <start_of_turn>model\n",
      "    \"یہ  کے  پچھلے  بOTTLE  کی  سے  کھا  کیا  ہے؟\"  \n",
      "<end_of_turn>\n"
     ]
    },
    {
     "name": "stderr",
     "output_type": "stream",
     "text": [
      "\r",
      "342it [08:07,  1.11s/it]"
     ]
    },
    {
     "name": "stdout",
     "output_type": "stream",
     "text": [
      "<bos>\n",
      "    <start_of_turn>user\n",
      "    Translate the sentence into urdu and only return the translation:\n",
      "\n",
      "    ”\n",
      "\n",
      "“Then I have leave?”\n",
      "\n",
      "“Go, I tell you<end_of_turn>\n",
      "    <start_of_turn>model\n",
      "    \"پھر میںLeave  ہے؟\" \n",
      "    \"چلیا، میں کہوں گا\" \n",
      "<end_of_turn>\n"
     ]
    },
    {
     "name": "stderr",
     "output_type": "stream",
     "text": [
      "\r",
      "343it [08:08,  1.08s/it]"
     ]
    },
    {
     "name": "stdout",
     "output_type": "stream",
     "text": [
      "<bos>\n",
      "    <start_of_turn>user\n",
      "    Translate the sentence into urdu and only return the translation:\n",
      "\n",
      "    They provide nice service and delicious food. Pricing is reasonable. Atmosphere is good<end_of_turn>\n",
      "    <start_of_turn>model\n",
      "    انہیں  خوب  خدمت  میں  خوش  کھان  میں  عجب  عجب  عجب  عجب  عجب  عجب  عجب  عجب  عجب  عجب  عجب  عجب  عجب  عجب  عجب  عجب  عجب  عجب  عجب  عجب  عجب  عجب  عجب  عجب  عجب  عجب  عجب  عجب  عجب  عجب  عجب  عجب  عجب  عجب  عجب  عجب  \n"
     ]
    },
    {
     "name": "stderr",
     "output_type": "stream",
     "text": [
      "\r",
      "344it [08:13,  2.22s/it]"
     ]
    },
    {
     "name": "stdout",
     "output_type": "stream",
     "text": [
      "<bos>\n",
      "    <start_of_turn>user\n",
      "    Translate the sentence into urdu and only return the translation:\n",
      "\n",
      "    Taste was awesome! Experience although is spoiled by whizzing vehicles and road dust.<end_of_turn>\n",
      "    <start_of_turn>model\n",
      "    مذاق بہت ہی خوب tha!  تجربہ  ہے  کیا  ہے  کیا  ہے  کیا  ہے  کیا  ہے  کیا  ہے  کیا  ہے  کیا  ہے  کیا  ہے  کیا  ہے  کیا  ہے  کیا  ہے  کیا  ہے  کیا  ہے  کیا  ہے  کیا  ہے  کیا  ہے  کیا  ہے  کیا  ہے  کیا  \n"
     ]
    },
    {
     "name": "stderr",
     "output_type": "stream",
     "text": [
      "\r",
      "345it [08:18,  3.01s/it]"
     ]
    },
    {
     "name": "stdout",
     "output_type": "stream",
     "text": [
      "<bos>\n",
      "    <start_of_turn>user\n",
      "    Translate the sentence into urdu and only return the translation:\n",
      "\n",
      "    Good idea<end_of_turn>\n",
      "    <start_of_turn>model\n",
      "    خوب ایدیا \n",
      "<end_of_turn>\n"
     ]
    },
    {
     "name": "stderr",
     "output_type": "stream",
     "text": [
      "\r",
      "346it [08:18,  2.19s/it]"
     ]
    },
    {
     "name": "stdout",
     "output_type": "stream",
     "text": [
      "<bos>\n",
      "    <start_of_turn>user\n",
      "    Translate the sentence into urdu and only return the translation:\n",
      "\n",
      "    I love it<end_of_turn>\n",
      "    <start_of_turn>model\n",
      "    میں اسے محبت کرتا ہوں \n",
      "<end_of_turn>\n"
     ]
    },
    {
     "name": "stderr",
     "output_type": "stream",
     "text": [
      "\r",
      "347it [08:19,  1.69s/it]"
     ]
    },
    {
     "name": "stdout",
     "output_type": "stream",
     "text": [
      "<bos>\n",
      "    <start_of_turn>user\n",
      "    Translate the sentence into urdu and only return the translation:\n",
      "\n",
      "    Although famous for Nihari but its Nihari is average. Service reasonable. Cleanliness fair.<end_of_turn>\n",
      "    <start_of_turn>model\n",
      "    ہماری مشہوریت کے لیے  Nihari کے لیے  ہم  کی  Nihari  کو  ممتاز  نہیں  ہے۔  سرویس  کو  عادی  ہے۔  Cleanliness  کو  fair  ہے. \n",
      "<end_of_turn>\n"
     ]
    },
    {
     "name": "stderr",
     "output_type": "stream",
     "text": [
      "\r",
      "348it [08:21,  1.89s/it]"
     ]
    },
    {
     "name": "stdout",
     "output_type": "stream",
     "text": [
      "<bos>\n",
      "    <start_of_turn>user\n",
      "    Translate the sentence into urdu and only return the translation:\n",
      "\n",
      "    Abide by the rules yourself.<end_of_turn>\n",
      "    <start_of_turn>model\n",
      "    اپنے اصولوں کو پڑھیں. \n",
      "<end_of_turn>\n"
     ]
    },
    {
     "name": "stderr",
     "output_type": "stream",
     "text": [
      "\r",
      "349it [08:22,  1.48s/it]"
     ]
    },
    {
     "name": "stdout",
     "output_type": "stream",
     "text": [
      "<bos>\n",
      "    <start_of_turn>user\n",
      "    Translate the sentence into urdu and only return the translation:\n",
      "\n",
      "    You teach English.<end_of_turn>\n",
      "    <start_of_turn>model\n",
      "    انگریزی تدریس karte hain. \n",
      "<end_of_turn>\n"
     ]
    },
    {
     "name": "stderr",
     "output_type": "stream",
     "text": [
      "\r",
      "350it [08:22,  1.18s/it]"
     ]
    },
    {
     "name": "stdout",
     "output_type": "stream",
     "text": [
      "<bos>\n",
      "    <start_of_turn>user\n",
      "    Translate the sentence into urdu and only return the translation:\n",
      "\n",
      "    And Judas Iscariot , which also betrayed him : and they went into an house .<end_of_turn>\n",
      "    <start_of_turn>model\n",
      "    جُوداس عیسائِی، جو اسیرِی بھی ہو گیا، ایک گھر میں داخل ہو گئے۔ \n",
      "<end_of_turn>\n"
     ]
    },
    {
     "name": "stderr",
     "output_type": "stream",
     "text": [
      "\r",
      "351it [08:23,  1.19s/it]"
     ]
    },
    {
     "name": "stdout",
     "output_type": "stream",
     "text": [
      "<bos>\n",
      "    <start_of_turn>user\n",
      "    Translate the sentence into urdu and only return the translation:\n",
      "\n",
      "    Nice Kabab Restaurants<end_of_turn>\n",
      "    <start_of_turn>model\n",
      "    خوب kabab کیrestaurants \n",
      "<end_of_turn>\n"
     ]
    },
    {
     "name": "stderr",
     "output_type": "stream",
     "text": [
      "\r",
      "352it [08:24,  1.05it/s]"
     ]
    },
    {
     "name": "stdout",
     "output_type": "stream",
     "text": [
      "<bos>\n",
      "    <start_of_turn>user\n",
      "    Translate the sentence into urdu and only return the translation:\n",
      "\n",
      "    Reasonable price, excellent service, delicious food..<end_of_turn>\n",
      "    <start_of_turn>model\n",
      "    مناسب قیمت، بہترین خدمات، لذیذ کھانا \n",
      "<end_of_turn>\n"
     ]
    },
    {
     "name": "stderr",
     "output_type": "stream",
     "text": [
      "\r",
      "353it [08:24,  1.15it/s]"
     ]
    },
    {
     "name": "stdout",
     "output_type": "stream",
     "text": [
      "<bos>\n",
      "    <start_of_turn>user\n",
      "    Translate the sentence into urdu and only return the translation:\n",
      "\n",
      "    (Translated by Google) Bhut achi nehari ha<end_of_turn>\n",
      "    <start_of_turn>model\n",
      "    بہت اچھی نِھار ہے \n",
      "<end_of_turn>\n"
     ]
    },
    {
     "name": "stderr",
     "output_type": "stream",
     "text": [
      "\r",
      "354it [08:25,  1.29it/s]"
     ]
    },
    {
     "name": "stdout",
     "output_type": "stream",
     "text": [
      "<bos>\n",
      "    <start_of_turn>user\n",
      "    Translate the sentence into urdu and only return the translation:\n",
      "\n",
      "    (Translated by Google) Farig Tareen Nihari Not recommended<end_of_turn>\n",
      "    <start_of_turn>model\n",
      "    فaring تَریَنِ نِیْحَارِ  نَحْنَ  نَحْنَ  نَحْنَ  نَحْنَ  نَحْنَ  نَحْنَ  نَحْنَ  نَحْنَ  نَحْنَ  نَحْنَ  نَحْنَ  نَحْنَ  نَحْنَ  نَحْنَ  نَحْنَ  نَحْنَ  \n"
     ]
    },
    {
     "name": "stderr",
     "output_type": "stream",
     "text": [
      "\r",
      "355it [08:30,  2.01s/it]"
     ]
    },
    {
     "name": "stdout",
     "output_type": "stream",
     "text": [
      "<bos>\n",
      "    <start_of_turn>user\n",
      "    Translate the sentence into urdu and only return the translation:\n",
      "\n",
      "    Best eatery in this part of town<end_of_turn>\n",
      "    <start_of_turn>model\n",
      "    یہ قصبہ میں یہاں بہترین کھانے کا گھر \n",
      "<end_of_turn>\n"
     ]
    },
    {
     "name": "stderr",
     "output_type": "stream",
     "text": [
      "\r",
      "356it [08:31,  1.63s/it]"
     ]
    },
    {
     "name": "stdout",
     "output_type": "stream",
     "text": [
      "<bos>\n",
      "    <start_of_turn>user\n",
      "    Translate the sentence into urdu and only return the translation:\n",
      "\n",
      "    Makhni chicken is good all dishes Worth The money<end_of_turn>\n",
      "    <start_of_turn>model\n",
      "    مخنّی چیکن ہر کھان میں بہتر ہے، پے پڑھنے کے قیمتی \n",
      "<end_of_turn>\n"
     ]
    },
    {
     "name": "stderr",
     "output_type": "stream",
     "text": [
      "\r",
      "357it [08:32,  1.49s/it]"
     ]
    },
    {
     "name": "stdout",
     "output_type": "stream",
     "text": [
      "<bos>\n",
      "    <start_of_turn>user\n",
      "    Translate the sentence into urdu and only return the translation:\n",
      "\n",
      "    There is no known connection between IQ and EQ;<end_of_turn>\n",
      "    <start_of_turn>model\n",
      "    IQ اور EQ کے درمیان کوئی شناخته شده تعلق نہیں ہے۔ \n",
      "<end_of_turn>\n"
     ]
    },
    {
     "name": "stderr",
     "output_type": "stream",
     "text": [
      "\r",
      "358it [08:32,  1.27s/it]"
     ]
    },
    {
     "name": "stdout",
     "output_type": "stream",
     "text": [
      "<bos>\n",
      "    <start_of_turn>user\n",
      "    Translate the sentence into urdu and only return the translation:\n",
      "\n",
      "    But the truth is, that I was drunk with excitement.<end_of_turn>\n",
      "    <start_of_turn>model\n",
      "    یہ بات ہے کہ میں  انشقت کے ساتھ  بےشک  ہو چلا. \n",
      "<end_of_turn>\n"
     ]
    },
    {
     "name": "stderr",
     "output_type": "stream",
     "text": [
      "\r",
      "359it [08:33,  1.19s/it]"
     ]
    },
    {
     "name": "stdout",
     "output_type": "stream",
     "text": [
      "<bos>\n",
      "    <start_of_turn>user\n",
      "    Translate the sentence into urdu and only return the translation:\n",
      "\n",
      "    It got to the point where my parents couldn’t trust me with anything!”<end_of_turn>\n",
      "    <start_of_turn>model\n",
      "    میں کے والدین کو میں کوئی بھی چیز پر اعتماد نہیں کر سکتا! \n",
      "<end_of_turn>\n"
     ]
    },
    {
     "name": "stderr",
     "output_type": "stream",
     "text": [
      "\r",
      "360it [08:34,  1.09s/it]"
     ]
    },
    {
     "name": "stdout",
     "output_type": "stream",
     "text": [
      "<bos>\n",
      "    <start_of_turn>user\n",
      "    Translate the sentence into urdu and only return the translation:\n",
      "\n",
      "    Best gourmet Burgers in town. ❤<end_of_turn>\n",
      "    <start_of_turn>model\n",
      "    ٹھانے میں بہترین گروپ بیج 🍔❤ \n",
      "<end_of_turn>\n"
     ]
    },
    {
     "name": "stderr",
     "output_type": "stream",
     "text": [
      "\r",
      "361it [08:35,  1.02it/s]"
     ]
    },
    {
     "name": "stdout",
     "output_type": "stream",
     "text": [
      "<bos>\n",
      "    <start_of_turn>user\n",
      "    Translate the sentence into urdu and only return the translation:\n",
      "\n",
      "    Good environment<end_of_turn>\n",
      "    <start_of_turn>model\n",
      "    خوب atmosfera \n",
      "<end_of_turn>\n"
     ]
    },
    {
     "name": "stderr",
     "output_type": "stream",
     "text": [
      "\r",
      "362it [08:35,  1.33it/s]"
     ]
    },
    {
     "name": "stdout",
     "output_type": "stream",
     "text": [
      "<bos>\n",
      "    <start_of_turn>user\n",
      "    Translate the sentence into urdu and only return the translation:\n",
      "\n",
      "    One of the finest bihari boti fry.<end_of_turn>\n",
      "    <start_of_turn>model\n",
      "    ایک بہترین بھاریboti پھلا. \n",
      "<end_of_turn>\n"
     ]
    },
    {
     "name": "stderr",
     "output_type": "stream",
     "text": [
      "\r",
      "363it [08:36,  1.42it/s]"
     ]
    },
    {
     "name": "stdout",
     "output_type": "stream",
     "text": [
      "<bos>\n",
      "    <start_of_turn>user\n",
      "    Translate the sentence into urdu and only return the translation:\n",
      "\n",
      "    Wondfull place in SITE 1,\n",
      "\n",
      "Taste 9/10\n",
      "Service 9/10<end_of_turn>\n",
      "    <start_of_turn>model\n",
      "    ایک بڑا خوبصورت مقام،SITE 1 میں \n",
      "\n",
      "تائیں 9/10\n",
      "सेवा 9/10 \n",
      "<end_of_turn>\n"
     ]
    },
    {
     "name": "stderr",
     "output_type": "stream",
     "text": [
      "\r",
      "364it [08:37,  1.13it/s]"
     ]
    },
    {
     "name": "stdout",
     "output_type": "stream",
     "text": [
      "<bos>\n",
      "    <start_of_turn>user\n",
      "    Translate the sentence into urdu and only return the translation:\n",
      "\n",
      "    We had to finish it by today.<end_of_turn>\n",
      "    <start_of_turn>model\n",
      "    ہمیں یہ आज مکمل کرنا پڑا۔ \n",
      "<end_of_turn>\n"
     ]
    },
    {
     "name": "stderr",
     "output_type": "stream",
     "text": [
      "\r",
      "365it [08:38,  1.23it/s]"
     ]
    },
    {
     "name": "stdout",
     "output_type": "stream",
     "text": [
      "<bos>\n",
      "    <start_of_turn>user\n",
      "    Translate the sentence into urdu and only return the translation:\n",
      "\n",
      "    We're having lunch.<end_of_turn>\n",
      "    <start_of_turn>model\n",
      "    ہم چھپ رہے ہیں۔ \n",
      "<end_of_turn>\n"
     ]
    },
    {
     "name": "stderr",
     "output_type": "stream",
     "text": [
      "\r",
      "366it [08:38,  1.43it/s]"
     ]
    },
    {
     "name": "stdout",
     "output_type": "stream",
     "text": [
      "<bos>\n",
      "    <start_of_turn>user\n",
      "    Translate the sentence into urdu and only return the translation:\n",
      "\n",
      "    I want to quit smoking , he said.<end_of_turn>\n",
      "    <start_of_turn>model\n",
      "    میں سیگار سے ہٹنا چاہتا ہوں،  ہے کہا. \n",
      "<end_of_turn>\n"
     ]
    },
    {
     "name": "stderr",
     "output_type": "stream",
     "text": [
      "\r",
      "367it [08:39,  1.32it/s]"
     ]
    },
    {
     "name": "stdout",
     "output_type": "stream",
     "text": [
      "<bos>\n",
      "    <start_of_turn>user\n",
      "    Translate the sentence into urdu and only return the translation:\n",
      "\n",
      "    Taste is not that good<end_of_turn>\n",
      "    <start_of_turn>model\n",
      "    مذاق نہیں بہتر ہے۔ \n",
      "<end_of_turn>\n"
     ]
    },
    {
     "name": "stderr",
     "output_type": "stream",
     "text": [
      "\r",
      "368it [08:40,  1.53it/s]"
     ]
    },
    {
     "name": "stdout",
     "output_type": "stream",
     "text": [
      "<bos>\n",
      "    <start_of_turn>user\n",
      "    Translate the sentence into urdu and only return the translation:\n",
      "\n",
      "    So expencive<end_of_turn>\n",
      "    <start_of_turn>model\n",
      "    بھلے سے بڑا خرچ ہے۔ \n",
      "<end_of_turn>\n"
     ]
    },
    {
     "name": "stderr",
     "output_type": "stream",
     "text": [
      "\r",
      "369it [08:40,  1.63it/s]"
     ]
    },
    {
     "name": "stdout",
     "output_type": "stream",
     "text": [
      "<bos>\n",
      "    <start_of_turn>user\n",
      "    Translate the sentence into urdu and only return the translation:\n",
      "\n",
      "    What should I say?<end_of_turn>\n",
      "    <start_of_turn>model\n",
      "    کی کہیں کہا جائے؟ \n",
      "<end_of_turn>\n"
     ]
    },
    {
     "name": "stderr",
     "output_type": "stream",
     "text": [
      "\r",
      "370it [08:41,  1.77it/s]"
     ]
    },
    {
     "name": "stdout",
     "output_type": "stream",
     "text": [
      "<bos>\n",
      "    <start_of_turn>user\n",
      "    Translate the sentence into urdu and only return the translation:\n",
      "\n",
      "    Wasn't impress with good quality<end_of_turn>\n",
      "    <start_of_turn>model\n",
      "    خوب کیلئے  مُتْحَسَّنِ  نہیں  \n",
      "<end_of_turn>\n"
     ]
    },
    {
     "name": "stderr",
     "output_type": "stream",
     "text": [
      "\r",
      "371it [08:41,  1.53it/s]"
     ]
    },
    {
     "name": "stdout",
     "output_type": "stream",
     "text": [
      "<bos>\n",
      "    <start_of_turn>user\n",
      "    Translate the sentence into urdu and only return the translation:\n",
      "\n",
      "    I bought this TV on the installment plan.<end_of_turn>\n",
      "    <start_of_turn>model\n",
      "    میں نے یہ ٹی وی instalment plan پر خریدا ہے۔ \n",
      "<end_of_turn>\n"
     ]
    },
    {
     "name": "stderr",
     "output_type": "stream",
     "text": [
      "\r",
      "372it [08:42,  1.54it/s]"
     ]
    },
    {
     "name": "stdout",
     "output_type": "stream",
     "text": [
      "<bos>\n",
      "    <start_of_turn>user\n",
      "    Translate the sentence into urdu and only return the translation:\n",
      "\n",
      "    perfect place<end_of_turn>\n",
      "    <start_of_turn>model\n",
      "    مکان بہترین \n",
      "<end_of_turn>\n"
     ]
    },
    {
     "name": "stderr",
     "output_type": "stream",
     "text": [
      "\r",
      "373it [08:42,  1.85it/s]"
     ]
    },
    {
     "name": "stdout",
     "output_type": "stream",
     "text": [
      "<bos>\n",
      "    <start_of_turn>user\n",
      "    Translate the sentence into urdu and only return the translation:\n",
      "\n",
      "    Master , which is the great commandment in the law ?<end_of_turn>\n",
      "    <start_of_turn>model\n",
      "    مستر، قانون میں کیا عظیم دستورات ہے؟ \n",
      "<end_of_turn>\n"
     ]
    },
    {
     "name": "stderr",
     "output_type": "stream",
     "text": [
      "\r",
      "374it [08:43,  1.79it/s]"
     ]
    },
    {
     "name": "stdout",
     "output_type": "stream",
     "text": [
      "<bos>\n",
      "    <start_of_turn>user\n",
      "    Translate the sentence into urdu and only return the translation:\n",
      "\n",
      "    The man won't know the answer.<end_of_turn>\n",
      "    <start_of_turn>model\n",
      "    مرد جواب نہیں سکتا. \n",
      "<end_of_turn>\n"
     ]
    },
    {
     "name": "stderr",
     "output_type": "stream",
     "text": [
      "\r",
      "375it [08:43,  1.95it/s]"
     ]
    },
    {
     "name": "stdout",
     "output_type": "stream",
     "text": [
      "<bos>\n",
      "    <start_of_turn>user\n",
      "    Translate the sentence into urdu and only return the translation:\n",
      "\n",
      "    But those who disobey Allah and His Messenger and transgress His limits will be admitted to a Fire, to abide therein: And they shall have a humiliating punishment.<end_of_turn>\n",
      "    <start_of_turn>model\n",
      "    انہیں اللہ اور اس کے مہاجر اور اس کے حُکومت کے ضابطوں کو  تخطی کرنے والوں کو ایک  گھڑی میں داخل ہونے کا حکم دیا جائے گا، اور ان کو ایک  تکفیر کی جائے گی. \n",
      "<end_of_turn>\n"
     ]
    },
    {
     "name": "stderr",
     "output_type": "stream",
     "text": [
      "\r",
      "376it [08:46,  1.14s/it]"
     ]
    },
    {
     "name": "stdout",
     "output_type": "stream",
     "text": [
      "<bos>\n",
      "    <start_of_turn>user\n",
      "    Translate the sentence into urdu and only return the translation:\n",
      "\n",
      "    Great taste<end_of_turn>\n",
      "    <start_of_turn>model\n",
      "    بklasse تائیں \n",
      "<end_of_turn>\n"
     ]
    },
    {
     "name": "stderr",
     "output_type": "stream",
     "text": [
      "\r",
      "377it [08:46,  1.11it/s]"
     ]
    },
    {
     "name": "stdout",
     "output_type": "stream",
     "text": [
      "<bos>\n",
      "    <start_of_turn>user\n",
      "    Translate the sentence into urdu and only return the translation:\n",
      "\n",
      "    The Hypocrites - they think they are over-reaching Allah, but He will over-reach them: When they stand up to prayer, they stand without earnestness, to be seen of men, but little do they hold Allah in remembrance;<end_of_turn>\n",
      "    <start_of_turn>model\n",
      "    یہ  یہ  ہے  کہ  ان  کے  کو  آپ  کو  آپ  کو  آپ  کو  آپ  کو  آپ  کو  آپ  کو  آپ  کو  آپ  کو  آپ  کو  آپ  کو  آپ  کو  آپ  کو  آپ  کو  آپ  کو  آپ  کو  آپ  کو  آپ  کو  آپ  کو  آپ  کو  آپ  کو  آپ  کو  آپ  کو  \n"
     ]
    },
    {
     "name": "stderr",
     "output_type": "stream",
     "text": [
      "\r",
      "378it [08:51,  2.10s/it]"
     ]
    },
    {
     "name": "stdout",
     "output_type": "stream",
     "text": [
      "<bos>\n",
      "    <start_of_turn>user\n",
      "    Translate the sentence into urdu and only return the translation:\n",
      "\n",
      "    How can I recover it?<end_of_turn>\n",
      "    <start_of_turn>model\n",
      "    یہ کون سے لے سکتا ہے؟ \n",
      "<end_of_turn>\n"
     ]
    },
    {
     "name": "stderr",
     "output_type": "stream",
     "text": [
      "\r",
      "379it [08:52,  1.65s/it]"
     ]
    },
    {
     "name": "stdout",
     "output_type": "stream",
     "text": [
      "<bos>\n",
      "    <start_of_turn>user\n",
      "    Translate the sentence into urdu and only return the translation:\n",
      "\n",
      "    Very Good<end_of_turn>\n",
      "    <start_of_turn>model\n",
      "    بklasse \n",
      "<end_of_turn>\n"
     ]
    },
    {
     "name": "stderr",
     "output_type": "stream",
     "text": [
      "\r",
      "380it [08:52,  1.22s/it]"
     ]
    },
    {
     "name": "stdout",
     "output_type": "stream",
     "text": [
      "<bos>\n",
      "    <start_of_turn>user\n",
      "    Translate the sentence into urdu and only return the translation:\n",
      "\n",
      "    He cautiously closed the open chink of the door.<end_of_turn>\n",
      "    <start_of_turn>model\n",
      "    ہے  دُوَڑی  دُوَڑی  کی  چُک  کو  بُھُو  کِی  کِی  کِی  کِی  کِی  کِی  کِی  کِی  کِی  کِی  کِی  کِی  کِی  کِی  کِی  کِی  کِی  کِی  کِی  کِی  کِی  کِی  کِی  کِی  ک\n"
     ]
    },
    {
     "name": "stderr",
     "output_type": "stream",
     "text": [
      "\r",
      "381it [08:57,  2.31s/it]"
     ]
    },
    {
     "name": "stdout",
     "output_type": "stream",
     "text": [
      "<bos>\n",
      "    <start_of_turn>user\n",
      "    Translate the sentence into urdu and only return the translation:\n",
      "\n",
      "    It gets too crowded and loud.<end_of_turn>\n",
      "    <start_of_turn>model\n",
      "    بڑا بڑا اور بڑا ہوتا ہے۔ \n",
      "<end_of_turn>\n"
     ]
    },
    {
     "name": "stderr",
     "output_type": "stream",
     "text": [
      "\r",
      "382it [08:57,  1.81s/it]"
     ]
    },
    {
     "name": "stdout",
     "output_type": "stream",
     "text": [
      "<bos>\n",
      "    <start_of_turn>user\n",
      "    Translate the sentence into urdu and only return the translation:\n",
      "\n",
      "    All these are the beginning of sorrows .<end_of_turn>\n",
      "    <start_of_turn>model\n",
      "    ये सब दुखों کا آغاز हैं। \n",
      "<end_of_turn>\n"
     ]
    },
    {
     "name": "stderr",
     "output_type": "stream",
     "text": [
      "\r",
      "383it [08:58,  1.41s/it]"
     ]
    },
    {
     "name": "stdout",
     "output_type": "stream",
     "text": [
      "<bos>\n",
      "    <start_of_turn>user\n",
      "    Translate the sentence into urdu and only return the translation:\n",
      "\n",
      "    Gud for small get 2 geather<end_of_turn>\n",
      "    <start_of_turn>model\n",
      "    کوئی چیز  کو  کبھی  جمع  کر  جانا \n",
      "<end_of_turn>\n"
     ]
    },
    {
     "name": "stderr",
     "output_type": "stream",
     "text": [
      "\r",
      "384it [08:59,  1.21s/it]"
     ]
    },
    {
     "name": "stdout",
     "output_type": "stream",
     "text": [
      "<bos>\n",
      "    <start_of_turn>user\n",
      "    Translate the sentence into urdu and only return the translation:\n",
      "\n",
      "    Is this your first time in Japan?<end_of_turn>\n",
      "    <start_of_turn>model\n",
      "    یہ آپ کی پہلی بار جاپان میں آئی ہے؟ \n",
      "<end_of_turn>\n"
     ]
    },
    {
     "name": "stderr",
     "output_type": "stream",
     "text": [
      "\r",
      "385it [08:59,  1.06s/it]"
     ]
    },
    {
     "name": "stdout",
     "output_type": "stream",
     "text": [
      "<bos>\n",
      "    <start_of_turn>user\n",
      "    Translate the sentence into urdu and only return the translation:\n",
      "\n",
      "    Foods is good<end_of_turn>\n",
      "    <start_of_turn>model\n",
      "    غذای خوب ہے \n",
      "<end_of_turn>\n"
     ]
    },
    {
     "name": "stderr",
     "output_type": "stream",
     "text": [
      "\r",
      "386it [09:00,  1.20it/s]"
     ]
    },
    {
     "name": "stdout",
     "output_type": "stream",
     "text": [
      "<bos>\n",
      "    <start_of_turn>user\n",
      "    Translate the sentence into urdu and only return the translation:\n",
      "\n",
      "    What's the inner with the friends<end_of_turn>\n",
      "    <start_of_turn>model\n",
      "    یہ دوستوں کے ساتھ داخلہ کیا ہے؟ \n",
      "<end_of_turn>\n"
     ]
    },
    {
     "name": "stderr",
     "output_type": "stream",
     "text": [
      "\r",
      "387it [09:00,  1.33it/s]"
     ]
    },
    {
     "name": "stdout",
     "output_type": "stream",
     "text": [
      "<bos>\n",
      "    <start_of_turn>user\n",
      "    Translate the sentence into urdu and only return the translation:\n",
      "\n",
      "    Better then shinvari<end_of_turn>\n",
      "    <start_of_turn>model\n",
      "    زیتر تو شینواری سے \n",
      "<end_of_turn>\n"
     ]
    },
    {
     "name": "stderr",
     "output_type": "stream",
     "text": [
      "\r",
      "388it [09:01,  1.54it/s]"
     ]
    },
    {
     "name": "stdout",
     "output_type": "stream",
     "text": [
      "<bos>\n",
      "    <start_of_turn>user\n",
      "    Translate the sentence into urdu and only return the translation:\n",
      "\n",
      "    Amazingly delicious and great place to party<end_of_turn>\n",
      "    <start_of_turn>model\n",
      "    بہت لذیذ اور بہت خوبصورتparty کی جگہ \n",
      "<end_of_turn>\n"
     ]
    },
    {
     "name": "stderr",
     "output_type": "stream",
     "text": [
      "\r",
      "389it [09:02,  1.43it/s]"
     ]
    },
    {
     "name": "stdout",
     "output_type": "stream",
     "text": [
      "<bos>\n",
      "    <start_of_turn>user\n",
      "    Translate the sentence into urdu and only return the translation:\n",
      "\n",
      "    I own a restaurant on Park Street.<end_of_turn>\n",
      "    <start_of_turn>model\n",
      "    میں پارک سٹریٹ پر ایکrestaurant  میں  میں  میں  میں  میں  میں  میں  میں  میں  میں  میں  میں  میں  میں  میں  میں  میں  میں  میں  میں  میں  میں  میں  میں  میں  میں  میں  میں  میں  میں  میں  میں  میں  میں  میں  میں  میں  میں  می\n"
     ]
    },
    {
     "name": "stderr",
     "output_type": "stream",
     "text": [
      "\r",
      "390it [09:06,  1.96s/it]"
     ]
    },
    {
     "name": "stdout",
     "output_type": "stream",
     "text": [
      "<bos>\n",
      "    <start_of_turn>user\n",
      "    Translate the sentence into urdu and only return the translation:\n",
      "\n",
      "    Slightly slow service. Mediocre ambience and staff. Food is good.<end_of_turn>\n",
      "    <start_of_turn>model\n",
      "    کم سرعت کا خدمت. معمولی atmospherea اورservants. کھانا بہتر ہے۔ \n",
      "<end_of_turn>\n"
     ]
    },
    {
     "name": "stderr",
     "output_type": "stream",
     "text": [
      "\r",
      "391it [09:07,  1.63s/it]"
     ]
    },
    {
     "name": "stdout",
     "output_type": "stream",
     "text": [
      "<bos>\n",
      "    <start_of_turn>user\n",
      "    Translate the sentence into urdu and only return the translation:\n",
      "\n",
      "    Good<end_of_turn>\n",
      "    <start_of_turn>model\n",
      "    خوب \n",
      "<end_of_turn>\n"
     ]
    },
    {
     "name": "stderr",
     "output_type": "stream",
     "text": [
      "\r",
      "392it [09:07,  1.20s/it]"
     ]
    },
    {
     "name": "stdout",
     "output_type": "stream",
     "text": [
      "<bos>\n",
      "    <start_of_turn>user\n",
      "    Translate the sentence into urdu and only return the translation:\n",
      "\n",
      "    India won by an innings and three runs.<end_of_turn>\n",
      "    <start_of_turn>model\n",
      "    انڈیا نے ایک اننگز اور تین رنز سے فتحی۔ \n",
      "<end_of_turn>\n"
     ]
    },
    {
     "name": "stderr",
     "output_type": "stream",
     "text": [
      "\r",
      "393it [09:08,  1.07s/it]"
     ]
    },
    {
     "name": "stdout",
     "output_type": "stream",
     "text": [
      "<bos>\n",
      "    <start_of_turn>user\n",
      "    Translate the sentence into urdu and only return the translation:\n",
      "\n",
      "    Best place for karhai<end_of_turn>\n",
      "    <start_of_turn>model\n",
      "    کڑھائی کے لیے بہترین مقام \n",
      "<end_of_turn>\n"
     ]
    },
    {
     "name": "stderr",
     "output_type": "stream",
     "text": [
      "\r",
      "394it [09:09,  1.11it/s]"
     ]
    },
    {
     "name": "stdout",
     "output_type": "stream",
     "text": [
      "<bos>\n",
      "    <start_of_turn>user\n",
      "    Translate the sentence into urdu and only return the translation:\n",
      "\n",
      "    Much cry, little wool.<end_of_turn>\n",
      "    <start_of_turn>model\n",
      "    بڑا گھڑا، کم پھول. \n",
      "<end_of_turn>\n"
     ]
    },
    {
     "name": "stderr",
     "output_type": "stream",
     "text": [
      "\r",
      "395it [09:09,  1.22it/s]"
     ]
    },
    {
     "name": "stdout",
     "output_type": "stream",
     "text": [
      "<bos>\n",
      "    <start_of_turn>user\n",
      "    Translate the sentence into urdu and only return the translation:\n",
      "\n",
      "    Excellent food best quality food in our town<end_of_turn>\n",
      "    <start_of_turn>model\n",
      "    مُعَلّف غذا بہترین کیفیتی کا۔ \n",
      "<end_of_turn>\n"
     ]
    },
    {
     "name": "stderr",
     "output_type": "stream",
     "text": [
      "\r",
      "396it [09:10,  1.29it/s]"
     ]
    },
    {
     "name": "stdout",
     "output_type": "stream",
     "text": [
      "<bos>\n",
      "    <start_of_turn>user\n",
      "    Translate the sentence into urdu and only return the translation:\n",
      "\n",
      "    very bad taste and expensive<end_of_turn>\n",
      "    <start_of_turn>model\n",
      "    بھلا تھیں اور پھلا۔ \n",
      "<end_of_turn>\n"
     ]
    },
    {
     "name": "stderr",
     "output_type": "stream",
     "text": [
      "\r",
      "397it [09:11,  1.41it/s]"
     ]
    },
    {
     "name": "stdout",
     "output_type": "stream",
     "text": [
      "<bos>\n",
      "    <start_of_turn>user\n",
      "    Translate the sentence into urdu and only return the translation:\n",
      "\n",
      "    My favorite<end_of_turn>\n",
      "    <start_of_turn>model\n",
      "    اپنے  مُعَشّی \n",
      "<end_of_turn>\n"
     ]
    },
    {
     "name": "stderr",
     "output_type": "stream",
     "text": [
      "\r",
      "398it [09:11,  1.53it/s]"
     ]
    },
    {
     "name": "stdout",
     "output_type": "stream",
     "text": [
      "<bos>\n",
      "    <start_of_turn>user\n",
      "    Translate the sentence into urdu and only return the translation:\n",
      "\n",
      "    I am in a hurry.<end_of_turn>\n",
      "    <start_of_turn>model\n",
      "    ہم میں اچانک چلنا ہے۔ \n",
      "<end_of_turn>\n"
     ]
    },
    {
     "name": "stderr",
     "output_type": "stream",
     "text": [
      "\r",
      "399it [09:12,  1.60it/s]"
     ]
    },
    {
     "name": "stdout",
     "output_type": "stream",
     "text": [
      "<bos>\n",
      "    <start_of_turn>user\n",
      "    Translate the sentence into urdu and only return the translation:\n",
      "\n",
      "    By your bounty.<end_of_turn>\n",
      "    <start_of_turn>model\n",
      "    اپنے عطا سے. \n",
      "<end_of_turn>\n"
     ]
    },
    {
     "name": "stderr",
     "output_type": "stream",
     "text": [
      "\r",
      "400it [09:12,  1.82it/s]"
     ]
    },
    {
     "name": "stdout",
     "output_type": "stream",
     "text": [
      "<bos>\n",
      "    <start_of_turn>user\n",
      "    Translate the sentence into urdu and only return the translation:\n",
      "\n",
      "    And he said , Whereunto shall we liken the kingdom of God ? or with what comparison shall we compare it ?<end_of_turn>\n",
      "    <start_of_turn>model\n",
      "    وہ کہا،  ان کی سلطنت کی تشبیہ کی جائے گی؟ یا اس کی تشبیہ کی جائے گی؟ \n",
      "<end_of_turn>\n"
     ]
    },
    {
     "name": "stderr",
     "output_type": "stream",
     "text": [
      "\r",
      "401it [09:13,  1.30it/s]"
     ]
    },
    {
     "name": "stdout",
     "output_type": "stream",
     "text": [
      "<bos>\n",
      "    <start_of_turn>user\n",
      "    Translate the sentence into urdu and only return the translation:\n",
      "\n",
      "    You have got 10 minutes.<end_of_turn>\n",
      "    <start_of_turn>model\n",
      "    اپنے پاس 10 دُنیا ہوتی ہیں۔ \n",
      "<end_of_turn>\n"
     ]
    },
    {
     "name": "stderr",
     "output_type": "stream",
     "text": [
      "\r",
      "402it [09:14,  1.37it/s]"
     ]
    },
    {
     "name": "stdout",
     "output_type": "stream",
     "text": [
      "<bos>\n",
      "    <start_of_turn>user\n",
      "    Translate the sentence into urdu and only return the translation:\n",
      "\n",
      "    Awesome food, great ambiance and above all the staff was very friendly.<end_of_turn>\n",
      "    <start_of_turn>model\n",
      "    محبت کی غذا، بہت خوبہ ambiance اور سب سے بڑا یہ ہے کہservants  ایک بہت خوبہ  ہیں. \n",
      "<end_of_turn>\n"
     ]
    },
    {
     "name": "stderr",
     "output_type": "stream",
     "text": [
      "\r",
      "403it [09:15,  1.11it/s]"
     ]
    },
    {
     "name": "stdout",
     "output_type": "stream",
     "text": [
      "<bos>\n",
      "    <start_of_turn>user\n",
      "    Translate the sentence into urdu and only return the translation:\n",
      "\n",
      "    that, because they have preferred the present life over the world to come, and that God guides not the people of the unbelievers.<end_of_turn>\n",
      "    <start_of_turn>model\n",
      "    انہیں یہی ہے کہ وہ دنیا کے بعد کے زندگی کو حاضر زندگی کے لیے ترجیح دیا ہے، اور یہی ہے کہ اللہ کے حکم میں،  انبیاء کے لوگوں کو نہیں ہے۔ \n",
      "<end_of_turn>\n"
     ]
    },
    {
     "name": "stderr",
     "output_type": "stream",
     "text": [
      "\r",
      "404it [09:17,  1.21s/it]"
     ]
    },
    {
     "name": "stdout",
     "output_type": "stream",
     "text": [
      "<bos>\n",
      "    <start_of_turn>user\n",
      "    Translate the sentence into urdu and only return the translation:\n",
      "\n",
      "    Good place to visit it is a charity restaurant, eat fo a good cause<end_of_turn>\n",
      "    <start_of_turn>model\n",
      "    خوب   visited place  ایک  charity  restaurant  ,  good cause  for  eat  \n",
      "<end_of_turn>\n"
     ]
    },
    {
     "name": "stderr",
     "output_type": "stream",
     "text": [
      "\r",
      "405it [09:18,  1.11s/it]"
     ]
    },
    {
     "name": "stdout",
     "output_type": "stream",
     "text": [
      "<bos>\n",
      "    <start_of_turn>user\n",
      "    Translate the sentence into urdu and only return the translation:\n",
      "\n",
      "    He is greedy.<end_of_turn>\n",
      "    <start_of_turn>model\n",
      "    اپنے  کوئی  کوئی  کوئی  کوئی  کوئی  کوئی  کوئی  کوئی  کوئی  کوئی  کوئی  کوئی  کوئی  کوئی  کوئی  کوئی  کوئی  کوئی  کوئی  کوئی  کوئی  کوئی  کوئی  کوئی  کوئی  کوئی  کوئی  کوئی  کوئی  کوئی  کوئی  کوئی  کوئی  کوئی  کوئی  کوئی  کوئی  کوئی  کوئی  کوئی  کوئی  کوئی\n"
     ]
    },
    {
     "name": "stderr",
     "output_type": "stream",
     "text": [
      "\r",
      "406it [09:23,  2.24s/it]"
     ]
    },
    {
     "name": "stdout",
     "output_type": "stream",
     "text": [
      "<bos>\n",
      "    <start_of_turn>user\n",
      "    Translate the sentence into urdu and only return the translation:\n",
      "\n",
      "    Even as I swallowed the last drop of my cup of coffee, the bells throughout all the city broke out into a joyful peal, and the sound of a military band and of men cheering smote upon my ear.King Rudolf the Fifth was in his good city of Strelsau! And they shouted outside—<end_of_turn>\n",
      "    <start_of_turn>model\n",
      "    یہاں میں کپ کا ایکlast دھکے کے ساتھ چھپنے کے ساتھ ہی، ہر شہر کے گھڑیوں نے ایک خوشگوار پھیلنے میں تبدیل ہو گیا، اور ایک فوجی گیت اور مردوں کی تشویق کے ساتھ، میں نے ایک سچا سچا سچا سچا سچا سچا سچا سچا سچا سچا سچا سچا سچا سچا سچا سچا سچا سچا سچا سچا سچ\n"
     ]
    },
    {
     "name": "stderr",
     "output_type": "stream",
     "text": [
      "\r",
      "407it [09:28,  3.05s/it]"
     ]
    },
    {
     "name": "stdout",
     "output_type": "stream",
     "text": [
      "<bos>\n",
      "    <start_of_turn>user\n",
      "    Translate the sentence into urdu and only return the translation:\n",
      "\n",
      "    And it is God who has appointed for you coverings of the things He created, and He has appointed for you of the mountains refuges, and He has appointed for you shirts to protect you from the heat, and shirts to protect you from your own violence. Even so He perfects His blessing upon you, that haply you will surrender.<end_of_turn>\n",
      "    <start_of_turn>model\n",
      "    انے گُلِی گُلِی گُلِی گُلِی گُلِی گُلِی گُلِی گُلِی گُلِی گُلِی گُلِی گُلِی گُلِی گُلِی گُلِی گُلِی گُلِی گُلِی گُلِی گُلِی گُلِی گُلِی گُلِی گُلِی گُلِی گ\n"
     ]
    },
    {
     "name": "stderr",
     "output_type": "stream",
     "text": [
      "\r",
      "408it [09:33,  3.60s/it]"
     ]
    },
    {
     "name": "stdout",
     "output_type": "stream",
     "text": [
      "<bos>\n",
      "    <start_of_turn>user\n",
      "    Translate the sentence into urdu and only return the translation:\n",
      "\n",
      "    And when he was alone , they that were about him with the twelve asked of him the parable .<end_of_turn>\n",
      "    <start_of_turn>model\n",
      "    اور جب وہ ایک بڑے  ہے تو،  دوازہ  کی  دوازہ  کی  دوازہ  کی  دوازہ  کی  دوازہ  کی  دوازہ  کی  دوازہ  کی  دوازہ  کی  دوازہ  کی  دوازہ  کی  دوازہ  کی  دوازہ  کی  دوازہ  کی  دوازہ  کی  دوازہ  کی  دوازہ  کی  دوازہ  کی  دوازہ  کی  دوازہ  کی  د\n"
     ]
    },
    {
     "name": "stderr",
     "output_type": "stream",
     "text": [
      "\r",
      "409it [09:38,  3.98s/it]"
     ]
    },
    {
     "name": "stdout",
     "output_type": "stream",
     "text": [
      "<bos>\n",
      "    <start_of_turn>user\n",
      "    Translate the sentence into urdu and only return the translation:\n",
      "\n",
      "    My uncle spoke out of a ripe experience of the world, and I honoured his advice by putting up for a day and a night at \"The Continental\" on my way to—the Tyrol.<end_of_turn>\n",
      "    <start_of_turn>model\n",
      "    پہلے سے ایک طے کی گئی دنیا کی تجربہ سے،  اپنے  \"The Continental\" پر ایک دن اور ایک رات گزار کیے،  Tyrol کی طرف سفر میں۔ \n",
      "<end_of_turn>\n"
     ]
    },
    {
     "name": "stderr",
     "output_type": "stream",
     "text": [
      "\r",
      "410it [09:39,  3.34s/it]"
     ]
    },
    {
     "name": "stdout",
     "output_type": "stream",
     "text": [
      "<bos>\n",
      "    <start_of_turn>user\n",
      "    Translate the sentence into urdu and only return the translation:\n",
      "\n",
      "    Both my grandfather and grandmother are dead.<end_of_turn>\n",
      "    <start_of_turn>model\n",
      "    ابھی  پہلے  دہرا  اور  دہرا  ہیں. \n",
      "<end_of_turn>\n"
     ]
    },
    {
     "name": "stderr",
     "output_type": "stream",
     "text": [
      "\r",
      "411it [09:40,  2.61s/it]"
     ]
    },
    {
     "name": "stdout",
     "output_type": "stream",
     "text": [
      "<bos>\n",
      "    <start_of_turn>user\n",
      "    Translate the sentence into urdu and only return the translation:\n",
      "\n",
      "    Thai was good, khausa was below average.<end_of_turn>\n",
      "    <start_of_turn>model\n",
      "    تھائی بہت اچھا تھا، کھوسا mediocrity  \n",
      "<end_of_turn>\n"
     ]
    },
    {
     "name": "stderr",
     "output_type": "stream",
     "text": [
      "\r",
      "412it [09:41,  2.03s/it]"
     ]
    },
    {
     "name": "stdout",
     "output_type": "stream",
     "text": [
      "<bos>\n",
      "    <start_of_turn>user\n",
      "    Translate the sentence into urdu and only return the translation:\n",
      "\n",
      "    None of the students were late for school.<end_of_turn>\n",
      "    <start_of_turn>model\n",
      "    لیکیں کوئی طالب علم سکول پر گھلنے کے لیے وقت پر نہ تھا۔ \n",
      "<end_of_turn>\n"
     ]
    },
    {
     "name": "stderr",
     "output_type": "stream",
     "text": [
      "\r",
      "413it [09:42,  1.70s/it]"
     ]
    },
    {
     "name": "stdout",
     "output_type": "stream",
     "text": [
      "<bos>\n",
      "    <start_of_turn>user\n",
      "    Translate the sentence into urdu and only return the translation:\n",
      "\n",
      "    Say: \"I have no power over any good or harm to myself except as Allah willeth. If I had knowledge of the unseen, I should have multiplied all good, and no evil should have touched me: I am but a warner, and a bringer of glad tidings to those who have faith.\"<end_of_turn>\n",
      "    <start_of_turn>model\n",
      "    کہا: \"میں میں سے کوئی بھی اچھی یا بدی میں کوئی اختیار نہیں، مگر اللہ کی مرضی کے ساتھ. اگر میں  عالمی  ہوتا، تو میں سب کوئی بھی اچھی  کے لیے  کوئی  کے  کوئی  کے  کوئی  کے  کوئی  کے  کوئی  کے  کوئی  کے  کوئی  کے  کوئی  کے  کوئی  کے  کوئی  کے  کوئی  کے  کوئی  کے  \n"
     ]
    },
    {
     "name": "stderr",
     "output_type": "stream",
     "text": [
      "\r",
      "414it [09:47,  2.67s/it]"
     ]
    },
    {
     "name": "stdout",
     "output_type": "stream",
     "text": [
      "<bos>\n",
      "    <start_of_turn>user\n",
      "    Translate the sentence into urdu and only return the translation:\n",
      "\n",
      "    Where do you live?<end_of_turn>\n",
      "    <start_of_turn>model\n",
      "    کون میں رہتے ہیں؟ \n",
      "<end_of_turn>\n"
     ]
    },
    {
     "name": "stderr",
     "output_type": "stream",
     "text": [
      "\r",
      "415it [09:47,  1.99s/it]"
     ]
    },
    {
     "name": "stdout",
     "output_type": "stream",
     "text": [
      "<bos>\n",
      "    <start_of_turn>user\n",
      "    Translate the sentence into urdu and only return the translation:\n",
      "\n",
      "    (Translated by Google) Bawas\n",
      "\n",
      "(Original)\n",
      "Bakhwas<end_of_turn>\n",
      "    <start_of_turn>model\n",
      "    بawas \n",
      "<end_of_turn>\n"
     ]
    },
    {
     "name": "stderr",
     "output_type": "stream",
     "text": [
      "\r",
      "416it [09:48,  1.47s/it]"
     ]
    },
    {
     "name": "stdout",
     "output_type": "stream",
     "text": [
      "<bos>\n",
      "    <start_of_turn>user\n",
      "    Translate the sentence into urdu and only return the translation:\n",
      "\n",
      "    Good looking and taste wise food good<end_of_turn>\n",
      "    <start_of_turn>model\n",
      "    خوشگوار اور مذاق میں خوب غذا \n",
      "<end_of_turn>\n"
     ]
    },
    {
     "name": "stderr",
     "output_type": "stream",
     "text": [
      "\r",
      "417it [09:48,  1.19s/it]"
     ]
    },
    {
     "name": "stdout",
     "output_type": "stream",
     "text": [
      "<bos>\n",
      "    <start_of_turn>user\n",
      "    Translate the sentence into urdu and only return the translation:\n",
      "\n",
      "    I came to the door of the cellar.<end_of_turn>\n",
      "    <start_of_turn>model\n",
      "    من دروازہ گھر کی گھڑی پہ آیا۔ \n",
      "<end_of_turn>\n"
     ]
    },
    {
     "name": "stderr",
     "output_type": "stream",
     "text": [
      "\r",
      "418it [09:49,  1.03s/it]"
     ]
    },
    {
     "name": "stdout",
     "output_type": "stream",
     "text": [
      "<bos>\n",
      "    <start_of_turn>user\n",
      "    Translate the sentence into urdu and only return the translation:\n",
      "\n",
      "    In case it gets broken.<end_of_turn>\n",
      "    <start_of_turn>model\n",
      "    اگر ٹکرا جائے۔ \n",
      "<end_of_turn>\n"
     ]
    },
    {
     "name": "stderr",
     "output_type": "stream",
     "text": [
      "\r",
      "419it [09:49,  1.18it/s]"
     ]
    },
    {
     "name": "stdout",
     "output_type": "stream",
     "text": [
      "<bos>\n",
      "    <start_of_turn>user\n",
      "    Translate the sentence into urdu and only return the translation:\n",
      "\n",
      "    Ordered grilled fish and prawn karahi fish taste so good but prawn karahi is ok chatni green is also amazing sitting on foot path needs big space also they offer live quilts and desi  murgha<end_of_turn>\n",
      "    <start_of_turn>model\n",
      "    گلی گھی کی پکڑی پکڑی، پھلائی کڑی پکڑی، پھلائی کڑی پکڑی، پھلائی کڑی پکڑی، پھلائی کڑی پکڑی، پھلائی کڑی پکڑی، پھلائی کڑی پکڑی، پھلائی کڑی پکڑی، پھلائی کڑی پکڑی، پھلائی کڑی پکڑی، پھلائی کڑ\n"
     ]
    },
    {
     "name": "stderr",
     "output_type": "stream",
     "text": [
      "\r",
      "420it [09:54,  2.07s/it]"
     ]
    },
    {
     "name": "stdout",
     "output_type": "stream",
     "text": [
      "<bos>\n",
      "    <start_of_turn>user\n",
      "    Translate the sentence into urdu and only return the translation:\n",
      "\n",
      "    They want nothing to eat.<end_of_turn>\n",
      "    <start_of_turn>model\n",
      "    انہیں کچھ کھانا چاہیے نہیں. \n",
      "<end_of_turn>\n"
     ]
    },
    {
     "name": "stderr",
     "output_type": "stream",
     "text": [
      "\r",
      "421it [09:55,  1.64s/it]"
     ]
    },
    {
     "name": "stdout",
     "output_type": "stream",
     "text": [
      "<bos>\n",
      "    <start_of_turn>user\n",
      "    Translate the sentence into urdu and only return the translation:\n",
      "\n",
      "    Sitting arrangement is okay at roof top but the food is delicious<end_of_turn>\n",
      "    <start_of_turn>model\n",
      "    پڑھنے کے لیے  روفیٹ پر  سے  سے  سے  سے  سے  سے  سے  سے  سے  سے  سے  سے  سے  سے  سے  سے  سے  سے  سے  سے  سے  سے  سے  سے  سے  سے  سے  سے  سے  سے  سے  سے  سے  سے  سے  سے  سے  سے  سے\n"
     ]
    },
    {
     "name": "stderr",
     "output_type": "stream",
     "text": [
      "\r",
      "422it [10:00,  2.61s/it]"
     ]
    },
    {
     "name": "stdout",
     "output_type": "stream",
     "text": [
      "<bos>\n",
      "    <start_of_turn>user\n",
      "    Translate the sentence into urdu and only return the translation:\n",
      "\n",
      "    Menu and taste was Good. Nice peaceful place to be with your family<end_of_turn>\n",
      "    <start_of_turn>model\n",
      "    مُنْو و تَستِیْنَ  بَحْرُو  مُنْتَ  مُنْتَ  مُنْتَ  مُنْتَ  مُنْتَ  مُنْتَ  مُنْتَ  مُنْتَ  مُنْتَ  مُنْتَ  مُنْتَ  مُنْتَ  مُنْتَ  مُنْتَ  مُنْتَ  \n"
     ]
    },
    {
     "name": "stderr",
     "output_type": "stream",
     "text": [
      "\r",
      "423it [10:05,  3.30s/it]"
     ]
    },
    {
     "name": "stdout",
     "output_type": "stream",
     "text": [
      "<bos>\n",
      "    <start_of_turn>user\n",
      "    Translate the sentence into urdu and only return the translation:\n",
      "\n",
      "    Idleness is the root cause of all ills<end_of_turn>\n",
      "    <start_of_turn>model\n",
      "    نہی اُس کی بنیاد ہر بیماری ہے۔ \n",
      "<end_of_turn>\n"
     ]
    },
    {
     "name": "stderr",
     "output_type": "stream",
     "text": [
      "\r",
      "424it [10:05,  2.50s/it]"
     ]
    },
    {
     "name": "stdout",
     "output_type": "stream",
     "text": [
      "<bos>\n",
      "    <start_of_turn>user\n",
      "    Translate the sentence into urdu and only return the translation:\n",
      "\n",
      "    Very good BBQ with full of taste little spicy food but good in taste it's kabab yammy and service also nice need to improve cleaness and tables setting<end_of_turn>\n",
      "    <start_of_turn>model\n",
      "    بھلے بہتر BBQ ہے،   flavours میں بہت سی تھیں،  کیا ہے،  Kabab  خوب ہے،  Servis  خوب ہے،  Cleaness  کو بہتر کرنا  required  اور  tables  setting  کو  improve  کرنا  required. \n",
      "<end_of_turn>\n"
     ]
    },
    {
     "name": "stderr",
     "output_type": "stream",
     "text": [
      "\r",
      "425it [10:08,  2.52s/it]"
     ]
    },
    {
     "name": "stdout",
     "output_type": "stream",
     "text": [
      "<bos>\n",
      "    <start_of_turn>user\n",
      "    Translate the sentence into urdu and only return the translation:\n",
      "\n",
      "    Good food in economical prices<end_of_turn>\n",
      "    <start_of_turn>model\n",
      "    بھیرے کھانے کی کم قیمت \n",
      "<end_of_turn>\n"
     ]
    },
    {
     "name": "stderr",
     "output_type": "stream",
     "text": [
      "\r",
      "426it [10:08,  1.92s/it]"
     ]
    },
    {
     "name": "stdout",
     "output_type": "stream",
     "text": [
      "<bos>\n",
      "    <start_of_turn>user\n",
      "    Translate the sentence into urdu and only return the translation:\n",
      "\n",
      "    Delicious in taste but needs complete turn around in terms of sitting/dining area<end_of_turn>\n",
      "    <start_of_turn>model\n",
      "    مذاق میں بہت لذیذ لیکن کھانے کے لیے ایک مکمل تبدیل کی ضرورت ہے۔ \n",
      "<end_of_turn>\n"
     ]
    },
    {
     "name": "stderr",
     "output_type": "stream",
     "text": [
      "\r",
      "427it [10:09,  1.67s/it]"
     ]
    },
    {
     "name": "stdout",
     "output_type": "stream",
     "text": [
      "<bos>\n",
      "    <start_of_turn>user\n",
      "    Translate the sentence into urdu and only return the translation:\n",
      "\n",
      "    good place<end_of_turn>\n",
      "    <start_of_turn>model\n",
      "    خوب مکان \n",
      "<end_of_turn>\n"
     ]
    },
    {
     "name": "stderr",
     "output_type": "stream",
     "text": [
      "\r",
      "428it [10:10,  1.24s/it]"
     ]
    },
    {
     "name": "stdout",
     "output_type": "stream",
     "text": [
      "<bos>\n",
      "    <start_of_turn>user\n",
      "    Translate the sentence into urdu and only return the translation:\n",
      "\n",
      "    Me my Friend<end_of_turn>\n",
      "    <start_of_turn>model\n",
      "    میں اپنے دوست \n",
      "<end_of_turn>\n"
     ]
    },
    {
     "name": "stderr",
     "output_type": "stream",
     "text": [
      "\r",
      "429it [10:10,  1.05it/s]"
     ]
    },
    {
     "name": "stdout",
     "output_type": "stream",
     "text": [
      "<bos>\n",
      "    <start_of_turn>user\n",
      "    Translate the sentence into urdu and only return the translation:\n",
      "\n",
      "    I don't know.<end_of_turn>\n",
      "    <start_of_turn>model\n",
      "    ہاں نہیں جانا. \n",
      "<end_of_turn>\n"
     ]
    },
    {
     "name": "stderr",
     "output_type": "stream",
     "text": [
      "\r",
      "430it [10:10,  1.28it/s]"
     ]
    },
    {
     "name": "stdout",
     "output_type": "stream",
     "text": [
      "<bos>\n",
      "    <start_of_turn>user\n",
      "    Translate the sentence into urdu and only return the translation:\n",
      "\n",
      "    I need no schooling, colonel, said Fritz, a trifle haughtily.<end_of_turn>\n",
      "    <start_of_turn>model\n",
      "    میں کوئی تعلیم کی ضرورت نہیں، کپتان، Fritz نے کہا، trifle haughtily. \n",
      "<end_of_turn>\n"
     ]
    },
    {
     "name": "stderr",
     "output_type": "stream",
     "text": [
      "\r",
      "431it [10:11,  1.15it/s]"
     ]
    },
    {
     "name": "stdout",
     "output_type": "stream",
     "text": [
      "<bos>\n",
      "    <start_of_turn>user\n",
      "    Translate the sentence into urdu and only return the translation:\n",
      "\n",
      "    Taste is really good, and Kahwa is even more good after meal<end_of_turn>\n",
      "    <start_of_turn>model\n",
      "    مذاق بہت ہی اچھا ہے، اور پکڑے کے بعد کھاوا بہت اچھا ہے۔ \n",
      "<end_of_turn>\n"
     ]
    },
    {
     "name": "stderr",
     "output_type": "stream",
     "text": [
      "\r",
      "432it [10:13,  1.04it/s]"
     ]
    },
    {
     "name": "stdout",
     "output_type": "stream",
     "text": [
      "<bos>\n",
      "    <start_of_turn>user\n",
      "    Translate the sentence into urdu and only return the translation:\n",
      "\n",
      "    Paneer reshmi handi was really good<end_of_turn>\n",
      "    <start_of_turn>model\n",
      "    پانییر رشمی ہندی بہت خوب تھی \n",
      "<end_of_turn>\n"
     ]
    },
    {
     "name": "stderr",
     "output_type": "stream",
     "text": [
      "\r",
      "433it [10:13,  1.16it/s]"
     ]
    },
    {
     "name": "stdout",
     "output_type": "stream",
     "text": [
      "<bos>\n",
      "    <start_of_turn>user\n",
      "    Translate the sentence into urdu and only return the translation:\n",
      "\n",
      "    First time I been their wow very testy food will go again<end_of_turn>\n",
      "    <start_of_turn>model\n",
      "    پہلا بار میں ان کے پاس آیا، wow بہت تیز کھانا ہے، مجھے دوبارہ جاتا ہے۔ \n",
      "<end_of_turn>\n"
     ]
    },
    {
     "name": "stderr",
     "output_type": "stream",
     "text": [
      "\r",
      "434it [10:14,  1.05it/s]"
     ]
    },
    {
     "name": "stdout",
     "output_type": "stream",
     "text": [
      "<bos>\n",
      "    <start_of_turn>user\n",
      "    Translate the sentence into urdu and only return the translation:\n",
      "\n",
      "    Blow your nose.<end_of_turn>\n",
      "    <start_of_turn>model\n",
      "    پھولنے والا. \n",
      "<end_of_turn>\n"
     ]
    },
    {
     "name": "stderr",
     "output_type": "stream",
     "text": [
      "\r",
      "435it [10:15,  1.27it/s]"
     ]
    },
    {
     "name": "stdout",
     "output_type": "stream",
     "text": [
      "<bos>\n",
      "    <start_of_turn>user\n",
      "    Translate the sentence into urdu and only return the translation:\n",
      "\n",
      "    Only 36 percent of the people we tested are able to accurately identify their emotions as they happen.<end_of_turn>\n",
      "    <start_of_turn>model\n",
      "    اپریٹ 36 فیصد لوگ جو ہم نے ٹیسٹ کیا، وہ اپنے جذبات کو ہونے کی گزشتہ حالت میں صحیح طور پر پہچاننے میں کامیاب نہیں ہیں۔ \n",
      "<end_of_turn>\n"
     ]
    },
    {
     "name": "stderr",
     "output_type": "stream",
     "text": [
      "\r",
      "436it [10:17,  1.12s/it]"
     ]
    },
    {
     "name": "stdout",
     "output_type": "stream",
     "text": [
      "<bos>\n",
      "    <start_of_turn>user\n",
      "    Translate the sentence into urdu and only return the translation:\n",
      "\n",
      "    amazing pairings and constant refills from the sommelier...they were firing on\n",
      "\n",
      "all cylinders and delivered a truly one of a kind dining experience.<end_of_turn>\n",
      "    <start_of_turn>model\n",
      "    بہترین  کوئٹا  اور  کٹا  کے  تکرار  کے  تکرار  کے  تکرار  کے  تکرار  کے  تکرار  کے  تکرار  کے  تکرار  کے  تکرار  کے  تکرار  کے  تکرار  کے  تکرار  کے  تکرار  کے  تکرار  کے  تکرار  کے  تکرار  کے  تکرار  ک\n"
     ]
    },
    {
     "name": "stderr",
     "output_type": "stream",
     "text": [
      "\r",
      "437it [10:21,  2.25s/it]"
     ]
    },
    {
     "name": "stdout",
     "output_type": "stream",
     "text": [
      "<bos>\n",
      "    <start_of_turn>user\n",
      "    Translate the sentence into urdu and only return the translation:\n",
      "\n",
      "    Never order any paratha roll here<end_of_turn>\n",
      "    <start_of_turn>model\n",
      "    ہر پارatha رول نہ چاؤیں \n",
      "<end_of_turn>\n"
     ]
    },
    {
     "name": "stderr",
     "output_type": "stream",
     "text": [
      "\r",
      "438it [10:22,  1.73s/it]"
     ]
    },
    {
     "name": "stdout",
     "output_type": "stream",
     "text": [
      "<bos>\n",
      "    <start_of_turn>user\n",
      "    Translate the sentence into urdu and only return the translation:\n",
      "\n",
      "    Ok taste, not extra ordinary only hype is created by people<end_of_turn>\n",
      "    <start_of_turn>model\n",
      "    خوب تائید ہے، عجیب نہیں، صرف لوگ کی publicity ہے۔ \n",
      "<end_of_turn>\n"
     ]
    },
    {
     "name": "stderr",
     "output_type": "stream",
     "text": [
      "\r",
      "439it [10:23,  1.44s/it]"
     ]
    },
    {
     "name": "stdout",
     "output_type": "stream",
     "text": [
      "<bos>\n",
      "    <start_of_turn>user\n",
      "    Translate the sentence into urdu and only return the translation:\n",
      "\n",
      "    He has enough money.<end_of_turn>\n",
      "    <start_of_turn>model\n",
      "    اپنے پاس کافی رقم ہے۔ \n",
      "<end_of_turn>\n"
     ]
    },
    {
     "name": "stderr",
     "output_type": "stream",
     "text": [
      "\r",
      "440it [10:23,  1.12s/it]"
     ]
    },
    {
     "name": "stdout",
     "output_type": "stream",
     "text": [
      "<bos>\n",
      "    <start_of_turn>user\n",
      "    Translate the sentence into urdu and only return the translation:\n",
      "\n",
      "    (Translated by Google) Awesome taste, bas gravi nahi hay<end_of_turn>\n",
      "    <start_of_turn>model\n",
      "    بklasse تائیں،  بہت  کے  تائیں  نہیں  ہیں \n",
      "<end_of_turn>\n"
     ]
    },
    {
     "name": "stderr",
     "output_type": "stream",
     "text": [
      "\r",
      "441it [10:24,  1.10s/it]"
     ]
    },
    {
     "name": "stdout",
     "output_type": "stream",
     "text": [
      "<bos>\n",
      "    <start_of_turn>user\n",
      "    Translate the sentence into urdu and only return the translation:\n",
      "\n",
      "    Take it easy.<end_of_turn>\n",
      "    <start_of_turn>model\n",
      "    یہیں آرام کرے. \n",
      "<end_of_turn>\n"
     ]
    },
    {
     "name": "stderr",
     "output_type": "stream",
     "text": [
      "\r",
      "442it [10:25,  1.12it/s]"
     ]
    },
    {
     "name": "stdout",
     "output_type": "stream",
     "text": [
      "<bos>\n",
      "    <start_of_turn>user\n",
      "    Translate the sentence into urdu and only return the translation:\n",
      "\n",
      "    I haven’t seen him for one week.<end_of_turn>\n",
      "    <start_of_turn>model\n",
      "    اپنے ہفتے میں سے ایک ہفتہ پہلے میں نے ان سے ملاقات نہیں کی۔ \n",
      "<end_of_turn>\n"
     ]
    },
    {
     "name": "stderr",
     "output_type": "stream",
     "text": [
      "\r",
      "443it [10:26,  1.09it/s]"
     ]
    },
    {
     "name": "stdout",
     "output_type": "stream",
     "text": [
      "<bos>\n",
      "    <start_of_turn>user\n",
      "    Translate the sentence into urdu and only return the translation:\n",
      "\n",
      "     As I had expected, I found some difficulty in obtaining access to the grand-marshal; but I sent the ring I had received from the captain to him, and was instantly admitted<end_of_turn>\n",
      "    <start_of_turn>model\n",
      "    اپنے انتظار کے ساتھ، میں گرو مہلک کے پاس داخل ہونے میں کچھ مشکل کا سامنا کیا، لیکن میں کاپٹن سے حاصل کی گئی گھڑی کو اس کے پاس بھیجا، اور میں بڑے ہی سستے سے داخل ہوا \n",
      "<end_of_turn>\n"
     ]
    },
    {
     "name": "stderr",
     "output_type": "stream",
     "text": [
      "\r",
      "444it [10:28,  1.41s/it]"
     ]
    },
    {
     "name": "stdout",
     "output_type": "stream",
     "text": [
      "<bos>\n",
      "    <start_of_turn>user\n",
      "    Translate the sentence into urdu and only return the translation:\n",
      "\n",
      "    Food is good but place is dirty.<end_of_turn>\n",
      "    <start_of_turn>model\n",
      "    غذا خوب ہے لیکن مکان گھرا ہے۔ \n",
      "<end_of_turn>\n"
     ]
    },
    {
     "name": "stderr",
     "output_type": "stream",
     "text": [
      "\r",
      "445it [10:29,  1.15s/it]"
     ]
    },
    {
     "name": "stdout",
     "output_type": "stream",
     "text": [
      "<bos>\n",
      "    <start_of_turn>user\n",
      "    Translate the sentence into urdu and only return the translation:\n",
      "\n",
      "    And was transfigured before them : and his face did shine as the sun , and his raiment was white as the light .<end_of_turn>\n",
      "    <start_of_turn>model\n",
      "    اور انہیں  تبدیل ہوا، اور countenance  شام  ہے، اور  لباس  ہے  جسے  ہلکی  ہے  \n",
      "<end_of_turn>\n"
     ]
    },
    {
     "name": "stderr",
     "output_type": "stream",
     "text": [
      "\r",
      "446it [10:30,  1.26s/it]"
     ]
    },
    {
     "name": "stdout",
     "output_type": "stream",
     "text": [
      "<bos>\n",
      "    <start_of_turn>user\n",
      "    Translate the sentence into urdu and only return the translation:\n",
      "\n",
      "    Just okay<end_of_turn>\n",
      "    <start_of_turn>model\n",
      "    یہ satisfactory  \n",
      "<end_of_turn>\n"
     ]
    },
    {
     "name": "stderr",
     "output_type": "stream",
     "text": [
      "\r",
      "447it [10:30,  1.04it/s]"
     ]
    },
    {
     "name": "stdout",
     "output_type": "stream",
     "text": [
      "<bos>\n",
      "    <start_of_turn>user\n",
      "    Translate the sentence into urdu and only return the translation:\n",
      "\n",
      "    This restaurant is one of my Favorite place to eat with good environment and reasonable rates<end_of_turn>\n",
      "    <start_of_turn>model\n",
      "    اسٹھٹھٹھٹھٹھٹھٹھٹھٹھٹھٹھٹھٹھٹھٹھٹھٹھٹھٹھٹھٹھٹھٹھٹھٹھٹھٹھٹھٹھٹھٹھٹھٹھٹھٹھٹھٹھٹھٹھٹھٹھٹھٹھٹھٹھٹھٹھٹھٹھٹھٹھٹھٹھٹھٹھٹھٹھٹھٹھٹھٹھٹھٹھٹ\n"
     ]
    },
    {
     "name": "stderr",
     "output_type": "stream",
     "text": [
      "\r",
      "448it [10:35,  2.14s/it]"
     ]
    },
    {
     "name": "stdout",
     "output_type": "stream",
     "text": [
      "<bos>\n",
      "    <start_of_turn>user\n",
      "    Translate the sentence into urdu and only return the translation:\n",
      "\n",
      "    \"Oh, there's many to think as I do!\" cried the old woman stubbornly.<end_of_turn>\n",
      "    <start_of_turn>model\n",
      "    \"آپ کے ہاں بہت سے سوچنے کی ضرورت ہے!\"  \n",
      "    \n",
      "    (Aap ke haan bhat sa sochnay ki darurat hai!) \n",
      "<end_of_turn>\n"
     ]
    },
    {
     "name": "stderr",
     "output_type": "stream",
     "text": [
      "\r",
      "449it [10:37,  1.98s/it]"
     ]
    },
    {
     "name": "stdout",
     "output_type": "stream",
     "text": [
      "<bos>\n",
      "    <start_of_turn>user\n",
      "    Translate the sentence into urdu and only return the translation:\n",
      "\n",
      "    Its taste good i love it atmosphere is not good because of open air sitting<end_of_turn>\n",
      "    <start_of_turn>model\n",
      "    اس کا تذکّر بہت اچھا ہے میں اسے محبت کرتا ہوں، لیکن کھڑی ہوا کے لیے ایک بہت ہی معمولی atmospher ہے \n",
      "<end_of_turn>\n"
     ]
    },
    {
     "name": "stderr",
     "output_type": "stream",
     "text": [
      "\r",
      "450it [10:39,  1.87s/it]"
     ]
    },
    {
     "name": "stdout",
     "output_type": "stream",
     "text": [
      "<bos>\n",
      "    <start_of_turn>user\n",
      "    Translate the sentence into urdu and only return the translation:\n",
      "\n",
      "    He dealt with it politely and professionally.<end_of_turn>\n",
      "    <start_of_turn>model\n",
      "    اپریا  اور  صرفاً  کے ساتھ  کھا  ا  \n",
      "<end_of_turn>\n"
     ]
    },
    {
     "name": "stderr",
     "output_type": "stream",
     "text": [
      "\r",
      "451it [10:39,  1.55s/it]"
     ]
    },
    {
     "name": "stdout",
     "output_type": "stream",
     "text": [
      "<bos>\n",
      "    <start_of_turn>user\n",
      "    Translate the sentence into urdu and only return the translation:\n",
      "\n",
      "    Nice place\n",
      "Recommended<end_of_turn>\n",
      "    <start_of_turn>model\n",
      "    خوب مکان  \n",
      "    \n",
      "    (Good place) \n",
      "<end_of_turn>\n"
     ]
    },
    {
     "name": "stderr",
     "output_type": "stream",
     "text": [
      "\r",
      "452it [10:40,  1.26s/it]"
     ]
    },
    {
     "name": "stdout",
     "output_type": "stream",
     "text": [
      "<bos>\n",
      "    <start_of_turn>user\n",
      "    Translate the sentence into urdu and only return the translation:\n",
      "\n",
      "    Breakfast was awesome specially nihari<end_of_turn>\n",
      "    <start_of_turn>model\n",
      "    صبح کا کھانا بہت خوب tha، خاص طور پر نِیْرہی \n",
      "<end_of_turn>\n"
     ]
    },
    {
     "name": "stderr",
     "output_type": "stream",
     "text": [
      "\r",
      "453it [10:41,  1.14s/it]"
     ]
    },
    {
     "name": "stdout",
     "output_type": "stream",
     "text": [
      "<bos>\n",
      "    <start_of_turn>user\n",
      "    Translate the sentence into urdu and only return the translation:\n",
      "\n",
      "    ”\n",
      "\n",
      "Morrel looked around him, and then, drawing Dantès on one side, he said suddenly—\n",
      "\n",
      "“And how is the emperor?”\n",
      "\n",
      "“Very well, as far as I could judge from the sight of him<end_of_turn>\n",
      "    <start_of_turn>model\n",
      "    مورل نے اپنے xung quanh کے حول سے نظر کیا، اور بعد میں، دانتس کو ایک جانب پر لے کر،  ہے کہ  \"اور بادشاہ کیوں ہے؟\"\n",
      "\n",
      "    \"کیا ہے، میں نے دیکھا ہے\" \n",
      "<end_of_turn>\n"
     ]
    },
    {
     "name": "stderr",
     "output_type": "stream",
     "text": [
      "\r",
      "454it [10:43,  1.48s/it]"
     ]
    },
    {
     "name": "stdout",
     "output_type": "stream",
     "text": [
      "<bos>\n",
      "    <start_of_turn>user\n",
      "    Translate the sentence into urdu and only return the translation:\n",
      "\n",
      "    Best bbq plater ever<end_of_turn>\n",
      "    <start_of_turn>model\n",
      "    یہ سب سے بہترین BBQ پلاٹر ہے۔ \n",
      "<end_of_turn>\n"
     ]
    },
    {
     "name": "stderr",
     "output_type": "stream",
     "text": [
      "\r",
      "455it [10:44,  1.22s/it]"
     ]
    },
    {
     "name": "stdout",
     "output_type": "stream",
     "text": [
      "<bos>\n",
      "    <start_of_turn>user\n",
      "    Translate the sentence into urdu and only return the translation:\n",
      "\n",
      "    The unbelievers said to their Messengers, 'We will assuredly expel you from our land, or you will surely return into our creed.' Then did their Lord reveal unto them: 'We will surely destroy the evildoers,<end_of_turn>\n",
      "    <start_of_turn>model\n",
      "    انبیاء کے مہاجرین نے کہا, \"ہمیں اپنے مزار سے ہٹا دیا جائے گا، یا آپ اپنے عقیدے میں آئیں گے.\"  اپنے پروردگار نے ان کو کہا, \"ہمیں ہر جہاں پر بدکاروں کو ختم کرنا ہے۔\" \n",
      "<end_of_turn>\n"
     ]
    },
    {
     "name": "stderr",
     "output_type": "stream",
     "text": [
      "\r",
      "456it [10:47,  1.75s/it]"
     ]
    },
    {
     "name": "stdout",
     "output_type": "stream",
     "text": [
      "<bos>\n",
      "    <start_of_turn>user\n",
      "    Translate the sentence into urdu and only return the translation:\n",
      "\n",
      "    who were expelled from their habitations without right, except that they say 'Our Lord is God.' Had God not driven back the people, some by the means of others, there had been destroyed cloisters and churches, oratories and mosques, wherein God's Name is much mentioned. Assuredly God will help him who helps Him -- surely God is All-strong, All-mighty<end_of_turn>\n",
      "    <start_of_turn>model\n",
      "    کسی کو اپنے گھر سے بھاگنے کی اجازت نہ دی گئی، صرف کہ وہ کہتے ہیں \"اے اللہ، ہماری ذات ہے۔\" اگر اللہ نے لوگوں کو نہیں بھاگنے کی اجازت نہیں دی تو، کچھ لوگوں کے ذریعے، کبھی کبھی، کبھی کبھی، کبھی کبھی، کبھی کبھی، کبھی کبھی، کبھی کبھی، کبھی کبھی، کبھی کبھی، کبھی کبھی\n"
     ]
    },
    {
     "name": "stderr",
     "output_type": "stream",
     "text": [
      "\r",
      "457it [10:52,  2.71s/it]"
     ]
    },
    {
     "name": "stdout",
     "output_type": "stream",
     "text": [
      "<bos>\n",
      "    <start_of_turn>user\n",
      "    Translate the sentence into urdu and only return the translation:\n",
      "\n",
      "    Very Costly<end_of_turn>\n",
      "    <start_of_turn>model\n",
      "    بڑا خرچہ \n",
      "<end_of_turn>\n"
     ]
    },
    {
     "name": "stderr",
     "output_type": "stream",
     "text": [
      "\r",
      "458it [10:52,  2.01s/it]"
     ]
    },
    {
     "name": "stdout",
     "output_type": "stream",
     "text": [
      "<bos>\n",
      "    <start_of_turn>user\n",
      "    Translate the sentence into urdu and only return the translation:\n",
      "\n",
      "    A best point for dinner<end_of_turn>\n",
      "    <start_of_turn>model\n",
      "    Dinner کا بہترین گھڑی \n",
      "<end_of_turn>\n"
     ]
    },
    {
     "name": "stderr",
     "output_type": "stream",
     "text": [
      "\r",
      "459it [10:52,  1.54s/it]"
     ]
    },
    {
     "name": "stdout",
     "output_type": "stream",
     "text": [
      "<bos>\n",
      "    <start_of_turn>user\n",
      "    Translate the sentence into urdu and only return the translation:\n",
      "\n",
      "    Good place, economical, and delicious food<end_of_turn>\n",
      "    <start_of_turn>model\n",
      "    خوب مکان، مقرون به صرفه، اور خوشمزه کھانا \n",
      "<end_of_turn>\n"
     ]
    },
    {
     "name": "stderr",
     "output_type": "stream",
     "text": [
      "\r",
      "460it [10:53,  1.29s/it]"
     ]
    },
    {
     "name": "stdout",
     "output_type": "stream",
     "text": [
      "<bos>\n",
      "    <start_of_turn>user\n",
      "    Translate the sentence into urdu and only return the translation:\n",
      "\n",
      "    Outstanding restaurant for any type or event and family dinner with all family members, awesome food good ambiance awesome services<end_of_turn>\n",
      "    <start_of_turn>model\n",
      "    مُعَجّبrestoran ہر طرح کے اُسٹھن کے لیے، عائلی شام کے لیے بہت اچھا،  مُعَجّب کھانا، بہت اچھا مناظر، بہت اچھا  خدمت \n",
      "<end_of_turn>\n"
     ]
    },
    {
     "name": "stderr",
     "output_type": "stream",
     "text": [
      "\r",
      "461it [10:56,  1.64s/it]"
     ]
    },
    {
     "name": "stdout",
     "output_type": "stream",
     "text": [
      "<bos>\n",
      "    <start_of_turn>user\n",
      "    Translate the sentence into urdu and only return the translation:\n",
      "\n",
      "    But Jesus withdrew himself with his disciples to the sea : and a great multitude from Galilee followed him , and from Judaea .<end_of_turn>\n",
      "    <start_of_turn>model\n",
      "    یہاں سے جیسے  یہی  یہی  یہی  یہی  یہی  یہی  یہی  یہی  یہی  یہی  یہی  یہی  یہی  یہی  یہی  یہی  یہی  یہی  یہی  یہی  یہی  یہی  یہی  یہی  یہی  یہی  یہی  یہی  یہی  یہی  \n"
     ]
    },
    {
     "name": "stderr",
     "output_type": "stream",
     "text": [
      "\r",
      "462it [11:00,  2.61s/it]"
     ]
    },
    {
     "name": "stdout",
     "output_type": "stream",
     "text": [
      "<bos>\n",
      "    <start_of_turn>user\n",
      "    Translate the sentence into urdu and only return the translation:\n",
      "\n",
      "    good food<end_of_turn>\n",
      "    <start_of_turn>model\n",
      "    خوب کھانا \n",
      "<end_of_turn>\n"
     ]
    },
    {
     "name": "stderr",
     "output_type": "stream",
     "text": [
      "\r",
      "463it [11:01,  1.90s/it]"
     ]
    },
    {
     "name": "stdout",
     "output_type": "stream",
     "text": [
      "<bos>\n",
      "    <start_of_turn>user\n",
      "    Translate the sentence into urdu and only return the translation:\n",
      "\n",
      "     then you have something in common with your peers who smoke to_x0002_bacco or have thought about it<end_of_turn>\n",
      "    <start_of_turn>model\n",
      "    انہیں اپنے ہم عصروں کے ساتھ کوئی مشترک چیز ہے جو  to_x0002_bacco  کے لیے  کھا رہے ہیں یا اس کے بارے میں سوچ رہے ہیں۔ \n",
      "<end_of_turn>\n"
     ]
    },
    {
     "name": "stderr",
     "output_type": "stream",
     "text": [
      "\r",
      "464it [11:03,  1.92s/it]"
     ]
    },
    {
     "name": "stdout",
     "output_type": "stream",
     "text": [
      "<bos>\n",
      "    <start_of_turn>user\n",
      "    Translate the sentence into urdu and only return the translation:\n",
      "\n",
      "    Convenient place for good taste fried and grilled fish in Gulshan e Iqbal Karachi.\n",
      "Great taste and normal rates.<end_of_turn>\n",
      "    <start_of_turn>model\n",
      "    خوشمزه تھیں پھلائی اور تھکے پھلائی سمیت گھلش آیکبڑی کراچی میں ایک بہتر مکان۔ \n",
      "    \n",
      "    \n",
      "<end_of_turn>\n"
     ]
    },
    {
     "name": "stderr",
     "output_type": "stream",
     "text": [
      "\r",
      "465it [11:04,  1.88s/it]"
     ]
    },
    {
     "name": "stdout",
     "output_type": "stream",
     "text": [
      "<bos>\n",
      "    <start_of_turn>user\n",
      "    Translate the sentence into urdu and only return the translation:\n",
      "\n",
      "    (Translated by Google) There chicken n lamb karahi uffffff !!<end_of_turn>\n",
      "    <start_of_turn>model\n",
      "    یہ چیکن اور گُلّی کڑاھی  ufffff !! \n",
      "<end_of_turn>\n"
     ]
    },
    {
     "name": "stderr",
     "output_type": "stream",
     "text": [
      "\r",
      "466it [11:05,  1.57s/it]"
     ]
    },
    {
     "name": "stdout",
     "output_type": "stream",
     "text": [
      "<bos>\n",
      "    <start_of_turn>user\n",
      "    Translate the sentence into urdu and only return the translation:\n",
      "\n",
      "    (Translated by Google) Bhot zabardus tast ha\n",
      "\n",
      "(Original)\n",
      "Bhot zabardus tast ha<end_of_turn>\n",
      "    <start_of_turn>model\n",
      "    بہت زبردست ٹast ہے \n",
      "<end_of_turn>\n"
     ]
    },
    {
     "name": "stderr",
     "output_type": "stream",
     "text": [
      "\r",
      "467it [11:06,  1.25s/it]"
     ]
    },
    {
     "name": "stdout",
     "output_type": "stream",
     "text": [
      "<bos>\n",
      "    <start_of_turn>user\n",
      "    Translate the sentence into urdu and only return the translation:\n",
      "\n",
      "    \n",
      "\n",
      "“What ails you, my dearest father? Are you ill?” inquired the young man, much alarmed<end_of_turn>\n",
      "    <start_of_turn>model\n",
      "    \"آپ کی کیا حالت ہے، میرے محبوب پھڑی؟ آپ بیمار ہیں؟\" \n",
      "<end_of_turn>\n"
     ]
    },
    {
     "name": "stderr",
     "output_type": "stream",
     "text": [
      "\r",
      "468it [11:07,  1.15s/it]"
     ]
    },
    {
     "name": "stdout",
     "output_type": "stream",
     "text": [
      "<bos>\n",
      "    <start_of_turn>user\n",
      "    Translate the sentence into urdu and only return the translation:\n",
      "\n",
      "    One of the best Koyla Karhai in the whole city of Karachi. Excellent taste. Mutton karhai was superb. Variants of the original Shahi Karhai which are green and white are not that good compared to the original. Small area for family dine in but the roof top  takhat seating is good . Parking and traffic is a big problem here.<end_of_turn>\n",
      "    <start_of_turn>model\n",
      "    کے لے کوئی  کے لے  کے لے  کے لے  کے لے  کے لے  کے لے  کے لے  کے لے  کے لے  کے لے  کے لے  کے لے  کے لے  کے لے  کے لے  کے لے  کے لے  کے لے  کے لے  کے لے  کے لے  کے لے  کے لے  کے لے  ک\n"
     ]
    },
    {
     "name": "stderr",
     "output_type": "stream",
     "text": [
      "\r",
      "469it [11:12,  2.29s/it]"
     ]
    },
    {
     "name": "stdout",
     "output_type": "stream",
     "text": [
      "<bos>\n",
      "    <start_of_turn>user\n",
      "    Translate the sentence into urdu and only return the translation:\n",
      "\n",
      "    Liked it<end_of_turn>\n",
      "    <start_of_turn>model\n",
      "    اپنے liking میں خوش ہوا \n",
      "<end_of_turn>\n"
     ]
    },
    {
     "name": "stderr",
     "output_type": "stream",
     "text": [
      "\r",
      "470it [11:12,  1.71s/it]"
     ]
    },
    {
     "name": "stdout",
     "output_type": "stream",
     "text": [
      "<bos>\n",
      "    <start_of_turn>user\n",
      "    Translate the sentence into urdu and only return the translation:\n",
      "\n",
      "    Awesome food I recommend this restaurant with family<end_of_turn>\n",
      "    <start_of_turn>model\n",
      "    محبت کی غذا میں تجویز کرتا ہوں یہrestuarant  ایک  فرز  کے ساتھ \n",
      "<end_of_turn>\n"
     ]
    },
    {
     "name": "stderr",
     "output_type": "stream",
     "text": [
      "\r",
      "471it [11:13,  1.51s/it]"
     ]
    },
    {
     "name": "stdout",
     "output_type": "stream",
     "text": [
      "<bos>\n",
      "    <start_of_turn>user\n",
      "    Translate the sentence into urdu and only return the translation:\n",
      "\n",
      "    Please wait till he comes back.<end_of_turn>\n",
      "    <start_of_turn>model\n",
      "    کیا  اپنے  آدھے  آپ  کی  اپنے  آدھے  آپ  کی  اپنے  آدھے  آپ  کی  اپنے  آدھے  آپ  کی  اپنے  آدھے  آپ  کی  اپنے  آدھے  آپ  کی  اپنے  آدھے  آپ  کی  اپنے  آدھے  آپ  کی  اپنے  آدھے  آپ  کی  اپنے  آدھے  آپ  کی  اپنے  آد\n"
     ]
    },
    {
     "name": "stderr",
     "output_type": "stream",
     "text": [
      "\r",
      "472it [11:18,  2.52s/it]"
     ]
    },
    {
     "name": "stdout",
     "output_type": "stream",
     "text": [
      "<bos>\n",
      "    <start_of_turn>user\n",
      "    Translate the sentence into urdu and only return the translation:\n",
      "\n",
      "    Lahori fish biscuit was perfect, grill was worst<end_of_turn>\n",
      "    <start_of_turn>model\n",
      "    لاہور پھلاڑی بیسکوٹ بہت تیز سی تھی، گلی بہت بڑا سی تھی \n",
      "<end_of_turn>\n"
     ]
    },
    {
     "name": "stderr",
     "output_type": "stream",
     "text": [
      "\r",
      "473it [11:19,  2.15s/it]"
     ]
    },
    {
     "name": "stdout",
     "output_type": "stream",
     "text": [
      "<bos>\n",
      "    <start_of_turn>user\n",
      "    Translate the sentence into urdu and only return the translation:\n",
      "\n",
      "    I wish I could be in Boston now.<end_of_turn>\n",
      "    <start_of_turn>model\n",
      "    میں چاہتا ہوں کہ میں اب بوستن میں ہوں. \n",
      "<end_of_turn>\n"
     ]
    },
    {
     "name": "stderr",
     "output_type": "stream",
     "text": [
      "\r",
      "474it [11:20,  1.74s/it]"
     ]
    },
    {
     "name": "stdout",
     "output_type": "stream",
     "text": [
      "<bos>\n",
      "    <start_of_turn>user\n",
      "    Translate the sentence into urdu and only return the translation:\n",
      "\n",
      "    Good food<end_of_turn>\n",
      "    <start_of_turn>model\n",
      "    خوب کھانا \n",
      "<end_of_turn>\n"
     ]
    },
    {
     "name": "stderr",
     "output_type": "stream",
     "text": [
      "\r",
      "475it [11:20,  1.30s/it]"
     ]
    },
    {
     "name": "stdout",
     "output_type": "stream",
     "text": [
      "<bos>\n",
      "    <start_of_turn>user\n",
      "    Translate the sentence into urdu and only return the translation:\n",
      "\n",
      "    the transition to adulthood isn’t like a door that you simply walk through when you reach a certain age.<end_of_turn>\n",
      "    <start_of_turn>model\n",
      "    بچپancy سے trưởng old age تک کی تبدیلی ایک درجہ پر چلنے کی مانند نہیں ہے. \n",
      "<end_of_turn>\n"
     ]
    },
    {
     "name": "stderr",
     "output_type": "stream",
     "text": [
      "\r",
      "476it [11:21,  1.23s/it]"
     ]
    },
    {
     "name": "stdout",
     "output_type": "stream",
     "text": [
      "<bos>\n",
      "    <start_of_turn>user\n",
      "    Translate the sentence into urdu and only return the translation:\n",
      "\n",
      "    If you are a foodie, bbq is amazing! The only drawback is the seating area along with aesthetics<end_of_turn>\n",
      "    <start_of_turn>model\n",
      "    اگر آپ کھانے والا ہوں تو BBQ بہت ہی خوب ہے! ایک ہی ایسا کمال ہے کہ وہاں کھانے کے لیے ایک خوبصورت  اور  عمران  عمران  عمران  عمران  عمران  عمران  عمران  عمران  عمران  عمران  عمران  عمران  عمران  عمران  عمران  عمران  عمران  عمران  عمران  عمران  عمران  عمران  ع\n"
     ]
    },
    {
     "name": "stderr",
     "output_type": "stream",
     "text": [
      "\r",
      "477it [11:26,  2.32s/it]"
     ]
    },
    {
     "name": "stdout",
     "output_type": "stream",
     "text": [
      "<bos>\n",
      "    <start_of_turn>user\n",
      "    Translate the sentence into urdu and only return the translation:\n",
      "\n",
      "    Food was pathetic ordered red utton karahi was given black meat was not at all tender and felt like chewing rubber.<end_of_turn>\n",
      "    <start_of_turn>model\n",
      "    غذا بہت ہی نا satisfactory تھی، سرخ تھون کڑیہ  کو  پھول  کی  جگہ  کے  جیسے  کھل  کی  جگہ  کے  جیسے  کھل  کی  جگہ  کے  جیسے  کھل  کی  جگہ  کے  جیسے  کھل  کی  جگہ  کے  جیسے  کھل  کی  جگہ  کے  جیسے  کھل  کی  جگہ  ک\n"
     ]
    },
    {
     "name": "stderr",
     "output_type": "stream",
     "text": [
      "\r",
      "478it [11:31,  3.09s/it]"
     ]
    },
    {
     "name": "stdout",
     "output_type": "stream",
     "text": [
      "<bos>\n",
      "    <start_of_turn>user\n",
      "    Translate the sentence into urdu and only return the translation:\n",
      "\n",
      "    That’s just the point.<end_of_turn>\n",
      "    <start_of_turn>model\n",
      "    یہ صرف نقطہ ہے. \n",
      "<end_of_turn>\n"
     ]
    },
    {
     "name": "stderr",
     "output_type": "stream",
     "text": [
      "\r",
      "479it [11:32,  2.28s/it]"
     ]
    },
    {
     "name": "stdout",
     "output_type": "stream",
     "text": [
      "<bos>\n",
      "    <start_of_turn>user\n",
      "    Translate the sentence into urdu and only return the translation:\n",
      "\n",
      "    Good place for the desi food<end_of_turn>\n",
      "    <start_of_turn>model\n",
      "    خوب  desi  غذای  پلا  \n",
      "<end_of_turn>\n"
     ]
    },
    {
     "name": "stderr",
     "output_type": "stream",
     "text": [
      "\r",
      "480it [11:32,  1.74s/it]"
     ]
    },
    {
     "name": "stdout",
     "output_type": "stream",
     "text": [
      "<bos>\n",
      "    <start_of_turn>user\n",
      "    Translate the sentence into urdu and only return the translation:\n",
      "\n",
      "    Alif Lam Ra. Those are the signs of the Book and of a manifest Koran.<end_of_turn>\n",
      "    <start_of_turn>model\n",
      "    اَلْفُ لَامِ رَ.  انہیں کتاب کے نشان اور واضح قرآن کے نشان ہیں۔ \n",
      "<end_of_turn>\n"
     ]
    },
    {
     "name": "stderr",
     "output_type": "stream",
     "text": [
      "\r",
      "481it [11:33,  1.55s/it]"
     ]
    },
    {
     "name": "stdout",
     "output_type": "stream",
     "text": [
      "<bos>\n",
      "    <start_of_turn>user\n",
      "    Translate the sentence into urdu and only return the translation:\n",
      "\n",
      "    tasty fried kebab in butter<end_of_turn>\n",
      "    <start_of_turn>model\n",
      "    کوڑا تہیلا کباب در چاٹ \n",
      "<end_of_turn>\n"
     ]
    },
    {
     "name": "stderr",
     "output_type": "stream",
     "text": [
      "\r",
      "482it [11:34,  1.27s/it]"
     ]
    },
    {
     "name": "stdout",
     "output_type": "stream",
     "text": [
      "<bos>\n",
      "    <start_of_turn>user\n",
      "    Translate the sentence into urdu and only return the translation:\n",
      "\n",
      "    zabardast.best nihari in whole town.hygienic and tasty........<end_of_turn>\n",
      "    <start_of_turn>model\n",
      "    زیبہستہ بہترین نِھاری کل ٹھکانے میں.  حیجیئنیک اور تیز  \n",
      "<end_of_turn>\n"
     ]
    },
    {
     "name": "stderr",
     "output_type": "stream",
     "text": [
      "\r",
      "483it [11:35,  1.25s/it]"
     ]
    },
    {
     "name": "stdout",
     "output_type": "stream",
     "text": [
      "<bos>\n",
      "    <start_of_turn>user\n",
      "    Translate the sentence into urdu and only return the translation:\n",
      "\n",
      "    Very economical but very average Dosa<end_of_turn>\n",
      "    <start_of_turn>model\n",
      "    بہت کم خرچے کی لیکن بہت معمولی دسے \n",
      "<end_of_turn>\n"
     ]
    },
    {
     "name": "stderr",
     "output_type": "stream",
     "text": [
      "\r",
      "484it [11:36,  1.11s/it]"
     ]
    },
    {
     "name": "stdout",
     "output_type": "stream",
     "text": [
      "<bos>\n",
      "    <start_of_turn>user\n",
      "    Translate the sentence into urdu and only return the translation:\n",
      "\n",
      "    It is a sin call name.<end_of_turn>\n",
      "    <start_of_turn>model\n",
      "    انہیں نام لگانا گناہ ہے۔ \n",
      "<end_of_turn>\n"
     ]
    },
    {
     "name": "stderr",
     "output_type": "stream",
     "text": [
      "\r",
      "485it [11:36,  1.06it/s]"
     ]
    },
    {
     "name": "stdout",
     "output_type": "stream",
     "text": [
      "<bos>\n",
      "    <start_of_turn>user\n",
      "    Translate the sentence into urdu and only return the translation:\n",
      "\n",
      "    Tasty foods . Superb<end_of_turn>\n",
      "    <start_of_turn>model\n",
      "    مُتْصَلْی  کھائیں  \n",
      "<end_of_turn>\n"
     ]
    },
    {
     "name": "stderr",
     "output_type": "stream",
     "text": [
      "\r",
      "486it [11:37,  1.19it/s]"
     ]
    },
    {
     "name": "stdout",
     "output_type": "stream",
     "text": [
      "<bos>\n",
      "    <start_of_turn>user\n",
      "    Translate the sentence into urdu and only return the translation:\n",
      "\n",
      "    Good restaurant<end_of_turn>\n",
      "    <start_of_turn>model\n",
      "    خوبrestoran \n",
      "<end_of_turn>\n"
     ]
    },
    {
     "name": "stderr",
     "output_type": "stream",
     "text": [
      "\r",
      "487it [11:37,  1.51it/s]"
     ]
    },
    {
     "name": "stdout",
     "output_type": "stream",
     "text": [
      "<bos>\n",
      "    <start_of_turn>user\n",
      "    Translate the sentence into urdu and only return the translation:\n",
      "\n",
      "     I cannot stay here any longer<end_of_turn>\n",
      "    <start_of_turn>model\n",
      "    میں یہاں کسی بھی لگے نہیں رہ سکتا \n",
      "<end_of_turn>\n"
     ]
    },
    {
     "name": "stderr",
     "output_type": "stream",
     "text": [
      "\r",
      "488it [11:38,  1.50it/s]"
     ]
    },
    {
     "name": "stdout",
     "output_type": "stream",
     "text": [
      "<bos>\n",
      "    <start_of_turn>user\n",
      "    Translate the sentence into urdu and only return the translation:\n",
      "\n",
      "    The food was on point<end_of_turn>\n",
      "    <start_of_turn>model\n",
      "    غذا  کو  پہلا  ہے \n",
      "<end_of_turn>\n"
     ]
    },
    {
     "name": "stderr",
     "output_type": "stream",
     "text": [
      "\r",
      "489it [11:38,  1.58it/s]"
     ]
    },
    {
     "name": "stdout",
     "output_type": "stream",
     "text": [
      "<bos>\n",
      "    <start_of_turn>user\n",
      "    Translate the sentence into urdu and only return the translation:\n",
      "\n",
      "    Don’t insist.<end_of_turn>\n",
      "    <start_of_turn>model\n",
      "    نہ تم insistence کریں. \n",
      "<end_of_turn>\n"
     ]
    },
    {
     "name": "stderr",
     "output_type": "stream",
     "text": [
      "\r",
      "490it [11:39,  1.77it/s]"
     ]
    },
    {
     "name": "stdout",
     "output_type": "stream",
     "text": [
      "<bos>\n",
      "    <start_of_turn>user\n",
      "    Translate the sentence into urdu and only return the translation:\n",
      "\n",
      "    Good test<end_of_turn>\n",
      "    <start_of_turn>model\n",
      "    خوب امتحان \n",
      "<end_of_turn>\n"
     ]
    },
    {
     "name": "stderr",
     "output_type": "stream",
     "text": [
      "\r",
      "491it [11:39,  2.11it/s]"
     ]
    },
    {
     "name": "stdout",
     "output_type": "stream",
     "text": [
      "<bos>\n",
      "    <start_of_turn>user\n",
      "    Translate the sentence into urdu and only return the translation:\n",
      "\n",
      "    But Jesus beheld them , and said unto them , With men this is impossible ; but with God all things are possible .<end_of_turn>\n",
      "    <start_of_turn>model\n",
      "    یہیں  یہی  یہی  یہی  یہی  یہی  یہی  یہی  یہی  یہی  یہی  یہی  یہی  یہی  یہی  یہی  یہی  یہی  یہی  یہی  یہی  یہی  یہی  یہی  یہی  یہی  یہی  یہی  یہی  یہی  یہی  یہی  \n"
     ]
    },
    {
     "name": "stderr",
     "output_type": "stream",
     "text": [
      "\r",
      "492it [11:44,  1.79s/it]"
     ]
    },
    {
     "name": "stdout",
     "output_type": "stream",
     "text": [
      "<bos>\n",
      "    <start_of_turn>user\n",
      "    Translate the sentence into urdu and only return the translation:\n",
      "\n",
      "    Jesus said unto him , If thou wilt be perfect , go and sell that thou hast , and give to the poor , and thou shalt have treasure in heaven : and come and follow me .<end_of_turn>\n",
      "    <start_of_turn>model\n",
      "    یہا کہا کہ: اگر تم پوری کامل ہونا چاہتے ہو، تو اپنے مال کو بے چارے سے بڑھ کر، اور محسوس کیے گئے ہوں، تو تمہیں آسمان میں گھر کی گھڑی ہوگی۔ اور تم مجھ سے چلے جاؤ۔ \n",
      "<end_of_turn>\n"
     ]
    },
    {
     "name": "stderr",
     "output_type": "stream",
     "text": [
      "\r",
      "493it [11:47,  2.12s/it]"
     ]
    },
    {
     "name": "stdout",
     "output_type": "stream",
     "text": [
      "<bos>\n",
      "    <start_of_turn>user\n",
      "    Translate the sentence into urdu and only return the translation:\n",
      "\n",
      "    Fabulous  test<end_of_turn>\n",
      "    <start_of_turn>model\n",
      "    بklasse test \n",
      "<end_of_turn>\n"
     ]
    },
    {
     "name": "stderr",
     "output_type": "stream",
     "text": [
      "\r",
      "494it [11:47,  1.56s/it]"
     ]
    },
    {
     "name": "stdout",
     "output_type": "stream",
     "text": [
      "<bos>\n",
      "    <start_of_turn>user\n",
      "    Translate the sentence into urdu and only return the translation:\n",
      "\n",
      "    Good food<end_of_turn>\n",
      "    <start_of_turn>model\n",
      "    خوب کھانا \n",
      "<end_of_turn>\n"
     ]
    },
    {
     "name": "stderr",
     "output_type": "stream",
     "text": [
      "\r",
      "495it [11:47,  1.17s/it]"
     ]
    },
    {
     "name": "stdout",
     "output_type": "stream",
     "text": [
      "<bos>\n",
      "    <start_of_turn>user\n",
      "    Translate the sentence into urdu and only return the translation:\n",
      "\n",
      "    Roadside sitting. Totally Encroachment Setup. Prices are high quality is low. The oil is totally Black and smell bad. Really very messy environment. Not recommended.<end_of_turn>\n",
      "    <start_of_turn>model\n",
      "    سڑک کے کنارے کھڑا ہونا.  تمام طور پر  کٹا  setup.  اور  اور  اور  اور  اور  اور  اور  اور  اور  اور  اور  اور  اور  اور  اور  اور  اور  اور  اور  اور  اور  اور  اور  اور  اور  اور  اور  اور  اور  اور  اور  اور  اور  اور  اور  اور  اور  اور  اور  اور  اور  اور  اور  اور  اور  اور  اور  اور  اور  اور  اور  اور  \n"
     ]
    },
    {
     "name": "stderr",
     "output_type": "stream",
     "text": [
      "\r",
      "496it [11:52,  2.29s/it]"
     ]
    },
    {
     "name": "stdout",
     "output_type": "stream",
     "text": [
      "<bos>\n",
      "    <start_of_turn>user\n",
      "    Translate the sentence into urdu and only return the translation:\n",
      "\n",
      "    We tried their red chicken karahi, good taste, recommended !!<end_of_turn>\n",
      "    <start_of_turn>model\n",
      "    ہم نے ان کے سرخ چکن کیڑائی کو تلاش کیا، بہت لذیذ، تجویز کیا گیا !! \n",
      "<end_of_turn>\n"
     ]
    },
    {
     "name": "stderr",
     "output_type": "stream",
     "text": [
      "\r",
      "497it [11:53,  1.95s/it]"
     ]
    },
    {
     "name": "stdout",
     "output_type": "stream",
     "text": [
      "<bos>\n",
      "    <start_of_turn>user\n",
      "    Translate the sentence into urdu and only return the translation:\n",
      "\n",
      "    Good tea<end_of_turn>\n",
      "    <start_of_turn>model\n",
      "    خوب چا tea \n",
      "<end_of_turn>\n"
     ]
    },
    {
     "name": "stderr",
     "output_type": "stream",
     "text": [
      "\r",
      "498it [11:54,  1.45s/it]"
     ]
    },
    {
     "name": "stdout",
     "output_type": "stream",
     "text": [
      "<bos>\n",
      "    <start_of_turn>user\n",
      "    Translate the sentence into urdu and only return the translation:\n",
      "\n",
      "    Food was good, we ordered mutton, chicken and beef karahi, half kg each, we were 6 persons, ate very well, taste was good, the street where bombay koyla located is very congested, there was no parking place for csr, only bikers will enjoy the food<end_of_turn>\n",
      "    <start_of_turn>model\n",
      "    غذا بہت  خوب تھی، ہم نے  مUTTON،  CHICKEN  اور  BEEF  KARAHI  Half  kg  ek  saath  order  kiya،  Hum  6  person  the  ay  very  well  ate،  taste  was  good،  bombay  koyla  located  street  very  congested  the  was  no  parking  place  for  csr،  only  bikers  will  enjoy  the  food \n",
      "<end_of_turn>\n"
     ]
    },
    {
     "name": "stderr",
     "output_type": "stream",
     "text": [
      "\r",
      "499it [11:58,  2.33s/it]"
     ]
    },
    {
     "name": "stdout",
     "output_type": "stream",
     "text": [
      "<bos>\n",
      "    <start_of_turn>user\n",
      "    Translate the sentence into urdu and only return the translation:\n",
      "\n",
      "    Ok place not enough varities in food<end_of_turn>\n",
      "    <start_of_turn>model\n",
      "    یہاں خوبصورت مکان، پکوان میں کافی تنوع نہیں ہے۔ \n",
      "<end_of_turn>\n"
     ]
    },
    {
     "name": "stderr",
     "output_type": "stream",
     "text": [
      "\r",
      "500it [11:59,  1.86s/it]"
     ]
    },
    {
     "name": "stdout",
     "output_type": "stream",
     "text": [
      "<bos>\n",
      "    <start_of_turn>user\n",
      "    Translate the sentence into urdu and only return the translation:\n",
      "\n",
      "    Had a very good experience there. Taste is all good but I seriously find the prices a bit high.<end_of_turn>\n",
      "    <start_of_turn>model\n",
      "    اپنے  ایک بہت  خوب تجربہ  کرتا  ہا۔  مذاق  کو  بڑا  خوب  ہے  لیکن  میں  بڑی  بڑی  قیمت  کو  کوئی  بڑی  بڑی  ہے. \n",
      "<end_of_turn>\n"
     ]
    },
    {
     "name": "stderr",
     "output_type": "stream",
     "text": [
      "\r",
      "501it [12:01,  2.10s/it]"
     ]
    },
    {
     "name": "stdout",
     "output_type": "stream",
     "text": [
      "<bos>\n",
      "    <start_of_turn>user\n",
      "    Translate the sentence into urdu and only return the translation:\n",
      "\n",
      "    Good place for fish lover<end_of_turn>\n",
      "    <start_of_turn>model\n",
      "    یہ سمندر کی طرف سے لطف اٹھانے والے لوگوں کے لیے بہترین مقام \n",
      "<end_of_turn>\n"
     ]
    },
    {
     "name": "stderr",
     "output_type": "stream",
     "text": [
      "\r",
      "502it [12:03,  1.78s/it]"
     ]
    },
    {
     "name": "stdout",
     "output_type": "stream",
     "text": [
      "<bos>\n",
      "    <start_of_turn>user\n",
      "    Translate the sentence into urdu and only return the translation:\n",
      "\n",
      "    Yes.<end_of_turn>\n",
      "    <start_of_turn>model\n",
      "    हाँ \n",
      "<end_of_turn>\n"
     ]
    },
    {
     "name": "stderr",
     "output_type": "stream",
     "text": [
      "\r",
      "503it [12:03,  1.30s/it]"
     ]
    },
    {
     "name": "stdout",
     "output_type": "stream",
     "text": [
      "<bos>\n",
      "    <start_of_turn>user\n",
      "    Translate the sentence into urdu and only return the translation:\n",
      "\n",
      "    It takes two to make a quarrel.<end_of_turn>\n",
      "    <start_of_turn>model\n",
      "    ایک جھلک کے لیے دو ہوں۔ \n",
      "<end_of_turn>\n"
     ]
    },
    {
     "name": "stderr",
     "output_type": "stream",
     "text": [
      "\r",
      "504it [12:03,  1.08s/it]"
     ]
    },
    {
     "name": "stdout",
     "output_type": "stream",
     "text": [
      "<bos>\n",
      "    <start_of_turn>user\n",
      "    Translate the sentence into urdu and only return the translation:\n",
      "\n",
      "    (Translated by Google) The best map from house to house\n",
      "\n",
      "(Original)\n",
      "بہترین نقشہ گھر سے گھر تک<end_of_turn>\n",
      "    <start_of_turn>model\n",
      "    بہترین نقشہ گھر سے گھر تک \n",
      "<end_of_turn>\n"
     ]
    },
    {
     "name": "stderr",
     "output_type": "stream",
     "text": [
      "\r",
      "505it [12:04,  1.09it/s]"
     ]
    },
    {
     "name": "stdout",
     "output_type": "stream",
     "text": [
      "<bos>\n",
      "    <start_of_turn>user\n",
      "    Translate the sentence into urdu and only return the translation:\n",
      "\n",
      "    Good quality food as expected, ambience was too good, built on rooftop so airflow was also very good there. In monetary terms it's also not much expensive. Just waiting time is annoying due to full occupancy.<end_of_turn>\n",
      "    <start_of_turn>model\n",
      "    غذای خوب کی کیفیت کے مطابق،  عمرانی  کو بہت  خوب  ہے،  روفی  پر  بنایا  ہے  کی  اس  کو  بڑا  آئن  ہے،  مالی  تیم  کو  بڑا  کو  بڑا  ہے،  کی  بڑا  کو  بڑا  ہے،  کی  بڑا  کو  بڑا  ہے،  کی  بڑا  کو  بڑا  ہے،  کی  بڑا\n"
     ]
    },
    {
     "name": "stderr",
     "output_type": "stream",
     "text": [
      "\r",
      "506it [12:09,  2.11s/it]"
     ]
    },
    {
     "name": "stdout",
     "output_type": "stream",
     "text": [
      "<bos>\n",
      "    <start_of_turn>user\n",
      "    Translate the sentence into urdu and only return the translation:\n",
      "\n",
      "    His people disputed with him. He said: \"(Come) ye to dispute with me, about Allah, when He (Himself) hath guided me? I fear not (the beings) ye associate with Allah: Unless my Lord willeth, (nothing can happen). My Lord comprehendeth in His knowledge all things. Will ye not (yourselves) be admonished?<end_of_turn>\n",
      "    <start_of_turn>model\n",
      "    اپنی قوم نے اس پر بحث کی۔ اس نے کہا: \"(آج) تمہیں اللہ کے بارے میں بحث کرنے کی کوشش کیجئے، جب کہ میں نے اس سے گھرا ہے۔ میں تمہارے ساتھ اللہ کے ساتھ ساتھ ہونے والی ہر چیز پر ڈھکے ہوئے ہوں۔ میں تمہارے ساتھ اللہ کے ساتھ ساتھ ہونے والی ہر چیز پر ڈھکے ہوئے ہوں۔ میں تمہارے ساتھ اللہ کے ساتھ ساتھ ہونے والی ہر چیز پر ڈھکے ہوئے\n"
     ]
    },
    {
     "name": "stderr",
     "output_type": "stream",
     "text": [
      "\r",
      "507it [12:14,  2.95s/it]"
     ]
    },
    {
     "name": "stdout",
     "output_type": "stream",
     "text": [
      "<bos>\n",
      "    <start_of_turn>user\n",
      "    Translate the sentence into urdu and only return the translation:\n",
      "\n",
      "    Reasonable rates, great for bethak of friends<end_of_turn>\n",
      "    <start_of_turn>model\n",
      "    مناسب قیمتیں،  فرnds کے  bethak کے لیے بہت  خوب \n",
      "<end_of_turn>\n"
     ]
    },
    {
     "name": "stderr",
     "output_type": "stream",
     "text": [
      "\r",
      "508it [12:14,  2.33s/it]"
     ]
    },
    {
     "name": "stdout",
     "output_type": "stream",
     "text": [
      "<bos>\n",
      "    <start_of_turn>user\n",
      "    Translate the sentence into urdu and only return the translation:\n",
      "\n",
      "    I love it!<end_of_turn>\n",
      "    <start_of_turn>model\n",
      "    میں اس پر محبت کرتا ہوں! \n",
      "<end_of_turn>\n"
     ]
    },
    {
     "name": "stderr",
     "output_type": "stream",
     "text": [
      "\r",
      "509it [12:15,  1.80s/it]"
     ]
    },
    {
     "name": "stdout",
     "output_type": "stream",
     "text": [
      "<bos>\n",
      "    <start_of_turn>user\n",
      "    Translate the sentence into urdu and only return the translation:\n",
      "\n",
      "    (Translated by Google) Malai boti ufff end taste paisa wasool<end_of_turn>\n",
      "    <start_of_turn>model\n",
      "    مالی boti  UFF  انڈ  تائس  پے  wasool \n",
      "<end_of_turn>\n"
     ]
    },
    {
     "name": "stderr",
     "output_type": "stream",
     "text": [
      "\r",
      "510it [12:16,  1.52s/it]"
     ]
    },
    {
     "name": "stdout",
     "output_type": "stream",
     "text": [
      "<bos>\n",
      "    <start_of_turn>user\n",
      "    Translate the sentence into urdu and only return the translation:\n",
      "\n",
      "     With the deputy’s knowledge of crime and criminals, every word the young man uttered convinced him more and more of his innocence<end_of_turn>\n",
      "    <start_of_turn>model\n",
      "    دپٹی کے جرم اور مجرموں کے علم کے ساتھ، young man کی ہر کلم پر، وہ اس کی صحت پر یقین کر رہا تھا۔ \n",
      "<end_of_turn>\n"
     ]
    },
    {
     "name": "stderr",
     "output_type": "stream",
     "text": [
      "\r",
      "511it [12:17,  1.53s/it]"
     ]
    },
    {
     "name": "stdout",
     "output_type": "stream",
     "text": [
      "<bos>\n",
      "    <start_of_turn>user\n",
      "    Translate the sentence into urdu and only return the translation:\n",
      "\n",
      "    Many times these situations resolve themselves or aren’t quite as urgent as he perceives,<end_of_turn>\n",
      "    <start_of_turn>model\n",
      "    وقتِ بہتِ بارِیں یہ صورت حال خود حل ہوتے ہیں یا وہ اس کے تصور سے کم اہمیت رکھتے ہیں۔ \n",
      "<end_of_turn>\n"
     ]
    },
    {
     "name": "stderr",
     "output_type": "stream",
     "text": [
      "\r",
      "512it [12:19,  1.49s/it]"
     ]
    },
    {
     "name": "stdout",
     "output_type": "stream",
     "text": [
      "<bos>\n",
      "    <start_of_turn>user\n",
      "    Translate the sentence into urdu and only return the translation:\n",
      "\n",
      "    Not as good as before.<end_of_turn>\n",
      "    <start_of_turn>model\n",
      "    کوئی نہیں بہتر. \n",
      "<end_of_turn>\n"
     ]
    },
    {
     "name": "stderr",
     "output_type": "stream",
     "text": [
      "\r",
      "513it [12:19,  1.15s/it]"
     ]
    },
    {
     "name": "stdout",
     "output_type": "stream",
     "text": [
      "<bos>\n",
      "    <start_of_turn>user\n",
      "    Translate the sentence into urdu and only return the translation:\n",
      "\n",
      "    It was really great but needs to clean ladies washroom<end_of_turn>\n",
      "    <start_of_turn>model\n",
      "    یہ بہت خوب تھا لیکن لڑکیوں کی   washroom  کو  کبھی  کبھی  سफی  کرنا  required  ہے. \n",
      "<end_of_turn>\n"
     ]
    },
    {
     "name": "stderr",
     "output_type": "stream",
     "text": [
      "\r",
      "514it [12:21,  1.29s/it]"
     ]
    },
    {
     "name": "stdout",
     "output_type": "stream",
     "text": [
      "<bos>\n",
      "    <start_of_turn>user\n",
      "    Translate the sentence into urdu and only return the translation:\n",
      "\n",
      "    Best kebabs and roll parathas. Unmatchable taste and it keeps on getting better every time<end_of_turn>\n",
      "    <start_of_turn>model\n",
      "    کوڑے کباب اور پڑھ پارہا.  کوڑے تہاکی تہاکی تہاکی تہاکی تہاکی تہاکی تہاکی تہاکی تہاکی تہاکی تہاکی تہاکی تہاکی تہاکی تہاکی تہاکی تہاکی تہاکی تہاکی تہاکی تہاکی تہاکی تہاکی تہاکی تہاکی تہاکی تہاکی تہا\n"
     ]
    },
    {
     "name": "stderr",
     "output_type": "stream",
     "text": [
      "\r",
      "515it [12:26,  2.36s/it]"
     ]
    },
    {
     "name": "stdout",
     "output_type": "stream",
     "text": [
      "<bos>\n",
      "    <start_of_turn>user\n",
      "    Translate the sentence into urdu and only return the translation:\n",
      "\n",
      "    And why should ye not fight in the cause of Allah and of those who, being weak, are ill-treated (and oppressed)?- Men, women, and children, whose cry is: \"Our Lord! Rescue us from this town, whose people are oppressors; and raise for us from Thee one who will protect; and raise for us from Thee one who will help!\"<end_of_turn>\n",
      "    <start_of_turn>model\n",
      "    اور کیا یہ نہیں ہے کہ اللہ کی خاطر اور اس کے بندوں کی خاطر آپ جھڑپ کریں؟ -  کبھی  کبھی  کبھی  کبھی  کبھی  کبھی  کبھی  کبھی  کبھی  کبھی  کبھی  کبھی  کبھی  کبھی  کبھی  کبھی  کبھی  کبھی  کبھی  کبھی  کبھی  کبھی  کبھی  کبھی  کبھی  کب\n"
     ]
    },
    {
     "name": "stderr",
     "output_type": "stream",
     "text": [
      "\r",
      "516it [12:31,  3.12s/it]"
     ]
    },
    {
     "name": "stdout",
     "output_type": "stream",
     "text": [
      "<bos>\n",
      "    <start_of_turn>user\n",
      "    Translate the sentence into urdu and only return the translation:\n",
      "\n",
      "    Awesome dinner, awesome environment and awesome service<end_of_turn>\n",
      "    <start_of_turn>model\n",
      "    کوچے شام، بہت خوب صورت مناظر اور بہت خوب صورت خدمت \n",
      "<end_of_turn>\n"
     ]
    },
    {
     "name": "stderr",
     "output_type": "stream",
     "text": [
      "\r",
      "517it [12:31,  2.43s/it]"
     ]
    },
    {
     "name": "stdout",
     "output_type": "stream",
     "text": [
      "<bos>\n",
      "    <start_of_turn>user\n",
      "    Translate the sentence into urdu and only return the translation:\n",
      "\n",
      "    Go for the Shahi Chatak Boti, nothing else matters<end_of_turn>\n",
      "    <start_of_turn>model\n",
      "    شہا چٹکboti کی طرف بڑھیں، باقی ہر چیز نہیں \n",
      "<end_of_turn>\n"
     ]
    },
    {
     "name": "stderr",
     "output_type": "stream",
     "text": [
      "\r",
      "518it [12:32,  1.97s/it]"
     ]
    },
    {
     "name": "stdout",
     "output_type": "stream",
     "text": [
      "<bos>\n",
      "    <start_of_turn>user\n",
      "    Translate the sentence into urdu and only return the translation:\n",
      "\n",
      "    Now, when my sister-in-law puts the matter in that way, wrinkling her pretty brows, twisting her little hands, and growing wistful in the eyes, all on account of an idle scamp like myself, for whom she has no natural responsibility, I am visited with compunction.<end_of_turn>\n",
      "    <start_of_turn>model\n",
      "    میں بھائی کی بیوی نے یہ بات چھپ کر کہتے ہیں، کہ وہ چھپ کر چھپ کر چھپ کر چھپ کر چھپ کر چھپ کر چھپ کر چھپ کر چھپ کر چھپ کر چھپ کر چھپ کر چھپ کر چھپ کر چھپ کر چھپ کر چھپ کر چھپ کر چھپ کر چھپ کر چھپ کر چھپ کر چھپ کر چھپ کر چھپ کر چھپ کر چھپ کر\n"
     ]
    },
    {
     "name": "stderr",
     "output_type": "stream",
     "text": [
      "\r",
      "519it [12:37,  2.85s/it]"
     ]
    },
    {
     "name": "stdout",
     "output_type": "stream",
     "text": [
      "<bos>\n",
      "    <start_of_turn>user\n",
      "    Translate the sentence into urdu and only return the translation:\n",
      "\n",
      "    Good place for dinner with family<end_of_turn>\n",
      "    <start_of_turn>model\n",
      "    غیرہ کے لیے شام کے لیے بہترین مقام \n",
      "<end_of_turn>\n"
     ]
    },
    {
     "name": "stderr",
     "output_type": "stream",
     "text": [
      "\r",
      "520it [12:38,  2.16s/it]"
     ]
    },
    {
     "name": "stdout",
     "output_type": "stream",
     "text": [
      "<bos>\n",
      "    <start_of_turn>user\n",
      "    Translate the sentence into urdu and only return the translation:\n",
      "\n",
      "    Unique taste of Koela Karahi served on open air roof-top dinning.<end_of_turn>\n",
      "    <start_of_turn>model\n",
      "    کوئلا کراہی کے ایکedi  عطر  روفی   Dining  \n",
      "<end_of_turn>\n"
     ]
    },
    {
     "name": "stderr",
     "output_type": "stream",
     "text": [
      "\r",
      "521it [12:39,  1.76s/it]"
     ]
    },
    {
     "name": "stdout",
     "output_type": "stream",
     "text": [
      "<bos>\n",
      "    <start_of_turn>user\n",
      "    Translate the sentence into urdu and only return the translation:\n",
      "\n",
      "    And all the city was gathered together at the door .<end_of_turn>\n",
      "    <start_of_turn>model\n",
      "    کل شہر درو پر جمع ہو گیا۔ \n",
      "<end_of_turn>\n"
     ]
    },
    {
     "name": "stderr",
     "output_type": "stream",
     "text": [
      "\r",
      "522it [12:39,  1.36s/it]"
     ]
    },
    {
     "name": "stdout",
     "output_type": "stream",
     "text": [
      "<bos>\n",
      "    <start_of_turn>user\n",
      "    Translate the sentence into urdu and only return the translation:\n",
      "\n",
      "    A little enjoyment, then for them awaits a painful chastisement.<end_of_turn>\n",
      "    <start_of_turn>model\n",
      "    کوئی خوشحالی، بعد میں ان کے لیے ایک دردناک chastisement awaits. \n",
      "<end_of_turn>\n"
     ]
    },
    {
     "name": "stderr",
     "output_type": "stream",
     "text": [
      "\r",
      "523it [12:40,  1.20s/it]"
     ]
    },
    {
     "name": "stdout",
     "output_type": "stream",
     "text": [
      "<bos>\n",
      "    <start_of_turn>user\n",
      "    Translate the sentence into urdu and only return the translation:\n",
      "\n",
      "    Taste is good. Ambience manageable.\n",
      "Price is good also.\n",
      "Can't say much about the hygiene<end_of_turn>\n",
      "    <start_of_turn>model\n",
      "    مذاق بہت اچا ہے۔  عالم بہت قابلِ تحمل ہے۔  قیمت بہت اچا ہے۔  حیاتی کی باتیں نہیں کر سکتا۔ \n",
      "<end_of_turn>\n"
     ]
    },
    {
     "name": "stderr",
     "output_type": "stream",
     "text": [
      "\r",
      "524it [12:41,  1.33s/it]"
     ]
    },
    {
     "name": "stdout",
     "output_type": "stream",
     "text": [
      "<bos>\n",
      "    <start_of_turn>user\n",
      "    Translate the sentence into urdu and only return the translation:\n",
      "\n",
      "    Food is nice but seating arrangement is not so good<end_of_turn>\n",
      "    <start_of_turn>model\n",
      "    غذا خوب ہے لیکن seating arrangement نہیں بہتر \n",
      "<end_of_turn>\n"
     ]
    },
    {
     "name": "stderr",
     "output_type": "stream",
     "text": [
      "\r",
      "525it [12:42,  1.10s/it]"
     ]
    },
    {
     "name": "stdout",
     "output_type": "stream",
     "text": [
      "<bos>\n",
      "    <start_of_turn>user\n",
      "    Translate the sentence into urdu and only return the translation:\n",
      "\n",
      "    (Translated by Google) Acha hy\n",
      "\n",
      "(Original)\n",
      "Acha hy<end_of_turn>\n",
      "    <start_of_turn>model\n",
      "    خوب ہے \n",
      "<end_of_turn>\n"
     ]
    },
    {
     "name": "stderr",
     "output_type": "stream",
     "text": [
      "\r",
      "526it [12:42,  1.20it/s]"
     ]
    },
    {
     "name": "stdout",
     "output_type": "stream",
     "text": [
      "<bos>\n",
      "    <start_of_turn>user\n",
      "    Translate the sentence into urdu and only return the translation:\n",
      "\n",
      "    Excelent food and reasonable price<end_of_turn>\n",
      "    <start_of_turn>model\n",
      "    خوب غذا اور مناسب قیمت \n",
      "<end_of_turn>\n"
     ]
    },
    {
     "name": "stderr",
     "output_type": "stream",
     "text": [
      "\r",
      "527it [12:43,  1.46it/s]"
     ]
    },
    {
     "name": "stdout",
     "output_type": "stream",
     "text": [
      "<bos>\n",
      "    <start_of_turn>user\n",
      "    Translate the sentence into urdu and only return the translation:\n",
      "\n",
      "    (Translated by Google) Delicious, deliciously flavorful<end_of_turn>\n",
      "    <start_of_turn>model\n",
      "    خوشمزه، خوشمزه \n",
      "<end_of_turn>\n"
     ]
    },
    {
     "name": "stderr",
     "output_type": "stream",
     "text": [
      "\r",
      "528it [12:43,  1.66it/s]"
     ]
    },
    {
     "name": "stdout",
     "output_type": "stream",
     "text": [
      "<bos>\n",
      "    <start_of_turn>user\n",
      "    Translate the sentence into urdu and only return the translation:\n",
      "\n",
      "    In the start it was really good but now they have increased their prices and lowered their quality n taste<end_of_turn>\n",
      "    <start_of_turn>model\n",
      "    ابتلا  کیا  خوب  ہے  لیکن  اگے  کیا  اور  کیا  اور  کیا  اور  کیا  اور  کیا  اور  کیا  اور  کیا  اور  کیا  اور  کیا  اور  کیا  اور  کیا  اور  کیا  اور  کیا  اور  کیا  اور  کیا  اور  کیا  اور  کیا  اور  کیا  اور  کیا  اور  کیا  اور  کیا  اور  کیا  اور  \n"
     ]
    },
    {
     "name": "stderr",
     "output_type": "stream",
     "text": [
      "\r",
      "529it [12:48,  1.87s/it]"
     ]
    },
    {
     "name": "stdout",
     "output_type": "stream",
     "text": [
      "<bos>\n",
      "    <start_of_turn>user\n",
      "    Translate the sentence into urdu and only return the translation:\n",
      "\n",
      "    Koyla karahai and boneless handi is special<end_of_turn>\n",
      "    <start_of_turn>model\n",
      "    کوئیلا چاہرے اور boneless handi speciality ہے۔ \n",
      "<end_of_turn>\n"
     ]
    },
    {
     "name": "stderr",
     "output_type": "stream",
     "text": [
      "\r",
      "530it [12:48,  1.49s/it]"
     ]
    },
    {
     "name": "stdout",
     "output_type": "stream",
     "text": [
      "<bos>\n",
      "    <start_of_turn>user\n",
      "    Translate the sentence into urdu and only return the translation:\n",
      "\n",
      "    Average taste of Sjji<end_of_turn>\n",
      "    <start_of_turn>model\n",
      "    میں اس کی  تائید نہیں کر سکتا. \n",
      "<end_of_turn>\n"
     ]
    },
    {
     "name": "stderr",
     "output_type": "stream",
     "text": [
      "\r",
      "531it [12:49,  1.24s/it]"
     ]
    },
    {
     "name": "stdout",
     "output_type": "stream",
     "text": [
      "<bos>\n",
      "    <start_of_turn>user\n",
      "    Translate the sentence into urdu and only return the translation:\n",
      "\n",
      "    Good food but no proper sitting arrangement<end_of_turn>\n",
      "    <start_of_turn>model\n",
      "    خوب کھانا ہے لیکن مناسب نشین arrangements نہیں \n",
      "<end_of_turn>\n"
     ]
    },
    {
     "name": "stderr",
     "output_type": "stream",
     "text": [
      "\r",
      "532it [12:50,  1.04s/it]"
     ]
    },
    {
     "name": "stdout",
     "output_type": "stream",
     "text": [
      "<bos>\n",
      "    <start_of_turn>user\n",
      "    Translate the sentence into urdu and only return the translation:\n",
      "\n",
      "    Oh Allah forgive the entire Muslim Ummah.<end_of_turn>\n",
      "    <start_of_turn>model\n",
      "    اے اللہ، ہر مسلمان عُوامی کو بخشا۔ \n",
      "<end_of_turn>\n"
     ]
    },
    {
     "name": "stderr",
     "output_type": "stream",
     "text": [
      "\r",
      "533it [12:50,  1.07it/s]"
     ]
    },
    {
     "name": "stdout",
     "output_type": "stream",
     "text": [
      "<bos>\n",
      "    <start_of_turn>user\n",
      "    Translate the sentence into urdu and only return the translation:\n",
      "\n",
      "    A must visit place for fresh and tasty seafood as well as other items<end_of_turn>\n",
      "    <start_of_turn>model\n",
      "    ایک پھلے اور تیز  یہا  یہا  یہا  یہا  یہا  یہا  یہا  یہا  یہا  یہا  یہا  یہا  یہا  یہا  یہا  یہا  یہا  یہا  یہا  یہا  یہا  یہا  یہا  یہا  یہا  یہا  یہا  یہا  یہا  یہا\n"
     ]
    },
    {
     "name": "stderr",
     "output_type": "stream",
     "text": [
      "\r",
      "534it [12:55,  2.17s/it]"
     ]
    },
    {
     "name": "stdout",
     "output_type": "stream",
     "text": [
      "<bos>\n",
      "    <start_of_turn>user\n",
      "    Translate the sentence into urdu and only return the translation:\n",
      "\n",
      "    What have you for dessert?<end_of_turn>\n",
      "    <start_of_turn>model\n",
      "    یہ کیا ڈیسر ہے؟ \n",
      "<end_of_turn>\n"
     ]
    },
    {
     "name": "stderr",
     "output_type": "stream",
     "text": [
      "\r",
      "535it [12:56,  1.66s/it]"
     ]
    },
    {
     "name": "stdout",
     "output_type": "stream",
     "text": [
      "<bos>\n",
      "    <start_of_turn>user\n",
      "    Translate the sentence into urdu and only return the translation:\n",
      "\n",
      "    Small but gud<end_of_turn>\n",
      "    <start_of_turn>model\n",
      "    کوچک ولی خوب \n",
      "<end_of_turn>\n"
     ]
    },
    {
     "name": "stderr",
     "output_type": "stream",
     "text": [
      "\r",
      "536it [12:56,  1.25s/it]"
     ]
    },
    {
     "name": "stdout",
     "output_type": "stream",
     "text": [
      "<bos>\n",
      "    <start_of_turn>user\n",
      "    Translate the sentence into urdu and only return the translation:\n",
      "\n",
      "    Nice place for breakfast and other items<end_of_turn>\n",
      "    <start_of_turn>model\n",
      "    خوبہ  صبح کھانا اور دیگر اشیا کی جگہ \n",
      "<end_of_turn>\n"
     ]
    },
    {
     "name": "stderr",
     "output_type": "stream",
     "text": [
      "\r",
      "537it [12:57,  1.10s/it]"
     ]
    },
    {
     "name": "stdout",
     "output_type": "stream",
     "text": [
      "<bos>\n",
      "    <start_of_turn>user\n",
      "    Translate the sentence into urdu and only return the translation:\n",
      "\n",
      "    Ambience is good, taste of food is ok<end_of_turn>\n",
      "    <start_of_turn>model\n",
      "    فضلا خوب ہے، پکوان کا تازہ  ہے \n",
      "<end_of_turn>\n"
     ]
    },
    {
     "name": "stderr",
     "output_type": "stream",
     "text": [
      "\r",
      "538it [12:58,  1.01it/s]"
     ]
    },
    {
     "name": "stdout",
     "output_type": "stream",
     "text": [
      "<bos>\n",
      "    <start_of_turn>user\n",
      "    Translate the sentence into urdu and only return the translation:\n",
      "\n",
      "    The teacher is punishing the student.<end_of_turn>\n",
      "    <start_of_turn>model\n",
      "    učارے نے طالب علم کو پکڑا ہے۔ \n",
      "<end_of_turn>\n"
     ]
    },
    {
     "name": "stderr",
     "output_type": "stream",
     "text": [
      "\r",
      "539it [12:58,  1.13it/s]"
     ]
    },
    {
     "name": "stdout",
     "output_type": "stream",
     "text": [
      "<bos>\n",
      "    <start_of_turn>user\n",
      "    Translate the sentence into urdu and only return the translation:\n",
      "\n",
      "    Average place and food<end_of_turn>\n",
      "    <start_of_turn>model\n",
      "    ممتاز مکان اور کھانا \n",
      "<end_of_turn>\n"
     ]
    },
    {
     "name": "stderr",
     "output_type": "stream",
     "text": [
      "\r",
      "540it [12:59,  1.35it/s]"
     ]
    },
    {
     "name": "stdout",
     "output_type": "stream",
     "text": [
      "<bos>\n",
      "    <start_of_turn>user\n",
      "    Translate the sentence into urdu and only return the translation:\n",
      "\n",
      "    Please understand.<end_of_turn>\n",
      "    <start_of_turn>model\n",
      "    پھر سمجھ لیں. \n",
      "<end_of_turn>\n"
     ]
    },
    {
     "name": "stderr",
     "output_type": "stream",
     "text": [
      "\r",
      "541it [12:59,  1.53it/s]"
     ]
    },
    {
     "name": "stdout",
     "output_type": "stream",
     "text": [
      "<bos>\n",
      "    <start_of_turn>user\n",
      "    Translate the sentence into urdu and only return the translation:\n",
      "\n",
      "    I have been robbed.<end_of_turn>\n",
      "    <start_of_turn>model\n",
      "    مجھ سے چھپ کر لیا گیا ہے۔ \n",
      "<end_of_turn>\n"
     ]
    },
    {
     "name": "stderr",
     "output_type": "stream",
     "text": [
      "\r",
      "542it [13:00,  1.58it/s]"
     ]
    },
    {
     "name": "stdout",
     "output_type": "stream",
     "text": [
      "<bos>\n",
      "    <start_of_turn>user\n",
      "    Translate the sentence into urdu and only return the translation:\n",
      "\n",
      "    Zabardast bhytreen unmda laziz food hi, i love it<end_of_turn>\n",
      "    <start_of_turn>model\n",
      "    بھیرے سے  یہ  لزیز  غذہ  میں  لگتا  ہے، میں  یہ  محبت  کرتا  ہا \n",
      "<end_of_turn>\n"
     ]
    },
    {
     "name": "stderr",
     "output_type": "stream",
     "text": [
      "\r",
      "543it [13:01,  1.04it/s]"
     ]
    },
    {
     "name": "stdout",
     "output_type": "stream",
     "text": [
      "<bos>\n",
      "    <start_of_turn>user\n",
      "    Translate the sentence into urdu and only return the translation:\n",
      "\n",
      "    (Translated by Google) Awesum food specially boiled\n",
      "\n",
      "(Original)\n",
      "Awesum food specially keema<end_of_turn>\n",
      "    <start_of_turn>model\n",
      "    خوب غذا خاص طور پر پکڑا ہوا \n",
      "<end_of_turn>\n"
     ]
    },
    {
     "name": "stderr",
     "output_type": "stream",
     "text": [
      "\r",
      "544it [13:02,  1.20it/s]"
     ]
    },
    {
     "name": "stdout",
     "output_type": "stream",
     "text": [
      "<bos>\n",
      "    <start_of_turn>user\n",
      "    Translate the sentence into urdu and only return the translation:\n",
      "\n",
      "    Delicious food.<end_of_turn>\n",
      "    <start_of_turn>model\n",
      "    طعم لذیذ \n",
      "<end_of_turn>\n"
     ]
    },
    {
     "name": "stderr",
     "output_type": "stream",
     "text": [
      "\r",
      "545it [13:02,  1.43it/s]"
     ]
    },
    {
     "name": "stdout",
     "output_type": "stream",
     "text": [
      "<bos>\n",
      "    <start_of_turn>user\n",
      "    Translate the sentence into urdu and only return the translation:\n",
      "\n",
      "    They said: \"Truly Joseph and his brother are loved more by our father than we: But we are a goodly body! really our father is obviously wandering (in his mind)!<end_of_turn>\n",
      "    <start_of_turn>model\n",
      "    \"ہم نے کہا: \"یہاں، جوسیف اور اس کے بھائی کے والد کے ہاں ہم سے زیادہ محبت کی جاتی ہے، لیکن ہم ایک بہت خوبصورت جسم ہیں! حقیقتاً والدین کا خیال گھل گھل رہا ہے۔\" \n",
      "<end_of_turn>\n"
     ]
    },
    {
     "name": "stderr",
     "output_type": "stream",
     "text": [
      "\r",
      "546it [13:05,  1.33s/it]"
     ]
    },
    {
     "name": "stdout",
     "output_type": "stream",
     "text": [
      "<bos>\n",
      "    <start_of_turn>user\n",
      "    Translate the sentence into urdu and only return the translation:\n",
      "\n",
      "    \n",
      "\n",
      "“Yes; but first give me this letter<end_of_turn>\n",
      "    <start_of_turn>model\n",
      "    \"हाँ، پہلے یہ لکیر دلاؤ\" \n",
      "<end_of_turn>\n"
     ]
    },
    {
     "name": "stderr",
     "output_type": "stream",
     "text": [
      "\r",
      "547it [13:06,  1.13s/it]"
     ]
    },
    {
     "name": "stdout",
     "output_type": "stream",
     "text": [
      "<bos>\n",
      "    <start_of_turn>user\n",
      "    Translate the sentence into urdu and only return the translation:\n",
      "\n",
      "    Average<end_of_turn>\n",
      "    <start_of_turn>model\n",
      "    میانگین \n",
      "<end_of_turn>\n"
     ]
    },
    {
     "name": "stderr",
     "output_type": "stream",
     "text": [
      "\r",
      "548it [13:06,  1.15it/s]"
     ]
    },
    {
     "name": "stdout",
     "output_type": "stream",
     "text": [
      "<bos>\n",
      "    <start_of_turn>user\n",
      "    Translate the sentence into urdu and only return the translation:\n",
      "\n",
      "    Good food and loved the ambience.<end_of_turn>\n",
      "    <start_of_turn>model\n",
      "    خوب کھانا اور خوبAMBIence کا  \n",
      "<end_of_turn>\n"
     ]
    },
    {
     "name": "stderr",
     "output_type": "stream",
     "text": [
      "\r",
      "549it [13:07,  1.33it/s]"
     ]
    },
    {
     "name": "stdout",
     "output_type": "stream",
     "text": [
      "<bos>\n",
      "    <start_of_turn>user\n",
      "    Translate the sentence into urdu and only return the translation:\n",
      "\n",
      "    Paneer Reshmi is love<end_of_turn>\n",
      "    <start_of_turn>model\n",
      "    پانییر رشمی میں محبت ہے \n",
      "<end_of_turn>\n"
     ]
    },
    {
     "name": "stderr",
     "output_type": "stream",
     "text": [
      "\r",
      "550it [13:07,  1.44it/s]"
     ]
    },
    {
     "name": "stdout",
     "output_type": "stream",
     "text": [
      "<bos>\n",
      "    <start_of_turn>user\n",
      "    Translate the sentence into urdu and only return the translation:\n",
      "\n",
      "    I am not married yet.<end_of_turn>\n",
      "    <start_of_turn>model\n",
      "    مجھے अभी شادی ہوئی نہیں ہے۔ \n",
      "<end_of_turn>\n"
     ]
    },
    {
     "name": "stderr",
     "output_type": "stream",
     "text": [
      "\r",
      "551it [13:08,  1.59it/s]"
     ]
    },
    {
     "name": "stdout",
     "output_type": "stream",
     "text": [
      "<bos>\n",
      "    <start_of_turn>user\n",
      "    Translate the sentence into urdu and only return the translation:\n",
      "\n",
      "    A committee of five was appointed.<end_of_turn>\n",
      "    <start_of_turn>model\n",
      "    پنج افراد کی کمیٹی کا انتخاب کیا گیا۔ \n",
      "<end_of_turn>\n"
     ]
    },
    {
     "name": "stderr",
     "output_type": "stream",
     "text": [
      "\r",
      "552it [13:08,  1.62it/s]"
     ]
    },
    {
     "name": "stdout",
     "output_type": "stream",
     "text": [
      "<bos>\n",
      "    <start_of_turn>user\n",
      "    Translate the sentence into urdu and only return the translation:\n",
      "\n",
      "    Super ❤️<end_of_turn>\n",
      "    <start_of_turn>model\n",
      "    پر ❤️ \n",
      "<end_of_turn>\n"
     ]
    },
    {
     "name": "stderr",
     "output_type": "stream",
     "text": [
      "\r",
      "553it [13:08,  2.00it/s]"
     ]
    },
    {
     "name": "stdout",
     "output_type": "stream",
     "text": [
      "<bos>\n",
      "    <start_of_turn>user\n",
      "    Translate the sentence into urdu and only return the translation:\n",
      "\n",
      "    I didn’t say I didn’t believe you.<end_of_turn>\n",
      "    <start_of_turn>model\n",
      "    میں نے کہا نہیں کہ میں نے تو باور نہیں کیا۔ \n",
      "<end_of_turn>\n"
     ]
    },
    {
     "name": "stderr",
     "output_type": "stream",
     "text": [
      "\r",
      "554it [13:09,  1.78it/s]"
     ]
    },
    {
     "name": "stdout",
     "output_type": "stream",
     "text": [
      "<bos>\n",
      "    <start_of_turn>user\n",
      "    Translate the sentence into urdu and only return the translation:\n",
      "\n",
      "    And Jesus knew their thoughts , and said unto them , Every kingdom divided against itself is brought to desolation ; and every city or house divided against itself shall not stand .<end_of_turn>\n",
      "    <start_of_turn>model\n",
      "    یہیں جیسے لوگ اپنے خیالات کو سمجھتے ہیں، اور کہتے ہیں: \"ہر ملک خود کو تقسیم کر کے ختم ہو جاتا ہے، اور ہر شہر یا گھر خود کو تقسیم کر کے قائم نہیں رہا۔\" \n",
      "<end_of_turn>\n"
     ]
    },
    {
     "name": "stderr",
     "output_type": "stream",
     "text": [
      "\r",
      "555it [13:11,  1.11s/it]"
     ]
    },
    {
     "name": "stdout",
     "output_type": "stream",
     "text": [
      "<bos>\n",
      "    <start_of_turn>user\n",
      "    Translate the sentence into urdu and only return the translation:\n",
      "\n",
      "    Best restaurants<end_of_turn>\n",
      "    <start_of_turn>model\n",
      "    بڑے رستوں کی کھانے کی جگہیں \n",
      "<end_of_turn>\n"
     ]
    },
    {
     "name": "stderr",
     "output_type": "stream",
     "text": [
      "\r",
      "556it [13:12,  1.02it/s]"
     ]
    },
    {
     "name": "stdout",
     "output_type": "stream",
     "text": [
      "<bos>\n",
      "    <start_of_turn>user\n",
      "    Translate the sentence into urdu and only return the translation:\n",
      "\n",
      "    Look ahead.<end_of_turn>\n",
      "    <start_of_turn>model\n",
      "    ہیں آگے دیکھیں. \n",
      "<end_of_turn>\n"
     ]
    },
    {
     "name": "stderr",
     "output_type": "stream",
     "text": [
      "\r",
      "557it [13:13,  1.20it/s]"
     ]
    },
    {
     "name": "stdout",
     "output_type": "stream",
     "text": [
      "<bos>\n",
      "    <start_of_turn>user\n",
      "    Translate the sentence into urdu and only return the translation:\n",
      "\n",
      "    (Translated by Google) Best katakat n roti k to kya kehney\n",
      "\n",
      "(Original)\n",
      "Best katakat n roti k to kya kehney<end_of_turn>\n",
      "    <start_of_turn>model\n",
      "    کٹکٹ اور روٹی کی کیا کہیں \n",
      "<end_of_turn>\n"
     ]
    },
    {
     "name": "stderr",
     "output_type": "stream",
     "text": [
      "\r",
      "558it [13:13,  1.33it/s]"
     ]
    },
    {
     "name": "stdout",
     "output_type": "stream",
     "text": [
      "<bos>\n",
      "    <start_of_turn>user\n",
      "    Translate the sentence into urdu and only return the translation:\n",
      "\n",
      "    The culture and people were very interesting<end_of_turn>\n",
      "    <start_of_turn>model\n",
      "    قلم و لوگوں کی संस्कृति بہت مہکتی تھی \n",
      "<end_of_turn>\n"
     ]
    },
    {
     "name": "stderr",
     "output_type": "stream",
     "text": [
      "\r",
      "559it [13:14,  1.31it/s]"
     ]
    },
    {
     "name": "stdout",
     "output_type": "stream",
     "text": [
      "<bos>\n",
      "    <start_of_turn>user\n",
      "    Translate the sentence into urdu and only return the translation:\n",
      "\n",
      "    Worst food quality<end_of_turn>\n",
      "    <start_of_turn>model\n",
      "    نقصان کی کیفیت \n",
      "<end_of_turn>\n"
     ]
    },
    {
     "name": "stderr",
     "output_type": "stream",
     "text": [
      "\r",
      "560it [13:14,  1.57it/s]"
     ]
    },
    {
     "name": "stdout",
     "output_type": "stream",
     "text": [
      "<bos>\n",
      "    <start_of_turn>user\n",
      "    Translate the sentence into urdu and only return the translation:\n",
      "\n",
      "    What would you like to eat?<end_of_turn>\n",
      "    <start_of_turn>model\n",
      "    یہ کیا چاہتے ہیں؟ \n",
      "<end_of_turn>\n"
     ]
    },
    {
     "name": "stderr",
     "output_type": "stream",
     "text": [
      "\r",
      "561it [13:15,  1.73it/s]"
     ]
    },
    {
     "name": "stdout",
     "output_type": "stream",
     "text": [
      "<bos>\n",
      "    <start_of_turn>user\n",
      "    Translate the sentence into urdu and only return the translation:\n",
      "\n",
      "    (Translated by Google) Chicken karhai third class this Afghani boti shandaar or katakap them tha...chicken karhai J's be khai wo dobara nhi aega\n",
      "\n",
      "(Original)\n",
      "Chicken karhai third class this Afghani boti shandaar or katakap them tha...chicken karhai J's be khai wo dobara nhi aega<end_of_turn>\n",
      "    <start_of_turn>model\n",
      "    چیکن کاراھی تھیس افغان بیتی شاندرا اور کٹاکپ تھیں...چیکن کاراھی جے بی khai وہ دوبارہ nhi aega \n",
      "<end_of_turn>\n"
     ]
    },
    {
     "name": "stderr",
     "output_type": "stream",
     "text": [
      "\r",
      "562it [13:17,  1.06it/s]"
     ]
    },
    {
     "name": "stdout",
     "output_type": "stream",
     "text": [
      "<bos>\n",
      "    <start_of_turn>user\n",
      "    Translate the sentence into urdu and only return the translation:\n",
      "\n",
      "    ”\n",
      "\n",
      "“I hope to be captain without that,” said Dantès<end_of_turn>\n",
      "    <start_of_turn>model\n",
      "    \"میں وہی کپتان بننا چاہتا ہوں، یہ نہیں\" دانتس نے کہا۔ \n",
      "<end_of_turn>\n"
     ]
    },
    {
     "name": "stderr",
     "output_type": "stream",
     "text": [
      "\r",
      "563it [13:18,  1.00it/s]"
     ]
    },
    {
     "name": "stdout",
     "output_type": "stream",
     "text": [
      "<bos>\n",
      "    <start_of_turn>user\n",
      "    Translate the sentence into urdu and only return the translation:\n",
      "\n",
      "    Love the smoky koyla karhai ....<end_of_turn>\n",
      "    <start_of_turn>model\n",
      "    کوئیلا کڑھائی سے محبت ہے \n",
      "<end_of_turn>\n"
     ]
    },
    {
     "name": "stderr",
     "output_type": "stream",
     "text": [
      "\r",
      "564it [13:18,  1.15it/s]"
     ]
    },
    {
     "name": "stdout",
     "output_type": "stream",
     "text": [
      "<bos>\n",
      "    <start_of_turn>user\n",
      "    Translate the sentence into urdu and only return the translation:\n",
      "\n",
      "    Nice food and environment<end_of_turn>\n",
      "    <start_of_turn>model\n",
      "    خوب کھانا اور خوب ambient \n",
      "<end_of_turn>\n"
     ]
    },
    {
     "name": "stderr",
     "output_type": "stream",
     "text": [
      "\r",
      "565it [13:19,  1.39it/s]"
     ]
    },
    {
     "name": "stdout",
     "output_type": "stream",
     "text": [
      "<bos>\n",
      "    <start_of_turn>user\n",
      "    Translate the sentence into urdu and only return the translation:\n",
      "\n",
      "    Loved the open environment. A place wortg to go<end_of_turn>\n",
      "    <start_of_turn>model\n",
      "    فضلا پر محیط کا بہت پسند کیا. جا چلا جائے گا. \n",
      "<end_of_turn>\n"
     ]
    },
    {
     "name": "stderr",
     "output_type": "stream",
     "text": [
      "\r",
      "566it [13:19,  1.33it/s]"
     ]
    },
    {
     "name": "stdout",
     "output_type": "stream",
     "text": [
      "<bos>\n",
      "    <start_of_turn>user\n",
      "    Translate the sentence into urdu and only return the translation:\n",
      "\n",
      "    Very good BBQ with full of taste little spicy food but good in taste it's kabab yammy and service also nice need to improve cleaness and tables setting<end_of_turn>\n",
      "    <start_of_turn>model\n",
      "    بھلے بہتر BBQ ہے،   flavours میں بہت سی تھیں،  کیا ہے،  Kabab  خوب ہے،  Servis  خوب ہے،  Cleaness  کو بہتر کرنا  required  اور  tables  setting  کو  improve  کرنا  required. \n",
      "<end_of_turn>\n"
     ]
    },
    {
     "name": "stderr",
     "output_type": "stream",
     "text": [
      "\r",
      "567it [13:22,  1.29s/it]"
     ]
    },
    {
     "name": "stdout",
     "output_type": "stream",
     "text": [
      "<bos>\n",
      "    <start_of_turn>user\n",
      "    Translate the sentence into urdu and only return the translation:\n",
      "\n",
      "    Nice service, wide menu, and tasty dishes<end_of_turn>\n",
      "    <start_of_turn>model\n",
      "    بklasse خدمات، وسیع منوی، اور خوشمزه کھان \n",
      "<end_of_turn>\n"
     ]
    },
    {
     "name": "stderr",
     "output_type": "stream",
     "text": [
      "\r",
      "568it [13:23,  1.12s/it]"
     ]
    },
    {
     "name": "stdout",
     "output_type": "stream",
     "text": [
      "<bos>\n",
      "    <start_of_turn>user\n",
      "    Translate the sentence into urdu and only return the translation:\n",
      "\n",
      "    Best BBQ in Karachi<end_of_turn>\n",
      "    <start_of_turn>model\n",
      "    Karachi میں بہترین BBQ \n",
      "<end_of_turn>\n"
     ]
    },
    {
     "name": "stderr",
     "output_type": "stream",
     "text": [
      "\r",
      "569it [13:23,  1.12it/s]"
     ]
    },
    {
     "name": "stdout",
     "output_type": "stream",
     "text": [
      "<bos>\n",
      "    <start_of_turn>user\n",
      "    Translate the sentence into urdu and only return the translation:\n",
      "\n",
      "    Overrated place, no taste, no ambiance and no quality<end_of_turn>\n",
      "    <start_of_turn>model\n",
      "    پر overrated  plac,  tastes  ,  ambiance  ,  aur  quality  \n",
      "<end_of_turn>\n"
     ]
    },
    {
     "name": "stderr",
     "output_type": "stream",
     "text": [
      "\r",
      "570it [13:24,  1.13it/s]"
     ]
    },
    {
     "name": "stdout",
     "output_type": "stream",
     "text": [
      "<bos>\n",
      "    <start_of_turn>user\n",
      "    Translate the sentence into urdu and only return the translation:\n",
      "\n",
      "    ”\n",
      "\n",
      "“My love,” said the marquise, “attend to your doves, your lap-dogs, and embroidery, but do not meddle with what you do not understand<end_of_turn>\n",
      "    <start_of_turn>model\n",
      "    \"مجھ سے محبت ہے، مہمک نے کہا، \"اپنی گھڑیوں،  اپنی  لپ ڈاگوں اور   embroideries  کو دیکھیں،  لیکن  یہ  کو  یہ  کو  یہ  کو  یہ  کو  یہ  کو  یہ  کو  یہ  کو  یہ  کو  یہ  کو  یہ  کو  یہ  کو  یہ  کو  یہ  کو  یہ  کو  یہ  کو  یہ  \n"
     ]
    },
    {
     "name": "stderr",
     "output_type": "stream",
     "text": [
      "\r",
      "571it [13:29,  2.08s/it]"
     ]
    },
    {
     "name": "stdout",
     "output_type": "stream",
     "text": [
      "<bos>\n",
      "    <start_of_turn>user\n",
      "    Translate the sentence into urdu and only return the translation:\n",
      "\n",
      "    Great full keep it up good work<end_of_turn>\n",
      "    <start_of_turn>model\n",
      "    بڑا شکر ہے، یہ جاری رکھیں، بہترین کام \n",
      "<end_of_turn>\n"
     ]
    },
    {
     "name": "stderr",
     "output_type": "stream",
     "text": [
      "\r",
      "572it [13:30,  1.67s/it]"
     ]
    },
    {
     "name": "stdout",
     "output_type": "stream",
     "text": [
      "<bos>\n",
      "    <start_of_turn>user\n",
      "    Translate the sentence into urdu and only return the translation:\n",
      "\n",
      "    According to a study of secondary-school children in England<end_of_turn>\n",
      "    <start_of_turn>model\n",
      "    آپ کے مطابق انگلینڈ میں二级ری سکول بچوں کی ایک سے ایک تحقیق کے مطابق \n",
      "<end_of_turn>\n"
     ]
    },
    {
     "name": "stderr",
     "output_type": "stream",
     "text": [
      "\r",
      "573it [13:31,  1.51s/it]"
     ]
    },
    {
     "name": "stdout",
     "output_type": "stream",
     "text": [
      "<bos>\n",
      "    <start_of_turn>user\n",
      "    Translate the sentence into urdu and only return the translation:\n",
      "\n",
      "    Why not write your spiritual routine on a calendar and see if you can maintain it for a month without your parents’ having to prod you to do so?<end_of_turn>\n",
      "    <start_of_turn>model\n",
      "    کیا نہیں لکھیں آپ کی روحانی عادتوں کو ایک مہینے کے لیے ایک تقویم پر لکھیں اور آپ کی والدین کی مدد سے آپ کی عادتوں کو برقرار رکھنے کی کوشش کریں؟ \n",
      "<end_of_turn>\n"
     ]
    },
    {
     "name": "stderr",
     "output_type": "stream",
     "text": [
      "\r",
      "574it [13:33,  1.77s/it]"
     ]
    },
    {
     "name": "stdout",
     "output_type": "stream",
     "text": [
      "<bos>\n",
      "    <start_of_turn>user\n",
      "    Translate the sentence into urdu and only return the translation:\n",
      "\n",
      "    Nihari is fine, good place to bring ur family, but the nihari is always cold :((((<end_of_turn>\n",
      "    <start_of_turn>model\n",
      "    نِحاری ठीक ہے،  عائلی گھریلو  آپ کی جگہ ہے، لیکن نِحاری  کبھی  سرد  ہے :(((( \n",
      "<end_of_turn>\n"
     ]
    },
    {
     "name": "stderr",
     "output_type": "stream",
     "text": [
      "\r",
      "575it [13:35,  1.75s/it]"
     ]
    },
    {
     "name": "stdout",
     "output_type": "stream",
     "text": [
      "<bos>\n",
      "    <start_of_turn>user\n",
      "    Translate the sentence into urdu and only return the translation:\n",
      "\n",
      "    Nice & very tasty food I like mutton Karhhi We visited 2 times and we very satisfied.<end_of_turn>\n",
      "    <start_of_turn>model\n",
      "    خوب اور بہت تیز کھانا میں لکھا ہے،  مUTTON karhi  ہیں، ہم نے دو بار گئے اور ہم بہت راضی ہیں۔ \n",
      "<end_of_turn>\n"
     ]
    },
    {
     "name": "stderr",
     "output_type": "stream",
     "text": [
      "\r",
      "576it [13:36,  1.68s/it]"
     ]
    },
    {
     "name": "stdout",
     "output_type": "stream",
     "text": [
      "<bos>\n",
      "    <start_of_turn>user\n",
      "    Translate the sentence into urdu and only return the translation:\n",
      "\n",
      "    A perfect place for bar b q for guys<end_of_turn>\n",
      "    <start_of_turn>model\n",
      "    ایک  BBQ  کے لیے ایک بہترین  مکان  \n",
      "<end_of_turn>\n"
     ]
    },
    {
     "name": "stderr",
     "output_type": "stream",
     "text": [
      "\r",
      "577it [13:37,  1.36s/it]"
     ]
    },
    {
     "name": "stdout",
     "output_type": "stream",
     "text": [
      "<bos>\n",
      "    <start_of_turn>user\n",
      "    Translate the sentence into urdu and only return the translation:\n",
      "\n",
      "    The elder man approached me, beckoning the younger to follow.<end_of_turn>\n",
      "    <start_of_turn>model\n",
      "    بڑا آدمی میں آگے آیا،  کبھی  پہلے کو چلا گیا۔ \n",
      "<end_of_turn>\n"
     ]
    },
    {
     "name": "stderr",
     "output_type": "stream",
     "text": [
      "\r",
      "578it [13:38,  1.27s/it]"
     ]
    },
    {
     "name": "stdout",
     "output_type": "stream",
     "text": [
      "<bos>\n",
      "    <start_of_turn>user\n",
      "    Translate the sentence into urdu and only return the translation:\n",
      "\n",
      "    Not a place to visit on weekend !<end_of_turn>\n",
      "    <start_of_turn>model\n",
      "    ہ weekend پر گزرتے نہیں! \n",
      "<end_of_turn>\n"
     ]
    },
    {
     "name": "stderr",
     "output_type": "stream",
     "text": [
      "\r",
      "579it [13:38,  1.04s/it]"
     ]
    },
    {
     "name": "stdout",
     "output_type": "stream",
     "text": [
      "<bos>\n",
      "    <start_of_turn>user\n",
      "    Translate the sentence into urdu and only return the translation:\n",
      "\n",
      "    Best taste<end_of_turn>\n",
      "    <start_of_turn>model\n",
      "    کے بہترین تذکیر \n",
      "<end_of_turn>\n"
     ]
    },
    {
     "name": "stderr",
     "output_type": "stream",
     "text": [
      "\r",
      "580it [13:39,  1.17it/s]"
     ]
    },
    {
     "name": "stdout",
     "output_type": "stream",
     "text": [
      "<bos>\n",
      "    <start_of_turn>user\n",
      "    Translate the sentence into urdu and only return the translation:\n",
      "\n",
      "     and a perfect morning to grab his board and head out for a surf.<end_of_turn>\n",
      "    <start_of_turn>model\n",
      "    صبح ایک بہترین اور  سنگل  ہے  جہاں  اس  بڑا  سنگل  کے  ایک  سنگل  ہے  اور  سنگل  کے  ایک  سنگل  ہے  اور  سنگل  کے  ایک  سنگل  ہے  اور  سنگل  کے  ایک  سنگل  ہے  اور  سنگل  کے  ایک  سنگل  ہے  اور  سنگل  کے  ایک  سنگل  ہے\n"
     ]
    },
    {
     "name": "stderr",
     "output_type": "stream",
     "text": [
      "\r",
      "581it [13:44,  2.07s/it]"
     ]
    },
    {
     "name": "stdout",
     "output_type": "stream",
     "text": [
      "<bos>\n",
      "    <start_of_turn>user\n",
      "    Translate the sentence into urdu and only return the translation:\n",
      "\n",
      "    Once it was good restaurant and taste but now it completed its time because of their high rates and lack of taste<end_of_turn>\n",
      "    <start_of_turn>model\n",
      "    پہلے یہ ایک خوبصورتrestaurant تھیں اور تھکے بھی، لیکن اب یہ اپنے висо کی گھروں اور تھکے کی کمی کی وجہ سے اپنا وقت ختم کر چکا ہے۔ \n",
      "<end_of_turn>\n"
     ]
    },
    {
     "name": "stderr",
     "output_type": "stream",
     "text": [
      "\r",
      "582it [13:46,  2.09s/it]"
     ]
    },
    {
     "name": "stdout",
     "output_type": "stream",
     "text": [
      "<bos>\n",
      "    <start_of_turn>user\n",
      "    Translate the sentence into urdu and only return the translation:\n",
      "\n",
      "    (Translated by Google) Sust service or thanda khana<end_of_turn>\n",
      "    <start_of_turn>model\n",
      "    سُتْ سِرْوی  یا  thanda khana \n",
      "<end_of_turn>\n"
     ]
    },
    {
     "name": "stderr",
     "output_type": "stream",
     "text": [
      "\r",
      "583it [13:47,  1.69s/it]"
     ]
    },
    {
     "name": "stdout",
     "output_type": "stream",
     "text": [
      "<bos>\n",
      "    <start_of_turn>user\n",
      "    Translate the sentence into urdu and only return the translation:\n",
      "\n",
      "    And there came a leper to him , beseeching him , and kneeling down to him , and saying unto him , If thou wilt , thou canst make me clean .<end_of_turn>\n",
      "    <start_of_turn>model\n",
      "    انے  ایک  زہری  آپ  کی  ساتھ  آپ  کی  ساتھ  آپ  کی  ساتھ  آپ  کی  ساتھ  آپ  کی  ساتھ  آپ  کی  ساتھ  آپ  کی  ساتھ  آپ  کی  ساتھ  آپ  کی  ساتھ  آپ  کی  ساتھ  آپ  کی  ساتھ  آپ  کی  ساتھ  آپ  کی  ساتھ  آپ  کی  ساتھ  آپ  کی  ساتھ\n"
     ]
    },
    {
     "name": "stderr",
     "output_type": "stream",
     "text": [
      "\r",
      "584it [13:52,  2.70s/it]"
     ]
    },
    {
     "name": "stdout",
     "output_type": "stream",
     "text": [
      "<bos>\n",
      "    <start_of_turn>user\n",
      "    Translate the sentence into urdu and only return the translation:\n",
      "\n",
      "    Very nice hygienic and excellent taste in that area . All items are good especially kababs and spicy chicken and dhaga bin kabab. Keep it up.<end_of_turn>\n",
      "    <start_of_turn>model\n",
      "    یہاں بہت اچھا، صاف اور بہت تیز۔  ہر چیز بہت اچھی ہے، خاص طور پر کباب، تیز چکن اور ڈھگ بین کباب۔  یہیں مزید بہتر کریں۔ \n",
      "<end_of_turn>\n"
     ]
    },
    {
     "name": "stderr",
     "output_type": "stream",
     "text": [
      "\r",
      "585it [13:54,  2.61s/it]"
     ]
    },
    {
     "name": "stdout",
     "output_type": "stream",
     "text": [
      "<bos>\n",
      "    <start_of_turn>user\n",
      "    Translate the sentence into urdu and only return the translation:\n",
      "\n",
      "    Great food specially their nihari, brain masala and malai botibare a mustvtry if u are into desi food items<end_of_turn>\n",
      "    <start_of_turn>model\n",
      "    خوب غذا، خاص طور kia  نیhari،  brain masala  اور  malai botibare  ایک ضرور  try  کرنا  ہے  اگر  desi  food  items  کو  like  کر  رہے  \n",
      "<end_of_turn>\n"
     ]
    },
    {
     "name": "stderr",
     "output_type": "stream",
     "text": [
      "\r",
      "586it [13:56,  2.47s/it]"
     ]
    },
    {
     "name": "stdout",
     "output_type": "stream",
     "text": [
      "<bos>\n",
      "    <start_of_turn>user\n",
      "    Translate the sentence into urdu and only return the translation:\n",
      "\n",
      "    You fool! said he. \"Come here.\"<end_of_turn>\n",
      "    <start_of_turn>model\n",
      "    तुम  لُجّ!  کہا  ہا  \"آ  ہا\" \n",
      "<end_of_turn>\n"
     ]
    },
    {
     "name": "stderr",
     "output_type": "stream",
     "text": [
      "\r",
      "587it [13:57,  2.01s/it]"
     ]
    },
    {
     "name": "stdout",
     "output_type": "stream",
     "text": [
      "<bos>\n",
      "    <start_of_turn>user\n",
      "    Translate the sentence into urdu and only return the translation:\n",
      "\n",
      "    (Translated by Google) Bohot acha aur laziz dinner tha<end_of_turn>\n",
      "    <start_of_turn>model\n",
      "    بہت اچا اور لازیم شام تھ<eos>\n"
     ]
    },
    {
     "name": "stderr",
     "output_type": "stream",
     "text": [
      "\r",
      "588it [13:58,  1.58s/it]"
     ]
    },
    {
     "name": "stdout",
     "output_type": "stream",
     "text": [
      "<bos>\n",
      "    <start_of_turn>user\n",
      "    Translate the sentence into urdu and only return the translation:\n",
      "\n",
      "     and increases the risk of heart disease by up to four times Clogged artery Lungs Destroys air sacs<end_of_turn>\n",
      "    <start_of_turn>model\n",
      "    اور   coronary arteries میں  کثرت سے   coronary arteries میں  کثرت سے   coronary arteries میں  کثرت سے   coronary arteries میں  کثرت سے   coronary arteries میں  کثرت سے   coronary arteries میں  کثرت سے   coronary arteries میں  کثرت سے   coronary arteries میں  کثرت سے   coronary arteries میں  کثرت سے   coronary arteries میں  کثرت سے   coronary arteries میں  کثرت سے   coronary arteries میں  کثرت سے   coronary arteries میں  کثرت سے   coronary arteries میں  کثرت سے  \n"
     ]
    },
    {
     "name": "stderr",
     "output_type": "stream",
     "text": [
      "\r",
      "589it [14:03,  2.60s/it]"
     ]
    },
    {
     "name": "stdout",
     "output_type": "stream",
     "text": [
      "<bos>\n",
      "    <start_of_turn>user\n",
      "    Translate the sentence into urdu and only return the translation:\n",
      "\n",
      "    Great, old and very famous name in Gulshan Iqbal. Ideal environment inside. Food is Okay<end_of_turn>\n",
      "    <start_of_turn>model\n",
      "    خوب، قدیم اور بہت مشہور نام گُلشاں Iqbal میں۔  عالمی منظر موجود ہے۔ کھانا satisfactory ہے۔ \n",
      "<end_of_turn>\n"
     ]
    },
    {
     "name": "stderr",
     "output_type": "stream",
     "text": [
      "\r",
      "590it [14:04,  2.21s/it]"
     ]
    },
    {
     "name": "stdout",
     "output_type": "stream",
     "text": [
      "<bos>\n",
      "    <start_of_turn>user\n",
      "    Translate the sentence into urdu and only return the translation:\n",
      "\n",
      "    The food was awesome. Everything tastes just perfect. The sauces they put are incredible. Serving size of quarter chicken is a bit disappointing.  Overall good Experience.<end_of_turn>\n",
      "    <start_of_turn>model\n",
      "    غذا بہت خوب تھی۔ ہر چیز ایک بہترین تھیں۔ وہی چورے بہت خوب ہیں۔  کیڑے چھوٹے  کو  کوئی  تھیں۔  کلکل بہت  خوب  تجربہ۔ \n",
      "<end_of_turn>\n"
     ]
    },
    {
     "name": "stderr",
     "output_type": "stream",
     "text": [
      "\r",
      "591it [14:06,  2.25s/it]"
     ]
    },
    {
     "name": "stdout",
     "output_type": "stream",
     "text": [
      "<bos>\n",
      "    <start_of_turn>user\n",
      "    Translate the sentence into urdu and only return the translation:\n",
      "\n",
      "    Emotional intelligence taps into a fundamental element of human behavior that is distinct from your intellect.<end_of_turn>\n",
      "    <start_of_turn>model\n",
      "    انسانیت کی جذباتی بصیرت،  انسانیت کے ذہن کی ایک بنیادی عنصر کو  کشف کرتا ہے جو  انسانیت کے ذہن سے مختلف ہے۔ \n",
      "<end_of_turn>\n"
     ]
    },
    {
     "name": "stderr",
     "output_type": "stream",
     "text": [
      "\r",
      "592it [14:08,  2.12s/it]"
     ]
    },
    {
     "name": "stdout",
     "output_type": "stream",
     "text": [
      "<bos>\n",
      "    <start_of_turn>user\n",
      "    Translate the sentence into urdu and only return the translation:\n",
      "\n",
      "    Its always an amazing experience everytime we family members get-together at Malik's for a Sunday breakfast<end_of_turn>\n",
      "    <start_of_turn>model\n",
      "    हर وقت ایک بہت خوبصورت تجربہ ہوتا ہے جب ہم Malik کیلئے یک Sunday  صبح ناشتہ کے لیے ایک ساتھ جاتے ہیں۔ \n",
      "<end_of_turn>\n"
     ]
    },
    {
     "name": "stderr",
     "output_type": "stream",
     "text": [
      "\r",
      "593it [14:10,  1.91s/it]"
     ]
    },
    {
     "name": "stdout",
     "output_type": "stream",
     "text": [
      "<bos>\n",
      "    <start_of_turn>user\n",
      "    Translate the sentence into urdu and only return the translation:\n",
      "\n",
      "    (Translated by Google) Bekaar bakwas restaurant kisi kaam ka nahi 0 rating\n",
      "\n",
      "(Original)\n",
      "Bekaar bakwas restaurant kisi kaam ka nahi 0 rating<end_of_turn>\n",
      "    <start_of_turn>model\n",
      "    بے کار بے کارrestoran کسی کام کا نہیں 0 रेटिंग \n",
      "<end_of_turn>\n"
     ]
    },
    {
     "name": "stderr",
     "output_type": "stream",
     "text": [
      "\r",
      "594it [14:10,  1.55s/it]"
     ]
    },
    {
     "name": "stdout",
     "output_type": "stream",
     "text": [
      "<bos>\n",
      "    <start_of_turn>user\n",
      "    Translate the sentence into urdu and only return the translation:\n",
      "\n",
      "    The environment is good for familyyy<end_of_turn>\n",
      "    <start_of_turn>model\n",
      "    عالم بہترین ہے  ل family \n",
      "<end_of_turn>\n"
     ]
    },
    {
     "name": "stderr",
     "output_type": "stream",
     "text": [
      "\r",
      "595it [14:11,  1.22s/it]"
     ]
    },
    {
     "name": "stdout",
     "output_type": "stream",
     "text": [
      "<bos>\n",
      "    <start_of_turn>user\n",
      "    Translate the sentence into urdu and only return the translation:\n",
      "\n",
      "    Children of Israel, We delivered you from your enemy; and We made covenant with you upon the right side of the Mount, and sent down on you manna and quails:<end_of_turn>\n",
      "    <start_of_turn>model\n",
      "    یہی عیسائی بچے، ہم نے آپ کے دشمن سے آپ کو نجات دیا ہے، اور ہم آپ کے ساتھ ایک covenant  کے ساتھ  ہے،  آپ کے ساتھ  ہے،  آپ کے ساتھ  ہے،  آپ کے ساتھ  ہے،  آپ کے ساتھ  ہے،  آپ کے ساتھ  ہے،  آپ کے ساتھ  ہے،  آپ کے ساتھ  ہے،  آپ کے ساتھ  ہے،  آپ کے ساتھ  ہے،  آپ کے ساتھ  ہے،\n"
     ]
    },
    {
     "name": "stderr",
     "output_type": "stream",
     "text": [
      "\r",
      "596it [14:16,  2.32s/it]"
     ]
    },
    {
     "name": "stdout",
     "output_type": "stream",
     "text": [
      "<bos>\n",
      "    <start_of_turn>user\n",
      "    Translate the sentence into urdu and only return the translation:\n",
      "\n",
      "    She gave him all of her money.<end_of_turn>\n",
      "    <start_of_turn>model\n",
      "    اپنے تمام  پولی سے  ہے۔ \n",
      "<end_of_turn>\n"
     ]
    },
    {
     "name": "stderr",
     "output_type": "stream",
     "text": [
      "\r",
      "597it [14:16,  1.79s/it]"
     ]
    },
    {
     "name": "stdout",
     "output_type": "stream",
     "text": [
      "<bos>\n",
      "    <start_of_turn>user\n",
      "    Translate the sentence into urdu and only return the translation:\n",
      "\n",
      "    Say: \"Will ye worship, besides Allah, something which hath no power either to harm or benefit you? But Allah,- He it is that heareth and knoweth all things.\"<end_of_turn>\n",
      "    <start_of_turn>model\n",
      "    \"کہا: \"کیا آپ اللہ کے ساتھ کسی چیز پر پوری عبادت نہیں کر سکتے؟  کیا وہ کسی بھی نقصان یا فائدے کے لیے کچھ نہیں ہے؟  لیکن اللہ، وہ ہے جو ہر چیز کو سیکھتا ہے۔\" \n",
      "<end_of_turn>\n"
     ]
    },
    {
     "name": "stderr",
     "output_type": "stream",
     "text": [
      "\r",
      "598it [14:19,  2.01s/it]"
     ]
    },
    {
     "name": "stdout",
     "output_type": "stream",
     "text": [
      "<bos>\n",
      "    <start_of_turn>user\n",
      "    Translate the sentence into urdu and only return the translation:\n",
      "\n",
      "    I saw nothing of the brilliant throng that filled it, I hardly distinguished the stately figure of the Cardinal as he rose from the archiepiscopal throne to greet me.<end_of_turn>\n",
      "    <start_of_turn>model\n",
      "    ہم نے کوئی بھی بڑی جھلک نہیں دیکھی جو اس پر چھڑا ہوا تھا، میں نے کبھی بھی کڑی پرستش کی گئی، کڑی پرستش کی گئی، کڑی پرستش کی گئی، کڑی پرستش کی گئی، کڑی پرستش کی گئی، کڑی پرستش کی گئی، کڑی پرستش کی گئی، کڑی پرستش کی گئی، کڑی پرستش کی گئی، کڑی پرستش\n"
     ]
    },
    {
     "name": "stderr",
     "output_type": "stream",
     "text": [
      "\r",
      "599it [14:24,  2.88s/it]"
     ]
    },
    {
     "name": "stdout",
     "output_type": "stream",
     "text": [
      "<bos>\n",
      "    <start_of_turn>user\n",
      "    Translate the sentence into urdu and only return the translation:\n",
      "\n",
      "    Tasty food.<end_of_turn>\n",
      "    <start_of_turn>model\n",
      "    طعمی غذا. \n",
      "<end_of_turn>\n"
     ]
    },
    {
     "name": "stderr",
     "output_type": "stream",
     "text": [
      "\r",
      "600it [14:24,  2.12s/it]"
     ]
    },
    {
     "name": "stdout",
     "output_type": "stream",
     "text": [
      "<bos>\n",
      "    <start_of_turn>user\n",
      "    Translate the sentence into urdu and only return the translation:\n",
      "\n",
      "    Or do they say, \"He forged it\"? say: \"Bring then a Sura like unto it, and call (to your aid) anyone you can besides Allah, if it be ye speak the truth!\"<end_of_turn>\n",
      "    <start_of_turn>model\n",
      "    \"ہیں کہتے ہیں کہ \"ہے اس کو تیرا چھڑا لیا ہے؟\" کہا: \"آپ کو اس کی طرح ایک سورہ بھی لے لیں، اور اللہ کے ساتھ کسی بھی کوئی بھی ساتھ لیں، اگر یہ کہتے ہیں کہ حقیقت ہے!\" \n",
      "<end_of_turn>\n"
     ]
    },
    {
     "name": "stderr",
     "output_type": "stream",
     "text": [
      "\r",
      "601it [14:27,  2.28s/it]"
     ]
    },
    {
     "name": "stdout",
     "output_type": "stream",
     "text": [
      "<bos>\n",
      "    <start_of_turn>user\n",
      "    Translate the sentence into urdu and only return the translation:\n",
      "\n",
      "    Too coastly<end_of_turn>\n",
      "    <start_of_turn>model\n",
      "    کوئی بڑا خرچ ہے \n",
      "<end_of_turn>\n"
     ]
    },
    {
     "name": "stderr",
     "output_type": "stream",
     "text": [
      "\r",
      "602it [14:27,  1.73s/it]"
     ]
    },
    {
     "name": "stdout",
     "output_type": "stream",
     "text": [
      "<bos>\n",
      "    <start_of_turn>user\n",
      "    Translate the sentence into urdu and only return the translation:\n",
      "\n",
      "    ”\n",
      "\n",
      "The owner did not wait for a second invitation<end_of_turn>\n",
      "    <start_of_turn>model\n",
      "    مالک نے دوسری دعوت کے لیے انتظار نہیں کیا۔ \n",
      "<end_of_turn>\n"
     ]
    },
    {
     "name": "stderr",
     "output_type": "stream",
     "text": [
      "\r",
      "603it [14:28,  1.40s/it]"
     ]
    },
    {
     "name": "stdout",
     "output_type": "stream",
     "text": [
      "<bos>\n",
      "    <start_of_turn>user\n",
      "    Translate the sentence into urdu and only return the translation:\n",
      "\n",
      "    Four boys are making their way along the street.<end_of_turn>\n",
      "    <start_of_turn>model\n",
      "    چهار хлопکوں کو عمارت پر چڑھنے کی جارہی ہے۔ \n",
      "<end_of_turn>\n"
     ]
    },
    {
     "name": "stderr",
     "output_type": "stream",
     "text": [
      "604it [14:29,  1.44s/it]\n"
     ]
    },
    {
     "data": {
      "text/html": [
       "<div>\n",
       "<style scoped>\n",
       "    .dataframe tbody tr th:only-of-type {\n",
       "        vertical-align: middle;\n",
       "    }\n",
       "\n",
       "    .dataframe tbody tr th {\n",
       "        vertical-align: top;\n",
       "    }\n",
       "\n",
       "    .dataframe thead th {\n",
       "        text-align: right;\n",
       "    }\n",
       "</style>\n",
       "<table border=\"1\" class=\"dataframe\">\n",
       "  <thead>\n",
       "    <tr style=\"text-align: right;\">\n",
       "      <th></th>\n",
       "      <th>SENTENCES</th>\n",
       "      <th>MEANING</th>\n",
       "      <th>en_ur_2b_bl</th>\n",
       "    </tr>\n",
       "  </thead>\n",
       "  <tbody>\n",
       "    <tr>\n",
       "      <th>21101</th>\n",
       "      <td>Ambiance was amazing and so the staff. Quality...</td>\n",
       "      <td>ماحول حیرت انگیز تھا اور عملہ بھی۔ کھانے کا مع...</td>\n",
       "      <td>فضاء بہت خوب تھا اورservants بھی بہت خوب تھے۔ ...</td>\n",
       "    </tr>\n",
       "    <tr>\n",
       "      <th>1889</th>\n",
       "      <td>You have to promise never to tell anyone what ...</td>\n",
       "      <td>تم نے وعدہ کرنا ہے کہ جو میں تمہیں بتانے لگا ہ...</td>\n",
       "      <td>آپ کو یہ کہنا پڑے گا کہ میں یہ کہنے والا نہیں ...</td>\n",
       "    </tr>\n",
       "    <tr>\n",
       "      <th>8971</th>\n",
       "      <td>Good place with average food quality</td>\n",
       "      <td>کھانے کے اوسط معیار کے ساتھ اچھی جگہ</td>\n",
       "      <td>خوبہ  مکمل  غذای  میان</td>\n",
       "    </tr>\n",
       "    <tr>\n",
       "      <th>15662</th>\n",
       "      <td>And he lifted his father and mother upon the t...</td>\n",
       "      <td>(شہر میں داخل ہونے کے بعد) اس نے اپنے والدین ک...</td>\n",
       "      <td>وہ اپنے پڑھیاں اور مہم کی چھڑی پر چڑھ لیا، اور...</td>\n",
       "    </tr>\n",
       "    <tr>\n",
       "      <th>11374</th>\n",
       "      <td>What a great place for family safe zone</td>\n",
       "      <td>فیملی سیف زون کے لیے کتنی اچھی جگہ ہے۔</td>\n",
       "      <td>یہ ایک عائلی محفوظ گھڑی ہے</td>\n",
       "    </tr>\n",
       "  </tbody>\n",
       "</table>\n",
       "</div>"
      ],
      "text/plain": [
       "                                              SENTENCES   \\\n",
       "21101  Ambiance was amazing and so the staff. Quality...   \n",
       "1889   You have to promise never to tell anyone what ...   \n",
       "8971                Good place with average food quality   \n",
       "15662  And he lifted his father and mother upon the t...   \n",
       "11374            What a great place for family safe zone   \n",
       "\n",
       "                                                 MEANING  \\\n",
       "21101  ماحول حیرت انگیز تھا اور عملہ بھی۔ کھانے کا مع...   \n",
       "1889   تم نے وعدہ کرنا ہے کہ جو میں تمہیں بتانے لگا ہ...   \n",
       "8971                کھانے کے اوسط معیار کے ساتھ اچھی جگہ   \n",
       "15662  (شہر میں داخل ہونے کے بعد) اس نے اپنے والدین ک...   \n",
       "11374             فیملی سیف زون کے لیے کتنی اچھی جگہ ہے۔   \n",
       "\n",
       "                                             en_ur_2b_bl  \n",
       "21101  فضاء بہت خوب تھا اورservants بھی بہت خوب تھے۔ ...  \n",
       "1889   آپ کو یہ کہنا پڑے گا کہ میں یہ کہنے والا نہیں ...  \n",
       "8971                            خوبہ  مکمل  غذای  میان    \n",
       "15662  وہ اپنے پڑھیاں اور مہم کی چھڑی پر چڑھ لیا، اور...  \n",
       "11374                        یہ ایک عائلی محفوظ گھڑی ہے   "
      ]
     },
     "execution_count": 38,
     "metadata": {},
     "output_type": "execute_result"
    }
   ],
   "source": [
    "from tqdm import tqdm\n",
    "FastLanguageModel.for_inference(model) # Enable native 2x faster inference\n",
    "\n",
    "# Define the column you want to process and modify\n",
    "for index, row in tqdm(test.iterrows()):\n",
    "    input_sentence = row[\"SENTENCES \"]\n",
    "    \n",
    "    prompt = f\"\"\"\n",
    "    <start_of_turn>user\n",
    "    Translate the sentence into urdu and only return the translation:\n",
    "\n",
    "    {input_sentence}<end_of_turn>\n",
    "    <start_of_turn>model\n",
    "    \"\"\"\n",
    "\n",
    "    # alpaca_prompt = You MUST copy from above!\n",
    "\n",
    "    inputs = tokenizer(prompt, return_tensors = \"pt\").to(\"cuda\")\n",
    "\n",
    "    from transformers import TextStreamer\n",
    "    text_streamer = TextStreamer(tokenizer)\n",
    "    gen_tokens = model.generate(**inputs, streamer = text_streamer, max_new_tokens = 128);\n",
    "\n",
    "    outs = tokenizer.batch_decode(gen_tokens[:, inputs.input_ids.shape[1]:])[0]\n",
    "    response_only = outs.replace(tokenizer.eos_token, \"\").replace(\"\\n<end_of_turn>\", \"\")\n",
    "    \n",
    "    test.at[index, 'en_ur_2b_bl'] = response_only\n",
    "\n",
    "test.head()"
   ]
  },
  {
   "cell_type": "code",
   "execution_count": 39,
   "id": "96d86558",
   "metadata": {},
   "outputs": [
    {
     "data": {
      "text/html": [
       "<div>\n",
       "<style scoped>\n",
       "    .dataframe tbody tr th:only-of-type {\n",
       "        vertical-align: middle;\n",
       "    }\n",
       "\n",
       "    .dataframe tbody tr th {\n",
       "        vertical-align: top;\n",
       "    }\n",
       "\n",
       "    .dataframe thead th {\n",
       "        text-align: right;\n",
       "    }\n",
       "</style>\n",
       "<table border=\"1\" class=\"dataframe\">\n",
       "  <thead>\n",
       "    <tr style=\"text-align: right;\">\n",
       "      <th></th>\n",
       "      <th>SENTENCES</th>\n",
       "      <th>MEANING</th>\n",
       "      <th>en_ur_2b_bl</th>\n",
       "    </tr>\n",
       "  </thead>\n",
       "  <tbody>\n",
       "    <tr>\n",
       "      <th>21101</th>\n",
       "      <td>Ambiance was amazing and so the staff. Quality...</td>\n",
       "      <td>ماحول حیرت انگیز تھا اور عملہ بھی۔ کھانے کا مع...</td>\n",
       "      <td>فضاء بہت خوب تھا اورservants بھی بہت خوب تھے۔ ...</td>\n",
       "    </tr>\n",
       "    <tr>\n",
       "      <th>1889</th>\n",
       "      <td>You have to promise never to tell anyone what ...</td>\n",
       "      <td>تم نے وعدہ کرنا ہے کہ جو میں تمہیں بتانے لگا ہ...</td>\n",
       "      <td>آپ کو یہ کہنا پڑے گا کہ میں یہ کہنے والا نہیں ...</td>\n",
       "    </tr>\n",
       "    <tr>\n",
       "      <th>8971</th>\n",
       "      <td>Good place with average food quality</td>\n",
       "      <td>کھانے کے اوسط معیار کے ساتھ اچھی جگہ</td>\n",
       "      <td>خوبہ  مکمل  غذای  میان</td>\n",
       "    </tr>\n",
       "    <tr>\n",
       "      <th>15662</th>\n",
       "      <td>And he lifted his father and mother upon the t...</td>\n",
       "      <td>(شہر میں داخل ہونے کے بعد) اس نے اپنے والدین ک...</td>\n",
       "      <td>وہ اپنے پڑھیاں اور مہم کی چھڑی پر چڑھ لیا، اور...</td>\n",
       "    </tr>\n",
       "    <tr>\n",
       "      <th>11374</th>\n",
       "      <td>What a great place for family safe zone</td>\n",
       "      <td>فیملی سیف زون کے لیے کتنی اچھی جگہ ہے۔</td>\n",
       "      <td>یہ ایک عائلی محفوظ گھڑی ہے</td>\n",
       "    </tr>\n",
       "  </tbody>\n",
       "</table>\n",
       "</div>"
      ],
      "text/plain": [
       "                                              SENTENCES   \\\n",
       "21101  Ambiance was amazing and so the staff. Quality...   \n",
       "1889   You have to promise never to tell anyone what ...   \n",
       "8971                Good place with average food quality   \n",
       "15662  And he lifted his father and mother upon the t...   \n",
       "11374            What a great place for family safe zone   \n",
       "\n",
       "                                                 MEANING  \\\n",
       "21101  ماحول حیرت انگیز تھا اور عملہ بھی۔ کھانے کا مع...   \n",
       "1889   تم نے وعدہ کرنا ہے کہ جو میں تمہیں بتانے لگا ہ...   \n",
       "8971                کھانے کے اوسط معیار کے ساتھ اچھی جگہ   \n",
       "15662  (شہر میں داخل ہونے کے بعد) اس نے اپنے والدین ک...   \n",
       "11374             فیملی سیف زون کے لیے کتنی اچھی جگہ ہے۔   \n",
       "\n",
       "                                             en_ur_2b_bl  \n",
       "21101  فضاء بہت خوب تھا اورservants بھی بہت خوب تھے۔ ...  \n",
       "1889   آپ کو یہ کہنا پڑے گا کہ میں یہ کہنے والا نہیں ...  \n",
       "8971                            خوبہ  مکمل  غذای  میان    \n",
       "15662  وہ اپنے پڑھیاں اور مہم کی چھڑی پر چڑھ لیا، اور...  \n",
       "11374                        یہ ایک عائلی محفوظ گھڑی ہے   "
      ]
     },
     "execution_count": 39,
     "metadata": {},
     "output_type": "execute_result"
    }
   ],
   "source": [
    "# Drop all columns with names that start with 'Unnamed'\n",
    "# test = test.loc[:, ~test.columns.str.contains('^Unnamed')]\n",
    "\n",
    "test.head()"
   ]
  },
  {
   "cell_type": "code",
   "execution_count": 40,
   "id": "1b86d238",
   "metadata": {},
   "outputs": [],
   "source": [
    "test.to_csv('test_data.csv', index=False)"
   ]
  },
  {
   "cell_type": "markdown",
   "id": "0712eb0e",
   "metadata": {},
   "source": [
    "# Urdu to English on pretrained Gemma 2 2b baseline"
   ]
  },
  {
   "cell_type": "code",
   "execution_count": 41,
   "id": "40763dfc",
   "metadata": {},
   "outputs": [
    {
     "name": "stdout",
     "output_type": "stream",
     "text": [
      "Index(['SENTENCES ', 'MEANING', 'en_ur_2b_bl'], dtype='object')\n"
     ]
    }
   ],
   "source": [
    "# Assuming 'test' is your DataFrame\n",
    "column_names = test.columns\n",
    "\n",
    "# Display the column names\n",
    "print(column_names)"
   ]
  },
  {
   "cell_type": "code",
   "execution_count": 42,
   "id": "192c29c3",
   "metadata": {},
   "outputs": [
    {
     "name": "stderr",
     "output_type": "stream",
     "text": [
      "\r",
      "0it [00:00, ?it/s]"
     ]
    },
    {
     "name": "stdout",
     "output_type": "stream",
     "text": [
      "<bos>\n",
      "    <start_of_turn>user\n",
      "    Translate the sentence into english and only return the translation:\n",
      "\n",
      "    ماحول حیرت انگیز تھا اور عملہ بھی۔ کھانے کا معیار بھی اچھا تھا لیکن قیمتیں زیادہ ہیں۔ ان کا بیف کیما برگر نشان تک نہیں تھا۔ مجموعی طور پر دیکھنے کے لیے ایک اچھی جگہ۔<end_of_turn>\n",
      "    <start_of_turn>model\n",
      "    It was quite surprising, the atmosphere and the food was good, but the prices are high. Their beef kofta burger wasn't up to the mark. Overall, a good place to visit. \n",
      "<end_of_turn>\n"
     ]
    },
    {
     "name": "stderr",
     "output_type": "stream",
     "text": [
      "\r",
      "1it [00:01,  1.77s/it]"
     ]
    },
    {
     "name": "stdout",
     "output_type": "stream",
     "text": [
      "<bos>\n",
      "    <start_of_turn>user\n",
      "    Translate the sentence into english and only return the translation:\n",
      "\n",
      "    تم نے وعدہ کرنا ہے کہ جو میں تمہیں بتانے لگا ہوں، وہ کسی اور کو کبھی نہیں پتانا ہے۔<end_of_turn>\n",
      "    <start_of_turn>model\n",
      "    I promise that whatever I tell you, I will never tell anyone else. \n",
      "<end_of_turn>\n"
     ]
    },
    {
     "name": "stderr",
     "output_type": "stream",
     "text": [
      "\r",
      "2it [00:02,  1.15s/it]"
     ]
    },
    {
     "name": "stdout",
     "output_type": "stream",
     "text": [
      "<bos>\n",
      "    <start_of_turn>user\n",
      "    Translate the sentence into english and only return the translation:\n",
      "\n",
      "    کھانے کے اوسط معیار کے ساتھ اچھی جگہ<end_of_turn>\n",
      "    <start_of_turn>model\n",
      "    Good place with average food. \n",
      "<end_of_turn>\n"
     ]
    },
    {
     "name": "stderr",
     "output_type": "stream",
     "text": [
      "\r",
      "3it [00:02,  1.25it/s]"
     ]
    },
    {
     "name": "stdout",
     "output_type": "stream",
     "text": [
      "<bos>\n",
      "    <start_of_turn>user\n",
      "    Translate the sentence into english and only return the translation:\n",
      "\n",
      "    (شہر میں داخل ہونے کے بعد) اس نے اپنے والدین کو اٹھا کر اپنے پاس تخت پر بٹھایا اور سب اس کے آگے بے اختیار سجدے میں جھک گئے یوسفؑ نے کہا \"ابا جان، یہ تعبیر ہے میرے اُس خواب کی جو میں نے پہلے دیکھا تھا، میرے رب نے اسے حقیقت بنا دیا اس کا احسان ہے کہ اُس نے مجھے قید خانے سے نکالا، اور آپ لوگوں کو صحرا سے لا کر مجھ سے ملایا حالانکہ شیطان میرے اور میرے بھائیوں کے درمیان فساد ڈال چکا تھا واقعہ یہ ہے کہ میرا رب غیر محسوس تدبیروں سے اپنی مشیت پوری کرتا ہے، بے شک و ہ علیم اور حکیم ہے<end_of_turn>\n",
      "    <start_of_turn>model\n",
      "    After entering the city, he picked up his parents and placed them on his throne, and everyone else bowed before him.  Yusuf said, \"Father, this is the interpretation of the dream I had before, my Lord has made it a reality. It is a blessing that my Lord freed me from the prison and brought me from the desert to you, while the devil had been causing corruption between me and my brother. This is because my Lord, through unseen actions, fulfills his will.  He is undoubtedly wise and knowledgeable.\" \n",
      "<end_of_turn>\n"
     ]
    },
    {
     "name": "stderr",
     "output_type": "stream",
     "text": [
      "\r",
      "4it [00:07,  2.20s/it]"
     ]
    },
    {
     "name": "stdout",
     "output_type": "stream",
     "text": [
      "<bos>\n",
      "    <start_of_turn>user\n",
      "    Translate the sentence into english and only return the translation:\n",
      "\n",
      "    فیملی سیف زون کے لیے کتنی اچھی جگہ ہے۔<end_of_turn>\n",
      "    <start_of_turn>model\n",
      "    \"This is a good place for the family.\" \n",
      "<end_of_turn>\n"
     ]
    },
    {
     "name": "stderr",
     "output_type": "stream",
     "text": [
      "\r",
      "5it [00:07,  1.60s/it]"
     ]
    },
    {
     "name": "stdout",
     "output_type": "stream",
     "text": [
      "<bos>\n",
      "    <start_of_turn>user\n",
      "    Translate the sentence into english and only return the translation:\n",
      "\n",
      "    اچھا ماحول اور لذیذ کھانا<end_of_turn>\n",
      "    <start_of_turn>model\n",
      "    Good atmosphere and delicious food. \n",
      "<end_of_turn>\n"
     ]
    },
    {
     "name": "stderr",
     "output_type": "stream",
     "text": [
      "\r",
      "6it [00:08,  1.19s/it]"
     ]
    },
    {
     "name": "stdout",
     "output_type": "stream",
     "text": [
      "<bos>\n",
      "    <start_of_turn>user\n",
      "    Translate the sentence into english and only return the translation:\n",
      "\n",
      "    دوستوں اور خاندان کے لیے عام دوپہر کا کھانا دستیاب ہے۔<end_of_turn>\n",
      "    <start_of_turn>model\n",
      "    Food is available for friends and family during the afternoon. \n",
      "<end_of_turn>\n"
     ]
    },
    {
     "name": "stderr",
     "output_type": "stream",
     "text": [
      "\r",
      "7it [00:08,  1.02it/s]"
     ]
    },
    {
     "name": "stdout",
     "output_type": "stream",
     "text": [
      "<bos>\n",
      "    <start_of_turn>user\n",
      "    Translate the sentence into english and only return the translation:\n",
      "\n",
      "    اچھا ماحول، نہاری بہت اچھی تھی لیکن نان کبھی کبھی ٹھنڈا، کبھی گرم مل جاتا تھا۔<end_of_turn>\n",
      "    <start_of_turn>model\n",
      "    Good weather, the air was very nice, but the bread was sometimes cold, sometimes warm. \n",
      "<end_of_turn>\n"
     ]
    },
    {
     "name": "stderr",
     "output_type": "stream",
     "text": [
      "\r",
      "8it [00:09,  1.05it/s]"
     ]
    },
    {
     "name": "stdout",
     "output_type": "stream",
     "text": [
      "<bos>\n",
      "    <start_of_turn>user\n",
      "    Translate the sentence into english and only return the translation:\n",
      "\n",
      "    بہت بری سروس!! کھانا بہت دیر سے آیا۔ برگر ٹوٹ جاتے ہیں، تازہ بن نہیں اور جب ان سے بہتر روٹی مانگی گئی تو انہوں نے کہا کہ ایسا ہی ہے۔ ٹھیک سے نہیں پکایا۔ صرف 1 ستارہ دینا کیونکہ عملہ کچھ اچھا تھا۔<end_of_turn>\n",
      "    <start_of_turn>model\n",
      "    The service is terrible!! The food arrived very late. The burgers are falling apart, they're not fresh and when we asked for better roti, they said that's all they have. It's not cooked properly. Just one star because the staff was good. \n",
      "<end_of_turn>\n"
     ]
    },
    {
     "name": "stderr",
     "output_type": "stream",
     "text": [
      "\r",
      "9it [00:11,  1.37s/it]"
     ]
    },
    {
     "name": "stdout",
     "output_type": "stream",
     "text": [
      "<bos>\n",
      "    <start_of_turn>user\n",
      "    Translate the sentence into english and only return the translation:\n",
      "\n",
      "    مناسب قیمت میں کھانے کا بہترین معیار۔<end_of_turn>\n",
      "    <start_of_turn>model\n",
      "    Best value for money meal. \n",
      "<end_of_turn>\n"
     ]
    },
    {
     "name": "stderr",
     "output_type": "stream",
     "text": [
      "\r",
      "10it [00:12,  1.06s/it]"
     ]
    },
    {
     "name": "stdout",
     "output_type": "stream",
     "text": [
      "<bos>\n",
      "    <start_of_turn>user\n",
      "    Translate the sentence into english and only return the translation:\n",
      "\n",
      "    اچھا<end_of_turn>\n",
      "    <start_of_turn>model\n",
      "    Okay \n",
      "<end_of_turn>\n"
     ]
    },
    {
     "name": "stderr",
     "output_type": "stream",
     "text": [
      "\r",
      "11it [00:12,  1.26it/s]"
     ]
    },
    {
     "name": "stdout",
     "output_type": "stream",
     "text": [
      "<bos>\n",
      "    <start_of_turn>user\n",
      "    Translate the sentence into english and only return the translation:\n",
      "\n",
      "    اور وہاں سے آگے بڑھ کر اُس نے اور دو بھائیوں یعنی زبدی کے بیٹے یعقوب اور اُس کے بھائی یُوحنّا کو دیکھا کہ اپنے باپ زبدی کے ساتھ کشتی پر اپنے جالوں کی مرمّت کر رہے ہیں اور اُن کو بُلایا ۔<end_of_turn>\n",
      "    <start_of_turn>model\n",
      "    He then looked ahead and saw his two brothers, Jacob and John, the sons of Zebadiah, who were repairing their belongings on the ship with their father Zebadiah, and were being attacked. \n",
      "<end_of_turn>\n"
     ]
    },
    {
     "name": "stderr",
     "output_type": "stream",
     "text": [
      "\r",
      "12it [00:14,  1.08s/it]"
     ]
    },
    {
     "name": "stdout",
     "output_type": "stream",
     "text": [
      "<bos>\n",
      "    <start_of_turn>user\n",
      "    Translate the sentence into english and only return the translation:\n",
      "\n",
      "    درمیانی بجٹ والے سڑک کے کنارے والے ریستوراں کے لیے یہ بہترین آپشن ہے جس میں ذائقہ اور حفظان صحت دونوں پروگرام ہیں ایک تجویز رائتہ یا سلاد نہ لیں کارٹ والا سے الگ سے سلاد خریدیں اور آپ ریستوراں کے پیچھے سے ان دونوں چیزوں کی توقع کریں جو آپ کو بہترین اور مزیدار ملے گی۔<end_of_turn>\n",
      "    <start_of_turn>model\n",
      "    This is the best option for restaurants on the side of the road with a budget, offering both taste and health programs. Don't order a salad from the menu, buy it separately from the cart. Expect the two things behind the restaurants, which will be the best and most delicious. \n",
      "<end_of_turn>\n"
     ]
    },
    {
     "name": "stderr",
     "output_type": "stream",
     "text": [
      "\r",
      "13it [00:16,  1.48s/it]"
     ]
    },
    {
     "name": "stdout",
     "output_type": "stream",
     "text": [
      "<bos>\n",
      "    <start_of_turn>user\n",
      "    Translate the sentence into english and only return the translation:\n",
      "\n",
      "    زندہ کوئلے کے باربی کیو کے لیے یہ جگہ بہت اچھی ہے۔<end_of_turn>\n",
      "    <start_of_turn>model\n",
      "    This place is great for the penguins. \n",
      "<end_of_turn>\n"
     ]
    },
    {
     "name": "stderr",
     "output_type": "stream",
     "text": [
      "\r",
      "14it [00:17,  1.17s/it]"
     ]
    },
    {
     "name": "stdout",
     "output_type": "stream",
     "text": [
      "<bos>\n",
      "    <start_of_turn>user\n",
      "    Translate the sentence into english and only return the translation:\n",
      "\n",
      "    لارڈ، وہ ایک بدعتی ہے!\" سیپت نے کراہتے ہوئے کہا، اور فوراً ہی وہ رومی عقیدے کے طریقوں اور مشاہدات میں ایک ابتدائی سبق پر گر گیا۔<end_of_turn>\n",
      "    <start_of_turn>model\n",
      "    \"Lord, he's a heretic!\" Sip said, and immediately he fell into the basic ways and observations of Roman beliefs. \n",
      "<end_of_turn>\n"
     ]
    },
    {
     "name": "stderr",
     "output_type": "stream",
     "text": [
      "\r",
      "15it [00:18,  1.18s/it]"
     ]
    },
    {
     "name": "stdout",
     "output_type": "stream",
     "text": [
      "<bos>\n",
      "    <start_of_turn>user\n",
      "    Translate the sentence into english and only return the translation:\n",
      "\n",
      "    (گوگل کے ذریعہ ترجمہ کیا گیا) FARIG HAI (اصل) FARIG HAI<end_of_turn>\n",
      "    <start_of_turn>model\n",
      "    It's translated from the original text. \n",
      "<end_of_turn>\n"
     ]
    },
    {
     "name": "stderr",
     "output_type": "stream",
     "text": [
      "\r",
      "16it [00:18,  1.03it/s]"
     ]
    },
    {
     "name": "stdout",
     "output_type": "stream",
     "text": [
      "<bos>\n",
      "    <start_of_turn>user\n",
      "    Translate the sentence into english and only return the translation:\n",
      "\n",
      "    اچھا کھانا لیکن کم سروس<end_of_turn>\n",
      "    <start_of_turn>model\n",
      "    Okay food, but poor service. \n",
      "<end_of_turn>\n"
     ]
    },
    {
     "name": "stderr",
     "output_type": "stream",
     "text": [
      "\r",
      "17it [00:19,  1.24it/s]"
     ]
    },
    {
     "name": "stdout",
     "output_type": "stream",
     "text": [
      "<bos>\n",
      "    <start_of_turn>user\n",
      "    Translate the sentence into english and only return the translation:\n",
      "\n",
      "    شاندار inviorement اور بہت پیشہ ورانہ عملہ لیکن مہنگا<end_of_turn>\n",
      "    <start_of_turn>model\n",
      "    Highly skilled and professional staff, but expensive. \n",
      "<end_of_turn>\n"
     ]
    },
    {
     "name": "stderr",
     "output_type": "stream",
     "text": [
      "\r",
      "18it [00:19,  1.41it/s]"
     ]
    },
    {
     "name": "stdout",
     "output_type": "stream",
     "text": [
      "<bos>\n",
      "    <start_of_turn>user\n",
      "    Translate the sentence into english and only return the translation:\n",
      "\n",
      "    اچھا ذائقہ<end_of_turn>\n",
      "    <start_of_turn>model\n",
      "    Good taste \n",
      "<end_of_turn>\n"
     ]
    },
    {
     "name": "stderr",
     "output_type": "stream",
     "text": [
      "\r",
      "19it [00:19,  1.77it/s]"
     ]
    },
    {
     "name": "stdout",
     "output_type": "stream",
     "text": [
      "<bos>\n",
      "    <start_of_turn>user\n",
      "    Translate the sentence into english and only return the translation:\n",
      "\n",
      "    میری نے پارٹی کے لیے بے پٹا ڈریس پہنی۔<end_of_turn>\n",
      "    <start_of_turn>model\n",
      "    I wore a party dress without a hitch. \n",
      "<end_of_turn>\n"
     ]
    },
    {
     "name": "stderr",
     "output_type": "stream",
     "text": [
      "\r",
      "20it [00:20,  1.84it/s]"
     ]
    },
    {
     "name": "stdout",
     "output_type": "stream",
     "text": [
      "<bos>\n",
      "    <start_of_turn>user\n",
      "    Translate the sentence into english and only return the translation:\n",
      "\n",
      "    اس سے محبت کرتے ہیں<end_of_turn>\n",
      "    <start_of_turn>model\n",
      "    We love each other. \n",
      "<end_of_turn>\n"
     ]
    },
    {
     "name": "stderr",
     "output_type": "stream",
     "text": [
      "\r",
      "21it [00:20,  2.07it/s]"
     ]
    },
    {
     "name": "stdout",
     "output_type": "stream",
     "text": [
      "<bos>\n",
      "    <start_of_turn>user\n",
      "    Translate the sentence into english and only return the translation:\n",
      "\n",
      "    اسی طرح ناک بھی۔ روڈولف نے ان دونوں کو حاصل کر لیا ہے۔<end_of_turn>\n",
      "    <start_of_turn>model\n",
      "    Rudolf has acquired both of them. \n",
      "<end_of_turn>\n"
     ]
    },
    {
     "name": "stderr",
     "output_type": "stream",
     "text": [
      "\r",
      "22it [00:21,  2.15it/s]"
     ]
    },
    {
     "name": "stdout",
     "output_type": "stream",
     "text": [
      "<bos>\n",
      "    <start_of_turn>user\n",
      "    Translate the sentence into english and only return the translation:\n",
      "\n",
      "    اس کا زور تو انہی لوگوں پر چلتا ہے جو اس کو اپنا سرپرست بناتے اور اس کے بہکانے سے شرک کرتے ہیں<end_of_turn>\n",
      "    <start_of_turn>model\n",
      "    His strength lies with those who make him their protector and who share in his gains. \n",
      "<end_of_turn>\n"
     ]
    },
    {
     "name": "stderr",
     "output_type": "stream",
     "text": [
      "\r",
      "23it [00:21,  1.77it/s]"
     ]
    },
    {
     "name": "stdout",
     "output_type": "stream",
     "text": [
      "<bos>\n",
      "    <start_of_turn>user\n",
      "    Translate the sentence into english and only return the translation:\n",
      "\n",
      "    کھانے کا ذائقہ نشان تک نہیں ہے۔<end_of_turn>\n",
      "    <start_of_turn>model\n",
      "    The taste of food doesn't end at the tip of the tongue. \n",
      "<end_of_turn>\n"
     ]
    },
    {
     "name": "stderr",
     "output_type": "stream",
     "text": [
      "\r",
      "24it [00:22,  1.64it/s]"
     ]
    },
    {
     "name": "stdout",
     "output_type": "stream",
     "text": [
      "<bos>\n",
      "    <start_of_turn>user\n",
      "    Translate the sentence into english and only return the translation:\n",
      "\n",
      "    nan<end_of_turn>\n",
      "    <start_of_turn>model\n",
      "    not a word \n",
      "<end_of_turn>\n"
     ]
    },
    {
     "name": "stderr",
     "output_type": "stream",
     "text": [
      "\r",
      "25it [00:22,  1.97it/s]"
     ]
    },
    {
     "name": "stdout",
     "output_type": "stream",
     "text": [
      "<bos>\n",
      "    <start_of_turn>user\n",
      "    Translate the sentence into english and only return the translation:\n",
      "\n",
      "    برین مسالہ اور جھینگے کا مسالہ سائٹ ایریا میں شاندار تھا جو دوپہر کے کھانے کا بہترین آپشن ہے۔<end_of_turn>\n",
      "    <start_of_turn>model\n",
      "    The site was great in area, with a wonderful option for lunch. \n",
      "<end_of_turn>\n"
     ]
    },
    {
     "name": "stderr",
     "output_type": "stream",
     "text": [
      "\r",
      "26it [00:23,  1.79it/s]"
     ]
    },
    {
     "name": "stdout",
     "output_type": "stream",
     "text": [
      "<bos>\n",
      "    <start_of_turn>user\n",
      "    Translate the sentence into english and only return the translation:\n",
      "\n",
      "    تم جب پاس ہوتے ہو تو یہ دنیا خوب صورت لگتی ہے<end_of_turn>\n",
      "    <start_of_turn>model\n",
      "    It's a beautiful world when things are going well. \n",
      "<end_of_turn>\n"
     ]
    },
    {
     "name": "stderr",
     "output_type": "stream",
     "text": [
      "\r",
      "27it [00:24,  1.75it/s]"
     ]
    },
    {
     "name": "stdout",
     "output_type": "stream",
     "text": [
      "<bos>\n",
      "    <start_of_turn>user\n",
      "    Translate the sentence into english and only return the translation:\n",
      "\n",
      "    یہ اس بات پر منحصر ہے کہ آپ مجھے کیا چاہتے ہیں۔<end_of_turn>\n",
      "    <start_of_turn>model\n",
      "    This depends on what you want. \n",
      "<end_of_turn>\n"
     ]
    },
    {
     "name": "stderr",
     "output_type": "stream",
     "text": [
      "\r",
      "28it [00:24,  1.90it/s]"
     ]
    },
    {
     "name": "stdout",
     "output_type": "stream",
     "text": [
      "<bos>\n",
      "    <start_of_turn>user\n",
      "    Translate the sentence into english and only return the translation:\n",
      "\n",
      "    (گوگل کے ذریعے ترجمہ کیا گیا) نہاری اور بی بی کیو کے لیے بہت عمدہ ریستوراں<end_of_turn>\n",
      "    <start_of_turn>model\n",
      "    There are excellent restaurants for Naari and BB Kiwo. \n",
      "<end_of_turn>\n"
     ]
    },
    {
     "name": "stderr",
     "output_type": "stream",
     "text": [
      "\r",
      "29it [00:25,  1.82it/s]"
     ]
    },
    {
     "name": "stdout",
     "output_type": "stream",
     "text": [
      "<bos>\n",
      "    <start_of_turn>user\n",
      "    Translate the sentence into english and only return the translation:\n",
      "\n",
      "    ٹھیک ہے، ہمیں ان کی سوچ کو بدلنا چاہیے۔ فرٹز نے بے بسی سے کہا۔<end_of_turn>\n",
      "    <start_of_turn>model\n",
      "    We need to change their thinking.  Fritz said that casually. \n",
      "<end_of_turn>\n"
     ]
    },
    {
     "name": "stderr",
     "output_type": "stream",
     "text": [
      "\r",
      "30it [00:25,  1.73it/s]"
     ]
    },
    {
     "name": "stdout",
     "output_type": "stream",
     "text": [
      "<bos>\n",
      "    <start_of_turn>user\n",
      "    Translate the sentence into english and only return the translation:\n",
      "\n",
      "    اس کا ذائقہ اچھا ہے۔<end_of_turn>\n",
      "    <start_of_turn>model\n",
      "    Its taste is good. \n",
      "<end_of_turn>\n"
     ]
    },
    {
     "name": "stderr",
     "output_type": "stream",
     "text": [
      "\r",
      "31it [00:26,  1.98it/s]"
     ]
    },
    {
     "name": "stdout",
     "output_type": "stream",
     "text": [
      "<bos>\n",
      "    <start_of_turn>user\n",
      "    Translate the sentence into english and only return the translation:\n",
      "\n",
      "    مختصر یہ کہ ایک اچھا بوفے، pesay zaya nai hwe ❤<end_of_turn>\n",
      "    <start_of_turn>model\n",
      "    A good buffet, please don't eat it like that ❤ \n",
      "<end_of_turn>\n"
     ]
    },
    {
     "name": "stderr",
     "output_type": "stream",
     "text": [
      "\r",
      "32it [00:26,  1.83it/s]"
     ]
    },
    {
     "name": "stdout",
     "output_type": "stream",
     "text": [
      "<bos>\n",
      "    <start_of_turn>user\n",
      "    Translate the sentence into english and only return the translation:\n",
      "\n",
      "    اچھی جگہ اچھی خوراک لیکن مقدار کے لحاظ سے کم<end_of_turn>\n",
      "    <start_of_turn>model\n",
      "    Good place, good food, but in small quantities. \n",
      "<end_of_turn>\n"
     ]
    },
    {
     "name": "stderr",
     "output_type": "stream",
     "text": [
      "\r",
      "33it [00:27,  1.81it/s]"
     ]
    },
    {
     "name": "stdout",
     "output_type": "stream",
     "text": [
      "<bos>\n",
      "    <start_of_turn>user\n",
      "    Translate the sentence into english and only return the translation:\n",
      "\n",
      "    nan<end_of_turn>\n",
      "    <start_of_turn>model\n",
      "    not a word \n",
      "<end_of_turn>\n"
     ]
    },
    {
     "name": "stderr",
     "output_type": "stream",
     "text": [
      "\r",
      "34it [00:27,  2.15it/s]"
     ]
    },
    {
     "name": "stdout",
     "output_type": "stream",
     "text": [
      "<bos>\n",
      "    <start_of_turn>user\n",
      "    Translate the sentence into english and only return the translation:\n",
      "\n",
      "    اس کی نیت خراب ہے۔<end_of_turn>\n",
      "    <start_of_turn>model\n",
      "    His intention is ruined. \n",
      "<end_of_turn>\n"
     ]
    },
    {
     "name": "stderr",
     "output_type": "stream",
     "text": [
      "\r",
      "35it [00:27,  2.34it/s]"
     ]
    },
    {
     "name": "stdout",
     "output_type": "stream",
     "text": [
      "<bos>\n",
      "    <start_of_turn>user\n",
      "    Translate the sentence into english and only return the translation:\n",
      "\n",
      "    چھوٹا لڑکا کرسی پر کھڑا ہے۔<end_of_turn>\n",
      "    <start_of_turn>model\n",
      "    The little boy is sitting on a chair. \n",
      "<end_of_turn>\n"
     ]
    },
    {
     "name": "stderr",
     "output_type": "stream",
     "text": [
      "\r",
      "36it [00:28,  2.24it/s]"
     ]
    },
    {
     "name": "stdout",
     "output_type": "stream",
     "text": [
      "<bos>\n",
      "    <start_of_turn>user\n",
      "    Translate the sentence into english and only return the translation:\n",
      "\n",
      "    کھانے کے اچھے اختیارات<end_of_turn>\n",
      "    <start_of_turn>model\n",
      "    Good food choices \n",
      "<end_of_turn>\n"
     ]
    },
    {
     "name": "stderr",
     "output_type": "stream",
     "text": [
      "\r",
      "37it [00:28,  2.56it/s]"
     ]
    },
    {
     "name": "stdout",
     "output_type": "stream",
     "text": [
      "<bos>\n",
      "    <start_of_turn>user\n",
      "    Translate the sentence into english and only return the translation:\n",
      "\n",
      "    دو کے لیے ایک میز ،کھڑکی کے پا س لگائیے<end_of_turn>\n",
      "    <start_of_turn>model\n",
      "    \"Please put a table for two on the floor.\" \n",
      "<end_of_turn>\n"
     ]
    },
    {
     "name": "stderr",
     "output_type": "stream",
     "text": [
      "\r",
      "38it [00:29,  2.26it/s]"
     ]
    },
    {
     "name": "stdout",
     "output_type": "stream",
     "text": [
      "<bos>\n",
      "    <start_of_turn>user\n",
      "    Translate the sentence into english and only return the translation:\n",
      "\n",
      "    جب آپ خود ہوتے ہیں، تو آپ کے کام کا شیڈول یا مالیات کی کمی آپ کے کام کو محدود کر دے گی۔\"<end_of_turn>\n",
      "    <start_of_turn>model\n",
      "    If you are busy, your schedule or financial constraints will limit your work. \n",
      "<end_of_turn>\n"
     ]
    },
    {
     "name": "stderr",
     "output_type": "stream",
     "text": [
      "\r",
      "39it [00:30,  1.89it/s]"
     ]
    },
    {
     "name": "stdout",
     "output_type": "stream",
     "text": [
      "<bos>\n",
      "    <start_of_turn>user\n",
      "    Translate the sentence into english and only return the translation:\n",
      "\n",
      "    فیملی ریسٹورنٹ، مزے دار دیسی کھانا بہترین مٹن کراہی، دھاگا کہباب، بار بی کے ساتھ نہاری اسپیشل گرین چٹنی<end_of_turn>\n",
      "    <start_of_turn>model\n",
      "    Family restaurant, delicious Pakistani food, best mutton karahi, with biryani, special green chutney with barbi \n",
      "<end_of_turn>\n"
     ]
    },
    {
     "name": "stderr",
     "output_type": "stream",
     "text": [
      "\r",
      "40it [00:30,  1.53it/s]"
     ]
    },
    {
     "name": "stdout",
     "output_type": "stream",
     "text": [
      "<bos>\n",
      "    <start_of_turn>user\n",
      "    Translate the sentence into english and only return the translation:\n",
      "\n",
      "    مہنگا خاص طور پر مشروبات کے زمرے میں<end_of_turn>\n",
      "    <start_of_turn>model\n",
      "    Expensive, especially in the beverage category. \n",
      "<end_of_turn>\n"
     ]
    },
    {
     "name": "stderr",
     "output_type": "stream",
     "text": [
      "\r",
      "41it [00:31,  1.68it/s]"
     ]
    },
    {
     "name": "stdout",
     "output_type": "stream",
     "text": [
      "<bos>\n",
      "    <start_of_turn>user\n",
      "    Translate the sentence into english and only return the translation:\n",
      "\n",
      "    ماحول ٹھیک ہے.... کھانا اچھا ہے۔<end_of_turn>\n",
      "    <start_of_turn>model\n",
      "    The weather is nice... the food is good. \n",
      "<end_of_turn>\n"
     ]
    },
    {
     "name": "stderr",
     "output_type": "stream",
     "text": [
      "\r",
      "42it [00:31,  1.74it/s]"
     ]
    },
    {
     "name": "stdout",
     "output_type": "stream",
     "text": [
      "<bos>\n",
      "    <start_of_turn>user\n",
      "    Translate the sentence into english and only return the translation:\n",
      "\n",
      "    9|123|اے اہلِ ایمان! اپنے نزدیک کے (رہنے والے) کافروں سے جنگ کرو اور چاہیئے کہ وہ تم میں سختی (یعنی محنت وقوت جنگ) معلوم کریں۔ اور جان رکھو کہ خدا پرہیز گاروں کے ساتھ ہے <end_of_turn>\n",
      "    <start_of_turn>model\n",
      "    O believers! Fight the infidels who are near you, and let them know your strength (meaning hardship and struggle in the fight). And remember that God is with the righteous. \n",
      "<end_of_turn>\n"
     ]
    },
    {
     "name": "stderr",
     "output_type": "stream",
     "text": [
      "\r",
      "43it [00:33,  1.16it/s]"
     ]
    },
    {
     "name": "stdout",
     "output_type": "stream",
     "text": [
      "<bos>\n",
      "    <start_of_turn>user\n",
      "    Translate the sentence into english and only return the translation:\n",
      "\n",
      "    اچھی جگہ کا کھانا مزیدار تھا۔<end_of_turn>\n",
      "    <start_of_turn>model\n",
      "    The food was delicious. \n",
      "<end_of_turn>\n"
     ]
    },
    {
     "name": "stderr",
     "output_type": "stream",
     "text": [
      "\r",
      "44it [00:33,  1.42it/s]"
     ]
    },
    {
     "name": "stdout",
     "output_type": "stream",
     "text": [
      "<bos>\n",
      "    <start_of_turn>user\n",
      "    Translate the sentence into english and only return the translation:\n",
      "\n",
      "    لذیذ کھانے خصوصاً ہر قسم کی مچھلی<end_of_turn>\n",
      "    <start_of_turn>model\n",
      "    I love to eat, especially all kinds of fish. \n",
      "<end_of_turn>\n"
     ]
    },
    {
     "name": "stderr",
     "output_type": "stream",
     "text": [
      "\r",
      "45it [00:34,  1.51it/s]"
     ]
    },
    {
     "name": "stdout",
     "output_type": "stream",
     "text": [
      "<bos>\n",
      "    <start_of_turn>user\n",
      "    Translate the sentence into english and only return the translation:\n",
      "\n",
      "    4|107|اور لوگ اپنے ہم جنسوں کی خیانت کرتے ہیں ان کی طرف سے بحث نہ کرنا کیونکہ خدا خائن اور مرتکب جرائم کو دوست نہیں رکھتا <end_of_turn>\n",
      "    <start_of_turn>model\n",
      "    If people betray their own kind, don't discuss it because God is a betrayer and does not like those who commit crimes. \n",
      "<end_of_turn>\n"
     ]
    },
    {
     "name": "stderr",
     "output_type": "stream",
     "text": [
      "\r",
      "46it [00:35,  1.22it/s]"
     ]
    },
    {
     "name": "stdout",
     "output_type": "stream",
     "text": [
      "<bos>\n",
      "    <start_of_turn>user\n",
      "    Translate the sentence into english and only return the translation:\n",
      "\n",
      "    پھر وہ اللہ کو چھوڑ کر اُن کو پکارتا ہے جو نہ اُس کو نقصان پہنچا سکتے ہیں نہ فائدہ یہ ہے گمراہی کی انتہا<end_of_turn>\n",
      "    <start_of_turn>model\n",
      "    He abandons Allah and turns to those who can cause him harm, neither of whom can benefit him, and reaches the extreme of delusion. \n",
      "<end_of_turn>\n"
     ]
    },
    {
     "name": "stderr",
     "output_type": "stream",
     "text": [
      "\r",
      "47it [00:36,  1.07it/s]"
     ]
    },
    {
     "name": "stdout",
     "output_type": "stream",
     "text": [
      "<bos>\n",
      "    <start_of_turn>user\n",
      "    Translate the sentence into english and only return the translation:\n",
      "\n",
      "    پیتھٹک تجربہ بے ذائقہ کھانا<end_of_turn>\n",
      "    <start_of_turn>model\n",
      "    The taste of the experiment is bland. \n",
      "<end_of_turn>\n"
     ]
    },
    {
     "name": "stderr",
     "output_type": "stream",
     "text": [
      "\r",
      "48it [00:37,  1.26it/s]"
     ]
    },
    {
     "name": "stdout",
     "output_type": "stream",
     "text": [
      "<bos>\n",
      "    <start_of_turn>user\n",
      "    Translate the sentence into english and only return the translation:\n",
      "\n",
      "    آپ اپنا بیگ تلاش کریں۔<end_of_turn>\n",
      "    <start_of_turn>model\n",
      "    Try your best. \n",
      "<end_of_turn>\n"
     ]
    },
    {
     "name": "stderr",
     "output_type": "stream",
     "text": [
      "\r",
      "49it [00:37,  1.55it/s]"
     ]
    },
    {
     "name": "stdout",
     "output_type": "stream",
     "text": [
      "<bos>\n",
      "    <start_of_turn>user\n",
      "    Translate the sentence into english and only return the translation:\n",
      "\n",
      "    اچھا ذائقہ.<end_of_turn>\n",
      "    <start_of_turn>model\n",
      "    Good taste. \n",
      "<end_of_turn>\n"
     ]
    },
    {
     "name": "stderr",
     "output_type": "stream",
     "text": [
      "\r",
      "50it [00:37,  1.89it/s]"
     ]
    },
    {
     "name": "stdout",
     "output_type": "stream",
     "text": [
      "<bos>\n",
      "    <start_of_turn>user\n",
      "    Translate the sentence into english and only return the translation:\n",
      "\n",
      "    بہترین کراہی بہترین سروس<end_of_turn>\n",
      "    <start_of_turn>model\n",
      "    The best service is the best. \n",
      "<end_of_turn>\n"
     ]
    },
    {
     "name": "stderr",
     "output_type": "stream",
     "text": [
      "\r",
      "51it [00:38,  2.02it/s]"
     ]
    },
    {
     "name": "stdout",
     "output_type": "stream",
     "text": [
      "<bos>\n",
      "    <start_of_turn>user\n",
      "    Translate the sentence into english and only return the translation:\n",
      "\n",
      "    بیٹھنا معمول ہے۔ خوراک اوسط سے زیادہ تھی لیکن غیر معمولی نہیں تھی۔ جاؤ اور وہاں اچھا کھانا کھاؤ، ہاں مزیدار بھی<end_of_turn>\n",
      "    <start_of_turn>model\n",
      "    It's customary to sit down. The food was average but not extraordinary. Go and eat well there, there's more to it. \n",
      "<end_of_turn>\n"
     ]
    },
    {
     "name": "stderr",
     "output_type": "stream",
     "text": [
      "\r",
      "52it [00:39,  1.38it/s]"
     ]
    },
    {
     "name": "stdout",
     "output_type": "stream",
     "text": [
      "<bos>\n",
      "    <start_of_turn>user\n",
      "    Translate the sentence into english and only return the translation:\n",
      "\n",
      "    اب تک کی بدترین سروس سے اختلاف کریں۔<end_of_turn>\n",
      "    <start_of_turn>model\n",
      "    Have a dispute with the worst service. \n",
      "<end_of_turn>\n"
     ]
    },
    {
     "name": "stderr",
     "output_type": "stream",
     "text": [
      "\r",
      "53it [00:39,  1.55it/s]"
     ]
    },
    {
     "name": "stdout",
     "output_type": "stream",
     "text": [
      "<bos>\n",
      "    <start_of_turn>user\n",
      "    Translate the sentence into english and only return the translation:\n",
      "\n",
      "    لیکن میں پھر بھی جنگل اور شکار گاہ کی تلاش میں تھا، اور جب میری چھوٹی نوکرانی نے مجھے بتایا کہ میں جنگل میں دس میل یا اس سے زیادہ کا فاصلہ طے کر سکتی ہوں۔<end_of_turn>\n",
      "    <start_of_turn>model\n",
      "    But I was still searching for the forest and the hunting grounds, and when my little servant told me that I could cover ten miles or more in the forest. \n",
      "<end_of_turn>\n"
     ]
    },
    {
     "name": "stderr",
     "output_type": "stream",
     "text": [
      "\r",
      "54it [00:41,  1.15it/s]"
     ]
    },
    {
     "name": "stdout",
     "output_type": "stream",
     "text": [
      "<bos>\n",
      "    <start_of_turn>user\n",
      "    Translate the sentence into english and only return the translation:\n",
      "\n",
      "    جہاں تک معیاری کھانے پینے والوں کا تعلق ہے تو ایک خوبصورت اوسط علاقے میں تازہ ہوا کا سانس لینا<end_of_turn>\n",
      "    <start_of_turn>model\n",
      "    Take a fresh breath in a pleasant, average area, as long as you're eating standardized food. \n",
      "<end_of_turn>\n"
     ]
    },
    {
     "name": "stderr",
     "output_type": "stream",
     "text": [
      "\r",
      "55it [00:42,  1.12it/s]"
     ]
    },
    {
     "name": "stdout",
     "output_type": "stream",
     "text": [
      "<bos>\n",
      "    <start_of_turn>user\n",
      "    Translate the sentence into english and only return the translation:\n",
      "\n",
      "    دیکھنے کے لیے بہترین جگہ، ذائقہ اور مقدار دونوں 10/10 تھے۔<end_of_turn>\n",
      "    <start_of_turn>model\n",
      "    The best place, taste, and quantity were both 10/10. \n",
      "<end_of_turn>\n"
     ]
    },
    {
     "name": "stderr",
     "output_type": "stream",
     "text": [
      "\r",
      "56it [00:43,  1.16it/s]"
     ]
    },
    {
     "name": "stdout",
     "output_type": "stream",
     "text": [
      "<bos>\n",
      "    <start_of_turn>user\n",
      "    Translate the sentence into english and only return the translation:\n",
      "\n",
      "    ہڈ براہ مہربانی اپنے بیٹھنے اور کھانے میں بہتری لائیں<end_of_turn>\n",
      "    <start_of_turn>model\n",
      "    Please be kind and offer some improvement in your seating and eating. \n",
      "<end_of_turn>\n"
     ]
    },
    {
     "name": "stderr",
     "output_type": "stream",
     "text": [
      "\r",
      "57it [00:43,  1.25it/s]"
     ]
    },
    {
     "name": "stdout",
     "output_type": "stream",
     "text": [
      "<bos>\n",
      "    <start_of_turn>user\n",
      "    Translate the sentence into english and only return the translation:\n",
      "\n",
      "    کاکروچ کے لیے خوراک<end_of_turn>\n",
      "    <start_of_turn>model\n",
      "    Food for Kaka's. \n",
      "<end_of_turn>\n"
     ]
    },
    {
     "name": "stderr",
     "output_type": "stream",
     "text": [
      "\r",
      "58it [00:44,  1.49it/s]"
     ]
    },
    {
     "name": "stdout",
     "output_type": "stream",
     "text": [
      "<bos>\n",
      "    <start_of_turn>user\n",
      "    Translate the sentence into english and only return the translation:\n",
      "\n",
      "    بہت مشہور کھانے کے علاقے میں مشہور نہاری ہوٹل<end_of_turn>\n",
      "    <start_of_turn>model\n",
      "    Famous restaurant in a famous food area. \n",
      "<end_of_turn>\n"
     ]
    },
    {
     "name": "stderr",
     "output_type": "stream",
     "text": [
      "\r",
      "59it [00:44,  1.65it/s]"
     ]
    },
    {
     "name": "stdout",
     "output_type": "stream",
     "text": [
      "<bos>\n",
      "    <start_of_turn>user\n",
      "    Translate the sentence into english and only return the translation:\n",
      "\n",
      "    کل @tandoorpk میں دوپہر کے کھانے کے لیے ٹِکا، ٹیراگن سٹیک، تندور فور چکن، اور چلی کباب کا وزٹ کیا تھا❤️ ٹِکا اوسطاً تھا، ٹیراگن سٹیک بہت لذیذ تھا، فائر چکن تھوڑا سا مسالہ دار تھا (میرے ذائقے کے مطابق)، اور چلی کباب بھی مزیدار تھا انتظام اور عملہ دوستانہ تھا<end_of_turn>\n",
      "    <start_of_turn>model\n",
      "    I had a lunch at @tandoorpk, and I tried the tikka, tiranigan steak, tandoor chicken, and chili kabab. The tikka was average, the tiranigan steak was very delicious, the fire chicken was a bit spicy (according to my taste), and the chili kabab was also delicious. The service and staff were friendly. \n",
      "<end_of_turn>\n"
     ]
    },
    {
     "name": "stderr",
     "output_type": "stream",
     "text": [
      "\r",
      "60it [00:47,  1.35s/it]"
     ]
    },
    {
     "name": "stdout",
     "output_type": "stream",
     "text": [
      "<bos>\n",
      "    <start_of_turn>user\n",
      "    Translate the sentence into english and only return the translation:\n",
      "\n",
      "    پتلی رہو۔<end_of_turn>\n",
      "    <start_of_turn>model\n",
      "    Stay well. \n",
      "<end_of_turn>\n"
     ]
    },
    {
     "name": "stderr",
     "output_type": "stream",
     "text": [
      "\r",
      "61it [00:47,  1.03s/it]"
     ]
    },
    {
     "name": "stdout",
     "output_type": "stream",
     "text": [
      "<bos>\n",
      "    <start_of_turn>user\n",
      "    Translate the sentence into english and only return the translation:\n",
      "\n",
      "    نہیں، جب تک چاہو رکھو۔<end_of_turn>\n",
      "    <start_of_turn>model\n",
      "    No, keep it as long as you want. \n",
      "<end_of_turn>\n"
     ]
    },
    {
     "name": "stderr",
     "output_type": "stream",
     "text": [
      "\r",
      "62it [00:48,  1.14it/s]"
     ]
    },
    {
     "name": "stdout",
     "output_type": "stream",
     "text": [
      "<bos>\n",
      "    <start_of_turn>user\n",
      "    Translate the sentence into english and only return the translation:\n",
      "\n",
      "    اچھی<end_of_turn>\n",
      "    <start_of_turn>model\n",
      "    Good \n",
      "<end_of_turn>\n"
     ]
    },
    {
     "name": "stderr",
     "output_type": "stream",
     "text": [
      "\r",
      "63it [00:48,  1.49it/s]"
     ]
    },
    {
     "name": "stdout",
     "output_type": "stream",
     "text": [
      "<bos>\n",
      "    <start_of_turn>user\n",
      "    Translate the sentence into english and only return the translation:\n",
      "\n",
      "    (گوگل کے ذریعہ ترجمہ کیا گیا) حیرت انگیز (اصل) حیرت انگیز کراہے۔<end_of_turn>\n",
      "    <start_of_turn>model\n",
      "    Amazing (original) amazing. \n",
      "<end_of_turn>\n"
     ]
    },
    {
     "name": "stderr",
     "output_type": "stream",
     "text": [
      "\r",
      "64it [00:48,  1.72it/s]"
     ]
    },
    {
     "name": "stdout",
     "output_type": "stream",
     "text": [
      "<bos>\n",
      "    <start_of_turn>user\n",
      "    Translate the sentence into english and only return the translation:\n",
      "\n",
      "    اچھا ذائقہ<end_of_turn>\n",
      "    <start_of_turn>model\n",
      "    Good taste \n",
      "<end_of_turn>\n"
     ]
    },
    {
     "name": "stderr",
     "output_type": "stream",
     "text": [
      "\r",
      "65it [00:49,  2.11it/s]"
     ]
    },
    {
     "name": "stdout",
     "output_type": "stream",
     "text": [
      "<bos>\n",
      "    <start_of_turn>user\n",
      "    Translate the sentence into english and only return the translation:\n",
      "\n",
      "    اچھا اور لذیذ کھانا، بہترین ماحول، تیز سروس، عملہ بہت تعاون کرتا ہے۔<end_of_turn>\n",
      "    <start_of_turn>model\n",
      "    Good food, a great atmosphere, fast service, and a team that works well together. \n",
      "<end_of_turn>\n"
     ]
    },
    {
     "name": "stderr",
     "output_type": "stream",
     "text": [
      "\r",
      "66it [00:50,  1.72it/s]"
     ]
    },
    {
     "name": "stdout",
     "output_type": "stream",
     "text": [
      "<bos>\n",
      "    <start_of_turn>user\n",
      "    Translate the sentence into english and only return the translation:\n",
      "\n",
      "     میری ماں نے ریمار کر دیا۔<end_of_turn>\n",
      "    <start_of_turn>model\n",
      "    My mother has marked it. \n",
      "<end_of_turn>\n"
     ]
    },
    {
     "name": "stderr",
     "output_type": "stream",
     "text": [
      "\r",
      "67it [00:50,  1.92it/s]"
     ]
    },
    {
     "name": "stdout",
     "output_type": "stream",
     "text": [
      "<bos>\n",
      "    <start_of_turn>user\n",
      "    Translate the sentence into english and only return the translation:\n",
      "\n",
      "     \"اتنا بہتر - اتنا ہی بہتر! آپ کے تمام پرانے دوستوں کو اس سے زیادہ خوشی کوئی نہیں دے گی۔ اور میں سینٹ نکولس قلعہ کے پیچھے ایک کو جانتا ہوں جسے سن کر افسوس نہیں ہوگا۔<end_of_turn>\n",
      "    <start_of_turn>model\n",
      "    \"We're better - we're better! You'll get more joy from your old friends than you can imagine. And I know a place behind Santa Claus's castle that will make you sad.\" \n",
      "<end_of_turn>\n"
     ]
    },
    {
     "name": "stderr",
     "output_type": "stream",
     "text": [
      "\r",
      "68it [00:52,  1.11it/s]"
     ]
    },
    {
     "name": "stdout",
     "output_type": "stream",
     "text": [
      "<bos>\n",
      "    <start_of_turn>user\n",
      "    Translate the sentence into english and only return the translation:\n",
      "\n",
      "    اچھا کھانا اچھا ذائقہ اچھا معیار اور پارکنگ کی جگہ<end_of_turn>\n",
      "    <start_of_turn>model\n",
      "    Good food, good taste, good standard and parking space. \n",
      "<end_of_turn>\n"
     ]
    },
    {
     "name": "stderr",
     "output_type": "stream",
     "text": [
      "\r",
      "69it [00:52,  1.23it/s]"
     ]
    },
    {
     "name": "stdout",
     "output_type": "stream",
     "text": [
      "<bos>\n",
      "    <start_of_turn>user\n",
      "    Translate the sentence into english and only return the translation:\n",
      "\n",
      "    اچھا کھانا<end_of_turn>\n",
      "    <start_of_turn>model\n",
      "    Good food \n",
      "<end_of_turn>\n"
     ]
    },
    {
     "name": "stderr",
     "output_type": "stream",
     "text": [
      "\r",
      "70it [00:53,  1.57it/s]"
     ]
    },
    {
     "name": "stdout",
     "output_type": "stream",
     "text": [
      "<bos>\n",
      "    <start_of_turn>user\n",
      "    Translate the sentence into english and only return the translation:\n",
      "\n",
      "    کھانا اچھا ہے لیکن بیٹھنا مختصر ہے ہمیشہ انتظار کرنا<end_of_turn>\n",
      "    <start_of_turn>model\n",
      "    It's good to eat, but sitting down is short, we always have to wait. \n",
      "<end_of_turn>\n"
     ]
    },
    {
     "name": "stderr",
     "output_type": "stream",
     "text": [
      "\r",
      "71it [00:53,  1.42it/s]"
     ]
    },
    {
     "name": "stdout",
     "output_type": "stream",
     "text": [
      "<bos>\n",
      "    <start_of_turn>user\n",
      "    Translate the sentence into english and only return the translation:\n",
      "\n",
      "    اِس پر یِسُوع نے جواب میں اُس سے کہا اے عورت تیرا اِیمان بہت بڑا ہے ۔ جیسا تُو چاہتی ہے تیرے لِئے ویسا ہی ہو اور اُس کی بیٹی نے اُسی گھڑی شِفا پائی ۔<end_of_turn>\n",
      "    <start_of_turn>model\n",
      "    Jesus said to the woman, \"Your faith is great.  Do as you wish, and your daughter will be healed.\" \n",
      "<end_of_turn>\n"
     ]
    },
    {
     "name": "stderr",
     "output_type": "stream",
     "text": [
      "\r",
      "72it [00:55,  1.21it/s]"
     ]
    },
    {
     "name": "stdout",
     "output_type": "stream",
     "text": [
      "<bos>\n",
      "    <start_of_turn>user\n",
      "    Translate the sentence into english and only return the translation:\n",
      "\n",
      "    کھانا اچھا ہے، سرونگ کا وقت ٹھیک ہے لیکن نان اور مشروبات کی سرونگ کا وقت سب سے برا ہے۔<end_of_turn>\n",
      "    <start_of_turn>model\n",
      "    The food is good, the time for the song is right, but the time for bread and drinks is the worst. \n",
      "<end_of_turn>\n"
     ]
    },
    {
     "name": "stderr",
     "output_type": "stream",
     "text": [
      "\r",
      "73it [00:56,  1.11it/s]"
     ]
    },
    {
     "name": "stdout",
     "output_type": "stream",
     "text": [
      "<bos>\n",
      "    <start_of_turn>user\n",
      "    Translate the sentence into english and only return the translation:\n",
      "\n",
      "    پرامن ماحول اور بہترین سروس۔<end_of_turn>\n",
      "    <start_of_turn>model\n",
      "    Excellent environment and best service. \n",
      "<end_of_turn>\n"
     ]
    },
    {
     "name": "stderr",
     "output_type": "stream",
     "text": [
      "\r",
      "74it [00:56,  1.35it/s]"
     ]
    },
    {
     "name": "stdout",
     "output_type": "stream",
     "text": [
      "<bos>\n",
      "    <start_of_turn>user\n",
      "    Translate the sentence into english and only return the translation:\n",
      "\n",
      "    وہ ہر روز چیزیں خریدنے کے لئے بازار جاتی ہے۔<end_of_turn>\n",
      "    <start_of_turn>model\n",
      "    She goes to the market every day to buy things. \n",
      "<end_of_turn>\n"
     ]
    },
    {
     "name": "stderr",
     "output_type": "stream",
     "text": [
      "\r",
      "75it [00:57,  1.45it/s]"
     ]
    },
    {
     "name": "stdout",
     "output_type": "stream",
     "text": [
      "<bos>\n",
      "    <start_of_turn>user\n",
      "    Translate the sentence into english and only return the translation:\n",
      "\n",
      "    میں نے یہ سویٹر کل خریدا تھا۔<end_of_turn>\n",
      "    <start_of_turn>model\n",
      "    I bought this sweater yesterday. \n",
      "<end_of_turn>\n"
     ]
    },
    {
     "name": "stderr",
     "output_type": "stream",
     "text": [
      "\r",
      "76it [00:57,  1.68it/s]"
     ]
    },
    {
     "name": "stdout",
     "output_type": "stream",
     "text": [
      "<bos>\n",
      "    <start_of_turn>user\n",
      "    Translate the sentence into english and only return the translation:\n",
      "\n",
      "    nan<end_of_turn>\n",
      "    <start_of_turn>model\n",
      "    not a word \n",
      "<end_of_turn>\n"
     ]
    },
    {
     "name": "stderr",
     "output_type": "stream",
     "text": [
      "\r",
      "77it [00:57,  2.02it/s]"
     ]
    },
    {
     "name": "stdout",
     "output_type": "stream",
     "text": [
      "<bos>\n",
      "    <start_of_turn>user\n",
      "    Translate the sentence into english and only return the translation:\n",
      "\n",
      "    بہت اچھا ذائقہ.. سستی قیمت<end_of_turn>\n",
      "    <start_of_turn>model\n",
      "    Very good taste. Low price. \n",
      "<end_of_turn>\n"
     ]
    },
    {
     "name": "stderr",
     "output_type": "stream",
     "text": [
      "\r",
      "78it [00:58,  2.12it/s]"
     ]
    },
    {
     "name": "stdout",
     "output_type": "stream",
     "text": [
      "<bos>\n",
      "    <start_of_turn>user\n",
      "    Translate the sentence into english and only return the translation:\n",
      "\n",
      "    دیکھنے کے لیے اچھی اچھی جگہ۔ اچھی ہوا دار چھت۔ بی بی کیو مینو کے لیے زیادہ تر تجویز کردہ۔ چائے لاجواب تھی :p 10 میں سے پارکنگ 6 ایمبیئنس 9 قیمتیں 6 ذائقہ 10 سروس 8 مجموعی طور پر 8<end_of_turn>\n",
      "    <start_of_turn>model\n",
      "    A good place to see. Good weather with a canopy. Most recommended for BB's K. Tea was a good choice: p 10 out of 10 parking 6 cars 9 prices 6 tastes 10 services 8 in total 8 \n",
      "<end_of_turn>\n"
     ]
    },
    {
     "name": "stderr",
     "output_type": "stream",
     "text": [
      "\r",
      "79it [01:00,  1.01s/it]"
     ]
    },
    {
     "name": "stdout",
     "output_type": "stream",
     "text": [
      "<bos>\n",
      "    <start_of_turn>user\n",
      "    Translate the sentence into english and only return the translation:\n",
      "\n",
      "    کھانے کا کوئی معیار بہت مایوس کن ہے۔<end_of_turn>\n",
      "    <start_of_turn>model\n",
      "    There's no standard for eating. \n",
      "<end_of_turn>\n"
     ]
    },
    {
     "name": "stderr",
     "output_type": "stream",
     "text": [
      "\r",
      "80it [01:00,  1.18it/s]"
     ]
    },
    {
     "name": "stdout",
     "output_type": "stream",
     "text": [
      "<bos>\n",
      "    <start_of_turn>user\n",
      "    Translate the sentence into english and only return the translation:\n",
      "\n",
      "    بہترین دھاگا کباب اور دیگر بی بی کیو آئٹمز<end_of_turn>\n",
      "    <start_of_turn>model\n",
      "    The best kebab and other BBQ items. \n",
      "<end_of_turn>\n"
     ]
    },
    {
     "name": "stderr",
     "output_type": "stream",
     "text": [
      "\r",
      "81it [01:01,  1.38it/s]"
     ]
    },
    {
     "name": "stdout",
     "output_type": "stream",
     "text": [
      "<bos>\n",
      "    <start_of_turn>user\n",
      "    Translate the sentence into english and only return the translation:\n",
      "\n",
      "    سروس ہمیشہ قابل رحم ہوتی ہے، کھانے کا معیار کئی سالوں سے نیچے چلا گیا ہے۔<end_of_turn>\n",
      "    <start_of_turn>model\n",
      "    Food aid has always been humane, but the quality of food has been declining for years. \n",
      "<end_of_turn>\n"
     ]
    },
    {
     "name": "stderr",
     "output_type": "stream",
     "text": [
      "\r",
      "82it [01:02,  1.32it/s]"
     ]
    },
    {
     "name": "stdout",
     "output_type": "stream",
     "text": [
      "<bos>\n",
      "    <start_of_turn>user\n",
      "    Translate the sentence into english and only return the translation:\n",
      "\n",
      "    4|90|مگر جو لوگ ایسے لوگوں سے جا ملے ہوں جن میں اور تم میں (صلح کا) عہد ہو یا اس حال میں کہ ان کے دل تمہارے ساتھ یا اپنی قوم کے ساتھ لڑنے سے رک گئے ہوں تمہارے پاس آجائیں (تو احتراز ضروری نہیں) اور اگر خدا چاہتا تو ان کو تم پر غالب کردیتا تو وہ تم سے ضرور لڑتے پھر اگر وہ تم سے (جنگ کرنے سے) کنارہ کشی کریں اور لڑیں نہیں اور تمہاری طرف صلح (کا پیغام) بھیجیں تو خدا نے تمہارے لئے ان پر (زبردستی کرنے کی) کوئی سبیل مقرر نہیں کی <end_of_turn>\n",
      "    <start_of_turn>model\n",
      "    If they come to you with a treaty (of peace), then there is no need for a declaration. And if God wills, He will make them victorious over you. If they refuse to fight and stay away from you, and send you a message of peace, then God has no way to make them submit to you. \n",
      "<end_of_turn>\n"
     ]
    },
    {
     "name": "stderr",
     "output_type": "stream",
     "text": [
      "\r",
      "83it [01:04,  1.34s/it]"
     ]
    },
    {
     "name": "stdout",
     "output_type": "stream",
     "text": [
      "<bos>\n",
      "    <start_of_turn>user\n",
      "    Translate the sentence into english and only return the translation:\n",
      "\n",
      "    بدترین سروس، انتہائی کم مقدار کے ساتھ انتہائی قیمت چارجز<end_of_turn>\n",
      "    <start_of_turn>model\n",
      "    The worst service, with extremely high prices. \n",
      "<end_of_turn>\n"
     ]
    },
    {
     "name": "stderr",
     "output_type": "stream",
     "text": [
      "\r",
      "84it [01:05,  1.08s/it]"
     ]
    },
    {
     "name": "stdout",
     "output_type": "stream",
     "text": [
      "<bos>\n",
      "    <start_of_turn>user\n",
      "    Translate the sentence into english and only return the translation:\n",
      "\n",
      "    بچپن میں بہت کھایا...<end_of_turn>\n",
      "    <start_of_turn>model\n",
      "    I ate a lot in childhood... \n",
      "<end_of_turn>\n"
     ]
    },
    {
     "name": "stderr",
     "output_type": "stream",
     "text": [
      "\r",
      "85it [01:05,  1.13it/s]"
     ]
    },
    {
     "name": "stdout",
     "output_type": "stream",
     "text": [
      "<bos>\n",
      "    <start_of_turn>user\n",
      "    Translate the sentence into english and only return the translation:\n",
      "\n",
      "    شاندار ذائقہ<end_of_turn>\n",
      "    <start_of_turn>model\n",
      "    Sweet tooth \n",
      "<end_of_turn>\n"
     ]
    },
    {
     "name": "stderr",
     "output_type": "stream",
     "text": [
      "\r",
      "86it [01:05,  1.46it/s]"
     ]
    },
    {
     "name": "stdout",
     "output_type": "stream",
     "text": [
      "<bos>\n",
      "    <start_of_turn>user\n",
      "    Translate the sentence into english and only return the translation:\n",
      "\n",
      "    بس ان کے ذائقے سے پیار کریں۔<end_of_turn>\n",
      "    <start_of_turn>model\n",
      "    Enjoy the taste of it. \n",
      "<end_of_turn>\n"
     ]
    },
    {
     "name": "stderr",
     "output_type": "stream",
     "text": [
      "\r",
      "87it [01:06,  1.69it/s]"
     ]
    },
    {
     "name": "stdout",
     "output_type": "stream",
     "text": [
      "<bos>\n",
      "    <start_of_turn>user\n",
      "    Translate the sentence into english and only return the translation:\n",
      "\n",
      "    برا نہیں ہے<end_of_turn>\n",
      "    <start_of_turn>model\n",
      "    He is not. \n",
      "<end_of_turn>\n"
     ]
    },
    {
     "name": "stderr",
     "output_type": "stream",
     "text": [
      "\r",
      "88it [01:06,  1.98it/s]"
     ]
    },
    {
     "name": "stdout",
     "output_type": "stream",
     "text": [
      "<bos>\n",
      "    <start_of_turn>user\n",
      "    Translate the sentence into english and only return the translation:\n",
      "\n",
      "    یہ ایک سادہ ریستوراں ہے جو روایتی BBQ اشیاء اور نہاری پیش کرتا ہے۔ خاندان کے لیے اچھا ہے۔<end_of_turn>\n",
      "    <start_of_turn>model\n",
      "    This is a simple restaurant that serves traditional BBQ dishes and naan. Good for families. \n",
      "<end_of_turn>\n"
     ]
    },
    {
     "name": "stderr",
     "output_type": "stream",
     "text": [
      "\r",
      "89it [01:07,  1.66it/s]"
     ]
    },
    {
     "name": "stdout",
     "output_type": "stream",
     "text": [
      "<bos>\n",
      "    <start_of_turn>user\n",
      "    Translate the sentence into english and only return the translation:\n",
      "\n",
      "    حیرت انگیز نرم ذائقہ جس کی میں وضاحت نہیں کر سکتا... پرہاٹوں، ​​کیما اور ہر چیز میں واقعی بہت اچھا ذائقہ.. بہترین ذائقہ کے لئے شکریہ اللہ ان کو برکت عطا فرمائے...<end_of_turn>\n",
      "    <start_of_turn>model\n",
      "    Amazingly sweet taste I can't explain...  It's really good in everything, from food to drinks.  Thank you Allah, bless them with blessings. \n",
      "<end_of_turn>\n"
     ]
    },
    {
     "name": "stderr",
     "output_type": "stream",
     "text": [
      "\r",
      "90it [01:08,  1.16it/s]"
     ]
    },
    {
     "name": "stdout",
     "output_type": "stream",
     "text": [
      "<bos>\n",
      "    <start_of_turn>user\n",
      "    Translate the sentence into english and only return the translation:\n",
      "\n",
      "    بہترین ماحول کے ساتھ بہترین کھانا<end_of_turn>\n",
      "    <start_of_turn>model\n",
      "    With the best environment, the best food. \n",
      "<end_of_turn>\n"
     ]
    },
    {
     "name": "stderr",
     "output_type": "stream",
     "text": [
      "\r",
      "91it [01:09,  1.33it/s]"
     ]
    },
    {
     "name": "stdout",
     "output_type": "stream",
     "text": [
      "<bos>\n",
      "    <start_of_turn>user\n",
      "    Translate the sentence into english and only return the translation:\n",
      "\n",
      "    آپ کی کتنی عمر ہے؟<end_of_turn>\n",
      "    <start_of_turn>model\n",
      "    How old are you? \n",
      "<end_of_turn>\n"
     ]
    },
    {
     "name": "stderr",
     "output_type": "stream",
     "text": [
      "\r",
      "92it [01:09,  1.60it/s]"
     ]
    },
    {
     "name": "stdout",
     "output_type": "stream",
     "text": [
      "<bos>\n",
      "    <start_of_turn>user\n",
      "    Translate the sentence into english and only return the translation:\n",
      "\n",
      "    کھانا غیر معمولی ہے سوائے بیٹھنے کے انتظام کے جو کہ ذیلی معیاری ہے۔<end_of_turn>\n",
      "    <start_of_turn>model\n",
      "    The food is not ordinary, except for the seating arrangements which are sub-standard. \n",
      "<end_of_turn>\n"
     ]
    },
    {
     "name": "stderr",
     "output_type": "stream",
     "text": [
      "\r",
      "93it [01:10,  1.48it/s]"
     ]
    },
    {
     "name": "stdout",
     "output_type": "stream",
     "text": [
      "<bos>\n",
      "    <start_of_turn>user\n",
      "    Translate the sentence into english and only return the translation:\n",
      "\n",
      "    لاجواب کھانا دیسی مٹن کراہی میمنا کراہی مٹن چمپ ڈمب بک ❤️<end_of_turn>\n",
      "    <start_of_turn>model\n",
      "    I don't want to eat food, I'm not hungry, I'm not hungry. \n",
      "<end_of_turn>\n"
     ]
    },
    {
     "name": "stderr",
     "output_type": "stream",
     "text": [
      "\r",
      "94it [01:11,  1.32it/s]"
     ]
    },
    {
     "name": "stdout",
     "output_type": "stream",
     "text": [
      "<bos>\n",
      "    <start_of_turn>user\n",
      "    Translate the sentence into english and only return the translation:\n",
      "\n",
      "    کیا تمہیں پورا یقین ہے کہ ٹام یہ کر لے گا؟<end_of_turn>\n",
      "    <start_of_turn>model\n",
      "    Do you believe Tom will do this? \n",
      "<end_of_turn>\n"
     ]
    },
    {
     "name": "stderr",
     "output_type": "stream",
     "text": [
      "\r",
      "95it [01:11,  1.50it/s]"
     ]
    },
    {
     "name": "stdout",
     "output_type": "stream",
     "text": [
      "<bos>\n",
      "    <start_of_turn>user\n",
      "    Translate the sentence into english and only return the translation:\n",
      "\n",
      "    اچھا ماحول بہترین معیار اقتصادی<end_of_turn>\n",
      "    <start_of_turn>model\n",
      "    Good atmosphere, the best economic standard. \n",
      "<end_of_turn>\n"
     ]
    },
    {
     "name": "stderr",
     "output_type": "stream",
     "text": [
      "\r",
      "96it [01:12,  1.66it/s]"
     ]
    },
    {
     "name": "stdout",
     "output_type": "stream",
     "text": [
      "<bos>\n",
      "    <start_of_turn>user\n",
      "    Translate the sentence into english and only return the translation:\n",
      "\n",
      "    nan<end_of_turn>\n",
      "    <start_of_turn>model\n",
      "    not a word \n",
      "<end_of_turn>\n"
     ]
    },
    {
     "name": "stderr",
     "output_type": "stream",
     "text": [
      "\r",
      "97it [01:12,  2.00it/s]"
     ]
    },
    {
     "name": "stdout",
     "output_type": "stream",
     "text": [
      "<bos>\n",
      "    <start_of_turn>user\n",
      "    Translate the sentence into english and only return the translation:\n",
      "\n",
      "    میں نے یہ کام عادت سے مجبور ہوکرکی<end_of_turn>\n",
      "    <start_of_turn>model\n",
      "    I was forced to do this out of habit. \n",
      "<end_of_turn>\n"
     ]
    },
    {
     "name": "stderr",
     "output_type": "stream",
     "text": [
      "\r",
      "98it [01:13,  1.97it/s]"
     ]
    },
    {
     "name": "stdout",
     "output_type": "stream",
     "text": [
      "<bos>\n",
      "    <start_of_turn>user\n",
      "    Translate the sentence into english and only return the translation:\n",
      "\n",
      "    بہت بہتر کھانا اور خاندانی نشستیں۔<end_of_turn>\n",
      "    <start_of_turn>model\n",
      "    Very good food and family seating. \n",
      "<end_of_turn>\n"
     ]
    },
    {
     "name": "stderr",
     "output_type": "stream",
     "text": [
      "\r",
      "99it [01:13,  2.08it/s]"
     ]
    },
    {
     "name": "stdout",
     "output_type": "stream",
     "text": [
      "<bos>\n",
      "    <start_of_turn>user\n",
      "    Translate the sentence into english and only return the translation:\n",
      "\n",
      "    نہاری جگہ کے نام سے جانا جاتا ہے لیکن دوسری چیزیں نہاری سے زیادہ لذیذ ہوتی ہیں۔<end_of_turn>\n",
      "    <start_of_turn>model\n",
      "    It is known as a place, but other things are more delicious than a place. \n",
      "<end_of_turn>\n"
     ]
    },
    {
     "name": "stderr",
     "output_type": "stream",
     "text": [
      "\r",
      "100it [01:14,  1.74it/s]"
     ]
    },
    {
     "name": "stdout",
     "output_type": "stream",
     "text": [
      "<bos>\n",
      "    <start_of_turn>user\n",
      "    Translate the sentence into english and only return the translation:\n",
      "\n",
      "    مزیدار فش گرل کا میں نے کبھی تجربہ کیا ہے اور یہ جرم ہو گا اگر میں وہاں کے مالک کی تعریف نہ کروں جس نے بھوک، ذائقہ، افراد اور کھانا پکانے کی قسم کی بنیاد پر ہمیں بہترین رائے دی کہ ہمیں کس قسم کی مچھلی کھانی چاہیے۔<end_of_turn>\n",
      "    <start_of_turn>model\n",
      "    I've never had the experience of being a chef, and it would be a crime if I don't praise the owner of the place who gave us the best opinion on what kind of fish to eat, based on hunger, taste, people, and the kind of food they cook. \n",
      "<end_of_turn>\n"
     ]
    },
    {
     "name": "stderr",
     "output_type": "stream",
     "text": [
      "\r",
      "101it [01:16,  1.13s/it]"
     ]
    },
    {
     "name": "stdout",
     "output_type": "stream",
     "text": [
      "<bos>\n",
      "    <start_of_turn>user\n",
      "    Translate the sentence into english and only return the translation:\n",
      "\n",
      "    اچھا کھانا<end_of_turn>\n",
      "    <start_of_turn>model\n",
      "    Good food \n",
      "<end_of_turn>\n"
     ]
    },
    {
     "name": "stderr",
     "output_type": "stream",
     "text": [
      "\r",
      "102it [01:17,  1.17it/s]"
     ]
    },
    {
     "name": "stdout",
     "output_type": "stream",
     "text": [
      "<bos>\n",
      "    <start_of_turn>user\n",
      "    Translate the sentence into english and only return the translation:\n",
      "\n",
      "    یہ ٹھیک ہے... برا نہیں... پیسے کی اچھی قیمت...<end_of_turn>\n",
      "    <start_of_turn>model\n",
      "    This is... not bad... good price. \n",
      "<end_of_turn>\n"
     ]
    },
    {
     "name": "stderr",
     "output_type": "stream",
     "text": [
      "\r",
      "103it [01:17,  1.34it/s]"
     ]
    },
    {
     "name": "stdout",
     "output_type": "stream",
     "text": [
      "<bos>\n",
      "    <start_of_turn>user\n",
      "    Translate the sentence into english and only return the translation:\n",
      "\n",
      "    12|74|بولے کہ اگر تم جھوٹے نکلے (یعنی چوری ثابت ہوئی) تو اس کی سزا کیا <end_of_turn>\n",
      "    <start_of_turn>model\n",
      "    If you steal (meaning the theft is proven), what is the punishment? \n",
      "<end_of_turn>\n"
     ]
    },
    {
     "name": "stderr",
     "output_type": "stream",
     "text": [
      "\r",
      "104it [01:18,  1.36it/s]"
     ]
    },
    {
     "name": "stdout",
     "output_type": "stream",
     "text": [
      "<bos>\n",
      "    <start_of_turn>user\n",
      "    Translate the sentence into english and only return the translation:\n",
      "\n",
      "     اس کے پاس زیادہ پیسے نہیں ہیں۔<end_of_turn>\n",
      "    <start_of_turn>model\n",
      "    He doesn't have much money. \n",
      "<end_of_turn>\n"
     ]
    },
    {
     "name": "stderr",
     "output_type": "stream",
     "text": [
      "\r",
      "105it [01:18,  1.53it/s]"
     ]
    },
    {
     "name": "stdout",
     "output_type": "stream",
     "text": [
      "<bos>\n",
      "    <start_of_turn>user\n",
      "    Translate the sentence into english and only return the translation:\n",
      "\n",
      "    اچھی قیمت، اچھا کھانا لیکن اوسط سروس<end_of_turn>\n",
      "    <start_of_turn>model\n",
      "    Good price, good food but average service. \n",
      "<end_of_turn>\n"
     ]
    },
    {
     "name": "stderr",
     "output_type": "stream",
     "text": [
      "\r",
      "106it [01:19,  1.66it/s]"
     ]
    },
    {
     "name": "stdout",
     "output_type": "stream",
     "text": [
      "<bos>\n",
      "    <start_of_turn>user\n",
      "    Translate the sentence into english and only return the translation:\n",
      "\n",
      "    اُس نے مجھ سے اس کی بد تمیزی کے بارے میں شکایت کی۔<end_of_turn>\n",
      "    <start_of_turn>model\n",
      "    He complained to me about his bad behavior. \n",
      "<end_of_turn>\n"
     ]
    },
    {
     "name": "stderr",
     "output_type": "stream",
     "text": [
      "\r",
      "107it [01:19,  1.76it/s]"
     ]
    },
    {
     "name": "stdout",
     "output_type": "stream",
     "text": [
      "<bos>\n",
      "    <start_of_turn>user\n",
      "    Translate the sentence into english and only return the translation:\n",
      "\n",
      "    عام طور پر عظیم ذائقہ کے طور پر حیرت انگیز<end_of_turn>\n",
      "    <start_of_turn>model\n",
      "    Generally, it's amazing in taste. \n",
      "<end_of_turn>\n"
     ]
    },
    {
     "name": "stderr",
     "output_type": "stream",
     "text": [
      "\r",
      "108it [01:20,  1.83it/s]"
     ]
    },
    {
     "name": "stdout",
     "output_type": "stream",
     "text": [
      "<bos>\n",
      "    <start_of_turn>user\n",
      "    Translate the sentence into english and only return the translation:\n",
      "\n",
      "    کھانا ٹھیک تھا، اچھا نہیں تھا لیکن برا بھی نہیں تھا۔<end_of_turn>\n",
      "    <start_of_turn>model\n",
      "    It was okay to eat, not great, but not bad either. \n",
      "<end_of_turn>\n"
     ]
    },
    {
     "name": "stderr",
     "output_type": "stream",
     "text": [
      "\r",
      "109it [01:20,  1.70it/s]"
     ]
    },
    {
     "name": "stdout",
     "output_type": "stream",
     "text": [
      "<bos>\n",
      "    <start_of_turn>user\n",
      "    Translate the sentence into english and only return the translation:\n",
      "\n",
      "    شہر کے سب سے مشہور ریستوراں میں سے ایک<end_of_turn>\n",
      "    <start_of_turn>model\n",
      "    One of the most famous restaurants in the city. \n",
      "<end_of_turn>\n"
     ]
    },
    {
     "name": "stderr",
     "output_type": "stream",
     "text": [
      "\r",
      "110it [01:21,  1.75it/s]"
     ]
    },
    {
     "name": "stdout",
     "output_type": "stream",
     "text": [
      "<bos>\n",
      "    <start_of_turn>user\n",
      "    Translate the sentence into english and only return the translation:\n",
      "\n",
      "    اچھا کھانا<end_of_turn>\n",
      "    <start_of_turn>model\n",
      "    Good food \n",
      "<end_of_turn>\n"
     ]
    },
    {
     "name": "stderr",
     "output_type": "stream",
     "text": [
      "\r",
      "111it [01:21,  2.14it/s]"
     ]
    },
    {
     "name": "stdout",
     "output_type": "stream",
     "text": [
      "<bos>\n",
      "    <start_of_turn>user\n",
      "    Translate the sentence into english and only return the translation:\n",
      "\n",
      "    یہ مشرکین کہتے ہیں \"اگر اللہ چاہتا تو نہ ہم اور نہ ہمارے باپ دادا اُس کے سوا کسی اور کی عبادت کرتے اور نہ اُس کے حکم کے بغیر کسی چیز کو حرام ٹھیراتے\" ایسے ہی بہانے اِن سے پہلے کے لوگ بھی بناتے رہے ہیں تو کیا رسولوں پر صاف صاف بات پہنچا دینے کے سوا اور بھی کوئی ذمہ داری ہے؟<end_of_turn>\n",
      "    <start_of_turn>model\n",
      "    \"The disbelievers say: 'If God wills, we and our fathers would not worship anyone but God, and we would not make anything unlawful without God's command.'  If these same excuses have been used by people before, what other responsibility is there to convey the message to the messengers without being clear and straightforward?\" \n",
      "<end_of_turn>\n"
     ]
    },
    {
     "name": "stderr",
     "output_type": "stream",
     "text": [
      "\r",
      "112it [01:24,  1.14s/it]"
     ]
    },
    {
     "name": "stdout",
     "output_type": "stream",
     "text": [
      "<bos>\n",
      "    <start_of_turn>user\n",
      "    Translate the sentence into english and only return the translation:\n",
      "\n",
      "    (گوگل کا ترجمہ) بہترین مٹن کرہائی۔ (اصل) بہترین مٹن کرہائی۔<end_of_turn>\n",
      "    <start_of_turn>model\n",
      "    \"Google's translation: The best cotton is the best.\" \n",
      "<end_of_turn>\n"
     ]
    },
    {
     "name": "stderr",
     "output_type": "stream",
     "text": [
      "\r",
      "113it [01:24,  1.01it/s]"
     ]
    },
    {
     "name": "stdout",
     "output_type": "stream",
     "text": [
      "<bos>\n",
      "    <start_of_turn>user\n",
      "    Translate the sentence into english and only return the translation:\n",
      "\n",
      "    ٹام مر چکا ہے۔<end_of_turn>\n",
      "    <start_of_turn>model\n",
      "    He's gone. \n",
      "<end_of_turn>\n"
     ]
    },
    {
     "name": "stderr",
     "output_type": "stream",
     "text": [
      "\r",
      "114it [01:25,  1.26it/s]"
     ]
    },
    {
     "name": "stdout",
     "output_type": "stream",
     "text": [
      "<bos>\n",
      "    <start_of_turn>user\n",
      "    Translate the sentence into english and only return the translation:\n",
      "\n",
      "    اچھا معیار، بہترین بیٹھنے کا انتظام، روایتی ذائقہ<end_of_turn>\n",
      "    <start_of_turn>model\n",
      "    Good standard, best seating arrangement, traditional taste. \n",
      "<end_of_turn>\n"
     ]
    },
    {
     "name": "stderr",
     "output_type": "stream",
     "text": [
      "\r",
      "115it [01:25,  1.40it/s]"
     ]
    },
    {
     "name": "stdout",
     "output_type": "stream",
     "text": [
      "<bos>\n",
      "    <start_of_turn>user\n",
      "    Translate the sentence into english and only return the translation:\n",
      "\n",
      "    اتنا مہنگا اور کھانے کا ذائقہ اتنا اچھا نہیں ہے۔<end_of_turn>\n",
      "    <start_of_turn>model\n",
      "    The food is expensive and doesn't taste as good. \n",
      "<end_of_turn>\n"
     ]
    },
    {
     "name": "stderr",
     "output_type": "stream",
     "text": [
      "\r",
      "116it [01:26,  1.47it/s]"
     ]
    },
    {
     "name": "stdout",
     "output_type": "stream",
     "text": [
      "<bos>\n",
      "    <start_of_turn>user\n",
      "    Translate the sentence into english and only return the translation:\n",
      "\n",
      "    یاد کر جبکہ تیری بہن چل رہی تھی، پھر جا کر کہتی ہے، \"میں تمہیں اُس کا پتہ دوں جو اِس بچے کی پرورش اچھی طرح کرے؟\" اس طرح ہم نے تجھے پھر تیری ماں کے پاس پہنچا دیا تاکہ اُس کی آنکھ ٹھنڈی رہے اور وہ رنجیدہ نہ ہو اور (یہ بھی یاد کر کہ) تو نے ایک شخص کو قتل کر دیا تھا، ہم نے تجھے اِس پھندے سے نکالا اور تجھے مختلف آزمائشوں سے گزارا اور تو مَدیَن کے لوگوں میں کئی سال ٹھیرا رہا پھر اب ٹھیک اپنے وقت پر تو آ گیا ہے اے موسیٰؑ<end_of_turn>\n",
      "    <start_of_turn>model\n",
      "    \"When your sister was there, she asked, 'Do you know where to find someone who raises a child well?' We then brought you to your mother so that her eyes would be cold and she wouldn't be distressed, and (remember this) you had killed a person, we took you out of that fire and subjected you to many trials, and you stayed in the land of the Medin people for many years, and now you have come to your time, O Moses.\" \n",
      "<end_of_turn>\n"
     ]
    },
    {
     "name": "stderr",
     "output_type": "stream",
     "text": [
      "\r",
      "117it [01:30,  1.68s/it]"
     ]
    },
    {
     "name": "stdout",
     "output_type": "stream",
     "text": [
      "<bos>\n",
      "    <start_of_turn>user\n",
      "    Translate the sentence into english and only return the translation:\n",
      "\n",
      "    اچھا ذائقہ<end_of_turn>\n",
      "    <start_of_turn>model\n",
      "    Good taste \n",
      "<end_of_turn>\n"
     ]
    },
    {
     "name": "stderr",
     "output_type": "stream",
     "text": [
      "\r",
      "118it [01:30,  1.24s/it]"
     ]
    },
    {
     "name": "stdout",
     "output_type": "stream",
     "text": [
      "<bos>\n",
      "    <start_of_turn>user\n",
      "    Translate the sentence into english and only return the translation:\n",
      "\n",
      "    مقامی اسٹریٹ فوڈ!<end_of_turn>\n",
      "    <start_of_turn>model\n",
      "    Street food spot! \n",
      "<end_of_turn>\n"
     ]
    },
    {
     "name": "stderr",
     "output_type": "stream",
     "text": [
      "\r",
      "119it [01:30,  1.04it/s]"
     ]
    },
    {
     "name": "stdout",
     "output_type": "stream",
     "text": [
      "<bos>\n",
      "    <start_of_turn>user\n",
      "    Translate the sentence into english and only return the translation:\n",
      "\n",
      "    بلیک بورڈ پر ڈکٹیشن لکھیں۔<end_of_turn>\n",
      "    <start_of_turn>model\n",
      "    Write a note on the board. \n",
      "<end_of_turn>\n"
     ]
    },
    {
     "name": "stderr",
     "output_type": "stream",
     "text": [
      "\r",
      "120it [01:31,  1.25it/s]"
     ]
    },
    {
     "name": "stdout",
     "output_type": "stream",
     "text": [
      "<bos>\n",
      "    <start_of_turn>user\n",
      "    Translate the sentence into english and only return the translation:\n",
      "\n",
      "    جب بھی آپ اس جگہ جاتے ہیں تو ان کی چٹنی کے ساتھ چکن ملائی بوٹی ضرور ہوتی ہے۔<end_of_turn>\n",
      "    <start_of_turn>model\n",
      "    Whenever you are at this place, you must have a chickpea curry with the chickpeas. \n",
      "<end_of_turn>\n"
     ]
    },
    {
     "name": "stderr",
     "output_type": "stream",
     "text": [
      "\r",
      "121it [01:32,  1.23it/s]"
     ]
    },
    {
     "name": "stdout",
     "output_type": "stream",
     "text": [
      "<bos>\n",
      "    <start_of_turn>user\n",
      "    Translate the sentence into english and only return the translation:\n",
      "\n",
      "    اچھی<end_of_turn>\n",
      "    <start_of_turn>model\n",
      "    Good \n",
      "<end_of_turn>\n"
     ]
    },
    {
     "name": "stderr",
     "output_type": "stream",
     "text": [
      "\r",
      "122it [01:32,  1.60it/s]"
     ]
    },
    {
     "name": "stdout",
     "output_type": "stream",
     "text": [
      "<bos>\n",
      "    <start_of_turn>user\n",
      "    Translate the sentence into english and only return the translation:\n",
      "\n",
      "    اچھی جگہ<end_of_turn>\n",
      "    <start_of_turn>model\n",
      "    Good place \n",
      "<end_of_turn>\n"
     ]
    },
    {
     "name": "stderr",
     "output_type": "stream",
     "text": [
      "\r",
      "123it [01:32,  1.99it/s]"
     ]
    },
    {
     "name": "stdout",
     "output_type": "stream",
     "text": [
      "<bos>\n",
      "    <start_of_turn>user\n",
      "    Translate the sentence into english and only return the translation:\n",
      "\n",
      "    مگر یِسُوع خاموش ہی رہا ۔ سردار کاہِن نے اُس سے کہا میں تُجھے زِندہ خُدا کی قسم دیتا ہُوں کہ اگر تُو خُدا کا بیٹا مسیح ہے تو ہم سے کہہ دے ۔<end_of_turn>\n",
      "    <start_of_turn>model\n",
      "    \"Except Jesus remained silent.  The Sardar Kaheen said to him, 'I swear by God, if you are the son of God, Messiah, then tell us.'\" \n",
      "<end_of_turn>\n"
     ]
    },
    {
     "name": "stderr",
     "output_type": "stream",
     "text": [
      "\r",
      "124it [01:34,  1.26it/s]"
     ]
    },
    {
     "name": "stdout",
     "output_type": "stream",
     "text": [
      "<bos>\n",
      "    <start_of_turn>user\n",
      "    Translate the sentence into english and only return the translation:\n",
      "\n",
      "    SITE، کراچی کے صنعتی علاقے میں معقول حد تک اچھا ہے۔<end_of_turn>\n",
      "    <start_of_turn>model\n",
      "    SITE in Karachi's industrial area is good, to a reasonable extent. \n",
      "<end_of_turn>\n"
     ]
    },
    {
     "name": "stderr",
     "output_type": "stream",
     "text": [
      "\r",
      "125it [01:34,  1.30it/s]"
     ]
    },
    {
     "name": "stdout",
     "output_type": "stream",
     "text": [
      "<bos>\n",
      "    <start_of_turn>user\n",
      "    Translate the sentence into english and only return the translation:\n",
      "\n",
      "    (گوگل کے ذریعہ ترجمہ شدہ) کے لیے (اصل) Za<end_of_turn>\n",
      "    <start_of_turn>model\n",
      "    Translated:  For the translation by Google. \n",
      "<end_of_turn>\n"
     ]
    },
    {
     "name": "stderr",
     "output_type": "stream",
     "text": [
      "\r",
      "126it [01:35,  1.46it/s]"
     ]
    },
    {
     "name": "stdout",
     "output_type": "stream",
     "text": [
      "<bos>\n",
      "    <start_of_turn>user\n",
      "    Translate the sentence into english and only return the translation:\n",
      "\n",
      "    9|69|(تم منافق لوگ) ان لوگوں کی طرح ہو، جو تم سے پہلے ہوچکے ہیں۔ وہ تم سے بہت زیادہ طاقتور اور مال و اولاد میں کہیں زیادہ تھے تو وہ اپنے حصے سے بہرہ یاب ہوچکے۔ سو جس طرح تم سے پہلے لوگ اپنے حصے سے فائدہ اٹھا چکے ہیں۔ اسی طرح تم نے اپنے حصے سے فائدہ اٹھا لیا۔ اور جس طرح وہ باطل میں ڈوبے رہے اسی طرح تم باطل میں ڈوبے رہے یہ وہ لوگ ہیں جن کے اعمال دنیا اور آخرت میں ضائع ہوگئے۔ اور یہی نقصان اٹھانے والے ہیں <end_of_turn>\n",
      "    <start_of_turn>model\n",
      "    Those who were rivals to you, if they were like you, who came before you, were much more powerful and wealthy than you. If they had taken their share, they would have been able to pay their dues. So, just as you took your share, they took theirs. And just as they fell into the realm of falsehood, you also fell into the realm of falsehood. These are the people whose deeds have been wasted in this world and the Hereafter. And these are the people who are reaping the consequences. \n",
      "<end_of_turn>\n"
     ]
    },
    {
     "name": "stderr",
     "output_type": "stream",
     "text": [
      "\r",
      "127it [01:39,  1.74s/it]"
     ]
    },
    {
     "name": "stdout",
     "output_type": "stream",
     "text": [
      "<bos>\n",
      "    <start_of_turn>user\n",
      "    Translate the sentence into english and only return the translation:\n",
      "\n",
      "    ان کا میمنے کا روسٹ بہترین ہے۔ آئسکریم بہت اچھی ہے۔ باقی تمام کھانا وقت کے ساتھ خوفناک ہو گیا ہے۔<end_of_turn>\n",
      "    <start_of_turn>model\n",
      "    His mom's cooking is the best. The ice cream is very good. The rest of the food got pretty bad over time. \n",
      "<end_of_turn>\n"
     ]
    },
    {
     "name": "stderr",
     "output_type": "stream",
     "text": [
      "\r",
      "128it [01:40,  1.57s/it]"
     ]
    },
    {
     "name": "stdout",
     "output_type": "stream",
     "text": [
      "<bos>\n",
      "    <start_of_turn>user\n",
      "    Translate the sentence into english and only return the translation:\n",
      "\n",
      "    کیوں میں تمہیں پسند بھی ہوں؟<end_of_turn>\n",
      "    <start_of_turn>model\n",
      "    Why do I like you? \n",
      "<end_of_turn>\n"
     ]
    },
    {
     "name": "stderr",
     "output_type": "stream",
     "text": [
      "\r",
      "129it [01:41,  1.21s/it]"
     ]
    },
    {
     "name": "stdout",
     "output_type": "stream",
     "text": [
      "<bos>\n",
      "    <start_of_turn>user\n",
      "    Translate the sentence into english and only return the translation:\n",
      "\n",
      "    حیرت انگیز کھانا۔ گائے کے گوشت کے داؤ کو آزمائیں۔ ہر چیز بالکل ٹھیک اور وقت پر پیش کی گئی۔<end_of_turn>\n",
      "    <start_of_turn>model\n",
      "    Amazing food. Try the goat meat. Everything is perfect and delivered on time. \n",
      "<end_of_turn>\n"
     ]
    },
    {
     "name": "stderr",
     "output_type": "stream",
     "text": [
      "\r",
      "130it [01:41,  1.07s/it]"
     ]
    },
    {
     "name": "stdout",
     "output_type": "stream",
     "text": [
      "<bos>\n",
      "    <start_of_turn>user\n",
      "    Translate the sentence into english and only return the translation:\n",
      "\n",
      "    4|123|(نجات) نہ تو تمہاری آرزوؤں پر ہے اور نہ اہل کتاب کی آرزوؤں پر۔ جو شخص برے عمل کرے گا اسے اسی (طرح) کا بدلا دیا جائے گا اور وہ خدا کے سوا نہ کسی کو حمایتی پائے گا اور نہ مددگار <end_of_turn>\n",
      "    <start_of_turn>model\n",
      "    Whoever does evil will be met with the same evil, and no one will help them except God. \n",
      "<end_of_turn>\n"
     ]
    },
    {
     "name": "stderr",
     "output_type": "stream",
     "text": [
      "\r",
      "131it [01:42,  1.02s/it]"
     ]
    },
    {
     "name": "stdout",
     "output_type": "stream",
     "text": [
      "<bos>\n",
      "    <start_of_turn>user\n",
      "    Translate the sentence into english and only return the translation:\n",
      "\n",
      "    مگر اُس نے اُسے کُچھ جواب نہ دِیا اور اُس کے شاگِردوں نے پاس آکر اُس سے یہ عرض کی کہ اُسے رُخصت کردے کیونکہ وہ ہمارے پیچھے چِلاّتی ہے ۔<end_of_turn>\n",
      "    <start_of_turn>model\n",
      "    He didn't answer, and the people who were with him came forward and said to him that he should be left alone because he was behind us. \n",
      "<end_of_turn>\n"
     ]
    },
    {
     "name": "stderr",
     "output_type": "stream",
     "text": [
      "\r",
      "132it [01:44,  1.12s/it]"
     ]
    },
    {
     "name": "stdout",
     "output_type": "stream",
     "text": [
      "<bos>\n",
      "    <start_of_turn>user\n",
      "    Translate the sentence into english and only return the translation:\n",
      "\n",
      "    اچھا ذائقہ<end_of_turn>\n",
      "    <start_of_turn>model\n",
      "    Good taste \n",
      "<end_of_turn>\n"
     ]
    },
    {
     "name": "stderr",
     "output_type": "stream",
     "text": [
      "\r",
      "133it [01:44,  1.18it/s]"
     ]
    },
    {
     "name": "stdout",
     "output_type": "stream",
     "text": [
      "<bos>\n",
      "    <start_of_turn>user\n",
      "    Translate the sentence into english and only return the translation:\n",
      "\n",
      "    اس ہوٹل کے قریب گیا۔<end_of_turn>\n",
      "    <start_of_turn>model\n",
      "    I went near the hotel. \n",
      "<end_of_turn>\n"
     ]
    },
    {
     "name": "stderr",
     "output_type": "stream",
     "text": [
      "\r",
      "134it [01:44,  1.42it/s]"
     ]
    },
    {
     "name": "stdout",
     "output_type": "stream",
     "text": [
      "<bos>\n",
      "    <start_of_turn>user\n",
      "    Translate the sentence into english and only return the translation:\n",
      "\n",
      "    شہر کے بہترین BBQ میں سے ایک، خاص طور پر شاہی چاٹک بوٹی اور کباب فرائی<end_of_turn>\n",
      "    <start_of_turn>model\n",
      "    One of the best BBQs in the city, especially the royal mutton and fried kebabs. \n",
      "<end_of_turn>\n"
     ]
    },
    {
     "name": "stderr",
     "output_type": "stream",
     "text": [
      "\r",
      "135it [01:45,  1.33it/s]"
     ]
    },
    {
     "name": "stdout",
     "output_type": "stream",
     "text": [
      "<bos>\n",
      "    <start_of_turn>user\n",
      "    Translate the sentence into english and only return the translation:\n",
      "\n",
      "    میرے شہر کا نام جہلم ہے۔<end_of_turn>\n",
      "    <start_of_turn>model\n",
      "    My city's name is Jalalabad. \n",
      "<end_of_turn>\n"
     ]
    },
    {
     "name": "stderr",
     "output_type": "stream",
     "text": [
      "\r",
      "136it [01:45,  1.46it/s]"
     ]
    },
    {
     "name": "stdout",
     "output_type": "stream",
     "text": [
      "<bos>\n",
      "    <start_of_turn>user\n",
      "    Translate the sentence into english and only return the translation:\n",
      "\n",
      "    بہت سست سروس۔ تھرڈ کلاس کھانے کا معیار<end_of_turn>\n",
      "    <start_of_turn>model\n",
      "    Very slow service. Third-class food quality. \n",
      "<end_of_turn>\n"
     ]
    },
    {
     "name": "stderr",
     "output_type": "stream",
     "text": [
      "\r",
      "137it [01:46,  1.57it/s]"
     ]
    },
    {
     "name": "stdout",
     "output_type": "stream",
     "text": [
      "<bos>\n",
      "    <start_of_turn>user\n",
      "    Translate the sentence into english and only return the translation:\n",
      "\n",
      "    سوادج<end_of_turn>\n",
      "    <start_of_turn>model\n",
      "    The translation is:  **\"Sوادج\"** \n",
      " \n",
      "    Please note that \"Sوادج\" is a word in Arabic that doesn't have a direct English translation. It's important to consider the context in which it's used to understand its meaning. \n",
      "<end_of_turn>\n"
     ]
    },
    {
     "name": "stderr",
     "output_type": "stream",
     "text": [
      "\r",
      "138it [01:48,  1.16s/it]"
     ]
    },
    {
     "name": "stdout",
     "output_type": "stream",
     "text": [
      "<bos>\n",
      "    <start_of_turn>user\n",
      "    Translate the sentence into english and only return the translation:\n",
      "\n",
      "    خاص طور پر اس علاقے میں اچھا کھانا<end_of_turn>\n",
      "    <start_of_turn>model\n",
      "    Good food in this area. \n",
      "<end_of_turn>\n"
     ]
    },
    {
     "name": "stderr",
     "output_type": "stream",
     "text": [
      "\r",
      "139it [01:49,  1.08it/s]"
     ]
    },
    {
     "name": "stdout",
     "output_type": "stream",
     "text": [
      "<bos>\n",
      "    <start_of_turn>user\n",
      "    Translate the sentence into english and only return the translation:\n",
      "\n",
      "    یہاں ملائی بوٹی اور کراہے اچھے تھے۔<end_of_turn>\n",
      "    <start_of_turn>model\n",
      "    The flowers and the grass were good here. \n",
      "<end_of_turn>\n"
     ]
    },
    {
     "name": "stderr",
     "output_type": "stream",
     "text": [
      "\r",
      "140it [01:49,  1.26it/s]"
     ]
    },
    {
     "name": "stdout",
     "output_type": "stream",
     "text": [
      "<bos>\n",
      "    <start_of_turn>user\n",
      "    Translate the sentence into english and only return the translation:\n",
      "\n",
      "    اچھا ذائقہ.<end_of_turn>\n",
      "    <start_of_turn>model\n",
      "    Good taste. \n",
      "<end_of_turn>\n"
     ]
    },
    {
     "name": "stderr",
     "output_type": "stream",
     "text": [
      "\r",
      "141it [01:50,  1.58it/s]"
     ]
    },
    {
     "name": "stdout",
     "output_type": "stream",
     "text": [
      "<bos>\n",
      "    <start_of_turn>user\n",
      "    Translate the sentence into english and only return the translation:\n",
      "\n",
      "    مجھے بہت پسینہ آ رہا ہے۔<end_of_turn>\n",
      "    <start_of_turn>model\n",
      "    I feel very uncomfortable. \n",
      "<end_of_turn>\n"
     ]
    },
    {
     "name": "stderr",
     "output_type": "stream",
     "text": [
      "\r",
      "142it [01:50,  1.84it/s]"
     ]
    },
    {
     "name": "stdout",
     "output_type": "stream",
     "text": [
      "<bos>\n",
      "    <start_of_turn>user\n",
      "    Translate the sentence into english and only return the translation:\n",
      "\n",
      "    جناب ، کیا وقت ہوا ہے؟<end_of_turn>\n",
      "    <start_of_turn>model\n",
      "    Excuse me, what time is it? \n",
      "<end_of_turn>\n"
     ]
    },
    {
     "name": "stderr",
     "output_type": "stream",
     "text": [
      "\r",
      "143it [01:50,  1.94it/s]"
     ]
    },
    {
     "name": "stdout",
     "output_type": "stream",
     "text": [
      "<bos>\n",
      "    <start_of_turn>user\n",
      "    Translate the sentence into english and only return the translation:\n",
      "\n",
      "    اور کلمہ خبیثہ کی مثال ایک بد ذات درخت کی سی ہے جو زمین کی سطح سے اکھاڑ پھینکا جاتا ہے، اُس کے لیے کوئی استحکام نہیں ہے<end_of_turn>\n",
      "    <start_of_turn>model\n",
      "    A bad-character word is like a tree that throws its seed on the ground, without any support. \n",
      "<end_of_turn>\n"
     ]
    },
    {
     "name": "stderr",
     "output_type": "stream",
     "text": [
      "\r",
      "144it [01:51,  1.55it/s]"
     ]
    },
    {
     "name": "stdout",
     "output_type": "stream",
     "text": [
      "<bos>\n",
      "    <start_of_turn>user\n",
      "    Translate the sentence into english and only return the translation:\n",
      "\n",
      "    میں نے کل ہاٹ این سور سوپ کا پارسل لیا تھا بہت اچھا اور مزیدار تھا۔<end_of_turn>\n",
      "    <start_of_turn>model\n",
      "    I had ordered a hot and sour soup parcel yesterday, and it was very good and delicious. \n",
      "<end_of_turn>\n"
     ]
    },
    {
     "name": "stderr",
     "output_type": "stream",
     "text": [
      "\r",
      "145it [01:52,  1.40it/s]"
     ]
    },
    {
     "name": "stdout",
     "output_type": "stream",
     "text": [
      "<bos>\n",
      "    <start_of_turn>user\n",
      "    Translate the sentence into english and only return the translation:\n",
      "\n",
      "    (گوگل کے ذریعہ ترجمہ کیا گیا) یہ بہت اچھا تھا اور انتظام بہت اچھا تھا۔<end_of_turn>\n",
      "    <start_of_turn>model\n",
      "    It was very good and the setup was very good. \n",
      "<end_of_turn>\n"
     ]
    },
    {
     "name": "stderr",
     "output_type": "stream",
     "text": [
      "\r",
      "146it [01:53,  1.50it/s]"
     ]
    },
    {
     "name": "stdout",
     "output_type": "stream",
     "text": [
      "<bos>\n",
      "    <start_of_turn>user\n",
      "    Translate the sentence into english and only return the translation:\n",
      "\n",
      "    اخبارات نے اسے غدارقرار دے دیاہے<end_of_turn>\n",
      "    <start_of_turn>model\n",
      "    He has been labeled a traitor. \n",
      "<end_of_turn>\n"
     ]
    },
    {
     "name": "stderr",
     "output_type": "stream",
     "text": [
      "\r",
      "147it [01:53,  1.69it/s]"
     ]
    },
    {
     "name": "stdout",
     "output_type": "stream",
     "text": [
      "<bos>\n",
      "    <start_of_turn>user\n",
      "    Translate the sentence into english and only return the translation:\n",
      "\n",
      "    براہ کرم مجھے بتائیں کہ اگر آپ کو اس سے بہتر سروس نہیں چاہئے تو آپ نے وہ ہوٹل کیوں کھولا ہے میں کل ملک کے گراؤنڈ فلور پر گیا تھا لیکن شیشے والے انکل نے میرے گھر والوں کے ساتھ بہت بدتمیزی کی۔<end_of_turn>\n",
      "    <start_of_turn>model\n",
      "    Kindly tell me why you opened a hotel if you don't want a better service. I went to the ground floor of the whole country, but the glass-walled people were very rude to my family members. \n",
      "<end_of_turn>\n"
     ]
    },
    {
     "name": "stderr",
     "output_type": "stream",
     "text": [
      "\r",
      "148it [01:55,  1.04it/s]"
     ]
    },
    {
     "name": "stdout",
     "output_type": "stream",
     "text": [
      "<bos>\n",
      "    <start_of_turn>user\n",
      "    Translate the sentence into english and only return the translation:\n",
      "\n",
      "     یہ ایک بہت بڑا سکول ہے۔<end_of_turn>\n",
      "    <start_of_turn>model\n",
      "    This is a very big school. \n",
      "<end_of_turn>\n"
     ]
    },
    {
     "name": "stderr",
     "output_type": "stream",
     "text": [
      "\r",
      "149it [01:55,  1.26it/s]"
     ]
    },
    {
     "name": "stdout",
     "output_type": "stream",
     "text": [
      "<bos>\n",
      "    <start_of_turn>user\n",
      "    Translate the sentence into english and only return the translation:\n",
      "\n",
      "    (گوگل کے ذریعہ ترجمہ کیا گیا) شاہی چتاخ یومم (اصل) شاہی چتاخ یومم<end_of_turn>\n",
      "    <start_of_turn>model\n",
      "    Royal chatakh day (original) Royal chatakh day \n",
      "<end_of_turn>\n"
     ]
    },
    {
     "name": "stderr",
     "output_type": "stream",
     "text": [
      "\r",
      "150it [01:56,  1.38it/s]"
     ]
    },
    {
     "name": "stdout",
     "output_type": "stream",
     "text": [
      "<bos>\n",
      "    <start_of_turn>user\n",
      "    Translate the sentence into english and only return the translation:\n",
      "\n",
      "     اس کے ساتھ ساتھ مردوں اور عورتوں دونوں کی جنسی صحت کو نقصان پہنچتا ہے۔ یہ اضطراب کے حملوں کو جنم دے سکتا ہے۔<end_of_turn>\n",
      "    <start_of_turn>model\n",
      "    It can damage the sexual health of both men and women, and may lead to menstrual irregularities. \n",
      "<end_of_turn>\n"
     ]
    },
    {
     "name": "stderr",
     "output_type": "stream",
     "text": [
      "\r",
      "151it [01:57,  1.30it/s]"
     ]
    },
    {
     "name": "stdout",
     "output_type": "stream",
     "text": [
      "<bos>\n",
      "    <start_of_turn>user\n",
      "    Translate the sentence into english and only return the translation:\n",
      "\n",
      "    چنانچہ یہ مثال پیش کی گئی، اور میں ایک گھنٹے تک وہاں کھڑا رہا، ایسا محسوس ہوا کہ جیسے میں ساری زندگی بادشاہ رہا ہوں۔ اور سب نے میرا ہاتھ چوما، اور سفیروں نے مجھے عزت دی، ان میں بوڑھے لارڈ ٹوپھم، جن کے گھر گروسوینر اسکوائر میں میں نے کئی بار رقص کیا تھا۔<end_of_turn>\n",
      "    <start_of_turn>model\n",
      "    \"As I mentioned, I stayed there for an hour, and it felt like I was the king for all my life. Everyone touched my hand, and the nobles showed me respect. Among them was Lord Topham, an old lord who I had danced with many times in the Groseviner Square.\" \n",
      "<end_of_turn>\n"
     ]
    },
    {
     "name": "stderr",
     "output_type": "stream",
     "text": [
      "\r",
      "152it [01:59,  1.30s/it]"
     ]
    },
    {
     "name": "stdout",
     "output_type": "stream",
     "text": [
      "<bos>\n",
      "    <start_of_turn>user\n",
      "    Translate the sentence into english and only return the translation:\n",
      "\n",
      "    بجٹ کی قیمت میں اس جگہ کا بہترین ذائقہ پسند آیا<end_of_turn>\n",
      "    <start_of_turn>model\n",
      "    The best taste is found at this place for the price of the biscuit. \n",
      "<end_of_turn>\n"
     ]
    },
    {
     "name": "stderr",
     "output_type": "stream",
     "text": [
      "\r",
      "153it [02:00,  1.13s/it]"
     ]
    },
    {
     "name": "stdout",
     "output_type": "stream",
     "text": [
      "<bos>\n",
      "    <start_of_turn>user\n",
      "    Translate the sentence into english and only return the translation:\n",
      "\n",
      "    اُنہوں نے جواب میں کہا وہ قتل کے لائِق ہے ۔<end_of_turn>\n",
      "    <start_of_turn>model\n",
      "    He said that he is a murderer. \n",
      "<end_of_turn>\n"
     ]
    },
    {
     "name": "stderr",
     "output_type": "stream",
     "text": [
      "\r",
      "154it [02:00,  1.08it/s]"
     ]
    },
    {
     "name": "stdout",
     "output_type": "stream",
     "text": [
      "<bos>\n",
      "    <start_of_turn>user\n",
      "    Translate the sentence into english and only return the translation:\n",
      "\n",
      "    حیرت انگیز<end_of_turn>\n",
      "    <start_of_turn>model\n",
      "    Amazing \n",
      "<end_of_turn>\n"
     ]
    },
    {
     "name": "stderr",
     "output_type": "stream",
     "text": [
      "\r",
      "155it [02:01,  1.42it/s]"
     ]
    },
    {
     "name": "stdout",
     "output_type": "stream",
     "text": [
      "<bos>\n",
      "    <start_of_turn>user\n",
      "    Translate the sentence into english and only return the translation:\n",
      "\n",
      "    8 جنوری 1982۔ دہائیوں کے بعد، سیریز اب بھی ایک پرجوش ردعمل کھینچتی ہے۔<end_of_turn>\n",
      "    <start_of_turn>model\n",
      "    After decades, the series still elicits a strong reaction. \n",
      "<end_of_turn>\n"
     ]
    },
    {
     "name": "stderr",
     "output_type": "stream",
     "text": [
      "\r",
      "156it [02:01,  1.48it/s]"
     ]
    },
    {
     "name": "stdout",
     "output_type": "stream",
     "text": [
      "<bos>\n",
      "    <start_of_turn>user\n",
      "    Translate the sentence into english and only return the translation:\n",
      "\n",
      "    بس بہت لذیذ اطالوی چکن آزمائیں، میں نے آپ کو یہاں کھانے کا منصوبہ بنایا تھا اسے ضرور آزمائیں<end_of_turn>\n",
      "    <start_of_turn>model\n",
      "    I made a plan to have you try some delicious, authentic Pakistani chicken. You have to try it! \n",
      "<end_of_turn>\n"
     ]
    },
    {
     "name": "stderr",
     "output_type": "stream",
     "text": [
      "\r",
      "157it [02:02,  1.32it/s]"
     ]
    },
    {
     "name": "stdout",
     "output_type": "stream",
     "text": [
      "<bos>\n",
      "    <start_of_turn>user\n",
      "    Translate the sentence into english and only return the translation:\n",
      "\n",
      "    تمہیں ان کو حقیقت سے آگاہ کرنا ہوگا۔<end_of_turn>\n",
      "    <start_of_turn>model\n",
      "    You will have to inform them of the truth. \n",
      "<end_of_turn>\n"
     ]
    },
    {
     "name": "stderr",
     "output_type": "stream",
     "text": [
      "\r",
      "158it [02:03,  1.45it/s]"
     ]
    },
    {
     "name": "stdout",
     "output_type": "stream",
     "text": [
      "<bos>\n",
      "    <start_of_turn>user\n",
      "    Translate the sentence into english and only return the translation:\n",
      "\n",
      "    یہاں کھانا پینا ہمیشہ اچھا لگتا ہے، بہت لذیذ کھانا<end_of_turn>\n",
      "    <start_of_turn>model\n",
      "    It's always good to eat here, the food is very delicious. \n",
      "<end_of_turn>\n"
     ]
    },
    {
     "name": "stderr",
     "output_type": "stream",
     "text": [
      "\r",
      "159it [02:03,  1.44it/s]"
     ]
    },
    {
     "name": "stdout",
     "output_type": "stream",
     "text": [
      "<bos>\n",
      "    <start_of_turn>user\n",
      "    Translate the sentence into english and only return the translation:\n",
      "\n",
      "    شاندار کھانا اور اچھی جگہ<end_of_turn>\n",
      "    <start_of_turn>model\n",
      "    Good food and a good place. \n",
      "<end_of_turn>\n"
     ]
    },
    {
     "name": "stderr",
     "output_type": "stream",
     "text": [
      "\r",
      "160it [02:04,  1.63it/s]"
     ]
    },
    {
     "name": "stdout",
     "output_type": "stream",
     "text": [
      "<bos>\n",
      "    <start_of_turn>user\n",
      "    Translate the sentence into english and only return the translation:\n",
      "\n",
      "    مزیدار کھانا بہترین عملہ اور خوبصورت مقام۔<end_of_turn>\n",
      "    <start_of_turn>model\n",
      "    The food is the best and the most beautiful place. \n",
      "<end_of_turn>\n"
     ]
    },
    {
     "name": "stderr",
     "output_type": "stream",
     "text": [
      "\r",
      "161it [02:04,  1.67it/s]"
     ]
    },
    {
     "name": "stdout",
     "output_type": "stream",
     "text": [
      "<bos>\n",
      "    <start_of_turn>user\n",
      "    Translate the sentence into english and only return the translation:\n",
      "\n",
      "    وہاں پہ کیا ہے؟<end_of_turn>\n",
      "    <start_of_turn>model\n",
      "    What is there? \n",
      "<end_of_turn>\n"
     ]
    },
    {
     "name": "stderr",
     "output_type": "stream",
     "text": [
      "\r",
      "162it [02:05,  1.97it/s]"
     ]
    },
    {
     "name": "stdout",
     "output_type": "stream",
     "text": [
      "<bos>\n",
      "    <start_of_turn>user\n",
      "    Translate the sentence into english and only return the translation:\n",
      "\n",
      "    5|33|جو لوگ خدا اور اس کے رسول سے لڑائی کریں اور ملک میں فساد کرنے کو دوڑتے پھریں ان کی یہی سزا ہے کہ قتل کر دیئے جائیں یا سولی چڑھا دیئے جائیں یا ان کے ایک ایک طرف کے ہاتھ اور ایک ایک طرف کے پاؤں کاٹ دیئے جائیں یا ملک سے نکال دیئے جائیں یہ تو دنیا میں ان کی رسوائی ہے اور آخرت میں ان کے لیے بڑا (بھاری) عذاب تیار ہے <end_of_turn>\n",
      "    <start_of_turn>model\n",
      "    \"Fight among those who wage war against God and His Messenger, and those who spread corruption in the land. Their punishment is to be killed, or to be flogged, or to have their hands and feet cut off, or to be exiled from the land. This is their disgrace in this world, and a greater punishment awaits them in the Hereafter.\" \n",
      "<end_of_turn>\n"
     ]
    },
    {
     "name": "stderr",
     "output_type": "stream",
     "text": [
      "\r",
      "163it [02:08,  1.24s/it]"
     ]
    },
    {
     "name": "stdout",
     "output_type": "stream",
     "text": [
      "<bos>\n",
      "    <start_of_turn>user\n",
      "    Translate the sentence into english and only return the translation:\n",
      "\n",
      "    وہاں بہت اچھے ریستوراں اور جم ہیں۔<end_of_turn>\n",
      "    <start_of_turn>model\n",
      "    There are many good restaurants and views. \n",
      "<end_of_turn>\n"
     ]
    },
    {
     "name": "stderr",
     "output_type": "stream",
     "text": [
      "\r",
      "164it [02:08,  1.00s/it]"
     ]
    },
    {
     "name": "stdout",
     "output_type": "stream",
     "text": [
      "<bos>\n",
      "    <start_of_turn>user\n",
      "    Translate the sentence into english and only return the translation:\n",
      "\n",
      "    (گوگل کے ذریعے ترجمہ کیا گیا) کوئیلا کرہائی جو بھی مٹن کی..آلا بٹ الا... (اصل) کوئیلا کرہائی جو بھی مٹن کی..آلا بٹ الا...<end_of_turn>\n",
      "    <start_of_turn>model\n",
      "    \"Whatever you say, it's a matter of the cloth, whatever you say, it's a matter of the cloth...\" \n",
      "<end_of_turn>\n"
     ]
    },
    {
     "name": "stderr",
     "output_type": "stream",
     "text": [
      "\r",
      "165it [02:09,  1.06s/it]"
     ]
    },
    {
     "name": "stdout",
     "output_type": "stream",
     "text": [
      "<bos>\n",
      "    <start_of_turn>user\n",
      "    Translate the sentence into english and only return the translation:\n",
      "\n",
      "    وہی ہے جو دراڑ کو ٹھیک کرنے میں پہل کرتا ہے۔<end_of_turn>\n",
      "    <start_of_turn>model\n",
      "    He is the one who starts the work of fixing the leak. \n",
      "<end_of_turn>\n"
     ]
    },
    {
     "name": "stderr",
     "output_type": "stream",
     "text": [
      "\r",
      "166it [02:10,  1.07it/s]"
     ]
    },
    {
     "name": "stdout",
     "output_type": "stream",
     "text": [
      "<bos>\n",
      "    <start_of_turn>user\n",
      "    Translate the sentence into english and only return the translation:\n",
      "\n",
      "    میں نے \"خوش مزاجی\" لکھا ہے اور ایک عجیب لفظ ایسا لگتا ہے۔<end_of_turn>\n",
      "    <start_of_turn>model\n",
      "    I wrote \"sweetness\" and it feels like a strange word. \n",
      "<end_of_turn>\n"
     ]
    },
    {
     "name": "stderr",
     "output_type": "stream",
     "text": [
      "\r",
      "167it [02:11,  1.17it/s]"
     ]
    },
    {
     "name": "stdout",
     "output_type": "stream",
     "text": [
      "<bos>\n",
      "    <start_of_turn>user\n",
      "    Translate the sentence into english and only return the translation:\n",
      "\n",
      "    بدترین تجربہ، دیر سے سرونگ۔ صرف کھانے میں ذائقہ نہیں۔<end_of_turn>\n",
      "    <start_of_turn>model\n",
      "    The worst experience is late dinner. It's not just about taste. \n",
      "<end_of_turn>\n"
     ]
    },
    {
     "name": "stderr",
     "output_type": "stream",
     "text": [
      "\r",
      "168it [02:11,  1.23it/s]"
     ]
    },
    {
     "name": "stdout",
     "output_type": "stream",
     "text": [
      "<bos>\n",
      "    <start_of_turn>user\n",
      "    Translate the sentence into english and only return the translation:\n",
      "\n",
      "    خوفناک<end_of_turn>\n",
      "    <start_of_turn>model\n",
      "    Terrifying \n",
      "<end_of_turn>\n"
     ]
    },
    {
     "name": "stderr",
     "output_type": "stream",
     "text": [
      "\r",
      "169it [02:12,  1.57it/s]"
     ]
    },
    {
     "name": "stdout",
     "output_type": "stream",
     "text": [
      "<bos>\n",
      "    <start_of_turn>user\n",
      "    Translate the sentence into english and only return the translation:\n",
      "\n",
      "    دوستوں کے ساتھ کھانے کی جگہ<end_of_turn>\n",
      "    <start_of_turn>model\n",
      "    Place to eat with friends \n",
      "<end_of_turn>\n"
     ]
    },
    {
     "name": "stderr",
     "output_type": "stream",
     "text": [
      "\r",
      "170it [02:12,  1.83it/s]"
     ]
    },
    {
     "name": "stdout",
     "output_type": "stream",
     "text": [
      "<bos>\n",
      "    <start_of_turn>user\n",
      "    Translate the sentence into english and only return the translation:\n",
      "\n",
      "    ڈینٹیس نے کہا<end_of_turn>\n",
      "    <start_of_turn>model\n",
      "    Deniss said. \n",
      "<end_of_turn>\n"
     ]
    },
    {
     "name": "stderr",
     "output_type": "stream",
     "text": [
      "\r",
      "171it [02:12,  2.12it/s]"
     ]
    },
    {
     "name": "stdout",
     "output_type": "stream",
     "text": [
      "<bos>\n",
      "    <start_of_turn>user\n",
      "    Translate the sentence into english and only return the translation:\n",
      "\n",
      "    (گوگل کے ذریعے ترجمہ کیا گیا) کھانا باہوت دیر آیا ... جب آیا ٹیب افغانی بوٹی کچی تھی فجیتا سٹیک کچا تھا... تجویز نہیں کیا گیا (اصل) کھانا بات دیر آیا ... جب آیا ٹیب افغانی بوٹی کچی تھی فجیتا سٹیک کچا تھا .. سفارش نہیں کی<end_of_turn>\n",
      "    <start_of_turn>model\n",
      "    The food arrived late... when it arrived, the Afghan beef was boiled, the fried chicken was dry... no suggestions were made (original). The food arrived late... when it arrived, the Afghan beef was boiled, the fried chicken was dry... no orders were placed. \n",
      "<end_of_turn>\n"
     ]
    },
    {
     "name": "stderr",
     "output_type": "stream",
     "text": [
      "\r",
      "172it [02:14,  1.00s/it]"
     ]
    },
    {
     "name": "stdout",
     "output_type": "stream",
     "text": [
      "<bos>\n",
      "    <start_of_turn>user\n",
      "    Translate the sentence into english and only return the translation:\n",
      "\n",
      "    ٹھیک ہے<end_of_turn>\n",
      "    <start_of_turn>model\n",
      "    It's okay. \n",
      "<end_of_turn>\n"
     ]
    },
    {
     "name": "stderr",
     "output_type": "stream",
     "text": [
      "\r",
      "173it [02:15,  1.25it/s]"
     ]
    },
    {
     "name": "stdout",
     "output_type": "stream",
     "text": [
      "<bos>\n",
      "    <start_of_turn>user\n",
      "    Translate the sentence into english and only return the translation:\n",
      "\n",
      "    پھر درج ذیل سوالات کے جواب دیں۔<end_of_turn>\n",
      "    <start_of_turn>model\n",
      "    Answer the following questions. \n",
      "<end_of_turn>\n"
     ]
    },
    {
     "name": "stderr",
     "output_type": "stream",
     "text": [
      "\r",
      "174it [02:15,  1.51it/s]"
     ]
    },
    {
     "name": "stdout",
     "output_type": "stream",
     "text": [
      "<bos>\n",
      "    <start_of_turn>user\n",
      "    Translate the sentence into english and only return the translation:\n",
      "\n",
      "    کاشف اور زبدہ کی منگنی کی تقریب میں شرکت<end_of_turn>\n",
      "    <start_of_turn>model\n",
      "    It would be great to participate in the meeting about the oil and ghee. \n",
      "<end_of_turn>\n"
     ]
    },
    {
     "name": "stderr",
     "output_type": "stream",
     "text": [
      "\r",
      "175it [02:16,  1.47it/s]"
     ]
    },
    {
     "name": "stdout",
     "output_type": "stream",
     "text": [
      "<bos>\n",
      "    <start_of_turn>user\n",
      "    Translate the sentence into english and only return the translation:\n",
      "\n",
      "    (گوگل کا ترجمہ) ناظم آباد<end_of_turn>\n",
      "    <start_of_turn>model\n",
      "    Namazabad \n",
      "<end_of_turn>\n"
     ]
    },
    {
     "name": "stderr",
     "output_type": "stream",
     "text": [
      "\r",
      "176it [02:16,  1.80it/s]"
     ]
    },
    {
     "name": "stdout",
     "output_type": "stream",
     "text": [
      "<bos>\n",
      "    <start_of_turn>user\n",
      "    Translate the sentence into english and only return the translation:\n",
      "\n",
      "    اور جب وہ یروشلِیم میں داخِل ہُوا تو سارے شہر میں ہل چل پڑ گئی اور لوگ کہنے لگے یہ کون ہے ؟<end_of_turn>\n",
      "    <start_of_turn>model\n",
      "    When he entered Jerusalem, the whole city was in chaos, and people cried out, \"Who is this?\" \n",
      "<end_of_turn>\n"
     ]
    },
    {
     "name": "stderr",
     "output_type": "stream",
     "text": [
      "\r",
      "177it [02:17,  1.45it/s]"
     ]
    },
    {
     "name": "stdout",
     "output_type": "stream",
     "text": [
      "<bos>\n",
      "    <start_of_turn>user\n",
      "    Translate the sentence into english and only return the translation:\n",
      "\n",
      "    ڈھابہ قسم کے لیے ٹھیک ہے۔<end_of_turn>\n",
      "    <start_of_turn>model\n",
      "    It's okay for the purpose of the dhaba. \n",
      "<end_of_turn>\n"
     ]
    },
    {
     "name": "stderr",
     "output_type": "stream",
     "text": [
      "\r",
      "178it [02:18,  1.51it/s]"
     ]
    },
    {
     "name": "stdout",
     "output_type": "stream",
     "text": [
      "<bos>\n",
      "    <start_of_turn>user\n",
      "    Translate the sentence into english and only return the translation:\n",
      "\n",
      "    وہاں کا کھانا پسند آیا۔ اگر آپ مختلف قسم کی تلاش کر رہے ہیں، تو آپ کو یہ یہاں مل جائے گا۔ مجھے ایک اچھے ڈوسے کی خواہش تھی کیونکہ میں نے بحرین کے ایک مستند ہندوستانی ریستوراں سے ڈوسا کھایا تھا اور ڈی تھالی لینڈ کا ڈوسا کسی نہ کسی طرح قریب ہی ہے، اگر تقریباً نہیں تو وہی ذائقہ ہے۔ اس کے علاوہ سمبھر، پاو بھجی بھی کافی اچھی تھیں۔ فاسٹ فوڈ، چائنیز، انڈین اور بار بی کیو دیکھنے اور لطف اندوز ہونے کے لیے فیملیز کے لیے ایک معقول جگہ۔ پاو بھجی کے ساتھ جو سرخ چٹنی پیش کرتے ہیں اسے آزمائیں اچھا کام لوگو!!!!<end_of_turn>\n",
      "    <start_of_turn>model\n",
      "    He liked the food there. If you're looking for different kinds, you'll find this here. I had a craving for a good dosa because I had eaten dosa from a few established Indian restaurants in Bahrain and dosa from the hilly land of Thailand is close by, if not, then it's the same taste. Besides, sambhar and pav bhaji were quite good. It's a decent place for families to see and enjoy fast food, Chinese, Indian and barbi cuisine.  Try the red chutney with pav bhaji, it's a good job! \n",
      "<end_of_turn>\n"
     ]
    },
    {
     "name": "stderr",
     "output_type": "stream",
     "text": [
      "\r",
      "179it [02:23,  1.90s/it]"
     ]
    },
    {
     "name": "stdout",
     "output_type": "stream",
     "text": [
      "<bos>\n",
      "    <start_of_turn>user\n",
      "    Translate the sentence into english and only return the translation:\n",
      "\n",
      "    شاندار<end_of_turn>\n",
      "    <start_of_turn>model\n",
      "    Shanidar \n",
      "<end_of_turn>\n"
     ]
    },
    {
     "name": "stderr",
     "output_type": "stream",
     "text": [
      "\r",
      "180it [02:23,  1.39s/it]"
     ]
    },
    {
     "name": "stdout",
     "output_type": "stream",
     "text": [
      "<bos>\n",
      "    <start_of_turn>user\n",
      "    Translate the sentence into english and only return the translation:\n",
      "\n",
      "    بہت برے تجربات سٹیکس چکن کا بہت چھوٹا ٹکڑا تھا میرا مطلب ہے سٹیکس میں وہ زنگر پیس ٹھیگ پیس اور چکن کباب استعمال کرتے تھے جو خالص چکن سے بنے تھے جیسے شامی کباب.... اچھی طرح سے وہ اپنے کھانے کے معیار کو بہتر بناتے ہیں۔ .<end_of_turn>\n",
      "    <start_of_turn>model\n",
      "    There were a lot of bad experiences with the small piece of steak. My point is that the steak was made with a lot of spices, like a shami kebab, and they used the meat that was pure chicken, like a shami kebab. They were able to make their food better. \n",
      "<end_of_turn>\n"
     ]
    },
    {
     "name": "stderr",
     "output_type": "stream",
     "text": [
      "\r",
      "181it [02:25,  1.71s/it]"
     ]
    },
    {
     "name": "stdout",
     "output_type": "stream",
     "text": [
      "<bos>\n",
      "    <start_of_turn>user\n",
      "    Translate the sentence into english and only return the translation:\n",
      "\n",
      "    حال ہی میں ہائی ٹی کے لیے تندور کا دورہ کرنے کا موقع ملا، ان کے چھتوں کے سیٹ اپ اور ماحول کو پسند کیا۔ وہ صرف 1050 PKR میں 60+ ڈشز پیش کرتے ہیں۔ یقینی طور پر تجویز کریں گے کیونکہ کھانا تازہ اور اس کے قابل تھا۔<end_of_turn>\n",
      "    <start_of_turn>model\n",
      "    I recently visited the Tandoor for a high tea experience, and I loved their seating arrangement and ambiance. They offer 60+ dishes for just 1050 PKR. I would definitely recommend them because the food was fresh and delicious. \n",
      "<end_of_turn>\n"
     ]
    },
    {
     "name": "stderr",
     "output_type": "stream",
     "text": [
      "\r",
      "182it [02:27,  1.84s/it]"
     ]
    },
    {
     "name": "stdout",
     "output_type": "stream",
     "text": [
      "<bos>\n",
      "    <start_of_turn>user\n",
      "    Translate the sentence into english and only return the translation:\n",
      "\n",
      "    اگر آپ کراچی میں ہیں اور آپ نے ضمیر 'ملائی بوٹی' نہیں کھائی تو آپ نے کراچی زیادہ نہیں دیکھا۔<end_of_turn>\n",
      "    <start_of_turn>model\n",
      "    If you are in Karachi and you haven't eaten the \"Malai Boti\", you haven't seen Karachi enough. \n",
      "<end_of_turn>\n"
     ]
    },
    {
     "name": "stderr",
     "output_type": "stream",
     "text": [
      "\r",
      "183it [02:28,  1.63s/it]"
     ]
    },
    {
     "name": "stdout",
     "output_type": "stream",
     "text": [
      "<bos>\n",
      "    <start_of_turn>user\n",
      "    Translate the sentence into english and only return the translation:\n",
      "\n",
      "    بہت اچھا جانا چاہیے۔<end_of_turn>\n",
      "    <start_of_turn>model\n",
      "    It's great to hear. \n",
      "<end_of_turn>\n"
     ]
    },
    {
     "name": "stderr",
     "output_type": "stream",
     "text": [
      "\r",
      "184it [02:29,  1.26s/it]"
     ]
    },
    {
     "name": "stdout",
     "output_type": "stream",
     "text": [
      "<bos>\n",
      "    <start_of_turn>user\n",
      "    Translate the sentence into english and only return the translation:\n",
      "\n",
      "    فیملی کے لیے آنے اور کھانے کے لیے بہترین جگہ<end_of_turn>\n",
      "    <start_of_turn>model\n",
      "    The best place to go for a family meal. \n",
      "<end_of_turn>\n"
     ]
    },
    {
     "name": "stderr",
     "output_type": "stream",
     "text": [
      "\r",
      "185it [02:29,  1.04s/it]"
     ]
    },
    {
     "name": "stdout",
     "output_type": "stream",
     "text": [
      "<bos>\n",
      "    <start_of_turn>user\n",
      "    Translate the sentence into english and only return the translation:\n",
      "\n",
      "    4|122|اور جو لوگ ایمان لائے اور نیک کام کرتے رہے ان کو ہم بہشتوں میں داخل کریں گے جن کے نیچے نہریں جاری ہیں۔ ابدالآباد ان میں رہیں گے۔ یہ خدا کا سچا وعدہ ہے۔ اور خدا سے زیادہ بات کا سچا کون ہوسکتا ہے <end_of_turn>\n",
      "    <start_of_turn>model\n",
      "    Those who believe and do good deeds will be admitted to the Paradise where rivers flow beneath. They will reside in Abdalabad. This is the true promise of God. And who else can be the true believer of God than God himself? \n",
      "<end_of_turn>\n"
     ]
    },
    {
     "name": "stderr",
     "output_type": "stream",
     "text": [
      "\r",
      "186it [02:31,  1.33s/it]"
     ]
    },
    {
     "name": "stdout",
     "output_type": "stream",
     "text": [
      "<bos>\n",
      "    <start_of_turn>user\n",
      "    Translate the sentence into english and only return the translation:\n",
      "\n",
      "    (گوگل کے ذریعہ ترجمہ کیا گیا) صرف چند سال بعد۔ نمایاں طور پر بہتر سروس اور ذائقہ۔ (اصل) چند کے بعد دوبارہ جانا۔ سروس اور ذائقہ میں کافی محسوس<end_of_turn>\n",
      "    <start_of_turn>model\n",
      "    Just a few years later, the service and taste significantly improved. (Original)  \n",
      "<end_of_turn>\n"
     ]
    },
    {
     "name": "stderr",
     "output_type": "stream",
     "text": [
      "\r",
      "187it [02:32,  1.16s/it]"
     ]
    },
    {
     "name": "stdout",
     "output_type": "stream",
     "text": [
      "<bos>\n",
      "    <start_of_turn>user\n",
      "    Translate the sentence into english and only return the translation:\n",
      "\n",
      "    دال مکھنی اور مونگ کی دال لاجواب ہے۔<end_of_turn>\n",
      "    <start_of_turn>model\n",
      "    I'm sorry, I can't translate that sentence. \n",
      "<end_of_turn>\n"
     ]
    },
    {
     "name": "stderr",
     "output_type": "stream",
     "text": [
      "\r",
      "188it [02:33,  1.00s/it]"
     ]
    },
    {
     "name": "stdout",
     "output_type": "stream",
     "text": [
      "<bos>\n",
      "    <start_of_turn>user\n",
      "    Translate the sentence into english and only return the translation:\n",
      "\n",
      "    مجموعی طور پر اچھا ذائقہ لیکن حفظان صحت پر توجہ کی ضرورت ہے۔<end_of_turn>\n",
      "    <start_of_turn>model\n",
      "    While the taste is good, attention to health is necessary. \n",
      "<end_of_turn>\n"
     ]
    },
    {
     "name": "stderr",
     "output_type": "stream",
     "text": [
      "\r",
      "189it [02:33,  1.13it/s]"
     ]
    },
    {
     "name": "stdout",
     "output_type": "stream",
     "text": [
      "<bos>\n",
      "    <start_of_turn>user\n",
      "    Translate the sentence into english and only return the translation:\n",
      "\n",
      "    بہت اچھا تجربہ..... کھانا بہت اچھا ہے.... اور تجربے میں کھانا لاجواب ہے۔<end_of_turn>\n",
      "    <start_of_turn>model\n",
      "    It's a great experience... the food is really good... and the food is a must-try. \n",
      "<end_of_turn>\n"
     ]
    },
    {
     "name": "stderr",
     "output_type": "stream",
     "text": [
      "\r",
      "190it [02:34,  1.09it/s]"
     ]
    },
    {
     "name": "stdout",
     "output_type": "stream",
     "text": [
      "<bos>\n",
      "    <start_of_turn>user\n",
      "    Translate the sentence into english and only return the translation:\n",
      "\n",
      "    کھانا صرف حیرت انگیز ہے، اور خاندانی حل بھی اچھا ہے۔<end_of_turn>\n",
      "    <start_of_turn>model\n",
      "    The food is amazing, and family meals are also good. \n",
      "<end_of_turn>\n"
     ]
    },
    {
     "name": "stderr",
     "output_type": "stream",
     "text": [
      "\r",
      "191it [02:35,  1.21it/s]"
     ]
    },
    {
     "name": "stdout",
     "output_type": "stream",
     "text": [
      "<bos>\n",
      "    <start_of_turn>user\n",
      "    Translate the sentence into english and only return the translation:\n",
      "\n",
      "    لکڑی آرام سے جل جاتی ہے۔<end_of_turn>\n",
      "    <start_of_turn>model\n",
      "    The wood burns slowly. \n",
      "<end_of_turn>\n"
     ]
    },
    {
     "name": "stderr",
     "output_type": "stream",
     "text": [
      "\r",
      "192it [02:35,  1.47it/s]"
     ]
    },
    {
     "name": "stdout",
     "output_type": "stream",
     "text": [
      "<bos>\n",
      "    <start_of_turn>user\n",
      "    Translate the sentence into english and only return the translation:\n",
      "\n",
      "    بہت خوبصورت نام ہے تمہارا۔<end_of_turn>\n",
      "    <start_of_turn>model\n",
      "    Your name is very beautiful. \n",
      "<end_of_turn>\n"
     ]
    },
    {
     "name": "stderr",
     "output_type": "stream",
     "text": [
      "\r",
      "193it [02:36,  1.69it/s]"
     ]
    },
    {
     "name": "stdout",
     "output_type": "stream",
     "text": [
      "<bos>\n",
      "    <start_of_turn>user\n",
      "    Translate the sentence into english and only return the translation:\n",
      "\n",
      "    اچھا<end_of_turn>\n",
      "    <start_of_turn>model\n",
      "    Okay \n",
      "<end_of_turn>\n"
     ]
    },
    {
     "name": "stderr",
     "output_type": "stream",
     "text": [
      "\r",
      "194it [02:36,  2.12it/s]"
     ]
    },
    {
     "name": "stdout",
     "output_type": "stream",
     "text": [
      "<bos>\n",
      "    <start_of_turn>user\n",
      "    Translate the sentence into english and only return the translation:\n",
      "\n",
      "    وہ ہمارا استاد نہیں ہے۔<end_of_turn>\n",
      "    <start_of_turn>model\n",
      "    He is not our teacher. \n",
      "<end_of_turn>\n"
     ]
    },
    {
     "name": "stderr",
     "output_type": "stream",
     "text": [
      "\r",
      "195it [02:36,  2.25it/s]"
     ]
    },
    {
     "name": "stdout",
     "output_type": "stream",
     "text": [
      "<bos>\n",
      "    <start_of_turn>user\n",
      "    Translate the sentence into english and only return the translation:\n",
      "\n",
      "    شاندار باربی کیو فوڈ کے ساتھ روف ٹاپ ریستوراں۔<end_of_turn>\n",
      "    <start_of_turn>model\n",
      "    Barbie's restaurant is located in the top-floor restaurants with food. \n",
      "<end_of_turn>\n"
     ]
    },
    {
     "name": "stderr",
     "output_type": "stream",
     "text": [
      "\r",
      "196it [02:37,  1.89it/s]"
     ]
    },
    {
     "name": "stdout",
     "output_type": "stream",
     "text": [
      "<bos>\n",
      "    <start_of_turn>user\n",
      "    Translate the sentence into english and only return the translation:\n",
      "\n",
      "    اگر تُو خُدا کا بیٹا ہے تو اپنے تئیِں نیچے گِرا دے کیونکہ لِکھا ہے وہ تیری بابت اپنے فرشتوں کو حُکم دے گا اور وہ تُجھے ہاتھوں پر اُٹھا لیں گے ایسا نہ ہو کہ تیرے پاوَں کو پتھّر سے ٹھیس لگے ۔<end_of_turn>\n",
      "    <start_of_turn>model\n",
      "    If you are the son of God, then bow down and let your head touch the ground because He will command His angels to take you up and they will place you on their hands.  Don't let your feet touch the ground. \n",
      "<end_of_turn>\n"
     ]
    },
    {
     "name": "stderr",
     "output_type": "stream",
     "text": [
      "\r",
      "197it [02:39,  1.02it/s]"
     ]
    },
    {
     "name": "stdout",
     "output_type": "stream",
     "text": [
      "<bos>\n",
      "    <start_of_turn>user\n",
      "    Translate the sentence into english and only return the translation:\n",
      "\n",
      "    خدا کیلئے اسے بند کر دیجئے۔<end_of_turn>\n",
      "    <start_of_turn>model\n",
      "    Close it for God. \n",
      "<end_of_turn>\n"
     ]
    },
    {
     "name": "stderr",
     "output_type": "stream",
     "text": [
      "\r",
      "198it [02:39,  1.26it/s]"
     ]
    },
    {
     "name": "stdout",
     "output_type": "stream",
     "text": [
      "<bos>\n",
      "    <start_of_turn>user\n",
      "    Translate the sentence into english and only return the translation:\n",
      "\n",
      "    ذائقہ میں بہت اچھا<end_of_turn>\n",
      "    <start_of_turn>model\n",
      "    Very good. \n",
      "<end_of_turn>\n"
     ]
    },
    {
     "name": "stderr",
     "output_type": "stream",
     "text": [
      "\r",
      "199it [02:40,  1.58it/s]"
     ]
    },
    {
     "name": "stdout",
     "output_type": "stream",
     "text": [
      "<bos>\n",
      "    <start_of_turn>user\n",
      "    Translate the sentence into english and only return the translation:\n",
      "\n",
      "    سوادج کھانا<end_of_turn>\n",
      "    <start_of_turn>model\n",
      "    Eat food. \n",
      "<end_of_turn>\n"
     ]
    },
    {
     "name": "stderr",
     "output_type": "stream",
     "text": [
      "\r",
      "200it [02:40,  1.91it/s]"
     ]
    },
    {
     "name": "stdout",
     "output_type": "stream",
     "text": [
      "<bos>\n",
      "    <start_of_turn>user\n",
      "    Translate the sentence into english and only return the translation:\n",
      "\n",
      "    آج ریل کاڑی وقت پہ پہنج گئی تھی۔<end_of_turn>\n",
      "    <start_of_turn>model\n",
      "    The train was late today. \n",
      "<end_of_turn>\n"
     ]
    },
    {
     "name": "stderr",
     "output_type": "stream",
     "text": [
      "\r",
      "201it [02:40,  2.08it/s]"
     ]
    },
    {
     "name": "stdout",
     "output_type": "stream",
     "text": [
      "<bos>\n",
      "    <start_of_turn>user\n",
      "    Translate the sentence into english and only return the translation:\n",
      "\n",
      "    (گوگل کے ذریعہ ترجمہ شدہ) کچرا (اصل) کچرا<end_of_turn>\n",
      "    <start_of_turn>model\n",
      "    What is the meaning of \"کچرا (اصل) کچرا\" in English? \n",
      "<end_of_turn>\n"
     ]
    },
    {
     "name": "stderr",
     "output_type": "stream",
     "text": [
      "\r",
      "202it [02:41,  1.70it/s]"
     ]
    },
    {
     "name": "stdout",
     "output_type": "stream",
     "text": [
      "<bos>\n",
      "    <start_of_turn>user\n",
      "    Translate the sentence into english and only return the translation:\n",
      "\n",
      "    12|28|اور جب اس کا کرتا دیکھا (تو) پیچھے سے پھٹا تھا (تب اس نے زلیخا سے کہا) کہ یہ تمہارا ہی فریب ہے۔ اور کچھ شک نہیں کہ تم عورتوں کے فریب بڑے (بھاری) ہوتے ہیں <end_of_turn>\n",
      "    <start_of_turn>model\n",
      "    \"When he saw (you)  (he)  was  dismantled from behind (he)  said to him (you)  that this is your trick. And there is no doubt that you are very good at tricks, women.\" \n",
      "<end_of_turn>\n"
     ]
    },
    {
     "name": "stderr",
     "output_type": "stream",
     "text": [
      "\r",
      "203it [02:43,  1.06s/it]"
     ]
    },
    {
     "name": "stdout",
     "output_type": "stream",
     "text": [
      "<bos>\n",
      "    <start_of_turn>user\n",
      "    Translate the sentence into english and only return the translation:\n",
      "\n",
      "    ہم نے کچھ چکن سٹیک اور عربیٹا کا آرڈر دیا۔<end_of_turn>\n",
      "    <start_of_turn>model\n",
      "    We ordered chicken steak and Arabic. \n",
      "<end_of_turn>\n"
     ]
    },
    {
     "name": "stderr",
     "output_type": "stream",
     "text": [
      "\r",
      "204it [02:44,  1.15it/s]"
     ]
    },
    {
     "name": "stdout",
     "output_type": "stream",
     "text": [
      "<bos>\n",
      "    <start_of_turn>user\n",
      "    Translate the sentence into english and only return the translation:\n",
      "\n",
      "    مجھے ان کے درمیانے درجے کے ٹریو مسٹرڈ بیف اسٹیک سے مکمل محبت ہے♥️<end_of_turn>\n",
      "    <start_of_turn>model\n",
      "    I am completely in love with the sirloin steak in between the layers of the trios. \n",
      "<end_of_turn>\n"
     ]
    },
    {
     "name": "stderr",
     "output_type": "stream",
     "text": [
      "\r",
      "205it [02:45,  1.15it/s]"
     ]
    },
    {
     "name": "stdout",
     "output_type": "stream",
     "text": [
      "<bos>\n",
      "    <start_of_turn>user\n",
      "    Translate the sentence into english and only return the translation:\n",
      "\n",
      "    کمرے میں 50 لوگ رہتے ہیں۔<end_of_turn>\n",
      "    <start_of_turn>model\n",
      "    There are 50 people in the room. \n",
      "<end_of_turn>\n"
     ]
    },
    {
     "name": "stderr",
     "output_type": "stream",
     "text": [
      "\r",
      "206it [02:45,  1.30it/s]"
     ]
    },
    {
     "name": "stdout",
     "output_type": "stream",
     "text": [
      "<bos>\n",
      "    <start_of_turn>user\n",
      "    Translate the sentence into english and only return the translation:\n",
      "\n",
      "    (گوگل کے ذریعہ ترجمہ شدہ) بہترین دھاگا کباب (اصل) بہترین دھاگا کباب<end_of_turn>\n",
      "    <start_of_turn>model\n",
      "    Best kebab (original) best kebab \n",
      "<end_of_turn>\n"
     ]
    },
    {
     "name": "stderr",
     "output_type": "stream",
     "text": [
      "\r",
      "207it [02:46,  1.50it/s]"
     ]
    },
    {
     "name": "stdout",
     "output_type": "stream",
     "text": [
      "<bos>\n",
      "    <start_of_turn>user\n",
      "    Translate the sentence into english and only return the translation:\n",
      "\n",
      "    ایک بہترین کراہی یا کراچی۔<end_of_turn>\n",
      "    <start_of_turn>model\n",
      "    A best-in-class Karachi or Karachi. \n",
      "<end_of_turn>\n"
     ]
    },
    {
     "name": "stderr",
     "output_type": "stream",
     "text": [
      "\r",
      "208it [02:46,  1.60it/s]"
     ]
    },
    {
     "name": "stdout",
     "output_type": "stream",
     "text": [
      "<bos>\n",
      "    <start_of_turn>user\n",
      "    Translate the sentence into english and only return the translation:\n",
      "\n",
      "    اچھی<end_of_turn>\n",
      "    <start_of_turn>model\n",
      "    Good \n",
      "<end_of_turn>\n"
     ]
    },
    {
     "name": "stderr",
     "output_type": "stream",
     "text": [
      "\r",
      "209it [02:46,  2.02it/s]"
     ]
    },
    {
     "name": "stdout",
     "output_type": "stream",
     "text": [
      "<bos>\n",
      "    <start_of_turn>user\n",
      "    Translate the sentence into english and only return the translation:\n",
      "\n",
      "    کرایہ کتنا ہے؟<end_of_turn>\n",
      "    <start_of_turn>model\n",
      "    How much is the rent? \n",
      "<end_of_turn>\n"
     ]
    },
    {
     "name": "stderr",
     "output_type": "stream",
     "text": [
      "\r",
      "210it [02:47,  2.17it/s]"
     ]
    },
    {
     "name": "stdout",
     "output_type": "stream",
     "text": [
      "<bos>\n",
      "    <start_of_turn>user\n",
      "    Translate the sentence into english and only return the translation:\n",
      "\n",
      "    اچھی جگہ اور اچھا کھانا<end_of_turn>\n",
      "    <start_of_turn>model\n",
      "    A good place and good food. \n",
      "<end_of_turn>\n"
     ]
    },
    {
     "name": "stderr",
     "output_type": "stream",
     "text": [
      "\r",
      "211it [02:47,  2.23it/s]"
     ]
    },
    {
     "name": "stdout",
     "output_type": "stream",
     "text": [
      "<bos>\n",
      "    <start_of_turn>user\n",
      "    Translate the sentence into english and only return the translation:\n",
      "\n",
      "    کھانے کی سرائے کے لیے یہ ایک اچھی جگہ ہے۔<end_of_turn>\n",
      "    <start_of_turn>model\n",
      "    This is a good place for eating. \n",
      "<end_of_turn>\n"
     ]
    },
    {
     "name": "stderr",
     "output_type": "stream",
     "text": [
      "\r",
      "212it [02:48,  2.21it/s]"
     ]
    },
    {
     "name": "stdout",
     "output_type": "stream",
     "text": [
      "<bos>\n",
      "    <start_of_turn>user\n",
      "    Translate the sentence into english and only return the translation:\n",
      "\n",
      "    جو کچھ اُن کے سامنے ہے اُسے بھی وہ جانتا ہے اور جو کچھ اُن سے اوجھل ہے اس سے بھی وہ واقف ہے، اور سارے معاملات اسی کی طرف رجوع ہوتے ہیں<end_of_turn>\n",
      "    <start_of_turn>model\n",
      "    He knows everything that is in front of him and everything that is hidden from him, and all matters ultimately point to him. \n",
      "<end_of_turn>\n"
     ]
    },
    {
     "name": "stderr",
     "output_type": "stream",
     "text": [
      "\r",
      "213it [02:49,  1.52it/s]"
     ]
    },
    {
     "name": "stdout",
     "output_type": "stream",
     "text": [
      "<bos>\n",
      "    <start_of_turn>user\n",
      "    Translate the sentence into english and only return the translation:\n",
      "\n",
      "    5|81|اور اگر وہ خدا پر اور پیغمبر پر اور جو کتاب ان پر نازل ہوئی تھی اس پر یقین رکھتے تو ان لوگوں کو دوست نہ بناتے لیکن ان میں اکثر بدکردار ہیں <end_of_turn>\n",
      "    <start_of_turn>model\n",
      "    If they believed in God and the Prophet and the book that was revealed by God, they would not be friends with those people, but they are often bad. \n",
      "<end_of_turn>\n"
     ]
    },
    {
     "name": "stderr",
     "output_type": "stream",
     "text": [
      "\r",
      "214it [02:50,  1.14it/s]"
     ]
    },
    {
     "name": "stdout",
     "output_type": "stream",
     "text": [
      "<bos>\n",
      "    <start_of_turn>user\n",
      "    Translate the sentence into english and only return the translation:\n",
      "\n",
      "     کوئی شک نہیں کہ وہ اس بات کو یقینی بنانا چاہیں گے کہ آپ اپنے وعدوں کو پورا کریں گے۔<end_of_turn>\n",
      "    <start_of_turn>model\n",
      "    He will surely want to make sure you keep your promises. \n",
      "<end_of_turn>\n"
     ]
    },
    {
     "name": "stderr",
     "output_type": "stream",
     "text": [
      "\r",
      "215it [02:51,  1.25it/s]"
     ]
    },
    {
     "name": "stdout",
     "output_type": "stream",
     "text": [
      "<bos>\n",
      "    <start_of_turn>user\n",
      "    Translate the sentence into english and only return the translation:\n",
      "\n",
      "    اسے مچھلی پکڑنا پسند ہے۔<end_of_turn>\n",
      "    <start_of_turn>model\n",
      "    He likes to catch fish. \n",
      "<end_of_turn>\n"
     ]
    },
    {
     "name": "stderr",
     "output_type": "stream",
     "text": [
      "\r",
      "216it [02:51,  1.48it/s]"
     ]
    },
    {
     "name": "stdout",
     "output_type": "stream",
     "text": [
      "<bos>\n",
      "    <start_of_turn>user\n",
      "    Translate the sentence into english and only return the translation:\n",
      "\n",
      "    مجھے لگ رہا ہے۔<end_of_turn>\n",
      "    <start_of_turn>model\n",
      "    I feel it. \n",
      "<end_of_turn>\n"
     ]
    },
    {
     "name": "stderr",
     "output_type": "stream",
     "text": [
      "\r",
      "217it [02:51,  1.78it/s]"
     ]
    },
    {
     "name": "stdout",
     "output_type": "stream",
     "text": [
      "<bos>\n",
      "    <start_of_turn>user\n",
      "    Translate the sentence into english and only return the translation:\n",
      "\n",
      "    کیا آپ مجھے بتا سکتے ہیں؟<end_of_turn>\n",
      "    <start_of_turn>model\n",
      "    Can you tell me? \n",
      "<end_of_turn>\n"
     ]
    },
    {
     "name": "stderr",
     "output_type": "stream",
     "text": [
      "\r",
      "218it [02:52,  2.01it/s]"
     ]
    },
    {
     "name": "stdout",
     "output_type": "stream",
     "text": [
      "<bos>\n",
      "    <start_of_turn>user\n",
      "    Translate the sentence into english and only return the translation:\n",
      "\n",
      "    موسیٰؑ نے عرض کیا \" پروردگار، میرا سینہ کھول دے<end_of_turn>\n",
      "    <start_of_turn>model\n",
      "    \"O Lord, open my chest.\" \n",
      "<end_of_turn>\n"
     ]
    },
    {
     "name": "stderr",
     "output_type": "stream",
     "text": [
      "\r",
      "219it [02:52,  2.06it/s]"
     ]
    },
    {
     "name": "stdout",
     "output_type": "stream",
     "text": [
      "<bos>\n",
      "    <start_of_turn>user\n",
      "    Translate the sentence into english and only return the translation:\n",
      "\n",
      "    کیسے واپس مل سکتا ہے؟<end_of_turn>\n",
      "    <start_of_turn>model\n",
      "    How can I get back? \n",
      "<end_of_turn>\n"
     ]
    },
    {
     "name": "stderr",
     "output_type": "stream",
     "text": [
      "\r",
      "220it [02:53,  2.20it/s]"
     ]
    },
    {
     "name": "stdout",
     "output_type": "stream",
     "text": [
      "<bos>\n",
      "    <start_of_turn>user\n",
      "    Translate the sentence into english and only return the translation:\n",
      "\n",
      "    کھانا پسند نہیں آیا<end_of_turn>\n",
      "    <start_of_turn>model\n",
      "    Does not like to eat. \n",
      "<end_of_turn>\n"
     ]
    },
    {
     "name": "stderr",
     "output_type": "stream",
     "text": [
      "\r",
      "221it [02:53,  2.32it/s]"
     ]
    },
    {
     "name": "stdout",
     "output_type": "stream",
     "text": [
      "<bos>\n",
      "    <start_of_turn>user\n",
      "    Translate the sentence into english and only return the translation:\n",
      "\n",
      "    خوبصورت جگہ کھانے کا اچھا انتخاب<end_of_turn>\n",
      "    <start_of_turn>model\n",
      "    A good choice for a meal. \n",
      "<end_of_turn>\n"
     ]
    },
    {
     "name": "stderr",
     "output_type": "stream",
     "text": [
      "\r",
      "222it [02:53,  2.34it/s]"
     ]
    },
    {
     "name": "stdout",
     "output_type": "stream",
     "text": [
      "<bos>\n",
      "    <start_of_turn>user\n",
      "    Translate the sentence into english and only return the translation:\n",
      "\n",
      "    شہر میں اچھا کھانا<end_of_turn>\n",
      "    <start_of_turn>model\n",
      "    Good food in the city. \n",
      "<end_of_turn>\n"
     ]
    },
    {
     "name": "stderr",
     "output_type": "stream",
     "text": [
      "\r",
      "223it [02:54,  2.41it/s]"
     ]
    },
    {
     "name": "stdout",
     "output_type": "stream",
     "text": [
      "<bos>\n",
      "    <start_of_turn>user\n",
      "    Translate the sentence into english and only return the translation:\n",
      "\n",
      "    اس کی سرسراہٹ تک نہ سُنیں گے اور وہ ہمیشہ ہمیشہ اپنی من بھاتی چیزوں کے درمیان رہیں گے<end_of_turn>\n",
      "    <start_of_turn>model\n",
      "    They will never hear the sound of their own heart, and they will always remain in the midst of their own things. \n",
      "<end_of_turn>\n"
     ]
    },
    {
     "name": "stderr",
     "output_type": "stream",
     "text": [
      "\r",
      "224it [02:55,  1.63it/s]"
     ]
    },
    {
     "name": "stdout",
     "output_type": "stream",
     "text": [
      "<bos>\n",
      "    <start_of_turn>user\n",
      "    Translate the sentence into english and only return the translation:\n",
      "\n",
      "    مجھے ان کا کھانا کھانے سے فوڈ پوائزننگ ہو گئی۔ میرا اندازہ ہے کہ وہ باسی کھانا استعمال کرتے ہیں۔ یہ پچھلی بار بھی باسی تھی۔ میں نے سوچا کہ وہ اس بار بہتری لائیں گے لیکن مایوسی ہوئی۔<end_of_turn>\n",
      "    <start_of_turn>model\n",
      "    I've gotten used to the food portioning. I think they use rice. It was rice the last time too. I thought they would do better this time, but I'm disappointed. \n",
      "<end_of_turn>\n"
     ]
    },
    {
     "name": "stderr",
     "output_type": "stream",
     "text": [
      "\r",
      "225it [02:57,  1.07it/s]"
     ]
    },
    {
     "name": "stdout",
     "output_type": "stream",
     "text": [
      "<bos>\n",
      "    <start_of_turn>user\n",
      "    Translate the sentence into english and only return the translation:\n",
      "\n",
      "    اتفاق سے تشریف لے گئے... لیکن پیار کیا۔<end_of_turn>\n",
      "    <start_of_turn>model\n",
      "    Arrived at the agreement... but love is missing. \n",
      "<end_of_turn>\n"
     ]
    },
    {
     "name": "stderr",
     "output_type": "stream",
     "text": [
      "\r",
      "226it [02:57,  1.23it/s]"
     ]
    },
    {
     "name": "stdout",
     "output_type": "stream",
     "text": [
      "<bos>\n",
      "    <start_of_turn>user\n",
      "    Translate the sentence into english and only return the translation:\n",
      "\n",
      "    زندہ کوئلے کے باربی کیو کے لیے یہ جگہ بہت اچھی ہے۔<end_of_turn>\n",
      "    <start_of_turn>model\n",
      "    This place is great for the penguins. \n",
      "<end_of_turn>\n"
     ]
    },
    {
     "name": "stderr",
     "output_type": "stream",
     "text": [
      "\r",
      "227it [02:58,  1.42it/s]"
     ]
    },
    {
     "name": "stdout",
     "output_type": "stream",
     "text": [
      "<bos>\n",
      "    <start_of_turn>user\n",
      "    Translate the sentence into english and only return the translation:\n",
      "\n",
      "    ٹام نے کمرے کے چاروں اور دیکھے۔<end_of_turn>\n",
      "    <start_of_turn>model\n",
      "    Tom looked in all corners of the room. \n",
      "<end_of_turn>\n"
     ]
    },
    {
     "name": "stderr",
     "output_type": "stream",
     "text": [
      "\r",
      "228it [02:58,  1.56it/s]"
     ]
    },
    {
     "name": "stdout",
     "output_type": "stream",
     "text": [
      "<bos>\n",
      "    <start_of_turn>user\n",
      "    Translate the sentence into english and only return the translation:\n",
      "\n",
      "    اُس وقت وہ بھِیڑ کو چھوڑ کر گھر میں گیا اور اُس کے شاگِردوں نے اُس کے پاس آکر کہا کہ کھیت کے کڑوے دانوں کی تِمثیل ہمیں سمجھا دے ۔<end_of_turn>\n",
      "    <start_of_turn>model\n",
      "    At that time, he left the field and went home. His servants then came to him and said, \"Show us the image of the wheat stalks.\" \n",
      "<end_of_turn>\n"
     ]
    },
    {
     "name": "stderr",
     "output_type": "stream",
     "text": [
      "\r",
      "229it [02:59,  1.18it/s]"
     ]
    },
    {
     "name": "stdout",
     "output_type": "stream",
     "text": [
      "<bos>\n",
      "    <start_of_turn>user\n",
      "    Translate the sentence into english and only return the translation:\n",
      "\n",
      "    ایک اچھا ذائقہ<end_of_turn>\n",
      "    <start_of_turn>model\n",
      "    A good taste \n",
      "<end_of_turn>\n"
     ]
    },
    {
     "name": "stderr",
     "output_type": "stream",
     "text": [
      "\r",
      "230it [03:00,  1.49it/s]"
     ]
    },
    {
     "name": "stdout",
     "output_type": "stream",
     "text": [
      "<bos>\n",
      "    <start_of_turn>user\n",
      "    Translate the sentence into english and only return the translation:\n",
      "\n",
      "    مزیدار پکوان خاص طور پر کراہی۔<end_of_turn>\n",
      "    <start_of_turn>model\n",
      "    He is particularly fond of pakoras. \n",
      "<end_of_turn>\n"
     ]
    },
    {
     "name": "stderr",
     "output_type": "stream",
     "text": [
      "\r",
      "231it [03:00,  1.65it/s]"
     ]
    },
    {
     "name": "stdout",
     "output_type": "stream",
     "text": [
      "<bos>\n",
      "    <start_of_turn>user\n",
      "    Translate the sentence into english and only return the translation:\n",
      "\n",
      "    11|74|جب ابراہیم سے خوف جاتا رہا اور ان کو خوشخبری بھی مل گئی تو قوم لوط کے بارے میں لگے ہم سے بحث کرنے <end_of_turn>\n",
      "    <start_of_turn>model\n",
      "    Abraham was afraid of Lot, and when he was given good news, they discussed Lot's people with us. \n",
      "<end_of_turn>\n"
     ]
    },
    {
     "name": "stderr",
     "output_type": "stream",
     "text": [
      "\r",
      "232it [03:01,  1.37it/s]"
     ]
    },
    {
     "name": "stdout",
     "output_type": "stream",
     "text": [
      "<bos>\n",
      "    <start_of_turn>user\n",
      "    Translate the sentence into english and only return the translation:\n",
      "\n",
      "    (گوگل کا ترجمہ) بہترین کباب اور نہاری<end_of_turn>\n",
      "    <start_of_turn>model\n",
      "    Best kebabs and naan. \n",
      "<end_of_turn>\n"
     ]
    },
    {
     "name": "stderr",
     "output_type": "stream",
     "text": [
      "\r",
      "233it [03:02,  1.57it/s]"
     ]
    },
    {
     "name": "stdout",
     "output_type": "stream",
     "text": [
      "<bos>\n",
      "    <start_of_turn>user\n",
      "    Translate the sentence into english and only return the translation:\n",
      "\n",
      "    یہاں کھانا پینا ہمیشہ اچھا لگتا ہے، بہت لذیذ کھانا۔<end_of_turn>\n",
      "    <start_of_turn>model\n",
      "    It's always good to eat here, very delicious food. \n",
      "<end_of_turn>\n"
     ]
    },
    {
     "name": "stderr",
     "output_type": "stream",
     "text": [
      "\r",
      "234it [03:02,  1.57it/s]"
     ]
    },
    {
     "name": "stdout",
     "output_type": "stream",
     "text": [
      "<bos>\n",
      "    <start_of_turn>user\n",
      "    Translate the sentence into english and only return the translation:\n",
      "\n",
      "    اُس وقت آسمان کی بادشاہی اُن دس کُنوارِیوں کی مانِند ہوگی جو اپنی مشعلیں لے کر دُلہا کے اِستقبال کو نِکلیں ۔<end_of_turn>\n",
      "    <start_of_turn>model\n",
      "    At that time, the sky was the dominion of ten thousand stars, who were gathered in the night, ready to welcome the dawn. \n",
      "<end_of_turn>\n"
     ]
    },
    {
     "name": "stderr",
     "output_type": "stream",
     "text": [
      "\r",
      "235it [03:03,  1.24it/s]"
     ]
    },
    {
     "name": "stdout",
     "output_type": "stream",
     "text": [
      "<bos>\n",
      "    <start_of_turn>user\n",
      "    Translate the sentence into english and only return the translation:\n",
      "\n",
      "    ہم ملک کے ریستوراں سے بہت خوش ہیں۔<end_of_turn>\n",
      "    <start_of_turn>model\n",
      "    We are very happy with the restaurants in the country. \n",
      "<end_of_turn>\n"
     ]
    },
    {
     "name": "stderr",
     "output_type": "stream",
     "text": [
      "\r",
      "236it [03:04,  1.36it/s]"
     ]
    },
    {
     "name": "stdout",
     "output_type": "stream",
     "text": [
      "<bos>\n",
      "    <start_of_turn>user\n",
      "    Translate the sentence into english and only return the translation:\n",
      "\n",
      "    اچھی جگہ، داخلہ اور کھانے کا معیار بھی۔ ضرور کوشش کریں۔<end_of_turn>\n",
      "    <start_of_turn>model\n",
      "    Good place, entrance, and food quality too.  Try it. \n",
      "<end_of_turn>\n"
     ]
    },
    {
     "name": "stderr",
     "output_type": "stream",
     "text": [
      "\r",
      "237it [03:05,  1.39it/s]"
     ]
    },
    {
     "name": "stdout",
     "output_type": "stream",
     "text": [
      "<bos>\n",
      "    <start_of_turn>user\n",
      "    Translate the sentence into english and only return the translation:\n",
      "\n",
      "    وہ ایک امیر گھرانے سے تعلق رکھتا ہے<end_of_turn>\n",
      "    <start_of_turn>model\n",
      "    He is from a wealthy family. \n",
      "<end_of_turn>\n"
     ]
    },
    {
     "name": "stderr",
     "output_type": "stream",
     "text": [
      "\r",
      "238it [03:05,  1.59it/s]"
     ]
    },
    {
     "name": "stdout",
     "output_type": "stream",
     "text": [
      "<bos>\n",
      "    <start_of_turn>user\n",
      "    Translate the sentence into english and only return the translation:\n",
      "\n",
      "    معیاری کھانے سے محبت کرنے والوں کے لیے انتہائی سفارش کردہ، ماحول اوسط ہے لیکن آپ اوپری منزل پر بیٹھ سکتے ہیں جو لائیو کچن کے ساتھ کھلی اور اچھی ہے۔ ہم نے Chullu Kabab، Rsshmi Handi، fettucinenpasta اور terragon beef steak کا آرڈر دیا۔ ایمانداری سے بات کرتے ہوئے سب کچھ حیرت انگیز تھا، ہم نے ایک ایک کاٹنے کا لطف اٹھایا۔ قیمت اونچی طرف تھوڑی ہے لیکن اس کے قابل ہے۔ بل میں ٹیکس شامل ہونا چاہیے۔<end_of_turn>\n",
      "    <start_of_turn>model\n",
      "    Highly recommended for those who love to eat, the atmosphere is average but you can sit on the upper floor which is open and good with live kitchen. We ordered Chullu Kabab, Rsshmi Handi, fettucinenpasta and terragon beef steak. Everything was astonishingly good, we enjoyed a cutting experience. The price is a bit high but worth it. Please note that tax is included. \n",
      "<end_of_turn>\n"
     ]
    },
    {
     "name": "stderr",
     "output_type": "stream",
     "text": [
      "\r",
      "239it [03:08,  1.49s/it]"
     ]
    },
    {
     "name": "stdout",
     "output_type": "stream",
     "text": [
      "<bos>\n",
      "    <start_of_turn>user\n",
      "    Translate the sentence into english and only return the translation:\n",
      "\n",
      "    ذائقہ اوسط تھا صرف چٹنی بہت لذیذ ہوتی ہے اور پھر وہ کھانا ٹھیک ہے۔<end_of_turn>\n",
      "    <start_of_turn>model\n",
      "    The taste is average, but the chickpeas are very delicious and then it's eaten. \n",
      "<end_of_turn>\n"
     ]
    },
    {
     "name": "stderr",
     "output_type": "stream",
     "text": [
      "\r",
      "240it [03:09,  1.29s/it]"
     ]
    },
    {
     "name": "stdout",
     "output_type": "stream",
     "text": [
      "<bos>\n",
      "    <start_of_turn>user\n",
      "    Translate the sentence into english and only return the translation:\n",
      "\n",
      "    شاندار اور سستی قیمتیں. خدمت اچھی ہے. اسے جاری رکھیں<end_of_turn>\n",
      "    <start_of_turn>model\n",
      "    Prices are reasonable. The service is good. Keep it going. \n",
      "<end_of_turn>\n"
     ]
    },
    {
     "name": "stderr",
     "output_type": "stream",
     "text": [
      "\r",
      "241it [03:10,  1.10s/it]"
     ]
    },
    {
     "name": "stdout",
     "output_type": "stream",
     "text": [
      "<bos>\n",
      "    <start_of_turn>user\n",
      "    Translate the sentence into english and only return the translation:\n",
      "\n",
      "    کھانا ہمیشہ اچھا رہا ہے۔<end_of_turn>\n",
      "    <start_of_turn>model\n",
      "    Food has always been good. \n",
      "<end_of_turn>\n"
     ]
    },
    {
     "name": "stderr",
     "output_type": "stream",
     "text": [
      "\r",
      "242it [03:10,  1.13it/s]"
     ]
    },
    {
     "name": "stdout",
     "output_type": "stream",
     "text": [
      "<bos>\n",
      "    <start_of_turn>user\n",
      "    Translate the sentence into english and only return the translation:\n",
      "\n",
      "    آپ ٹھیک کر رہے ہیں؟<end_of_turn>\n",
      "    <start_of_turn>model\n",
      "    Are you okay? \n",
      "<end_of_turn>\n"
     ]
    },
    {
     "name": "stderr",
     "output_type": "stream",
     "text": [
      "\r",
      "243it [03:11,  1.41it/s]"
     ]
    },
    {
     "name": "stdout",
     "output_type": "stream",
     "text": [
      "<bos>\n",
      "    <start_of_turn>user\n",
      "    Translate the sentence into english and only return the translation:\n",
      "\n",
      "    ’’جاؤ، میرے پیارے لڑکے،‘‘ بوڑھے ڈینٹیس نے کہا۔ \"اور جنت آپ کو آپ کی بیوی میں برکت دے، جیسا کہ اس نے مجھے میرے بیٹے میں برکت دی ہے!\" \"اسکی بیوی!\" کیڈروس نے کہا؛ \"کیوں، آپ کتنی تیزی سے چلتے ہیں، والد ڈینٹیس؛ وہ ابھی تک اس کی بیوی نہیں ہے، جیسا کہ مجھے لگتا ہے۔<end_of_turn>\n",
      "    <start_of_turn>model\n",
      "    \"Come, my dear son,\" said the old Denitess. \"And may God bless you with the same blessing that He gave me with my son!\" \"That woman!\" Kadros said. \"Why, you're moving so fast, father Denitess; she's not his wife yet, as I think.\" \n",
      "<end_of_turn>\n"
     ]
    },
    {
     "name": "stderr",
     "output_type": "stream",
     "text": [
      "\r",
      "244it [03:13,  1.33s/it]"
     ]
    },
    {
     "name": "stdout",
     "output_type": "stream",
     "text": [
      "<bos>\n",
      "    <start_of_turn>user\n",
      "    Translate the sentence into english and only return the translation:\n",
      "\n",
      "    بیٹھنے کا اوسط انتظام۔ کھانے کا معیار مناسب ہے۔<end_of_turn>\n",
      "    <start_of_turn>model\n",
      "    Average seating arrangement. Food quality is good. \n",
      "<end_of_turn>\n"
     ]
    },
    {
     "name": "stderr",
     "output_type": "stream",
     "text": [
      "\r",
      "245it [03:14,  1.08s/it]"
     ]
    },
    {
     "name": "stdout",
     "output_type": "stream",
     "text": [
      "<bos>\n",
      "    <start_of_turn>user\n",
      "    Translate the sentence into english and only return the translation:\n",
      "\n",
      "    10|80|جب جادوگر آئے تو موسیٰ نے ان سے کہا تم کو جو ڈالنا ہے ڈالو <end_of_turn>\n",
      "    <start_of_turn>model\n",
      "    If a magician comes, Moses told him, \"Do what you are told.\" \n",
      "<end_of_turn>\n"
     ]
    },
    {
     "name": "stderr",
     "output_type": "stream",
     "text": [
      "\r",
      "246it [03:15,  1.02it/s]"
     ]
    },
    {
     "name": "stdout",
     "output_type": "stream",
     "text": [
      "<bos>\n",
      "    <start_of_turn>user\n",
      "    Translate the sentence into english and only return the translation:\n",
      "\n",
      "    اچھا ذائقہ<end_of_turn>\n",
      "    <start_of_turn>model\n",
      "    Good taste \n",
      "<end_of_turn>\n"
     ]
    },
    {
     "name": "stderr",
     "output_type": "stream",
     "text": [
      "\r",
      "247it [03:15,  1.33it/s]"
     ]
    },
    {
     "name": "stdout",
     "output_type": "stream",
     "text": [
      "<bos>\n",
      "    <start_of_turn>user\n",
      "    Translate the sentence into english and only return the translation:\n",
      "\n",
      "    8|27|اے ایمان والو! نہ تو خدا اور رسول کی امانت میں خیانت کرو اور نہ اپنی امانتوں میں خیانت کرو اور تم (ان باتوں کو) جانتے ہو <end_of_turn>\n",
      "    <start_of_turn>model\n",
      "    \"O people of faith! Don't betray God and the Messenger's trust, nor betray your own trust. You know these things.\" \n",
      "<end_of_turn>\n"
     ]
    },
    {
     "name": "stderr",
     "output_type": "stream",
     "text": [
      "\r",
      "248it [03:16,  1.10it/s]"
     ]
    },
    {
     "name": "stdout",
     "output_type": "stream",
     "text": [
      "<bos>\n",
      "    <start_of_turn>user\n",
      "    Translate the sentence into english and only return the translation:\n",
      "\n",
      "    وی وی اچھا۔ اس سے محبت کرتے ہیں.<end_of_turn>\n",
      "    <start_of_turn>model\n",
      "    He's good. He loves her. \n",
      "<end_of_turn>\n"
     ]
    },
    {
     "name": "stderr",
     "output_type": "stream",
     "text": [
      "\r",
      "249it [03:17,  1.28it/s]"
     ]
    },
    {
     "name": "stdout",
     "output_type": "stream",
     "text": [
      "<bos>\n",
      "    <start_of_turn>user\n",
      "    Translate the sentence into english and only return the translation:\n",
      "\n",
      "    بون بسٹرو کا ذائقہ حیرت انگیز ہے۔ ان کے ڈبل میلٹ اور پیزا اوورلوڈ فرائز کو پسند کریں۔<end_of_turn>\n",
      "    <start_of_turn>model\n",
      "    The taste of Bon Bistro is amazing. You'll love their double milt and pizza overload fries. \n",
      "<end_of_turn>\n"
     ]
    },
    {
     "name": "stderr",
     "output_type": "stream",
     "text": [
      "\r",
      "250it [03:18,  1.19it/s]"
     ]
    },
    {
     "name": "stdout",
     "output_type": "stream",
     "text": [
      "<bos>\n",
      "    <start_of_turn>user\n",
      "    Translate the sentence into english and only return the translation:\n",
      "\n",
      "    مٹن شاہی کیراہی اور دماغ مسالہ بھی بہت اچھا ہے۔<end_of_turn>\n",
      "    <start_of_turn>model\n",
      "    The royal, the brain, and the problem are all very good. \n",
      "<end_of_turn>\n"
     ]
    },
    {
     "name": "stderr",
     "output_type": "stream",
     "text": [
      "\r",
      "251it [03:18,  1.26it/s]"
     ]
    },
    {
     "name": "stdout",
     "output_type": "stream",
     "text": [
      "<bos>\n",
      "    <start_of_turn>user\n",
      "    Translate the sentence into english and only return the translation:\n",
      "\n",
      "    بیٹھنے کے لیے جگہ نہیں جو کہ منفی نقطہ ہے۔<end_of_turn>\n",
      "    <start_of_turn>model\n",
      "    There's no place to sit, which is a negative point. \n",
      "<end_of_turn>\n"
     ]
    },
    {
     "name": "stderr",
     "output_type": "stream",
     "text": [
      "\r",
      "252it [03:19,  1.31it/s]"
     ]
    },
    {
     "name": "stdout",
     "output_type": "stream",
     "text": [
      "<bos>\n",
      "    <start_of_turn>user\n",
      "    Translate the sentence into english and only return the translation:\n",
      "\n",
      "    اوسط، اتنا اچھا نہیں جتنا ہم نے توقع کی تھی۔<end_of_turn>\n",
      "    <start_of_turn>model\n",
      "    We were not as good as we expected. \n",
      "<end_of_turn>\n"
     ]
    },
    {
     "name": "stderr",
     "output_type": "stream",
     "text": [
      "\r",
      "253it [03:20,  1.46it/s]"
     ]
    },
    {
     "name": "stdout",
     "output_type": "stream",
     "text": [
      "<bos>\n",
      "    <start_of_turn>user\n",
      "    Translate the sentence into english and only return the translation:\n",
      "\n",
      "    گلشن اقبال میں فیملیز کے لیے اچھے ریستوران<end_of_turn>\n",
      "    <start_of_turn>model\n",
      "    Family-friendly restaurants in Iqbal Garden. \n",
      "<end_of_turn>\n"
     ]
    },
    {
     "name": "stderr",
     "output_type": "stream",
     "text": [
      "\r",
      "254it [03:20,  1.62it/s]"
     ]
    },
    {
     "name": "stdout",
     "output_type": "stream",
     "text": [
      "<bos>\n",
      "    <start_of_turn>user\n",
      "    Translate the sentence into english and only return the translation:\n",
      "\n",
      "    اچھا تجربہ.<end_of_turn>\n",
      "    <start_of_turn>model\n",
      "    Good experience. \n",
      "<end_of_turn>\n"
     ]
    },
    {
     "name": "stderr",
     "output_type": "stream",
     "text": [
      "\r",
      "255it [03:20,  1.96it/s]"
     ]
    },
    {
     "name": "stdout",
     "output_type": "stream",
     "text": [
      "<bos>\n",
      "    <start_of_turn>user\n",
      "    Translate the sentence into english and only return the translation:\n",
      "\n",
      "    تاکہ جو نبی کی معرفت کہا گیا تھا وہ پُورا ہو کہ میں تِمثیلوں میں اپنا مُنہ کھولُونگا ۔ میں اُن باتوں کو ظاہر کرونگا جو بِنایِ عالم سے پوشِیدہ رہی ہیں ۔<end_of_turn>\n",
      "    <start_of_turn>model\n",
      "    I will reveal the truth that was spoken about the Prophet, and I will open my mouth in the world's stories. I will reveal the things that are hidden from the world. \n",
      "<end_of_turn>\n"
     ]
    },
    {
     "name": "stderr",
     "output_type": "stream",
     "text": [
      "\r",
      "256it [03:22,  1.20it/s]"
     ]
    },
    {
     "name": "stdout",
     "output_type": "stream",
     "text": [
      "<bos>\n",
      "    <start_of_turn>user\n",
      "    Translate the sentence into english and only return the translation:\n",
      "\n",
      "    ذائقہ اچھا ہے<end_of_turn>\n",
      "    <start_of_turn>model\n",
      "    The taste is good. \n",
      "<end_of_turn>\n"
     ]
    },
    {
     "name": "stderr",
     "output_type": "stream",
     "text": [
      "\r",
      "257it [03:22,  1.46it/s]"
     ]
    },
    {
     "name": "stdout",
     "output_type": "stream",
     "text": [
      "<bos>\n",
      "    <start_of_turn>user\n",
      "    Translate the sentence into english and only return the translation:\n",
      "\n",
      "    دیسی اور انگریزی کھانے کے لیے بہترین<end_of_turn>\n",
      "    <start_of_turn>model\n",
      "    The best for eating English and Desi food. \n",
      "<end_of_turn>\n"
     ]
    },
    {
     "name": "stderr",
     "output_type": "stream",
     "text": [
      "\r",
      "258it [03:23,  1.59it/s]"
     ]
    },
    {
     "name": "stdout",
     "output_type": "stream",
     "text": [
      "<bos>\n",
      "    <start_of_turn>user\n",
      "    Translate the sentence into english and only return the translation:\n",
      "\n",
      "    سب کے لیے تجویز کردہ، اچھا ماحول اچھا ذائقہ 9/10<end_of_turn>\n",
      "    <start_of_turn>model\n",
      "    Recommended, good atmosphere, good taste 9/10 \n",
      "<end_of_turn>\n"
     ]
    },
    {
     "name": "stderr",
     "output_type": "stream",
     "text": [
      "\r",
      "259it [03:23,  1.60it/s]"
     ]
    },
    {
     "name": "stdout",
     "output_type": "stream",
     "text": [
      "<bos>\n",
      "    <start_of_turn>user\n",
      "    Translate the sentence into english and only return the translation:\n",
      "\n",
      "    اور اُن کو آگ کی بھٹیّ میں ڈال دیں گے ۔ وہاں رونا اور دانت پِسنا ہوگا ۔<end_of_turn>\n",
      "    <start_of_turn>model\n",
      "    They will put him in the fire. He will cry and his teeth will be broken. \n",
      "<end_of_turn>\n"
     ]
    },
    {
     "name": "stderr",
     "output_type": "stream",
     "text": [
      "\r",
      "260it [03:24,  1.45it/s]"
     ]
    },
    {
     "name": "stdout",
     "output_type": "stream",
     "text": [
      "<bos>\n",
      "    <start_of_turn>user\n",
      "    Translate the sentence into english and only return the translation:\n",
      "\n",
      "    کھانا قابل رحم تھا اور تھالی بالکل بے ذائقہ تھی۔<end_of_turn>\n",
      "    <start_of_turn>model\n",
      "    The food was kind and the rice was bland. \n",
      "<end_of_turn>\n"
     ]
    },
    {
     "name": "stderr",
     "output_type": "stream",
     "text": [
      "\r",
      "261it [03:25,  1.55it/s]"
     ]
    },
    {
     "name": "stdout",
     "output_type": "stream",
     "text": [
      "<bos>\n",
      "    <start_of_turn>user\n",
      "    Translate the sentence into english and only return the translation:\n",
      "\n",
      "    اگر آپ دیسی اور افغانی کھانے کے شوقین ہیں تو یہ جگہ آپ کے لیے ہے۔<end_of_turn>\n",
      "    <start_of_turn>model\n",
      "    If you're craving Pakistani or Afghan food, this is the place for you. \n",
      "<end_of_turn>\n"
     ]
    },
    {
     "name": "stderr",
     "output_type": "stream",
     "text": [
      "\r",
      "262it [03:25,  1.44it/s]"
     ]
    },
    {
     "name": "stdout",
     "output_type": "stream",
     "text": [
      "<bos>\n",
      "    <start_of_turn>user\n",
      "    Translate the sentence into english and only return the translation:\n",
      "\n",
      "    ویک اینڈ ڈنر اور معیاری کیا ہے؟<end_of_turn>\n",
      "    <start_of_turn>model\n",
      "    What kind of dinner is this? \n",
      "<end_of_turn>\n"
     ]
    },
    {
     "name": "stderr",
     "output_type": "stream",
     "text": [
      "\r",
      "263it [03:26,  1.64it/s]"
     ]
    },
    {
     "name": "stdout",
     "output_type": "stream",
     "text": [
      "<bos>\n",
      "    <start_of_turn>user\n",
      "    Translate the sentence into english and only return the translation:\n",
      "\n",
      "    تم کہاں تھے؟ \"میں ریلوے سٹیشن گیا تھا اپنے دوست کو چھوڑنے۔\"<end_of_turn>\n",
      "    <start_of_turn>model\n",
      "    Where were you? \"I went to the railway station to leave my friend.\" \n",
      "<end_of_turn>\n"
     ]
    },
    {
     "name": "stderr",
     "output_type": "stream",
     "text": [
      "\r",
      "264it [03:27,  1.52it/s]"
     ]
    },
    {
     "name": "stdout",
     "output_type": "stream",
     "text": [
      "<bos>\n",
      "    <start_of_turn>user\n",
      "    Translate the sentence into english and only return the translation:\n",
      "\n",
      "    برا تجربہ، صفر ذائقہ، ناقص سروس ️️️<end_of_turn>\n",
      "    <start_of_turn>model\n",
      "    Zero taste, incomplete service ️️️ \n",
      "<end_of_turn>\n"
     ]
    },
    {
     "name": "stderr",
     "output_type": "stream",
     "text": [
      "\r",
      "265it [03:27,  1.67it/s]"
     ]
    },
    {
     "name": "stdout",
     "output_type": "stream",
     "text": [
      "<bos>\n",
      "    <start_of_turn>user\n",
      "    Translate the sentence into english and only return the translation:\n",
      "\n",
      "    6|26|وہ اس سے (اوروں کو بھی) روکتے ہیں اور خود بھی پرے رہتے ہیں مگر (ان باتوں سے) اپنے آپ ہی کو ہلاک کرتے ہیں اور (اس سے) بےخبر ہیں <end_of_turn>\n",
      "    <start_of_turn>model\n",
      "    They keep themselves busy with them (and others) but they also get hurt by them, but they are unaware of it. \n",
      "<end_of_turn>\n"
     ]
    },
    {
     "name": "stderr",
     "output_type": "stream",
     "text": [
      "\r",
      "266it [03:28,  1.33it/s]"
     ]
    },
    {
     "name": "stdout",
     "output_type": "stream",
     "text": [
      "<bos>\n",
      "    <start_of_turn>user\n",
      "    Translate the sentence into english and only return the translation:\n",
      "\n",
      "    ان کے نام اور سابقہ ​​تجربہ کے مطابق نہیں۔<end_of_turn>\n",
      "    <start_of_turn>model\n",
      "    Not according to his name and previous experience. \n",
      "<end_of_turn>\n"
     ]
    },
    {
     "name": "stderr",
     "output_type": "stream",
     "text": [
      "\r",
      "267it [03:29,  1.49it/s]"
     ]
    },
    {
     "name": "stdout",
     "output_type": "stream",
     "text": [
      "<bos>\n",
      "    <start_of_turn>user\n",
      "    Translate the sentence into english and only return the translation:\n",
      "\n",
      "    nan<end_of_turn>\n",
      "    <start_of_turn>model\n",
      "    not a word \n",
      "<end_of_turn>\n"
     ]
    },
    {
     "name": "stderr",
     "output_type": "stream",
     "text": [
      "\r",
      "268it [03:29,  1.82it/s]"
     ]
    },
    {
     "name": "stdout",
     "output_type": "stream",
     "text": [
      "<bos>\n",
      "    <start_of_turn>user\n",
      "    Translate the sentence into english and only return the translation:\n",
      "\n",
      "    (گوگل کے ذریعہ ترجمہ کیا گیا) زبردست جگہ<end_of_turn>\n",
      "    <start_of_turn>model\n",
      "    Excellent place \n",
      "<end_of_turn>\n"
     ]
    },
    {
     "name": "stderr",
     "output_type": "stream",
     "text": [
      "\r",
      "269it [03:29,  2.21it/s]"
     ]
    },
    {
     "name": "stdout",
     "output_type": "stream",
     "text": [
      "<bos>\n",
      "    <start_of_turn>user\n",
      "    Translate the sentence into english and only return the translation:\n",
      "\n",
      "    کھانا اچھا تھا اور خاص طور پر سوپ<end_of_turn>\n",
      "    <start_of_turn>model\n",
      "    The food was good, especially the soup. \n",
      "<end_of_turn>\n"
     ]
    },
    {
     "name": "stderr",
     "output_type": "stream",
     "text": [
      "\r",
      "270it [03:30,  2.15it/s]"
     ]
    },
    {
     "name": "stdout",
     "output_type": "stream",
     "text": [
      "<bos>\n",
      "    <start_of_turn>user\n",
      "    Translate the sentence into english and only return the translation:\n",
      "\n",
      "    بہت اچھا ماحول، گوز سروس، کھانے کا معیار ٹھیک ہے، فیملی اور دوستوں کے ساتھ جانے کے لیے اچھی جگہ، چھت کی چوٹی واقعی اچھی ہے<end_of_turn>\n",
      "    <start_of_turn>model\n",
      "    Great atmosphere, good service, food quality is good, a good place to go with family and friends, the roof top is really good. \n",
      "<end_of_turn>\n"
     ]
    },
    {
     "name": "stderr",
     "output_type": "stream",
     "text": [
      "\r",
      "271it [03:31,  1.45it/s]"
     ]
    },
    {
     "name": "stdout",
     "output_type": "stream",
     "text": [
      "<bos>\n",
      "    <start_of_turn>user\n",
      "    Translate the sentence into english and only return the translation:\n",
      "\n",
      "    کانٹی نینٹل اور مقامی کھانے کی اچھی جگہ کے لیے ایک بہت پرانا بڑا ریستوراں<end_of_turn>\n",
      "    <start_of_turn>model\n",
      "    A very old, large restaurant, a great place for continental and local cuisine. \n",
      "<end_of_turn>\n"
     ]
    },
    {
     "name": "stderr",
     "output_type": "stream",
     "text": [
      "\r",
      "272it [03:32,  1.40it/s]"
     ]
    },
    {
     "name": "stdout",
     "output_type": "stream",
     "text": [
      "<bos>\n",
      "    <start_of_turn>user\n",
      "    Translate the sentence into english and only return the translation:\n",
      "\n",
      "    بہترین تھالی کھانا<end_of_turn>\n",
      "    <start_of_turn>model\n",
      "    The best food. \n",
      "<end_of_turn>\n"
     ]
    },
    {
     "name": "stderr",
     "output_type": "stream",
     "text": [
      "\r",
      "273it [03:32,  1.70it/s]"
     ]
    },
    {
     "name": "stdout",
     "output_type": "stream",
     "text": [
      "<bos>\n",
      "    <start_of_turn>user\n",
      "    Translate the sentence into english and only return the translation:\n",
      "\n",
      "    تفریح ​​کرنے والوں کو الوداعی، گھر جاتے ہوئے ان کے پاس واپس آنے کا وعدہ کرتے ہوئے،<end_of_turn>\n",
      "    <start_of_turn>model\n",
      "    To those who come for fun, a farewell, promising to return home. \n",
      "<end_of_turn>\n"
     ]
    },
    {
     "name": "stderr",
     "output_type": "stream",
     "text": [
      "\r",
      "274it [03:33,  1.59it/s]"
     ]
    },
    {
     "name": "stdout",
     "output_type": "stream",
     "text": [
      "<bos>\n",
      "    <start_of_turn>user\n",
      "    Translate the sentence into english and only return the translation:\n",
      "\n",
      "    بہترین کھانا<end_of_turn>\n",
      "    <start_of_turn>model\n",
      "    The best food \n",
      "<end_of_turn>\n"
     ]
    },
    {
     "name": "stderr",
     "output_type": "stream",
     "text": [
      "\r",
      "275it [03:33,  1.93it/s]"
     ]
    },
    {
     "name": "stdout",
     "output_type": "stream",
     "text": [
      "<bos>\n",
      "    <start_of_turn>user\n",
      "    Translate the sentence into english and only return the translation:\n",
      "\n",
      "    آپ کہاں سے ہیں؟<end_of_turn>\n",
      "    <start_of_turn>model\n",
      "    Where are you from? \n",
      "<end_of_turn>\n"
     ]
    },
    {
     "name": "stderr",
     "output_type": "stream",
     "text": [
      "\r",
      "276it [03:33,  2.15it/s]"
     ]
    },
    {
     "name": "stdout",
     "output_type": "stream",
     "text": [
      "<bos>\n",
      "    <start_of_turn>user\n",
      "    Translate the sentence into english and only return the translation:\n",
      "\n",
      "    میں نے تجھ کو اپنے کام کا بنا لیا ہے<end_of_turn>\n",
      "    <start_of_turn>model\n",
      "    I have made you my work. \n",
      "<end_of_turn>\n"
     ]
    },
    {
     "name": "stderr",
     "output_type": "stream",
     "text": [
      "\r",
      "277it [03:34,  2.22it/s]"
     ]
    },
    {
     "name": "stdout",
     "output_type": "stream",
     "text": [
      "<bos>\n",
      "    <start_of_turn>user\n",
      "    Translate the sentence into english and only return the translation:\n",
      "\n",
      "    مجھے بی بی کیو نہیں پسند کیا ہے؟<end_of_turn>\n",
      "    <start_of_turn>model\n",
      "    Do I not like the sound of a baby's cry? \n",
      "<end_of_turn>\n"
     ]
    },
    {
     "name": "stderr",
     "output_type": "stream",
     "text": [
      "\r",
      "278it [03:34,  1.97it/s]"
     ]
    },
    {
     "name": "stdout",
     "output_type": "stream",
     "text": [
      "<bos>\n",
      "    <start_of_turn>user\n",
      "    Translate the sentence into english and only return the translation:\n",
      "\n",
      "    بہترین چکن کریم<end_of_turn>\n",
      "    <start_of_turn>model\n",
      "    The best chicken is the best. \n",
      "<end_of_turn>\n"
     ]
    },
    {
     "name": "stderr",
     "output_type": "stream",
     "text": [
      "\r",
      "279it [03:35,  2.09it/s]"
     ]
    },
    {
     "name": "stdout",
     "output_type": "stream",
     "text": [
      "<bos>\n",
      "    <start_of_turn>user\n",
      "    Translate the sentence into english and only return the translation:\n",
      "\n",
      "    اوسط سے کم<end_of_turn>\n",
      "    <start_of_turn>model\n",
      "    Lowest \n",
      "<end_of_turn>\n"
     ]
    },
    {
     "name": "stderr",
     "output_type": "stream",
     "text": [
      "\r",
      "280it [03:35,  2.56it/s]"
     ]
    },
    {
     "name": "stdout",
     "output_type": "stream",
     "text": [
      "<bos>\n",
      "    <start_of_turn>user\n",
      "    Translate the sentence into english and only return the translation:\n",
      "\n",
      "    ولیفورٹ نے جواب دیا، \"میں یہ جانتا ہوں، مہاراج، اور میں اب اس کا معائنہ کرنے جا رہا ہوں۔<end_of_turn>\n",
      "    <start_of_turn>model\n",
      "    \"I know that, Maharaj, and I am going to examine it now.\" \n",
      "<end_of_turn>\n"
     ]
    },
    {
     "name": "stderr",
     "output_type": "stream",
     "text": [
      "\r",
      "281it [03:36,  2.00it/s]"
     ]
    },
    {
     "name": "stdout",
     "output_type": "stream",
     "text": [
      "<bos>\n",
      "    <start_of_turn>user\n",
      "    Translate the sentence into english and only return the translation:\n",
      "\n",
      "    ان کے پاس مختلف قسم کے bbq ڈشز ہیں، جو وہ گاڑیوں کے ساتھ ساتھ ریستوراں میں بھی پیش کرتے ہیں۔<end_of_turn>\n",
      "    <start_of_turn>model\n",
      "    He has various types of BBQ dishes, which he serves in cars and restaurants as well. \n",
      "<end_of_turn>\n"
     ]
    },
    {
     "name": "stderr",
     "output_type": "stream",
     "text": [
      "\r",
      "282it [03:37,  1.67it/s]"
     ]
    },
    {
     "name": "stdout",
     "output_type": "stream",
     "text": [
      "<bos>\n",
      "    <start_of_turn>user\n",
      "    Translate the sentence into english and only return the translation:\n",
      "\n",
      "    مایوس ہو رہے ہیں۔<end_of_turn>\n",
      "    <start_of_turn>model\n",
      "    Feeling disappointed. \n",
      "<end_of_turn>\n"
     ]
    },
    {
     "name": "stderr",
     "output_type": "stream",
     "text": [
      "\r",
      "283it [03:37,  2.01it/s]"
     ]
    },
    {
     "name": "stdout",
     "output_type": "stream",
     "text": [
      "<bos>\n",
      "    <start_of_turn>user\n",
      "    Translate the sentence into english and only return the translation:\n",
      "\n",
      "    درحقیقت، اس بات کا تعین کرنے کے لیے کہ نوجوان کیسے سوچتے اور محسوس کرتے ہیں، جاگو!<end_of_turn>\n",
      "    <start_of_turn>model\n",
      "    In reality, tell me how a young person thinks and feels to determine what they are like. \n",
      "<end_of_turn>\n"
     ]
    },
    {
     "name": "stderr",
     "output_type": "stream",
     "text": [
      "\r",
      "284it [03:38,  1.64it/s]"
     ]
    },
    {
     "name": "stdout",
     "output_type": "stream",
     "text": [
      "<bos>\n",
      "    <start_of_turn>user\n",
      "    Translate the sentence into english and only return the translation:\n",
      "\n",
      "    اس نے بخوشی قبول کر لیا تھا لیکن اب پتہ چلا کہ اس کے فرائض اس کی غیر حاضری کی اجازت نہیں دیں گے۔<end_of_turn>\n",
      "    <start_of_turn>model\n",
      "    He accepted it happily, but now he realized that his duties wouldn't allow him to be absent. \n",
      "<end_of_turn>\n"
     ]
    },
    {
     "name": "stderr",
     "output_type": "stream",
     "text": [
      "\r",
      "285it [03:39,  1.40it/s]"
     ]
    },
    {
     "name": "stdout",
     "output_type": "stream",
     "text": [
      "<bos>\n",
      "    <start_of_turn>user\n",
      "    Translate the sentence into english and only return the translation:\n",
      "\n",
      "    یہ تو بڑے داموں کو بِک کر غرِیبوں کو دِیا جا سکتا تھا ۔<end_of_turn>\n",
      "    <start_of_turn>model\n",
      "    It could have been given to the small animals, to be used as a way to make them happy. \n",
      "<end_of_turn>\n"
     ]
    },
    {
     "name": "stderr",
     "output_type": "stream",
     "text": [
      "\r",
      "286it [03:40,  1.28it/s]"
     ]
    },
    {
     "name": "stdout",
     "output_type": "stream",
     "text": [
      "<bos>\n",
      "    <start_of_turn>user\n",
      "    Translate the sentence into english and only return the translation:\n",
      "\n",
      "    7|44|اور اہل بہشت دوزخیوں سے پکار کر کہیں گے کہ جو وعدہ ہمارے پروردگار نے ہم سے کیا تھا ہم نے تو اسے سچا پالیا۔ بھلا جو وعدہ تمہارے پروردگار نے تم سے کیا تھا تم نے بھی اسے سچا پایا؟ وہ کہیں گے ہاں تو (اس وقت) ان میں ایک پکارنے والا پکارے گا کہ بےانصافوں پر خدا کی لعنت <end_of_turn>\n",
      "    <start_of_turn>model\n",
      "    They will cry out to the people of Paradise, saying that the promise our Lord made to us, we have fulfilled honestly. But, did you also fulfill the promise your Lord made to you? If they say yes, then one of them will cry out, \"May God's curse be upon the unjust.\" \n",
      "<end_of_turn>\n"
     ]
    },
    {
     "name": "stderr",
     "output_type": "stream",
     "text": [
      "\r",
      "287it [03:42,  1.33s/it]"
     ]
    },
    {
     "name": "stdout",
     "output_type": "stream",
     "text": [
      "<bos>\n",
      "    <start_of_turn>user\n",
      "    Translate the sentence into english and only return the translation:\n",
      "\n",
      "    میں اس بارے میں کچھ نہیں جانتا۔<end_of_turn>\n",
      "    <start_of_turn>model\n",
      "    I don't know anything about it. \n",
      "<end_of_turn>\n"
     ]
    },
    {
     "name": "stderr",
     "output_type": "stream",
     "text": [
      "\r",
      "288it [03:43,  1.07s/it]"
     ]
    },
    {
     "name": "stdout",
     "output_type": "stream",
     "text": [
      "<bos>\n",
      "    <start_of_turn>user\n",
      "    Translate the sentence into english and only return the translation:\n",
      "\n",
      "    خوبصورت آرام دہ اور شاندار ماحول اسے پسند کرتا ہے۔<end_of_turn>\n",
      "    <start_of_turn>model\n",
      "    He likes it because of his good looks, peaceful atmosphere, and charming surroundings. \n",
      "<end_of_turn>\n"
     ]
    },
    {
     "name": "stderr",
     "output_type": "stream",
     "text": [
      "\r",
      "289it [03:43,  1.02it/s]"
     ]
    },
    {
     "name": "stdout",
     "output_type": "stream",
     "text": [
      "<bos>\n",
      "    <start_of_turn>user\n",
      "    Translate the sentence into english and only return the translation:\n",
      "\n",
      "    ہارک! وہ رویا.<end_of_turn>\n",
      "    <start_of_turn>model\n",
      "    \"Hey! That's a dream!\" \n",
      "<end_of_turn>\n"
     ]
    },
    {
     "name": "stderr",
     "output_type": "stream",
     "text": [
      "\r",
      "290it [03:44,  1.21it/s]"
     ]
    },
    {
     "name": "stdout",
     "output_type": "stream",
     "text": [
      "<bos>\n",
      "    <start_of_turn>user\n",
      "    Translate the sentence into english and only return the translation:\n",
      "\n",
      "    اچھا کھانا<end_of_turn>\n",
      "    <start_of_turn>model\n",
      "    Good food \n",
      "<end_of_turn>\n"
     ]
    },
    {
     "name": "stderr",
     "output_type": "stream",
     "text": [
      "\r",
      "291it [03:44,  1.55it/s]"
     ]
    },
    {
     "name": "stdout",
     "output_type": "stream",
     "text": [
      "<bos>\n",
      "    <start_of_turn>user\n",
      "    Translate the sentence into english and only return the translation:\n",
      "\n",
      "    کوالٹی فوڈ---زبردست انتظام<end_of_turn>\n",
      "    <start_of_turn>model\n",
      "    Quality food -  a powerful system \n",
      "<end_of_turn>\n"
     ]
    },
    {
     "name": "stderr",
     "output_type": "stream",
     "text": [
      "\r",
      "292it [03:45,  1.73it/s]"
     ]
    },
    {
     "name": "stdout",
     "output_type": "stream",
     "text": [
      "<bos>\n",
      "    <start_of_turn>user\n",
      "    Translate the sentence into english and only return the translation:\n",
      "\n",
      "    باربی کیو اور کباب ان کی خاصیت ہیں۔<end_of_turn>\n",
      "    <start_of_turn>model\n",
      "    Barbie's and kebabs are their specialty. \n",
      "<end_of_turn>\n"
     ]
    },
    {
     "name": "stderr",
     "output_type": "stream",
     "text": [
      "\r",
      "293it [03:45,  1.78it/s]"
     ]
    },
    {
     "name": "stdout",
     "output_type": "stream",
     "text": [
      "<bos>\n",
      "    <start_of_turn>user\n",
      "    Translate the sentence into english and only return the translation:\n",
      "\n",
      "    یہ ٹھیک تھا<end_of_turn>\n",
      "    <start_of_turn>model\n",
      "    That was good. \n",
      "<end_of_turn>\n"
     ]
    },
    {
     "name": "stderr",
     "output_type": "stream",
     "text": [
      "\r",
      "294it [03:45,  2.08it/s]"
     ]
    },
    {
     "name": "stdout",
     "output_type": "stream",
     "text": [
      "<bos>\n",
      "    <start_of_turn>user\n",
      "    Translate the sentence into english and only return the translation:\n",
      "\n",
      "    بہت اچھا کھانا۔ ڈیلیوری بہترین ہے۔<end_of_turn>\n",
      "    <start_of_turn>model\n",
      "    Excellent food. Delivery is excellent. \n",
      "<end_of_turn>\n"
     ]
    },
    {
     "name": "stderr",
     "output_type": "stream",
     "text": [
      "\r",
      "295it [03:46,  2.17it/s]"
     ]
    },
    {
     "name": "stdout",
     "output_type": "stream",
     "text": [
      "<bos>\n",
      "    <start_of_turn>user\n",
      "    Translate the sentence into english and only return the translation:\n",
      "\n",
      "     وقت کے ساتھ، آپ کی ترقی دوسروں پر ظاہر ہو گی، بشمول آپ کے والدین<end_of_turn>\n",
      "    <start_of_turn>model\n",
      "    As time goes by, your progress will become apparent to others, including your parents. \n",
      "<end_of_turn>\n"
     ]
    },
    {
     "name": "stderr",
     "output_type": "stream",
     "text": [
      "\r",
      "296it [03:47,  1.79it/s]"
     ]
    },
    {
     "name": "stdout",
     "output_type": "stream",
     "text": [
      "<bos>\n",
      "    <start_of_turn>user\n",
      "    Translate the sentence into english and only return the translation:\n",
      "\n",
      "    انتہائی سفارش کی جاتی ہے، خدمت کرنے والے لوگ متحرک نہیں ہیں۔ روایتی<end_of_turn>\n",
      "    <start_of_turn>model\n",
      "    The service is very demanding, the people serving are not mobile. Traditional \n",
      "<end_of_turn>\n"
     ]
    },
    {
     "name": "stderr",
     "output_type": "stream",
     "text": [
      "\r",
      "297it [03:47,  1.68it/s]"
     ]
    },
    {
     "name": "stdout",
     "output_type": "stream",
     "text": [
      "<bos>\n",
      "    <start_of_turn>user\n",
      "    Translate the sentence into english and only return the translation:\n",
      "\n",
      "    بہت اچھی نہاری<end_of_turn>\n",
      "    <start_of_turn>model\n",
      "    Very good news. \n",
      "<end_of_turn>\n"
     ]
    },
    {
     "name": "stderr",
     "output_type": "stream",
     "text": [
      "\r",
      "298it [03:48,  1.97it/s]"
     ]
    },
    {
     "name": "stdout",
     "output_type": "stream",
     "text": [
      "<bos>\n",
      "    <start_of_turn>user\n",
      "    Translate the sentence into english and only return the translation:\n",
      "\n",
      "    لاجواب کھانا<end_of_turn>\n",
      "    <start_of_turn>model\n",
      "    Eat food. \n",
      "<end_of_turn>\n"
     ]
    },
    {
     "name": "stderr",
     "output_type": "stream",
     "text": [
      "\r",
      "299it [03:48,  2.31it/s]"
     ]
    },
    {
     "name": "stdout",
     "output_type": "stream",
     "text": [
      "<bos>\n",
      "    <start_of_turn>user\n",
      "    Translate the sentence into english and only return the translation:\n",
      "\n",
      "    nan<end_of_turn>\n",
      "    <start_of_turn>model\n",
      "    not a word \n",
      "<end_of_turn>\n"
     ]
    },
    {
     "name": "stderr",
     "output_type": "stream",
     "text": [
      "\r",
      "300it [03:48,  2.63it/s]"
     ]
    },
    {
     "name": "stdout",
     "output_type": "stream",
     "text": [
      "<bos>\n",
      "    <start_of_turn>user\n",
      "    Translate the sentence into english and only return the translation:\n",
      "\n",
      "     پھر انہوں نے مجھے انتظار کرنے کو کہا کیونکہ وہ میرے لیے کچھ انتظامات کر رہے تھے۔<end_of_turn>\n",
      "    <start_of_turn>model\n",
      "    He told me to wait because he was making some arrangements for me. \n",
      "<end_of_turn>\n"
     ]
    },
    {
     "name": "stderr",
     "output_type": "stream",
     "text": [
      "\r",
      "301it [03:49,  2.13it/s]"
     ]
    },
    {
     "name": "stdout",
     "output_type": "stream",
     "text": [
      "<bos>\n",
      "    <start_of_turn>user\n",
      "    Translate the sentence into english and only return the translation:\n",
      "\n",
      "     \"کیا خبر؟\" آوازوں کا ایک عام پھٹ چیخا۔<end_of_turn>\n",
      "    <start_of_turn>model\n",
      "    What's up?  A general, cheerful shout. \n",
      "<end_of_turn>\n"
     ]
    },
    {
     "name": "stderr",
     "output_type": "stream",
     "text": [
      "\r",
      "302it [03:49,  1.97it/s]"
     ]
    },
    {
     "name": "stdout",
     "output_type": "stream",
     "text": [
      "<bos>\n",
      "    <start_of_turn>user\n",
      "    Translate the sentence into english and only return the translation:\n",
      "\n",
      "    چلو،دوبارہ کام پر چلتے ہیں۔<end_of_turn>\n",
      "    <start_of_turn>model\n",
      "    \"Hey, we're going to work again.\" \n",
      "<end_of_turn>\n"
     ]
    },
    {
     "name": "stderr",
     "output_type": "stream",
     "text": [
      "\r",
      "303it [03:50,  1.91it/s]"
     ]
    },
    {
     "name": "stdout",
     "output_type": "stream",
     "text": [
      "<bos>\n",
      "    <start_of_turn>user\n",
      "    Translate the sentence into english and only return the translation:\n",
      "\n",
      "    کھانے کے لیے ایک اچھی دیسی جگہ۔<end_of_turn>\n",
      "    <start_of_turn>model\n",
      "    A good place to eat. \n",
      "<end_of_turn>\n"
     ]
    },
    {
     "name": "stderr",
     "output_type": "stream",
     "text": [
      "\r",
      "304it [03:50,  2.09it/s]"
     ]
    },
    {
     "name": "stdout",
     "output_type": "stream",
     "text": [
      "<bos>\n",
      "    <start_of_turn>user\n",
      "    Translate the sentence into english and only return the translation:\n",
      "\n",
      "    اور قبریں کھُل گئِیں اور بہُت سے جِسم اُن مُقدّسوں کے جو سو گئے تھے جی اُٹھے ۔<end_of_turn>\n",
      "    <start_of_turn>model\n",
      "    The graves were opened and many bodies were found, those of the people who had gone to the sacred places, and they rose. \n",
      "<end_of_turn>\n"
     ]
    },
    {
     "name": "stderr",
     "output_type": "stream",
     "text": [
      "\r",
      "305it [03:51,  1.47it/s]"
     ]
    },
    {
     "name": "stdout",
     "output_type": "stream",
     "text": [
      "<bos>\n",
      "    <start_of_turn>user\n",
      "    Translate the sentence into english and only return the translation:\n",
      "\n",
      "     جان نے کتاب ہنری کو دی۔<end_of_turn>\n",
      "    <start_of_turn>model\n",
      "    John gave Henry a book. \n",
      "<end_of_turn>\n"
     ]
    },
    {
     "name": "stderr",
     "output_type": "stream",
     "text": [
      "\r",
      "306it [03:52,  1.70it/s]"
     ]
    },
    {
     "name": "stdout",
     "output_type": "stream",
     "text": [
      "<bos>\n",
      "    <start_of_turn>user\n",
      "    Translate the sentence into english and only return the translation:\n",
      "\n",
      "    بے ذائقہ کھانا اور معمولی ماحول<end_of_turn>\n",
      "    <start_of_turn>model\n",
      "    Unpalatable food and a small atmosphere. \n",
      "<end_of_turn>\n"
     ]
    },
    {
     "name": "stderr",
     "output_type": "stream",
     "text": [
      "\r",
      "307it [03:52,  1.79it/s]"
     ]
    },
    {
     "name": "stdout",
     "output_type": "stream",
     "text": [
      "<bos>\n",
      "    <start_of_turn>user\n",
      "    Translate the sentence into english and only return the translation:\n",
      "\n",
      "    ان کی بہت اچھی سروس ہے، ان کا ذائقہ بھی اچھا ہے۔ ان کے دستخطی برتن تانگری بوٹی، لبنانی بوٹی اور ترکی کباب وغیرہ ہیں۔<end_of_turn>\n",
      "    <start_of_turn>model\n",
      "    They have a very good service, and their taste is also good. They have a variety of dishes, including lentil, Lebanese, and Turkish kebabs. \n",
      "<end_of_turn>\n"
     ]
    },
    {
     "name": "stderr",
     "output_type": "stream",
     "text": [
      "\r",
      "308it [03:54,  1.27it/s]"
     ]
    },
    {
     "name": "stdout",
     "output_type": "stream",
     "text": [
      "<bos>\n",
      "    <start_of_turn>user\n",
      "    Translate the sentence into english and only return the translation:\n",
      "\n",
      "    جب وہ اپنے باپ کے پاس گئے تو کہا \"ابا جان، آئندہ ہم کو غلہ دینے سے انکار کر دیا گیا ہے، لہٰذا آپ ہمارے بھائی کو ہمارے ساتھ بھیج دیجیے تاکہ ہم غلہ لے کر آئیں اور اس کی حفاظت کے ہم ذمہ دار ہیں\"<end_of_turn>\n",
      "    <start_of_turn>model\n",
      "    \"When he went to his father's, he said, 'Father, we have been refused the right to receive the inheritance, so please send our brother with us so that we can take the inheritance and be responsible for its safety.'\" \n",
      "<end_of_turn>\n"
     ]
    },
    {
     "name": "stderr",
     "output_type": "stream",
     "text": [
      "\r",
      "309it [03:56,  1.14s/it]"
     ]
    },
    {
     "name": "stdout",
     "output_type": "stream",
     "text": [
      "<bos>\n",
      "    <start_of_turn>user\n",
      "    Translate the sentence into english and only return the translation:\n",
      "\n",
      "    خوش قسمتی سے، اس نے کہا، \"آپ سے زیادہ جاننے کی توقع نہیں کی جائے گی، کیونکہ بادشاہ اس طرح کے معاملات کے بارے میں بدنام اور لاپرواہ ہے۔ لیکن آپ کو کارڈنل کے لیے مکھن کی طرح سول ہونا چاہیے۔ اور مائیکل کا ان کی ترجیح کے بارے میں مستقل جھگڑا ہے۔\"<end_of_turn>\n",
      "    <start_of_turn>model\n",
      "    \"Fortunately, he said, \"You won't be able to learn more from me, because the king is notorious and corrupt. But you should be like a cardinall, and be a good man. And Michael is in constant conflict about their preference.\" \n",
      "<end_of_turn>\n"
     ]
    },
    {
     "name": "stderr",
     "output_type": "stream",
     "text": [
      "\r",
      "310it [03:58,  1.45s/it]"
     ]
    },
    {
     "name": "stdout",
     "output_type": "stream",
     "text": [
      "<bos>\n",
      "    <start_of_turn>user\n",
      "    Translate the sentence into english and only return the translation:\n",
      "\n",
      "    دوسرے وزٹ پر نظر ثانی شدہ جائزے کی سفارش نہیں کی گئی...کل کا دورہ ایک دردناک تجربہ تھا... فلور سپروائزر کا استقبال نہیں کیا گیا۔ ناقص کوالٹی کا کھانا اور نام نہاد انتظامیہ نے بہت جارحانہ سلوک کیا کیونکہ کھانا اچھی طرح سے نہیں پکا تھا اور ٹِکا پکا ہوا تھا... ٹھنڈے ماحول کے ساتھ کھلی چھت ... کھانا اچھا ہے .. شاہی چٹک کی طرح مسالیدار بار بی کیو تلاش کریں لیکن مسالہ دار نہیں تھا مجھے جس چیز کی توقع تھی.. تمام کھانے کی ہینڈلنگ اور سرونگ پر گرمجوشی سے استقبال کے ساتھ اچھے طریقے سے کام کرنے والا عملہ تھا۔ صرف ایک چیز جو شور آلودہ ٹریفک میں گراؤنڈ فلور پر انتظار کو پریشان کرتی ہے کم از کم ایک گھنٹہ پہلے یا اس سے زیادہ پہلے بیٹھنے کے لیے اپنی واک ریزرو کر لیں... لیکن اچھے انتظار کے لیے ٹھیک ہے۔ چھوٹے تالیوں اور خاندانوں کے لیے تمام اچھے تجربے<end_of_turn>\n",
      "    <start_of_turn>model\n",
      "    The second visit did not include a second review. The current visit was a painful experience. The floor was not properly cleaned. The food was of poor quality and the staff was rude. The food was not well cooked and was cold. The open air was cold. The food was good. Look for a royal snack like a royal snack, but it was not royal. I was expecting something else. The staff was good at handling food and serving it well. The only thing that was annoying was the noisy traffic on the ground floor. At least an hour before or more before you sit down. But it's good to wait. All\n"
     ]
    },
    {
     "name": "stderr",
     "output_type": "stream",
     "text": [
      "\r",
      "311it [04:03,  2.54s/it]"
     ]
    },
    {
     "name": "stdout",
     "output_type": "stream",
     "text": [
      "<bos>\n",
      "    <start_of_turn>user\n",
      "    Translate the sentence into english and only return the translation:\n",
      "\n",
      "    سمندری غذا کے لیے بہت اچھی جگہ<end_of_turn>\n",
      "    <start_of_turn>model\n",
      "    A good place for a meal. \n",
      "<end_of_turn>\n"
     ]
    },
    {
     "name": "stderr",
     "output_type": "stream",
     "text": [
      "\r",
      "312it [04:03,  1.90s/it]"
     ]
    },
    {
     "name": "stdout",
     "output_type": "stream",
     "text": [
      "<bos>\n",
      "    <start_of_turn>user\n",
      "    Translate the sentence into english and only return the translation:\n",
      "\n",
      "    انہوں نے بوڑھی عورت کو پایا، میں نے کہا۔<end_of_turn>\n",
      "    <start_of_turn>model\n",
      "    He found an old woman, I said. \n",
      "<end_of_turn>\n"
     ]
    },
    {
     "name": "stderr",
     "output_type": "stream",
     "text": [
      "\r",
      "313it [04:04,  1.48s/it]"
     ]
    },
    {
     "name": "stdout",
     "output_type": "stream",
     "text": [
      "<bos>\n",
      "    <start_of_turn>user\n",
      "    Translate the sentence into english and only return the translation:\n",
      "\n",
      "    بہت اچھے<end_of_turn>\n",
      "    <start_of_turn>model\n",
      "    Very good. \n",
      "<end_of_turn>\n"
     ]
    },
    {
     "name": "stderr",
     "output_type": "stream",
     "text": [
      "\r",
      "314it [04:04,  1.11s/it]"
     ]
    },
    {
     "name": "stdout",
     "output_type": "stream",
     "text": [
      "<bos>\n",
      "    <start_of_turn>user\n",
      "    Translate the sentence into english and only return the translation:\n",
      "\n",
      "    اچھا<end_of_turn>\n",
      "    <start_of_turn>model\n",
      "    Okay \n",
      "<end_of_turn>\n"
     ]
    },
    {
     "name": "stderr",
     "output_type": "stream",
     "text": [
      "\r",
      "315it [04:04,  1.20it/s]"
     ]
    },
    {
     "name": "stdout",
     "output_type": "stream",
     "text": [
      "<bos>\n",
      "    <start_of_turn>user\n",
      "    Translate the sentence into english and only return the translation:\n",
      "\n",
      "    لاجواب، مزیدار<end_of_turn>\n",
      "    <start_of_turn>model\n",
      "    Enough, more \n",
      "<end_of_turn>\n"
     ]
    },
    {
     "name": "stderr",
     "output_type": "stream",
     "text": [
      "\r",
      "316it [04:04,  1.51it/s]"
     ]
    },
    {
     "name": "stdout",
     "output_type": "stream",
     "text": [
      "<bos>\n",
      "    <start_of_turn>user\n",
      "    Translate the sentence into english and only return the translation:\n",
      "\n",
      "    بہت اچھا ذائقہ ہے لیکن بیٹھنے کی جگہ سڑک پر ہے۔<end_of_turn>\n",
      "    <start_of_turn>model\n",
      "    It tastes great, but there's no place to sit on the street. \n",
      "<end_of_turn>\n"
     ]
    },
    {
     "name": "stderr",
     "output_type": "stream",
     "text": [
      "\r",
      "317it [04:05,  1.45it/s]"
     ]
    },
    {
     "name": "stdout",
     "output_type": "stream",
     "text": [
      "<bos>\n",
      "    <start_of_turn>user\n",
      "    Translate the sentence into english and only return the translation:\n",
      "\n",
      "     \"جی ہاں، جیسا کہ آپ دیکھ رہے ہیں، پڑوسی کیڈروس؛ اور ہر طرح سے آپ کے لیے راضی ہونے کے لیے تیار ہوں،‘‘ ڈینٹیس نے جواب دیا، لیکن اپنی سرد مہری کو تہذیب کے اس لبادے میں چھپاتے ہوئے<end_of_turn>\n",
      "    <start_of_turn>model\n",
      "    \"Yes, as you can see, the neighbor's is a K-D, and I'm ready to please you in every way, \" Dent said, but his cold demeanor remained hidden in the folds of tradition. \n",
      "<end_of_turn>\n"
     ]
    },
    {
     "name": "stderr",
     "output_type": "stream",
     "text": [
      "\r",
      "318it [04:07,  1.06s/it]"
     ]
    },
    {
     "name": "stdout",
     "output_type": "stream",
     "text": [
      "<bos>\n",
      "    <start_of_turn>user\n",
      "    Translate the sentence into english and only return the translation:\n",
      "\n",
      "    آپ کیا لینا پسند کریں گے؟<end_of_turn>\n",
      "    <start_of_turn>model\n",
      "    What do you like? \n",
      "<end_of_turn>\n"
     ]
    },
    {
     "name": "stderr",
     "output_type": "stream",
     "text": [
      "\r",
      "319it [04:07,  1.19it/s]"
     ]
    },
    {
     "name": "stdout",
     "output_type": "stream",
     "text": [
      "<bos>\n",
      "    <start_of_turn>user\n",
      "    Translate the sentence into english and only return the translation:\n",
      "\n",
      "    کھانے کا ذائقہ مناسب قیمت کے ساتھ بہترین ہے، مسئلہ صرف ماحول کا ہے اگر آپ سمجھوتہ کر سکتے ہیں کہ یہ دیسی کھانے کے لیے بہترین جگہ ہے۔<end_of_turn>\n",
      "    <start_of_turn>model\n",
      "    The taste of food is best at a good price, the problem is just the atmosphere. If you understand that it is the best place for local food. \n",
      "<end_of_turn>\n"
     ]
    },
    {
     "name": "stderr",
     "output_type": "stream",
     "text": [
      "\r",
      "320it [04:09,  1.01it/s]"
     ]
    },
    {
     "name": "stdout",
     "output_type": "stream",
     "text": [
      "<bos>\n",
      "    <start_of_turn>user\n",
      "    Translate the sentence into english and only return the translation:\n",
      "\n",
      "    کھانے کی کوالٹی لوکیشن کے لحاظ سے اچھی ہے اور بیٹھنے کا انتظام بھی بہت خراب تھا۔<end_of_turn>\n",
      "    <start_of_turn>model\n",
      "    The food quality is good, but the seating arrangement was very poor. \n",
      "<end_of_turn>\n"
     ]
    },
    {
     "name": "stderr",
     "output_type": "stream",
     "text": [
      "\r",
      "321it [04:09,  1.11it/s]"
     ]
    },
    {
     "name": "stdout",
     "output_type": "stream",
     "text": [
      "<bos>\n",
      "    <start_of_turn>user\n",
      "    Translate the sentence into english and only return the translation:\n",
      "\n",
      "    یہ ایک فضول بحث ہے۔<end_of_turn>\n",
      "    <start_of_turn>model\n",
      "    This is a frivolous discussion. \n",
      "<end_of_turn>\n"
     ]
    },
    {
     "name": "stderr",
     "output_type": "stream",
     "text": [
      "\r",
      "322it [04:10,  1.35it/s]"
     ]
    },
    {
     "name": "stdout",
     "output_type": "stream",
     "text": [
      "<bos>\n",
      "    <start_of_turn>user\n",
      "    Translate the sentence into english and only return the translation:\n",
      "\n",
      "    پانی کتنا صاف ہے!<end_of_turn>\n",
      "    <start_of_turn>model\n",
      "    How is the water so clear! \n",
      "<end_of_turn>\n"
     ]
    },
    {
     "name": "stderr",
     "output_type": "stream",
     "text": [
      "\r",
      "323it [04:10,  1.55it/s]"
     ]
    },
    {
     "name": "stdout",
     "output_type": "stream",
     "text": [
      "<bos>\n",
      "    <start_of_turn>user\n",
      "    Translate the sentence into english and only return the translation:\n",
      "\n",
      "    جیکب اپنے اصولوں سے سمجھوتہ نہیں کرتا، لیکن نہ ہی وہ اپنے بھائی کے ساتھ صلح کرنے سے پہلے معافی مانگنے پر اصرار کرتا ہے۔<end_of_turn>\n",
      "    <start_of_turn>model\n",
      "    Jacob doesn't follow his principles, but he never demands forgiveness from his brother before making peace. \n",
      "<end_of_turn>\n"
     ]
    },
    {
     "name": "stderr",
     "output_type": "stream",
     "text": [
      "\r",
      "324it [04:11,  1.38it/s]"
     ]
    },
    {
     "name": "stdout",
     "output_type": "stream",
     "text": [
      "<bos>\n",
      "    <start_of_turn>user\n",
      "    Translate the sentence into english and only return the translation:\n",
      "\n",
      "    پاکستانی BBQ رکھنے کے لیے اچھی جگہ<end_of_turn>\n",
      "    <start_of_turn>model\n",
      "    Good place for Pakistani BBQ. \n",
      "<end_of_turn>\n"
     ]
    },
    {
     "name": "stderr",
     "output_type": "stream",
     "text": [
      "\r",
      "325it [04:12,  1.61it/s]"
     ]
    },
    {
     "name": "stdout",
     "output_type": "stream",
     "text": [
      "<bos>\n",
      "    <start_of_turn>user\n",
      "    Translate the sentence into english and only return the translation:\n",
      "\n",
      "    سٹیم لیمب لیگ روسٹ اور جلفریزی بہترین ہیں۔<end_of_turn>\n",
      "    <start_of_turn>model\n",
      "    Stream Limbs League Rossot and Jelfrizi are the best. \n",
      "<end_of_turn>\n"
     ]
    },
    {
     "name": "stderr",
     "output_type": "stream",
     "text": [
      "\r",
      "326it [04:12,  1.54it/s]"
     ]
    },
    {
     "name": "stdout",
     "output_type": "stream",
     "text": [
      "<bos>\n",
      "    <start_of_turn>user\n",
      "    Translate the sentence into english and only return the translation:\n",
      "\n",
      "    بہت زیادہ ٹریفک کی جگہ<end_of_turn>\n",
      "    <start_of_turn>model\n",
      "    Too much traffic \n",
      "<end_of_turn>\n"
     ]
    },
    {
     "name": "stderr",
     "output_type": "stream",
     "text": [
      "\r",
      "327it [04:13,  1.88it/s]"
     ]
    },
    {
     "name": "stdout",
     "output_type": "stream",
     "text": [
      "<bos>\n",
      "    <start_of_turn>user\n",
      "    Translate the sentence into english and only return the translation:\n",
      "\n",
      "    آپ کا کام کیسا چل رہا ہے ؟<end_of_turn>\n",
      "    <start_of_turn>model\n",
      "    How is your work going? \n",
      "<end_of_turn>\n"
     ]
    },
    {
     "name": "stderr",
     "output_type": "stream",
     "text": [
      "\r",
      "328it [04:13,  2.06it/s]"
     ]
    },
    {
     "name": "stdout",
     "output_type": "stream",
     "text": [
      "<bos>\n",
      "    <start_of_turn>user\n",
      "    Translate the sentence into english and only return the translation:\n",
      "\n",
      "    اوسط اتنا اچھا نہیں ہے۔<end_of_turn>\n",
      "    <start_of_turn>model\n",
      "    \"It's not the best.\" \n",
      "<end_of_turn>\n"
     ]
    },
    {
     "name": "stderr",
     "output_type": "stream",
     "text": [
      "\r",
      "329it [04:13,  2.10it/s]"
     ]
    },
    {
     "name": "stdout",
     "output_type": "stream",
     "text": [
      "<bos>\n",
      "    <start_of_turn>user\n",
      "    Translate the sentence into english and only return the translation:\n",
      "\n",
      "    ملائی بوٹی بہت اچھی ہے۔<end_of_turn>\n",
      "    <start_of_turn>model\n",
      "    The shoes are very good. \n",
      "<end_of_turn>\n"
     ]
    },
    {
     "name": "stderr",
     "output_type": "stream",
     "text": [
      "\r",
      "330it [04:14,  2.24it/s]"
     ]
    },
    {
     "name": "stdout",
     "output_type": "stream",
     "text": [
      "<bos>\n",
      "    <start_of_turn>user\n",
      "    Translate the sentence into english and only return the translation:\n",
      "\n",
      "    صرف کباب اچھے ہیں اور ہانڈی اس قابل نہیں ہے۔<end_of_turn>\n",
      "    <start_of_turn>model\n",
      "    The kebabs are good, but the hands are not capable. \n",
      "<end_of_turn>\n"
     ]
    },
    {
     "name": "stderr",
     "output_type": "stream",
     "text": [
      "\r",
      "331it [04:14,  1.99it/s]"
     ]
    },
    {
     "name": "stdout",
     "output_type": "stream",
     "text": [
      "<bos>\n",
      "    <start_of_turn>user\n",
      "    Translate the sentence into english and only return the translation:\n",
      "\n",
      "    مجھے اسے رکھنا چاہیے۔<end_of_turn>\n",
      "    <start_of_turn>model\n",
      "    I want to keep it. \n",
      "<end_of_turn>\n"
     ]
    },
    {
     "name": "stderr",
     "output_type": "stream",
     "text": [
      "\r",
      "332it [04:15,  2.16it/s]"
     ]
    },
    {
     "name": "stdout",
     "output_type": "stream",
     "text": [
      "<bos>\n",
      "    <start_of_turn>user\n",
      "    Translate the sentence into english and only return the translation:\n",
      "\n",
      "    مزیدار کھانا لیکن وہاں سروس کو بہتر بنانے کی ضرورت ہے۔<end_of_turn>\n",
      "    <start_of_turn>model\n",
      "    He's eating well, but there's a need to improve the service there. \n",
      "<end_of_turn>\n"
     ]
    },
    {
     "name": "stderr",
     "output_type": "stream",
     "text": [
      "\r",
      "333it [04:16,  1.75it/s]"
     ]
    },
    {
     "name": "stdout",
     "output_type": "stream",
     "text": [
      "<bos>\n",
      "    <start_of_turn>user\n",
      "    Translate the sentence into english and only return the translation:\n",
      "\n",
      "    اگر آپ SITE ایریا میں ہیں تو دوپہر کے کھانے کے لیے اچھی جگہ<end_of_turn>\n",
      "    <start_of_turn>model\n",
      "    If you're in Site, what's a good place for lunch? \n",
      "<end_of_turn>\n"
     ]
    },
    {
     "name": "stderr",
     "output_type": "stream",
     "text": [
      "\r",
      "334it [04:16,  1.60it/s]"
     ]
    },
    {
     "name": "stdout",
     "output_type": "stream",
     "text": [
      "<bos>\n",
      "    <start_of_turn>user\n",
      "    Translate the sentence into english and only return the translation:\n",
      "\n",
      "    اور وہ اُس وقت سے اُس کے پکڑوانے کو موقع ڈھُونڈنے لگا ۔<end_of_turn>\n",
      "    <start_of_turn>model\n",
      "    He started looking for a chance to catch him. \n",
      "<end_of_turn>\n"
     ]
    },
    {
     "name": "stderr",
     "output_type": "stream",
     "text": [
      "\r",
      "335it [04:17,  1.68it/s]"
     ]
    },
    {
     "name": "stdout",
     "output_type": "stream",
     "text": [
      "<bos>\n",
      "    <start_of_turn>user\n",
      "    Translate the sentence into english and only return the translation:\n",
      "\n",
      "    نہاری مزیدار ہے۔<end_of_turn>\n",
      "    <start_of_turn>model\n",
      "    He is not a good person. \n",
      "<end_of_turn>\n"
     ]
    },
    {
     "name": "stderr",
     "output_type": "stream",
     "text": [
      "\r",
      "336it [04:17,  1.84it/s]"
     ]
    },
    {
     "name": "stdout",
     "output_type": "stream",
     "text": [
      "<bos>\n",
      "    <start_of_turn>user\n",
      "    Translate the sentence into english and only return the translation:\n",
      "\n",
      "    کیا اب تک نہیں سمجھتے اور اُن پانچ ہزار آدمِیوں کی پانچ روٹیاں تُم کو یاد نہیں اور نہ یہ کہ کِتنی ٹوکریاں اُٹھائیں ؟<end_of_turn>\n",
      "    <start_of_turn>model\n",
      "    Do you not understand at all? And what about those five thousand people and their five routes?  Do you not remember how many people were there? \n",
      "<end_of_turn>\n"
     ]
    },
    {
     "name": "stderr",
     "output_type": "stream",
     "text": [
      "\r",
      "337it [04:19,  1.30it/s]"
     ]
    },
    {
     "name": "stdout",
     "output_type": "stream",
     "text": [
      "<bos>\n",
      "    <start_of_turn>user\n",
      "    Translate the sentence into english and only return the translation:\n",
      "\n",
      "    دہائیوں تک، ذائقہ اب بھی وہی ہے. تمام پکوانوں کا ذائقہ بہت اچھا ہے۔<end_of_turn>\n",
      "    <start_of_turn>model\n",
      "    For decades, the taste has remained the same. All the dishes are very good. \n",
      "<end_of_turn>\n"
     ]
    },
    {
     "name": "stderr",
     "output_type": "stream",
     "text": [
      "\r",
      "338it [04:19,  1.29it/s]"
     ]
    },
    {
     "name": "stdout",
     "output_type": "stream",
     "text": [
      "<bos>\n",
      "    <start_of_turn>user\n",
      "    Translate the sentence into english and only return the translation:\n",
      "\n",
      "    کیا آپ پولکے والے ہیں?<end_of_turn>\n",
      "    <start_of_turn>model\n",
      "    Are you wearing a mask? \n",
      "<end_of_turn>\n"
     ]
    },
    {
     "name": "stderr",
     "output_type": "stream",
     "text": [
      "\r",
      "339it [04:20,  1.52it/s]"
     ]
    },
    {
     "name": "stdout",
     "output_type": "stream",
     "text": [
      "<bos>\n",
      "    <start_of_turn>user\n",
      "    Translate the sentence into english and only return the translation:\n",
      "\n",
      "    Awsmmmm کھانا ..بہت اچھا تجربہ<end_of_turn>\n",
      "    <start_of_turn>model\n",
      "    Awsmmmm food...great experience \n",
      "<end_of_turn>\n"
     ]
    },
    {
     "name": "stderr",
     "output_type": "stream",
     "text": [
      "\r",
      "340it [04:20,  1.75it/s]"
     ]
    },
    {
     "name": "stdout",
     "output_type": "stream",
     "text": [
      "<bos>\n",
      "    <start_of_turn>user\n",
      "    Translate the sentence into english and only return the translation:\n",
      "\n",
      "    جھینگے اور لاہوری بسکٹ لاجواب تھے۔<end_of_turn>\n",
      "    <start_of_turn>model\n",
      "    They were wearing a jhing and a Lahori basket. \n",
      "<end_of_turn>\n"
     ]
    },
    {
     "name": "stderr",
     "output_type": "stream",
     "text": [
      "\r",
      "341it [04:21,  1.72it/s]"
     ]
    },
    {
     "name": "stdout",
     "output_type": "stream",
     "text": [
      "<bos>\n",
      "    <start_of_turn>user\n",
      "    Translate the sentence into english and only return the translation:\n",
      "\n",
      "    کیا یہ نشہ آور تھا - وہ آخری بوتل؟ میں نے سرگوشی میں پوچھا۔<end_of_turn>\n",
      "    <start_of_turn>model\n",
      "    \"Was that the last beer? I asked him in my head.\" \n",
      "<end_of_turn>\n"
     ]
    },
    {
     "name": "stderr",
     "output_type": "stream",
     "text": [
      "\r",
      "342it [04:21,  1.63it/s]"
     ]
    },
    {
     "name": "stdout",
     "output_type": "stream",
     "text": [
      "<bos>\n",
      "    <start_of_turn>user\n",
      "    Translate the sentence into english and only return the translation:\n",
      "\n",
      "    \"\"تو پھر میں رخصت ہوں؟\" \"جاؤ، میں تمہیں بتاتا ہوں۔<end_of_turn>\n",
      "    <start_of_turn>model\n",
      "    \"Are you going to leave again?\" \"Come, I'll tell you.\" \n",
      "<end_of_turn>\n"
     ]
    },
    {
     "name": "stderr",
     "output_type": "stream",
     "text": [
      "\r",
      "343it [04:22,  1.50it/s]"
     ]
    },
    {
     "name": "stdout",
     "output_type": "stream",
     "text": [
      "<bos>\n",
      "    <start_of_turn>user\n",
      "    Translate the sentence into english and only return the translation:\n",
      "\n",
      "    وہ اچھی سروس اور مزیدار کھانا مہیا کرتے ہیں۔ قیمتوں کا تعین مناسب ہے۔ ماحول اچھا ہے۔<end_of_turn>\n",
      "    <start_of_turn>model\n",
      "    They offer good service and delicious food at a reasonable price. The atmosphere is good. \n",
      "<end_of_turn>\n"
     ]
    },
    {
     "name": "stderr",
     "output_type": "stream",
     "text": [
      "\r",
      "344it [04:23,  1.41it/s]"
     ]
    },
    {
     "name": "stdout",
     "output_type": "stream",
     "text": [
      "<bos>\n",
      "    <start_of_turn>user\n",
      "    Translate the sentence into english and only return the translation:\n",
      "\n",
      "    ذائقہ بہت اچھا تھا! تجربہ اگرچہ گاڑیوں اور سڑک کی دھول کی وجہ سے خراب ہو گیا ہے۔<end_of_turn>\n",
      "    <start_of_turn>model\n",
      "    The food was really good! However, the experience was ruined because of the traffic and potholes on the roads. \n",
      "<end_of_turn>\n"
     ]
    },
    {
     "name": "stderr",
     "output_type": "stream",
     "text": [
      "\r",
      "345it [04:24,  1.26it/s]"
     ]
    },
    {
     "name": "stdout",
     "output_type": "stream",
     "text": [
      "<bos>\n",
      "    <start_of_turn>user\n",
      "    Translate the sentence into english and only return the translation:\n",
      "\n",
      "    اچھا خیال ہے۔<end_of_turn>\n",
      "    <start_of_turn>model\n",
      "    It's good. \n",
      "<end_of_turn>\n"
     ]
    },
    {
     "name": "stderr",
     "output_type": "stream",
     "text": [
      "\r",
      "346it [04:24,  1.53it/s]"
     ]
    },
    {
     "name": "stdout",
     "output_type": "stream",
     "text": [
      "<bos>\n",
      "    <start_of_turn>user\n",
      "    Translate the sentence into english and only return the translation:\n",
      "\n",
      "    میں اس سے محبت کرتا ہوں<end_of_turn>\n",
      "    <start_of_turn>model\n",
      "    I love it. \n",
      "<end_of_turn>\n"
     ]
    },
    {
     "name": "stderr",
     "output_type": "stream",
     "text": [
      "\r",
      "347it [04:25,  1.82it/s]"
     ]
    },
    {
     "name": "stdout",
     "output_type": "stream",
     "text": [
      "<bos>\n",
      "    <start_of_turn>user\n",
      "    Translate the sentence into english and only return the translation:\n",
      "\n",
      "    اگرچہ نہاری کے لیے مشہور ہے لیکن اس کی نہاری اوسط درجے کی ہے۔ سروس معقول۔ صفائی کا میلہ۔<end_of_turn>\n",
      "    <start_of_turn>model\n",
      "    Although it is known for its popularity, its water quality is average. Service is reasonable.  A cleaning service. \n",
      "<end_of_turn>\n"
     ]
    },
    {
     "name": "stderr",
     "output_type": "stream",
     "text": [
      "\r",
      "348it [04:26,  1.45it/s]"
     ]
    },
    {
     "name": "stdout",
     "output_type": "stream",
     "text": [
      "<bos>\n",
      "    <start_of_turn>user\n",
      "    Translate the sentence into english and only return the translation:\n",
      "\n",
      "    خود قوانین کی پابندی کریں۔<end_of_turn>\n",
      "    <start_of_turn>model\n",
      "    Follow the rules. \n",
      "<end_of_turn>\n"
     ]
    },
    {
     "name": "stderr",
     "output_type": "stream",
     "text": [
      "\r",
      "349it [04:26,  1.74it/s]"
     ]
    },
    {
     "name": "stdout",
     "output_type": "stream",
     "text": [
      "<bos>\n",
      "    <start_of_turn>user\n",
      "    Translate the sentence into english and only return the translation:\n",
      "\n",
      "    آپ انگریزی پڑھاتے ہیں۔<end_of_turn>\n",
      "    <start_of_turn>model\n",
      "    You read English. \n",
      "<end_of_turn>\n"
     ]
    },
    {
     "name": "stderr",
     "output_type": "stream",
     "text": [
      "\r",
      "350it [04:26,  2.04it/s]"
     ]
    },
    {
     "name": "stdout",
     "output_type": "stream",
     "text": [
      "<bos>\n",
      "    <start_of_turn>user\n",
      "    Translate the sentence into english and only return the translation:\n",
      "\n",
      "    اور یہوداہ اِسکریوتی جس نے اُسے پکڑوا بھی دِیا ۔ وہ گھر میں آیا ۔<end_of_turn>\n",
      "    <start_of_turn>model\n",
      "    He, the Jew, who had been captured by the one who took him, came home. \n",
      "<end_of_turn>\n"
     ]
    },
    {
     "name": "stderr",
     "output_type": "stream",
     "text": [
      "\r",
      "351it [04:27,  1.66it/s]"
     ]
    },
    {
     "name": "stdout",
     "output_type": "stream",
     "text": [
      "<bos>\n",
      "    <start_of_turn>user\n",
      "    Translate the sentence into english and only return the translation:\n",
      "\n",
      "    عمدہ کباب ریستوراں<end_of_turn>\n",
      "    <start_of_turn>model\n",
      "    Kebab restaurants \n",
      "<end_of_turn>\n"
     ]
    },
    {
     "name": "stderr",
     "output_type": "stream",
     "text": [
      "\r",
      "352it [04:27,  2.00it/s]"
     ]
    },
    {
     "name": "stdout",
     "output_type": "stream",
     "text": [
      "<bos>\n",
      "    <start_of_turn>user\n",
      "    Translate the sentence into english and only return the translation:\n",
      "\n",
      "    مناسب قیمت، بہترین سروس، مزیدار کھانا..<end_of_turn>\n",
      "    <start_of_turn>model\n",
      "    Good price, best service, delicious food. \n",
      "<end_of_turn>\n"
     ]
    },
    {
     "name": "stderr",
     "output_type": "stream",
     "text": [
      "\r",
      "353it [04:28,  2.02it/s]"
     ]
    },
    {
     "name": "stdout",
     "output_type": "stream",
     "text": [
      "<bos>\n",
      "    <start_of_turn>user\n",
      "    Translate the sentence into english and only return the translation:\n",
      "\n",
      "    (گوگل کے ذریعے ترجمہ کیا گیا) بھٹ اچی نہاری ہا<end_of_turn>\n",
      "    <start_of_turn>model\n",
      "    This sentence is in Urdu. It translates to: \n",
      "\n",
      "    \"Google translated this.\" \n",
      " \n",
      "    \n",
      "    \n",
      "<end_of_turn>\n"
     ]
    },
    {
     "name": "stderr",
     "output_type": "stream",
     "text": [
      "\r",
      "354it [04:29,  1.51it/s]"
     ]
    },
    {
     "name": "stdout",
     "output_type": "stream",
     "text": [
      "<bos>\n",
      "    <start_of_turn>user\n",
      "    Translate the sentence into english and only return the translation:\n",
      "\n",
      "    (گوگل کے ذریعے ترجمہ کیا گیا) فارگ ترین نہاری کی سفارش نہیں کی گئی۔<end_of_turn>\n",
      "    <start_of_turn>model\n",
      "    No request for a translation was made through Google. \n",
      "<end_of_turn>\n"
     ]
    },
    {
     "name": "stderr",
     "output_type": "stream",
     "text": [
      "\r",
      "355it [04:29,  1.61it/s]"
     ]
    },
    {
     "name": "stdout",
     "output_type": "stream",
     "text": [
      "<bos>\n",
      "    <start_of_turn>user\n",
      "    Translate the sentence into english and only return the translation:\n",
      "\n",
      "    شہر کے اس حصے میں بہترین کھانے کی جگہ<end_of_turn>\n",
      "    <start_of_turn>model\n",
      "    The best food spot in the city. \n",
      "<end_of_turn>\n"
     ]
    },
    {
     "name": "stderr",
     "output_type": "stream",
     "text": [
      "\r",
      "356it [04:30,  1.75it/s]"
     ]
    },
    {
     "name": "stdout",
     "output_type": "stream",
     "text": [
      "<bos>\n",
      "    <start_of_turn>user\n",
      "    Translate the sentence into english and only return the translation:\n",
      "\n",
      "    مکنی چکن تمام پکوان اچھے ہیں جن کی قیمت ہے۔<end_of_turn>\n",
      "    <start_of_turn>model\n",
      "    All the chicken pakoras are good, at the price of... \n",
      "<end_of_turn>\n"
     ]
    },
    {
     "name": "stderr",
     "output_type": "stream",
     "text": [
      "\r",
      "357it [04:30,  1.69it/s]"
     ]
    },
    {
     "name": "stdout",
     "output_type": "stream",
     "text": [
      "<bos>\n",
      "    <start_of_turn>user\n",
      "    Translate the sentence into english and only return the translation:\n",
      "\n",
      "    nan<end_of_turn>\n",
      "    <start_of_turn>model\n",
      "    not a word \n",
      "<end_of_turn>\n"
     ]
    },
    {
     "name": "stderr",
     "output_type": "stream",
     "text": [
      "\r",
      "358it [04:31,  2.03it/s]"
     ]
    },
    {
     "name": "stdout",
     "output_type": "stream",
     "text": [
      "<bos>\n",
      "    <start_of_turn>user\n",
      "    Translate the sentence into english and only return the translation:\n",
      "\n",
      "    لیکن سچ یہ ہے کہ میں جوش کے نشے میں تھا۔<end_of_turn>\n",
      "    <start_of_turn>model\n",
      "    But the truth is that I was in the midst of a frenzy. \n",
      "<end_of_turn>\n"
     ]
    },
    {
     "name": "stderr",
     "output_type": "stream",
     "text": [
      "\r",
      "359it [04:31,  1.83it/s]"
     ]
    },
    {
     "name": "stdout",
     "output_type": "stream",
     "text": [
      "<bos>\n",
      "    <start_of_turn>user\n",
      "    Translate the sentence into english and only return the translation:\n",
      "\n",
      "    یہ اس مقام پر پہنچ گیا کہ میرے والدین مجھ پر کسی چیز پر بھروسہ نہیں کر سکتے تھے!<end_of_turn>\n",
      "    <start_of_turn>model\n",
      "    He reached a point where my parents couldn't possibly have faith in me. \n",
      "<end_of_turn>\n"
     ]
    },
    {
     "name": "stderr",
     "output_type": "stream",
     "text": [
      "\r",
      "360it [04:32,  1.64it/s]"
     ]
    },
    {
     "name": "stdout",
     "output_type": "stream",
     "text": [
      "<bos>\n",
      "    <start_of_turn>user\n",
      "    Translate the sentence into english and only return the translation:\n",
      "\n",
      "    شہر میں بہترین نفیس برگر۔ ❤<end_of_turn>\n",
      "    <start_of_turn>model\n",
      "    The best gourmet burger in the city. ❤ \n",
      "<end_of_turn>\n"
     ]
    },
    {
     "name": "stderr",
     "output_type": "stream",
     "text": [
      "\r",
      "361it [04:33,  1.74it/s]"
     ]
    },
    {
     "name": "stdout",
     "output_type": "stream",
     "text": [
      "<bos>\n",
      "    <start_of_turn>user\n",
      "    Translate the sentence into english and only return the translation:\n",
      "\n",
      "    اچھا ماحول<end_of_turn>\n",
      "    <start_of_turn>model\n",
      "    Good atmosphere \n",
      "<end_of_turn>\n"
     ]
    },
    {
     "name": "stderr",
     "output_type": "stream",
     "text": [
      "\r",
      "362it [04:33,  2.13it/s]"
     ]
    },
    {
     "name": "stdout",
     "output_type": "stream",
     "text": [
      "<bos>\n",
      "    <start_of_turn>user\n",
      "    Translate the sentence into english and only return the translation:\n",
      "\n",
      "    ایک بہترین بہاری بوٹی فرائی۔<end_of_turn>\n",
      "    <start_of_turn>model\n",
      "    A very good, sweet, and delicious fruit. \n",
      "<end_of_turn>\n"
     ]
    },
    {
     "name": "stderr",
     "output_type": "stream",
     "text": [
      "\r",
      "363it [04:33,  2.05it/s]"
     ]
    },
    {
     "name": "stdout",
     "output_type": "stream",
     "text": [
      "<bos>\n",
      "    <start_of_turn>user\n",
      "    Translate the sentence into english and only return the translation:\n",
      "\n",
      "    سائٹ 1 میں شاندار جگہ، 9/10 سروس 9/10 ذائقہ<end_of_turn>\n",
      "    <start_of_turn>model\n",
      "    Excellent location in Suite 1, 9/10 service, 9/10 taste. \n",
      "<end_of_turn>\n"
     ]
    },
    {
     "name": "stderr",
     "output_type": "stream",
     "text": [
      "\r",
      "364it [04:34,  1.60it/s]"
     ]
    },
    {
     "name": "stdout",
     "output_type": "stream",
     "text": [
      "<bos>\n",
      "    <start_of_turn>user\n",
      "    Translate the sentence into english and only return the translation:\n",
      "\n",
      "    ہمیں اسے آج تک ختم کرنا تھا۔<end_of_turn>\n",
      "    <start_of_turn>model\n",
      "    We should have closed it today. \n",
      "<end_of_turn>\n"
     ]
    },
    {
     "name": "stderr",
     "output_type": "stream",
     "text": [
      "\r",
      "365it [04:35,  1.78it/s]"
     ]
    },
    {
     "name": "stdout",
     "output_type": "stream",
     "text": [
      "<bos>\n",
      "    <start_of_turn>user\n",
      "    Translate the sentence into english and only return the translation:\n",
      "\n",
      "    ہم ظہرانہ کھا رہے ہیں۔<end_of_turn>\n",
      "    <start_of_turn>model\n",
      "    We are eating. \n",
      "<end_of_turn>\n"
     ]
    },
    {
     "name": "stderr",
     "output_type": "stream",
     "text": [
      "\r",
      "366it [04:35,  2.07it/s]"
     ]
    },
    {
     "name": "stdout",
     "output_type": "stream",
     "text": [
      "<bos>\n",
      "    <start_of_turn>user\n",
      "    Translate the sentence into english and only return the translation:\n",
      "\n",
      "    میں تمباکو نوشی چھوڑنا چاہتا ہوں، اس نے کہا۔<end_of_turn>\n",
      "    <start_of_turn>model\n",
      "    I want to quit smoking, he said. \n",
      "<end_of_turn>\n"
     ]
    },
    {
     "name": "stderr",
     "output_type": "stream",
     "text": [
      "\r",
      "367it [04:36,  2.06it/s]"
     ]
    },
    {
     "name": "stdout",
     "output_type": "stream",
     "text": [
      "<bos>\n",
      "    <start_of_turn>user\n",
      "    Translate the sentence into english and only return the translation:\n",
      "\n",
      "    ذائقہ اتنا اچھا نہیں ہے۔<end_of_turn>\n",
      "    <start_of_turn>model\n",
      "    The taste is not good. \n",
      "<end_of_turn>\n"
     ]
    },
    {
     "name": "stderr",
     "output_type": "stream",
     "text": [
      "\r",
      "368it [04:36,  2.21it/s]"
     ]
    },
    {
     "name": "stdout",
     "output_type": "stream",
     "text": [
      "<bos>\n",
      "    <start_of_turn>user\n",
      "    Translate the sentence into english and only return the translation:\n",
      "\n",
      "    اتنا مہنگا<end_of_turn>\n",
      "    <start_of_turn>model\n",
      "    Expensive \n",
      "<end_of_turn>\n"
     ]
    },
    {
     "name": "stderr",
     "output_type": "stream",
     "text": [
      "\r",
      "369it [04:36,  2.68it/s]"
     ]
    },
    {
     "name": "stdout",
     "output_type": "stream",
     "text": [
      "<bos>\n",
      "    <start_of_turn>user\n",
      "    Translate the sentence into english and only return the translation:\n",
      "\n",
      "    مجھے کیا کہنا چاہیے؟<end_of_turn>\n",
      "    <start_of_turn>model\n",
      "    What should I say? \n",
      "<end_of_turn>\n"
     ]
    },
    {
     "name": "stderr",
     "output_type": "stream",
     "text": [
      "\r",
      "370it [04:36,  2.76it/s]"
     ]
    },
    {
     "name": "stdout",
     "output_type": "stream",
     "text": [
      "<bos>\n",
      "    <start_of_turn>user\n",
      "    Translate the sentence into english and only return the translation:\n",
      "\n",
      "    اچھے معیار سے متاثر نہیں تھا۔<end_of_turn>\n",
      "    <start_of_turn>model\n",
      "    Was not affected by the standards. \n",
      "<end_of_turn>\n"
     ]
    },
    {
     "name": "stderr",
     "output_type": "stream",
     "text": [
      "\r",
      "371it [04:37,  2.64it/s]"
     ]
    },
    {
     "name": "stdout",
     "output_type": "stream",
     "text": [
      "<bos>\n",
      "    <start_of_turn>user\n",
      "    Translate the sentence into english and only return the translation:\n",
      "\n",
      "    میں نے یہ ٹی وی انسٹالمنٹ میں خریدا ہے۔<end_of_turn>\n",
      "    <start_of_turn>model\n",
      "    I bought this TV installation. \n",
      "<end_of_turn>\n"
     ]
    },
    {
     "name": "stderr",
     "output_type": "stream",
     "text": [
      "\r",
      "372it [04:37,  2.65it/s]"
     ]
    },
    {
     "name": "stdout",
     "output_type": "stream",
     "text": [
      "<bos>\n",
      "    <start_of_turn>user\n",
      "    Translate the sentence into english and only return the translation:\n",
      "\n",
      "    کامل جگہ<end_of_turn>\n",
      "    <start_of_turn>model\n",
      "    Complete place \n",
      "<end_of_turn>\n"
     ]
    },
    {
     "name": "stderr",
     "output_type": "stream",
     "text": [
      "\r",
      "373it [04:38,  3.01it/s]"
     ]
    },
    {
     "name": "stdout",
     "output_type": "stream",
     "text": [
      "<bos>\n",
      "    <start_of_turn>user\n",
      "    Translate the sentence into english and only return the translation:\n",
      "\n",
      "    اے اُستاد توریت میں کونسا حُکم بڑا ہے ؟<end_of_turn>\n",
      "    <start_of_turn>model\n",
      "    What is the main command in the presence of the teacher? \n",
      "<end_of_turn>\n"
     ]
    },
    {
     "name": "stderr",
     "output_type": "stream",
     "text": [
      "\r",
      "374it [04:38,  2.41it/s]"
     ]
    },
    {
     "name": "stdout",
     "output_type": "stream",
     "text": [
      "<bos>\n",
      "    <start_of_turn>user\n",
      "    Translate the sentence into english and only return the translation:\n",
      "\n",
      "    آدمی کو اس کا جواب نہیں معلوم ہوگا۔<end_of_turn>\n",
      "    <start_of_turn>model\n",
      "    He will not know the answer. \n",
      "<end_of_turn>\n"
     ]
    },
    {
     "name": "stderr",
     "output_type": "stream",
     "text": [
      "\r",
      "375it [04:39,  2.41it/s]"
     ]
    },
    {
     "name": "stdout",
     "output_type": "stream",
     "text": [
      "<bos>\n",
      "    <start_of_turn>user\n",
      "    Translate the sentence into english and only return the translation:\n",
      "\n",
      "    4|14|اور جو خدا اور اس کے رسول کی نافرمانی کرے گا اور اس کی حدوں سے نکل جائے گا اس کو خدا دوزخ میں ڈالے گا جہاں وہ ہمیشہ رہے گا۔ اور اس کو ذلت کا عذاب ہوگا <end_of_turn>\n",
      "    <start_of_turn>model\n",
      "    He who disobeys God and His Messenger will be cast into Hell, where he will remain forever. He will suffer the humiliation of the afterlife. \n",
      "<end_of_turn>\n"
     ]
    },
    {
     "name": "stderr",
     "output_type": "stream",
     "text": [
      "\r",
      "376it [04:40,  1.47it/s]"
     ]
    },
    {
     "name": "stdout",
     "output_type": "stream",
     "text": [
      "<bos>\n",
      "    <start_of_turn>user\n",
      "    Translate the sentence into english and only return the translation:\n",
      "\n",
      "    بہت اچھا ذائقہ<end_of_turn>\n",
      "    <start_of_turn>model\n",
      "    Very tasty \n",
      "<end_of_turn>\n"
     ]
    },
    {
     "name": "stderr",
     "output_type": "stream",
     "text": [
      "\r",
      "377it [04:40,  1.84it/s]"
     ]
    },
    {
     "name": "stdout",
     "output_type": "stream",
     "text": [
      "<bos>\n",
      "    <start_of_turn>user\n",
      "    Translate the sentence into english and only return the translation:\n",
      "\n",
      "    4|142|منافق (ان چالوں سے اپنے نزدیک) خدا کو دھوکا دیتے ہیں (یہ اس کو کیا دھوکا دیں گے) وہ انہیں کو دھوکے میں ڈالنے والا ہے اور جب یہ نماز کو کھڑے ہوتے ہیں تو سست اور کاہل ہو کر (صرف) لوگوں کے دکھانے کو اور خدا کی یاد ہی نہیں کرتے مگر بہت کم <end_of_turn>\n",
      "    <start_of_turn>model\n",
      "    They deceive Allah (by cheating the people around them) and they are the ones who deceive them. When they stand up for prayer, they become weak and foolish (only) and they do not remember Allah, but they remember only the people. \n",
      "<end_of_turn>\n"
     ]
    },
    {
     "name": "stderr",
     "output_type": "stream",
     "text": [
      "\r",
      "378it [04:42,  1.00it/s]"
     ]
    },
    {
     "name": "stdout",
     "output_type": "stream",
     "text": [
      "<bos>\n",
      "    <start_of_turn>user\n",
      "    Translate the sentence into english and only return the translation:\n",
      "\n",
      "    کیسے واپس مل سکتا ہے؟<end_of_turn>\n",
      "    <start_of_turn>model\n",
      "    How can I get back? \n",
      "<end_of_turn>\n"
     ]
    },
    {
     "name": "stderr",
     "output_type": "stream",
     "text": [
      "\r",
      "379it [04:42,  1.23it/s]"
     ]
    },
    {
     "name": "stdout",
     "output_type": "stream",
     "text": [
      "<bos>\n",
      "    <start_of_turn>user\n",
      "    Translate the sentence into english and only return the translation:\n",
      "\n",
      "    بہت اچھا<end_of_turn>\n",
      "    <start_of_turn>model\n",
      "    Very good. \n",
      "<end_of_turn>\n"
     ]
    },
    {
     "name": "stderr",
     "output_type": "stream",
     "text": [
      "\r",
      "380it [04:43,  1.55it/s]"
     ]
    },
    {
     "name": "stdout",
     "output_type": "stream",
     "text": [
      "<bos>\n",
      "    <start_of_turn>user\n",
      "    Translate the sentence into english and only return the translation:\n",
      "\n",
      "    اس نے احتیاط سے دروازے کی کھلی چنک بند کی۔<end_of_turn>\n",
      "    <start_of_turn>model\n",
      "    He closed the open door with caution. \n",
      "<end_of_turn>\n"
     ]
    },
    {
     "name": "stderr",
     "output_type": "stream",
     "text": [
      "\r",
      "381it [04:43,  1.70it/s]"
     ]
    },
    {
     "name": "stdout",
     "output_type": "stream",
     "text": [
      "<bos>\n",
      "    <start_of_turn>user\n",
      "    Translate the sentence into english and only return the translation:\n",
      "\n",
      "    یہ بہت بھیڑ اور بلند ہو جاتا ہے.<end_of_turn>\n",
      "    <start_of_turn>model\n",
      "    It gets very crowded and tall. \n",
      "<end_of_turn>\n"
     ]
    },
    {
     "name": "stderr",
     "output_type": "stream",
     "text": [
      "\r",
      "382it [04:44,  1.86it/s]"
     ]
    },
    {
     "name": "stdout",
     "output_type": "stream",
     "text": [
      "<bos>\n",
      "    <start_of_turn>user\n",
      "    Translate the sentence into english and only return the translation:\n",
      "\n",
      "    لیکن یہ سب باتیں مُصیبتوں کا شُروع ہی ہونگی ۔<end_of_turn>\n",
      "    <start_of_turn>model\n",
      "    This will all be the beginning of trouble. \n",
      "<end_of_turn>\n"
     ]
    },
    {
     "name": "stderr",
     "output_type": "stream",
     "text": [
      "\r",
      "383it [04:44,  1.91it/s]"
     ]
    },
    {
     "name": "stdout",
     "output_type": "stream",
     "text": [
      "<bos>\n",
      "    <start_of_turn>user\n",
      "    Translate the sentence into english and only return the translation:\n",
      "\n",
      "    چھوٹے کے لیے گڈ 2 گیدر حاصل کریں۔<end_of_turn>\n",
      "    <start_of_turn>model\n",
      "    Get a 2-seater for the small ones. \n",
      "<end_of_turn>\n"
     ]
    },
    {
     "name": "stderr",
     "output_type": "stream",
     "text": [
      "\r",
      "384it [04:45,  1.86it/s]"
     ]
    },
    {
     "name": "stdout",
     "output_type": "stream",
     "text": [
      "<bos>\n",
      "    <start_of_turn>user\n",
      "    Translate the sentence into english and only return the translation:\n",
      "\n",
      "    کیا تم پہلی دفعہ جاپان آئے ہو؟<end_of_turn>\n",
      "    <start_of_turn>model\n",
      "    Have you ever been to Japan for the first time? \n",
      "<end_of_turn>\n"
     ]
    },
    {
     "name": "stderr",
     "output_type": "stream",
     "text": [
      "\r",
      "385it [04:45,  1.83it/s]"
     ]
    },
    {
     "name": "stdout",
     "output_type": "stream",
     "text": [
      "<bos>\n",
      "    <start_of_turn>user\n",
      "    Translate the sentence into english and only return the translation:\n",
      "\n",
      "    کھانا اچھا ہے۔<end_of_turn>\n",
      "    <start_of_turn>model\n",
      "    The food is good. \n",
      "<end_of_turn>\n"
     ]
    },
    {
     "name": "stderr",
     "output_type": "stream",
     "text": [
      "\r",
      "386it [04:46,  2.07it/s]"
     ]
    },
    {
     "name": "stdout",
     "output_type": "stream",
     "text": [
      "<bos>\n",
      "    <start_of_turn>user\n",
      "    Translate the sentence into english and only return the translation:\n",
      "\n",
      "    دوستوں کے ساتھ اندرونی کیا ہے<end_of_turn>\n",
      "    <start_of_turn>model\n",
      "    What is going on inside with friends? \n",
      "<end_of_turn>\n"
     ]
    },
    {
     "name": "stderr",
     "output_type": "stream",
     "text": [
      "\r",
      "387it [04:46,  2.11it/s]"
     ]
    },
    {
     "name": "stdout",
     "output_type": "stream",
     "text": [
      "<bos>\n",
      "    <start_of_turn>user\n",
      "    Translate the sentence into english and only return the translation:\n",
      "\n",
      "    شنواری سے بہتر ہے۔<end_of_turn>\n",
      "    <start_of_turn>model\n",
      "    Better than the \"shenwari\" (or \"shenwari\" in the context of a specific situation). \n",
      "<end_of_turn>\n"
     ]
    },
    {
     "name": "stderr",
     "output_type": "stream",
     "text": [
      "\r",
      "388it [04:47,  1.62it/s]"
     ]
    },
    {
     "name": "stdout",
     "output_type": "stream",
     "text": [
      "<bos>\n",
      "    <start_of_turn>user\n",
      "    Translate the sentence into english and only return the translation:\n",
      "\n",
      "    پارٹی کے لیے حیرت انگیز طور پر مزیدار اور بہترین جگہ<end_of_turn>\n",
      "    <start_of_turn>model\n",
      "    Amazingly, the best place for the party. \n",
      "<end_of_turn>\n"
     ]
    },
    {
     "name": "stderr",
     "output_type": "stream",
     "text": [
      "\r",
      "389it [04:48,  1.69it/s]"
     ]
    },
    {
     "name": "stdout",
     "output_type": "stream",
     "text": [
      "<bos>\n",
      "    <start_of_turn>user\n",
      "    Translate the sentence into english and only return the translation:\n",
      "\n",
      "    میں پارک سٹریٹ پہ ایک ریستوران کا مالک ہوں۔<end_of_turn>\n",
      "    <start_of_turn>model\n",
      "    I am the owner of a restaurant on Park Street. \n",
      "<end_of_turn>\n"
     ]
    },
    {
     "name": "stderr",
     "output_type": "stream",
     "text": [
      "\r",
      "390it [04:48,  1.70it/s]"
     ]
    },
    {
     "name": "stdout",
     "output_type": "stream",
     "text": [
      "<bos>\n",
      "    <start_of_turn>user\n",
      "    Translate the sentence into english and only return the translation:\n",
      "\n",
      "    قدرے سست سروس۔ معمولی ماحول اور عملہ۔ کھانا اچھا ہے۔<end_of_turn>\n",
      "    <start_of_turn>model\n",
      "    Slow service. Small atmosphere and staff. The food is good. \n",
      "<end_of_turn>\n"
     ]
    },
    {
     "name": "stderr",
     "output_type": "stream",
     "text": [
      "\r",
      "391it [04:49,  1.65it/s]"
     ]
    },
    {
     "name": "stdout",
     "output_type": "stream",
     "text": [
      "<bos>\n",
      "    <start_of_turn>user\n",
      "    Translate the sentence into english and only return the translation:\n",
      "\n",
      "    اچھی<end_of_turn>\n",
      "    <start_of_turn>model\n",
      "    Good \n",
      "<end_of_turn>\n"
     ]
    },
    {
     "name": "stderr",
     "output_type": "stream",
     "text": [
      "\r",
      "392it [04:49,  2.08it/s]"
     ]
    },
    {
     "name": "stdout",
     "output_type": "stream",
     "text": [
      "<bos>\n",
      "    <start_of_turn>user\n",
      "    Translate the sentence into english and only return the translation:\n",
      "\n",
      "    بھارت ایک اننگز اور تین رنز سے جیت گیا۔<end_of_turn>\n",
      "    <start_of_turn>model\n",
      "    India won by a margin of 2 runs. \n",
      "<end_of_turn>\n"
     ]
    },
    {
     "name": "stderr",
     "output_type": "stream",
     "text": [
      "\r",
      "393it [04:49,  2.02it/s]"
     ]
    },
    {
     "name": "stdout",
     "output_type": "stream",
     "text": [
      "<bos>\n",
      "    <start_of_turn>user\n",
      "    Translate the sentence into english and only return the translation:\n",
      "\n",
      "    کرہائی کے لیے بہترین جگہ<end_of_turn>\n",
      "    <start_of_turn>model\n",
      "    The best place for a wedding. \n",
      "<end_of_turn>\n"
     ]
    },
    {
     "name": "stderr",
     "output_type": "stream",
     "text": [
      "\r",
      "394it [04:50,  2.11it/s]"
     ]
    },
    {
     "name": "stdout",
     "output_type": "stream",
     "text": [
      "<bos>\n",
      "    <start_of_turn>user\n",
      "    Translate the sentence into english and only return the translation:\n",
      "\n",
      "    رات بھر روتے رہے مرا کوئی نہیں<end_of_turn>\n",
      "    <start_of_turn>model\n",
      "    I've been going round and round all day. \n",
      "<end_of_turn>\n"
     ]
    },
    {
     "name": "stderr",
     "output_type": "stream",
     "text": [
      "\r",
      "395it [04:50,  1.97it/s]"
     ]
    },
    {
     "name": "stdout",
     "output_type": "stream",
     "text": [
      "<bos>\n",
      "    <start_of_turn>user\n",
      "    Translate the sentence into english and only return the translation:\n",
      "\n",
      "    ہمارے شہر میں بہترین کھانا بہترین معیار کا کھانا<end_of_turn>\n",
      "    <start_of_turn>model\n",
      "    Our city has the best food, the best quality food. \n",
      "<end_of_turn>\n"
     ]
    },
    {
     "name": "stderr",
     "output_type": "stream",
     "text": [
      "\r",
      "396it [04:51,  1.86it/s]"
     ]
    },
    {
     "name": "stdout",
     "output_type": "stream",
     "text": [
      "<bos>\n",
      "    <start_of_turn>user\n",
      "    Translate the sentence into english and only return the translation:\n",
      "\n",
      "    بہت برا ذائقہ اور مہنگا<end_of_turn>\n",
      "    <start_of_turn>model\n",
      "    Very bad taste and expensive. \n",
      "<end_of_turn>\n"
     ]
    },
    {
     "name": "stderr",
     "output_type": "stream",
     "text": [
      "\r",
      "397it [04:51,  2.04it/s]"
     ]
    },
    {
     "name": "stdout",
     "output_type": "stream",
     "text": [
      "<bos>\n",
      "    <start_of_turn>user\n",
      "    Translate the sentence into english and only return the translation:\n",
      "\n",
      "    میرا پسندیدہ<end_of_turn>\n",
      "    <start_of_turn>model\n",
      "    My favorite \n",
      "<end_of_turn>\n"
     ]
    },
    {
     "name": "stderr",
     "output_type": "stream",
     "text": [
      "\r",
      "398it [04:52,  2.44it/s]"
     ]
    },
    {
     "name": "stdout",
     "output_type": "stream",
     "text": [
      "<bos>\n",
      "    <start_of_turn>user\n",
      "    Translate the sentence into english and only return the translation:\n",
      "\n",
      "    مجھے جلدی ہے۔<end_of_turn>\n",
      "    <start_of_turn>model\n",
      "    I am late. \n",
      "<end_of_turn>\n"
     ]
    },
    {
     "name": "stderr",
     "output_type": "stream",
     "text": [
      "\r",
      "399it [04:52,  2.65it/s]"
     ]
    },
    {
     "name": "stdout",
     "output_type": "stream",
     "text": [
      "<bos>\n",
      "    <start_of_turn>user\n",
      "    Translate the sentence into english and only return the translation:\n",
      "\n",
      "    اپنے فضل سے۔<end_of_turn>\n",
      "    <start_of_turn>model\n",
      "    from one's own strength. \n",
      "<end_of_turn>\n"
     ]
    },
    {
     "name": "stderr",
     "output_type": "stream",
     "text": [
      "\r",
      "400it [04:52,  2.57it/s]"
     ]
    },
    {
     "name": "stdout",
     "output_type": "stream",
     "text": [
      "<bos>\n",
      "    <start_of_turn>user\n",
      "    Translate the sentence into english and only return the translation:\n",
      "\n",
      "    پِھر اُس نے کہا ہم خُدا کی بادشاہی کو کِس سے تشِبیہ دیں اور کس تمثِیل میں اُسے بیان کریں ؟ ۔<end_of_turn>\n",
      "    <start_of_turn>model\n",
      "    \"Then he said, 'How do we describe God's kingdom to someone, or how do we portray it in a metaphor?'\" \n",
      "<end_of_turn>\n"
     ]
    },
    {
     "name": "stderr",
     "output_type": "stream",
     "text": [
      "\r",
      "401it [04:54,  1.56it/s]"
     ]
    },
    {
     "name": "stdout",
     "output_type": "stream",
     "text": [
      "<bos>\n",
      "    <start_of_turn>user\n",
      "    Translate the sentence into english and only return the translation:\n",
      "\n",
      "    تمہارے پاس 10 منٹ ہیں۔<end_of_turn>\n",
      "    <start_of_turn>model\n",
      "    You have 10 minutes. \n",
      "<end_of_turn>\n"
     ]
    },
    {
     "name": "stderr",
     "output_type": "stream",
     "text": [
      "\r",
      "402it [04:54,  1.74it/s]"
     ]
    },
    {
     "name": "stdout",
     "output_type": "stream",
     "text": [
      "<bos>\n",
      "    <start_of_turn>user\n",
      "    Translate the sentence into english and only return the translation:\n",
      "\n",
      "    شاندار کھانا، بہترین ماحول اور سب سے بڑھ کر عملہ بہت دوستانہ تھا۔<end_of_turn>\n",
      "    <start_of_turn>model\n",
      "    The food was great, the atmosphere was excellent, and the staff was very friendly. \n",
      "<end_of_turn>\n"
     ]
    },
    {
     "name": "stderr",
     "output_type": "stream",
     "text": [
      "\r",
      "403it [04:55,  1.56it/s]"
     ]
    },
    {
     "name": "stdout",
     "output_type": "stream",
     "text": [
      "<bos>\n",
      "    <start_of_turn>user\n",
      "    Translate the sentence into english and only return the translation:\n",
      "\n",
      "    یہ اس لیے کہ اُنہوں نے آخرت کے مقابلہ میں دنیا کی زندگی کو پسند کر لیا، اور اللہ کا قاعدہ ہے کہ وہ اُن لوگوں کو راہ نجات نہیں دکھاتا جو اُس کی نعمت کا کفران کریں<end_of_turn>\n",
      "    <start_of_turn>model\n",
      "    He chose this because he preferred the afterlife over life in the world, and Allah's decree is that he does not grant those who disown his blessings a path to salvation. \n",
      "<end_of_turn>\n"
     ]
    },
    {
     "name": "stderr",
     "output_type": "stream",
     "text": [
      "\r",
      "404it [04:56,  1.10it/s]"
     ]
    },
    {
     "name": "stdout",
     "output_type": "stream",
     "text": [
      "<bos>\n",
      "    <start_of_turn>user\n",
      "    Translate the sentence into english and only return the translation:\n",
      "\n",
      "    اسے دیکھنے کے لیے اچھی جگہ ایک خیراتی ریستوراں ہے، اچھے مقصد کے لیے کھائیں۔<end_of_turn>\n",
      "    <start_of_turn>model\n",
      "    There's a good place to have a look, a restaurant, for good purposes, to eat. \n",
      "<end_of_turn>\n"
     ]
    },
    {
     "name": "stderr",
     "output_type": "stream",
     "text": [
      "\r",
      "405it [04:57,  1.09it/s]"
     ]
    },
    {
     "name": "stdout",
     "output_type": "stream",
     "text": [
      "<bos>\n",
      "    <start_of_turn>user\n",
      "    Translate the sentence into english and only return the translation:\n",
      "\n",
      "    وہ لالچی ہے۔<end_of_turn>\n",
      "    <start_of_turn>model\n",
      "    He is a Lalchi. \n",
      "<end_of_turn>\n"
     ]
    },
    {
     "name": "stderr",
     "output_type": "stream",
     "text": [
      "\r",
      "406it [04:58,  1.33it/s]"
     ]
    },
    {
     "name": "stdout",
     "output_type": "stream",
     "text": [
      "<bos>\n",
      "    <start_of_turn>user\n",
      "    Translate the sentence into english and only return the translation:\n",
      "\n",
      "    یہاں تک کہ جب میں نے اپنے کافی کے کپ کا آخری قطرہ نگل لیا، پورے شہر میں گھنٹیاں پھوٹ پڑیں، اور فوجی بینڈ اور مردوں کی خوشی کی آواز میرے کان پر پڑی۔ Strelsau شہر! اور وہ باہر سے چلایا-<end_of_turn>\n",
      "    <start_of_turn>model\n",
      "    Even as I finished the last sip of my coffee, the entire city seemed to erupt in a cacophony of noise, with military bands and the joyous shouts of men filling my ears. Strelsau! And it was... \n",
      "<end_of_turn>\n"
     ]
    },
    {
     "name": "stderr",
     "output_type": "stream",
     "text": [
      "\r",
      "407it [05:00,  1.13s/it]"
     ]
    },
    {
     "name": "stdout",
     "output_type": "stream",
     "text": [
      "<bos>\n",
      "    <start_of_turn>user\n",
      "    Translate the sentence into english and only return the translation:\n",
      "\n",
      "    اس نے اپنی پیدا کی ہوئی بہت سی چیزوں سے تمہارے لیے سائے کا انتظام کیا، پہاڑوں میں تمہارے لیے پناہ گاہیں بنائیں، اور تمہیں ایسی پوشاکیں بخشیں جو تمہیں گرمی سے بچاتی ہیں اور کچھ دوسری پوشاکیں جو آپس کی جنگ میں تمہاری حفاظت کرتی ہیں اس طرح وہ تم پر اپنی نعمتوں کی تکمیل کرتا ہے شاید کہ تم فرماں بردار بنو<end_of_turn>\n",
      "    <start_of_turn>model\n",
      "    He has prepared a lot of things for you, from the mountains, he has built shelters for you, and he has given you clothes that keep you warm and some other clothes that protect you in the battles, so he completes his blessings on you. Perhaps you will become a strong and fearless one. \n",
      "<end_of_turn>\n"
     ]
    },
    {
     "name": "stderr",
     "output_type": "stream",
     "text": [
      "\r",
      "408it [05:02,  1.53s/it]"
     ]
    },
    {
     "name": "stdout",
     "output_type": "stream",
     "text": [
      "<bos>\n",
      "    <start_of_turn>user\n",
      "    Translate the sentence into english and only return the translation:\n",
      "\n",
      "    جب وہ اکیلا رہ گیا تو اُس کے ساتِھیوں نے ان بارہ سمیت اُس سے اِن تمثِیلوں کی بابت پُوچھا ۔<end_of_turn>\n",
      "    <start_of_turn>model\n",
      "    If he stayed alone, his companions asked him about the ten statues. \n",
      "<end_of_turn>\n"
     ]
    },
    {
     "name": "stderr",
     "output_type": "stream",
     "text": [
      "\r",
      "409it [05:03,  1.28s/it]"
     ]
    },
    {
     "name": "stdout",
     "output_type": "stream",
     "text": [
      "<bos>\n",
      "    <start_of_turn>user\n",
      "    Translate the sentence into english and only return the translation:\n",
      "\n",
      "    میرے چچا نے دنیا کے ایک پکے تجربے کے بارے میں بات کی، اور میں نے ٹائرول جاتے ہوئے \"دی کانٹینینٹل\" میں ایک دن اور ایک رات لگا کر ان کے مشورے کا احترام کیا۔<end_of_turn>\n",
      "    <start_of_turn>model\n",
      "    My grandfather told me about a unique experience he had in the world, and I spent a day and a night browsing \"The Continental\" while respecting his advice. \n",
      "<end_of_turn>\n"
     ]
    },
    {
     "name": "stderr",
     "output_type": "stream",
     "text": [
      "\r",
      "410it [05:04,  1.32s/it]"
     ]
    },
    {
     "name": "stdout",
     "output_type": "stream",
     "text": [
      "<bos>\n",
      "    <start_of_turn>user\n",
      "    Translate the sentence into english and only return the translation:\n",
      "\n",
      "    میرے دادا اور دادی دونوں فوت ہو چکے ہیں۔<end_of_turn>\n",
      "    <start_of_turn>model\n",
      "    My grandfather and grandmother are both deceased. \n",
      "<end_of_turn>\n"
     ]
    },
    {
     "name": "stderr",
     "output_type": "stream",
     "text": [
      "\r",
      "411it [05:05,  1.06s/it]"
     ]
    },
    {
     "name": "stdout",
     "output_type": "stream",
     "text": [
      "<bos>\n",
      "    <start_of_turn>user\n",
      "    Translate the sentence into english and only return the translation:\n",
      "\n",
      "    تھائی اچھی تھی، کھوسا اوسط سے کم تھا۔<end_of_turn>\n",
      "    <start_of_turn>model\n",
      "    It was good, but the food was below average. \n",
      "<end_of_turn>\n"
     ]
    },
    {
     "name": "stderr",
     "output_type": "stream",
     "text": [
      "\r",
      "412it [05:05,  1.10it/s]"
     ]
    },
    {
     "name": "stdout",
     "output_type": "stream",
     "text": [
      "<bos>\n",
      "    <start_of_turn>user\n",
      "    Translate the sentence into english and only return the translation:\n",
      "\n",
      "    کوئی بھی طلبہ سکول کے لئیے لیٹ نہیں تھا۔<end_of_turn>\n",
      "    <start_of_turn>model\n",
      "    No student was left behind for school. \n",
      "<end_of_turn>\n"
     ]
    },
    {
     "name": "stderr",
     "output_type": "stream",
     "text": [
      "\r",
      "413it [05:06,  1.29it/s]"
     ]
    },
    {
     "name": "stdout",
     "output_type": "stream",
     "text": [
      "<bos>\n",
      "    <start_of_turn>user\n",
      "    Translate the sentence into english and only return the translation:\n",
      "\n",
      "    7|188|کہہ دو کہ میں اپنے فائدے اور نقصان کا کچھ بھی اختیار نہیں رکھتا مگر جو الله چاہے اور اگر میں غیب کی باتیں جانتا ہوتا تو بہت سے فائدے جمع کرلیتا اور مجھ کو کوئی تکلیف نہ پہنچتی۔ میں تو مومنوں کو ڈر اور خوشخبری سنانے والا ہوں <end_of_turn>\n",
      "    <start_of_turn>model\n",
      "    I don't have any control over my own gains and losses, but if I knew the secrets of the unseen world, I would gain many benefits and wouldn't face any hardship. I am here to give comfort and fear to the believers. \n",
      "<end_of_turn>\n"
     ]
    },
    {
     "name": "stderr",
     "output_type": "stream",
     "text": [
      "\r",
      "414it [05:08,  1.17s/it]"
     ]
    },
    {
     "name": "stdout",
     "output_type": "stream",
     "text": [
      "<bos>\n",
      "    <start_of_turn>user\n",
      "    Translate the sentence into english and only return the translation:\n",
      "\n",
      "    آپ کہاں رہتے ہیں؟<end_of_turn>\n",
      "    <start_of_turn>model\n",
      "    Where do you live? \n",
      "<end_of_turn>\n"
     ]
    },
    {
     "name": "stderr",
     "output_type": "stream",
     "text": [
      "\r",
      "415it [05:08,  1.09it/s]"
     ]
    },
    {
     "name": "stdout",
     "output_type": "stream",
     "text": [
      "<bos>\n",
      "    <start_of_turn>user\n",
      "    Translate the sentence into english and only return the translation:\n",
      "\n",
      "    (گوگل کے ذریعہ ترجمہ شدہ) باواس (اصل) بخاواس<end_of_turn>\n",
      "    <start_of_turn>model\n",
      "    \"Google translated\" \n",
      "<end_of_turn>\n"
     ]
    },
    {
     "name": "stderr",
     "output_type": "stream",
     "text": [
      "\r",
      "416it [05:08,  1.36it/s]"
     ]
    },
    {
     "name": "stdout",
     "output_type": "stream",
     "text": [
      "<bos>\n",
      "    <start_of_turn>user\n",
      "    Translate the sentence into english and only return the translation:\n",
      "\n",
      "    اچھا لگ رہا ہے اور ذائقہ دار کھانا اچھا ہے۔<end_of_turn>\n",
      "    <start_of_turn>model\n",
      "    It's good and the food tastes good. \n",
      "<end_of_turn>\n"
     ]
    },
    {
     "name": "stderr",
     "output_type": "stream",
     "text": [
      "\r",
      "417it [05:09,  1.49it/s]"
     ]
    },
    {
     "name": "stdout",
     "output_type": "stream",
     "text": [
      "<bos>\n",
      "    <start_of_turn>user\n",
      "    Translate the sentence into english and only return the translation:\n",
      "\n",
      "    میں کوٹھری کے دروازے پر آیا۔<end_of_turn>\n",
      "    <start_of_turn>model\n",
      "    I came to the gate of the kotwali. \n",
      "<end_of_turn>\n"
     ]
    },
    {
     "name": "stderr",
     "output_type": "stream",
     "text": [
      "\r",
      "418it [05:10,  1.59it/s]"
     ]
    },
    {
     "name": "stdout",
     "output_type": "stream",
     "text": [
      "<bos>\n",
      "    <start_of_turn>user\n",
      "    Translate the sentence into english and only return the translation:\n",
      "\n",
      "    اگر ٹوٹ جائے تو۔<end_of_turn>\n",
      "    <start_of_turn>model\n",
      "    If it falls... \n",
      "<end_of_turn>\n"
     ]
    },
    {
     "name": "stderr",
     "output_type": "stream",
     "text": [
      "\r",
      "419it [05:10,  1.89it/s]"
     ]
    },
    {
     "name": "stdout",
     "output_type": "stream",
     "text": [
      "<bos>\n",
      "    <start_of_turn>user\n",
      "    Translate the sentence into english and only return the translation:\n",
      "\n",
      "    آرڈر کی گئی گرلڈ فش اور جھینگا کراہی مچھلی کا ذائقہ بہت اچھا ہے لیکن جھینگا کراہی ٹھیک ہے چٹنی گرین بھی کمال ہے فٹ پاتھ پر بیٹھنے کے لیے بڑی جگہ کی ضرورت ہے وہ لائیو لحاف اور دیسی مرگھا پیش کرتے ہیں<end_of_turn>\n",
      "    <start_of_turn>model\n",
      "    The girl's grilled fish is very good, but the grilled fish is not that good.  The green chutney is also very good. There is a need for a large space to sit on the mat. They offer live cushions and a traditional table. \n",
      "<end_of_turn>\n"
     ]
    },
    {
     "name": "stderr",
     "output_type": "stream",
     "text": [
      "\r",
      "420it [05:12,  1.02s/it]"
     ]
    },
    {
     "name": "stdout",
     "output_type": "stream",
     "text": [
      "<bos>\n",
      "    <start_of_turn>user\n",
      "    Translate the sentence into english and only return the translation:\n",
      "\n",
      "    وہ کھانے کو کچھ نہیں چاہتے۔<end_of_turn>\n",
      "    <start_of_turn>model\n",
      "    They don't feel like eating. \n",
      "<end_of_turn>\n"
     ]
    },
    {
     "name": "stderr",
     "output_type": "stream",
     "text": [
      "\r",
      "421it [05:12,  1.18it/s]"
     ]
    },
    {
     "name": "stdout",
     "output_type": "stream",
     "text": [
      "<bos>\n",
      "    <start_of_turn>user\n",
      "    Translate the sentence into english and only return the translation:\n",
      "\n",
      "    چھت پر بیٹھنے کا انتظام ٹھیک ہے لیکن کھانا مزیدار ہے۔<end_of_turn>\n",
      "    <start_of_turn>model\n",
      "    The arrangement for sitting is good, but the food is more delicious. \n",
      "<end_of_turn>\n"
     ]
    },
    {
     "name": "stderr",
     "output_type": "stream",
     "text": [
      "\r",
      "422it [05:13,  1.26it/s]"
     ]
    },
    {
     "name": "stdout",
     "output_type": "stream",
     "text": [
      "<bos>\n",
      "    <start_of_turn>user\n",
      "    Translate the sentence into english and only return the translation:\n",
      "\n",
      "    مینو اور ذائقہ اچھا تھا۔ اپنے خاندان کے ساتھ رہنے کے لیے اچھی پرامن جگہ<end_of_turn>\n",
      "    <start_of_turn>model\n",
      "    I liked the food. I'd like a good place to live with my family. \n",
      "<end_of_turn>\n"
     ]
    },
    {
     "name": "stderr",
     "output_type": "stream",
     "text": [
      "\r",
      "423it [05:14,  1.24it/s]"
     ]
    },
    {
     "name": "stdout",
     "output_type": "stream",
     "text": [
      "<bos>\n",
      "    <start_of_turn>user\n",
      "    Translate the sentence into english and only return the translation:\n",
      "\n",
      "    سستی سبھی بیماریوں کی جڑ ہے۔<end_of_turn>\n",
      "    <start_of_turn>model\n",
      "    All diseases have a root cause. \n",
      "<end_of_turn>\n"
     ]
    },
    {
     "name": "stderr",
     "output_type": "stream",
     "text": [
      "\r",
      "424it [05:14,  1.45it/s]"
     ]
    },
    {
     "name": "stdout",
     "output_type": "stream",
     "text": [
      "<bos>\n",
      "    <start_of_turn>user\n",
      "    Translate the sentence into english and only return the translation:\n",
      "\n",
      "    بہت اچھا BBQ ذائقہ سے بھرپور تھوڑا سا مسالہ دار کھانا لیکن ذائقہ میں اچھا ہے یہ کباب یامی ہے اور خدمت بھی اچھی ہے صفائی اور میزوں کی ترتیب کو بہتر کرنے کی ضرورت ہے<end_of_turn>\n",
      "    <start_of_turn>model\n",
      "    The BBQ was very good, with a delicious flavor, but a bit messy. The food was good, the kebabs were good, and the service was good.  The cleanliness and table arrangement could be improved. \n",
      "<end_of_turn>\n"
     ]
    },
    {
     "name": "stderr",
     "output_type": "stream",
     "text": [
      "\r",
      "425it [05:16,  1.02s/it]"
     ]
    },
    {
     "name": "stdout",
     "output_type": "stream",
     "text": [
      "<bos>\n",
      "    <start_of_turn>user\n",
      "    Translate the sentence into english and only return the translation:\n",
      "\n",
      "    سستی قیمتوں میں اچھی خوراک<end_of_turn>\n",
      "    <start_of_turn>model\n",
      "    Good food in the price range. \n",
      "<end_of_turn>\n"
     ]
    },
    {
     "name": "stderr",
     "output_type": "stream",
     "text": [
      "\r",
      "426it [05:17,  1.19it/s]"
     ]
    },
    {
     "name": "stdout",
     "output_type": "stream",
     "text": [
      "<bos>\n",
      "    <start_of_turn>user\n",
      "    Translate the sentence into english and only return the translation:\n",
      "\n",
      "    ذائقہ میں مزیدار لیکن بیٹھنے/کھانے کی جگہ کے لحاظ سے مکمل موڑ کی ضرورت ہے۔<end_of_turn>\n",
      "    <start_of_turn>model\n",
      "    There is a need for a complete change, but it is not in the place for sitting/eating. \n",
      "<end_of_turn>\n"
     ]
    },
    {
     "name": "stderr",
     "output_type": "stream",
     "text": [
      "\r",
      "427it [05:18,  1.14it/s]"
     ]
    },
    {
     "name": "stdout",
     "output_type": "stream",
     "text": [
      "<bos>\n",
      "    <start_of_turn>user\n",
      "    Translate the sentence into english and only return the translation:\n",
      "\n",
      "    اچھی جگہ<end_of_turn>\n",
      "    <start_of_turn>model\n",
      "    Good place \n",
      "<end_of_turn>\n"
     ]
    },
    {
     "name": "stderr",
     "output_type": "stream",
     "text": [
      "\r",
      "428it [05:18,  1.47it/s]"
     ]
    },
    {
     "name": "stdout",
     "output_type": "stream",
     "text": [
      "<bos>\n",
      "    <start_of_turn>user\n",
      "    Translate the sentence into english and only return the translation:\n",
      "\n",
      "    میں میرا دوست<end_of_turn>\n",
      "    <start_of_turn>model\n",
      "    I have a friend. \n",
      "<end_of_turn>\n"
     ]
    },
    {
     "name": "stderr",
     "output_type": "stream",
     "text": [
      "\r",
      "429it [05:18,  1.73it/s]"
     ]
    },
    {
     "name": "stdout",
     "output_type": "stream",
     "text": [
      "<bos>\n",
      "    <start_of_turn>user\n",
      "    Translate the sentence into english and only return the translation:\n",
      "\n",
      "    مجھے پتہ نہیں ہے۔<end_of_turn>\n",
      "    <start_of_turn>model\n",
      "    I don't know. \n",
      "<end_of_turn>\n"
     ]
    },
    {
     "name": "stderr",
     "output_type": "stream",
     "text": [
      "\r",
      "430it [05:18,  1.94it/s]"
     ]
    },
    {
     "name": "stdout",
     "output_type": "stream",
     "text": [
      "<bos>\n",
      "    <start_of_turn>user\n",
      "    Translate the sentence into english and only return the translation:\n",
      "\n",
      "     مجھے اسکولنگ کی ضرورت نہیں،‘‘ فرٹز نے ایک چھوٹی سی تکبر سے کہا۔<end_of_turn>\n",
      "    <start_of_turn>model\n",
      "    I don't need school, \"said a small, smug-looking boy.\" \n",
      "<end_of_turn>\n"
     ]
    },
    {
     "name": "stderr",
     "output_type": "stream",
     "text": [
      "\r",
      "431it [05:19,  1.67it/s]"
     ]
    },
    {
     "name": "stdout",
     "output_type": "stream",
     "text": [
      "<bos>\n",
      "    <start_of_turn>user\n",
      "    Translate the sentence into english and only return the translation:\n",
      "\n",
      "    ذائقہ واقعی اچھا ہے، اور قہوہ کھانے کے بعد اور بھی اچھا ہے۔<end_of_turn>\n",
      "    <start_of_turn>model\n",
      "    The food is really good, and it gets even better after you eat it. \n",
      "<end_of_turn>\n"
     ]
    },
    {
     "name": "stderr",
     "output_type": "stream",
     "text": [
      "\r",
      "432it [05:20,  1.54it/s]"
     ]
    },
    {
     "name": "stdout",
     "output_type": "stream",
     "text": [
      "<bos>\n",
      "    <start_of_turn>user\n",
      "    Translate the sentence into english and only return the translation:\n",
      "\n",
      "    پنیر ریشمی ہانڈی واقعی اچھی تھی۔<end_of_turn>\n",
      "    <start_of_turn>model\n",
      "    The hand-woven cheese was really good. \n",
      "<end_of_turn>\n"
     ]
    },
    {
     "name": "stderr",
     "output_type": "stream",
     "text": [
      "\r",
      "433it [05:21,  1.66it/s]"
     ]
    },
    {
     "name": "stdout",
     "output_type": "stream",
     "text": [
      "<bos>\n",
      "    <start_of_turn>user\n",
      "    Translate the sentence into english and only return the translation:\n",
      "\n",
      "    پہلی بار ان کی واہ واہ بہت ٹیسٹی کھانا پھر سے چلے گا۔<end_of_turn>\n",
      "    <start_of_turn>model\n",
      "    He'll be back for more of that delicious food, for sure. \n",
      "<end_of_turn>\n"
     ]
    },
    {
     "name": "stderr",
     "output_type": "stream",
     "text": [
      "\r",
      "434it [05:21,  1.56it/s]"
     ]
    },
    {
     "name": "stdout",
     "output_type": "stream",
     "text": [
      "<bos>\n",
      "    <start_of_turn>user\n",
      "    Translate the sentence into english and only return the translation:\n",
      "\n",
      "    اپنی ناک صاف کر لو<end_of_turn>\n",
      "    <start_of_turn>model\n",
      "    Clean your face. \n",
      "<end_of_turn>\n"
     ]
    },
    {
     "name": "stderr",
     "output_type": "stream",
     "text": [
      "\r",
      "435it [05:22,  1.85it/s]"
     ]
    },
    {
     "name": "stdout",
     "output_type": "stream",
     "text": [
      "<bos>\n",
      "    <start_of_turn>user\n",
      "    Translate the sentence into english and only return the translation:\n",
      "\n",
      "    nan<end_of_turn>\n",
      "    <start_of_turn>model\n",
      "    not a word \n",
      "<end_of_turn>\n"
     ]
    },
    {
     "name": "stderr",
     "output_type": "stream",
     "text": [
      "\r",
      "436it [05:22,  2.19it/s]"
     ]
    },
    {
     "name": "stdout",
     "output_type": "stream",
     "text": [
      "<bos>\n",
      "    <start_of_turn>user\n",
      "    Translate the sentence into english and only return the translation:\n",
      "\n",
      "    حیرت انگیز جوڑے اور سومیلیئر سے مسلسل ریفلز...وہ تمام سلنڈروں پر فائر کر رہے تھے اور واقعی ایک قسم کا کھانے کا تجربہ فراہم کر رہے تھے۔<end_of_turn>\n",
      "    <start_of_turn>model\n",
      "    They were firing on all cylinders, and providing a kind of culinary experience. \n",
      "<end_of_turn>\n"
     ]
    },
    {
     "name": "stderr",
     "output_type": "stream",
     "text": [
      "\r",
      "437it [05:23,  1.85it/s]"
     ]
    },
    {
     "name": "stdout",
     "output_type": "stream",
     "text": [
      "<bos>\n",
      "    <start_of_turn>user\n",
      "    Translate the sentence into english and only return the translation:\n",
      "\n",
      "    یہاں کبھی بھی پراٹھا رول کا آرڈر نہ دیں۔<end_of_turn>\n",
      "    <start_of_turn>model\n",
      "    Never order a Pratha Rool here. \n",
      "<end_of_turn>\n"
     ]
    },
    {
     "name": "stderr",
     "output_type": "stream",
     "text": [
      "\r",
      "438it [05:23,  1.90it/s]"
     ]
    },
    {
     "name": "stdout",
     "output_type": "stream",
     "text": [
      "<bos>\n",
      "    <start_of_turn>user\n",
      "    Translate the sentence into english and only return the translation:\n",
      "\n",
      "    ٹھیک ہے ذائقہ، غیر معمولی نہیں صرف ہائپ لوگوں کی طرف سے پیدا کیا جاتا ہے<end_of_turn>\n",
      "    <start_of_turn>model\n",
      "    It tastes good, it's not just hype, it's made by hip people. \n",
      "<end_of_turn>\n"
     ]
    },
    {
     "name": "stderr",
     "output_type": "stream",
     "text": [
      "\r",
      "439it [05:24,  1.58it/s]"
     ]
    },
    {
     "name": "stdout",
     "output_type": "stream",
     "text": [
      "<bos>\n",
      "    <start_of_turn>user\n",
      "    Translate the sentence into english and only return the translation:\n",
      "\n",
      "    اس کے پاس کافی پیسہ ہے۔<end_of_turn>\n",
      "    <start_of_turn>model\n",
      "    He has a lot of money. \n",
      "<end_of_turn>\n"
     ]
    },
    {
     "name": "stderr",
     "output_type": "stream",
     "text": [
      "\r",
      "440it [05:24,  1.76it/s]"
     ]
    },
    {
     "name": "stdout",
     "output_type": "stream",
     "text": [
      "<bos>\n",
      "    <start_of_turn>user\n",
      "    Translate the sentence into english and only return the translation:\n",
      "\n",
      "    (گوگل کے ذریعہ ترجمہ کیا گیا) بہت اچھا ذائقہ، بس گروی نہیں ہے۔<end_of_turn>\n",
      "    <start_of_turn>model\n",
      "    It's very tasty, but it's not that good. \n",
      "<end_of_turn>\n"
     ]
    },
    {
     "name": "stderr",
     "output_type": "stream",
     "text": [
      "\r",
      "441it [05:25,  1.66it/s]"
     ]
    },
    {
     "name": "stdout",
     "output_type": "stream",
     "text": [
      "<bos>\n",
      "    <start_of_turn>user\n",
      "    Translate the sentence into english and only return the translation:\n",
      "\n",
      "    اسے آسان لے لو۔<end_of_turn>\n",
      "    <start_of_turn>model\n",
      "    Take it easy. \n",
      "<end_of_turn>\n"
     ]
    },
    {
     "name": "stderr",
     "output_type": "stream",
     "text": [
      "\r",
      "442it [05:25,  1.95it/s]"
     ]
    },
    {
     "name": "stdout",
     "output_type": "stream",
     "text": [
      "<bos>\n",
      "    <start_of_turn>user\n",
      "    Translate the sentence into english and only return the translation:\n",
      "\n",
      "    میں نے اسے ایک ہفتے سے دیکھا نہیں۔<end_of_turn>\n",
      "    <start_of_turn>model\n",
      "    I haven't seen him in a week. \n",
      "<end_of_turn>\n"
     ]
    },
    {
     "name": "stderr",
     "output_type": "stream",
     "text": [
      "\r",
      "443it [05:26,  1.92it/s]"
     ]
    },
    {
     "name": "stdout",
     "output_type": "stream",
     "text": [
      "<bos>\n",
      "    <start_of_turn>user\n",
      "    Translate the sentence into english and only return the translation:\n",
      "\n",
      "     جیسا کہ میں نے توقع کی تھی، مجھے گرینڈ مارشل تک رسائی حاصل کرنے میں کچھ مشکل پیش آئی۔ لیکن میں نے کپتان سے جو انگوٹھی وصول کی تھی وہ اس کے پاس بھیج دی، اور فوراً داخل کر دیا گیا۔<end_of_turn>\n",
      "    <start_of_turn>model\n",
      "    As I expected, getting access to Grand Marshall was a bit difficult. But I sent the captain's ring to him, and was immediately allowed inside. \n",
      "<end_of_turn>\n"
     ]
    },
    {
     "name": "stderr",
     "output_type": "stream",
     "text": [
      "\r",
      "444it [05:27,  1.30it/s]"
     ]
    },
    {
     "name": "stdout",
     "output_type": "stream",
     "text": [
      "<bos>\n",
      "    <start_of_turn>user\n",
      "    Translate the sentence into english and only return the translation:\n",
      "\n",
      "    کھانا اچھا ہے لیکن جگہ گندی ہے۔<end_of_turn>\n",
      "    <start_of_turn>model\n",
      "    The food is good, but the place is bad. \n",
      "<end_of_turn>\n"
     ]
    },
    {
     "name": "stderr",
     "output_type": "stream",
     "text": [
      "\r",
      "445it [05:28,  1.41it/s]"
     ]
    },
    {
     "name": "stdout",
     "output_type": "stream",
     "text": [
      "<bos>\n",
      "    <start_of_turn>user\n",
      "    Translate the sentence into english and only return the translation:\n",
      "\n",
      "    اور اُن کے سامنے اُس کی صُورت بدل گئی اور اُس کا چہرہ سُورج کی مانِند چمکا اور اُس کی پوشاک نُور کی مانِند سفید ہوگئی ۔<end_of_turn>\n",
      "    <start_of_turn>model\n",
      "    His face changed before his eyes, his features resembling a crescent moon, and his clothes became white like the light of the moon. \n",
      "<end_of_turn>\n"
     ]
    },
    {
     "name": "stderr",
     "output_type": "stream",
     "text": [
      "\r",
      "446it [05:29,  1.19it/s]"
     ]
    },
    {
     "name": "stdout",
     "output_type": "stream",
     "text": [
      "<bos>\n",
      "    <start_of_turn>user\n",
      "    Translate the sentence into english and only return the translation:\n",
      "\n",
      "    بس ٹھیک ہے۔<end_of_turn>\n",
      "    <start_of_turn>model\n",
      "    It's okay. \n",
      "<end_of_turn>\n"
     ]
    },
    {
     "name": "stderr",
     "output_type": "stream",
     "text": [
      "\r",
      "447it [05:29,  1.45it/s]"
     ]
    },
    {
     "name": "stdout",
     "output_type": "stream",
     "text": [
      "<bos>\n",
      "    <start_of_turn>user\n",
      "    Translate the sentence into english and only return the translation:\n",
      "\n",
      "    یہ ریستوراں اچھے ماحول اور مناسب نرخوں کے ساتھ کھانے کے لیے میری پسندیدہ جگہوں میں سے ایک ہے۔<end_of_turn>\n",
      "    <start_of_turn>model\n",
      "    This restaurant is one of my favorite places to eat, with a good atmosphere and reasonable prices. \n",
      "<end_of_turn>\n"
     ]
    },
    {
     "name": "stderr",
     "output_type": "stream",
     "text": [
      "\r",
      "448it [05:30,  1.34it/s]"
     ]
    },
    {
     "name": "stdout",
     "output_type": "stream",
     "text": [
      "<bos>\n",
      "    <start_of_turn>user\n",
      "    Translate the sentence into english and only return the translation:\n",
      "\n",
      "    اوہ، سوچنے کے لیے بہت سے لوگ ہیں جیسا کہ میں کرتا ہوں! بوڑھی عورت نے زور سے پکارا۔<end_of_turn>\n",
      "    <start_of_turn>model\n",
      "    \"Oh, there are so many people who think like me, just like I do!\" the old woman shouted. \n",
      "<end_of_turn>\n"
     ]
    },
    {
     "name": "stderr",
     "output_type": "stream",
     "text": [
      "\r",
      "449it [05:31,  1.20it/s]"
     ]
    },
    {
     "name": "stdout",
     "output_type": "stream",
     "text": [
      "<bos>\n",
      "    <start_of_turn>user\n",
      "    Translate the sentence into english and only return the translation:\n",
      "\n",
      "    اس کا ذائقہ اچھا ہے مجھے یہ پسند ہے کھلی فضا میں بیٹھنے کی وجہ سے ماحول اچھا نہیں ہے۔<end_of_turn>\n",
      "    <start_of_turn>model\n",
      "    The taste is good, I like it. The open air is not good because of the atmosphere. \n",
      "<end_of_turn>\n"
     ]
    },
    {
     "name": "stderr",
     "output_type": "stream",
     "text": [
      "\r",
      "450it [05:32,  1.17it/s]"
     ]
    },
    {
     "name": "stdout",
     "output_type": "stream",
     "text": [
      "<bos>\n",
      "    <start_of_turn>user\n",
      "    Translate the sentence into english and only return the translation:\n",
      "\n",
      "    nan<end_of_turn>\n",
      "    <start_of_turn>model\n",
      "    not a word \n",
      "<end_of_turn>\n"
     ]
    },
    {
     "name": "stderr",
     "output_type": "stream",
     "text": [
      "\r",
      "451it [05:32,  1.47it/s]"
     ]
    },
    {
     "name": "stdout",
     "output_type": "stream",
     "text": [
      "<bos>\n",
      "    <start_of_turn>user\n",
      "    Translate the sentence into english and only return the translation:\n",
      "\n",
      "    اچھی جگہ تجویز کی گئی۔<end_of_turn>\n",
      "    <start_of_turn>model\n",
      "    A good place was suggested. \n",
      "<end_of_turn>\n"
     ]
    },
    {
     "name": "stderr",
     "output_type": "stream",
     "text": [
      "\r",
      "452it [05:33,  1.70it/s]"
     ]
    },
    {
     "name": "stdout",
     "output_type": "stream",
     "text": [
      "<bos>\n",
      "    <start_of_turn>user\n",
      "    Translate the sentence into english and only return the translation:\n",
      "\n",
      "    ناشتہ بہت اچھا تھا خاص طور پر نہاری<end_of_turn>\n",
      "    <start_of_turn>model\n",
      "    He was very good, especially in the area of the north. \n",
      "<end_of_turn>\n"
     ]
    },
    {
     "name": "stderr",
     "output_type": "stream",
     "text": [
      "\r",
      "453it [05:33,  1.65it/s]"
     ]
    },
    {
     "name": "stdout",
     "output_type": "stream",
     "text": [
      "<bos>\n",
      "    <start_of_turn>user\n",
      "    Translate the sentence into english and only return the translation:\n",
      "\n",
      "    موریل نے اپنے اردگرد نظر دوڑائی اور پھر ڈانٹیس کو ایک طرف کھینچتے ہوئے اچانک بولا- \"اور شہنشاہ کیسا ہے؟\" \"بہت اچھا، جہاں تک میں اس کی نظر سے اندازہ لگا سکتا تھا۔<end_of_turn>\n",
      "    <start_of_turn>model\n",
      "    \"Moriel looked around and then, holding the Dane in one hand, suddenly said, \"How is the king?\" \"Very well, as far as I could judge from his look.\" \n",
      "<end_of_turn>\n"
     ]
    },
    {
     "name": "stderr",
     "output_type": "stream",
     "text": [
      "\r",
      "454it [05:35,  1.09it/s]"
     ]
    },
    {
     "name": "stdout",
     "output_type": "stream",
     "text": [
      "<bos>\n",
      "    <start_of_turn>user\n",
      "    Translate the sentence into english and only return the translation:\n",
      "\n",
      "    اب تک کا بہترین بی بی کیو پلیٹر<end_of_turn>\n",
      "    <start_of_turn>model\n",
      "    Your best-of-the-best Bluetooth speaker. \n",
      "<end_of_turn>\n"
     ]
    },
    {
     "name": "stderr",
     "output_type": "stream",
     "text": [
      "\r",
      "455it [05:36,  1.23it/s]"
     ]
    },
    {
     "name": "stdout",
     "output_type": "stream",
     "text": [
      "<bos>\n",
      "    <start_of_turn>user\n",
      "    Translate the sentence into english and only return the translation:\n",
      "\n",
      "    آخر کار منکرین نے اپنے رسولوں سے کہہ دیا کہ \"یا تو تمہیں ہماری ملت میں واپس آنا ہوگا ورنہ ہم تمہیں اپنے ملک سے نکال دیں گے\" تب اُن کے رب نے اُن پر وحی بھیجی کہ \"ہم اِن ظالموں کو ہلا ک کر دیں گے<end_of_turn>\n",
      "    <start_of_turn>model\n",
      "    \"Either you will return to our people, or we will expel you from your country.\" Then, God revealed to them, \"We will destroy those oppressors.\" \n",
      "<end_of_turn>\n"
     ]
    },
    {
     "name": "stderr",
     "output_type": "stream",
     "text": [
      "\r",
      "456it [05:37,  1.00it/s]"
     ]
    },
    {
     "name": "stdout",
     "output_type": "stream",
     "text": [
      "<bos>\n",
      "    <start_of_turn>user\n",
      "    Translate the sentence into english and only return the translation:\n",
      "\n",
      "    یہ وہ لوگ ہیں جو اپنے گھروں سے ناحق نکال دیے گئے صرف اِس قصور پر کہ وہ کہتے تھے \"ہمارا رب اللہ ہے\" اگر اللہ لوگوں کو ایک دوسرے کے ذریعے دفع نہ کرتا رہے تو خانقاہیں اور گرجا اور معبد اور مسجدیں، جن میں اللہ کا کثرت سے نام لیا جاتا ہے، سب مسمار کر ڈالی جائیں اللہ ضرور اُن لوگوں کی مدد کرے گا جو اس کی مدد کریں گے اللہ بڑا طاقتور اور زبردست ہے<end_of_turn>\n",
      "    <start_of_turn>model\n",
      "    Those are the people who were expelled from their homes, only on the charge that they said \"Our Lord is Allah.\" If Allah did not guide people to each other, the mosques, the shrines, the temples and the churches, which are full of Allah's name, would all be destroyed. Allah will definitely help those who help him. Allah is the most powerful and strong. \n",
      "<end_of_turn>\n"
     ]
    },
    {
     "name": "stderr",
     "output_type": "stream",
     "text": [
      "\r",
      "457it [05:40,  1.64s/it]"
     ]
    },
    {
     "name": "stdout",
     "output_type": "stream",
     "text": [
      "<bos>\n",
      "    <start_of_turn>user\n",
      "    Translate the sentence into english and only return the translation:\n",
      "\n",
      "    بہت مہنگا<end_of_turn>\n",
      "    <start_of_turn>model\n",
      "    Expensive \n",
      "<end_of_turn>\n"
     ]
    },
    {
     "name": "stderr",
     "output_type": "stream",
     "text": [
      "\r",
      "458it [05:40,  1.21s/it]"
     ]
    },
    {
     "name": "stdout",
     "output_type": "stream",
     "text": [
      "<bos>\n",
      "    <start_of_turn>user\n",
      "    Translate the sentence into english and only return the translation:\n",
      "\n",
      "    رات کے کھانے کے لیے بہترین پوائنٹ<end_of_turn>\n",
      "    <start_of_turn>model\n",
      "    The best point for eating rice. \n",
      "<end_of_turn>\n"
     ]
    },
    {
     "name": "stderr",
     "output_type": "stream",
     "text": [
      "\r",
      "459it [05:41,  1.03it/s]"
     ]
    },
    {
     "name": "stdout",
     "output_type": "stream",
     "text": [
      "<bos>\n",
      "    <start_of_turn>user\n",
      "    Translate the sentence into english and only return the translation:\n",
      "\n",
      "    اچھی جگہ، اقتصادی، اور مزیدار کھانا<end_of_turn>\n",
      "    <start_of_turn>model\n",
      "    A good place, economical, and more food. \n",
      "<end_of_turn>\n"
     ]
    },
    {
     "name": "stderr",
     "output_type": "stream",
     "text": [
      "\r",
      "460it [05:41,  1.19it/s]"
     ]
    },
    {
     "name": "stdout",
     "output_type": "stream",
     "text": [
      "<bos>\n",
      "    <start_of_turn>user\n",
      "    Translate the sentence into english and only return the translation:\n",
      "\n",
      "    کسی بھی قسم یا تقریب کے لیے شاندار ریستوراں اور تمام فیملی ممبرز کے ساتھ فیملی ڈنر، شاندار کھانا اچھا ماحول شاندار خدمات<end_of_turn>\n",
      "    <start_of_turn>model\n",
      "    Family dinners with delicious food, great atmosphere, and excellent service, all in a family-friendly restaurant. \n",
      "<end_of_turn>\n"
     ]
    },
    {
     "name": "stderr",
     "output_type": "stream",
     "text": [
      "\r",
      "461it [05:42,  1.13it/s]"
     ]
    },
    {
     "name": "stdout",
     "output_type": "stream",
     "text": [
      "<bos>\n",
      "    <start_of_turn>user\n",
      "    Translate the sentence into english and only return the translation:\n",
      "\n",
      "    اور یِسّوع اپنے شاگِردوں کے ساتھھ جِھیل کی طرف چلاگیا اور گِلیل سے ایک بڑی بِھیڑ پیچھے ہولی اور یہودیہ ۔<end_of_turn>\n",
      "    <start_of_turn>model\n",
      "    Jesus, accompanied by his disciples, walked towards the sea.  \n",
      "<end_of_turn>\n"
     ]
    },
    {
     "name": "stderr",
     "output_type": "stream",
     "text": [
      "\r",
      "462it [05:43,  1.25it/s]"
     ]
    },
    {
     "name": "stdout",
     "output_type": "stream",
     "text": [
      "<bos>\n",
      "    <start_of_turn>user\n",
      "    Translate the sentence into english and only return the translation:\n",
      "\n",
      "    اچھا کھانا<end_of_turn>\n",
      "    <start_of_turn>model\n",
      "    Good food \n",
      "<end_of_turn>\n"
     ]
    },
    {
     "name": "stderr",
     "output_type": "stream",
     "text": [
      "\r",
      "463it [05:43,  1.59it/s]"
     ]
    },
    {
     "name": "stdout",
     "output_type": "stream",
     "text": [
      "<bos>\n",
      "    <start_of_turn>user\n",
      "    Translate the sentence into english and only return the translation:\n",
      "\n",
      "     پھر آپ کو اپنے ساتھیوں کے ساتھ کچھ مشترک ہے جو بیکو پیتے ہیں یا اس کے بارے میں سوچتے ہیں۔<end_of_turn>\n",
      "    <start_of_turn>model\n",
      "    You have something in common with your companions, whether they eat baklava or think about it. \n",
      "<end_of_turn>\n"
     ]
    },
    {
     "name": "stderr",
     "output_type": "stream",
     "text": [
      "\r",
      "464it [05:44,  1.42it/s]"
     ]
    },
    {
     "name": "stdout",
     "output_type": "stream",
     "text": [
      "<bos>\n",
      "    <start_of_turn>user\n",
      "    Translate the sentence into english and only return the translation:\n",
      "\n",
      "    گلشن اقبال کراچی میں اچھی ذائقہ والی تلی ہوئی اور گرلڈ فش کے لیے آسان جگہ۔ عمدہ ذائقہ اور عام نرخ۔<end_of_turn>\n",
      "    <start_of_turn>model\n",
      "    A delicious, well-cooked, and easy-to-find grilled food spot in Quetta.  Good quality and affordable. \n",
      "<end_of_turn>\n"
     ]
    },
    {
     "name": "stderr",
     "output_type": "stream",
     "text": [
      "\r",
      "465it [05:45,  1.19it/s]"
     ]
    },
    {
     "name": "stdout",
     "output_type": "stream",
     "text": [
      "<bos>\n",
      "    <start_of_turn>user\n",
      "    Translate the sentence into english and only return the translation:\n",
      "\n",
      "    (گوگل کے ذریعہ ترجمہ کیا گیا) وہاں چکن این لیمب کراہی اففففف!!<end_of_turn>\n",
      "    <start_of_turn>model\n",
      "    He's saying \"Wow, wow, wow!\" \n",
      "<end_of_turn>\n"
     ]
    },
    {
     "name": "stderr",
     "output_type": "stream",
     "text": [
      "\r",
      "466it [05:46,  1.32it/s]"
     ]
    },
    {
     "name": "stdout",
     "output_type": "stream",
     "text": [
      "<bos>\n",
      "    <start_of_turn>user\n",
      "    Translate the sentence into english and only return the translation:\n",
      "\n",
      "    (گوگل کے ذریعہ ترجمہ شدہ) بھوت زبردس ذائقہ ہا (اصل) بھوت زبردس ذائقہ ہا<end_of_turn>\n",
      "    <start_of_turn>model\n",
      "    The ghost is a powerful taste. \n",
      "<end_of_turn>\n"
     ]
    },
    {
     "name": "stderr",
     "output_type": "stream",
     "text": [
      "\r",
      "467it [05:46,  1.53it/s]"
     ]
    },
    {
     "name": "stdout",
     "output_type": "stream",
     "text": [
      "<bos>\n",
      "    <start_of_turn>user\n",
      "    Translate the sentence into english and only return the translation:\n",
      "\n",
      "     \"آپ کو کیا تکلیف ہے، میرے پیارے باپ؟ کیا تم بیمار ہو؟\" بہت گھبرا کر نوجوان سے پوچھا<end_of_turn>\n",
      "    <start_of_turn>model\n",
      "    \"What's the matter with you, dear father? Are you sick?\" \n",
      "<end_of_turn>\n"
     ]
    },
    {
     "name": "stderr",
     "output_type": "stream",
     "text": [
      "\r",
      "468it [05:47,  1.46it/s]"
     ]
    },
    {
     "name": "stdout",
     "output_type": "stream",
     "text": [
      "<bos>\n",
      "    <start_of_turn>user\n",
      "    Translate the sentence into english and only return the translation:\n",
      "\n",
      "    کراچی شہر کی بہترین کوائلہ کرہائی میں سے ایک۔ بہترین ذائقہ۔ مٹن کرہائی شاندار تھی۔ اصلی شاہی کرہائی کی مختلف قسمیں جو سبز اور سفید ہیں اصل کے مقابلے میں اتنی اچھی نہیں ہیں۔ خاندانی کھانے کے لیے چھوٹا سا علاقہ لیکن چھت پر بیٹھنے کی جگہ اچھی ہے۔ یہاں پارکنگ اور ٹریفک ایک بڑا مسئلہ ہے۔<end_of_turn>\n",
      "    <start_of_turn>model\n",
      "    Karachi's best restaurant in Karachi, with the best taste. The mutton was excellent. The original royal Karachi style is much better than the green and white varieties. A small area for family meals, but the seating area is good. Parking and traffic are a big problem here. \n",
      "<end_of_turn>\n"
     ]
    },
    {
     "name": "stderr",
     "output_type": "stream",
     "text": [
      "\r",
      "469it [05:49,  1.19s/it]"
     ]
    },
    {
     "name": "stdout",
     "output_type": "stream",
     "text": [
      "<bos>\n",
      "    <start_of_turn>user\n",
      "    Translate the sentence into english and only return the translation:\n",
      "\n",
      "    پسند کیا<end_of_turn>\n",
      "    <start_of_turn>model\n",
      "    What do you like? \n",
      "<end_of_turn>\n"
     ]
    },
    {
     "name": "stderr",
     "output_type": "stream",
     "text": [
      "\r",
      "470it [05:50,  1.07it/s]"
     ]
    },
    {
     "name": "stdout",
     "output_type": "stream",
     "text": [
      "<bos>\n",
      "    <start_of_turn>user\n",
      "    Translate the sentence into english and only return the translation:\n",
      "\n",
      "    میں خاندان کے ساتھ اس ریستوراں کی تجویز کرتا ہوں بہت اچھا کھانا<end_of_turn>\n",
      "    <start_of_turn>model\n",
      "    I recommend these restaurants with my family, the food is very good. \n",
      "<end_of_turn>\n"
     ]
    },
    {
     "name": "stderr",
     "output_type": "stream",
     "text": [
      "\r",
      "471it [05:50,  1.17it/s]"
     ]
    },
    {
     "name": "stdout",
     "output_type": "stream",
     "text": [
      "<bos>\n",
      "    <start_of_turn>user\n",
      "    Translate the sentence into english and only return the translation:\n",
      "\n",
      "    برائے مہربانی ان کی واپسی تک انتظار فرمائیے۔<end_of_turn>\n",
      "    <start_of_turn>model\n",
      "    Please wait until their return. \n",
      "<end_of_turn>\n"
     ]
    },
    {
     "name": "stderr",
     "output_type": "stream",
     "text": [
      "\r",
      "472it [05:51,  1.40it/s]"
     ]
    },
    {
     "name": "stdout",
     "output_type": "stream",
     "text": [
      "<bos>\n",
      "    <start_of_turn>user\n",
      "    Translate the sentence into english and only return the translation:\n",
      "\n",
      "    لاہوری فش بسکٹ پرفیکٹ تھا، گرل سب سے خراب تھی۔<end_of_turn>\n",
      "    <start_of_turn>model\n",
      "    The Pakistani cyclist was the worst, the girl was the worst. \n",
      "<end_of_turn>\n"
     ]
    },
    {
     "name": "stderr",
     "output_type": "stream",
     "text": [
      "\r",
      "473it [05:51,  1.45it/s]"
     ]
    },
    {
     "name": "stdout",
     "output_type": "stream",
     "text": [
      "<bos>\n",
      "    <start_of_turn>user\n",
      "    Translate the sentence into english and only return the translation:\n",
      "\n",
      "    کاش میں ابھی بوسٹن میں ہوتا۔<end_of_turn>\n",
      "    <start_of_turn>model\n",
      "    I wish I was still in Boston. \n",
      "<end_of_turn>\n"
     ]
    },
    {
     "name": "stderr",
     "output_type": "stream",
     "text": [
      "\r",
      "474it [05:52,  1.61it/s]"
     ]
    },
    {
     "name": "stdout",
     "output_type": "stream",
     "text": [
      "<bos>\n",
      "    <start_of_turn>user\n",
      "    Translate the sentence into english and only return the translation:\n",
      "\n",
      "    اچھا کھانا<end_of_turn>\n",
      "    <start_of_turn>model\n",
      "    Good food \n",
      "<end_of_turn>\n"
     ]
    },
    {
     "name": "stderr",
     "output_type": "stream",
     "text": [
      "\r",
      "475it [05:52,  2.00it/s]"
     ]
    },
    {
     "name": "stdout",
     "output_type": "stream",
     "text": [
      "<bos>\n",
      "    <start_of_turn>user\n",
      "    Translate the sentence into english and only return the translation:\n",
      "\n",
      "    جوانی میں منتقلی ایک دروازے کی طرح نہیں ہے جس سے آپ صرف ایک خاص عمر کو پہنچنے پر گزرتے ہیں۔<end_of_turn>\n",
      "    <start_of_turn>model\n",
      "    Transitioning into young adulthood isn't like passing through a door that leads to a specific age. \n",
      "<end_of_turn>\n"
     ]
    },
    {
     "name": "stderr",
     "output_type": "stream",
     "text": [
      "\r",
      "476it [05:53,  1.60it/s]"
     ]
    },
    {
     "name": "stdout",
     "output_type": "stream",
     "text": [
      "<bos>\n",
      "    <start_of_turn>user\n",
      "    Translate the sentence into english and only return the translation:\n",
      "\n",
      "    اگر آپ کھانے کے شوقین ہیں تو، بی بی کیو حیرت انگیز ہے! صرف خرابی جمالیات کے ساتھ بیٹھنے کی جگہ ہے۔<end_of_turn>\n",
      "    <start_of_turn>model\n",
      "    If you're hungry, then BB's amazing! It's just a place to sit with bad aesthetics. \n",
      "<end_of_turn>\n"
     ]
    },
    {
     "name": "stderr",
     "output_type": "stream",
     "text": [
      "\r",
      "477it [05:54,  1.32it/s]"
     ]
    },
    {
     "name": "stdout",
     "output_type": "stream",
     "text": [
      "<bos>\n",
      "    <start_of_turn>user\n",
      "    Translate the sentence into english and only return the translation:\n",
      "\n",
      "    کھانے کو قابل رحم کرنے کا حکم دیا گیا، سرخ اٹن کراہی دی گئی، کالا گوشت بالکل نرم نہیں تھا اور ربڑ چبانے کی طرح محسوس ہوتا تھا۔<end_of_turn>\n",
      "    <start_of_turn>model\n",
      "    The food was deemed fit for consumption, the red meat was served, the black meat was not at all tender and felt like it was being chewed like a piece of flesh. \n",
      "<end_of_turn>\n"
     ]
    },
    {
     "name": "stderr",
     "output_type": "stream",
     "text": [
      "\r",
      "478it [05:55,  1.02it/s]"
     ]
    },
    {
     "name": "stdout",
     "output_type": "stream",
     "text": [
      "<bos>\n",
      "    <start_of_turn>user\n",
      "    Translate the sentence into english and only return the translation:\n",
      "\n",
      "     یہ صرف نقطہ ہے.<end_of_turn>\n",
      "    <start_of_turn>model\n",
      "    This is just a point. \n",
      "<end_of_turn>\n"
     ]
    },
    {
     "name": "stderr",
     "output_type": "stream",
     "text": [
      "\r",
      "479it [05:56,  1.25it/s]"
     ]
    },
    {
     "name": "stdout",
     "output_type": "stream",
     "text": [
      "<bos>\n",
      "    <start_of_turn>user\n",
      "    Translate the sentence into english and only return the translation:\n",
      "\n",
      "    دیسی کھانے کے لیے اچھی جگہ<end_of_turn>\n",
      "    <start_of_turn>model\n",
      "    A good place to eat. \n",
      "<end_of_turn>\n"
     ]
    },
    {
     "name": "stderr",
     "output_type": "stream",
     "text": [
      "\r",
      "480it [05:56,  1.48it/s]"
     ]
    },
    {
     "name": "stdout",
     "output_type": "stream",
     "text": [
      "<bos>\n",
      "    <start_of_turn>user\n",
      "    Translate the sentence into english and only return the translation:\n",
      "\n",
      "    ا ل ر یہ آیات ہیں کتاب الٰہی اور قرآن مبین کی<end_of_turn>\n",
      "    <start_of_turn>model\n",
      "    These are the verses of the Book of God and the Quran, revealed. \n",
      "<end_of_turn>\n"
     ]
    },
    {
     "name": "stderr",
     "output_type": "stream",
     "text": [
      "\r",
      "481it [05:57,  1.45it/s]"
     ]
    },
    {
     "name": "stdout",
     "output_type": "stream",
     "text": [
      "<bos>\n",
      "    <start_of_turn>user\n",
      "    Translate the sentence into english and only return the translation:\n",
      "\n",
      "    مکھن میں مزے دار تلے ہوئے کباب<end_of_turn>\n",
      "    <start_of_turn>model\n",
      "    Spicy kebabs in the kitchen \n",
      "<end_of_turn>\n"
     ]
    },
    {
     "name": "stderr",
     "output_type": "stream",
     "text": [
      "\r",
      "482it [05:57,  1.68it/s]"
     ]
    },
    {
     "name": "stdout",
     "output_type": "stream",
     "text": [
      "<bos>\n",
      "    <start_of_turn>user\n",
      "    Translate the sentence into english and only return the translation:\n",
      "\n",
      "    zabardast. پورے شہر میں بہترین نہاری. حفظان صحت اور مزیدار........<end_of_turn>\n",
      "    <start_of_turn>model\n",
      "    Amazing. The best in the whole city.  Health preserved and more. \n",
      "<end_of_turn>\n"
     ]
    },
    {
     "name": "stderr",
     "output_type": "stream",
     "text": [
      "\r",
      "483it [05:58,  1.58it/s]"
     ]
    },
    {
     "name": "stdout",
     "output_type": "stream",
     "text": [
      "<bos>\n",
      "    <start_of_turn>user\n",
      "    Translate the sentence into english and only return the translation:\n",
      "\n",
      "    بہت کفایتی لیکن بہت اوسط ڈوسا<end_of_turn>\n",
      "    <start_of_turn>model\n",
      "    It's quite sufficient, but average. \n",
      "<end_of_turn>\n"
     ]
    },
    {
     "name": "stderr",
     "output_type": "stream",
     "text": [
      "\r",
      "484it [05:59,  1.69it/s]"
     ]
    },
    {
     "name": "stdout",
     "output_type": "stream",
     "text": [
      "<bos>\n",
      "    <start_of_turn>user\n",
      "    Translate the sentence into english and only return the translation:\n",
      "\n",
      "    گالی دینا گناہ ہے۔<end_of_turn>\n",
      "    <start_of_turn>model\n",
      "    It's a sin to be boastful. \n",
      "<end_of_turn>\n"
     ]
    },
    {
     "name": "stderr",
     "output_type": "stream",
     "text": [
      "\r",
      "485it [05:59,  1.75it/s]"
     ]
    },
    {
     "name": "stdout",
     "output_type": "stream",
     "text": [
      "<bos>\n",
      "    <start_of_turn>user\n",
      "    Translate the sentence into english and only return the translation:\n",
      "\n",
      "    لذیذ کھانے۔ شاندار<end_of_turn>\n",
      "    <start_of_turn>model\n",
      "    Delicious to eat. Wonderful. \n",
      "<end_of_turn>\n"
     ]
    },
    {
     "name": "stderr",
     "output_type": "stream",
     "text": [
      "\r",
      "486it [05:59,  1.95it/s]"
     ]
    },
    {
     "name": "stdout",
     "output_type": "stream",
     "text": [
      "<bos>\n",
      "    <start_of_turn>user\n",
      "    Translate the sentence into english and only return the translation:\n",
      "\n",
      "    اچھا ریستوراں<end_of_turn>\n",
      "    <start_of_turn>model\n",
      "    Good restaurants \n",
      "<end_of_turn>\n"
     ]
    },
    {
     "name": "stderr",
     "output_type": "stream",
     "text": [
      "\r",
      "487it [06:00,  2.34it/s]"
     ]
    },
    {
     "name": "stdout",
     "output_type": "stream",
     "text": [
      "<bos>\n",
      "    <start_of_turn>user\n",
      "    Translate the sentence into english and only return the translation:\n",
      "\n",
      "     میں یہاں مزید نہیں رہ سکتا<end_of_turn>\n",
      "    <start_of_turn>model\n",
      "    I cannot stay here anymore. \n",
      "<end_of_turn>\n"
     ]
    },
    {
     "name": "stderr",
     "output_type": "stream",
     "text": [
      "\r",
      "488it [06:00,  2.43it/s]"
     ]
    },
    {
     "name": "stdout",
     "output_type": "stream",
     "text": [
      "<bos>\n",
      "    <start_of_turn>user\n",
      "    Translate the sentence into english and only return the translation:\n",
      "\n",
      "    کھانا پوائنٹ پر تھا۔<end_of_turn>\n",
      "    <start_of_turn>model\n",
      "    There was a food point. \n",
      "<end_of_turn>\n"
     ]
    },
    {
     "name": "stderr",
     "output_type": "stream",
     "text": [
      "\r",
      "489it [06:00,  2.49it/s]"
     ]
    },
    {
     "name": "stdout",
     "output_type": "stream",
     "text": [
      "<bos>\n",
      "    <start_of_turn>user\n",
      "    Translate the sentence into english and only return the translation:\n",
      "\n",
      "    ضد نہ کرو۔<end_of_turn>\n",
      "    <start_of_turn>model\n",
      "    Don't do that. \n",
      "<end_of_turn>\n"
     ]
    },
    {
     "name": "stderr",
     "output_type": "stream",
     "text": [
      "\r",
      "490it [06:01,  2.54it/s]"
     ]
    },
    {
     "name": "stdout",
     "output_type": "stream",
     "text": [
      "<bos>\n",
      "    <start_of_turn>user\n",
      "    Translate the sentence into english and only return the translation:\n",
      "\n",
      "    اچھا امتحان<end_of_turn>\n",
      "    <start_of_turn>model\n",
      "    Good exam \n",
      "<end_of_turn>\n"
     ]
    },
    {
     "name": "stderr",
     "output_type": "stream",
     "text": [
      "\r",
      "491it [06:01,  2.92it/s]"
     ]
    },
    {
     "name": "stdout",
     "output_type": "stream",
     "text": [
      "<bos>\n",
      "    <start_of_turn>user\n",
      "    Translate the sentence into english and only return the translation:\n",
      "\n",
      "    یِسُوع نے اُن کی طرف دیکھ کر کہا کہ یہ آدمِیوں سے تو نہیں ہوسکتا لیکِن خُدا سے سب کُچھ ہوسکتا ہے ۔<end_of_turn>\n",
      "    <start_of_turn>model\n",
      "    Jesus said, looking at them, that it is not possible for him to be human, but everything is possible with God. \n",
      "<end_of_turn>\n"
     ]
    },
    {
     "name": "stderr",
     "output_type": "stream",
     "text": [
      "\r",
      "492it [06:02,  1.75it/s]"
     ]
    },
    {
     "name": "stdout",
     "output_type": "stream",
     "text": [
      "<bos>\n",
      "    <start_of_turn>user\n",
      "    Translate the sentence into english and only return the translation:\n",
      "\n",
      "    یِسُوع نے اُس سے کہا اگر تُو کامِل ہونا چاہتا ہے تو جا اپنا مال و اسباب بیچ کر غریبوں کو دے ۔ تُجھے آسمان پر خزانہ مِلے گا اور آکر میرے پِیچھے ہولے ۔<end_of_turn>\n",
      "    <start_of_turn>model\n",
      "    \"If you want to be truly fulfilled, sell your possessions and give the money to the poor. You will have a treasure in the heavens and come to me.\" \n",
      "<end_of_turn>\n"
     ]
    },
    {
     "name": "stderr",
     "output_type": "stream",
     "text": [
      "\r",
      "493it [06:04,  1.21it/s]"
     ]
    },
    {
     "name": "stdout",
     "output_type": "stream",
     "text": [
      "<bos>\n",
      "    <start_of_turn>user\n",
      "    Translate the sentence into english and only return the translation:\n",
      "\n",
      "    شاندار ٹیسٹ<end_of_turn>\n",
      "    <start_of_turn>model\n",
      "    Chanadar test \n",
      "<end_of_turn>\n"
     ]
    },
    {
     "name": "stderr",
     "output_type": "stream",
     "text": [
      "\r",
      "494it [06:04,  1.52it/s]"
     ]
    },
    {
     "name": "stdout",
     "output_type": "stream",
     "text": [
      "<bos>\n",
      "    <start_of_turn>user\n",
      "    Translate the sentence into english and only return the translation:\n",
      "\n",
      "    اچھا کھانا<end_of_turn>\n",
      "    <start_of_turn>model\n",
      "    Good food \n",
      "<end_of_turn>\n"
     ]
    },
    {
     "name": "stderr",
     "output_type": "stream",
     "text": [
      "\r",
      "495it [06:04,  1.90it/s]"
     ]
    },
    {
     "name": "stdout",
     "output_type": "stream",
     "text": [
      "<bos>\n",
      "    <start_of_turn>user\n",
      "    Translate the sentence into english and only return the translation:\n",
      "\n",
      "    سڑک کنارے بیٹھنا۔ مکمل طور پر تجاوزات کا سیٹ اپ۔ قیمتیں اعلی ہیں معیار کم ہے۔ تیل بالکل کالا ہے اور بدبو آتی ہے۔ واقعی بہت گندا ماحول۔ تجویز کردہ نہیں<end_of_turn>\n",
      "    <start_of_turn>model\n",
      "    \"Sitting on the roadside, a complete setup for the traffic. Prices are high, but the quality is low. The oil is pure and smells bad. The atmosphere is really bad. Not recommended.\" \n",
      "<end_of_turn>\n"
     ]
    },
    {
     "name": "stderr",
     "output_type": "stream",
     "text": [
      "\r",
      "496it [06:06,  1.15it/s]"
     ]
    },
    {
     "name": "stdout",
     "output_type": "stream",
     "text": [
      "<bos>\n",
      "    <start_of_turn>user\n",
      "    Translate the sentence into english and only return the translation:\n",
      "\n",
      "    ہم نے ان کا لال چکن کراہی آزمایا، اچھا ذائقہ، تجویز کیا!!<end_of_turn>\n",
      "    <start_of_turn>model\n",
      "    We tested their red chickpeas, it's a good taste, I recommend it!! \n",
      "<end_of_turn>\n"
     ]
    },
    {
     "name": "stderr",
     "output_type": "stream",
     "text": [
      "\r",
      "497it [06:06,  1.18it/s]"
     ]
    },
    {
     "name": "stdout",
     "output_type": "stream",
     "text": [
      "<bos>\n",
      "    <start_of_turn>user\n",
      "    Translate the sentence into english and only return the translation:\n",
      "\n",
      "    اچھی چائے<end_of_turn>\n",
      "    <start_of_turn>model\n",
      "    Good tea \n",
      "<end_of_turn>\n"
     ]
    },
    {
     "name": "stderr",
     "output_type": "stream",
     "text": [
      "\r",
      "498it [06:07,  1.51it/s]"
     ]
    },
    {
     "name": "stdout",
     "output_type": "stream",
     "text": [
      "<bos>\n",
      "    <start_of_turn>user\n",
      "    Translate the sentence into english and only return the translation:\n",
      "\n",
      "    کھانا اچھا تھا، ہم نے مٹن، چکن اور بیف کراہی کا آرڈر دیا، ہر ایک آدھا کلو، ہم 6 افراد تھے، بہت اچھا کھایا، ذائقہ اچھا تھا، جس گلی میں بمبے کوئلہ واقع ہے وہ بہت بھیڑ ہے، وہاں سی ایس آر کے لیے پارکنگ کی کوئی جگہ نہیں تھی، صرف بائیک سوار تھے۔ کھانے سے لطف اندوز ہوں گے۔<end_of_turn>\n",
      "    <start_of_turn>model\n",
      "    The food was good, we ordered mutton, chicken and beef biryani, each half a kilo, we were 6 people, we ate it very well, the taste was good, the place where the biryani is located in that street is very crowded, there was no parking space for the CSR, there were only bikers. We will be enjoying the food. \n",
      "<end_of_turn>\n"
     ]
    },
    {
     "name": "stderr",
     "output_type": "stream",
     "text": [
      "\r",
      "499it [06:10,  1.34s/it]"
     ]
    },
    {
     "name": "stdout",
     "output_type": "stream",
     "text": [
      "<bos>\n",
      "    <start_of_turn>user\n",
      "    Translate the sentence into english and only return the translation:\n",
      "\n",
      "    ٹھیک ہے کھانے میں کافی مختلف قسمیں نہیں رکھیں<end_of_turn>\n",
      "    <start_of_turn>model\n",
      "    Don't have too many different kinds of food for eating. \n",
      "<end_of_turn>\n"
     ]
    },
    {
     "name": "stderr",
     "output_type": "stream",
     "text": [
      "\r",
      "500it [06:10,  1.13s/it]"
     ]
    },
    {
     "name": "stdout",
     "output_type": "stream",
     "text": [
      "<bos>\n",
      "    <start_of_turn>user\n",
      "    Translate the sentence into english and only return the translation:\n",
      "\n",
      "    وہاں بہت اچھا تجربہ ہوا۔ ذائقہ سب اچھا ہے لیکن مجھے سنجیدگی سے قیمتیں تھوڑی زیادہ لگتی ہیں۔<end_of_turn>\n",
      "    <start_of_turn>model\n",
      "    It was a great experience there. The taste is good, but I feel the prices are a bit high. \n",
      "<end_of_turn>\n"
     ]
    },
    {
     "name": "stderr",
     "output_type": "stream",
     "text": [
      "\r",
      "501it [06:11,  1.09s/it]"
     ]
    },
    {
     "name": "stdout",
     "output_type": "stream",
     "text": [
      "<bos>\n",
      "    <start_of_turn>user\n",
      "    Translate the sentence into english and only return the translation:\n",
      "\n",
      "    مچھلی سے محبت کرنے والوں کے لیے اچھی جگہ<end_of_turn>\n",
      "    <start_of_turn>model\n",
      "    A good place for those who love fish. \n",
      "<end_of_turn>\n"
     ]
    },
    {
     "name": "stderr",
     "output_type": "stream",
     "text": [
      "\r",
      "502it [06:12,  1.10it/s]"
     ]
    },
    {
     "name": "stdout",
     "output_type": "stream",
     "text": [
      "<bos>\n",
      "    <start_of_turn>user\n",
      "    Translate the sentence into english and only return the translation:\n",
      "\n",
      "    جی ہاں.<end_of_turn>\n",
      "    <start_of_turn>model\n",
      "    Yes. \n",
      "<end_of_turn>\n"
     ]
    },
    {
     "name": "stderr",
     "output_type": "stream",
     "text": [
      "\r",
      "503it [06:12,  1.42it/s]"
     ]
    },
    {
     "name": "stdout",
     "output_type": "stream",
     "text": [
      "<bos>\n",
      "    <start_of_turn>user\n",
      "    Translate the sentence into english and only return the translation:\n",
      "\n",
      "    تالی دونوں ہاتھوں سے بجتی ہے۔<end_of_turn>\n",
      "    <start_of_turn>model\n",
      "    The ball is thrown with both hands. \n",
      "<end_of_turn>\n"
     ]
    },
    {
     "name": "stderr",
     "output_type": "stream",
     "text": [
      "\r",
      "504it [06:12,  1.59it/s]"
     ]
    },
    {
     "name": "stdout",
     "output_type": "stream",
     "text": [
      "<bos>\n",
      "    <start_of_turn>user\n",
      "    Translate the sentence into english and only return the translation:\n",
      "\n",
      "    (گوگل کا ترجمہ) گھر گھر بہترین نقشہ (اصل) بہترین نقشہ گھر سے گھر تک<end_of_turn>\n",
      "    <start_of_turn>model\n",
      "    \"Home to home, the best map (original) is the best map, from house to house.\" \n",
      "<end_of_turn>\n"
     ]
    },
    {
     "name": "stderr",
     "output_type": "stream",
     "text": [
      "\r",
      "505it [06:13,  1.38it/s]"
     ]
    },
    {
     "name": "stdout",
     "output_type": "stream",
     "text": [
      "<bos>\n",
      "    <start_of_turn>user\n",
      "    Translate the sentence into english and only return the translation:\n",
      "\n",
      "    اچھی کوالٹی کا کھانا حسب توقع، ماحول بہت اچھا تھا، چھت پر بنایا گیا تھا اس لیے وہاں ہوا کا بہاؤ بھی بہت اچھا تھا۔ مالی لحاظ سے یہ زیادہ مہنگا بھی نہیں ہے۔ مکمل قبضے کی وجہ سے صرف انتظار کا وقت پریشان کن ہے۔<end_of_turn>\n",
      "    <start_of_turn>model\n",
      "    The food was as expected, the atmosphere was very good, it was built on a roof, so the air was very good there. It's not too expensive either. The waiting time is a bit frustrating because of the full payment. \n",
      "<end_of_turn>\n"
     ]
    },
    {
     "name": "stderr",
     "output_type": "stream",
     "text": [
      "\r",
      "506it [06:15,  1.10s/it]"
     ]
    },
    {
     "name": "stdout",
     "output_type": "stream",
     "text": [
      "<bos>\n",
      "    <start_of_turn>user\n",
      "    Translate the sentence into english and only return the translation:\n",
      "\n",
      "    6|80|اور ان کی قوم ان سے بحث کرنے لگی تو انہوں نے کہا کہ تم مجھ سے خدا کے بارےمیں (کیا) بحث کرتے ہو اس نے تو مجھے سیدھا رستہ دکھا دیا ہے۔ اور جن چیزوں کو تم اس کا شریک بناتے ہو میں ان سے نہیں ڈرتا۔ ہاں جو میرا پروردگار چاہے۔ میرا پروردگار اپنے علم سے ہر چیز پر احاطہ کئے ہوئے ہے۔ کیا تم خیال نہیں کرتے۔ <end_of_turn>\n",
      "    <start_of_turn>model\n",
      "    If a people from another tribe were to discuss religion with me, they would say that I was guided to the right path by God. And I am not afraid of the things that you share in with me. Yes, whatever my Lord desires. My Lord is encompassed by knowledge over everything. Don't you think about this? \n",
      "<end_of_turn>\n"
     ]
    },
    {
     "name": "stderr",
     "output_type": "stream",
     "text": [
      "\r",
      "507it [06:18,  1.58s/it]"
     ]
    },
    {
     "name": "stdout",
     "output_type": "stream",
     "text": [
      "<bos>\n",
      "    <start_of_turn>user\n",
      "    Translate the sentence into english and only return the translation:\n",
      "\n",
      "    مناسب نرخ، دوستوں کے بیتھک کے لیے بہترین<end_of_turn>\n",
      "    <start_of_turn>model\n",
      "    Best rate for friends' gatherings. \n",
      "<end_of_turn>\n"
     ]
    },
    {
     "name": "stderr",
     "output_type": "stream",
     "text": [
      "\r",
      "508it [06:18,  1.23s/it]"
     ]
    },
    {
     "name": "stdout",
     "output_type": "stream",
     "text": [
      "<bos>\n",
      "    <start_of_turn>user\n",
      "    Translate the sentence into english and only return the translation:\n",
      "\n",
      "    مجھے یہ پسند ہے!<end_of_turn>\n",
      "    <start_of_turn>model\n",
      "    I like this! \n",
      "<end_of_turn>\n"
     ]
    },
    {
     "name": "stderr",
     "output_type": "stream",
     "text": [
      "\r",
      "509it [06:19,  1.05it/s]"
     ]
    },
    {
     "name": "stdout",
     "output_type": "stream",
     "text": [
      "<bos>\n",
      "    <start_of_turn>user\n",
      "    Translate the sentence into english and only return the translation:\n",
      "\n",
      "    (گوگل کے ذریعہ ترجمہ شدہ) مالائی بوٹی افف اینڈ ذائقہ پیسہ وسول<end_of_turn>\n",
      "    <start_of_turn>model\n",
      "    Malaysian food is delicious and affordable. \n",
      "<end_of_turn>\n"
     ]
    },
    {
     "name": "stderr",
     "output_type": "stream",
     "text": [
      "\r",
      "510it [06:19,  1.25it/s]"
     ]
    },
    {
     "name": "stdout",
     "output_type": "stream",
     "text": [
      "<bos>\n",
      "    <start_of_turn>user\n",
      "    Translate the sentence into english and only return the translation:\n",
      "\n",
      "     ڈپٹی کے جرائم اور مجرموں کے علم کے ساتھ، نوجوان کے کہے گئے ہر لفظ نے اسے اپنی بے گناہی کا زیادہ سے زیادہ یقین دلایا۔<end_of_turn>\n",
      "    <start_of_turn>model\n",
      "    With the knowledge of crimes and criminals, every word the young man spoke convinced him of his innocence. \n",
      "<end_of_turn>\n"
     ]
    },
    {
     "name": "stderr",
     "output_type": "stream",
     "text": [
      "\r",
      "511it [06:20,  1.20it/s]"
     ]
    },
    {
     "name": "stdout",
     "output_type": "stream",
     "text": [
      "<bos>\n",
      "    <start_of_turn>user\n",
      "    Translate the sentence into english and only return the translation:\n",
      "\n",
      "    nan<end_of_turn>\n",
      "    <start_of_turn>model\n",
      "    not a word \n",
      "<end_of_turn>\n"
     ]
    },
    {
     "name": "stderr",
     "output_type": "stream",
     "text": [
      "\r",
      "512it [06:20,  1.51it/s]"
     ]
    },
    {
     "name": "stdout",
     "output_type": "stream",
     "text": [
      "<bos>\n",
      "    <start_of_turn>user\n",
      "    Translate the sentence into english and only return the translation:\n",
      "\n",
      "    پہلے جیسا اچھا نہیں۔<end_of_turn>\n",
      "    <start_of_turn>model\n",
      "    It's not good like that. \n",
      "<end_of_turn>\n"
     ]
    },
    {
     "name": "stderr",
     "output_type": "stream",
     "text": [
      "\r",
      "513it [06:21,  1.67it/s]"
     ]
    },
    {
     "name": "stdout",
     "output_type": "stream",
     "text": [
      "<bos>\n",
      "    <start_of_turn>user\n",
      "    Translate the sentence into english and only return the translation:\n",
      "\n",
      "    یہ واقعی بہت اچھا تھا لیکن خواتین کے واش روم کو صاف کرنے کی ضرورت ہے۔<end_of_turn>\n",
      "    <start_of_turn>model\n",
      "    It was really good, but the women's washroom needs to be cleaned. \n",
      "<end_of_turn>\n"
     ]
    },
    {
     "name": "stderr",
     "output_type": "stream",
     "text": [
      "\r",
      "514it [06:22,  1.52it/s]"
     ]
    },
    {
     "name": "stdout",
     "output_type": "stream",
     "text": [
      "<bos>\n",
      "    <start_of_turn>user\n",
      "    Translate the sentence into english and only return the translation:\n",
      "\n",
      "    بہترین کباب اور رول پراٹھے۔ بے مثال ذائقہ اور یہ ہر بار بہتر ہوتا رہتا ہے۔<end_of_turn>\n",
      "    <start_of_turn>model\n",
      "    The best kebabs and rolls. Unmatched taste and it gets better every time. \n",
      "<end_of_turn>\n"
     ]
    },
    {
     "name": "stderr",
     "output_type": "stream",
     "text": [
      "\r",
      "515it [06:22,  1.43it/s]"
     ]
    },
    {
     "name": "stdout",
     "output_type": "stream",
     "text": [
      "<bos>\n",
      "    <start_of_turn>user\n",
      "    Translate the sentence into english and only return the translation:\n",
      "\n",
      "    4|75|اور تم کو کیا ہوا ہے کہ خدا کی راہ میں اور اُن بےبس مردوں اور عورتوں اور بچوں کی خاطر نہیں لڑتے جو دعائیں کیا کرتے ہیں کہ اے پروردگار ہم کو اس شہر سے جس کے رہنے والے ظالم ہیں نکال کر کہیں اور لے جا۔ اور اپنی طرف سے کسی کو ہمارا حامی بنا۔ اور اپنی ہی طرف سے کسی کو ہمارا مددگار مقرر فرما <end_of_turn>\n",
      "    <start_of_turn>model\n",
      "    \"They are not fighting in the path of God, those pious men and women and children who pray for deliverance from the tyrant city, and for a protector to be sent to help us. And they pray for a protector to be sent to help us. And they pray for a protector to be sent to help us.\" \n",
      "<end_of_turn>\n"
     ]
    },
    {
     "name": "stderr",
     "output_type": "stream",
     "text": [
      "\r",
      "516it [06:25,  1.28s/it]"
     ]
    },
    {
     "name": "stdout",
     "output_type": "stream",
     "text": [
      "<bos>\n",
      "    <start_of_turn>user\n",
      "    Translate the sentence into english and only return the translation:\n",
      "\n",
      "    شاندار رات کا کھانا، شاندار ماحول اور زبردست سروس<end_of_turn>\n",
      "    <start_of_turn>model\n",
      "    Delicious food, a pleasant atmosphere, and excellent service. \n",
      "<end_of_turn>\n"
     ]
    },
    {
     "name": "stderr",
     "output_type": "stream",
     "text": [
      "\r",
      "517it [06:26,  1.07s/it]"
     ]
    },
    {
     "name": "stdout",
     "output_type": "stream",
     "text": [
      "<bos>\n",
      "    <start_of_turn>user\n",
      "    Translate the sentence into english and only return the translation:\n",
      "\n",
      "    شاہی چتک بوٹی کے لیے جائیں، کسی اور چیز سے فرق نہیں پڑتا<end_of_turn>\n",
      "    <start_of_turn>model\n",
      "    The difference is not in anything else, go for the royal stamp for the royal flower. \n",
      "<end_of_turn>\n"
     ]
    },
    {
     "name": "stderr",
     "output_type": "stream",
     "text": [
      "\r",
      "518it [06:26,  1.00it/s]"
     ]
    },
    {
     "name": "stdout",
     "output_type": "stream",
     "text": [
      "<bos>\n",
      "    <start_of_turn>user\n",
      "    Translate the sentence into english and only return the translation:\n",
      "\n",
      "    اب جب میری بھابھی اس معاملے کو اس طرح ڈالتی ہے، اپنی خوبصورت بھنوؤں کو مروڑتی ہے، اپنے ننھے ننھے ہاتھ مروڑتی ہے، اور آنکھوں میں اشک بار ہوتی ہے، یہ سب میرے جیسے ایک بیکار دھوکے کی وجہ سے ہوتا ہے، جس کے لیے اس کی کوئی فطری ذمہ داری نہیں ہوتی۔ , I am compunction کے ساتھ دورہ کیا.<end_of_turn>\n",
      "    <start_of_turn>model\n",
      "    I am going to visit with a sense of compunction. \n",
      "<end_of_turn>\n"
     ]
    },
    {
     "name": "stderr",
     "output_type": "stream",
     "text": [
      "\r",
      "519it [06:27,  1.14it/s]"
     ]
    },
    {
     "name": "stdout",
     "output_type": "stream",
     "text": [
      "<bos>\n",
      "    <start_of_turn>user\n",
      "    Translate the sentence into english and only return the translation:\n",
      "\n",
      "    فیملی کے ساتھ رات کے کھانے کے لیے اچھی جگہ<end_of_turn>\n",
      "    <start_of_turn>model\n",
      "    Good place for dinner with family. \n",
      "<end_of_turn>\n"
     ]
    },
    {
     "name": "stderr",
     "output_type": "stream",
     "text": [
      "\r",
      "520it [06:28,  1.35it/s]"
     ]
    },
    {
     "name": "stdout",
     "output_type": "stream",
     "text": [
      "<bos>\n",
      "    <start_of_turn>user\n",
      "    Translate the sentence into english and only return the translation:\n",
      "\n",
      "    کویلا کراہی کا منفرد ذائقہ کھلی ہوا میں چھت پر کھانے پر پیش کیا گیا۔<end_of_turn>\n",
      "    <start_of_turn>model\n",
      "    The unique taste of Kulla Krah's was presented in the open air, on a plate, for eating. \n",
      "<end_of_turn>\n"
     ]
    },
    {
     "name": "stderr",
     "output_type": "stream",
     "text": [
      "\r",
      "521it [06:29,  1.19it/s]"
     ]
    },
    {
     "name": "stdout",
     "output_type": "stream",
     "text": [
      "<bos>\n",
      "    <start_of_turn>user\n",
      "    Translate the sentence into english and only return the translation:\n",
      "\n",
      "    اور سارا شہر دروازہ پر جمع ہوگیا ۔<end_of_turn>\n",
      "    <start_of_turn>model\n",
      "    Sara arrived at the gate of the city. \n",
      "<end_of_turn>\n"
     ]
    },
    {
     "name": "stderr",
     "output_type": "stream",
     "text": [
      "\r",
      "522it [06:29,  1.36it/s]"
     ]
    },
    {
     "name": "stdout",
     "output_type": "stream",
     "text": [
      "<bos>\n",
      "    <start_of_turn>user\n",
      "    Translate the sentence into english and only return the translation:\n",
      "\n",
      "    دنیا کا عیش چند روزہ ہے آخرکار اُن کے لیے دردناک سزا ہے<end_of_turn>\n",
      "    <start_of_turn>model\n",
      "    The world's pleasure is short, in the end, it's a painful punishment for them. \n",
      "<end_of_turn>\n"
     ]
    },
    {
     "name": "stderr",
     "output_type": "stream",
     "text": [
      "\r",
      "523it [06:30,  1.25it/s]"
     ]
    },
    {
     "name": "stdout",
     "output_type": "stream",
     "text": [
      "<bos>\n",
      "    <start_of_turn>user\n",
      "    Translate the sentence into english and only return the translation:\n",
      "\n",
      "    ذائقہ اچھا ہے۔ قابل انتظام ماحول۔ قیمت بھی اچھی ہے۔ حفظان صحت کے بارے میں زیادہ نہیں کہہ سکتا<end_of_turn>\n",
      "    <start_of_turn>model\n",
      "    The food is good. The atmosphere is manageable. The price is also good. I can't say much about health. \n",
      "<end_of_turn>\n"
     ]
    },
    {
     "name": "stderr",
     "output_type": "stream",
     "text": [
      "\r",
      "524it [06:31,  1.12it/s]"
     ]
    },
    {
     "name": "stdout",
     "output_type": "stream",
     "text": [
      "<bos>\n",
      "    <start_of_turn>user\n",
      "    Translate the sentence into english and only return the translation:\n",
      "\n",
      "    کھانا اچھا ہے لیکن بیٹھنے کا انتظام اتنا اچھا نہیں ہے۔<end_of_turn>\n",
      "    <start_of_turn>model\n",
      "    The food is good, but the seating arrangement is not that good. \n",
      "<end_of_turn>\n"
     ]
    },
    {
     "name": "stderr",
     "output_type": "stream",
     "text": [
      "\r",
      "525it [06:32,  1.21it/s]"
     ]
    },
    {
     "name": "stdout",
     "output_type": "stream",
     "text": [
      "<bos>\n",
      "    <start_of_turn>user\n",
      "    Translate the sentence into english and only return the translation:\n",
      "\n",
      "    (گوگل کی طرف سے ترجمہ شدہ) Acha hy (اصل) Acha hy<end_of_turn>\n",
      "    <start_of_turn>model\n",
      "    \"This is the original\" \n",
      "<end_of_turn>\n"
     ]
    },
    {
     "name": "stderr",
     "output_type": "stream",
     "text": [
      "\r",
      "526it [06:32,  1.45it/s]"
     ]
    },
    {
     "name": "stdout",
     "output_type": "stream",
     "text": [
      "<bos>\n",
      "    <start_of_turn>user\n",
      "    Translate the sentence into english and only return the translation:\n",
      "\n",
      "    بہترین خوراک اور مناسب قیمت<end_of_turn>\n",
      "    <start_of_turn>model\n",
      "    Best food and good prices \n",
      "<end_of_turn>\n"
     ]
    },
    {
     "name": "stderr",
     "output_type": "stream",
     "text": [
      "\r",
      "527it [06:33,  1.71it/s]"
     ]
    },
    {
     "name": "stdout",
     "output_type": "stream",
     "text": [
      "<bos>\n",
      "    <start_of_turn>user\n",
      "    Translate the sentence into english and only return the translation:\n",
      "\n",
      "    (گوگل کے ذریعہ ترجمہ کردہ) مزیدار، مزیدار ذائقہ دار<end_of_turn>\n",
      "    <start_of_turn>model\n",
      "    More delicious, more delicious. \n",
      "<end_of_turn>\n"
     ]
    },
    {
     "name": "stderr",
     "output_type": "stream",
     "text": [
      "\r",
      "528it [06:33,  1.91it/s]"
     ]
    },
    {
     "name": "stdout",
     "output_type": "stream",
     "text": [
      "<bos>\n",
      "    <start_of_turn>user\n",
      "    Translate the sentence into english and only return the translation:\n",
      "\n",
      "    شروع میں یہ واقعی اچھا تھا لیکن اب انہوں نے اپنی قیمتیں بڑھا دی ہیں اور اپنے معیار اور ذائقہ کو کم کر دیا ہے۔<end_of_turn>\n",
      "    <start_of_turn>model\n",
      "    It was good at the start, but now they've raised their prices and lowered their standards and taste. \n",
      "<end_of_turn>\n"
     ]
    },
    {
     "name": "stderr",
     "output_type": "stream",
     "text": [
      "\r",
      "529it [06:34,  1.51it/s]"
     ]
    },
    {
     "name": "stdout",
     "output_type": "stream",
     "text": [
      "<bos>\n",
      "    <start_of_turn>user\n",
      "    Translate the sentence into english and only return the translation:\n",
      "\n",
      "    کوئلہ کرہائی اور بونلیس ہانڈی خاص ہے۔<end_of_turn>\n",
      "    <start_of_turn>model\n",
      "    The special is the one with the cheese and the bun. \n",
      "<end_of_turn>\n"
     ]
    },
    {
     "name": "stderr",
     "output_type": "stream",
     "text": [
      "\r",
      "530it [06:34,  1.55it/s]"
     ]
    },
    {
     "name": "stdout",
     "output_type": "stream",
     "text": [
      "<bos>\n",
      "    <start_of_turn>user\n",
      "    Translate the sentence into english and only return the translation:\n",
      "\n",
      "    سجی کا اوسط ذائقہ<end_of_turn>\n",
      "    <start_of_turn>model\n",
      "    Average taste of Saji \n",
      "<end_of_turn>\n"
     ]
    },
    {
     "name": "stderr",
     "output_type": "stream",
     "text": [
      "\r",
      "531it [06:35,  1.81it/s]"
     ]
    },
    {
     "name": "stdout",
     "output_type": "stream",
     "text": [
      "<bos>\n",
      "    <start_of_turn>user\n",
      "    Translate the sentence into english and only return the translation:\n",
      "\n",
      "    کھانا اچھا لیکن بیٹھنے کا مناسب انتظام نہیں۔<end_of_turn>\n",
      "    <start_of_turn>model\n",
      "    The food is good, but there is no suitable arrangement for sitting. \n",
      "<end_of_turn>\n"
     ]
    },
    {
     "name": "stderr",
     "output_type": "stream",
     "text": [
      "\r",
      "532it [06:35,  1.69it/s]"
     ]
    },
    {
     "name": "stdout",
     "output_type": "stream",
     "text": [
      "<bos>\n",
      "    <start_of_turn>user\n",
      "    Translate the sentence into english and only return the translation:\n",
      "\n",
      "    اے اللہ تمام امت مسلمہ کی مغفرت فرما۔<end_of_turn>\n",
      "    <start_of_turn>model\n",
      "    O Allah, forgive all the Muslim Ummah. \n",
      "<end_of_turn>\n"
     ]
    },
    {
     "name": "stderr",
     "output_type": "stream",
     "text": [
      "\r",
      "533it [06:36,  1.75it/s]"
     ]
    },
    {
     "name": "stdout",
     "output_type": "stream",
     "text": [
      "<bos>\n",
      "    <start_of_turn>user\n",
      "    Translate the sentence into english and only return the translation:\n",
      "\n",
      "    تازہ اور لذیذ سمندری غذا کے ساتھ ساتھ دیگر اشیاء کے لیے ایک جگہ ضرور جانا چاہیے۔<end_of_turn>\n",
      "    <start_of_turn>model\n",
      "    You should definitely go for a place that offers fresh and delicious seafood, along with other items. \n",
      "<end_of_turn>\n"
     ]
    },
    {
     "name": "stderr",
     "output_type": "stream",
     "text": [
      "\r",
      "534it [06:37,  1.51it/s]"
     ]
    },
    {
     "name": "stdout",
     "output_type": "stream",
     "text": [
      "<bos>\n",
      "    <start_of_turn>user\n",
      "    Translate the sentence into english and only return the translation:\n",
      "\n",
      "    کھا نے کے بعد کےلئے کیا ہے؟<end_of_turn>\n",
      "    <start_of_turn>model\n",
      "    What is done after eating? \n",
      "<end_of_turn>\n"
     ]
    },
    {
     "name": "stderr",
     "output_type": "stream",
     "text": [
      "\r",
      "535it [06:37,  1.74it/s]"
     ]
    },
    {
     "name": "stdout",
     "output_type": "stream",
     "text": [
      "<bos>\n",
      "    <start_of_turn>user\n",
      "    Translate the sentence into english and only return the translation:\n",
      "\n",
      "    چھوٹا مگر گڈ<end_of_turn>\n",
      "    <start_of_turn>model\n",
      "    Small but strong. \n",
      "<end_of_turn>\n"
     ]
    },
    {
     "name": "stderr",
     "output_type": "stream",
     "text": [
      "\r",
      "536it [06:38,  2.03it/s]"
     ]
    },
    {
     "name": "stdout",
     "output_type": "stream",
     "text": [
      "<bos>\n",
      "    <start_of_turn>user\n",
      "    Translate the sentence into english and only return the translation:\n",
      "\n",
      "    ناشتے اور دیگر اشیاء کے لیے اچھی جگہ<end_of_turn>\n",
      "    <start_of_turn>model\n",
      "    Good place for things like clothes and other items. \n",
      "<end_of_turn>\n"
     ]
    },
    {
     "name": "stderr",
     "output_type": "stream",
     "text": [
      "\r",
      "537it [06:38,  1.99it/s]"
     ]
    },
    {
     "name": "stdout",
     "output_type": "stream",
     "text": [
      "<bos>\n",
      "    <start_of_turn>user\n",
      "    Translate the sentence into english and only return the translation:\n",
      "\n",
      "    ماحول اچھا ہے، کھانے کا ذائقہ ٹھیک ہے۔<end_of_turn>\n",
      "    <start_of_turn>model\n",
      "    The food is good, the taste is nice. \n",
      "<end_of_turn>\n"
     ]
    },
    {
     "name": "stderr",
     "output_type": "stream",
     "text": [
      "\r",
      "538it [06:39,  1.96it/s]"
     ]
    },
    {
     "name": "stdout",
     "output_type": "stream",
     "text": [
      "<bos>\n",
      "    <start_of_turn>user\n",
      "    Translate the sentence into english and only return the translation:\n",
      "\n",
      "    استاد شاگرد کو سزاء دے رہا ہے۔<end_of_turn>\n",
      "    <start_of_turn>model\n",
      "    The teacher is giving the student a reward. \n",
      "<end_of_turn>\n"
     ]
    },
    {
     "name": "stderr",
     "output_type": "stream",
     "text": [
      "\r",
      "539it [06:39,  1.98it/s]"
     ]
    },
    {
     "name": "stdout",
     "output_type": "stream",
     "text": [
      "<bos>\n",
      "    <start_of_turn>user\n",
      "    Translate the sentence into english and only return the translation:\n",
      "\n",
      "    اوسط جگہ اور کھانا<end_of_turn>\n",
      "    <start_of_turn>model\n",
      "    \"The middle seat and food\" \n",
      "<end_of_turn>\n"
     ]
    },
    {
     "name": "stderr",
     "output_type": "stream",
     "text": [
      "\r",
      "540it [06:40,  2.10it/s]"
     ]
    },
    {
     "name": "stdout",
     "output_type": "stream",
     "text": [
      "<bos>\n",
      "    <start_of_turn>user\n",
      "    Translate the sentence into english and only return the translation:\n",
      "\n",
      "    برائے مہربانی سمجھو۔<end_of_turn>\n",
      "    <start_of_turn>model\n",
      "    Please be kind. \n",
      "<end_of_turn>\n"
     ]
    },
    {
     "name": "stderr",
     "output_type": "stream",
     "text": [
      "\r",
      "541it [06:40,  2.36it/s]"
     ]
    },
    {
     "name": "stdout",
     "output_type": "stream",
     "text": [
      "<bos>\n",
      "    <start_of_turn>user\n",
      "    Translate the sentence into english and only return the translation:\n",
      "\n",
      "    میں لُٹ گیا(میری چوری ہو گئی)۔<end_of_turn>\n",
      "    <start_of_turn>model\n",
      "    I fell (my theft was successful). \n",
      "<end_of_turn>\n"
     ]
    },
    {
     "name": "stderr",
     "output_type": "stream",
     "text": [
      "\r",
      "542it [06:40,  2.31it/s]"
     ]
    },
    {
     "name": "stdout",
     "output_type": "stream",
     "text": [
      "<bos>\n",
      "    <start_of_turn>user\n",
      "    Translate the sentence into english and only return the translation:\n",
      "\n",
      "    Zabardast bhytreen unmda laziz food hi, I love it<end_of_turn>\n",
      "    <start_of_turn>model\n",
      "    That food is very delicious, I love it. \n",
      "<end_of_turn>\n"
     ]
    },
    {
     "name": "stderr",
     "output_type": "stream",
     "text": [
      "\r",
      "543it [06:41,  2.17it/s]"
     ]
    },
    {
     "name": "stdout",
     "output_type": "stream",
     "text": [
      "<bos>\n",
      "    <start_of_turn>user\n",
      "    Translate the sentence into english and only return the translation:\n",
      "\n",
      "    (گوگل کے ذریعہ ترجمہ کیا گیا) حیرت انگیز کھانا خاص طور پر ابلا ہوا (اصل) حیرت انگیز کھانا خاص طور پر کیما<end_of_turn>\n",
      "    <start_of_turn>model\n",
      "    Amazing food, especially when advertised (original) Amazing food, especially when advertised. \n",
      "<end_of_turn>\n"
     ]
    },
    {
     "name": "stderr",
     "output_type": "stream",
     "text": [
      "\r",
      "544it [06:42,  1.82it/s]"
     ]
    },
    {
     "name": "stdout",
     "output_type": "stream",
     "text": [
      "<bos>\n",
      "    <start_of_turn>user\n",
      "    Translate the sentence into english and only return the translation:\n",
      "\n",
      "    سوادج کھانا.<end_of_turn>\n",
      "    <start_of_turn>model\n",
      "    Eat food. \n",
      "<end_of_turn>\n"
     ]
    },
    {
     "name": "stderr",
     "output_type": "stream",
     "text": [
      "\r",
      "545it [06:42,  2.16it/s]"
     ]
    },
    {
     "name": "stdout",
     "output_type": "stream",
     "text": [
      "<bos>\n",
      "    <start_of_turn>user\n",
      "    Translate the sentence into english and only return the translation:\n",
      "\n",
      "    12|8|جب انہوں نے (آپس میں) تذکرہ کیا کہ یوسف اور اس کا بھائی ابا کو ہم سے زیادہ پیارے ہیں حالانکہ ہم جماعت (کی جماعت) ہیں۔ کچھ شک نہیں کہ ابا صریح غلطی پر ہیں <end_of_turn>\n",
      "    <start_of_turn>model\n",
      "    He said (among themselves) that Yusuf and his brother are more loved by us than their father, even though we are a community (a community). There is no doubt that the father is wrong. \n",
      "<end_of_turn>\n"
     ]
    },
    {
     "name": "stderr",
     "output_type": "stream",
     "text": [
      "\r",
      "546it [06:44,  1.21it/s]"
     ]
    },
    {
     "name": "stdout",
     "output_type": "stream",
     "text": [
      "<bos>\n",
      "    <start_of_turn>user\n",
      "    Translate the sentence into english and only return the translation:\n",
      "\n",
      "     \"جی ہاں؛ لیکن پہلے مجھے یہ خط دو<end_of_turn>\n",
      "    <start_of_turn>model\n",
      "    Yes, but first, give me this letter. \n",
      "<end_of_turn>\n"
     ]
    },
    {
     "name": "stderr",
     "output_type": "stream",
     "text": [
      "\r",
      "547it [06:44,  1.35it/s]"
     ]
    },
    {
     "name": "stdout",
     "output_type": "stream",
     "text": [
      "<bos>\n",
      "    <start_of_turn>user\n",
      "    Translate the sentence into english and only return the translation:\n",
      "\n",
      "    اوسط<end_of_turn>\n",
      "    <start_of_turn>model\n",
      "    middle \n",
      "<end_of_turn>\n"
     ]
    },
    {
     "name": "stderr",
     "output_type": "stream",
     "text": [
      "\r",
      "548it [06:44,  1.74it/s]"
     ]
    },
    {
     "name": "stdout",
     "output_type": "stream",
     "text": [
      "<bos>\n",
      "    <start_of_turn>user\n",
      "    Translate the sentence into english and only return the translation:\n",
      "\n",
      "    اچھا کھانا اور ماحول پسند آیا۔<end_of_turn>\n",
      "    <start_of_turn>model\n",
      "    Good food and atmosphere please. \n",
      "<end_of_turn>\n"
     ]
    },
    {
     "name": "stderr",
     "output_type": "stream",
     "text": [
      "\r",
      "549it [06:45,  1.94it/s]"
     ]
    },
    {
     "name": "stdout",
     "output_type": "stream",
     "text": [
      "<bos>\n",
      "    <start_of_turn>user\n",
      "    Translate the sentence into english and only return the translation:\n",
      "\n",
      "    پنیر ریشمی محبت ہے۔<end_of_turn>\n",
      "    <start_of_turn>model\n",
      "    Cheesy love. \n",
      "<end_of_turn>\n"
     ]
    },
    {
     "name": "stderr",
     "output_type": "stream",
     "text": [
      "\r",
      "550it [06:45,  2.22it/s]"
     ]
    },
    {
     "name": "stdout",
     "output_type": "stream",
     "text": [
      "<bos>\n",
      "    <start_of_turn>user\n",
      "    Translate the sentence into english and only return the translation:\n",
      "\n",
      "    میری ابھی شادی نہیں ہوئی۔<end_of_turn>\n",
      "    <start_of_turn>model\n",
      "    I am not happy yet. \n",
      "<end_of_turn>\n"
     ]
    },
    {
     "name": "stderr",
     "output_type": "stream",
     "text": [
      "\r",
      "551it [06:45,  2.34it/s]"
     ]
    },
    {
     "name": "stdout",
     "output_type": "stream",
     "text": [
      "<bos>\n",
      "    <start_of_turn>user\n",
      "    Translate the sentence into english and only return the translation:\n",
      "\n",
      "    پانچ رکنی کمیٹی تشکیل دی گئی۔<end_of_turn>\n",
      "    <start_of_turn>model\n",
      "    A five-member committee was formed. \n",
      "<end_of_turn>\n"
     ]
    },
    {
     "name": "stderr",
     "output_type": "stream",
     "text": [
      "\r",
      "552it [06:46,  2.30it/s]"
     ]
    },
    {
     "name": "stdout",
     "output_type": "stream",
     "text": [
      "<bos>\n",
      "    <start_of_turn>user\n",
      "    Translate the sentence into english and only return the translation:\n",
      "\n",
      "    سپر ❤️<end_of_turn>\n",
      "    <start_of_turn>model\n",
      "    Shield ❤️ \n",
      "<end_of_turn>\n"
     ]
    },
    {
     "name": "stderr",
     "output_type": "stream",
     "text": [
      "\r",
      "553it [06:46,  2.69it/s]"
     ]
    },
    {
     "name": "stdout",
     "output_type": "stream",
     "text": [
      "<bos>\n",
      "    <start_of_turn>user\n",
      "    Translate the sentence into english and only return the translation:\n",
      "\n",
      "    میں نے یہ نہیں کہا کہ مجھے تم پر یقین نہیں<end_of_turn>\n",
      "    <start_of_turn>model\n",
      "    I didn't say that I don't trust you. \n",
      "<end_of_turn>\n"
     ]
    },
    {
     "name": "stderr",
     "output_type": "stream",
     "text": [
      "\r",
      "554it [06:47,  2.21it/s]"
     ]
    },
    {
     "name": "stdout",
     "output_type": "stream",
     "text": [
      "<bos>\n",
      "    <start_of_turn>user\n",
      "    Translate the sentence into english and only return the translation:\n",
      "\n",
      "    اُس نے اُن کے خیالوں کو جان کر اُن سے کہا جِس بادشاہی میں پھُوٹ پڑتی ہے وہ ویِران ہو جاتی ہے اور جِس شہر یا گھر میں پھُوٹ پڑیگی وہ قائِم نہ رہے گا ۔<end_of_turn>\n",
      "    <start_of_turn>model\n",
      "    He said to him, \"Whoever is in a kingdom where they are born, they will be a king, and whoever is in a city or house where they are born, they will not remain there.\" \n",
      "<end_of_turn>\n"
     ]
    },
    {
     "name": "stderr",
     "output_type": "stream",
     "text": [
      "\r",
      "555it [06:48,  1.20it/s]"
     ]
    },
    {
     "name": "stdout",
     "output_type": "stream",
     "text": [
      "<bos>\n",
      "    <start_of_turn>user\n",
      "    Translate the sentence into english and only return the translation:\n",
      "\n",
      "    بہترین ریستوراں<end_of_turn>\n",
      "    <start_of_turn>model\n",
      "    Best restaurants \n",
      "<end_of_turn>\n"
     ]
    },
    {
     "name": "stderr",
     "output_type": "stream",
     "text": [
      "\r",
      "556it [06:49,  1.53it/s]"
     ]
    },
    {
     "name": "stdout",
     "output_type": "stream",
     "text": [
      "<bos>\n",
      "    <start_of_turn>user\n",
      "    Translate the sentence into english and only return the translation:\n",
      "\n",
      "    سامنے دیکھو۔<end_of_turn>\n",
      "    <start_of_turn>model\n",
      "    See it. \n",
      "<end_of_turn>\n"
     ]
    },
    {
     "name": "stderr",
     "output_type": "stream",
     "text": [
      "\r",
      "557it [06:49,  1.87it/s]"
     ]
    },
    {
     "name": "stdout",
     "output_type": "stream",
     "text": [
      "<bos>\n",
      "    <start_of_turn>user\n",
      "    Translate the sentence into english and only return the translation:\n",
      "\n",
      "    (گوگل کے ذریعہ ترجمہ کیا گیا) بہترین کٹاکت ن روٹی کے سے کیا کہنے (اصل) بہترین کٹاکت ن روٹی کے سے کیا کہنے<end_of_turn>\n",
      "    <start_of_turn>model\n",
      "    What is the best way to make a roti? (Original) \n",
      "<end_of_turn>\n"
     ]
    },
    {
     "name": "stderr",
     "output_type": "stream",
     "text": [
      "\r",
      "558it [06:49,  1.76it/s]"
     ]
    },
    {
     "name": "stdout",
     "output_type": "stream",
     "text": [
      "<bos>\n",
      "    <start_of_turn>user\n",
      "    Translate the sentence into english and only return the translation:\n",
      "\n",
      "    ثقافت اور لوگ بہت دلچسپ تھے۔\n",
      "<end_of_turn>\n",
      "    <start_of_turn>model\n",
      "    Their culture and people were very interesting. \n",
      "<end_of_turn>\n"
     ]
    },
    {
     "name": "stderr",
     "output_type": "stream",
     "text": [
      "\r",
      "559it [06:50,  1.87it/s]"
     ]
    },
    {
     "name": "stdout",
     "output_type": "stream",
     "text": [
      "<bos>\n",
      "    <start_of_turn>user\n",
      "    Translate the sentence into english and only return the translation:\n",
      "\n",
      "    کھانے کا بدترین معیار<end_of_turn>\n",
      "    <start_of_turn>model\n",
      "    The worst food quality \n",
      "<end_of_turn>\n"
     ]
    },
    {
     "name": "stderr",
     "output_type": "stream",
     "text": [
      "\r",
      "560it [06:50,  2.15it/s]"
     ]
    },
    {
     "name": "stdout",
     "output_type": "stream",
     "text": [
      "<bos>\n",
      "    <start_of_turn>user\n",
      "    Translate the sentence into english and only return the translation:\n",
      "\n",
      "    آپ کیا کھانا پسند کریںگے؟<end_of_turn>\n",
      "    <start_of_turn>model\n",
      "    What do you like to eat? \n",
      "<end_of_turn>\n"
     ]
    },
    {
     "name": "stderr",
     "output_type": "stream",
     "text": [
      "\r",
      "561it [06:51,  2.22it/s]"
     ]
    },
    {
     "name": "stdout",
     "output_type": "stream",
     "text": [
      "<bos>\n",
      "    <start_of_turn>user\n",
      "    Translate the sentence into english and only return the translation:\n",
      "\n",
      "    (گوگل کے ذریعے ترجمہ کیا گیا) چکن کرہائی تھرڈ کلاس یہ افغانی بوٹی شاندار یا کٹاکپ انہیں تھا... چکن کرہائی جے بی کھائی وو دوبارہ نہیں آئے گا (اصل) چکن کرہائی تھرڈ کلاس یہ افغانی بوٹی شاندار یا کٹاکپ انہیں تھا... چکن کرہائی جے کا ہو کھائی وو دوبارا نہیں آئے گا۔<end_of_turn>\n",
      "    <start_of_turn>model\n",
      "    \"This Afghan weed was beautiful or a kind of weed, it was...  This third-class chickpea, it was a kind of Afghan weed, it was beautiful or a kind of weed, it was... This third-class chickpea, it was a kind of Afghan weed, it was beautiful or a kind of weed, it was...  It was a kind of Afghan weed, it was beautiful or a kind of weed, it was...  It was a kind of Afghan weed, it was beautiful or a kind of weed, it was...  It was a kind of Afghan weed, it was beautiful or a kind of\n"
     ]
    },
    {
     "name": "stderr",
     "output_type": "stream",
     "text": [
      "\r",
      "562it [06:56,  1.83s/it]"
     ]
    },
    {
     "name": "stdout",
     "output_type": "stream",
     "text": [
      "<bos>\n",
      "    <start_of_turn>user\n",
      "    Translate the sentence into english and only return the translation:\n",
      "\n",
      "    ’’میں اس کے بغیر کپتان بننے کی امید کرتا ہوں،‘‘ ڈینٹیس نے کہا<end_of_turn>\n",
      "    <start_of_turn>model\n",
      "    \"I hope to become captain without him,\" Dent said. \n",
      "<end_of_turn>\n"
     ]
    },
    {
     "name": "stderr",
     "output_type": "stream",
     "text": [
      "\r",
      "563it [06:56,  1.47s/it]"
     ]
    },
    {
     "name": "stdout",
     "output_type": "stream",
     "text": [
      "<bos>\n",
      "    <start_of_turn>user\n",
      "    Translate the sentence into english and only return the translation:\n",
      "\n",
      "    دھواں دار کوئلہ کرہائی سے پیار کرو....<end_of_turn>\n",
      "    <start_of_turn>model\n",
      "    Love the one who is dear to you from the heart. \n",
      "<end_of_turn>\n"
     ]
    },
    {
     "name": "stderr",
     "output_type": "stream",
     "text": [
      "\r",
      "564it [06:57,  1.21s/it]"
     ]
    },
    {
     "name": "stdout",
     "output_type": "stream",
     "text": [
      "<bos>\n",
      "    <start_of_turn>user\n",
      "    Translate the sentence into english and only return the translation:\n",
      "\n",
      "    اچھا کھانا اور ماحول<end_of_turn>\n",
      "    <start_of_turn>model\n",
      "    Good food and atmosphere \n",
      "<end_of_turn>\n"
     ]
    },
    {
     "name": "stderr",
     "output_type": "stream",
     "text": [
      "\r",
      "565it [06:57,  1.07it/s]"
     ]
    },
    {
     "name": "stdout",
     "output_type": "stream",
     "text": [
      "<bos>\n",
      "    <start_of_turn>user\n",
      "    Translate the sentence into english and only return the translation:\n",
      "\n",
      "    کھلا ماحول پسند تھا۔ جانے کے لیے ایک جگہ<end_of_turn>\n",
      "    <start_of_turn>model\n",
      "    He liked a relaxed atmosphere.  Let's go somewhere. \n",
      "<end_of_turn>\n"
     ]
    },
    {
     "name": "stderr",
     "output_type": "stream",
     "text": [
      "\r",
      "566it [06:58,  1.18it/s]"
     ]
    },
    {
     "name": "stdout",
     "output_type": "stream",
     "text": [
      "<bos>\n",
      "    <start_of_turn>user\n",
      "    Translate the sentence into english and only return the translation:\n",
      "\n",
      "    بہت اچھا BBQ ذائقہ سے بھرپور تھوڑا سا مسالہ دار کھانا لیکن ذائقہ میں اچھا ہے یہ کباب یامی ہے اور خدمت بھی اچھی ہے صفائی اور میزوں کی ترتیب کو بہتر کرنے کی ضرورت ہے<end_of_turn>\n",
      "    <start_of_turn>model\n",
      "    The BBQ was very good, with a delicious flavor, but a bit messy. The food was good, the kebabs were good, and the service was good.  The cleanliness and table arrangement could be improved. \n",
      "<end_of_turn>\n"
     ]
    },
    {
     "name": "stderr",
     "output_type": "stream",
     "text": [
      "\r",
      "567it [07:00,  1.13s/it]"
     ]
    },
    {
     "name": "stdout",
     "output_type": "stream",
     "text": [
      "<bos>\n",
      "    <start_of_turn>user\n",
      "    Translate the sentence into english and only return the translation:\n",
      "\n",
      "    اچھی سروس، وسیع مینو، اور مزیدار پکوان<end_of_turn>\n",
      "    <start_of_turn>model\n",
      "    Good service, wide range, and more packages. \n",
      "<end_of_turn>\n"
     ]
    },
    {
     "name": "stderr",
     "output_type": "stream",
     "text": [
      "\r",
      "568it [07:00,  1.05it/s]"
     ]
    },
    {
     "name": "stdout",
     "output_type": "stream",
     "text": [
      "<bos>\n",
      "    <start_of_turn>user\n",
      "    Translate the sentence into english and only return the translation:\n",
      "\n",
      "    کراچی میں بہترین BBQ<end_of_turn>\n",
      "    <start_of_turn>model\n",
      "    The best BBQ in Karachi. \n",
      "<end_of_turn>\n"
     ]
    },
    {
     "name": "stderr",
     "output_type": "stream",
     "text": [
      "\r",
      "569it [07:01,  1.28it/s]"
     ]
    },
    {
     "name": "stdout",
     "output_type": "stream",
     "text": [
      "<bos>\n",
      "    <start_of_turn>user\n",
      "    Translate the sentence into english and only return the translation:\n",
      "\n",
      "    اوورریٹڈ جگہ، کوئی ذائقہ، کوئی ماحول اور کوئی معیار نہیں۔<end_of_turn>\n",
      "    <start_of_turn>model\n",
      "    There is no taste, no atmosphere, and no standard. \n",
      "<end_of_turn>\n"
     ]
    },
    {
     "name": "stderr",
     "output_type": "stream",
     "text": [
      "\r",
      "570it [07:01,  1.37it/s]"
     ]
    },
    {
     "name": "stdout",
     "output_type": "stream",
     "text": [
      "<bos>\n",
      "    <start_of_turn>user\n",
      "    Translate the sentence into english and only return the translation:\n",
      "\n",
      "    ’’میری محبت،‘‘ مارکوئیز نے کہا، ’’اپنے کبوتروں، اپنے کتوں کی گودوں اور کڑھائی پر حاضری دینا، لیکن جس چیز کو تم نہیں سمجھتے اس میں مداخلت نہ کرو۔<end_of_turn>\n",
      "    <start_of_turn>model\n",
      "    \"My love,\" Mark Twain said, \"to be present in your own world, in your own clothes, in your own way, but don't interfere with the things you don't understand.\" \n",
      "<end_of_turn>\n"
     ]
    },
    {
     "name": "stderr",
     "output_type": "stream",
     "text": [
      "\r",
      "571it [07:03,  1.03s/it]"
     ]
    },
    {
     "name": "stdout",
     "output_type": "stream",
     "text": [
      "<bos>\n",
      "    <start_of_turn>user\n",
      "    Translate the sentence into english and only return the translation:\n",
      "\n",
      "    بہت اچھا کام جاری رکھیں<end_of_turn>\n",
      "    <start_of_turn>model\n",
      "    Keep up the good work. \n",
      "<end_of_turn>\n"
     ]
    },
    {
     "name": "stderr",
     "output_type": "stream",
     "text": [
      "\r",
      "572it [07:03,  1.20it/s]"
     ]
    },
    {
     "name": "stdout",
     "output_type": "stream",
     "text": [
      "<bos>\n",
      "    <start_of_turn>user\n",
      "    Translate the sentence into english and only return the translation:\n",
      "\n",
      "    انگلینڈ میں سیکنڈری اسکول کے بچوں کی ایک تحقیق کے مطابق<end_of_turn>\n",
      "    <start_of_turn>model\n",
      "    According to a study of secondary school students in England... \n",
      "<end_of_turn>\n"
     ]
    },
    {
     "name": "stderr",
     "output_type": "stream",
     "text": [
      "\r",
      "573it [07:04,  1.33it/s]"
     ]
    },
    {
     "name": "stdout",
     "output_type": "stream",
     "text": [
      "<bos>\n",
      "    <start_of_turn>user\n",
      "    Translate the sentence into english and only return the translation:\n",
      "\n",
      "    کیوں نہ اپنے روحانی معمول کو کیلنڈر پر لکھیں اور دیکھیں کہ کیا آپ اپنے والدین کی طرف سے آپ کو ایسا کرنے کی ترغیب دیے بغیر اسے ایک ماہ تک برقرار رکھ سکتے ہیں؟<end_of_turn>\n",
      "    <start_of_turn>model\n",
      "    Why not write your spiritual routine on a calendar and see if you can keep it going for a month without your parents' encouragement? \n",
      "<end_of_turn>\n"
     ]
    },
    {
     "name": "stderr",
     "output_type": "stream",
     "text": [
      "\r",
      "574it [07:05,  1.15it/s]"
     ]
    },
    {
     "name": "stdout",
     "output_type": "stream",
     "text": [
      "<bos>\n",
      "    <start_of_turn>user\n",
      "    Translate the sentence into english and only return the translation:\n",
      "\n",
      "    نہاری ٹھیک ہے، اپنے خاندان کو لانے کے لیے اچھی جگہ ہے، لیکن نہاری ہمیشہ ٹھنڈی رہتی ہے :(((<end_of_turn>\n",
      "    <start_of_turn>model\n",
      "    It's good to be here, it's a good place to bring my family, but the place is always cold:((( \n",
      "<end_of_turn>\n"
     ]
    },
    {
     "name": "stderr",
     "output_type": "stream",
     "text": [
      "\r",
      "575it [07:06,  1.04it/s]"
     ]
    },
    {
     "name": "stdout",
     "output_type": "stream",
     "text": [
      "<bos>\n",
      "    <start_of_turn>user\n",
      "    Translate the sentence into english and only return the translation:\n",
      "\n",
      "    اچھا اور بہت لذیذ کھانا مجھے مٹن کرہی پسند ہے ہم نے 2 بار دورہ کیا اور ہم بہت مطمئن ہوئے۔<end_of_turn>\n",
      "    <start_of_turn>model\n",
      "    I really like the food here, it's very delicious. We've visited twice and we're very satisfied. \n",
      "<end_of_turn>\n"
     ]
    },
    {
     "name": "stderr",
     "output_type": "stream",
     "text": [
      "\r",
      "576it [07:07,  1.00s/it]"
     ]
    },
    {
     "name": "stdout",
     "output_type": "stream",
     "text": [
      "<bos>\n",
      "    <start_of_turn>user\n",
      "    Translate the sentence into english and only return the translation:\n",
      "\n",
      "    لڑکوں کے لیے بار بی کیو کے لیے ایک بہترین جگہ<end_of_turn>\n",
      "    <start_of_turn>model\n",
      "    A great place for boys to be. \n",
      "<end_of_turn>\n"
     ]
    },
    {
     "name": "stderr",
     "output_type": "stream",
     "text": [
      "\r",
      "577it [07:08,  1.19it/s]"
     ]
    },
    {
     "name": "stdout",
     "output_type": "stream",
     "text": [
      "<bos>\n",
      "    <start_of_turn>user\n",
      "    Translate the sentence into english and only return the translation:\n",
      "\n",
      "    بڑے آدمی نے چھوٹے کو پیچھے آنے کا اشارہ کرتے ہوئے میرے قریب پہنچا۔<end_of_turn>\n",
      "    <start_of_turn>model\n",
      "    The big man approached me, gesturing for the small one to follow him. \n",
      "<end_of_turn>\n"
     ]
    },
    {
     "name": "stderr",
     "output_type": "stream",
     "text": [
      "\r",
      "578it [07:08,  1.23it/s]"
     ]
    },
    {
     "name": "stdout",
     "output_type": "stream",
     "text": [
      "<bos>\n",
      "    <start_of_turn>user\n",
      "    Translate the sentence into english and only return the translation:\n",
      "\n",
      "    ویک اینڈ پر جانے کی جگہ نہیں ہے!<end_of_turn>\n",
      "    <start_of_turn>model\n",
      "    There's no place to go! \n",
      "<end_of_turn>\n"
     ]
    },
    {
     "name": "stderr",
     "output_type": "stream",
     "text": [
      "\r",
      "579it [07:09,  1.42it/s]"
     ]
    },
    {
     "name": "stdout",
     "output_type": "stream",
     "text": [
      "<bos>\n",
      "    <start_of_turn>user\n",
      "    Translate the sentence into english and only return the translation:\n",
      "\n",
      "    بہترین ذائقہ<end_of_turn>\n",
      "    <start_of_turn>model\n",
      "    The best taste \n",
      "<end_of_turn>\n"
     ]
    },
    {
     "name": "stderr",
     "output_type": "stream",
     "text": [
      "\r",
      "580it [07:09,  1.75it/s]"
     ]
    },
    {
     "name": "stdout",
     "output_type": "stream",
     "text": [
      "<bos>\n",
      "    <start_of_turn>user\n",
      "    Translate the sentence into english and only return the translation:\n",
      "\n",
      "    nan<end_of_turn>\n",
      "    <start_of_turn>model\n",
      "    not a word \n",
      "<end_of_turn>\n"
     ]
    },
    {
     "name": "stderr",
     "output_type": "stream",
     "text": [
      "\r",
      "581it [07:09,  2.09it/s]"
     ]
    },
    {
     "name": "stdout",
     "output_type": "stream",
     "text": [
      "<bos>\n",
      "    <start_of_turn>user\n",
      "    Translate the sentence into english and only return the translation:\n",
      "\n",
      "    ایک زمانے میں یہ ایک اچھا ریستوراں اور ذائقہ دار تھا لیکن اب اس نے اپنے زیادہ نرخوں اور ذائقے کی کمی کی وجہ سے اپنا وقت پورا کر لیا ہے۔<end_of_turn>\n",
      "    <start_of_turn>model\n",
      "    It was a good restaurant and tasty once, but now it's filled with high prices and a lack of taste, so it's spent all its time. \n",
      "<end_of_turn>\n"
     ]
    },
    {
     "name": "stderr",
     "output_type": "stream",
     "text": [
      "\r",
      "582it [07:11,  1.32it/s]"
     ]
    },
    {
     "name": "stdout",
     "output_type": "stream",
     "text": [
      "<bos>\n",
      "    <start_of_turn>user\n",
      "    Translate the sentence into english and only return the translation:\n",
      "\n",
      "    (گوگل کے ذریعے ترجمہ کیا گیا) سسٹ سروس یا ٹھنڈا خانہ<end_of_turn>\n",
      "    <start_of_turn>model\n",
      "    Translated: Google translation.  A system service or a cold box. \n",
      "<end_of_turn>\n"
     ]
    },
    {
     "name": "stderr",
     "output_type": "stream",
     "text": [
      "\r",
      "583it [07:12,  1.36it/s]"
     ]
    },
    {
     "name": "stdout",
     "output_type": "stream",
     "text": [
      "<bos>\n",
      "    <start_of_turn>user\n",
      "    Translate the sentence into english and only return the translation:\n",
      "\n",
      "    اورایک کوڑھی نے اُس کے پاس آکر اُس کی مِنّت کی اور اُس کے سامنے گھُٹنے ٹیک کراُس سےکہا اگر تُو چاہے تو مُجھے پاک صاف کرسکتا ہے ۔<end_of_turn>\n",
      "    <start_of_turn>model\n",
      "    \"Orla, a little girl, came to her and asked her if she wanted to be cleaned. She said, if you want, I can clean you.\" \n",
      "<end_of_turn>\n"
     ]
    },
    {
     "name": "stderr",
     "output_type": "stream",
     "text": [
      "\r",
      "584it [07:13,  1.06it/s]"
     ]
    },
    {
     "name": "stdout",
     "output_type": "stream",
     "text": [
      "<bos>\n",
      "    <start_of_turn>user\n",
      "    Translate the sentence into english and only return the translation:\n",
      "\n",
      "    اس علاقے میں بہت اچھا حفظان صحت اور بہترین ذائقہ. تمام اشیاء اچھی ہیں خاص طور پر کباب اور مسالہ دار چکن اور دھاگا بن کباب۔ اسے جاری رکھیں۔<end_of_turn>\n",
      "    <start_of_turn>model\n",
      "    It's great. The food is healthy and delicious. All the dishes are good, especially the kebabs and the masala chicken and the tikka. Keep it going. \n",
      "<end_of_turn>\n"
     ]
    },
    {
     "name": "stderr",
     "output_type": "stream",
     "text": [
      "\r",
      "585it [07:14,  1.10s/it]"
     ]
    },
    {
     "name": "stdout",
     "output_type": "stream",
     "text": [
      "<bos>\n",
      "    <start_of_turn>user\n",
      "    Translate the sentence into english and only return the translation:\n",
      "\n",
      "    زبردست کھانا خاص طور پر ان کی نہاری، دماغ مسالہ اور ملائی بوٹی بارے اگر آپ دیسی کھانے کی اشیاء میں ہیں تو ضرور دیکھیں<end_of_turn>\n",
      "    <start_of_turn>model\n",
      "    If you're interested in the special dishes, especially those with a strong flavor, and the topic of the brain, the problem, and the medicinal plant, then you should definitely check out the food items. \n",
      "<end_of_turn>\n"
     ]
    },
    {
     "name": "stderr",
     "output_type": "stream",
     "text": [
      "\r",
      "586it [07:16,  1.30s/it]"
     ]
    },
    {
     "name": "stdout",
     "output_type": "stream",
     "text": [
      "<bos>\n",
      "    <start_of_turn>user\n",
      "    Translate the sentence into english and only return the translation:\n",
      "\n",
      "    تم بیوقوف! اس نے کہا. \"ادھر آو.\"<end_of_turn>\n",
      "    <start_of_turn>model\n",
      "    He's gone! He said, \"Come back.\" \n",
      "<end_of_turn>\n"
     ]
    },
    {
     "name": "stderr",
     "output_type": "stream",
     "text": [
      "\r",
      "587it [07:17,  1.09s/it]"
     ]
    },
    {
     "name": "stdout",
     "output_type": "stream",
     "text": [
      "<bos>\n",
      "    <start_of_turn>user\n",
      "    Translate the sentence into english and only return the translation:\n",
      "\n",
      "    (گوگل کے ذریعہ ترجمہ کیا گیا) بوہت اچھا اور لازیز ڈنر تھا۔<end_of_turn>\n",
      "    <start_of_turn>model\n",
      "    It was very good and the salad was delicious. \n",
      "<end_of_turn>\n"
     ]
    },
    {
     "name": "stderr",
     "output_type": "stream",
     "text": [
      "\r",
      "588it [07:17,  1.08it/s]"
     ]
    },
    {
     "name": "stdout",
     "output_type": "stream",
     "text": [
      "<bos>\n",
      "    <start_of_turn>user\n",
      "    Translate the sentence into english and only return the translation:\n",
      "\n",
      "     اور دل کی بیماری کا خطرہ چار گنا تک بڑھاتا ہے بند شریان پھیپھڑے ہوا کے تھیلوں کو تباہ کر دیتے ہیں<end_of_turn>\n",
      "    <start_of_turn>model\n",
      "    The risk of heart disease increases four times, and blocked arteries damage the lungs and blood vessels. \n",
      "<end_of_turn>\n"
     ]
    },
    {
     "name": "stderr",
     "output_type": "stream",
     "text": [
      "\r",
      "589it [07:18,  1.10it/s]"
     ]
    },
    {
     "name": "stdout",
     "output_type": "stream",
     "text": [
      "<bos>\n",
      "    <start_of_turn>user\n",
      "    Translate the sentence into english and only return the translation:\n",
      "\n",
      "    گلشن اقبال کا عظیم، پرانا اور بہت مشہور نام۔ اندر کا مثالی ماحول۔ کھانا ٹھیک ہے۔<end_of_turn>\n",
      "    <start_of_turn>model\n",
      "    The garden of Iqbal is immense, famous and very popular. A beautiful and exemplary atmosphere inside. The food is good. \n",
      "<end_of_turn>\n"
     ]
    },
    {
     "name": "stderr",
     "output_type": "stream",
     "text": [
      "\r",
      "590it [07:19,  1.05it/s]"
     ]
    },
    {
     "name": "stdout",
     "output_type": "stream",
     "text": [
      "<bos>\n",
      "    <start_of_turn>user\n",
      "    Translate the sentence into english and only return the translation:\n",
      "\n",
      "    کھانا لاجواب تھا۔ ہر چیز کا ذائقہ بالکل کامل ہے۔ انہوں نے جو چٹنی ڈالی ہے وہ ناقابل یقین ہے۔ چوتھائی چکن کا سرونگ سائز تھوڑا مایوس کن ہے۔ مجموعی طور پر اچھا تجربہ۔<end_of_turn>\n",
      "    <start_of_turn>model\n",
      "    The food was delicious. Every flavor was perfect. The dessert they put in was unbelievable. The quarter-sized chicken leg was disappointing in size. Overall, a good experience. \n",
      "<end_of_turn>\n"
     ]
    },
    {
     "name": "stderr",
     "output_type": "stream",
     "text": [
      "\r",
      "591it [07:21,  1.12s/it]"
     ]
    },
    {
     "name": "stdout",
     "output_type": "stream",
     "text": [
      "<bos>\n",
      "    <start_of_turn>user\n",
      "    Translate the sentence into english and only return the translation:\n",
      "\n",
      "    nan<end_of_turn>\n",
      "    <start_of_turn>model\n",
      "    not a word \n",
      "<end_of_turn>\n"
     ]
    },
    {
     "name": "stderr",
     "output_type": "stream",
     "text": [
      "\r",
      "592it [07:21,  1.16it/s]"
     ]
    },
    {
     "name": "stdout",
     "output_type": "stream",
     "text": [
      "<bos>\n",
      "    <start_of_turn>user\n",
      "    Translate the sentence into english and only return the translation:\n",
      "\n",
      "    یہ ہمیشہ ایک حیرت انگیز تجربہ ہوتا ہے جب بھی ہم خاندان کے افراد اتوار کے ناشتے کے لیے ملکز میں اکٹھے ہوتے ہیں۔<end_of_turn>\n",
      "    <start_of_turn>model\n",
      "    It's always a fascinating experience whenever we gather in the kitchen for Sunday brunch with the family. \n",
      "<end_of_turn>\n"
     ]
    },
    {
     "name": "stderr",
     "output_type": "stream",
     "text": [
      "\r",
      "593it [07:22,  1.14it/s]"
     ]
    },
    {
     "name": "stdout",
     "output_type": "stream",
     "text": [
      "<bos>\n",
      "    <start_of_turn>user\n",
      "    Translate the sentence into english and only return the translation:\n",
      "\n",
      "    (گوگل کے ذریعے ترجمہ کیا گیا) بیکار بکواس ریستوراں کسی کام کا نہیں 0 ریٹنگ (اصل) بیکار بکواس ریستوراں کسی کام کا نہیں 0 ریٹنگ<end_of_turn>\n",
      "    <start_of_turn>model\n",
      "    Google translated.  The restaurants are not for any work. 0 rating (original). \n",
      "<end_of_turn>\n"
     ]
    },
    {
     "name": "stderr",
     "output_type": "stream",
     "text": [
      "\r",
      "594it [07:23,  1.16it/s]"
     ]
    },
    {
     "name": "stdout",
     "output_type": "stream",
     "text": [
      "<bos>\n",
      "    <start_of_turn>user\n",
      "    Translate the sentence into english and only return the translation:\n",
      "\n",
      "    خاندان کے لیے ماحول اچھا ہے۔<end_of_turn>\n",
      "    <start_of_turn>model\n",
      "    The family is doing well. \n",
      "<end_of_turn>\n"
     ]
    },
    {
     "name": "stderr",
     "output_type": "stream",
     "text": [
      "\r",
      "595it [07:23,  1.39it/s]"
     ]
    },
    {
     "name": "stdout",
     "output_type": "stream",
     "text": [
      "<bos>\n",
      "    <start_of_turn>user\n",
      "    Translate the sentence into english and only return the translation:\n",
      "\n",
      "    اے بنی اسرائیل، ہم نے تم کو تمہارے دشمن سے نجات دی، اور طور کے دائیں جانب تمہاری حاضری کے لیے وقت مقرر کیا اور تم پر من و سلویٰ اتارا<end_of_turn>\n",
      "    <start_of_turn>model\n",
      "    \"O Israelites, we have delivered you from your enemies, and set aside a time for your presence on the right side of the Jordan River, and have brought upon you the wrath of the Lord.\" \n",
      "<end_of_turn>\n"
     ]
    },
    {
     "name": "stderr",
     "output_type": "stream",
     "text": [
      "\r",
      "596it [07:25,  1.01s/it]"
     ]
    },
    {
     "name": "stdout",
     "output_type": "stream",
     "text": [
      "<bos>\n",
      "    <start_of_turn>user\n",
      "    Translate the sentence into english and only return the translation:\n",
      "\n",
      "    اس نے اس کو اپنے سارے پیسے دے دیئے۔<end_of_turn>\n",
      "    <start_of_turn>model\n",
      "    He gave him all his money. \n",
      "<end_of_turn>\n"
     ]
    },
    {
     "name": "stderr",
     "output_type": "stream",
     "text": [
      "\r",
      "597it [07:25,  1.20it/s]"
     ]
    },
    {
     "name": "stdout",
     "output_type": "stream",
     "text": [
      "<bos>\n",
      "    <start_of_turn>user\n",
      "    Translate the sentence into english and only return the translation:\n",
      "\n",
      "    5|76|کہو کہ تم خدا کے سوا ایسی چیز کی کیوں پرستش کرتے ہو جس کو تمہارے نفع اور نقصان کا کچھ بھی اختیار نہیں؟ اور خدا ہی (سب کچھ) سنتا جانتا ہے <end_of_turn>\n",
      "    <start_of_turn>model\n",
      "    \"Why do you worship something other than God, when you have no control over its benefits or harms? And God alone (knows everything).\" \n",
      "<end_of_turn>\n"
     ]
    },
    {
     "name": "stderr",
     "output_type": "stream",
     "text": [
      "\r",
      "598it [07:26,  1.05it/s]"
     ]
    },
    {
     "name": "stdout",
     "output_type": "stream",
     "text": [
      "<bos>\n",
      "    <start_of_turn>user\n",
      "    Translate the sentence into english and only return the translation:\n",
      "\n",
      "    میں نے اس شاندار ہجوم میں سے کچھ نہیں دیکھا جس نے اسے بھرا ہوا تھا، میں نے بڑی مشکل سے کارڈینل کی شاندار شخصیت کو ممتاز کیا جب وہ میرا استقبال کرنے کے لیے آرکیپیسکوپل تخت سے اٹھے۔<end_of_turn>\n",
      "    <start_of_turn>model\n",
      "    I haven't seen anything in this magnificent crowd that filled it, I managed to make a distinguished impression on Cardinal, with great difficulty, when he rose from the Archpiscopal throne to greet me. \n",
      "<end_of_turn>\n"
     ]
    },
    {
     "name": "stderr",
     "output_type": "stream",
     "text": [
      "\r",
      "599it [07:28,  1.18s/it]"
     ]
    },
    {
     "name": "stdout",
     "output_type": "stream",
     "text": [
      "<bos>\n",
      "    <start_of_turn>user\n",
      "    Translate the sentence into english and only return the translation:\n",
      "\n",
      "    مزیدار کھانا.<end_of_turn>\n",
      "    <start_of_turn>model\n",
      "    More food. \n",
      "<end_of_turn>\n"
     ]
    },
    {
     "name": "stderr",
     "output_type": "stream",
     "text": [
      "\r",
      "600it [07:28,  1.11it/s]"
     ]
    },
    {
     "name": "stdout",
     "output_type": "stream",
     "text": [
      "<bos>\n",
      "    <start_of_turn>user\n",
      "    Translate the sentence into english and only return the translation:\n",
      "\n",
      "    10|38|کیا یہ لوگ کہتے ہیں کہ پیغمبر نے اس کو اپنی طرف سے بنا لیا ہے کہہ دو کہ اگر سچے ہو تو تم بھی اس طرح کی ایک سورت بنا لاؤ اور خدا کے سوا جن کو تم بلا سکو بلا بھی لو <end_of_turn>\n",
      "    <start_of_turn>model\n",
      "    What do they say the Prophet built this with his own hand?  Say if you are truthful, you too should build a similar chapter and leave out all those who you can't call upon except God. \n",
      "<end_of_turn>\n"
     ]
    },
    {
     "name": "stderr",
     "output_type": "stream",
     "text": [
      "\r",
      "601it [07:30,  1.16s/it]"
     ]
    },
    {
     "name": "stdout",
     "output_type": "stream",
     "text": [
      "<bos>\n",
      "    <start_of_turn>user\n",
      "    Translate the sentence into english and only return the translation:\n",
      "\n",
      "    بہت ساحلی ۔<end_of_turn>\n",
      "    <start_of_turn>model\n",
      "    Very coastal. \n",
      "<end_of_turn>\n"
     ]
    },
    {
     "name": "stderr",
     "output_type": "stream",
     "text": [
      "\r",
      "602it [07:30,  1.12it/s]"
     ]
    },
    {
     "name": "stdout",
     "output_type": "stream",
     "text": [
      "<bos>\n",
      "    <start_of_turn>user\n",
      "    Translate the sentence into english and only return the translation:\n",
      "\n",
      "    مالک نے دوسری دعوت کا انتظار نہیں کیا۔<end_of_turn>\n",
      "    <start_of_turn>model\n",
      "    The owner did not wait for a second invitation. \n",
      "<end_of_turn>\n"
     ]
    },
    {
     "name": "stderr",
     "output_type": "stream",
     "text": [
      "\r",
      "603it [07:31,  1.28it/s]"
     ]
    },
    {
     "name": "stdout",
     "output_type": "stream",
     "text": [
      "<bos>\n",
      "    <start_of_turn>user\n",
      "    Translate the sentence into english and only return the translation:\n",
      "\n",
      "    چار لڑکے سڑک پر جا رہے ہیں۔<end_of_turn>\n",
      "    <start_of_turn>model\n",
      "    Four boys are walking on the street. \n",
      "<end_of_turn>\n"
     ]
    },
    {
     "name": "stderr",
     "output_type": "stream",
     "text": [
      "604it [07:31,  1.34it/s]\n"
     ]
    },
    {
     "data": {
      "text/html": [
       "<div>\n",
       "<style scoped>\n",
       "    .dataframe tbody tr th:only-of-type {\n",
       "        vertical-align: middle;\n",
       "    }\n",
       "\n",
       "    .dataframe tbody tr th {\n",
       "        vertical-align: top;\n",
       "    }\n",
       "\n",
       "    .dataframe thead th {\n",
       "        text-align: right;\n",
       "    }\n",
       "</style>\n",
       "<table border=\"1\" class=\"dataframe\">\n",
       "  <thead>\n",
       "    <tr style=\"text-align: right;\">\n",
       "      <th></th>\n",
       "      <th>SENTENCES</th>\n",
       "      <th>MEANING</th>\n",
       "      <th>en_ur_2b_bl</th>\n",
       "      <th>ur_en_2b_bl</th>\n",
       "    </tr>\n",
       "  </thead>\n",
       "  <tbody>\n",
       "    <tr>\n",
       "      <th>21101</th>\n",
       "      <td>Ambiance was amazing and so the staff. Quality...</td>\n",
       "      <td>ماحول حیرت انگیز تھا اور عملہ بھی۔ کھانے کا مع...</td>\n",
       "      <td>فضاء بہت خوب تھا اورservants بھی بہت خوب تھے۔ ...</td>\n",
       "      <td>It was quite surprising, the atmosphere and th...</td>\n",
       "    </tr>\n",
       "    <tr>\n",
       "      <th>1889</th>\n",
       "      <td>You have to promise never to tell anyone what ...</td>\n",
       "      <td>تم نے وعدہ کرنا ہے کہ جو میں تمہیں بتانے لگا ہ...</td>\n",
       "      <td>آپ کو یہ کہنا پڑے گا کہ میں یہ کہنے والا نہیں ...</td>\n",
       "      <td>I promise that whatever I tell you, I will nev...</td>\n",
       "    </tr>\n",
       "    <tr>\n",
       "      <th>8971</th>\n",
       "      <td>Good place with average food quality</td>\n",
       "      <td>کھانے کے اوسط معیار کے ساتھ اچھی جگہ</td>\n",
       "      <td>خوبہ  مکمل  غذای  میان</td>\n",
       "      <td>Good place with average food.</td>\n",
       "    </tr>\n",
       "    <tr>\n",
       "      <th>15662</th>\n",
       "      <td>And he lifted his father and mother upon the t...</td>\n",
       "      <td>(شہر میں داخل ہونے کے بعد) اس نے اپنے والدین ک...</td>\n",
       "      <td>وہ اپنے پڑھیاں اور مہم کی چھڑی پر چڑھ لیا، اور...</td>\n",
       "      <td>After entering the city, he picked up his pare...</td>\n",
       "    </tr>\n",
       "    <tr>\n",
       "      <th>11374</th>\n",
       "      <td>What a great place for family safe zone</td>\n",
       "      <td>فیملی سیف زون کے لیے کتنی اچھی جگہ ہے۔</td>\n",
       "      <td>یہ ایک عائلی محفوظ گھڑی ہے</td>\n",
       "      <td>\"This is a good place for the family.\"</td>\n",
       "    </tr>\n",
       "  </tbody>\n",
       "</table>\n",
       "</div>"
      ],
      "text/plain": [
       "                                              SENTENCES   \\\n",
       "21101  Ambiance was amazing and so the staff. Quality...   \n",
       "1889   You have to promise never to tell anyone what ...   \n",
       "8971                Good place with average food quality   \n",
       "15662  And he lifted his father and mother upon the t...   \n",
       "11374            What a great place for family safe zone   \n",
       "\n",
       "                                                 MEANING  \\\n",
       "21101  ماحول حیرت انگیز تھا اور عملہ بھی۔ کھانے کا مع...   \n",
       "1889   تم نے وعدہ کرنا ہے کہ جو میں تمہیں بتانے لگا ہ...   \n",
       "8971                کھانے کے اوسط معیار کے ساتھ اچھی جگہ   \n",
       "15662  (شہر میں داخل ہونے کے بعد) اس نے اپنے والدین ک...   \n",
       "11374             فیملی سیف زون کے لیے کتنی اچھی جگہ ہے۔   \n",
       "\n",
       "                                             en_ur_2b_bl  \\\n",
       "21101  فضاء بہت خوب تھا اورservants بھی بہت خوب تھے۔ ...   \n",
       "1889   آپ کو یہ کہنا پڑے گا کہ میں یہ کہنے والا نہیں ...   \n",
       "8971                            خوبہ  مکمل  غذای  میان     \n",
       "15662  وہ اپنے پڑھیاں اور مہم کی چھڑی پر چڑھ لیا، اور...   \n",
       "11374                        یہ ایک عائلی محفوظ گھڑی ہے    \n",
       "\n",
       "                                             ur_en_2b_bl  \n",
       "21101  It was quite surprising, the atmosphere and th...  \n",
       "1889   I promise that whatever I tell you, I will nev...  \n",
       "8971                      Good place with average food.   \n",
       "15662  After entering the city, he picked up his pare...  \n",
       "11374            \"This is a good place for the family.\"   "
      ]
     },
     "execution_count": 42,
     "metadata": {},
     "output_type": "execute_result"
    }
   ],
   "source": [
    "from tqdm import tqdm\n",
    "FastLanguageModel.for_inference(model) # Enable native 2x faster inference\n",
    "\n",
    "# Define the column you want to process and modify\n",
    "for index, row in tqdm(test.iterrows()):\n",
    "    input_sentence = row[\"MEANING\"]\n",
    "    \n",
    "    prompt = f\"\"\"\n",
    "    <start_of_turn>user\n",
    "    Translate the sentence into english and only return the translation:\n",
    "\n",
    "    {input_sentence}<end_of_turn>\n",
    "    <start_of_turn>model\n",
    "    \"\"\"\n",
    "\n",
    "    # alpaca_prompt = You MUST copy from above!\n",
    "\n",
    "    inputs = tokenizer(prompt, return_tensors = \"pt\").to(\"cuda\")\n",
    "\n",
    "    from transformers import TextStreamer\n",
    "    text_streamer = TextStreamer(tokenizer)\n",
    "    gen_tokens = model.generate(**inputs, streamer = text_streamer, max_new_tokens = 128);\n",
    "\n",
    "    outs = tokenizer.batch_decode(gen_tokens[:, inputs.input_ids.shape[1]:])[0]\n",
    "    response_only = outs.replace(tokenizer.eos_token, \"\").replace(\"\\n<end_of_turn>\", \"\")\n",
    "    \n",
    "    test.at[index, 'ur_en_2b_bl'] = response_only\n",
    "\n",
    "test.head()"
   ]
  },
  {
   "cell_type": "code",
   "execution_count": 43,
   "id": "b4eec801",
   "metadata": {},
   "outputs": [],
   "source": [
    "test.to_csv('test_data.csv', index=False)"
   ]
  },
  {
   "cell_type": "code",
   "execution_count": null,
   "id": "9a1b9530",
   "metadata": {},
   "outputs": [],
   "source": []
  }
 ],
 "metadata": {
  "kernelspec": {
   "display_name": "Python 3 (ipykernel)",
   "language": "python",
   "name": "python3"
  },
  "language_info": {
   "codemirror_mode": {
    "name": "ipython",
    "version": 3
   },
   "file_extension": ".py",
   "mimetype": "text/x-python",
   "name": "python",
   "nbconvert_exporter": "python",
   "pygments_lexer": "ipython3",
   "version": "3.11.10"
  }
 },
 "nbformat": 4,
 "nbformat_minor": 5
}
