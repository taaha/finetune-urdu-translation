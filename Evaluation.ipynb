{
 "cells": [
  {
   "cell_type": "code",
   "execution_count": 1,
   "id": "a4a8c7c1",
   "metadata": {},
   "outputs": [],
   "source": [
    "# !pip install matplotlib seaborn"
   ]
  },
  {
   "cell_type": "code",
   "execution_count": 2,
   "id": "35bb3c42",
   "metadata": {},
   "outputs": [],
   "source": [
    "# !pip install nltk"
   ]
  },
  {
   "cell_type": "code",
   "execution_count": 3,
   "id": "3e25e0b1",
   "metadata": {},
   "outputs": [
    {
     "data": {
      "text/html": [
       "<div>\n",
       "<style scoped>\n",
       "    .dataframe tbody tr th:only-of-type {\n",
       "        vertical-align: middle;\n",
       "    }\n",
       "\n",
       "    .dataframe tbody tr th {\n",
       "        vertical-align: top;\n",
       "    }\n",
       "\n",
       "    .dataframe thead th {\n",
       "        text-align: right;\n",
       "    }\n",
       "</style>\n",
       "<table border=\"1\" class=\"dataframe\">\n",
       "  <thead>\n",
       "    <tr style=\"text-align: right;\">\n",
       "      <th></th>\n",
       "      <th>SENTENCES</th>\n",
       "      <th>MEANING</th>\n",
       "      <th>en_ur_2b_bl</th>\n",
       "      <th>ur_en_2b_bl</th>\n",
       "      <th>en_ur_2b_ft</th>\n",
       "      <th>ur_en_2b_ft</th>\n",
       "    </tr>\n",
       "  </thead>\n",
       "  <tbody>\n",
       "    <tr>\n",
       "      <th>0</th>\n",
       "      <td>Ambiance was amazing and so the staff. Quality...</td>\n",
       "      <td>ماحول حیرت انگیز تھا اور عملہ بھی۔ کھانے کا مع...</td>\n",
       "      <td>فضاء بہت خوب تھا اورservants بھی بہت خوب تھے۔ ...</td>\n",
       "      <td>It was quite surprising, the atmosphere and th...</td>\n",
       "      <td>اچھا ماحول تھا اور عملہ بھی۔ کھانے کا معیار بھ...</td>\n",
       "      <td>Ambiance was amazing and so was the staff.\\n  ...</td>\n",
       "    </tr>\n",
       "    <tr>\n",
       "      <th>1</th>\n",
       "      <td>You have to promise never to tell anyone what ...</td>\n",
       "      <td>تم نے وعدہ کرنا ہے کہ جو میں تمہیں بتانے لگا ہ...</td>\n",
       "      <td>آپ کو یہ کہنا پڑے گا کہ میں یہ کہنے والا نہیں ...</td>\n",
       "      <td>I promise that whatever I tell you, I will nev...</td>\n",
       "      <td>تمہیں مجھے بتانے سے پہلے کبھی کسی کو وعدہ کرنا...</td>\n",
       "      <td>You must promise not to tell anyone what I tel...</td>\n",
       "    </tr>\n",
       "    <tr>\n",
       "      <th>2</th>\n",
       "      <td>Good place with average food quality</td>\n",
       "      <td>کھانے کے اوسط معیار کے ساتھ اچھی جگہ</td>\n",
       "      <td>خوبہ  مکمل  غذای  میان</td>\n",
       "      <td>Good place with average food.</td>\n",
       "      <td>اوسط کھانے کے معیار کے ساتھ اچھی جگہ\\n    &lt;end...</td>\n",
       "      <td>Good place with average food quality\\n    &lt;end...</td>\n",
       "    </tr>\n",
       "    <tr>\n",
       "      <th>3</th>\n",
       "      <td>And he lifted his father and mother upon the t...</td>\n",
       "      <td>(شہر میں داخل ہونے کے بعد) اس نے اپنے والدین ک...</td>\n",
       "      <td>وہ اپنے پڑھیاں اور مہم کی چھڑی پر چڑھ لیا، اور...</td>\n",
       "      <td>After entering the city, he picked up his pare...</td>\n",
       "      <td>11|10|اور اُس نے اپنے باپ اور ماں کو تخت پر بٹ...</td>\n",
       "      <td>He took his parents by the hand, and set them ...</td>\n",
       "    </tr>\n",
       "    <tr>\n",
       "      <th>4</th>\n",
       "      <td>What a great place for family safe zone</td>\n",
       "      <td>فیملی سیف زون کے لیے کتنی اچھی جگہ ہے۔</td>\n",
       "      <td>یہ ایک عائلی محفوظ گھڑی ہے</td>\n",
       "      <td>\"This is a good place for the family.\"</td>\n",
       "      <td>None\\n    &lt;end_of_turn&gt;\\n</td>\n",
       "      <td>What a nice place for family safe zone\\n    &lt;e...</td>\n",
       "    </tr>\n",
       "  </tbody>\n",
       "</table>\n",
       "</div>"
      ],
      "text/plain": [
       "                                          SENTENCES   \\\n",
       "0  Ambiance was amazing and so the staff. Quality...   \n",
       "1  You have to promise never to tell anyone what ...   \n",
       "2               Good place with average food quality   \n",
       "3  And he lifted his father and mother upon the t...   \n",
       "4            What a great place for family safe zone   \n",
       "\n",
       "                                             MEANING  \\\n",
       "0  ماحول حیرت انگیز تھا اور عملہ بھی۔ کھانے کا مع...   \n",
       "1  تم نے وعدہ کرنا ہے کہ جو میں تمہیں بتانے لگا ہ...   \n",
       "2               کھانے کے اوسط معیار کے ساتھ اچھی جگہ   \n",
       "3  (شہر میں داخل ہونے کے بعد) اس نے اپنے والدین ک...   \n",
       "4             فیملی سیف زون کے لیے کتنی اچھی جگہ ہے۔   \n",
       "\n",
       "                                         en_ur_2b_bl  \\\n",
       "0  فضاء بہت خوب تھا اورservants بھی بہت خوب تھے۔ ...   \n",
       "1  آپ کو یہ کہنا پڑے گا کہ میں یہ کہنے والا نہیں ...   \n",
       "2                           خوبہ  مکمل  غذای  میان     \n",
       "3  وہ اپنے پڑھیاں اور مہم کی چھڑی پر چڑھ لیا، اور...   \n",
       "4                        یہ ایک عائلی محفوظ گھڑی ہے    \n",
       "\n",
       "                                         ur_en_2b_bl  \\\n",
       "0  It was quite surprising, the atmosphere and th...   \n",
       "1  I promise that whatever I tell you, I will nev...   \n",
       "2                     Good place with average food.    \n",
       "3  After entering the city, he picked up his pare...   \n",
       "4            \"This is a good place for the family.\"    \n",
       "\n",
       "                                         en_ur_2b_ft  \\\n",
       "0  اچھا ماحول تھا اور عملہ بھی۔ کھانے کا معیار بھ...   \n",
       "1  تمہیں مجھے بتانے سے پہلے کبھی کسی کو وعدہ کرنا...   \n",
       "2  اوسط کھانے کے معیار کے ساتھ اچھی جگہ\\n    <end...   \n",
       "3  11|10|اور اُس نے اپنے باپ اور ماں کو تخت پر بٹ...   \n",
       "4                          None\\n    <end_of_turn>\\n   \n",
       "\n",
       "                                         ur_en_2b_ft  \n",
       "0  Ambiance was amazing and so was the staff.\\n  ...  \n",
       "1  You must promise not to tell anyone what I tel...  \n",
       "2  Good place with average food quality\\n    <end...  \n",
       "3  He took his parents by the hand, and set them ...  \n",
       "4  What a nice place for family safe zone\\n    <e...  "
      ]
     },
     "execution_count": 3,
     "metadata": {},
     "output_type": "execute_result"
    }
   ],
   "source": [
    "import pandas as pd\n",
    "\n",
    "test = pd.read_csv(\"test_data.csv\")\n",
    "test.head()"
   ]
  },
  {
   "cell_type": "markdown",
   "id": "4bc30c13",
   "metadata": {},
   "source": [
    "# BLEU score"
   ]
  },
  {
   "cell_type": "code",
   "execution_count": 4,
   "id": "74a58e46",
   "metadata": {},
   "outputs": [
    {
     "name": "stdout",
     "output_type": "stream",
     "text": [
      "['Good', 'place', 'with', 'average', 'food', 'quality']\n",
      "0.5789300674674098\n"
     ]
    }
   ],
   "source": [
    "from nltk.translate.bleu_score import sentence_bleu\n",
    "from tqdm import tqdm\n",
    "\n",
    "reference = \"Good place with average food quality\".split()\n",
    "candidate = \"Good place with average quality\".split()\n",
    "print(reference)\n",
    "score = sentence_bleu([reference], candidate)\n",
    "print(score)"
   ]
  },
  {
   "cell_type": "code",
   "execution_count": 5,
   "id": "1a65af81",
   "metadata": {},
   "outputs": [
    {
     "name": "stderr",
     "output_type": "stream",
     "text": [
      "0it [00:00, ?it/s]/workspace/venv/lib/python3.11/site-packages/nltk/translate/bleu_score.py:577: UserWarning: \n",
      "The hypothesis contains 0 counts of 2-gram overlaps.\n",
      "Therefore the BLEU score evaluates to 0, independently of\n",
      "how many N-gram overlaps of lower order it contains.\n",
      "Consider using lower n-gram order or use SmoothingFunction()\n",
      "  warnings.warn(_msg)\n",
      "/workspace/venv/lib/python3.11/site-packages/nltk/translate/bleu_score.py:577: UserWarning: \n",
      "The hypothesis contains 0 counts of 3-gram overlaps.\n",
      "Therefore the BLEU score evaluates to 0, independently of\n",
      "how many N-gram overlaps of lower order it contains.\n",
      "Consider using lower n-gram order or use SmoothingFunction()\n",
      "  warnings.warn(_msg)\n",
      "/workspace/venv/lib/python3.11/site-packages/nltk/translate/bleu_score.py:577: UserWarning: \n",
      "The hypothesis contains 0 counts of 4-gram overlaps.\n",
      "Therefore the BLEU score evaluates to 0, independently of\n",
      "how many N-gram overlaps of lower order it contains.\n",
      "Consider using lower n-gram order or use SmoothingFunction()\n",
      "  warnings.warn(_msg)\n",
      "604it [00:00, 4490.78it/s]"
     ]
    },
    {
     "name": "stdout",
     "output_type": "stream",
     "text": [
      "['غذای', 'کی', 'مذاق', 'مناسب', 'نہیں', 'ہے']\n",
      "['خوب', 'مکان', 'خوب', 'غذا', 'لیکن', 'مقدار', 'کم']\n",
      "['yesterday', 'میں', 'یہ', 'شال', 'خریدا']\n",
      "['خوبہ', 'ambient', 'زیادہ', 'کے', 'عین', 'عین', 'عین', 'عین', 'عین', 'عین', 'عین', 'عین', 'عین', 'عین', 'عین', 'عین', 'عین', 'عین', 'عین', 'عین', 'عین', 'عین', 'عین', 'عین', 'عین', 'عین', 'عین', 'عین', 'عین', 'عین', 'عین', 'عین', 'عین', 'عین', 'عین', 'عین', 'عین', 'عین', 'عین', 'عین', 'عین', 'عین', 'عین']\n",
      "['نامی', 'کے', 'مطابق', 'اور', 'پہلے', 'سے', 'تجربات', 'کے', 'مطابق']\n",
      "['محبت', 'کی', 'غذا']\n",
      "['مخنی', 'چیکن', 'ہر', 'کھان', 'میں', 'بہتر', 'ہے', 'پے', 'پڑھنے', 'کے', 'قیمتی']\n",
      "['پھولنے', 'والا']\n",
      "['اس', 'کا', 'تذکر', 'بہت', 'اچھا', 'ہے', 'میں', 'اسے', 'محبت', 'کرتا', 'ہوں', 'لیکن', 'کھڑی', 'ہوا', 'کے', 'لیے', 'ایک', 'بہت', 'ہی', 'معمولی', 'atmospher', 'ہے']\n",
      "['دپٹی', 'کے', 'جرم', 'اور', 'مجرموں', 'کے', 'علم', 'کے', 'ساتھ', 'young', 'man', 'کی', 'ہر', 'کلم', 'پر', 'وہ', 'اس', 'کی', 'صحت', 'پر', 'یقین', 'کر', 'رہا', 'تھا']\n",
      "['کے', 'بہترین', 'تذکیر']\n",
      "['غذا', 'بہت', 'خوب', 'تھی', 'ہر', 'چیز', 'ایک', 'بہترین', 'تھیں', 'وہی', 'چورے', 'بہت', 'خوب', 'ہیں', 'کیڑے', 'چھوٹے', 'کو', 'کوئی', 'تھیں', 'کلکل', 'بہت', 'خوب', 'تجربہ']\n"
     ]
    },
    {
     "name": "stderr",
     "output_type": "stream",
     "text": [
      "\n"
     ]
    }
   ],
   "source": [
    "from nltk.translate.bleu_score import sentence_bleu\n",
    "from tqdm import tqdm\n",
    "import re\n",
    "\n",
    "scores = []\n",
    "# Define the column you want to process and modify\n",
    "for index, row in tqdm(test.iterrows()):\n",
    "    try:\n",
    "        reference = re.sub(r'[^\\w\\s]', '', row[\"MEANING\"]).split() \n",
    "\n",
    "        candidate = re.sub(r'[^\\w\\s]', '', row[\"en_ur_2b_bl\"]).split()\n",
    "\n",
    "        score = sentence_bleu([reference], candidate)\n",
    "        scores.append(score)\n",
    "    except:\n",
    "        print(candidate)\n",
    "\n",
    "#     test.at[index, 'en_ur_2b_bl_bleu'] = score"
   ]
  },
  {
   "cell_type": "code",
   "execution_count": 6,
   "id": "05fe5072",
   "metadata": {},
   "outputs": [
    {
     "data": {
      "text/plain": [
       "0.015023230249557314"
      ]
     },
     "execution_count": 6,
     "metadata": {},
     "output_type": "execute_result"
    }
   ],
   "source": [
    "import statistics\n",
    "statistics.mean(scores)"
   ]
  },
  {
   "cell_type": "code",
   "execution_count": 7,
   "id": "2e5f3b0c",
   "metadata": {},
   "outputs": [
    {
     "data": {
      "image/png": "[encoded data removed]",
      "text/plain": [
       "<Figure size 640x480 with 1 Axes>"
      ]
     },
     "metadata": {},
     "output_type": "display_data"
    }
   ],
   "source": [
    "import seaborn as sns\n",
    "import matplotlib.pyplot as plt\n",
    "\n",
    "# Example data points\n",
    "data_points = scores\n",
    "# Plot a distribution using seaborn\n",
    "sns.histplot(data_points, bins=100, kde=True)\n",
    "\n",
    "# Adding labels and title\n",
    "plt.title('Distribution of Data Points with KDE')\n",
    "plt.xlabel('Value')\n",
    "plt.ylabel('Frequency')\n",
    "\n",
    "# Show the plot\n",
    "plt.show()"
   ]
  },
  {
   "cell_type": "code",
   "execution_count": 8,
   "id": "b9a136bf",
   "metadata": {},
   "outputs": [
    {
     "data": {
      "text/plain": [
       "1.0"
      ]
     },
     "execution_count": 8,
     "metadata": {},
     "output_type": "execute_result"
    }
   ],
   "source": [
    "max(scores)"
   ]
  },
  {
   "cell_type": "code",
   "execution_count": 9,
   "id": "c034e1dd",
   "metadata": {},
   "outputs": [
    {
     "data": {
      "text/plain": [
       "592"
      ]
     },
     "execution_count": 9,
     "metadata": {},
     "output_type": "execute_result"
    }
   ],
   "source": [
    "len(scores)"
   ]
  },
  {
   "cell_type": "code",
   "execution_count": 10,
   "id": "13a353c2",
   "metadata": {},
   "outputs": [
    {
     "data": {
      "text/plain": [
       "Index(['SENTENCES ', 'MEANING', 'en_ur_2b_bl', 'ur_en_2b_bl', 'en_ur_2b_ft',\n",
       "       'ur_en_2b_ft'],\n",
       "      dtype='object')"
      ]
     },
     "execution_count": 10,
     "metadata": {},
     "output_type": "execute_result"
    }
   ],
   "source": [
    "test.columns"
   ]
  },
  {
   "cell_type": "code",
   "execution_count": 11,
   "id": "0d5df823",
   "metadata": {},
   "outputs": [
    {
     "name": "stderr",
     "output_type": "stream",
     "text": [
      "0it [00:00, ?it/s]/workspace/venv/lib/python3.11/site-packages/nltk/translate/bleu_score.py:577: UserWarning: \n",
      "The hypothesis contains 0 counts of 3-gram overlaps.\n",
      "Therefore the BLEU score evaluates to 0, independently of\n",
      "how many N-gram overlaps of lower order it contains.\n",
      "Consider using lower n-gram order or use SmoothingFunction()\n",
      "  warnings.warn(_msg)\n",
      "/workspace/venv/lib/python3.11/site-packages/nltk/translate/bleu_score.py:577: UserWarning: \n",
      "The hypothesis contains 0 counts of 4-gram overlaps.\n",
      "Therefore the BLEU score evaluates to 0, independently of\n",
      "how many N-gram overlaps of lower order it contains.\n",
      "Consider using lower n-gram order or use SmoothingFunction()\n",
      "  warnings.warn(_msg)\n",
      "/workspace/venv/lib/python3.11/site-packages/nltk/translate/bleu_score.py:577: UserWarning: \n",
      "The hypothesis contains 0 counts of 2-gram overlaps.\n",
      "Therefore the BLEU score evaluates to 0, independently of\n",
      "how many N-gram overlaps of lower order it contains.\n",
      "Consider using lower n-gram order or use SmoothingFunction()\n",
      "  warnings.warn(_msg)\n",
      "604it [00:00, 6298.79it/s]"
     ]
    },
    {
     "name": "stdout",
     "output_type": "stream",
     "text": [
      "['Eat', 'food']\n"
     ]
    },
    {
     "name": "stderr",
     "output_type": "stream",
     "text": [
      "\n"
     ]
    }
   ],
   "source": [
    "from nltk.translate.bleu_score import sentence_bleu\n",
    "from tqdm import tqdm\n",
    "\n",
    "scores = []\n",
    "# Define the column you want to process and modify\n",
    "for index, row in tqdm(test.iterrows()):\n",
    "    try:\n",
    "        reference = re.sub(r'[^\\w\\s]', '', row[\"SENTENCES \"]).split() \n",
    "\n",
    "        candidate = re.sub(r'[^\\w\\s]', '', row[\"ur_en_2b_bl\"]).split()\n",
    "\n",
    "\n",
    "        score = sentence_bleu([reference], candidate)\n",
    "        scores.append(score)\n",
    "    except:\n",
    "        print(candidate)\n",
    "\n",
    "#     test.at[index, 'en_ur_2b_bl_bleu'] = score"
   ]
  },
  {
   "cell_type": "code",
   "execution_count": 12,
   "id": "619c923a",
   "metadata": {},
   "outputs": [
    {
     "data": {
      "text/plain": [
       "0.07307238475398786"
      ]
     },
     "execution_count": 12,
     "metadata": {},
     "output_type": "execute_result"
    }
   ],
   "source": [
    "import statistics\n",
    "statistics.mean(scores)"
   ]
  },
  {
   "cell_type": "code",
   "execution_count": 13,
   "id": "a86bebc8",
   "metadata": {},
   "outputs": [
    {
     "data": {
      "image/png": "[encoded data removed]",
      "text/plain": [
       "<Figure size 640x480 with 1 Axes>"
      ]
     },
     "metadata": {},
     "output_type": "display_data"
    }
   ],
   "source": [
    "import seaborn as sns\n",
    "import matplotlib.pyplot as plt\n",
    "\n",
    "# Example data points\n",
    "data_points = scores\n",
    "# Plot a distribution using seaborn\n",
    "sns.histplot(data_points, bins=100, kde=True)\n",
    "\n",
    "# Adding labels and title\n",
    "plt.title('Distribution of Data Points with KDE')\n",
    "plt.xlabel('Value')\n",
    "plt.ylabel('Frequency')\n",
    "\n",
    "# Show the plot\n",
    "plt.show()"
   ]
  },
  {
   "cell_type": "markdown",
   "id": "cf0de13b",
   "metadata": {},
   "source": [
    "# Finetune Eval en-ur"
   ]
  },
  {
   "cell_type": "code",
   "execution_count": 14,
   "id": "52acf047",
   "metadata": {},
   "outputs": [
    {
     "name": "stderr",
     "output_type": "stream",
     "text": [
      "0it [00:00, ?it/s]/workspace/venv/lib/python3.11/site-packages/nltk/translate/bleu_score.py:577: UserWarning: \n",
      "The hypothesis contains 0 counts of 3-gram overlaps.\n",
      "Therefore the BLEU score evaluates to 0, independently of\n",
      "how many N-gram overlaps of lower order it contains.\n",
      "Consider using lower n-gram order or use SmoothingFunction()\n",
      "  warnings.warn(_msg)\n",
      "/workspace/venv/lib/python3.11/site-packages/nltk/translate/bleu_score.py:577: UserWarning: \n",
      "The hypothesis contains 0 counts of 4-gram overlaps.\n",
      "Therefore the BLEU score evaluates to 0, independently of\n",
      "how many N-gram overlaps of lower order it contains.\n",
      "Consider using lower n-gram order or use SmoothingFunction()\n",
      "  warnings.warn(_msg)\n",
      "/workspace/venv/lib/python3.11/site-packages/nltk/translate/bleu_score.py:577: UserWarning: \n",
      "The hypothesis contains 0 counts of 2-gram overlaps.\n",
      "Therefore the BLEU score evaluates to 0, independently of\n",
      "how many N-gram overlaps of lower order it contains.\n",
      "Consider using lower n-gram order or use SmoothingFunction()\n",
      "  warnings.warn(_msg)\n",
      "604it [00:00, 4647.93it/s]"
     ]
    },
    {
     "name": "stdout",
     "output_type": "stream",
     "text": [
      "['None']\n",
      "['اچھی', 'جگہ', 'اچھا', 'کھانا', 'لیکن', 'مقدار', 'کے', 'لحاظ', 'سے', 'کم']\n",
      "['میں', 'نے', 'کل', 'اس', 'سٹیک', 'خریدا']\n",
      "['اچھا', 'ماحول', 'بہترین', 'معیار', 'اقتصادی']\n",
      "['None']\n",
      "['بہت', 'اچھا', 'کھانا']\n",
      "['مچھنی', 'چکن', 'اچھے', 'تمام', 'پکوان', 'ہیں', 'جو', 'پیسے', 'کے', 'قابل', 'ہیں']\n",
      "['مگر', 'بھولو']\n",
      "['None']\n",
      "['None', 'None', 'None', 'None', 'None', 'None', 'None', 'None', 'None', 'None', 'None', 'None', 'None', 'None', 'None', 'None', 'None', 'None', 'None', 'None', 'None', 'None', 'None', 'None', 'None', 'None', 'None', 'None', 'None', 'None', 'None', 'None', 'None', 'None', 'None', 'None', 'None', 'None', 'None', 'None', 'None', 'None', 'None']\n",
      "['بہترین', 'ذائقہ']\n",
      "['لڑکے', 'کے', 'کھانے', 'بہت', 'اچھے', 'تھے', 'ہر', 'چیز', 'کا', 'ذائقہ', 'بالکل', 'ٹھیک', 'ہے', 'ان', 'کے', 'جو', 'چٹنیاں', 'ڈالتے', 'ہیں', 'وہ', 'غیر', 'معمولی', 'ہیں', 'چوتھائی', 'چکن', 'کی', 'سرونگ', 'کا', 'سائز', 'تھوڑا', 'مایوس', 'کن', 'ہے', 'مجموعی', 'طور', 'پر', 'اچھا', 'تجربہ']\n"
     ]
    },
    {
     "name": "stderr",
     "output_type": "stream",
     "text": [
      "\n"
     ]
    }
   ],
   "source": [
    "from nltk.translate.bleu_score import sentence_bleu\n",
    "from tqdm import tqdm\n",
    "import re\n",
    "\n",
    "scores = []\n",
    "# Define the column you want to process and modify\n",
    "for index, row in tqdm(test.iterrows()):\n",
    "    try:\n",
    "        reference = re.sub(r'[^\\w\\s]', '', row[\"MEANING\"]).split() \n",
    "\n",
    "#         candidate = re.sub(r'[^\\w\\s]', '', row[\"en_ur_2b_ft\"]).split()\n",
    "        candidate = re.sub(r'[^\\w\\s]', '', row[\"en_ur_2b_ft\"].replace('\\n ', '').replace(' \\n', '').replace('\\n', '').replace('<end_of_turn>', '')).split()\n",
    "\n",
    "\n",
    "        score = sentence_bleu([reference], candidate)\n",
    "        scores.append(score)\n",
    "    except:\n",
    "        print(candidate)\n",
    "\n",
    "#     test.at[index, 'en_ur_2b_bl_bleu'] = score"
   ]
  },
  {
   "cell_type": "code",
   "execution_count": 15,
   "id": "58c8dee7",
   "metadata": {},
   "outputs": [
    {
     "data": {
      "text/plain": [
       "0.2042004950801084"
      ]
     },
     "execution_count": 15,
     "metadata": {},
     "output_type": "execute_result"
    }
   ],
   "source": [
    "import statistics\n",
    "statistics.mean(scores)"
   ]
  },
  {
   "cell_type": "code",
   "execution_count": 16,
   "id": "f3ceeb0e",
   "metadata": {},
   "outputs": [
    {
     "data": {
      "image/png": "[encoded data removed]",
      "text/plain": [
       "<Figure size 640x480 with 1 Axes>"
      ]
     },
     "metadata": {},
     "output_type": "display_data"
    }
   ],
   "source": [
    "import seaborn as sns\n",
    "import matplotlib.pyplot as plt\n",
    "\n",
    "# Example data points\n",
    "data_points = scores\n",
    "# Plot a distribution using seaborn\n",
    "sns.histplot(data_points, bins=100, kde=True)\n",
    "\n",
    "# Adding labels and title\n",
    "plt.title('Distribution of Data Points with KDE')\n",
    "plt.xlabel('Value')\n",
    "plt.ylabel('Frequency')\n",
    "\n",
    "# Show the plot\n",
    "plt.show()"
   ]
  },
  {
   "cell_type": "markdown",
   "id": "a086383f",
   "metadata": {},
   "source": [
    "# Finetune eval ur_en"
   ]
  },
  {
   "cell_type": "code",
   "execution_count": 18,
   "id": "edbee5cd",
   "metadata": {},
   "outputs": [
    {
     "name": "stderr",
     "output_type": "stream",
     "text": [
      "0it [00:00, ?it/s]/workspace/venv/lib/python3.11/site-packages/nltk/translate/bleu_score.py:577: UserWarning: \n",
      "The hypothesis contains 0 counts of 4-gram overlaps.\n",
      "Therefore the BLEU score evaluates to 0, independently of\n",
      "how many N-gram overlaps of lower order it contains.\n",
      "Consider using lower n-gram order or use SmoothingFunction()\n",
      "  warnings.warn(_msg)\n",
      "/workspace/venv/lib/python3.11/site-packages/nltk/translate/bleu_score.py:577: UserWarning: \n",
      "The hypothesis contains 0 counts of 3-gram overlaps.\n",
      "Therefore the BLEU score evaluates to 0, independently of\n",
      "how many N-gram overlaps of lower order it contains.\n",
      "Consider using lower n-gram order or use SmoothingFunction()\n",
      "  warnings.warn(_msg)\n",
      "/workspace/venv/lib/python3.11/site-packages/nltk/translate/bleu_score.py:577: UserWarning: \n",
      "The hypothesis contains 0 counts of 2-gram overlaps.\n",
      "Therefore the BLEU score evaluates to 0, independently of\n",
      "how many N-gram overlaps of lower order it contains.\n",
      "Consider using lower n-gram order or use SmoothingFunction()\n",
      "  warnings.warn(_msg)\n",
      "604it [00:00, 6916.91it/s]"
     ]
    },
    {
     "name": "stdout",
     "output_type": "stream",
     "text": [
      "['Awesome', 'food']\n"
     ]
    },
    {
     "name": "stderr",
     "output_type": "stream",
     "text": [
      "\n"
     ]
    }
   ],
   "source": [
    "from nltk.translate.bleu_score import sentence_bleu\n",
    "from tqdm import tqdm\n",
    "\n",
    "scores = []\n",
    "# Define the column you want to process and modify\n",
    "for index, row in tqdm(test.iterrows()):\n",
    "    try:\n",
    "        reference = re.sub(r'[^\\w\\s]', '', row[\"SENTENCES \"]).split() \n",
    "\n",
    "        candidate = re.sub(r'[^\\w\\s]', '', row[\"ur_en_2b_ft\"].replace('\\n ', '').replace(' \\n', '').replace('\\n', '').replace('<end_of_turn>', '')).split()\n",
    "\n",
    "\n",
    "        score = sentence_bleu([reference], candidate)\n",
    "        scores.append(score)\n",
    "    except:\n",
    "        print(candidate)\n",
    "\n",
    "#     test.at[index, 'en_ur_2b_bl_bleu'] = score"
   ]
  },
  {
   "cell_type": "code",
   "execution_count": 19,
   "id": "83db4622",
   "metadata": {},
   "outputs": [
    {
     "data": {
      "text/plain": [
       "0.25118298661050187"
      ]
     },
     "execution_count": 19,
     "metadata": {},
     "output_type": "execute_result"
    }
   ],
   "source": [
    "import statistics\n",
    "statistics.mean(scores)"
   ]
  },
  {
   "cell_type": "code",
   "execution_count": 20,
   "id": "931d679d",
   "metadata": {},
   "outputs": [
    {
     "data": {
      "image/png": "[encoded data removed]",
      "text/plain": [
       "<Figure size 640x480 with 1 Axes>"
      ]
     },
     "metadata": {},
     "output_type": "display_data"
    }
   ],
   "source": [
    "import seaborn as sns\n",
    "import matplotlib.pyplot as plt\n",
    "\n",
    "# Example data points\n",
    "data_points = scores\n",
    "# Plot a distribution using seaborn\n",
    "sns.histplot(data_points, bins=100, kde=True)\n",
    "\n",
    "# Adding labels and title\n",
    "plt.title('Distribution of Data Points with KDE')\n",
    "plt.xlabel('Value')\n",
    "plt.ylabel('Frequency')\n",
    "\n",
    "# Show the plot\n",
    "plt.show()"
   ]
  },
  {
   "cell_type": "code",
   "execution_count": null,
   "id": "e4ef167c",
   "metadata": {},
   "outputs": [],
   "source": []
  }
 ],
 "metadata": {
  "kernelspec": {
   "display_name": "Python 3 (ipykernel)",
   "language": "python",
   "name": "python3"
  },
  "language_info": {
   "codemirror_mode": {
    "name": "ipython",
    "version": 3
   },
   "file_extension": ".py",
   "mimetype": "text/x-python",
   "name": "python",
   "nbconvert_exporter": "python",
   "pygments_lexer": "ipython3",
   "version": "3.11.10"
  }
 },
 "nbformat": 4,
 "nbformat_minor": 5
}
